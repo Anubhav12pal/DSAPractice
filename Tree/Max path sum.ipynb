{
 "cells": [
  {
   "cell_type": "code",
   "execution_count": 1,
   "id": "0ad13362",
   "metadata": {},
   "outputs": [],
   "source": [
    "def f(node, maxi):\n",
    "    \n",
    "    if node == None:\n",
    "        return 0\n",
    "    \n",
    "    ls = f(node.left, maxi)\n",
    "    rs = f(node.right, maxi)\n",
    "    \n",
    "    maxi = max(maxi , ls + rs + node.val)\n",
    "    \n",
    "    return node.val  + max(ls, rs)"
   ]
  },
  {
   "cell_type": "code",
   "execution_count": 2,
   "id": "39a4aab5",
   "metadata": {},
   "outputs": [
    {
     "data": {
      "text/plain": [
       "'\\nCheck if theya re identical\\n\\n\\n\\n'"
      ]
     },
     "execution_count": 2,
     "metadata": {},
     "output_type": "execute_result"
    }
   ],
   "source": [
    "'''\n",
    "Check if theya re identical\n",
    "\n",
    "\n",
    "\n",
    "'''"
   ]
  },
  {
   "cell_type": "code",
   "execution_count": 5,
   "id": "a20f69ea",
   "metadata": {},
   "outputs": [],
   "source": [
    "def ff(node, noode):\n",
    "    \n",
    "    if node == None or noode == None:\n",
    "        return node == noode\n",
    "        \n",
    "    return (p.val == q.val) and ff(node.left, noode.left) and ff(node.right, nooderight)"
   ]
  },
  {
   "cell_type": "code",
   "execution_count": null,
   "id": "08192fdc",
   "metadata": {},
   "outputs": [],
   "source": []
  },
  {
   "cell_type": "code",
   "execution_count": null,
   "id": "d3535398",
   "metadata": {},
   "outputs": [],
   "source": []
  }
 ],
 "metadata": {
  "kernelspec": {
   "display_name": "Python 3 (ipykernel)",
   "language": "python",
   "name": "python3"
  },
  "language_info": {
   "codemirror_mode": {
    "name": "ipython",
    "version": 3
   },
   "file_extension": ".py",
   "mimetype": "text/x-python",
   "name": "python",
   "nbconvert_exporter": "python",
   "pygments_lexer": "ipython3",
   "version": "3.11.4"
  }
 },
 "nbformat": 4,
 "nbformat_minor": 5
}
