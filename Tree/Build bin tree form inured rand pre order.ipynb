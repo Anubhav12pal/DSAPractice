{
 "cells": [
  {
   "cell_type": "code",
   "execution_count": 1,
   "id": "8e1f448f",
   "metadata": {},
   "outputs": [],
   "source": [
    "# Definition for a binary tree node.\n",
    "# class TreeNode(object):\n",
    "#     def __init__(self, val=0, left=None, right=None):\n",
    "#         self.val = val\n",
    "#         self.left = left\n",
    "#         self.right = right\n",
    "class Solution(object):\n",
    "    def buildTree(self, preorder, inorder):\n",
    "        \"\"\"\n",
    "        :type preorder: List[int]\n",
    "        :type inorder: List[int]\n",
    "        :rtype: TreeNode\n",
    "        \"\"\"\n",
    "        m = {}\n",
    "\n",
    "        # Map each value to its index in inorder\n",
    "        for i in range(len(inorder)):\n",
    "            m[inorder[i]] = i\n",
    "        \n",
    "        # Call helper function to build the tree\n",
    "        root =  self.buildTreeHelper(preorder, 0, len(preorder) - 1, inorder, 0, len(inorder) - 1, m)\n",
    "        return root\n",
    "    \n",
    "    def buildTreeHelper(self, pre, s1, e1, ino, s2, e2, m):\n",
    "        if s1 > e1 or s2 > e2:\n",
    "            return None  # Fix to return None instead of null\n",
    "        \n",
    "        # Create root from the current node in preorder\n",
    "        root = TreeNode(pre[s1])\n",
    "        inroot = m[root.val]  # Find the index of the root in inorder traversal\n",
    "        numl = inroot - s2  # Number of nodes in the left subtree\n",
    "\n",
    "        # Recursively build the left and right subtrees\n",
    "        root.left = self.buildTreeHelper(pre, s1 + 1, s1 + numl, ino, s2, inroot - 1, m)\n",
    "        root.right = self.buildTreeHelper(pre, s1 + numl + 1, e1, ino, inroot + 1, e2, m)\n",
    "\n",
    "        return root\n"
   ]
  },
  {
   "cell_type": "code",
   "execution_count": null,
   "id": "25e0232f",
   "metadata": {},
   "outputs": [],
   "source": []
  }
 ],
 "metadata": {
  "kernelspec": {
   "display_name": "Python 3 (ipykernel)",
   "language": "python",
   "name": "python3"
  },
  "language_info": {
   "codemirror_mode": {
    "name": "ipython",
    "version": 3
   },
   "file_extension": ".py",
   "mimetype": "text/x-python",
   "name": "python",
   "nbconvert_exporter": "python",
   "pygments_lexer": "ipython3",
   "version": "3.11.4"
  }
 },
 "nbformat": 4,
 "nbformat_minor": 5
}
