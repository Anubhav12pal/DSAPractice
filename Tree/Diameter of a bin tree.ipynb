{
 "cells": [
  {
   "cell_type": "code",
   "execution_count": 1,
   "id": "414d8edb",
   "metadata": {},
   "outputs": [
    {
     "data": {
      "text/plain": [
       "'\\n\\nLongest path bw any 2 nodes, and path does not need to pass through the root\\n\\n\\n'"
      ]
     },
     "execution_count": 1,
     "metadata": {},
     "output_type": "execute_result"
    }
   ],
   "source": [
    "'''\n",
    "\n",
    "Longest path bw any 2 nodes, and path does not need to pass through the root\n",
    "\n",
    "\n",
    "'''"
   ]
  },
  {
   "cell_type": "code",
   "execution_count": 2,
   "id": "1b51431b",
   "metadata": {},
   "outputs": [],
   "source": [
    "def f(node, maxi):\n",
    "    \n",
    "    if node == None:\n",
    "        return 0\n",
    "    \n",
    "    lh = f(node.left, maxi)\n",
    "    rh = f(node.right, maxi)\n",
    "    \n",
    "    maxi = max(maxi , lh + rh)\n",
    "    \n",
    "    return 1 + max(lh, rh)"
   ]
  },
  {
   "cell_type": "code",
   "execution_count": null,
   "id": "d3f5ff53",
   "metadata": {},
   "outputs": [],
   "source": []
  }
 ],
 "metadata": {
  "kernelspec": {
   "display_name": "Python 3 (ipykernel)",
   "language": "python",
   "name": "python3"
  },
  "language_info": {
   "codemirror_mode": {
    "name": "ipython",
    "version": 3
   },
   "file_extension": ".py",
   "mimetype": "text/x-python",
   "name": "python",
   "nbconvert_exporter": "python",
   "pygments_lexer": "ipython3",
   "version": "3.11.4"
  }
 },
 "nbformat": 4,
 "nbformat_minor": 5
}
