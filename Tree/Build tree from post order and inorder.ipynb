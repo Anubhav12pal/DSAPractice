{
 "cells": [
  {
   "cell_type": "code",
   "execution_count": 1,
   "id": "f7cbed32",
   "metadata": {},
   "outputs": [],
   "source": [
    "# Definition for a binary tree node.\n",
    "# class TreeNode(object):\n",
    "#     def __init__(self, val=0, left=None, right=None):\n",
    "#         self.val = val\n",
    "#         self.left = left\n",
    "#         self.right = right\n",
    "class Solution(object):\n",
    "    def buildTree(self, inorder, postorder):\n",
    "        \"\"\"\n",
    "        :type inorder: List[int]\n",
    "        :type postorder: List[int]\n",
    "        :rtype: TreeNode\n",
    "\n",
    "        9 3 15 20 7\n",
    "        9 15 7 20 3\n",
    "\n",
    "        root = 3\n",
    "        for 3 the left is 9 \n",
    "        right =  15 to 7\n",
    "\n",
    "        post :\n",
    "        \n",
    "        \"\"\"\n",
    "        m = {}\n",
    "        for i in range(len(inorder)):\n",
    "            m[inorder[i]] = i\n",
    "        ans = self.helper(postorder, 0, len(postorder)-1, inorder, 0, len(inorder) - 1, m)\n",
    "        return ans\n",
    "\n",
    "    def helper(self, post, s1, e1, ino, s2, e2, m):\n",
    "\n",
    "        if s1 > e1 or s2 > e2:\n",
    "            return None\n",
    "        \n",
    "        root = TreeNode(post[e1])\n",
    "        inroot = m[root.val]\n",
    "        numleft = inroot - s2\n",
    "\n",
    "        root.left = self.helper(post, s1, s1 + numleft - 1, ino, s2, inroot - 1, m)\n",
    "        root.right = self.helper(post, s1 + numleft, e1 - 1, ino, inroot + 1, e2, m)\n",
    "        \n",
    "        return root"
   ]
  },
  {
   "cell_type": "code",
   "execution_count": 2,
   "id": "b1bfb421",
   "metadata": {},
   "outputs": [
    {
     "data": {
      "text/plain": [
       "'\\nIn order and post order are given we can divide the tree using the inorder root if we find the roo there \\nAll elements to the left of root are left tre adn right are right tree\\n\\nin post order the root is the last element as left right root is followed so we divide and find the tree\\n\\n\\n\\n'"
      ]
     },
     "execution_count": 2,
     "metadata": {},
     "output_type": "execute_result"
    }
   ],
   "source": [
    "'''\n",
    "In order and post order are given we can divide the tree using the inorder root if we find the roo there \n",
    "All elements to the left of root are left tre adn right are right tree\n",
    "\n",
    "in post order the root is the last element as left right root is followed so we divide and find the tree\n",
    "\n",
    "\n",
    "\n",
    "'''"
   ]
  },
  {
   "cell_type": "code",
   "execution_count": null,
   "id": "b96ca44b",
   "metadata": {},
   "outputs": [],
   "source": []
  }
 ],
 "metadata": {
  "kernelspec": {
   "display_name": "Python 3 (ipykernel)",
   "language": "python",
   "name": "python3"
  },
  "language_info": {
   "codemirror_mode": {
    "name": "ipython",
    "version": 3
   },
   "file_extension": ".py",
   "mimetype": "text/x-python",
   "name": "python",
   "nbconvert_exporter": "python",
   "pygments_lexer": "ipython3",
   "version": "3.11.4"
  }
 },
 "nbformat": 4,
 "nbformat_minor": 5
}
