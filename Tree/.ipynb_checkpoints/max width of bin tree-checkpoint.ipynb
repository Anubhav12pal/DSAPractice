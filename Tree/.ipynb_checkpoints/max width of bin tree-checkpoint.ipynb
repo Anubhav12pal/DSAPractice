{
 "cells": [
  {
   "cell_type": "code",
   "execution_count": 1,
   "id": "8f9daa35",
   "metadata": {},
   "outputs": [],
   "source": [
    "# Definition for a binary tree node.\n",
    "# class TreeNode(object):\n",
    "#     def __init__(self, val=0, left=None, right=None):\n",
    "#         self.val = val\n",
    "#         self.left = left\n",
    "#         self.right = right\n",
    "class Solution(object):\n",
    "    def widthOfBinaryTree(self, root):\n",
    "        \"\"\"\n",
    "        :type root: TreeNode\n",
    "        :rtype: int\n",
    "        \"\"\"\n",
    "        \n",
    "        if root == None:\n",
    "            return 0\n",
    "        \n",
    "        ans = 0\n",
    "\n",
    "        q = []\n",
    "        q.append([root, 0])\n",
    "\n",
    "        while q:\n",
    "\n",
    "            size = len(q)\n",
    "            mi = q[0][1]\n",
    "\n",
    "            first = None\n",
    "            last = None\n",
    "\n",
    "            for i in range(size):\n",
    "                cur = q[0][1] - mi\n",
    "                node = q[0][0]\n",
    "                q.pop(0)\n",
    "\n",
    "                if i == 0:\n",
    "                    first = cur\n",
    "                if i == size - 1:\n",
    "                    last = cur\n",
    "                if node.left:\n",
    "                    q.append([node.left, cur*2+1])\n",
    "                if node.right:\n",
    "                    q.append([node.right, cur*2+2])\n",
    "            ans = max(ans, last - first +1)\n",
    "        return ans\n",
    "\n",
    "\n"
   ]
  },
  {
   "cell_type": "code",
   "execution_count": 2,
   "id": "45500be3",
   "metadata": {},
   "outputs": [
    {
     "data": {
      "text/plain": [
       "'\\n\\n\\nGiven the root of a binary tree, return the maximum width of the given tree.\\n\\nThe maximum width of a tree is the maximum width among all levels.\\n\\nThe width of one level is defined as the length between the end-nodes (the leftmost and rightmost non-null nodes), where the null nodes between the end-nodes that would be present in a complete binary tree extending down to that level are also counted into the length calculation.\\n\\nIt is guaranteed that the answer will in the range of a 32-bit signed integer.\\n\\n \\n\\nExample 1:\\n\\n\\nInput: root = [1,3,2,5,3,null,9]\\nOutput: 4\\nExplanation: The maximum width exists in the third level with length 4 (5,3,null,9).\\nExample 2:\\n\\n\\nInput: root = [1,3,2,5,null,null,9,6,null,7]\\nOutput: 7\\nExplanation: The maximum width exists in the fourth level with length 7 (6,null,null,null,null,null,7).\\nExample 3:\\n\\n\\nInput: root = [1,3,2,5]\\nOutput: 2\\nExplanation: The maximum width exists in the second level with length 2 (3,2).\\n \\n\\nConstraints:\\n\\nThe number of nodes in the tree is in the range [1, 3000].\\n-100 <= Node.val <= 100'"
      ]
     },
     "execution_count": 2,
     "metadata": {},
     "output_type": "execute_result"
    }
   ],
   "source": [
    "'''\n",
    "\n",
    "\n",
    "Given the root of a binary tree, return the maximum width of the given tree.\n",
    "\n",
    "The maximum width of a tree is the maximum width among all levels.\n",
    "\n",
    "The width of one level is defined as the length between the end-nodes (the leftmost and rightmost non-null nodes), where the null nodes between the end-nodes that would be present in a complete binary tree extending down to that level are also counted into the length calculation.\n",
    "\n",
    "It is guaranteed that the answer will in the range of a 32-bit signed integer.\n",
    "\n",
    " \n",
    "\n",
    "Example 1:\n",
    "\n",
    "\n",
    "Input: root = [1,3,2,5,3,null,9]\n",
    "Output: 4\n",
    "Explanation: The maximum width exists in the third level with length 4 (5,3,null,9).\n",
    "Example 2:\n",
    "\n",
    "\n",
    "Input: root = [1,3,2,5,null,null,9,6,null,7]\n",
    "Output: 7\n",
    "Explanation: The maximum width exists in the fourth level with length 7 (6,null,null,null,null,null,7).\n",
    "Example 3:\n",
    "\n",
    "\n",
    "Input: root = [1,3,2,5]\n",
    "Output: 2\n",
    "Explanation: The maximum width exists in the second level with length 2 (3,2).\n",
    " \n",
    "\n",
    "Constraints:\n",
    "\n",
    "The number of nodes in the tree is in the range [1, 3000].\n",
    "-100 <= Node.val <= 100'''"
   ]
  },
  {
   "cell_type": "code",
   "execution_count": null,
   "id": "96acffd8",
   "metadata": {},
   "outputs": [],
   "source": []
  }
 ],
 "metadata": {
  "kernelspec": {
   "display_name": "Python 3 (ipykernel)",
   "language": "python",
   "name": "python3"
  },
  "language_info": {
   "codemirror_mode": {
    "name": "ipython",
    "version": 3
   },
   "file_extension": ".py",
   "mimetype": "text/x-python",
   "name": "python",
   "nbconvert_exporter": "python",
   "pygments_lexer": "ipython3",
   "version": "3.11.4"
  }
 },
 "nbformat": 4,
 "nbformat_minor": 5
}
