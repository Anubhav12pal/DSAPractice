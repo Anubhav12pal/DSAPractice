{
 "cells": [
  {
   "cell_type": "code",
   "execution_count": 2,
   "id": "0aed1f52",
   "metadata": {},
   "outputs": [],
   "source": [
    "# Definition for a binary tree node.\n",
    "# class TreeNode(object):\n",
    "#     def __init__(self, val=0, left=None, right=None):\n",
    "#         self.val = val\n",
    "#         self.left = left\n",
    "#         self.right = right\n",
    "class Solution(object):\n",
    "    def verticalTraversal(self, root):\n",
    "        \"\"\"\n",
    "        :type root: Optional[TreeNode]\n",
    "        :rtype: List[List[int]]\n",
    "\n",
    "\n",
    "\n",
    "\n",
    "        \"\"\"\n",
    "        \n",
    "\n",
    "        m = {}\n",
    "\n",
    "        q = [(root, 0, 0)]\n",
    "\n",
    "\n",
    "        while q:\n",
    "\n",
    "\n",
    "            siz = len(q)\n",
    "\n",
    "            for i in range(siz):\n",
    "\n",
    "                tup = q.pop()\n",
    "                node = tup[0]\n",
    "                index = tup[1]\n",
    "                depth = tup[2]\n",
    "\n",
    "                if index not in m:\n",
    "                    m[index] = []\n",
    "                m[index].append((depth,node.val))\n",
    "\n",
    "                if node.left:\n",
    "                    q.append((node.left, index - 1, depth + 1))\n",
    "                if node.right:\n",
    "                    q.append((node.right, index + 1, depth + 1))\n",
    "        ans = []\n",
    "        for hd in sorted(m.keys()):\n",
    "            # Sort by depth, then by value\n",
    "            column = sorted(m[hd], key=lambda x: (x[0], x[1]))\n",
    "            ans.append([val for _, val in column])\n",
    "\n",
    "        return ans\n",
    "        \n",
    "\n",
    "\n",
    "\n"
   ]
  },
  {
   "cell_type": "code",
   "execution_count": null,
   "id": "78eacb91",
   "metadata": {},
   "outputs": [],
   "source": []
  }
 ],
 "metadata": {
  "kernelspec": {
   "display_name": "Python 3 (ipykernel)",
   "language": "python",
   "name": "python3"
  },
  "language_info": {
   "codemirror_mode": {
    "name": "ipython",
    "version": 3
   },
   "file_extension": ".py",
   "mimetype": "text/x-python",
   "name": "python",
   "nbconvert_exporter": "python",
   "pygments_lexer": "ipython3",
   "version": "3.11.4"
  }
 },
 "nbformat": 4,
 "nbformat_minor": 5
}
