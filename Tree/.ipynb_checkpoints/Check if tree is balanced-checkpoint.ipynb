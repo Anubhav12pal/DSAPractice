{
 "cells": [
  {
   "cell_type": "code",
   "execution_count": 3,
   "id": "00490a33",
   "metadata": {},
   "outputs": [],
   "source": [
    "def f(node):\n",
    "    \n",
    "    if node == None:\n",
    "        return 0\n",
    "    \n",
    "    lh = f(node.left)\n",
    "    if lh == -1:\n",
    "        return -1\n",
    "    rh = f(node.right)\n",
    "    \n",
    "    if rh == -1:\n",
    "        return -1\n",
    "    \n",
    "    if abs(lh - rh) > 1:\n",
    "        return -1\n",
    "    return max(l,r) + 1"
   ]
  },
  {
   "cell_type": "code",
   "execution_count": 4,
   "id": "2b93b6cd",
   "metadata": {},
   "outputs": [
    {
     "data": {
      "text/plain": [
       "'\\n\\ncheck if the answer is -1 then mnot a balanced tree otherwise a balanced\\n\\n\\n'"
      ]
     },
     "execution_count": 4,
     "metadata": {},
     "output_type": "execute_result"
    }
   ],
   "source": [
    "'''\n",
    "\n",
    "check if the answer is -1 then mnot a balanced tree otherwise a balanced\n",
    "\n",
    "\n",
    "'''"
   ]
  },
  {
   "cell_type": "code",
   "execution_count": null,
   "id": "613f757d",
   "metadata": {},
   "outputs": [],
   "source": []
  }
 ],
 "metadata": {
  "kernelspec": {
   "display_name": "Python 3 (ipykernel)",
   "language": "python",
   "name": "python3"
  },
  "language_info": {
   "codemirror_mode": {
    "name": "ipython",
    "version": 3
   },
   "file_extension": ".py",
   "mimetype": "text/x-python",
   "name": "python",
   "nbconvert_exporter": "python",
   "pygments_lexer": "ipython3",
   "version": "3.11.4"
  }
 },
 "nbformat": 4,
 "nbformat_minor": 5
}
