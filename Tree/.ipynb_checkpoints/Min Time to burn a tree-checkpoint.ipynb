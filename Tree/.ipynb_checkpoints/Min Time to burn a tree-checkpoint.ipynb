{
 "cells": [
  {
   "cell_type": "code",
   "execution_count": 1,
   "id": "09fb270e",
   "metadata": {},
   "outputs": [
    {
     "data": {
      "text/plain": [
       "'\\n\\nWe can go down but not up so we do level order traversal to assign pointers\\n\\n'"
      ]
     },
     "execution_count": 1,
     "metadata": {},
     "output_type": "execute_result"
    }
   ],
   "source": [
    "'''\n",
    "\n",
    "We can go down but not up so we do level order traversal to assign pointers\n",
    "\n",
    "'''"
   ]
  },
  {
   "cell_type": "code",
   "execution_count": 2,
   "id": "09f1ba44",
   "metadata": {},
   "outputs": [],
   "source": [
    "class Solution:\n",
    "    def minTime(self, root, target):\n",
    "        m = {}\n",
    "        node = self.mtp(root, target, m)\n",
    "        time = self.findTime(node, m)\n",
    "        return time  # Return the calculated time\n",
    "\n",
    "    def findTime(self, node, m):\n",
    "        q = []\n",
    "        q.append(node)\n",
    "        \n",
    "        vis = {node: 1}  # Initialize visited with the starting node\n",
    "        time = 0\n",
    "        \n",
    "        while q:\n",
    "            size = len(q)\n",
    "            fl = 0\n",
    "            \n",
    "            for i in range(size):\n",
    "                n = q.pop(0)\n",
    "                \n",
    "                if n.left and n.left not in vis:\n",
    "                    fl = 1\n",
    "                    vis[n.left] = 1\n",
    "                    q.append(n.left)\n",
    "                \n",
    "                if n.right and n.right not in vis:  # Fixed here\n",
    "                    fl = 1\n",
    "                    vis[n.right] = 1\n",
    "                    q.append(n.right)  # Corrected to append right child\n",
    "                \n",
    "                if n in m and m[n] not in vis:  # Ensure n is in m\n",
    "                    fl = 1\n",
    "                    vis[m[n]] = 1\n",
    "                    q.append(m[n])\n",
    "                    \n",
    "            if fl == 1:\n",
    "                time += 1\n",
    "        return time\n",
    "\n",
    "    def mtp(self, root, target, m):\n",
    "        res = None\n",
    "        q = []\n",
    "        q.append(root)\n",
    "        \n",
    "        while q:\n",
    "            node = q.pop(0)  # Simplified pop\n",
    "            \n",
    "            if node.data == target:\n",
    "                res = node\n",
    "            \n",
    "            if node.left:\n",
    "                m[node.left] = node\n",
    "                q.append(node.left)  # Fixed the typo here\n",
    "            \n",
    "            if node.right:\n",
    "                m[node.right] = node\n",
    "                q.append(node.right)\n",
    "                \n",
    "        return res\n"
   ]
  },
  {
   "cell_type": "code",
   "execution_count": null,
   "id": "5828a568",
   "metadata": {},
   "outputs": [],
   "source": []
  }
 ],
 "metadata": {
  "kernelspec": {
   "display_name": "Python 3 (ipykernel)",
   "language": "python",
   "name": "python3"
  },
  "language_info": {
   "codemirror_mode": {
    "name": "ipython",
    "version": 3
   },
   "file_extension": ".py",
   "mimetype": "text/x-python",
   "name": "python",
   "nbconvert_exporter": "python",
   "pygments_lexer": "ipython3",
   "version": "3.11.4"
  }
 },
 "nbformat": 4,
 "nbformat_minor": 5
}
