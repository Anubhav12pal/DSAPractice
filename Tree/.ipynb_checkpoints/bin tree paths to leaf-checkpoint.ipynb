{
 "cells": [
  {
   "cell_type": "code",
   "execution_count": 2,
   "id": "fce3a015",
   "metadata": {},
   "outputs": [],
   "source": [
    "# Definition for a binary tree node.\n",
    "# class TreeNode:\n",
    "#     def __init__(self, val=0, left=None, right=None):\n",
    "#         self.val = val\n",
    "#         self.left = left\n",
    "#         self.right = right\n",
    "class Solution:\n",
    "    def binaryTreePaths(self, root):\n",
    "\n",
    "        ans = []\n",
    "        \n",
    "\n",
    "\n",
    "        def f(node, lis):\n",
    "\n",
    "\n",
    "            if node.left == None and node.right == None:\n",
    "                lis.append(node.val)\n",
    "                ans.append(lis[:])\n",
    "                lis.pop()\n",
    "                return\n",
    "            lis.append(node.val)\n",
    "\n",
    "            if node.left:\n",
    "                f(node.left, lis[:])\n",
    "            if node.right:\n",
    "                f(node.right, lis[:])\n",
    "            lis.pop()\n",
    "\n",
    "        f(root, [])\n",
    "       \n",
    "        \n",
    "        res = []    \n",
    "\n",
    "        for l in ans:\n",
    "            s = \"\"\n",
    "\n",
    "            for nums in l:\n",
    "                s = s + str(nums) + \"->\"\n",
    "            s = s[:-2]\n",
    "            res.append(s)\n",
    "        return res"
   ]
  },
  {
   "cell_type": "code",
   "execution_count": null,
   "id": "cb6dd001",
   "metadata": {},
   "outputs": [],
   "source": []
  }
 ],
 "metadata": {
  "kernelspec": {
   "display_name": "Python 3 (ipykernel)",
   "language": "python",
   "name": "python3"
  },
  "language_info": {
   "codemirror_mode": {
    "name": "ipython",
    "version": 3
   },
   "file_extension": ".py",
   "mimetype": "text/x-python",
   "name": "python",
   "nbconvert_exporter": "python",
   "pygments_lexer": "ipython3",
   "version": "3.11.4"
  }
 },
 "nbformat": 4,
 "nbformat_minor": 5
}
