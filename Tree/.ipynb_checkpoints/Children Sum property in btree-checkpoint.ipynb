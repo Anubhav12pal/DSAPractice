{
 "cells": [
  {
   "cell_type": "code",
   "execution_count": 1,
   "id": "58b28040",
   "metadata": {},
   "outputs": [],
   "source": [
    "'''\n",
    "# Node Class:\n",
    "class Node:\n",
    "    def init(self,val):\n",
    "        self.data = val\n",
    "        self.left = None\n",
    "        self.right = None\n",
    "'''\n",
    "\n",
    "class Solution:\n",
    "    #Function to check whether all nodes of a tree have the value \n",
    "    #equal to the sum of their child nodes.\n",
    "    def isSumProperty(self, root):\n",
    "        # code here\n",
    "        \n",
    "        if root == None:\n",
    "            return \n",
    "        \n",
    "        child = 0\n",
    "        \n",
    "        if root.left:\n",
    "            child += root.left.data\n",
    "        if root.right:\n",
    "            child += root.right.data\n",
    "            \n",
    "        \n",
    "        if child > root.data:\n",
    "            root.data = child\n",
    "        else:\n",
    "            if root.left:\n",
    "                root.left.data = root.data\n",
    "            if root.right:\n",
    "                root.right.data = root.data\n",
    "        \n",
    "        self.isSumProperty(root.left)\n",
    "        self.isSumProperty(root.right)\n",
    "        \n",
    "        tot = 0\n",
    "        if root.left:\n",
    "            tot += root.left.data\n",
    "        if root.right:\n",
    "            tot += root.right.data\n",
    "        if root.left or root.right:\n",
    "            root.data = tot"
   ]
  },
  {
   "cell_type": "code",
   "execution_count": 2,
   "id": "26805543",
   "metadata": {},
   "outputs": [
    {
     "data": {
      "text/plain": [
       "\"\\nGiven a binary tree having n nodes. Check whether all of its nodes have the value equal to the sum of their child nodes. Return 1 if all the nodes in the tree satisfy the given properties, else it return 0.\\n\\nFor every node, data value must be equal to the sum of data values in left and right children. Consider data value as 0 for NULL child.  Also, leaves are considered to follow the property.\\n\\nExample 1:\\n\\nInput:\\nBinary tree\\n       35\\n      /        20  15\\n    /  \\\\  /     15 5 10 5\\nOutput: \\n1\\nExplanation: \\nHere, every node is sum of its left and right child.\\nExample 2:\\n\\nInput:\\nBinary tree\\n       1\\n     /       4    3\\n   /  \\n  5    \\nOutput: \\n0\\nExplanation: \\nHere, 1 is the root node and 4, 3 are its child nodes. 4 + 3 = 7 which is not equal to the value of root node. Hence, this tree does not satisfy the given condition.\\nYour Task:\\nYou don't need to read input or print anything. Your task is to complete the function isSumProperty() that takes the root Node of the binary tree as input and returns 1 if all the nodes in the tree satisfy the following properties, else it returns 0.\\n\\nExpected Time Complexiy: O(n).\\nExpected Auxiliary Space: O(Height of the Tree).\""
      ]
     },
     "execution_count": 2,
     "metadata": {},
     "output_type": "execute_result"
    }
   ],
   "source": [
    "'''\n",
    "Given a binary tree having n nodes. Check whether all of its nodes have the value equal to the sum of their child nodes. Return 1 if all the nodes in the tree satisfy the given properties, else it return 0.\n",
    "\n",
    "For every node, data value must be equal to the sum of data values in left and right children. Consider data value as 0 for NULL child.  Also, leaves are considered to follow the property.\n",
    "\n",
    "Example 1:\n",
    "\n",
    "Input:\n",
    "Binary tree\n",
    "       35\n",
    "      /   \\\n",
    "     20  15\n",
    "    /  \\  /  \\\n",
    "   15 5 10 5\n",
    "Output: \n",
    "1\n",
    "Explanation: \n",
    "Here, every node is sum of its left and right child.\n",
    "Example 2:\n",
    "\n",
    "Input:\n",
    "Binary tree\n",
    "       1\n",
    "     /   \\\n",
    "    4    3\n",
    "   /  \n",
    "  5    \n",
    "Output: \n",
    "0\n",
    "Explanation: \n",
    "Here, 1 is the root node and 4, 3 are its child nodes. 4 + 3 = 7 which is not equal to the value of root node. Hence, this tree does not satisfy the given condition.\n",
    "Your Task:\n",
    "You don't need to read input or print anything. Your task is to complete the function isSumProperty() that takes the root Node of the binary tree as input and returns 1 if all the nodes in the tree satisfy the following properties, else it returns 0.\n",
    "\n",
    "Expected Time Complexiy: O(n).\n",
    "Expected Auxiliary Space: O(Height of the Tree).'''"
   ]
  },
  {
   "cell_type": "code",
   "execution_count": 3,
   "id": "3717026e",
   "metadata": {},
   "outputs": [],
   "source": [
    "class Solution:\n",
    "    # Function to check whether all nodes of a tree have the value \n",
    "    # equal to the sum of their child nodes.\n",
    "    def isSumProperty(self, root):\n",
    "        # If the tree is empty, it satisfies the sum property\n",
    "        if root is None:\n",
    "            return 1\n",
    "        \n",
    "        # If it's a leaf node, it satisfies the sum property by default\n",
    "        if root.left is None and root.right is None:\n",
    "            return 1\n",
    "        \n",
    "        # Calculate the sum of child node values\n",
    "        left_data = root.left.data if root.left else 0\n",
    "        right_data = root.right.data if root.right else 0\n",
    "        \n",
    "        # Check if the current node's value is equal to the sum of its children\n",
    "        if root.data == left_data + right_data:\n",
    "            # Recursively check the left and right subtrees\n",
    "            left_check = self.isSumProperty(root.left)\n",
    "            right_check = self.isSumProperty(root.right)\n",
    "            \n",
    "            # If both subtrees satisfy the condition, return 1 (true)\n",
    "            if left_check == 1 and right_check == 1:\n",
    "                return 1\n",
    "        \n",
    "        # If the current node or its subtrees do not satisfy the property, return 0 (false)\n",
    "        return 0\n"
   ]
  },
  {
   "cell_type": "code",
   "execution_count": null,
   "id": "04ebf948",
   "metadata": {},
   "outputs": [],
   "source": []
  }
 ],
 "metadata": {
  "kernelspec": {
   "display_name": "Python 3 (ipykernel)",
   "language": "python",
   "name": "python3"
  },
  "language_info": {
   "codemirror_mode": {
    "name": "ipython",
    "version": 3
   },
   "file_extension": ".py",
   "mimetype": "text/x-python",
   "name": "python",
   "nbconvert_exporter": "python",
   "pygments_lexer": "ipython3",
   "version": "3.11.4"
  }
 },
 "nbformat": 4,
 "nbformat_minor": 5
}
