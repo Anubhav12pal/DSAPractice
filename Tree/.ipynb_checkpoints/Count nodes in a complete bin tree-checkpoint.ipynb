{
 "cells": [
  {
   "cell_type": "code",
   "execution_count": 1,
   "id": "f7bf6bba",
   "metadata": {},
   "outputs": [],
   "source": [
    "# Definition for a binary tree node.\n",
    "# class TreeNode(object):\n",
    "#     def __init__(self, val=0, left=None, right=None):\n",
    "#         self.val = val\n",
    "#         self.left = left\n",
    "#         self.right = right\n",
    "class Solution(object):\n",
    "    def countNodes(self, root):\n",
    "        \"\"\"\n",
    "        :type root: TreeNode\n",
    "        :rtype: int\n",
    "        \"\"\"\n",
    "\n",
    "        if not root:\n",
    "            return 0\n",
    "\n",
    "        l = self.heightLeft(root)\n",
    "        r = self.heightRight(root)\n",
    "\n",
    "        if l == r:\n",
    "            return  (2 ** l)-1\n",
    "        else:\n",
    "            return 1 + self.countNodes(root.left)+ self.countNodes(root.right)\n",
    "\n",
    "\n",
    "\n",
    "    def heightLeft(self, root):\n",
    "        h = 0\n",
    "        while root:\n",
    "            h += 1\n",
    "            root = root.left\n",
    "        return h\n",
    "\n",
    "    \n",
    "    def heightRight(self, root):\n",
    "        h = 0\n",
    "        while root:\n",
    "            h += 1\n",
    "            root = root.right\n",
    "        return h\n",
    "\n",
    "\n",
    "\n",
    "        "
   ]
  },
  {
   "cell_type": "code",
   "execution_count": null,
   "id": "5a9300bb",
   "metadata": {},
   "outputs": [],
   "source": []
  }
 ],
 "metadata": {
  "kernelspec": {
   "display_name": "Python 3 (ipykernel)",
   "language": "python",
   "name": "python3"
  },
  "language_info": {
   "codemirror_mode": {
    "name": "ipython",
    "version": 3
   },
   "file_extension": ".py",
   "mimetype": "text/x-python",
   "name": "python",
   "nbconvert_exporter": "python",
   "pygments_lexer": "ipython3",
   "version": "3.11.4"
  }
 },
 "nbformat": 4,
 "nbformat_minor": 5
}
