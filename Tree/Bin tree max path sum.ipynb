{
 "cells": [
  {
   "cell_type": "code",
   "execution_count": 2,
   "id": "35fb9c2a",
   "metadata": {},
   "outputs": [
    {
     "data": {
      "text/plain": [
       "\"\\nA path in a binary tree is a sequence of nodes where each pair of adjacent nodes in the sequence has an edge connecting them. A node can only appear in the sequence at most once. Note that the path does not need to pass through the root.\\n\\nThe path sum of a path is the sum of the node's values in the path.\\n\\nGiven the root of a binary tree, return the maximum path sum of any non-empty path.\\n\\n \\n\\nExample 1:\\n\\n\\nInput: root = [1,2,3]\\nOutput: 6\\nExplanation: The optimal path is 2 -> 1 -> 3 with a path sum of 2 + 1 + 3 = 6.\\nExample 2:\\n\\n\\nInput: root = [-10,9,20,null,null,15,7]\\nOutput: 42\\nExplanation: The optimal path is 15 -> 20 -> 7 with a path sum of 15 + 20 + 7 = 42.\\n \\n\\nConstraints:\\n\\nThe number of nodes in the tree is in the range [1, 3 * 104].\\n-1000 <= Node.val <= 1000\""
      ]
     },
     "execution_count": 2,
     "metadata": {},
     "output_type": "execute_result"
    }
   ],
   "source": [
    "'''\n",
    "A path in a binary tree is a sequence of nodes where each pair of adjacent nodes in the sequence has an edge connecting them. A node can only appear in the sequence at most once. Note that the path does not need to pass through the root.\n",
    "\n",
    "The path sum of a path is the sum of the node's values in the path.\n",
    "\n",
    "Given the root of a binary tree, return the maximum path sum of any non-empty path.\n",
    "\n",
    " \n",
    "\n",
    "Example 1:\n",
    "\n",
    "\n",
    "Input: root = [1,2,3]\n",
    "Output: 6\n",
    "Explanation: The optimal path is 2 -> 1 -> 3 with a path sum of 2 + 1 + 3 = 6.\n",
    "Example 2:\n",
    "\n",
    "\n",
    "Input: root = [-10,9,20,null,null,15,7]\n",
    "Output: 42\n",
    "Explanation: The optimal path is 15 -> 20 -> 7 with a path sum of 15 + 20 + 7 = 42.\n",
    " \n",
    "\n",
    "Constraints:\n",
    "\n",
    "The number of nodes in the tree is in the range [1, 3 * 104].\n",
    "-1000 <= Node.val <= 1000'''"
   ]
  },
  {
   "cell_type": "code",
   "execution_count": 3,
   "id": "65a92260",
   "metadata": {},
   "outputs": [],
   "source": [
    "# Definition for a binary tree node.\n",
    "# class TreeNode(object):\n",
    "#     def __init__(self, val=0, left=None, right=None):\n",
    "#         self.val = val\n",
    "#         self.left = left\n",
    "#         self.right = right\n",
    "class Solution(object):\n",
    "    def maxPathSum(self, root):\n",
    "        \"\"\"\n",
    "        :type root: Optional[TreeNode]\n",
    "        :rtype: int\n",
    "\n",
    "\n",
    "        At every node we check three things for the answer left plus right +. alue itself\n",
    "        we replace the value of we need\n",
    "\n",
    "        But at every node we willk store the value of the single node value either the left or right\n",
    "        \"\"\"\n",
    "\n",
    "        self.ans = -999\n",
    "        def f(node):\n",
    "\n",
    "\n",
    "            if node == None :\n",
    "                return 0\n",
    "\n",
    "            left = f(node.left)\n",
    "            right = f(node.right)\n",
    "\n",
    "\n",
    "            if left <=0:\n",
    "                left = 0\n",
    "            if right <= 0:\n",
    "                right = 0\n",
    "\n",
    "\n",
    "            self.ans = max(self.ans, left + right + node.val)\n",
    "\n",
    "\n",
    "            return max(left, right) + node.val\n",
    "\n",
    "        f(root)\n",
    "        return self.ans\n",
    "\n",
    "\n",
    "        \n",
    "\n",
    "\n",
    "        "
   ]
  },
  {
   "cell_type": "code",
   "execution_count": null,
   "id": "7e32fda8",
   "metadata": {},
   "outputs": [],
   "source": []
  }
 ],
 "metadata": {
  "kernelspec": {
   "display_name": "Python 3 (ipykernel)",
   "language": "python",
   "name": "python3"
  },
  "language_info": {
   "codemirror_mode": {
    "name": "ipython",
    "version": 3
   },
   "file_extension": ".py",
   "mimetype": "text/x-python",
   "name": "python",
   "nbconvert_exporter": "python",
   "pygments_lexer": "ipython3",
   "version": "3.11.4"
  }
 },
 "nbformat": 4,
 "nbformat_minor": 5
}
