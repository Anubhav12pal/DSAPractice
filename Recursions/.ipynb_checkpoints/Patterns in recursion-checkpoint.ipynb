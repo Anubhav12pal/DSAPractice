{
 "cells": [
  {
   "cell_type": "code",
   "execution_count": 1,
   "id": "c3e283d3",
   "metadata": {},
   "outputs": [
    {
     "data": {
      "text/plain": [
       "'\\n\\n\\nPrinting subsequence whose sum is k\\n\\n'"
      ]
     },
     "execution_count": 1,
     "metadata": {},
     "output_type": "execute_result"
    }
   ],
   "source": [
    "'''\n",
    "\n",
    "\n",
    "Printing subsequence whose sum is k\n",
    "\n",
    "'''"
   ]
  },
  {
   "cell_type": "markdown",
   "id": "5d29c78a",
   "metadata": {},
   "source": [
    "# Count the number of sun sequences where sum = k"
   ]
  },
  {
   "cell_type": "code",
   "execution_count": 2,
   "id": "5bebd116",
   "metadata": {},
   "outputs": [],
   "source": [
    "class Solution:\n",
    "    def perfectSum(self, arr, n, sum):\n",
    "        count = [0]  # Use a list to keep track of the count\n",
    "        self.f(0, arr, n, sum, 0, count)\n",
    "        return count[0]  # Return the final count\n",
    "\n",
    "    def f(self, index, arr, n, target_sum, current_sum, count):\n",
    "        if index == n:\n",
    "            if current_sum == target_sum:\n",
    "                count[0] += 1  # Increment count by modifying the list\n",
    "            return\n",
    "\n",
    "        # Include the current element in the sum\n",
    "        current_sum += arr[index]\n",
    "        self.f(index + 1, arr, n, target_sum, current_sum, count)\n",
    "\n",
    "        # Exclude the current element from the sum (backtrack)\n",
    "        current_sum -= arr[index]\n",
    "        self.f(index + 1, arr, n, target_sum, current_sum, count)"
   ]
  },
  {
   "cell_type": "markdown",
   "id": "f4707a1b",
   "metadata": {},
   "source": [
    "# u can use dp to optimise iot later"
   ]
  },
  {
   "cell_type": "code",
   "execution_count": 4,
   "id": "d6df2a47",
   "metadata": {},
   "outputs": [],
   "source": [
    "# Modified: print 1 subsequence"
   ]
  },
  {
   "cell_type": "code",
   "execution_count": 5,
   "id": "b19f1f95",
   "metadata": {},
   "outputs": [
    {
     "data": {
      "text/plain": [
       "'\\nThe technique to only print 1 answer:\\n\\nf():\\nbase case:\\ncond satisfied: return true \\nreturn false\\n\\n\\nif f() == true\\nreturn\\n\\nf()\\nreturn false\\n\\n\\n\\n\\n'"
      ]
     },
     "execution_count": 5,
     "metadata": {},
     "output_type": "execute_result"
    }
   ],
   "source": [
    "'''\n",
    "The technique to only print 1 answer:\n",
    "\n",
    "f():\n",
    "base case:\n",
    "cond satisfied: return true \n",
    "return false\n",
    "\n",
    "\n",
    "if f() == true\n",
    "return\n",
    "\n",
    "f()\n",
    "return false\n",
    "\n",
    "\n",
    "Examole elow: it saves further recuyrsion calls\n",
    "\n",
    "\n",
    "'''\n",
    "\n"
   ]
  },
  {
   "cell_type": "code",
   "execution_count": 6,
   "id": "b8df0882",
   "metadata": {},
   "outputs": [],
   "source": [
    "\n",
    "# In case of print just 1 of the answer:\n",
    "\n",
    "\n",
    "class Solution:\n",
    "    def perfectSum(self, arr, n, sum):\n",
    "        count = [0]  # Use a list to keep track of the count\n",
    "        self.f(0, arr, n, sum, 0, count)\n",
    "        return count[0]  # Return the final count\n",
    "\n",
    "    def f(self, index, arr, n, target_sum, current_sum, count):\n",
    "        if index == n:\n",
    "            \n",
    "            # if satisfied return true\n",
    "            if current_sum == target_sum:\n",
    "                count[0] += 1  # Increment count by modifying the list\n",
    "                return true\n",
    "            return false\n",
    "        \n",
    "        \n",
    "\n",
    "        # Include the current element in the sum\n",
    "        current_sum += arr[index]\n",
    "        if (self.f(index + 1, arr, n, target_sum, current_sum, count)):\n",
    "            return true\n",
    "\n",
    "        # Exclude the current element from the sum (backtrack)\n",
    "        current_sum -= arr[index]\n",
    "        \n",
    "        if(self.f(index + 1, arr, n, target_sum, current_sum, count)):\n",
    "            return true\n",
    "        return false"
   ]
  },
  {
   "cell_type": "code",
   "execution_count": 7,
   "id": "6bfeff59",
   "metadata": {},
   "outputs": [
    {
     "data": {
      "text/plain": [
       "' \\nSo the above pattern goes for non counting problems but i did for counting problem the logic ids similar so do that for\\nnon counting problems such as printing and all\\n\\n\\nFor counting problems her is the code:\\n\\n\\nf():\\nbase case\\nreturn 1 cond satisfied\\nreturn 0 not satisfied\\n\\nl = f()\\nr = f()\\n\\nreturn l +r\\n\\n'"
      ]
     },
     "execution_count": 7,
     "metadata": {},
     "output_type": "execute_result"
    }
   ],
   "source": [
    "''' \n",
    "So the above pattern goes for non counting problems but i did for counting problem the logic ids similar so do that for\n",
    "non counting problems such as printing and all\n",
    "\n",
    "\n",
    "For counting problems her is the code:\n",
    "\n",
    "\n",
    "f():\n",
    "base case\n",
    "return 1 cond satisfied\n",
    "return 0 not satisfied\n",
    "\n",
    "l = f()\n",
    "r = f()\n",
    "\n",
    "return l +r\n",
    "\n",
    "'''"
   ]
  },
  {
   "cell_type": "code",
   "execution_count": 8,
   "id": "4037f277",
   "metadata": {},
   "outputs": [],
   "source": [
    "def f(ind, s, sum, arr,n):\n",
    "    if ind == n:\n",
    "        if s == sum:\n",
    "            return 1\n",
    "        return 0\n",
    "\n",
    "    s += arr[ind]\n",
    "    l = f(ind +1, s, sum, arr, n)\n",
    "    s -= arr[ind]\n",
    "    r = f(ind +1, s, sum, arr, n)"
   ]
  },
  {
   "cell_type": "code",
   "execution_count": 9,
   "id": "bc084373",
   "metadata": {},
   "outputs": [],
   "source": [
    "# Very imp pattern forever remember"
   ]
  },
  {
   "cell_type": "code",
   "execution_count": null,
   "id": "5fa01931",
   "metadata": {},
   "outputs": [],
   "source": []
  }
 ],
 "metadata": {
  "kernelspec": {
   "display_name": "Python 3 (ipykernel)",
   "language": "python",
   "name": "python3"
  },
  "language_info": {
   "codemirror_mode": {
    "name": "ipython",
    "version": 3
   },
   "file_extension": ".py",
   "mimetype": "text/x-python",
   "name": "python",
   "nbconvert_exporter": "python",
   "pygments_lexer": "ipython3",
   "version": "3.11.4"
  }
 },
 "nbformat": 4,
 "nbformat_minor": 5
}
