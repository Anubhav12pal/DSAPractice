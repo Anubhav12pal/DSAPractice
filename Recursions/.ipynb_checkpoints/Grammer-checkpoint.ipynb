{
 "cells": [
  {
   "cell_type": "code",
   "execution_count": 3,
   "id": "74e91c05",
   "metadata": {},
   "outputs": [],
   "source": [
    "class Solution(object):\n",
    "    def kthGrammar(self, n, k):\n",
    "        \"\"\"\n",
    "        :type n: int\n",
    "        :type k: int\n",
    "        :rtype: int\n",
    "        \"\"\"\n",
    "\n",
    "        if n == 1 and k == 1:\n",
    "            return 0  # Base case: First row, first symbol is always 0\n",
    "\n",
    "        length = 2**(n-1)  # Total length of the current row\n",
    "        mid = length // 2  # Midpoint of the row\n",
    "\n",
    "        if k > mid:\n",
    "            # If k is in the second half, flip the result of the corresponding position in the first half\n",
    "            return 1 - self.kthGrammar(n-1, k - mid)\n",
    "        else:\n",
    "            # If k is in the first half, it corresponds directly to the result in the previous row\n",
    "            return self.kthGrammar(n-1, k)\n"
   ]
  },
  {
   "cell_type": "code",
   "execution_count": null,
   "id": "ca337772",
   "metadata": {},
   "outputs": [],
   "source": []
  }
 ],
 "metadata": {
  "kernelspec": {
   "display_name": "Python 3 (ipykernel)",
   "language": "python",
   "name": "python3"
  },
  "language_info": {
   "codemirror_mode": {
    "name": "ipython",
    "version": 3
   },
   "file_extension": ".py",
   "mimetype": "text/x-python",
   "name": "python",
   "nbconvert_exporter": "python",
   "pygments_lexer": "ipython3",
   "version": "3.11.4"
  }
 },
 "nbformat": 4,
 "nbformat_minor": 5
}
