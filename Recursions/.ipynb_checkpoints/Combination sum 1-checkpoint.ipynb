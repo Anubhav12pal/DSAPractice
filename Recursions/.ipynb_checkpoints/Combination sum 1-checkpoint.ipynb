{
 "cells": [
  {
   "cell_type": "code",
   "execution_count": 1,
   "id": "dfe204e1",
   "metadata": {},
   "outputs": [],
   "source": [
    "class Solution(object):\n",
    "    def combinationSum(self, candidates, target):\n",
    "        \"\"\"\n",
    "        :type candidates: List[int]\n",
    "        :type target: int\n",
    "        :rtype: List[List[int]]\n",
    "        \"\"\"\n",
    "\n",
    "        ans = []\n",
    "        self.f(0, candidates, target, ans, [])\n",
    "        return ans\n",
    "\n",
    "    def f(self, index, arr, target, ans, l2):\n",
    "        if target == 0:\n",
    "            ans.append(l2[:])  # Append a copy of l2\n",
    "            return\n",
    "        if index == len(arr):\n",
    "            return\n",
    "        \n",
    "        # Include the current candidate\n",
    "        if arr[index] <= target:\n",
    "            l2.append(arr[index])\n",
    "            self.f(index, arr, target - arr[index], ans, l2)\n",
    "            l2.pop()  # Remove the last element\n",
    "        \n",
    "        # Exclude the current candidate\n",
    "        self.f(index + 1, arr, target, ans, l2)"
   ]
  },
  {
   "cell_type": "code",
   "execution_count": null,
   "id": "c711615f",
   "metadata": {},
   "outputs": [],
   "source": []
  }
 ],
 "metadata": {
  "kernelspec": {
   "display_name": "Python 3 (ipykernel)",
   "language": "python",
   "name": "python3"
  },
  "language_info": {
   "codemirror_mode": {
    "name": "ipython",
    "version": 3
   },
   "file_extension": ".py",
   "mimetype": "text/x-python",
   "name": "python",
   "nbconvert_exporter": "python",
   "pygments_lexer": "ipython3",
   "version": "3.11.4"
  }
 },
 "nbformat": 4,
 "nbformat_minor": 5
}
