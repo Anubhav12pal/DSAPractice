{
 "cells": [
  {
   "cell_type": "markdown",
   "id": "c6776cfa",
   "metadata": {},
   "source": [
    "# Brute"
   ]
  },
  {
   "cell_type": "code",
   "execution_count": 1,
   "id": "13d86e38",
   "metadata": {},
   "outputs": [
    {
     "data": {
      "text/plain": [
       "'\\nTo avoid repetition of elements we can increment the index oin the first if case and use set to prevent dupes\\n\\n\\n\\n'"
      ]
     },
     "execution_count": 1,
     "metadata": {},
     "output_type": "execute_result"
    }
   ],
   "source": [
    "'''\n",
    "To avoid repetition of elements we can increment the index oin the first if case and use set to prevent dupes\n",
    "\n",
    "\n",
    "\n",
    "'''"
   ]
  },
  {
   "cell_type": "code",
   "execution_count": 2,
   "id": "5fa792f5",
   "metadata": {},
   "outputs": [],
   "source": [
    "class Solution(object):\n",
    "    def combinationSum2(self, candidates, target):\n",
    "        \"\"\"\n",
    "        :type candidates: List[int]\n",
    "        :type target: int\n",
    "        :rtype: List[List[int]]\n",
    "        \"\"\"\n",
    "        ds = []\n",
    "        candidates.sort()  # Sort the candidates to handle duplicates\n",
    "        self.f(0, candidates, target, ds, [])\n",
    "        \n",
    "        # Use a set to eliminate duplicates and convert back to list\n",
    "        return list(map(list, set(tuple(x) for x in ds)))\n",
    "\n",
    "    def f(self, index, candidates, target, ds, l2):\n",
    "        if target == 0:\n",
    "            ds.append(l2[:])  # Append a copy of l2\n",
    "            return\n",
    "        if index == len(candidates):\n",
    "            return\n",
    "\n",
    "        # Include the current candidate and move to the next index\n",
    "        if candidates[index] <= target:\n",
    "            l2.append(candidates[index])\n",
    "            self.f(index + 1, candidates, target - candidates[index], ds, l2)\n",
    "            l2.pop()  # Backtrack\n",
    "\n",
    "        # Exclude the current candidate and move to the next index\n",
    "        self.f(index + 1, candidates, target, ds, l2)"
   ]
  },
  {
   "cell_type": "code",
   "execution_count": null,
   "id": "b6cdd8cf",
   "metadata": {},
   "outputs": [],
   "source": []
  }
 ],
 "metadata": {
  "kernelspec": {
   "display_name": "Python 3 (ipykernel)",
   "language": "python",
   "name": "python3"
  },
  "language_info": {
   "codemirror_mode": {
    "name": "ipython",
    "version": 3
   },
   "file_extension": ".py",
   "mimetype": "text/x-python",
   "name": "python",
   "nbconvert_exporter": "python",
   "pygments_lexer": "ipython3",
   "version": "3.11.4"
  }
 },
 "nbformat": 4,
 "nbformat_minor": 5
}
