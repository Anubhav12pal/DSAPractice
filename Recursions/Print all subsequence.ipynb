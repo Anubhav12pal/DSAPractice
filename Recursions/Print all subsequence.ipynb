{
 "cells": [
  {
   "cell_type": "code",
   "execution_count": 1,
   "id": "b4611875",
   "metadata": {},
   "outputs": [
    {
     "data": {
      "text/plain": [
       "' \\nSub array and sub sequence are different\\n\\nsub array must conatin. all elements bw point a and b\\n\\na sub sequence can skip the elements in between \\n\\nBut the order atters if 3 is before 2 then all subsequence will have 3 before 2\\n\\n\\n\\n'"
      ]
     },
     "execution_count": 1,
     "metadata": {},
     "output_type": "execute_result"
    }
   ],
   "source": [
    "''' \n",
    "Sub array and sub sequence are different\n",
    "\n",
    "sub array must conatin. all elements bw point a and b\n",
    "\n",
    "a sub sequence can skip the elements in between \n",
    "\n",
    "But the order atters if 3 is before 2 then all subsequence will have 3 before 2\n",
    "\n",
    "\n",
    "\n",
    "'''\n"
   ]
  },
  {
   "cell_type": "code",
   "execution_count": 1,
   "id": "b8d0a10a",
   "metadata": {},
   "outputs": [],
   "source": [
    "class Solution(object):\n",
    "    def subsets(self, nums):\n",
    "        \"\"\"\n",
    "        :type nums: List[int]\n",
    "        :rtype: List[List[int]]\n",
    "        \"\"\"\n",
    "        lis2 = []\n",
    "        self.f(0, [], nums, lis2)  # Call with an empty list for 'lis'\n",
    "        return lis2\n",
    "\n",
    "    def f(self, index, lis, nums, lis2):\n",
    "        if index >= len(nums):\n",
    "            lis2.append(list(lis))  # Append a copy of 'lis'\n",
    "            return\n",
    "\n",
    "        # Include the current element\n",
    "        lis.append(nums[index])\n",
    "        self.f(index + 1, lis, nums, lis2)\n",
    "\n",
    "        # Exclude the current element\n",
    "        lis.pop()\n",
    "        self.f(index + 1, lis, nums, lis2)"
   ]
  },
  {
   "cell_type": "code",
   "execution_count": null,
   "id": "a689366c",
   "metadata": {},
   "outputs": [],
   "source": []
  }
 ],
 "metadata": {
  "kernelspec": {
   "display_name": "Python 3 (ipykernel)",
   "language": "python",
   "name": "python3"
  },
  "language_info": {
   "codemirror_mode": {
    "name": "ipython",
    "version": 3
   },
   "file_extension": ".py",
   "mimetype": "text/x-python",
   "name": "python",
   "nbconvert_exporter": "python",
   "pygments_lexer": "ipython3",
   "version": "3.11.4"
  }
 },
 "nbformat": 4,
 "nbformat_minor": 5
}
