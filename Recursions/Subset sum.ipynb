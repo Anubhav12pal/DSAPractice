{
 "cells": [
  {
   "cell_type": "code",
   "execution_count": null,
   "id": "088e7b8a",
   "metadata": {},
   "outputs": [],
   "source": []
  },
  {
   "cell_type": "code",
   "execution_count": 1,
   "id": "6ee2362f",
   "metadata": {},
   "outputs": [],
   "source": [
    "class Solution:\n",
    "\tdef subsetSums(self, arr, n):\n",
    "\t    \n",
    "\t    \n",
    "\t\t# code \n",
    "\t\tds = []\n",
    "\t\tself.f(0,0, arr, n, ds)\n",
    "\t\tsorted(ds)\n",
    "\t\treturn ds\n",
    "\t\t\n",
    "\t\t\n",
    "\t\t\n",
    "\t\t\n",
    "\t\t\n",
    "\t\t\n",
    "\tdef f(self, index, s,  array, n , ds):\n",
    "\t    \n",
    "\t    if index >= n:\n",
    "\t        ds.append(s)\n",
    "\t        \n",
    "\t        return \n",
    "\t    \n",
    "\t    self.f(index+1, s + arr[index], arr, n, ds)\n",
    "\t    self.f(index+1, s , arr, n, ds)"
   ]
  },
  {
   "cell_type": "code",
   "execution_count": null,
   "id": "c9b2e810",
   "metadata": {},
   "outputs": [],
   "source": []
  }
 ],
 "metadata": {
  "kernelspec": {
   "display_name": "Python 3 (ipykernel)",
   "language": "python",
   "name": "python3"
  },
  "language_info": {
   "codemirror_mode": {
    "name": "ipython",
    "version": 3
   },
   "file_extension": ".py",
   "mimetype": "text/x-python",
   "name": "python",
   "nbconvert_exporter": "python",
   "pygments_lexer": "ipython3",
   "version": "3.11.4"
  }
 },
 "nbformat": 4,
 "nbformat_minor": 5
}
