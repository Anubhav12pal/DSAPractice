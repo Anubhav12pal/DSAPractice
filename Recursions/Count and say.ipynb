{
 "cells": [
  {
   "cell_type": "code",
   "execution_count": 2,
   "id": "918a12aa",
   "metadata": {},
   "outputs": [],
   "source": [
    "class Solution:\n",
    "    def countAndSay(self, n: int) -> str:\n",
    "        st = \"\"\n",
    "\n",
    "        def rle(s):\n",
    "\n",
    "            if s == \"\":\n",
    "                return \"1\"\n",
    "            l = len(s)\n",
    "            if l == 1:\n",
    "                return \"1\" + s\n",
    "            i = 0\n",
    "            j = 1\n",
    "            ans = \"\"\n",
    "            while j < l:\n",
    "                if s[i] == s[j]:\n",
    "                    j += 1\n",
    "                else:\n",
    "                    t = j - i\n",
    "                    if t == 1:\n",
    "                        ans = ans + \"1\" + s[i]\n",
    "                        i += 1\n",
    "                        j += 1\n",
    "                    else:\n",
    "                        ans = ans + str(t) + s[i]\n",
    "                        i = j\n",
    "                        j += 1\n",
    "            if i == l - 1:\n",
    "                ans = ans + \"1\"+s[i]\n",
    "            else:\n",
    "                t = j - i\n",
    "                ans = ans + str(t) + s[i]\n",
    "            return ans\n",
    "        for i in range(0, n):\n",
    "            st = rle(st)\n",
    "\n",
    "        \n",
    "                    \n",
    "\n",
    "\n",
    "        return st\n",
    "\n",
    "\n",
    "        "
   ]
  },
  {
   "cell_type": "code",
   "execution_count": 3,
   "id": "3e08c8f9",
   "metadata": {},
   "outputs": [
    {
     "data": {
      "text/plain": [
       "'\\n\\n\\no(2^n)'"
      ]
     },
     "execution_count": 3,
     "metadata": {},
     "output_type": "execute_result"
    }
   ],
   "source": [
    "'''\n",
    "\n",
    "\n",
    "o(2^n)'''"
   ]
  },
  {
   "cell_type": "markdown",
   "id": "3e9d425f",
   "metadata": {},
   "source": [
    "# Better soln same time"
   ]
  },
  {
   "cell_type": "code",
   "execution_count": 4,
   "id": "4a5f3e9b",
   "metadata": {},
   "outputs": [],
   "source": [
    "class Solution:\n",
    "    h = [\"1\"]  \n",
    "    def countAndSay(self, n: int) -> str:\n",
    "        def u(n):\n",
    "            if n <= len(Solution.h):  \n",
    "                return Solution.h[n - 1]  \n",
    "            else:\n",
    "                prev = u(n - 1)  \n",
    "                result = \"\"\n",
    "                count = 1\n",
    "\n",
    "                for i in range(1, len(prev)):\n",
    "                    if prev[i] == prev[i - 1]:  \n",
    "                        count += 1\n",
    "                    else:\n",
    "                        result += f\"{count}{prev[i - 1]}\"  \n",
    "                        count = 1  \n",
    "\n",
    "                result += f\"{count}{prev[-1]}\"\n",
    "                Solution.h.append(result)  \n",
    "                return result\n",
    "        return u(n)"
   ]
  },
  {
   "cell_type": "code",
   "execution_count": null,
   "id": "51ea2a18",
   "metadata": {},
   "outputs": [],
   "source": []
  }
 ],
 "metadata": {
  "kernelspec": {
   "display_name": "Python 3 (ipykernel)",
   "language": "python",
   "name": "python3"
  },
  "language_info": {
   "codemirror_mode": {
    "name": "ipython",
    "version": 3
   },
   "file_extension": ".py",
   "mimetype": "text/x-python",
   "name": "python",
   "nbconvert_exporter": "python",
   "pygments_lexer": "ipython3",
   "version": "3.11.4"
  }
 },
 "nbformat": 4,
 "nbformat_minor": 5
}
