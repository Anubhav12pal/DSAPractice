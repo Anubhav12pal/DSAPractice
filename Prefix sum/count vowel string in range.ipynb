{
 "cells": [
  {
   "cell_type": "code",
   "execution_count": 1,
   "id": "b16f00cc",
   "metadata": {},
   "outputs": [],
   "source": [
    "class Solution:\n",
    "    def vowelStrings(self, words, queries):\n",
    "\n",
    "\n",
    "        n = len(words)\n",
    "        v = {'a', 'e', 'i', 'o', 'u'}\n",
    "        pref = [0 for _ in range(n)]\n",
    "        c = 0\n",
    "        for i in range(n):\n",
    "\n",
    "            st = words[i]\n",
    "            if st[0] in v and st[-1] in v:\n",
    "                c += 1\n",
    "            pref[i] = c\n",
    "        ans = []\n",
    "\n",
    "        for q in queries:\n",
    "            if q[0] == 0:\n",
    "                ans.append(pref[q[1]])\n",
    "            else:\n",
    "                ans.append(pref[q[1]] - pref[q[0]-1])\n",
    "        return ans\n",
    "\n",
    "\n",
    "     \n",
    "        \n",
    "\n",
    "\n",
    "        "
   ]
  },
  {
   "cell_type": "code",
   "execution_count": null,
   "id": "48200567",
   "metadata": {},
   "outputs": [],
   "source": []
  }
 ],
 "metadata": {
  "kernelspec": {
   "display_name": "Python 3 (ipykernel)",
   "language": "python",
   "name": "python3"
  },
  "language_info": {
   "codemirror_mode": {
    "name": "ipython",
    "version": 3
   },
   "file_extension": ".py",
   "mimetype": "text/x-python",
   "name": "python",
   "nbconvert_exporter": "python",
   "pygments_lexer": "ipython3",
   "version": "3.11.4"
  }
 },
 "nbformat": 4,
 "nbformat_minor": 5
}
