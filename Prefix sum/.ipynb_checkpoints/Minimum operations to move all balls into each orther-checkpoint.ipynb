{
 "cells": [
  {
   "cell_type": "code",
   "execution_count": 2,
   "id": "abc7a656",
   "metadata": {},
   "outputs": [],
   "source": [
    "class Solution(object):\n",
    "    def minOperations(self, boxes):\n",
    "        \"\"\"\n",
    "        :type boxes: str\n",
    "        :rtype: List[int]\n",
    "\n",
    "        0 0 1 2 2 3\n",
    "        0 1 1 0 1 1\n",
    "        0 0 1 3 5 8\n",
    "        12 8 5 3 1 0\n",
    "        \n",
    "\n",
    "\n",
    "\n",
    "        \n",
    "\n",
    "           \n",
    "        Intuition:  prefix sum \n",
    "        from left\n",
    "        if we are at a current index we notice that the number of moves taken to move to the prev box is already calcylated\n",
    "        and if there were n balls in the left it wouldf take n moves + moves taken to move to the prev index\n",
    "        Therefore: ans[i] += ans[i-1] + number of balls on the left\n",
    "        then we check if s[n-1] == 1, if yes we add 1 to that \n",
    "        \n",
    "        Similarly we do that for the right and add the,\n",
    "\n",
    "\n",
    "        \"\"\"\n",
    "        n = len(boxes)\n",
    "        ans = [0 for _ in range(n)]\n",
    "        c = 0\n",
    "\n",
    "\n",
    "        for i in range(1,n):\n",
    "\n",
    "            ans[i] += ans[i-1] + c\n",
    "            if boxes[i-1] == '1':\n",
    "                c+=1\n",
    "                ans[i] +=1\n",
    "\n",
    "        ans2 =[0 for _ in range(n)]\n",
    "        \n",
    "        c = 0\n",
    "        for i in range(n-2, -1, -1):\n",
    "            ans2[i] += ans2[i+1] + c\n",
    "            if boxes[i+1] == '1':\n",
    "                c+=1\n",
    "                ans2[i] +=1\n",
    "\n",
    "        for i in range(n):\n",
    "\n",
    "            ans[i] += ans2[i]\n",
    "           \n",
    "        return ans\n",
    "        "
   ]
  },
  {
   "cell_type": "code",
   "execution_count": null,
   "id": "55199c50",
   "metadata": {},
   "outputs": [],
   "source": []
  }
 ],
 "metadata": {
  "kernelspec": {
   "display_name": "Python 3 (ipykernel)",
   "language": "python",
   "name": "python3"
  },
  "language_info": {
   "codemirror_mode": {
    "name": "ipython",
    "version": 3
   },
   "file_extension": ".py",
   "mimetype": "text/x-python",
   "name": "python",
   "nbconvert_exporter": "python",
   "pygments_lexer": "ipython3",
   "version": "3.11.4"
  }
 },
 "nbformat": 4,
 "nbformat_minor": 5
}
