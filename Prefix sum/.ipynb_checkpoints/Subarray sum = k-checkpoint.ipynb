{
 "cells": [
  {
   "cell_type": "code",
   "execution_count": 2,
   "id": "8a863701",
   "metadata": {},
   "outputs": [],
   "source": [
    "class Solution:\n",
    "    def subarraySum(self, nums, k):\n",
    "        \n",
    "\n",
    "        '''\n",
    "\n",
    "        1 2 3\n",
    "        3 2 1\n",
    "\n",
    "        at index i the cur pref sum is cs\n",
    "        if we see that cs - k exists in the current sum the there also exists k in the subarray and it occurs as many times cs - k occurs\n",
    "\n",
    "        '''\n",
    "\n",
    "        m = {}\n",
    "        m[0] = 1\n",
    "\n",
    "        cs = 0\n",
    "\n",
    "        n = len(nums)\n",
    "        ans = 0\n",
    "        for i in range(n):\n",
    "\n",
    "            cs += nums[i]\n",
    "            if cs - k in m:\n",
    "                ans += m[cs-k]\n",
    "            m[cs] = 1 + m.get(cs,0)\n",
    "            \n",
    "        return ans\n",
    "\n",
    "\n",
    "\n",
    "\n",
    "        \n",
    "        "
   ]
  },
  {
   "cell_type": "code",
   "execution_count": null,
   "id": "ab543b94",
   "metadata": {},
   "outputs": [],
   "source": []
  }
 ],
 "metadata": {
  "kernelspec": {
   "display_name": "Python 3 (ipykernel)",
   "language": "python",
   "name": "python3"
  },
  "language_info": {
   "codemirror_mode": {
    "name": "ipython",
    "version": 3
   },
   "file_extension": ".py",
   "mimetype": "text/x-python",
   "name": "python",
   "nbconvert_exporter": "python",
   "pygments_lexer": "ipython3",
   "version": "3.11.4"
  }
 },
 "nbformat": 4,
 "nbformat_minor": 5
}
