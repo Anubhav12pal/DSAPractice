{
 "cells": [
  {
   "cell_type": "code",
   "execution_count": 1,
   "id": "496e85a9",
   "metadata": {},
   "outputs": [
    {
     "data": {
      "text/plain": [
       "'\\n\\n2145. Count the Hidden Sequences\\nAttempted\\nMedium\\nTopics\\nCompanies\\nHint\\nYou are given a 0-indexed array of n integers differences, which describes the differences between each pair of consecutive integers of a hidden sequence of length (n + 1). More formally, call the hidden sequence hidden, then we have that differences[i] = hidden[i + 1] - hidden[i].\\n\\nYou are further given two integers lower and upper that describe the inclusive range of values [lower, upper] that the hidden sequence can contain.\\n\\nFor example, given differences = [1, -3, 4], lower = 1, upper = 6, the hidden sequence is a sequence of length 4 whose elements are in between 1 and 6 (inclusive).\\n[3, 4, 1, 5] and [4, 5, 2, 6] are possible hidden sequences.\\n[5, 6, 3, 7] is not possible since it contains an element greater than 6.\\n[1, 2, 3, 4] is not possible since the differences are not correct.\\nReturn the number of possible hidden sequences there are. If there are no possible sequences, return 0.\\n'"
      ]
     },
     "execution_count": 1,
     "metadata": {},
     "output_type": "execute_result"
    }
   ],
   "source": [
    "'''\n",
    "\n",
    "2145. Count the Hidden Sequences\n",
    "Attempted\n",
    "Medium\n",
    "Topics\n",
    "Companies\n",
    "Hint\n",
    "You are given a 0-indexed array of n integers differences, which describes the differences between each pair of consecutive integers of a hidden sequence of length (n + 1). More formally, call the hidden sequence hidden, then we have that differences[i] = hidden[i + 1] - hidden[i].\n",
    "\n",
    "You are further given two integers lower and upper that describe the inclusive range of values [lower, upper] that the hidden sequence can contain.\n",
    "\n",
    "For example, given differences = [1, -3, 4], lower = 1, upper = 6, the hidden sequence is a sequence of length 4 whose elements are in between 1 and 6 (inclusive).\n",
    "[3, 4, 1, 5] and [4, 5, 2, 6] are possible hidden sequences.\n",
    "[5, 6, 3, 7] is not possible since it contains an element greater than 6.\n",
    "[1, 2, 3, 4] is not possible since the differences are not correct.\n",
    "Return the number of possible hidden sequences there are. If there are no possible sequences, return 0.\n",
    "'''"
   ]
  },
  {
   "cell_type": "code",
   "execution_count": 4,
   "id": "5fe01310",
   "metadata": {},
   "outputs": [],
   "source": [
    "class Solution:\n",
    "    def numberOfArrays(self, differences, lower, upper):\n",
    "\n",
    "\n",
    "\n",
    "        c = 0\n",
    "\n",
    "        for i in range(lower, upper + 1):\n",
    "            f = True\n",
    "            l = i\n",
    "            for diff in differences:\n",
    "                h = l + diff\n",
    "                if h >= lower and h <= upper:\n",
    "                    l = h\n",
    "                    continue\n",
    "                else:\n",
    "                    f = False\n",
    "                    break\n",
    "            if f:\n",
    "                c += 1\n",
    "        return c"
   ]
  },
  {
   "cell_type": "code",
   "execution_count": 5,
   "id": "19b807c9",
   "metadata": {},
   "outputs": [
    {
     "data": {
      "text/plain": [
       "'\\n\\nThe above one is brute force checking each seq in range lower and upper \\n\\n'"
      ]
     },
     "execution_count": 5,
     "metadata": {},
     "output_type": "execute_result"
    }
   ],
   "source": [
    "'''\n",
    "\n",
    "The above one is brute force checking each seq in range lower and upper \n",
    "\n",
    "'''"
   ]
  },
  {
   "cell_type": "markdown",
   "id": "dd5540e2",
   "metadata": {},
   "source": [
    "# Optimal"
   ]
  },
  {
   "cell_type": "code",
   "execution_count": null,
   "id": "2d6441cc",
   "metadata": {},
   "outputs": [],
   "source": []
  },
  {
   "cell_type": "code",
   "execution_count": 7,
   "id": "d1645235",
   "metadata": {},
   "outputs": [],
   "source": [
    "class Solution:\n",
    "    def numberOfArrays(self, differences, lower, upper):\n",
    "        min_prefix = 0\n",
    "        max_prefix = 0\n",
    "        current = 0\n",
    "\n",
    "        for diff in differences:\n",
    "            current += diff\n",
    "            min_prefix = min(min_prefix, current)\n",
    "            max_prefix = max(max_prefix, current)\n",
    "\n",
    "        # x + min_prefix >= lower  -->  x >= lower - min_prefix\n",
    "        # x + max_prefix <= upper  -->  x <= upper - max_prefix\n",
    "        start_min = lower - min_prefix\n",
    "        start_max = upper - max_prefix\n",
    "\n",
    "        if start_max < start_min:\n",
    "            return 0\n",
    "        return start_max - start_min + 1\n"
   ]
  },
  {
   "cell_type": "code",
   "execution_count": 8,
   "id": "72a714eb",
   "metadata": {},
   "outputs": [
    {
     "data": {
      "text/plain": [
       "'\\nSuppose there is a number x\\n\\nand we continue to add differences to it sec number will be x + d[0]\\n2nd will be x + d[0] + d[1] and so on\\n\\nso what can the lowest and the highest the numbers can go\\nx- lowest and x + highest\\n\\nour array can start from range lower - lowest and end at upper - highest\\n\\nnumber of elements is the diff bw them + 1\\n\\n'"
      ]
     },
     "execution_count": 8,
     "metadata": {},
     "output_type": "execute_result"
    }
   ],
   "source": [
    "'''\n",
    "Suppose there is a number x\n",
    "\n",
    "and we continue to add differences to it sec number will be x + d[0]\n",
    "2nd will be x + d[0] + d[1] and so on\n",
    "\n",
    "so what can the lowest and the highest the numbers can go\n",
    "x- lowest and x + highest\n",
    "\n",
    "our array can start from range lower - lowest and end at upper - highest\n",
    "\n",
    "number of elements is the diff bw them + 1\n",
    "\n",
    "'''\n"
   ]
  },
  {
   "cell_type": "code",
   "execution_count": null,
   "id": "bc90b369",
   "metadata": {},
   "outputs": [],
   "source": []
  }
 ],
 "metadata": {
  "kernelspec": {
   "display_name": "Python 3 (ipykernel)",
   "language": "python",
   "name": "python3"
  },
  "language_info": {
   "codemirror_mode": {
    "name": "ipython",
    "version": 3
   },
   "file_extension": ".py",
   "mimetype": "text/x-python",
   "name": "python",
   "nbconvert_exporter": "python",
   "pygments_lexer": "ipython3",
   "version": "3.11.4"
  }
 },
 "nbformat": 4,
 "nbformat_minor": 5
}
