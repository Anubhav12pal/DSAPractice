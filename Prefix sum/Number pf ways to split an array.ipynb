{
 "cells": [
  {
   "cell_type": "code",
   "execution_count": 2,
   "id": "8ea527cb",
   "metadata": {},
   "outputs": [],
   "source": [
    "class Solution:\n",
    "    def waysToSplitArray(self, nums):\n",
    "\n",
    "\n",
    "\n",
    "        '''\n",
    "\n",
    "        1 2 3 4 5\n",
    "        1 3 6 10 15\n",
    "\n",
    "        originally i took 2 arrays pre and post \n",
    "        then i removed the post array as all values there \n",
    "        post = totalsum - pre\n",
    "\n",
    "        then i removed pre array as we can just use a variable and \n",
    "        calculate the pre value for every index as the previous pre value is not needed \n",
    "        o(n) o(1) time and space \n",
    "        \n",
    "        \n",
    "\n",
    "\n",
    "        '''\n",
    "\n",
    "        n = len(nums)\n",
    "\n",
    "        cur = 0\n",
    "        total = sum(nums)\n",
    "\n",
    "        ans = 0\n",
    "        for i in range(n-1):\n",
    "\n",
    "            cur += nums[i]\n",
    "            \n",
    "\n",
    "            if cur >= total - cur:\n",
    "                ans += 1\n",
    "        return ans\n",
    "\n",
    "\n",
    "\n",
    "        "
   ]
  },
  {
   "cell_type": "code",
   "execution_count": null,
   "id": "2bd1825d",
   "metadata": {},
   "outputs": [],
   "source": []
  }
 ],
 "metadata": {
  "kernelspec": {
   "display_name": "Python 3 (ipykernel)",
   "language": "python",
   "name": "python3"
  },
  "language_info": {
   "codemirror_mode": {
    "name": "ipython",
    "version": 3
   },
   "file_extension": ".py",
   "mimetype": "text/x-python",
   "name": "python",
   "nbconvert_exporter": "python",
   "pygments_lexer": "ipython3",
   "version": "3.11.4"
  }
 },
 "nbformat": 4,
 "nbformat_minor": 5
}
