{
 "cells": [
  {
   "cell_type": "code",
   "execution_count": 1,
   "id": "ab990fc0",
   "metadata": {},
   "outputs": [],
   "source": [
    "# Trapped water:"
   ]
  },
  {
   "cell_type": "code",
   "execution_count": 2,
   "id": "bac87ebd",
   "metadata": {},
   "outputs": [],
   "source": [
    "class Solution(object):\n",
    "    def trap(self, height):\n",
    "        \"\"\"\n",
    "        :type height: List[int]\n",
    "        :rtype: int\n",
    "\n",
    "\n",
    "        at any particular index the water accumulated is if it has a left high and if it has a right high\n",
    "        the water at index is: min(lm, rm) - the current geight of the index\n",
    "\n",
    "        approach we can do is find the prefix left adn right max and then do a for loop to calculate the answers\n",
    "        \"\"\"\n",
    "\n",
    "        n = len(height)\n",
    "        lp = [0]*n\n",
    "    \n",
    "\n",
    "        mx = height[0]\n",
    "        for i in range(n):\n",
    "\n",
    "            lp[i] = mx\n",
    "            mx = max(mx, height[i])\n",
    "        rp = [0]*n\n",
    "        \n",
    "        mx = height[n-1]\n",
    "\n",
    "        for i in range(n-2, -1, -1):\n",
    "\n",
    "            rp[i] = mx\n",
    "            mx = max(mx, height[i])\n",
    "\n",
    "        ans = 0\n",
    "\n",
    "        for i in range(n):\n",
    "            if height[i] < lp[i] and height[i] < rp[i]:\n",
    "\n",
    "                ans += min(lp[i], rp[i]) - height[i]\n",
    "        return ans\n",
    "        "
   ]
  },
  {
   "cell_type": "code",
   "execution_count": null,
   "id": "51311d7b",
   "metadata": {},
   "outputs": [],
   "source": []
  }
 ],
 "metadata": {
  "kernelspec": {
   "display_name": "Python 3 (ipykernel)",
   "language": "python",
   "name": "python3"
  },
  "language_info": {
   "codemirror_mode": {
    "name": "ipython",
    "version": 3
   },
   "file_extension": ".py",
   "mimetype": "text/x-python",
   "name": "python",
   "nbconvert_exporter": "python",
   "pygments_lexer": "ipython3",
   "version": "3.11.4"
  }
 },
 "nbformat": 4,
 "nbformat_minor": 5
}
