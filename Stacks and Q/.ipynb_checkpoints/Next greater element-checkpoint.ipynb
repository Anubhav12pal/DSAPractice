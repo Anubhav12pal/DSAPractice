{
 "cells": [
  {
   "cell_type": "code",
   "execution_count": 2,
   "id": "c9416112",
   "metadata": {},
   "outputs": [],
   "source": [
    "class Solution(object):\n",
    "    def dailyTemperatures(self, temperatures):\n",
    "        \"\"\"\n",
    "        :type temperatures: List[int]\n",
    "        :rtype: List[int]\n",
    "\n",
    "        7 5 9 1\n",
    "        9 9 0 0\n",
    "\n",
    "        it is next one or the answer of the next one or 0\n",
    "\n",
    "        7 8 9 1\n",
    "        8 9 0 0\n",
    "        \n",
    "        have a monotonic min stack that has the indexes of strictly decreasing elements\n",
    "        \"\"\"\n",
    "\n",
    "\n",
    "        # base double loop\n",
    "       \n",
    "        n = len(temperatures)\n",
    "        ans = [0] * n\n",
    "        st = []\n",
    "        st.append(n-1)\n",
    "\n",
    "        for i in range(n-2, -1, -1):\n",
    "\n",
    "            while st and temperatures[i] >= temperatures[st[-1]]:\n",
    "                st.pop()\n",
    "\n",
    "            if not st:\n",
    "                ans[i] = 0\n",
    "            elif temperatures[i] < temperatures[st[-1]]:\n",
    "                ans[i] = st[-1] - i\n",
    "            st.append(i)\n",
    "        return ans\n",
    "\n",
    "        \n",
    "        "
   ]
  },
  {
   "cell_type": "code",
   "execution_count": null,
   "id": "a903fa4c",
   "metadata": {},
   "outputs": [],
   "source": []
  }
 ],
 "metadata": {
  "kernelspec": {
   "display_name": "Python 3 (ipykernel)",
   "language": "python",
   "name": "python3"
  },
  "language_info": {
   "codemirror_mode": {
    "name": "ipython",
    "version": 3
   },
   "file_extension": ".py",
   "mimetype": "text/x-python",
   "name": "python",
   "nbconvert_exporter": "python",
   "pygments_lexer": "ipython3",
   "version": "3.11.4"
  }
 },
 "nbformat": 4,
 "nbformat_minor": 5
}
