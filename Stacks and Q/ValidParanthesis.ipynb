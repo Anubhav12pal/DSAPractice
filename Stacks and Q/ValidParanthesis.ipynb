{
 "cells": [
  {
   "cell_type": "code",
   "execution_count": 33,
   "id": "1b9e5c31",
   "metadata": {},
   "outputs": [],
   "source": [
    "s = \"{}{{()[()]}}[()]\""
   ]
  },
  {
   "cell_type": "code",
   "execution_count": 34,
   "id": "ba94d1af",
   "metadata": {},
   "outputs": [],
   "source": [
    "def f(s):\n",
    "    \n",
    "    m = {\n",
    "        '{' : '}',\n",
    "        '[' :']',\n",
    "        '(' : ')'\n",
    "    }\n",
    "    \n",
    "    st = []\n",
    "    \n",
    "    for i in s:\n",
    "        \n",
    "        if i in m:\n",
    "            st.append(i)\n",
    "        else:\n",
    "            if i != m[st.pop()]:\n",
    "                return False\n",
    "           \n",
    "    if st:\n",
    "        return False\n",
    "    return True\n",
    "        \n"
   ]
  },
  {
   "cell_type": "code",
   "execution_count": 35,
   "id": "61e0bfbe",
   "metadata": {},
   "outputs": [
    {
     "data": {
      "text/plain": [
       "True"
      ]
     },
     "execution_count": 35,
     "metadata": {},
     "output_type": "execute_result"
    }
   ],
   "source": [
    "f(s)"
   ]
  },
  {
   "cell_type": "code",
   "execution_count": null,
   "id": "2a4f972c",
   "metadata": {},
   "outputs": [],
   "source": []
  }
 ],
 "metadata": {
  "kernelspec": {
   "display_name": "Python 3 (ipykernel)",
   "language": "python",
   "name": "python3"
  },
  "language_info": {
   "codemirror_mode": {
    "name": "ipython",
    "version": 3
   },
   "file_extension": ".py",
   "mimetype": "text/x-python",
   "name": "python",
   "nbconvert_exporter": "python",
   "pygments_lexer": "ipython3",
   "version": "3.11.4"
  }
 },
 "nbformat": 4,
 "nbformat_minor": 5
}
