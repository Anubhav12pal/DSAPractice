{
 "cells": [
  {
   "cell_type": "code",
   "execution_count": null,
   "id": "a7553f50",
   "metadata": {},
   "outputs": [],
   "source": []
  },
  {
   "cell_type": "code",
   "execution_count": 2,
   "id": "ae005b27",
   "metadata": {},
   "outputs": [],
   "source": [
    "class Solution:\n",
    "    # @param A : list of integers\n",
    "    # @return a list of integers\n",
    "    def prevSmaller(self, A):\n",
    "        \n",
    "        n = len(A)\n",
    "        ans = [0]* n\n",
    "        \n",
    "        st = []\n",
    "        ans[0] = -1\n",
    "        st.append(A[0])\n",
    "        \n",
    "        for i in range(1, n):\n",
    "            \n",
    "            while st and A[i] <= st[-1]:\n",
    "                st.pop()\n",
    "            if not st:\n",
    "                ans[i] = -1\n",
    "            \n",
    "            elif A[i] > st[-1]:\n",
    "                ans[i] = st[-1]\n",
    "            st.append(A[i])\n",
    "        return ans"
   ]
  },
  {
   "cell_type": "code",
   "execution_count": 3,
   "id": "e55b2223",
   "metadata": {},
   "outputs": [
    {
     "data": {
      "text/plain": [
       "'\\n\\nHere we take an increasing monotonic stack\\n\\nas if we are at a current index its previous smaller element should be the top of the stack\\nif it is not that means we pop till we find the element\\nif the stack becomes empty then the ans for that is not present\\n\\n'"
      ]
     },
     "execution_count": 3,
     "metadata": {},
     "output_type": "execute_result"
    }
   ],
   "source": [
    "'''\n",
    "\n",
    "Here we take an increasing monotonic stack\n",
    "\n",
    "as if we are at a current index its previous smaller element should be the top of the stack\n",
    "if it is not that means we pop till we find the element\n",
    "if the stack becomes empty then the ans for that is not present\n",
    "\n",
    "'''"
   ]
  },
  {
   "cell_type": "code",
   "execution_count": null,
   "id": "5826aacf",
   "metadata": {},
   "outputs": [],
   "source": []
  }
 ],
 "metadata": {
  "kernelspec": {
   "display_name": "Python 3 (ipykernel)",
   "language": "python",
   "name": "python3"
  },
  "language_info": {
   "codemirror_mode": {
    "name": "ipython",
    "version": 3
   },
   "file_extension": ".py",
   "mimetype": "text/x-python",
   "name": "python",
   "nbconvert_exporter": "python",
   "pygments_lexer": "ipython3",
   "version": "3.11.4"
  }
 },
 "nbformat": 4,
 "nbformat_minor": 5
}
