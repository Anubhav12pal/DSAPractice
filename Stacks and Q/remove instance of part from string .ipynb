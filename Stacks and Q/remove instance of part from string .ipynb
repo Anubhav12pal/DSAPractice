{
 "cells": [
  {
   "cell_type": "code",
   "execution_count": 1,
   "id": "e5a516a5",
   "metadata": {},
   "outputs": [],
   "source": [
    "class Solution:\n",
    "    def removeOccurrences(self, s, part):\n",
    "\n",
    "\n",
    "        stack = []\n",
    "        part_len = len(part)\n",
    "\n",
    "        for char in s:\n",
    "            stack.append(char)\n",
    "        # If the last `len(part)` characters in stack match `part`, remove them\n",
    "            if len(stack) >= part_len and \"\".join(stack[-part_len:]) == part:\n",
    "                del stack[-part_len:]\n",
    "\n",
    "        return \"\".join(stack)"
   ]
  },
  {
   "cell_type": "code",
   "execution_count": 2,
   "id": "0b00fd9b",
   "metadata": {},
   "outputs": [
    {
     "data": {
      "text/plain": [
       "'\\n\\nSimple thing find the length for part and using -ve indexing to extract the last partlen elements from the str\\nuse .join(stack[:]) to get a string to compare from part\\n\\n\\n\\n'"
      ]
     },
     "execution_count": 2,
     "metadata": {},
     "output_type": "execute_result"
    }
   ],
   "source": [
    "'''\n",
    "\n",
    "Simple thing find the length for part and using -ve indexing to extract the last partlen elements from the str\n",
    "use .join(stack[:]) to get a string to compare from part\n",
    "\n",
    "\n",
    "\n",
    "'''"
   ]
  },
  {
   "cell_type": "code",
   "execution_count": null,
   "id": "110af11a",
   "metadata": {},
   "outputs": [],
   "source": []
  }
 ],
 "metadata": {
  "kernelspec": {
   "display_name": "Python 3 (ipykernel)",
   "language": "python",
   "name": "python3"
  },
  "language_info": {
   "codemirror_mode": {
    "name": "ipython",
    "version": 3
   },
   "file_extension": ".py",
   "mimetype": "text/x-python",
   "name": "python",
   "nbconvert_exporter": "python",
   "pygments_lexer": "ipython3",
   "version": "3.11.4"
  }
 },
 "nbformat": 4,
 "nbformat_minor": 5
}
