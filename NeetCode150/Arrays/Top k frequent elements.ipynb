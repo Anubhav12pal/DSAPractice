{
 "cells": [
  {
   "cell_type": "markdown",
   "id": "ad315998",
   "metadata": {},
   "source": [
    "# An input array nums and a number k and we have to return the k most frequent element"
   ]
  },
  {
   "cell_type": "code",
   "execution_count": 3,
   "id": "f5b39119",
   "metadata": {},
   "outputs": [
    {
     "data": {
      "text/plain": [
       "'\\nInput: nums = [1,2,2,3,3,3], k = 2\\n\\nOutput: [2,3]\\nreturn the 2 most freq elements in the array\\n'"
      ]
     },
     "execution_count": 3,
     "metadata": {},
     "output_type": "execute_result"
    }
   ],
   "source": [
    "'''\n",
    "Input: nums = [1,2,2,3,3,3], k = 2\n",
    "\n",
    "Output: [2,3]\n",
    "return the 2 most freq elements in the array\n",
    "'''"
   ]
  },
  {
   "cell_type": "code",
   "execution_count": 1,
   "id": "944be45a",
   "metadata": {},
   "outputs": [],
   "source": [
    "# Creaate an array of size len a then count the number an element occurs and add that to the index of the number of times itoccurs in a list"
   ]
  },
  {
   "cell_type": "code",
   "execution_count": 3,
   "id": "3ae8461e",
   "metadata": {},
   "outputs": [],
   "source": [
    "nums = [1,2,2,3,3,3]\n",
    "k = 2"
   ]
  },
  {
   "cell_type": "code",
   "execution_count": 5,
   "id": "fe2a0892",
   "metadata": {},
   "outputs": [],
   "source": [
    "def kMost(n, k):\n",
    "    count = {}\n",
    "    freq = [[] for i in range(len(n) + 1)]\n",
    "    \n",
    "    for i in nums:\n",
    "        if i in count:\n",
    "            count[i] += 1\n",
    "        \n",
    "        else:\n",
    "            count[i] = 1\n",
    "\n",
    "            # oR U CAN JUST USE Counter function like count = Counter(n)\n",
    "            # Or u use: for i in n: count[i] = 1 + count.get(i,0)\n",
    "    \n",
    "    \n",
    "    # Then we add the number of times each element occurs in a list\n",
    "    \n",
    "    for key,val in count.items():\n",
    "        freq[val].append(key)\n",
    "        \n",
    "    res= []\n",
    "    \n",
    "    for i in range(len(freq) - 1, 0, -1):\n",
    "        for n in freq[i]:\n",
    "            res.append(n)"
   ]
  },
  {
   "cell_type": "code",
   "execution_count": 6,
   "id": "3c92bdbc",
   "metadata": {},
   "outputs": [
    {
     "name": "stdout",
     "output_type": "stream",
     "text": [
      "{1: 1, 2: 2, 3: 3}\n"
     ]
    }
   ],
   "source": [
    "kMost(nums,k)"
   ]
  },
  {
   "cell_type": "code",
   "execution_count": null,
   "id": "d70d2bfe",
   "metadata": {},
   "outputs": [],
   "source": []
  }
 ],
 "metadata": {
  "kernelspec": {
   "display_name": "Python 3 (ipykernel)",
   "language": "python",
   "name": "python3"
  },
  "language_info": {
   "codemirror_mode": {
    "name": "ipython",
    "version": 3
   },
   "file_extension": ".py",
   "mimetype": "text/x-python",
   "name": "python",
   "nbconvert_exporter": "python",
   "pygments_lexer": "ipython3",
   "version": "3.11.4"
  }
 },
 "nbformat": 4,
 "nbformat_minor": 5
}
