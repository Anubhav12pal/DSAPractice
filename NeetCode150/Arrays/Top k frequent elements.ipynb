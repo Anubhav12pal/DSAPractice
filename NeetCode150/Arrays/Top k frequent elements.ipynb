{
 "cells": [
  {
   "cell_type": "markdown",
   "id": "ad315998",
   "metadata": {},
   "source": [
    "# An input array nums and a number k and we have to return the k most frequent element"
   ]
  },
  {
   "cell_type": "code",
   "execution_count": 3,
   "id": "f5b39119",
   "metadata": {},
   "outputs": [
    {
     "data": {
      "text/plain": [
       "'\\nInput: nums = [1,2,2,3,3,3], k = 2\\n\\nOutput: [2,3]\\nreturn the 2 most freq elements in the array\\n'"
      ]
     },
     "execution_count": 3,
     "metadata": {},
     "output_type": "execute_result"
    }
   ],
   "source": [
    "'''\n",
    "Input: nums = [1,2,2,3,3,3], k = 2\n",
    "\n",
    "Output: [2,3]\n",
    "return the 2 most freq elements in the array\n",
    "'''"
   ]
  },
  {
   "cell_type": "code",
   "execution_count": null,
   "id": "944be45a",
   "metadata": {},
   "outputs": [],
   "source": []
  }
 ],
 "metadata": {
  "kernelspec": {
   "display_name": "Python 3 (ipykernel)",
   "language": "python",
   "name": "python3"
  },
  "language_info": {
   "codemirror_mode": {
    "name": "ipython",
    "version": 3
   },
   "file_extension": ".py",
   "mimetype": "text/x-python",
   "name": "python",
   "nbconvert_exporter": "python",
   "pygments_lexer": "ipython3",
   "version": "3.11.4"
  }
 },
 "nbformat": 4,
 "nbformat_minor": 5
}
