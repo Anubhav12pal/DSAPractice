{
 "cells": [
  {
   "cell_type": "markdown",
   "id": "85c39925",
   "metadata": {},
   "source": [
    "# Contains Dupe"
   ]
  },
  {
   "cell_type": "markdown",
   "id": "3ddf19e8",
   "metadata": {},
   "source": [
    "## Return true if a num appears atleast twice"
   ]
  },
  {
   "cell_type": "code",
   "execution_count": 1,
   "id": "23babb3a",
   "metadata": {},
   "outputs": [],
   "source": [
    "n = [1,2,3,1]"
   ]
  },
  {
   "cell_type": "markdown",
   "id": "f8cb9613",
   "metadata": {},
   "source": [
    "# Brute Force"
   ]
  },
  {
   "cell_type": "code",
   "execution_count": 2,
   "id": "7c94e374",
   "metadata": {},
   "outputs": [],
   "source": [
    "# Double for loop\n"
   ]
  },
  {
   "cell_type": "code",
   "execution_count": 3,
   "id": "8ee16533",
   "metadata": {},
   "outputs": [],
   "source": [
    "# Better Sort and check side by side elements"
   ]
  },
  {
   "cell_type": "code",
   "execution_count": 4,
   "id": "167018cd",
   "metadata": {},
   "outputs": [],
   "source": [
    "# Best Use hashmap/set"
   ]
  },
  {
   "cell_type": "code",
   "execution_count": 6,
   "id": "80290714",
   "metadata": {},
   "outputs": [],
   "source": [
    "hm = set()"
   ]
  },
  {
   "cell_type": "code",
   "execution_count": 7,
   "id": "77a9e8f4",
   "metadata": {},
   "outputs": [],
   "source": [
    "def cD():\n",
    "    for i in n:\n",
    "        if i in n:\n",
    "            return True\n",
    "        hm.add(i)\n",
    "    return False"
   ]
  },
  {
   "cell_type": "code",
   "execution_count": null,
   "id": "1e8a2297",
   "metadata": {},
   "outputs": [],
   "source": []
  }
 ],
 "metadata": {
  "kernelspec": {
   "display_name": "Python 3 (ipykernel)",
   "language": "python",
   "name": "python3"
  },
  "language_info": {
   "codemirror_mode": {
    "name": "ipython",
    "version": 3
   },
   "file_extension": ".py",
   "mimetype": "text/x-python",
   "name": "python",
   "nbconvert_exporter": "python",
   "pygments_lexer": "ipython3",
   "version": "3.11.4"
  }
 },
 "nbformat": 4,
 "nbformat_minor": 5
}
