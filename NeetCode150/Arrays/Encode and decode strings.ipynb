{
 "cells": [
  {
   "cell_type": "code",
   "execution_count": 2,
   "id": "ff4484fc",
   "metadata": {},
   "outputs": [
    {
     "data": {
      "text/plain": [
       "'\\nInput: [\"neet\",\"code\",\"love\",\"you\"]\\n\\nOutput:[\"neet\",\"code\",\"love\",\"you\"]\\n\\nFirst join them as into a single string then encode them back to original\\nThe problem is that any character can be given so we cannot use any particular characteras a  delimiter\\n'"
      ]
     },
     "execution_count": 2,
     "metadata": {},
     "output_type": "execute_result"
    }
   ],
   "source": [
    "'''\n",
    "Input: [\"neet\",\"code\",\"love\",\"you\"]\n",
    "\n",
    "Output:[\"neet\",\"code\",\"love\",\"you\"]\n",
    "\n",
    "First join them as into a single string then encode them back to original\n",
    "The problem is that any character can be given so we cannot use any particular characteras a  delimiter\n",
    "'''"
   ]
  },
  {
   "cell_type": "code",
   "execution_count": 1,
   "id": "0b121ace",
   "metadata": {},
   "outputs": [],
   "source": [
    "l = [\"neet\",\"code\",\"love\",\"you\"]"
   ]
  },
  {
   "cell_type": "code",
   "execution_count": 2,
   "id": "007b656f",
   "metadata": {},
   "outputs": [],
   "source": [
    "# Cases: we just add a delimiter but in this case that deliiter can occur in bw strings as well so no\n",
    "# We get the length of the string and put it in the beginning but here too a num can occur\n",
    "# The corrent ans: Add the len and a delimiter in front of the word "
   ]
  },
  {
   "cell_type": "code",
   "execution_count": 3,
   "id": "636dc5e6",
   "metadata": {},
   "outputs": [],
   "source": [
    "def encode(l):\n",
    "    \n",
    "    res = \"\"\n",
    "    \n",
    "    for i in l:\n",
    "        le = len(i)\n",
    "        res += str(le) + '#' + i\n",
    "        \n",
    "    return res\n",
    "        "
   ]
  },
  {
   "cell_type": "code",
   "execution_count": 10,
   "id": "fbf38092",
   "metadata": {},
   "outputs": [],
   "source": [
    "def decode(st):\n",
    "    \n",
    "    res = []\n",
    "    i = 0\n",
    "    \n",
    "    \n",
    "    while i < len(st):\n",
    "        j = i\n",
    "        while st[j] != \"#\":\n",
    "            j+=1\n",
    "            \n",
    "        leng = int(st[i:j])\n",
    "        \n",
    "        res.append(st[j+1: j+1+leng])\n",
    "        i = j+1+leng\n",
    "        \n",
    "    return res\n",
    "            "
   ]
  },
  {
   "cell_type": "code",
   "execution_count": 11,
   "id": "97e97c09",
   "metadata": {},
   "outputs": [
    {
     "name": "stdout",
     "output_type": "stream",
     "text": [
      "4#neet4#code4#love3#you\n"
     ]
    }
   ],
   "source": [
    "ll = encode(l)\n",
    "print(ll)"
   ]
  },
  {
   "cell_type": "code",
   "execution_count": 12,
   "id": "61ce4ccf",
   "metadata": {},
   "outputs": [
    {
     "name": "stdout",
     "output_type": "stream",
     "text": [
      "['neet', 'code', 'love', 'you']\n"
     ]
    }
   ],
   "source": [
    "print(decode(ll))"
   ]
  },
  {
   "cell_type": "code",
   "execution_count": null,
   "id": "56abb6a8",
   "metadata": {},
   "outputs": [],
   "source": []
  }
 ],
 "metadata": {
  "kernelspec": {
   "display_name": "Python 3 (ipykernel)",
   "language": "python",
   "name": "python3"
  },
  "language_info": {
   "codemirror_mode": {
    "name": "ipython",
    "version": 3
   },
   "file_extension": ".py",
   "mimetype": "text/x-python",
   "name": "python",
   "nbconvert_exporter": "python",
   "pygments_lexer": "ipython3",
   "version": "3.11.4"
  }
 },
 "nbformat": 4,
 "nbformat_minor": 5
}
