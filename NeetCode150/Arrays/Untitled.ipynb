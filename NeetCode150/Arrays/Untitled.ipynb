{
 "cells": [
  {
   "cell_type": "markdown",
   "id": "9b147b3a",
   "metadata": {},
   "source": [
    "# Valid Anagram"
   ]
  },
  {
   "cell_type": "code",
   "execution_count": 1,
   "id": "ecac3d72",
   "metadata": {},
   "outputs": [],
   "source": [
    "# Given 2 strings s and t ret t if s is an anagram of s "
   ]
  },
  {
   "cell_type": "code",
   "execution_count": 2,
   "id": "9a981eee",
   "metadata": {},
   "outputs": [],
   "source": [
    "# IF u can make t from s"
   ]
  },
  {
   "cell_type": "code",
   "execution_count": 3,
   "id": "b73dafdb",
   "metadata": {},
   "outputs": [],
   "source": [
    "# Basically count the characters"
   ]
  },
  {
   "cell_type": "code",
   "execution_count": null,
   "id": "9f03ca6e",
   "metadata": {},
   "outputs": [],
   "source": []
  }
 ],
 "metadata": {
  "kernelspec": {
   "display_name": "Python 3 (ipykernel)",
   "language": "python",
   "name": "python3"
  },
  "language_info": {
   "codemirror_mode": {
    "name": "ipython",
    "version": 3
   },
   "file_extension": ".py",
   "mimetype": "text/x-python",
   "name": "python",
   "nbconvert_exporter": "python",
   "pygments_lexer": "ipython3",
   "version": "3.11.4"
  }
 },
 "nbformat": 4,
 "nbformat_minor": 5
}
