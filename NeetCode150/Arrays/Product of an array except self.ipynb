{
 "cells": [
  {
   "cell_type": "code",
   "execution_count": 2,
   "id": "fb611e27",
   "metadata": {},
   "outputs": [
    {
     "data": {
      "text/plain": [
       "'\\nInput: nums = [1,2,4,6]\\n\\nOutput: [48,24,12,8]\\n\\nDont use division\\n'"
      ]
     },
     "execution_count": 2,
     "metadata": {},
     "output_type": "execute_result"
    }
   ],
   "source": [
    "'''\n",
    "Input: nums = [1,2,4,6]\n",
    "\n",
    "Output: [48,24,12,8]\n",
    "\n",
    "Dont use division\n",
    "'''"
   ]
  },
  {
   "cell_type": "code",
   "execution_count": 3,
   "id": "ab40d556",
   "metadata": {},
   "outputs": [],
   "source": [
    "# Ez: multily all and then loop and then div by the cur index value"
   ]
  },
  {
   "cell_type": "code",
   "execution_count": 4,
   "id": "ce862a37",
   "metadata": {},
   "outputs": [],
   "source": [
    "# Use 2 arrays post and pre these contains the pre multiplied values and the post multiplied values then multiply the"
   ]
  },
  {
   "cell_type": "code",
   "execution_count": 5,
   "id": "c72f3fd4",
   "metadata": {},
   "outputs": [],
   "source": [
    "# Best: just use the out array to canlulate the pre and the post"
   ]
  },
  {
   "cell_type": "markdown",
   "id": "74710125",
   "metadata": {},
   "source": [
    "## SECOND 2 EXTRA SPACE APPROACH"
   ]
  },
  {
   "cell_type": "code",
   "execution_count": 26,
   "id": "cbf19b78",
   "metadata": {},
   "outputs": [],
   "source": [
    "nums = [1,2,4,6,5]"
   ]
  },
  {
   "cell_type": "code",
   "execution_count": 27,
   "id": "970b0747",
   "metadata": {},
   "outputs": [],
   "source": [
    "def f1(nums):\n",
    "    pre = [1] * len(nums)\n",
    "    post = [1] * len(nums)\n",
    "    res = [1] * len(nums)\n",
    "    \n",
    "    ele = 1\n",
    "    \n",
    "    for i in range(0, len(nums)):\n",
    "        pre[i] = ele\n",
    "        ele *= nums[i]\n",
    "        \n",
    "    ele = 1\n",
    "    for i in range(len(nums)-1,-1,-1):\n",
    "        post[i] = ele\n",
    "        ele *= nums[i] \n",
    "        \n",
    "    for i in range(0, len(nums)):\n",
    "        res[i] = pre[i] * post[i]\n",
    "        \n",
    "        \n",
    "    print(res)"
   ]
  },
  {
   "cell_type": "code",
   "execution_count": 28,
   "id": "682d39eb",
   "metadata": {},
   "outputs": [
    {
     "name": "stdout",
     "output_type": "stream",
     "text": [
      "[240, 120, 60, 40, 48]\n"
     ]
    }
   ],
   "source": [
    "f1(nums)"
   ]
  },
  {
   "cell_type": "markdown",
   "id": "67b37111",
   "metadata": {},
   "source": [
    "## Best approach without any extra space"
   ]
  },
  {
   "cell_type": "code",
   "execution_count": null,
   "id": "f9f00792",
   "metadata": {},
   "outputs": [],
   "source": []
  }
 ],
 "metadata": {
  "kernelspec": {
   "display_name": "Python 3 (ipykernel)",
   "language": "python",
   "name": "python3"
  },
  "language_info": {
   "codemirror_mode": {
    "name": "ipython",
    "version": 3
   },
   "file_extension": ".py",
   "mimetype": "text/x-python",
   "name": "python",
   "nbconvert_exporter": "python",
   "pygments_lexer": "ipython3",
   "version": "3.11.4"
  }
 },
 "nbformat": 4,
 "nbformat_minor": 5
}
