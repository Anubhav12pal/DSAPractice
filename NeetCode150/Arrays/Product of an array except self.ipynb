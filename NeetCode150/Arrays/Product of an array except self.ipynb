{
 "cells": [
  {
   "cell_type": "code",
   "execution_count": 2,
   "id": "8fa68628",
   "metadata": {},
   "outputs": [
    {
     "data": {
      "text/plain": [
       "'\\nInput: nums = [1,2,4,6]\\n\\nOutput: [48,24,12,8]\\n\\nDont use division\\n'"
      ]
     },
     "execution_count": 2,
     "metadata": {},
     "output_type": "execute_result"
    }
   ],
   "source": [
    "'''\n",
    "Input: nums = [1,2,4,6]\n",
    "\n",
    "Output: [48,24,12,8]\n",
    "\n",
    "Dont use division\n",
    "'''"
   ]
  },
  {
   "cell_type": "code",
   "execution_count": 3,
   "id": "e4db812c",
   "metadata": {},
   "outputs": [],
   "source": [
    "# Ez: multily all and then loop and then div by the cur index value"
   ]
  },
  {
   "cell_type": "code",
   "execution_count": 4,
   "id": "d5ab82d2",
   "metadata": {},
   "outputs": [],
   "source": [
    "# Use 2 arrays post and pre these contains the pre multiplied values and the post multiplied values then multiply the"
   ]
  },
  {
   "cell_type": "code",
   "execution_count": 5,
   "id": "113e0686",
   "metadata": {},
   "outputs": [],
   "source": [
    "# Best: just use the out array to canlulate the pre and the post"
   ]
  },
  {
   "cell_type": "markdown",
   "id": "340aace0",
   "metadata": {},
   "source": [
    "## SECOND 2 EXTRA SPACE APPROACH"
   ]
  },
  {
   "cell_type": "code",
   "execution_count": 26,
   "id": "f006dc39",
   "metadata": {},
   "outputs": [],
   "source": [
    "nums = [1,2,4,6,5]"
   ]
  },
  {
   "cell_type": "code",
   "execution_count": 27,
   "id": "eeb7f1b1",
   "metadata": {},
   "outputs": [],
   "source": [
    "def f1(nums):\n",
    "    pre = [1] * len(nums)\n",
    "    post = [1] * len(nums)\n",
    "    res = [1] * len(nums)\n",
    "    \n",
    "    ele = 1\n",
    "    \n",
    "    for i in range(0, len(nums)):\n",
    "        pre[i] = ele\n",
    "        ele *= nums[i]\n",
    "        \n",
    "    ele = 1\n",
    "    for i in range(len(nums)-1,-1,-1):\n",
    "        post[i] = ele\n",
    "        ele *= nums[i] \n",
    "        \n",
    "    for i in range(0, len(nums)):\n",
    "        res[i] = pre[i] * post[i]\n",
    "        \n",
    "        \n",
    "    print(res)"
   ]
  },
  {
   "cell_type": "code",
   "execution_count": 28,
   "id": "40ac8175",
   "metadata": {},
   "outputs": [
    {
     "name": "stdout",
     "output_type": "stream",
     "text": [
      "[240, 120, 60, 40, 48]\n"
     ]
    }
   ],
   "source": [
    "f1(nums)"
   ]
  },
  {
   "cell_type": "markdown",
   "id": "7502ee2e",
   "metadata": {},
   "source": [
    "## Best approach without any extra space"
   ]
  },
  {
   "cell_type": "code",
   "execution_count": 33,
   "id": "c260d7a2",
   "metadata": {},
   "outputs": [],
   "source": [
    "def f2(nums):\n",
    "    ele  = 1\n",
    "    res = [1] * len(nums)\n",
    "    \n",
    "    for i in range(0, len(nums)):\n",
    "        res[i] = ele\n",
    "        ele *= nums[i] \n",
    "        \n",
    "    ele2 = 1\n",
    "    \n",
    "    for i in range(len(nums) - 1, -1, -1):\n",
    "        res[i] = res[i] * ele2\n",
    "        ele2 *= nums[i]\n",
    "        \n",
    "    print(res)\n",
    "        \n",
    "        "
   ]
  },
  {
   "cell_type": "code",
   "execution_count": 34,
   "id": "3f2aba0c",
   "metadata": {},
   "outputs": [
    {
     "name": "stdout",
     "output_type": "stream",
     "text": [
      "[240, 120, 60, 40, 48]\n"
     ]
    }
   ],
   "source": [
    "f2(nums)"
   ]
  },
  {
   "cell_type": "code",
   "execution_count": null,
   "id": "56dbeda0",
   "metadata": {},
   "outputs": [],
   "source": []
  }
 ],
 "metadata": {
  "kernelspec": {
   "display_name": "Python 3 (ipykernel)",
   "language": "python",
   "name": "python3"
  },
  "language_info": {
   "codemirror_mode": {
    "name": "ipython",
    "version": 3
   },
   "file_extension": ".py",
   "mimetype": "text/x-python",
   "name": "python",
   "nbconvert_exporter": "python",
   "pygments_lexer": "ipython3",
   "version": "3.11.4"
  }
 },
 "nbformat": 4,
 "nbformat_minor": 5
}
