{
 "cells": [
  {
   "cell_type": "markdown",
   "id": "b6895e21",
   "metadata": {},
   "source": [
    "# Group all anagrams together"
   ]
  },
  {
   "cell_type": "code",
   "execution_count": 2,
   "id": "8c6e747f",
   "metadata": {},
   "outputs": [],
   "source": [
    "# Input: strs = [\"act\",\"pots\",\"tops\",\"cat\",\"stop\",\"hat\"]\n",
    "\n",
    "# Output: [[\"hat\"],[\"act\", \"cat\"],[\"stop\", \"pots\", \"tops\"]]\n",
    "# The character appears exactly once\n"
   ]
  },
  {
   "cell_type": "code",
   "execution_count": null,
   "id": "897669cf",
   "metadata": {},
   "outputs": [],
   "source": []
  },
  {
   "cell_type": "code",
   "execution_count": 3,
   "id": "401891cf",
   "metadata": {},
   "outputs": [],
   "source": [
    "# Sort and return O mnlogn"
   ]
  },
  {
   "cell_type": "code",
   "execution_count": 4,
   "id": "3dabb93d",
   "metadata": {},
   "outputs": [],
   "source": [
    "# Use hash map"
   ]
  },
  {
   "cell_type": "code",
   "execution_count": 5,
   "id": "cbd000fb",
   "metadata": {},
   "outputs": [],
   "source": [
    "# As the lettter appears oinly once the we have exactly 1 to 26 possible anagrams "
   ]
  },
  {
   "cell_type": "code",
   "execution_count": 6,
   "id": "91da124d",
   "metadata": {},
   "outputs": [],
   "source": [
    "strs = [\"act\",\"pots\",\"tops\",\"cat\",\"stop\",\"hat\"]"
   ]
  },
  {
   "cell_type": "code",
   "execution_count": 10,
   "id": "ac3207f4",
   "metadata": {},
   "outputs": [],
   "source": [
    "def f1(l):\n",
    "    m = defaultdict(list)\n",
    "    \n",
    "    for s in l:\n",
    "        count = [0] * 26\n",
    "        \n",
    "        for c in s:\n",
    "            count[ord(c) - ord(\"a\")] += 1\n",
    "            \n",
    "        m[tuple(count)].append(s)\n",
    "        \n",
    "    return m.values()\n",
    "            \n",
    "            "
   ]
  },
  {
   "cell_type": "code",
   "execution_count": 11,
   "id": "c3aae302",
   "metadata": {},
   "outputs": [
    {
     "ename": "NameError",
     "evalue": "name 'defaultdict' is not defined",
     "output_type": "error",
     "traceback": [
      "\u001b[0;31m---------------------------------------------------------------------------\u001b[0m",
      "\u001b[0;31mNameError\u001b[0m                                 Traceback (most recent call last)",
      "Cell \u001b[0;32mIn[11], line 1\u001b[0m\n\u001b[0;32m----> 1\u001b[0m f1(strs)\n",
      "Cell \u001b[0;32mIn[10], line 2\u001b[0m, in \u001b[0;36mf1\u001b[0;34m(l)\u001b[0m\n\u001b[1;32m      1\u001b[0m \u001b[38;5;28;01mdef\u001b[39;00m \u001b[38;5;21mf1\u001b[39m(l):\n\u001b[0;32m----> 2\u001b[0m     m \u001b[38;5;241m=\u001b[39m defaultdict(\u001b[38;5;28mlist\u001b[39m)\n\u001b[1;32m      4\u001b[0m     \u001b[38;5;28;01mfor\u001b[39;00m s \u001b[38;5;129;01min\u001b[39;00m l:\n\u001b[1;32m      5\u001b[0m         count \u001b[38;5;241m=\u001b[39m [\u001b[38;5;241m0\u001b[39m] \u001b[38;5;241m*\u001b[39m \u001b[38;5;241m26\u001b[39m\n",
      "\u001b[0;31mNameError\u001b[0m: name 'defaultdict' is not defined"
     ]
    }
   ],
   "source": [
    "f1(strs)"
   ]
  },
  {
   "cell_type": "code",
   "execution_count": 12,
   "id": "fd999b40",
   "metadata": {},
   "outputs": [],
   "source": [
    "# Basically for each str in the list itr creates and array for 26 letters and increments the letter a to z once if they appear and the other remain 0"
   ]
  },
  {
   "cell_type": "code",
   "execution_count": 13,
   "id": "986025fd",
   "metadata": {},
   "outputs": [],
   "source": [
    "# This happens for all words"
   ]
  },
  {
   "cell_type": "code",
   "execution_count": null,
   "id": "61718987",
   "metadata": {},
   "outputs": [],
   "source": [
    "# We"
   ]
  }
 ],
 "metadata": {
  "kernelspec": {
   "display_name": "Python 3 (ipykernel)",
   "language": "python",
   "name": "python3"
  },
  "language_info": {
   "codemirror_mode": {
    "name": "ipython",
    "version": 3
   },
   "file_extension": ".py",
   "mimetype": "text/x-python",
   "name": "python",
   "nbconvert_exporter": "python",
   "pygments_lexer": "ipython3",
   "version": "3.11.4"
  }
 },
 "nbformat": 4,
 "nbformat_minor": 5
}
