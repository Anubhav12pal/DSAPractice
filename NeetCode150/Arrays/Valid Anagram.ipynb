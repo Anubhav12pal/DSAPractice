{
 "cells": [
  {
   "cell_type": "markdown",
   "id": "0d81de19",
   "metadata": {},
   "source": [
    "# Valid Anagram"
   ]
  },
  {
   "cell_type": "code",
   "execution_count": 1,
   "id": "1887e820",
   "metadata": {},
   "outputs": [],
   "source": [
    "# Given 2 strings s and t ret t if s is an anagram of s "
   ]
  },
  {
   "cell_type": "code",
   "execution_count": 2,
   "id": "284f9ca8",
   "metadata": {},
   "outputs": [],
   "source": [
    "# IF u can make t from s"
   ]
  },
  {
   "cell_type": "code",
   "execution_count": 3,
   "id": "a9eaf65f",
   "metadata": {},
   "outputs": [],
   "source": [
    "# Basically count the characters"
   ]
  },
  {
   "cell_type": "code",
   "execution_count": 4,
   "id": "dc75dc5e",
   "metadata": {},
   "outputs": [],
   "source": [
    "# First sort the string and compare them"
   ]
  },
  {
   "cell_type": "code",
   "execution_count": 17,
   "id": "1d3e6c9d",
   "metadata": {},
   "outputs": [],
   "source": [
    "l = \"anagram\"\n",
    "ll = \"aamangr\""
   ]
  },
  {
   "cell_type": "code",
   "execution_count": 18,
   "id": "f7bd8f0c",
   "metadata": {},
   "outputs": [],
   "source": [
    "def f1(l,ll):\n",
    "    return sorted(l) == sorted(ll)"
   ]
  },
  {
   "cell_type": "code",
   "execution_count": 19,
   "id": "689a09cd",
   "metadata": {},
   "outputs": [
    {
     "data": {
      "text/plain": [
       "True"
      ]
     },
     "execution_count": 19,
     "metadata": {},
     "output_type": "execute_result"
    }
   ],
   "source": [
    "f1(l, ll)"
   ]
  },
  {
   "cell_type": "code",
   "execution_count": 20,
   "id": "0193ca5f",
   "metadata": {},
   "outputs": [],
   "source": [
    "# Use hashmap to count"
   ]
  },
  {
   "cell_type": "code",
   "execution_count": 21,
   "id": "dee17b95",
   "metadata": {},
   "outputs": [],
   "source": [
    "m1, m2 = {}, {}"
   ]
  },
  {
   "cell_type": "code",
   "execution_count": null,
   "id": "03d279a7",
   "metadata": {},
   "outputs": [],
   "source": [
    "def f2(l, ll):\n",
    "    if len(l) != len(ll):\n",
    "        return False\n",
    "    \n",
    "    for i in range(0, len(l)):\n",
    "        m1[l[i]] = 1+ m1.get(l[i], 0)\n",
    "        m2[ll[i]] = 1 + m2.get(ll[i],0)\n",
    "        \n",
    "    for c in m1:\n",
    "        if m1[c] != m2.get()"
   ]
  }
 ],
 "metadata": {
  "kernelspec": {
   "display_name": "Python 3 (ipykernel)",
   "language": "python",
   "name": "python3"
  },
  "language_info": {
   "codemirror_mode": {
    "name": "ipython",
    "version": 3
   },
   "file_extension": ".py",
   "mimetype": "text/x-python",
   "name": "python",
   "nbconvert_exporter": "python",
   "pygments_lexer": "ipython3",
   "version": "3.11.4"
  }
 },
 "nbformat": 4,
 "nbformat_minor": 5
}
