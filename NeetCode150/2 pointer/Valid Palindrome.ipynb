{
 "cells": [
  {
   "cell_type": "code",
   "execution_count": 2,
   "id": "73f3a1a8",
   "metadata": {},
   "outputs": [
    {
     "data": {
      "text/plain": [
       "'\\n\\nInput: s = \"Was it a car or a cat I saw?\"\\n\\nOutput: true\\n\\nignoring symbols and upper and lower cases\\n\\n\\n'"
      ]
     },
     "execution_count": 2,
     "metadata": {},
     "output_type": "execute_result"
    }
   ],
   "source": [
    "'''\n",
    "\n",
    "Input: s = \"Was it a car or a cat I saw?\"\n",
    "\n",
    "Output: true\n",
    "\n",
    "ignoring symbols and upper and lower cases\n",
    "\n",
    "\n",
    "'''"
   ]
  },
  {
   "cell_type": "code",
   "execution_count": 20,
   "id": "ec70cc3d",
   "metadata": {},
   "outputs": [],
   "source": [
    " s = \"Was it a car or a cat I saw?\""
   ]
  },
  {
   "cell_type": "code",
   "execution_count": 21,
   "id": "dacdd2f5",
   "metadata": {},
   "outputs": [],
   "source": [
    "def isP(s):\n",
    "    \n",
    "    ns = \"\"\n",
    "    \n",
    "    for c in s:\n",
    "        if c.isalnum():\n",
    "            ns += c.lower()\n",
    "            \n",
    "    return ns == ns[::-1]"
   ]
  },
  {
   "cell_type": "code",
   "execution_count": 22,
   "id": "49f6d4ca",
   "metadata": {},
   "outputs": [
    {
     "data": {
      "text/plain": [
       "True"
      ]
     },
     "execution_count": 22,
     "metadata": {},
     "output_type": "execute_result"
    }
   ],
   "source": [
    "isP(s)"
   ]
  },
  {
   "cell_type": "markdown",
   "id": "9837ae78",
   "metadata": {},
   "source": [
    "# Better"
   ]
  },
  {
   "cell_type": "code",
   "execution_count": 23,
   "id": "ee36874c",
   "metadata": {},
   "outputs": [],
   "source": [
    "\n",
    "\n",
    "def alp(c):\n",
    "    \n",
    "    return ((ord('A') <= ord(c) <=ord('Z')) or (ord('a') <= ord(c) <=ord('z')) or (ord('0') <= ord(c) <=ord('9')))\n",
    "    \n",
    "\n",
    "def iP(s):\n",
    "    l = 0\n",
    "    r = len(s) - 1\n",
    "    \n",
    "    while l < r:\n",
    "        \n",
    "        while not alp(s[l]) and l < r:\n",
    "            l += 1\n",
    "            \n",
    "        while not alp(s[r]) and l < r:\n",
    "            r -= 1\n",
    "            \n",
    "        \n",
    "        \n",
    "        if s[l].lower() != s[r].lower():\n",
    "            return False\n",
    "        \n",
    "        l += 1\n",
    "        r -= 1\n",
    "        \n",
    "        \n",
    "    return True\n",
    "    \n",
    "    "
   ]
  },
  {
   "cell_type": "code",
   "execution_count": 24,
   "id": "83238329",
   "metadata": {},
   "outputs": [
    {
     "data": {
      "text/plain": [
       "True"
      ]
     },
     "execution_count": 24,
     "metadata": {},
     "output_type": "execute_result"
    }
   ],
   "source": [
    "iP(s)"
   ]
  },
  {
   "cell_type": "code",
   "execution_count": null,
   "id": "d99cf4cf",
   "metadata": {},
   "outputs": [],
   "source": []
  }
 ],
 "metadata": {
  "kernelspec": {
   "display_name": "Python 3 (ipykernel)",
   "language": "python",
   "name": "python3"
  },
  "language_info": {
   "codemirror_mode": {
    "name": "ipython",
    "version": 3
   },
   "file_extension": ".py",
   "mimetype": "text/x-python",
   "name": "python",
   "nbconvert_exporter": "python",
   "pygments_lexer": "ipython3",
   "version": "3.11.4"
  }
 },
 "nbformat": 4,
 "nbformat_minor": 5
}
