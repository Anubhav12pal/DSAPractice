{
 "cells": [
  {
   "cell_type": "code",
   "execution_count": 1,
   "id": "b5f5eb81",
   "metadata": {},
   "outputs": [],
   "source": [
    "# Definition for singly-linked list.\n",
    "# class ListNode(object):\n",
    "#     def __init__(self, val=0, next=None):\n",
    "#         self.val = val\n",
    "#         self.next = next\n",
    "class Solution(object):\n",
    "\n",
    "\n",
    "    def findN(self, head, k):\n",
    "\n",
    "        if head == None or k == 1:\n",
    "            return head\n",
    "\n",
    "        temp = head\n",
    "\n",
    "        for i in range(k-1):\n",
    "            temp = temp.next\n",
    "\n",
    "        return temp\n",
    "\n",
    "\n",
    "\n",
    "    def rotateRight(self, head, k):\n",
    "        \"\"\"\n",
    "        :type head: ListNode\n",
    "        :type k: int\n",
    "        :rtype: ListNode\n",
    "        \"\"\"\n",
    "\n",
    "        if head == None or k == 0:\n",
    "            return head\n",
    "\n",
    "        temp = head\n",
    "        l = 1\n",
    "\n",
    "        while temp.next != None:\n",
    "            temp = temp.next\n",
    "            l += 1\n",
    "\n",
    "        if k % l == 0:\n",
    "            return head\n",
    "        \n",
    "        k = k% l\n",
    "\n",
    "        temp.next = head\n",
    "\n",
    "        nNode = self.findN(head, l - k)\n",
    "        nhead = nNode.next\n",
    "        nNode.next = None\n",
    "\n",
    "        return nhead\n",
    "\n",
    "\n",
    "\n",
    "        "
   ]
  },
  {
   "cell_type": "code",
   "execution_count": null,
   "id": "34cbc741",
   "metadata": {},
   "outputs": [],
   "source": []
  }
 ],
 "metadata": {
  "kernelspec": {
   "display_name": "Python 3 (ipykernel)",
   "language": "python",
   "name": "python3"
  },
  "language_info": {
   "codemirror_mode": {
    "name": "ipython",
    "version": 3
   },
   "file_extension": ".py",
   "mimetype": "text/x-python",
   "name": "python",
   "nbconvert_exporter": "python",
   "pygments_lexer": "ipython3",
   "version": "3.11.4"
  }
 },
 "nbformat": 4,
 "nbformat_minor": 5
}
