{
 "cells": [
  {
   "cell_type": "code",
   "execution_count": 1,
   "id": "ac2bceff",
   "metadata": {},
   "outputs": [
    {
     "data": {
      "text/plain": [
       "'\\nif a node is visited more than once then loop is there\\n\\n'"
      ]
     },
     "execution_count": 1,
     "metadata": {},
     "output_type": "execute_result"
    }
   ],
   "source": [
    "'''\n",
    "if a node is visited more than once then loop is there\n",
    "\n",
    "'''"
   ]
  },
  {
   "cell_type": "markdown",
   "id": "62ba5b75",
   "metadata": {},
   "source": [
    "# Ez"
   ]
  },
  {
   "cell_type": "code",
   "execution_count": 2,
   "id": "87a53e98",
   "metadata": {},
   "outputs": [
    {
     "data": {
      "text/plain": [
       "'\\n\\nHash map if an element is visited more than once then inc the count to 2 if thatr value \\nincreases to 2 then yes there is a lopp\\n\\n'"
      ]
     },
     "execution_count": 2,
     "metadata": {},
     "output_type": "execute_result"
    }
   ],
   "source": [
    "'''\n",
    "\n",
    "Hash map if an element is visited more than once then inc the count to 2 if thatr value \n",
    "increases to 2 then yes there is a lopp\n",
    "\n",
    "'''"
   ]
  },
  {
   "cell_type": "code",
   "execution_count": 3,
   "id": "a615cadc",
   "metadata": {},
   "outputs": [],
   "source": [
    "# Definition for singly-linked list.\n",
    "# class ListNode(object):\n",
    "#     def __init__(self, x):\n",
    "#         self.val = x\n",
    "#         self.next = None\n",
    "\n",
    "class Solution(object):\n",
    "    def hasCycle(self, head):\n",
    "        \"\"\"\n",
    "        :type head: ListNode\n",
    "        :rtype: bool\n",
    "        \"\"\"\n",
    "\n",
    "\n",
    "        m = {}\n",
    "\n",
    "        temp = head\n",
    "\n",
    "        while temp != None:\n",
    "\n",
    "            if temp in m:\n",
    "                return True\n",
    "            m[temp] = 1\n",
    "            temp = temp.next\n",
    "\n",
    "        return False\n",
    "        "
   ]
  },
  {
   "cell_type": "code",
   "execution_count": 4,
   "id": "63d4b002",
   "metadata": {},
   "outputs": [
    {
     "data": {
      "text/plain": [
       "'\\nelse use slow and fast tortoise hare algo\\n\\nif they are in the same thing then there is a loop\\n\\n'"
      ]
     },
     "execution_count": 4,
     "metadata": {},
     "output_type": "execute_result"
    }
   ],
   "source": [
    "'''\n",
    "else use slow and fast tortoise hare algo\n",
    "\n",
    "if they are in the same thing then there is a loop\n",
    "\n",
    "'''"
   ]
  },
  {
   "cell_type": "code",
   "execution_count": 5,
   "id": "52c50795",
   "metadata": {},
   "outputs": [],
   "source": [
    "# Definition for singly-linked list.\n",
    "# class ListNode(object):\n",
    "#     def __init__(self, x):\n",
    "#         self.val = x\n",
    "#         self.next = None\n",
    "\n",
    "class Solution(object):\n",
    "    def hasCycle(self, head):\n",
    "        \"\"\"\n",
    "        :type head: ListNode\n",
    "        :rtype: bool\n",
    "        \"\"\"\n",
    "        if head == None or head.next == None:\n",
    "            return False\n",
    "\n",
    "        slow = head\n",
    "        fast = head\n",
    "\n",
    "        while fast != None and fast.next != None:\n",
    "            slow = slow.next\n",
    "            fast = fast.next.next\n",
    "\n",
    "            if slow == fast:\n",
    "                return True\n",
    "\n",
    "        return False\n",
    "        "
   ]
  },
  {
   "cell_type": "code",
   "execution_count": null,
   "id": "95de801e",
   "metadata": {},
   "outputs": [],
   "source": []
  }
 ],
 "metadata": {
  "kernelspec": {
   "display_name": "Python 3 (ipykernel)",
   "language": "python",
   "name": "python3"
  },
  "language_info": {
   "codemirror_mode": {
    "name": "ipython",
    "version": 3
   },
   "file_extension": ".py",
   "mimetype": "text/x-python",
   "name": "python",
   "nbconvert_exporter": "python",
   "pygments_lexer": "ipython3",
   "version": "3.11.4"
  }
 },
 "nbformat": 4,
 "nbformat_minor": 5
}
