{
 "cells": [
  {
   "cell_type": "code",
   "execution_count": 1,
   "id": "fd0996ac",
   "metadata": {},
   "outputs": [],
   "source": [
    "# Definition for singly-linked list.\n",
    "# class ListNode(object):\n",
    "#     def __init__(self, val=0, next=None):\n",
    "#         self.val = val\n",
    "#         self.next = next\n",
    "class Solution(object):\n",
    "    def oddEvenList(self, head):\n",
    "        \"\"\"\n",
    "        :type head: ListNode\n",
    "        :rtype: ListNode\n",
    "        \"\"\"\n",
    "        \n",
    "        if not head:\n",
    "            return head\n",
    "        head1 = head\n",
    "        head2 = head1.next\n",
    "        temp1 = head1\n",
    "        temp2 = head2\n",
    "\n",
    "        while temp1.next and temp2.next:\n",
    "            temp1.next = temp2.next\n",
    "            temp1 = temp2.next\n",
    "            temp2.next = temp1.next\n",
    "            temp2 = temp1.next\n",
    "        temp1.next = head2\n",
    "\n",
    "        return head"
   ]
  },
  {
   "cell_type": "code",
   "execution_count": null,
   "id": "3f7529d8",
   "metadata": {},
   "outputs": [],
   "source": []
  }
 ],
 "metadata": {
  "kernelspec": {
   "display_name": "Python 3 (ipykernel)",
   "language": "python",
   "name": "python3"
  },
  "language_info": {
   "codemirror_mode": {
    "name": "ipython",
    "version": 3
   },
   "file_extension": ".py",
   "mimetype": "text/x-python",
   "name": "python",
   "nbconvert_exporter": "python",
   "pygments_lexer": "ipython3",
   "version": "3.11.4"
  }
 },
 "nbformat": 4,
 "nbformat_minor": 5
}
