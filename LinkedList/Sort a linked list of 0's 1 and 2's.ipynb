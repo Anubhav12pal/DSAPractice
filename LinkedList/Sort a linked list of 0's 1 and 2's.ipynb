{
 "cells": [
  {
   "cell_type": "code",
   "execution_count": 1,
   "id": "fe159a67",
   "metadata": {},
   "outputs": [],
   "source": [
    "\n",
    "#Following is the structure of the Node class already defined.\n",
    "\n",
    "class Node:\n",
    "    def __init__(self, data):\n",
    "        self.data = data\n",
    "        self.next = None\n",
    "        \n",
    "\n",
    "\n",
    "def sortList(head):\n",
    "    # Write your code here\n",
    "\n",
    "    if head is None or head.next == None:\n",
    "        return head\n",
    "    \n",
    "    zeroHead = Node(-1)\n",
    "    oneHead = Node(-1)\n",
    "    twoHead = Node(-1)\n",
    "\n",
    "    one = oneHead\n",
    "    two = twoHead\n",
    "    zero = zeroHead\n",
    "\n",
    "    temp = head\n",
    "\n",
    "    while temp != None:\n",
    "        if temp.data == 0:\n",
    "            zero.next = temp\n",
    "            zero = temp\n",
    "        elif temp.data == 1:\n",
    "            one.next = temp\n",
    "            one = temp\n",
    "        else:\n",
    "            two.next = temp\n",
    "            two = temp\n",
    "\n",
    "        temp = temp.next\n",
    "\n",
    "    zero.next = oneHead.next if oneHead.next else twoHead.next\n",
    "    one.next = twoHead.next\n",
    "    two.next = None\n",
    "    return zeroHead.next\n",
    "\n",
    "\n",
    "\n",
    "\n",
    "\n",
    "    "
   ]
  },
  {
   "cell_type": "code",
   "execution_count": null,
   "id": "6f19ee57",
   "metadata": {},
   "outputs": [],
   "source": []
  }
 ],
 "metadata": {
  "kernelspec": {
   "display_name": "Python 3 (ipykernel)",
   "language": "python",
   "name": "python3"
  },
  "language_info": {
   "codemirror_mode": {
    "name": "ipython",
    "version": 3
   },
   "file_extension": ".py",
   "mimetype": "text/x-python",
   "name": "python",
   "nbconvert_exporter": "python",
   "pygments_lexer": "ipython3",
   "version": "3.11.4"
  }
 },
 "nbformat": 4,
 "nbformat_minor": 5
}
