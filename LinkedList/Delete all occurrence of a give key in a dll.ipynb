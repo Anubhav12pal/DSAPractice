{
 "cells": [
  {
   "cell_type": "code",
   "execution_count": 1,
   "id": "136b2363",
   "metadata": {},
   "outputs": [],
   "source": [
    "class Solution:\n",
    "    #Function to delete all the occurances of a key from the linked list.\n",
    "    def deleteAllOccurOfX(self, head, x):\n",
    "        \n",
    "        \n",
    "        \n",
    "        \n",
    "        temp = head\n",
    "       \n",
    "        \n",
    "        while temp != None:\n",
    "            \n",
    "            if temp.data == key:\n",
    "                if temp == head:\n",
    "                    head = head.next\n",
    "                next = temp.next\n",
    "                prev = temp.prev\n",
    "                \n",
    "                if next:\n",
    "                    next.prev = prev\n",
    "                    \n",
    "                if prev:\n",
    "                    prev.next = next\n",
    "                temp = temp.next\n",
    "            else:\n",
    "                temp = temp.next\n",
    "                \n",
    "        return head"
   ]
  },
  {
   "cell_type": "code",
   "execution_count": null,
   "id": "c8013d55",
   "metadata": {},
   "outputs": [],
   "source": []
  }
 ],
 "metadata": {
  "kernelspec": {
   "display_name": "Python 3 (ipykernel)",
   "language": "python",
   "name": "python3"
  },
  "language_info": {
   "codemirror_mode": {
    "name": "ipython",
    "version": 3
   },
   "file_extension": ".py",
   "mimetype": "text/x-python",
   "name": "python",
   "nbconvert_exporter": "python",
   "pygments_lexer": "ipython3",
   "version": "3.11.4"
  }
 },
 "nbformat": 4,
 "nbformat_minor": 5
}
