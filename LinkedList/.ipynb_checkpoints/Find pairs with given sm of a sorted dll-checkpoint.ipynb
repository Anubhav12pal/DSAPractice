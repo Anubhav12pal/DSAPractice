{
 "cells": [
  {
   "cell_type": "code",
   "execution_count": 4,
   "id": "97461d8d",
   "metadata": {},
   "outputs": [],
   "source": [
    "class Solution:\n",
    "    def findPairsWithGivenSum(self, target : int, head ) :\n",
    "        # code here\n",
    "        \n",
    "        l = head\n",
    "        \n",
    "        r = None\n",
    "        lis = []\n",
    "        \n",
    "        while l.next != None:\n",
    "            l = l.next\n",
    "        r = l\n",
    "        l = head\n",
    "        \n",
    "        while l.data < r.data:\n",
    "            \n",
    "            if l.data + r.data == target:\n",
    "                lis.append([l.data , r.data])\n",
    "                l = l.next\n",
    "                r = r.prev\n",
    "            elif l.data + r.data < target:\n",
    "                l = l.next\n",
    "            else:\n",
    "                r = r.prev\n",
    "                \n",
    "        return lis"
   ]
  },
  {
   "cell_type": "code",
   "execution_count": null,
   "id": "4eaf6b9a",
   "metadata": {},
   "outputs": [],
   "source": []
  }
 ],
 "metadata": {
  "kernelspec": {
   "display_name": "Python 3 (ipykernel)",
   "language": "python",
   "name": "python3"
  },
  "language_info": {
   "codemirror_mode": {
    "name": "ipython",
    "version": 3
   },
   "file_extension": ".py",
   "mimetype": "text/x-python",
   "name": "python",
   "nbconvert_exporter": "python",
   "pygments_lexer": "ipython3",
   "version": "3.11.4"
  }
 },
 "nbformat": 4,
 "nbformat_minor": 5
}
