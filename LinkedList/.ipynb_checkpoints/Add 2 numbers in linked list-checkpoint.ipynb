{
 "cells": [
  {
   "cell_type": "code",
   "execution_count": 2,
   "id": "0882170f",
   "metadata": {},
   "outputs": [
    {
     "data": {
      "text/plain": [
       "'\\ntwo linked lists: 2- 4- 6 - X\\n            l2 = 3-8-7-x\\n            \\n            reverse the linked list and add the numbers\\n            ans = 642 + 783 = 1 4 2 5\\n            \\n            \\n        return a linked list as    5 - 2- 4- 1\\n\\n\\n\\n'"
      ]
     },
     "execution_count": 2,
     "metadata": {},
     "output_type": "execute_result"
    }
   ],
   "source": [
    "'''\n",
    "two linked lists: 2- 4- 6 - X\n",
    "            l2 = 3-8-7-x\n",
    "            \n",
    "            reverse the linked list and add the numbers\n",
    "            ans = 642 + 783 = 1 4 2 5\n",
    "            \n",
    "            \n",
    "        return a linked list as    5 - 2- 4- 1\n",
    "\n",
    "\n",
    "\n",
    "'''"
   ]
  },
  {
   "cell_type": "code",
   "execution_count": 20,
   "id": "0e3b9397",
   "metadata": {},
   "outputs": [],
   "source": [
    "class Node:\n",
    "    \n",
    "    def __init__(self, data = None, next = None):\n",
    "        self.data = data\n",
    "        self.next = next"
   ]
  },
  {
   "cell_type": "code",
   "execution_count": 33,
   "id": "eb9f5f64",
   "metadata": {},
   "outputs": [],
   "source": [
    "class lis:\n",
    "    def __init__(self):\n",
    "        self.head = None\n",
    "        \n",
    "    def add(self, data):\n",
    "        node = Node(data)\n",
    "        \n",
    "        if self.head == None:\n",
    "            self.head = node\n",
    "        \n",
    "        else:\n",
    "            temp = self.head\n",
    "            while temp.next != None:\n",
    "                temp = temp.next\n",
    "                \n",
    "            temp.next = node\n",
    "            \n",
    "            \n",
    "    def printList(self):\n",
    "        \n",
    "        if self.head == None:\n",
    "            print(\"Empty List\")\n",
    "        else:\n",
    "            temp = self.head\n",
    "            while temp != None:\n",
    "                print(str(temp.data) + \" ->\", end=\" \" if temp.next else \"None\\n\")\n",
    "                temp =temp.next\n",
    "        \n",
    "        "
   ]
  },
  {
   "cell_type": "code",
   "execution_count": 36,
   "id": "d2c83110",
   "metadata": {},
   "outputs": [
    {
     "name": "stdout",
     "output_type": "stream",
     "text": [
      "List\n",
      "2 -> 4 -> 6 ->None\n",
      "3 -> 8 -> 7 ->None\n"
     ]
    }
   ],
   "source": [
    "l1 = [2,4,6]\n",
    "l2 = [3,8,7]\n",
    "\n",
    "ll1 = lis()\n",
    "ll2 = lis()\n",
    "\n",
    "for i in l1:\n",
    "    ll1.add(i)\n",
    "    \n",
    "for i in l2:\n",
    "    ll2.add(i)\n",
    "\n",
    "print(\"List\")\n",
    "ll1.printList()\n",
    "ll2.printList()\n",
    "\n",
    "def sum(l1, l2):\n",
    "    \n",
    "    carry = 0\n",
    "    new = lis()\n",
    "    tem = new\n",
    "    \n",
    "    t1 = l1\n",
    "    t2 = l2\n",
    "    \n",
    "    while t1 != None or t2 != None:\n",
    "        \n",
    "        sum = carry\n",
    "        \n",
    "        if t1:\n",
    "            sum += t1.data\n",
    "        if t2:\n",
    "            sum += t2.data\n",
    "        \n",
    "        temp = Node(sum % 10)\n",
    "        carry = sum/10\n",
    "        \n",
    "        tem.add(temp)\n",
    "        if t1:\n",
    "            t1=t1.next\n",
    "        if t2:\n",
    "            t2 = t2.next\n",
    "        \n",
    "        \n",
    "    if carry:\n",
    "        node = Node(carry)\n",
    "        tem.next = node\n",
    "        \n",
    "        \n",
    "\n"
   ]
  },
  {
   "cell_type": "code",
   "execution_count": 38,
   "id": "8c263587",
   "metadata": {},
   "outputs": [
    {
     "data": {
      "text/plain": [
       "' \\nBetter approach take a dummy node and let it be the head and then work throgh\\nthe soln and in the end return dummynode.head'"
      ]
     },
     "execution_count": 38,
     "metadata": {},
     "output_type": "execute_result"
    }
   ],
   "source": [
    "''' \n",
    "Better approach take a dummy node and let it be the head and then work throgh\n",
    "the soln and in the end return dummynode.head'''"
   ]
  },
  {
   "cell_type": "code",
   "execution_count": null,
   "id": "af3bdcaf",
   "metadata": {},
   "outputs": [],
   "source": []
  }
 ],
 "metadata": {
  "kernelspec": {
   "display_name": "Python 3 (ipykernel)",
   "language": "python",
   "name": "python3"
  },
  "language_info": {
   "codemirror_mode": {
    "name": "ipython",
    "version": 3
   },
   "file_extension": ".py",
   "mimetype": "text/x-python",
   "name": "python",
   "nbconvert_exporter": "python",
   "pygments_lexer": "ipython3",
   "version": "3.11.4"
  }
 },
 "nbformat": 4,
 "nbformat_minor": 5
}
