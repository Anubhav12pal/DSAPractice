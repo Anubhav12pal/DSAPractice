{
 "cells": [
  {
   "cell_type": "code",
   "execution_count": 1,
   "id": "e287ffec",
   "metadata": {},
   "outputs": [],
   "source": [
    "# Definition for singly-linked list.\n",
    "# class ListNode(object):\n",
    "#     def __init__(self, val=0, next=None):\n",
    "#         self.val = val\n",
    "#         self.next = next\n",
    "class Solution(object):\n",
    "    def removeNthFromEnd(self, head, n):\n",
    "        \"\"\"\n",
    "        :type head: ListNode\n",
    "        :type n: int\n",
    "        :rtype: ListNode\n",
    "        \"\"\"\n",
    "\n",
    "        count = 0\n",
    "        temp = head\n",
    "\n",
    "        if head == None:\n",
    "            return head\n",
    "\n",
    "        while temp is not None:\n",
    "            count += 1\n",
    "            temp = temp.next\n",
    "\n",
    "        if count == n:\n",
    "            nh = head.next\n",
    "            return nh\n",
    "\n",
    "        temp = head\n",
    "        for i in range(1, count - n):\n",
    "            temp = temp.next\n",
    "        temp.next = temp.next.next\n",
    "\n",
    "        return head\n",
    "\n",
    "\n",
    "\n",
    "    \n",
    "        "
   ]
  },
  {
   "cell_type": "code",
   "execution_count": 2,
   "id": "65d4005a",
   "metadata": {},
   "outputs": [
    {
     "data": {
      "text/plain": [
       "' \\nThe above method runs 2 times we can do that in 1 pass but how\\n\\nWe can use slow and fast pointer\\n\\nwe let the fast pointer go to nth element and then start the slow pointer form the start and once we reach the end\\nthe show pointer will be on the nth place from the end and we can do whatwe want\\n\\n'"
      ]
     },
     "execution_count": 2,
     "metadata": {},
     "output_type": "execute_result"
    }
   ],
   "source": [
    "''' \n",
    "The above method runs 2 times we can do that in 1 pass but how\n",
    "\n",
    "We can use slow and fast pointer\n",
    "\n",
    "we let the fast pointer go to nth element and then start the slow pointer form the start and once we reach the end\n",
    "the show pointer will be on the nth place from the end and we can do whatwe want\n",
    "\n",
    "'''"
   ]
  },
  {
   "cell_type": "code",
   "execution_count": 3,
   "id": "4aef1f11",
   "metadata": {},
   "outputs": [],
   "source": [
    "# Definition for singly-linked list.\n",
    "# class ListNode(object):\n",
    "#     def __init__(self, val=0, next=None):\n",
    "#         self.val = val\n",
    "#         self.next = next\n",
    "class Solution(object):\n",
    "    def removeNthFromEnd(self, head, n):\n",
    "        \"\"\"\n",
    "        :type head: ListNode\n",
    "        :type n: int\n",
    "        :rtype: ListNode\n",
    "        \"\"\"\n",
    "\n",
    "\n",
    "        fast = head\n",
    "        slow = head\n",
    "\n",
    "        if head == None:\n",
    "            return head\n",
    "\n",
    "        for i in range(n):\n",
    "            fast = fast.next\n",
    "\n",
    "        if fast == None:\n",
    "            return head.next\n",
    "            \n",
    "            \n",
    "\n",
    "        while fast.next != None:\n",
    "         \n",
    "            slow = slow.next\n",
    "            fast = fast.next\n",
    "\n",
    "       \n",
    "\n",
    "        slow.next = slow.next.next\n",
    "\n",
    "        \n",
    "\n",
    "        return head\n",
    "\n",
    "\n",
    "\n",
    "    \n",
    "        "
   ]
  },
  {
   "cell_type": "code",
   "execution_count": 4,
   "id": "16db27ba",
   "metadata": {},
   "outputs": [
    {
     "data": {
      "text/plain": [
       "' \\nSome clarafications\\nFirst when n = length then:\\nfast moves n times and becomes None\\n and as its none the condition executes and se return head.next\\n \\nin case of n = len - 1 \\nthe fast moves to the end of the list and its next is None due to this the if and teh while loop both are not executed\\nand we straight do : slow.next = slow.next.next\\n\\nLastly any other case the while loop gets executed\\n\\n'"
      ]
     },
     "execution_count": 4,
     "metadata": {},
     "output_type": "execute_result"
    }
   ],
   "source": [
    "''' \n",
    "Some clarafications\n",
    "First when n = length then:\n",
    "fast moves n times and becomes None\n",
    " and as its none the condition executes and se return head.next\n",
    " \n",
    "in case of n = len - 1 \n",
    "the fast moves to the end of the list and its next is None due to this the if and teh while loop both are not executed\n",
    "and we straight do : slow.next = slow.next.next\n",
    "\n",
    "Lastly any other case the while loop gets executed\n",
    "\n",
    "'''"
   ]
  },
  {
   "cell_type": "code",
   "execution_count": null,
   "id": "7c5037cf",
   "metadata": {},
   "outputs": [],
   "source": []
  }
 ],
 "metadata": {
  "kernelspec": {
   "display_name": "Python 3 (ipykernel)",
   "language": "python",
   "name": "python3"
  },
  "language_info": {
   "codemirror_mode": {
    "name": "ipython",
    "version": 3
   },
   "file_extension": ".py",
   "mimetype": "text/x-python",
   "name": "python",
   "nbconvert_exporter": "python",
   "pygments_lexer": "ipython3",
   "version": "3.11.4"
  }
 },
 "nbformat": 4,
 "nbformat_minor": 5
}
