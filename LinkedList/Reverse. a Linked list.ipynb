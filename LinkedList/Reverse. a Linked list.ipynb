{
 "cells": [
  {
   "cell_type": "code",
   "execution_count": 1,
   "id": "960ea250",
   "metadata": {},
   "outputs": [
    {
     "data": {
      "text/plain": [
       "\"\\n\\n\\nfirst save the current's next node in a var naxt\\nthen change the pointer of next to the previous \\nupdate the prev to current\\nupdate the curr to next \\n\\n\\n\\n\""
      ]
     },
     "execution_count": 1,
     "metadata": {},
     "output_type": "execute_result"
    }
   ],
   "source": [
    "'''\n",
    "\n",
    "\n",
    "first save the current's next node in a var naxt\n",
    "then change the pointer of next to the previous \n",
    "update the prev to current\n",
    "update the curr to next \n",
    "\n",
    "\n",
    "\n",
    "'''"
   ]
  },
  {
   "cell_type": "code",
   "execution_count": 1,
   "id": "024b0729",
   "metadata": {},
   "outputs": [],
   "source": [
    "def reverseList(self, head):\n",
    "\n",
    "        if not head:\n",
    "            return None\n",
    "        curr = head\n",
    "       \n",
    "        prev = None\n",
    "        while curr:\n",
    "            \n",
    "            next = curr.next\n",
    "            curr.next = prev\n",
    "            \n",
    "            prev = curr\n",
    "            curr = next\n",
    "\n",
    "        return prev"
   ]
  },
  {
   "cell_type": "code",
   "execution_count": null,
   "id": "450c096e",
   "metadata": {},
   "outputs": [],
   "source": []
  }
 ],
 "metadata": {
  "kernelspec": {
   "display_name": "Python 3 (ipykernel)",
   "language": "python",
   "name": "python3"
  },
  "language_info": {
   "codemirror_mode": {
    "name": "ipython",
    "version": 3
   },
   "file_extension": ".py",
   "mimetype": "text/x-python",
   "name": "python",
   "nbconvert_exporter": "python",
   "pygments_lexer": "ipython3",
   "version": "3.11.4"
  }
 },
 "nbformat": 4,
 "nbformat_minor": 5
}
