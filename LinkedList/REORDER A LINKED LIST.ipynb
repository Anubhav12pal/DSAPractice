{
 "cells": [
  {
   "cell_type": "code",
   "execution_count": 3,
   "id": "f530bea4",
   "metadata": {},
   "outputs": [],
   "source": [
    "# Definition for singly-linked list.\n",
    "# class ListNode:\n",
    "#     def __init__(self, val=0, next=None):\n",
    "#         self.val = val\n",
    "#         self.next = next\n",
    "class Solution:\n",
    "    def reorderList(self, head):\n",
    "        \"\"\"\n",
    "        Do not return anything, modify head in-place instead.\n",
    "\n",
    "\n",
    "        1 2 \n",
    "        4 3\n",
    "\n",
    "        1-4-2\n",
    "        \"\"\"\n",
    "\n",
    "        if not head and not head.next:\n",
    "            return head\n",
    "\n",
    "        slow = head\n",
    "        fast = head\n",
    "\n",
    "        #get the middle\n",
    "        while fast and fast.next:\n",
    "\n",
    "            slow = slow.next\n",
    "            fast = fast.next.next\n",
    "\n",
    "        \n",
    "        second = slow.next\n",
    "        slow.next = None\n",
    "\n",
    "        prev = None\n",
    "\n",
    "        while second:\n",
    "\n",
    "            ne = second.next\n",
    "            second.next = prev\n",
    "            prev = second\n",
    "            second = ne\n",
    "\n",
    "        l1 = head\n",
    "        l2 = prev\n",
    "\n",
    "        while l1 and l2:\n",
    "\n",
    "            nex = l1.next\n",
    "            l1.next = l2\n",
    "            nex2 = l2.next\n",
    "            l2.next = nex\n",
    "            l1 = nex\n",
    "            l2 = nex2\n",
    "        \n",
    "       \n",
    "\n",
    "        return head\n",
    "        \n",
    "\n",
    "        \n",
    "        "
   ]
  },
  {
   "cell_type": "code",
   "execution_count": null,
   "id": "3e205e9b",
   "metadata": {},
   "outputs": [],
   "source": []
  },
  {
   "cell_type": "code",
   "execution_count": null,
   "id": "7eb407ef",
   "metadata": {},
   "outputs": [],
   "source": []
  },
  {
   "cell_type": "code",
   "execution_count": null,
   "id": "a5ac6ef0",
   "metadata": {},
   "outputs": [],
   "source": []
  }
 ],
 "metadata": {
  "kernelspec": {
   "display_name": "Python 3 (ipykernel)",
   "language": "python",
   "name": "python3"
  },
  "language_info": {
   "codemirror_mode": {
    "name": "ipython",
    "version": 3
   },
   "file_extension": ".py",
   "mimetype": "text/x-python",
   "name": "python",
   "nbconvert_exporter": "python",
   "pygments_lexer": "ipython3",
   "version": "3.11.4"
  }
 },
 "nbformat": 4,
 "nbformat_minor": 5
}
