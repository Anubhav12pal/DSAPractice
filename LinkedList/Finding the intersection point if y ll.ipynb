{
 "cells": [
  {
   "cell_type": "code",
   "execution_count": 1,
   "id": "f0fbb85a",
   "metadata": {},
   "outputs": [
    {
     "data": {
      "text/plain": [
       "'\\nNaivve soln\\n\\niterate the list1 and keep it in the memory store using hash map\\n\\nnow traverse the l2 and if that point is fount there in l2 then return\\n\\n'"
      ]
     },
     "execution_count": 1,
     "metadata": {},
     "output_type": "execute_result"
    }
   ],
   "source": [
    "'''\n",
    "Naivve soln\n",
    "\n",
    "iterate the list1 and keep it in the memory store using hash map\n",
    "\n",
    "now traverse the l2 and if that point is fount there in l2 then return\n",
    "\n",
    "'''"
   ]
  },
  {
   "cell_type": "code",
   "execution_count": 2,
   "id": "2e3d88b5",
   "metadata": {},
   "outputs": [],
   "source": [
    "# Definition for singly-linked list.\n",
    "# class ListNode(object):\n",
    "#     def __init__(self, x):\n",
    "#         self.val = x\n",
    "#         self.next = None\n",
    "\n",
    "class Solution(object):\n",
    "    def getIntersectionNode(self, headA, headB):\n",
    "        \"\"\"\n",
    "        :type head1, head1: ListNode\n",
    "        :rtype: ListNode\n",
    "        \"\"\"\n",
    "\n",
    "        m = {}\n",
    "\n",
    "        temp = headA\n",
    "        temp2= headB\n",
    "\n",
    "        while temp != None:\n",
    "            m[temp] = temp.val\n",
    "            temp = temp.next\n",
    "\n",
    "        while temp2 != None:\n",
    "            if temp2 in m:\n",
    "                return temp2\n",
    "            temp2 = temp2.next\n",
    "\n",
    "        return None\n",
    "        "
   ]
  },
  {
   "cell_type": "markdown",
   "id": "4760e80e",
   "metadata": {},
   "source": [
    "# Better\n"
   ]
  },
  {
   "cell_type": "code",
   "execution_count": 3,
   "id": "64bffb09",
   "metadata": {},
   "outputs": [
    {
     "data": {
      "text/plain": [
       "'\\n\\nwe want to compare elements side by side but how can u do that?\\ncalculate the length of both and see teh smaler one and move the longer string pointer forward so \\ntaht we can compare the strings later\\n\\n'"
      ]
     },
     "execution_count": 3,
     "metadata": {},
     "output_type": "execute_result"
    }
   ],
   "source": [
    "'''\n",
    "\n",
    "we want to compare elements side by side but how can u do that?\n",
    "calculate the length of both and see teh smaler one and move the longer string pointer forward so \n",
    "taht we can compare the strings later\n",
    "\n",
    "'''"
   ]
  },
  {
   "cell_type": "code",
   "execution_count": 4,
   "id": "d77f430e",
   "metadata": {},
   "outputs": [],
   "source": [
    "# Definition for singly-linked list.\n",
    "# class ListNode(object):\n",
    "#     def __init__(self, x):\n",
    "#         self.val = x\n",
    "#         self.next = None\n",
    "\n",
    "class Solution(object):\n",
    "\n",
    "    def f1(self, h1,h2,n):\n",
    "\n",
    "        l1 = h1\n",
    "        l2 = h2\n",
    "\n",
    "        for i in range(n):\n",
    "            l1 = l1.next\n",
    "        \n",
    "        while l1 != None:\n",
    "            if l1 == l2:\n",
    "                return l1\n",
    "            l1 = l1.next\n",
    "            l2 = l2.next\n",
    "\n",
    "        return None\n",
    "\n",
    "\n",
    "\n",
    "\n",
    "\n",
    "\n",
    "    def getIntersectionNode(self, headA, headB):\n",
    "        \"\"\"\n",
    "        :type head1, head1: ListNode\n",
    "        :rtype: ListNode\n",
    "        \"\"\"\n",
    "\n",
    "        \n",
    "\n",
    "        temp = headA\n",
    "        l1 = 0\n",
    "        temp2= headB\n",
    "        l2 = 0\n",
    "\n",
    "        while temp != None:\n",
    "            l1 += 1\n",
    "            temp = temp.next\n",
    "        \n",
    "        while temp2 != None:\n",
    "            l2 += 1\n",
    "            temp2 = temp2.next\n",
    "\n",
    "        temp = headA\n",
    "        temp2 = headB\n",
    "\n",
    "        if l1 > l2:\n",
    "            return self.f1(temp, temp2, l1-l2)\n",
    "        else:\n",
    "            return self.f1(temp2,temp, l2-l1)\n",
    "\n",
    "        "
   ]
  },
  {
   "cell_type": "markdown",
   "id": "807a7865",
   "metadata": {},
   "source": [
    "# Optimal"
   ]
  },
  {
   "cell_type": "code",
   "execution_count": 5,
   "id": "6e2e0b65",
   "metadata": {},
   "outputs": [],
   "source": [
    "# Bakchodi cahck the vid"
   ]
  },
  {
   "cell_type": "code",
   "execution_count": null,
   "id": "aa23977d",
   "metadata": {},
   "outputs": [],
   "source": []
  }
 ],
 "metadata": {
  "kernelspec": {
   "display_name": "Python 3 (ipykernel)",
   "language": "python",
   "name": "python3"
  },
  "language_info": {
   "codemirror_mode": {
    "name": "ipython",
    "version": 3
   },
   "file_extension": ".py",
   "mimetype": "text/x-python",
   "name": "python",
   "nbconvert_exporter": "python",
   "pygments_lexer": "ipython3",
   "version": "3.11.4"
  }
 },
 "nbformat": 4,
 "nbformat_minor": 5
}
