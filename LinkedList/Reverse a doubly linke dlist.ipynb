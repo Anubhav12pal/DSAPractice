{
 "cells": [
  {
   "cell_type": "code",
   "execution_count": 2,
   "id": "d54d53db",
   "metadata": {},
   "outputs": [
    {
     "data": {
      "text/plain": [
       "'\\n\\nYou are given the head and reverse the doubly ll\\n\\nReverse the data\\n'"
      ]
     },
     "execution_count": 2,
     "metadata": {},
     "output_type": "execute_result"
    }
   ],
   "source": [
    "'''\n",
    "\n",
    "You are given the head and reverse the doubly ll\n",
    "\n",
    "Reverse the data\n",
    "'''"
   ]
  },
  {
   "cell_type": "code",
   "execution_count": 3,
   "id": "90958b03",
   "metadata": {},
   "outputs": [],
   "source": [
    "# Talke a stack and iterate form the head "
   ]
  },
  {
   "cell_type": "code",
   "execution_count": 4,
   "id": "812bb563",
   "metadata": {},
   "outputs": [],
   "source": [
    "# Then again start form the beginning and pop the stack and put the data there"
   ]
  },
  {
   "cell_type": "code",
   "execution_count": 5,
   "id": "c53629b0",
   "metadata": {},
   "outputs": [],
   "source": [
    "def f(head):\n",
    "    temp = head\n",
    "    st= []\n",
    "    \n",
    "    while temp != None:\n",
    "        st.push(temp.data)\n",
    "        temp = temp.next\n",
    "    \n",
    "    temp = head\n",
    "    \n",
    "    while temp != None:\n",
    "        temp.data = st.pop()\n",
    "        temp = temp.next\n",
    "        "
   ]
  },
  {
   "cell_type": "code",
   "execution_count": 6,
   "id": "ab93d454",
   "metadata": {},
   "outputs": [],
   "source": [
    "# TC: 0N space on"
   ]
  },
  {
   "cell_type": "markdown",
   "id": "b016c2d5",
   "metadata": {},
   "source": [
    "# Better"
   ]
  },
  {
   "cell_type": "code",
   "execution_count": 8,
   "id": "1818e2e4",
   "metadata": {},
   "outputs": [],
   "source": [
    "# Reverse the links in 1 traversal, a swap function"
   ]
  },
  {
   "cell_type": "code",
   "execution_count": 11,
   "id": "30d2ed41",
   "metadata": {},
   "outputs": [],
   "source": [
    "def sw(current):\n",
    "    \n",
    "    while current != None:\n",
    "    \n",
    "        last = current.prev\n",
    "        current.prev = current.next\n",
    "        current.next = last\n",
    "\n",
    "        # now move the pointer\n",
    "        current = current.prev"
   ]
  },
  {
   "cell_type": "code",
   "execution_count": null,
   "id": "73a6c495",
   "metadata": {},
   "outputs": [],
   "source": []
  }
 ],
 "metadata": {
  "kernelspec": {
   "display_name": "Python 3 (ipykernel)",
   "language": "python",
   "name": "python3"
  },
  "language_info": {
   "codemirror_mode": {
    "name": "ipython",
    "version": 3
   },
   "file_extension": ".py",
   "mimetype": "text/x-python",
   "name": "python",
   "nbconvert_exporter": "python",
   "pygments_lexer": "ipython3",
   "version": "3.11.4"
  }
 },
 "nbformat": 4,
 "nbformat_minor": 5
}
