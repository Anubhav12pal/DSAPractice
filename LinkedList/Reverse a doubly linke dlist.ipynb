{
 "cells": [
  {
   "cell_type": "code",
   "execution_count": 2,
   "id": "44e83650",
   "metadata": {},
   "outputs": [
    {
     "data": {
      "text/plain": [
       "'\\n\\nYou are given the head and reverse the doubly ll\\n\\nReverse the data\\n'"
      ]
     },
     "execution_count": 2,
     "metadata": {},
     "output_type": "execute_result"
    }
   ],
   "source": [
    "'''\n",
    "\n",
    "You are given the head and reverse the doubly ll\n",
    "\n",
    "Reverse the data\n",
    "'''"
   ]
  },
  {
   "cell_type": "code",
   "execution_count": 3,
   "id": "59209841",
   "metadata": {},
   "outputs": [],
   "source": [
    "# Talke a stack and iterate form the head "
   ]
  },
  {
   "cell_type": "code",
   "execution_count": 4,
   "id": "a91f7eea",
   "metadata": {},
   "outputs": [],
   "source": [
    "# Then again start form the beginning and pop the stack and put the data there"
   ]
  },
  {
   "cell_type": "code",
   "execution_count": 5,
   "id": "6dc61b9f",
   "metadata": {},
   "outputs": [],
   "source": [
    "def f(head):\n",
    "    temp = head\n",
    "    st= []\n",
    "    \n",
    "    while temp != None:\n",
    "        st.push(temp.data)\n",
    "        temp = temp.next\n",
    "    \n",
    "    temp = head\n",
    "    \n",
    "    while temp != None:\n",
    "        temp.data = st.pop()\n",
    "        temp = temp.next\n",
    "        "
   ]
  },
  {
   "cell_type": "code",
   "execution_count": 6,
   "id": "2514b3ec",
   "metadata": {},
   "outputs": [],
   "source": [
    "# TC: 0N space on"
   ]
  },
  {
   "cell_type": "markdown",
   "id": "10442a39",
   "metadata": {},
   "source": [
    "# Better"
   ]
  },
  {
   "cell_type": "code",
   "execution_count": 7,
   "id": "0248bcf2",
   "metadata": {},
   "outputs": [],
   "source": [
    "# Reverse the links in 1 traversal"
   ]
  },
  {
   "cell_type": "code",
   "execution_count": null,
   "id": "f008ae33",
   "metadata": {},
   "outputs": [],
   "source": []
  }
 ],
 "metadata": {
  "kernelspec": {
   "display_name": "Python 3 (ipykernel)",
   "language": "python",
   "name": "python3"
  },
  "language_info": {
   "codemirror_mode": {
    "name": "ipython",
    "version": 3
   },
   "file_extension": ".py",
   "mimetype": "text/x-python",
   "name": "python",
   "nbconvert_exporter": "python",
   "pygments_lexer": "ipython3",
   "version": "3.11.4"
  }
 },
 "nbformat": 4,
 "nbformat_minor": 5
}
