{
 "cells": [
  {
   "cell_type": "code",
   "execution_count": 1,
   "id": "21b49602",
   "metadata": {},
   "outputs": [
    {
     "data": {
      "text/plain": [
       "'\\n\\nSame as middle element just this time calculate prev and do deletion\\n\\n'"
      ]
     },
     "execution_count": 1,
     "metadata": {},
     "output_type": "execute_result"
    }
   ],
   "source": [
    "'''\n",
    "\n",
    "Same as middle element just this time calculate prev and do deletion\n",
    "\n",
    "'''"
   ]
  },
  {
   "cell_type": "code",
   "execution_count": 2,
   "id": "02507080",
   "metadata": {},
   "outputs": [],
   "source": [
    "class Solution(object):\n",
    "    def deleteMiddle(self, head):\n",
    "        \"\"\"\n",
    "        :type head: Optional[ListNode]\n",
    "        :rtype: Optional[ListNode]\n",
    "        \"\"\"\n",
    "        if head is None or head.next is None:\n",
    "            return None\n",
    "\n",
    "        fast = head\n",
    "        slow = head\n",
    "        prev = None\n",
    "\n",
    "        while fast is not None and fast.next is not None:\n",
    "            prev = slow\n",
    "            slow = slow.next\n",
    "            fast = fast.next.next\n",
    "\n",
    "        # Now 'slow' is at the middle node\n",
    "        if prev is not None:\n",
    "            prev.next = slow.next  # Skip the middle node\n",
    "\n",
    "        return head\n"
   ]
  },
  {
   "cell_type": "code",
   "execution_count": null,
   "id": "d2ca9251",
   "metadata": {},
   "outputs": [],
   "source": []
  }
 ],
 "metadata": {
  "kernelspec": {
   "display_name": "Python 3 (ipykernel)",
   "language": "python",
   "name": "python3"
  },
  "language_info": {
   "codemirror_mode": {
    "name": "ipython",
    "version": 3
   },
   "file_extension": ".py",
   "mimetype": "text/x-python",
   "name": "python",
   "nbconvert_exporter": "python",
   "pygments_lexer": "ipython3",
   "version": "3.11.4"
  }
 },
 "nbformat": 4,
 "nbformat_minor": 5
}
