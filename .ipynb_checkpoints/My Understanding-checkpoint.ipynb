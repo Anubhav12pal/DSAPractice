{
 "cells": [
  {
   "cell_type": "code",
   "execution_count": 4,
   "id": "98778805",
   "metadata": {},
   "outputs": [
    {
     "data": {
      "text/plain": [
       "'\\n\\nArray: 80 \\ntree: 60: Still have some remaining brushup on iterators and converting from a list in order  ot others\\nSliding window: 90\\nDP: 70\\nRecursion: 80\\nGraphs: 70\\nLinked List: 80\\nBacktrack: 0\\nBinary search: 90\\n\\n90: well Done\\n80 : All topics covered just need more practice\\n70: Need more problems consepts cleared\\n60: Need more topics and patterns to learn properly\\n\\n\\n\\n\\n'"
      ]
     },
     "execution_count": 4,
     "metadata": {},
     "output_type": "execute_result"
    }
   ],
   "source": [
    "'''\n",
    "\n",
    "Array: 80 \n",
    "tree: 60: Still have some remaining brushup on iterators and converting from a list in order  ot others\n",
    "Sliding window: 90\n",
    "DP: 70\n",
    "Recursion: 80\n",
    "Graphs: 70\n",
    "Linked List: 80\n",
    "Backtrack: 0\n",
    "Binary search: 90\n",
    "\n",
    "90: well Done\n",
    "80 : All topics covered just need more practice\n",
    "70: Need more problems consepts cleared\n",
    "60: Need more topics and patterns to learn properly\n",
    "\n",
    "\n",
    "\n",
    "\n",
    "'''"
   ]
  },
  {
   "cell_type": "code",
   "execution_count": null,
   "id": "e8737b80",
   "metadata": {},
   "outputs": [],
   "source": []
  }
 ],
 "metadata": {
  "kernelspec": {
   "display_name": "Python 3 (ipykernel)",
   "language": "python",
   "name": "python3"
  },
  "language_info": {
   "codemirror_mode": {
    "name": "ipython",
    "version": 3
   },
   "file_extension": ".py",
   "mimetype": "text/x-python",
   "name": "python",
   "nbconvert_exporter": "python",
   "pygments_lexer": "ipython3",
   "version": "3.11.4"
  }
 },
 "nbformat": 4,
 "nbformat_minor": 5
}
