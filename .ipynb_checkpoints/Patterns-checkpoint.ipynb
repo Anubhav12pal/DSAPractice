{
 "cells": [
  {
   "cell_type": "code",
   "execution_count": 2,
   "id": "cfc1655b",
   "metadata": {
    "scrolled": true
   },
   "outputs": [
    {
     "data": {
      "text/plain": [
       "'\\n\\nBinary search patterns:\\n    \\n    \\n    Get the intuitio of finding the range of the outcomes that we want: eh koko eats \\n        bananas finding the min banana it eatsper hour to satisfy a condition\\n        \\n        The range generally begins from 1 to min or 1 to any thing described in a question \\n        These type of questions include min or max\\n'"
      ]
     },
     "execution_count": 2,
     "metadata": {},
     "output_type": "execute_result"
    }
   ],
   "source": [
    "'''\n",
    "\n",
    "Binary search patterns:\n",
    "    \n",
    "    \n",
    "    Get the intuitio of finding the range of the outcomes that we want: eh koko eats \n",
    "        bananas finding the min banana it eatsper hour to satisfy a condition\n",
    "        \n",
    "        The range generally begins from 1 to min or 1 to any thing described in a question \n",
    "        These type of questions include min or max\n",
    "'''"
   ]
  },
  {
   "cell_type": "code",
   "execution_count": 3,
   "id": "25effea4",
   "metadata": {},
   "outputs": [],
   "source": [
    "#Another pattern is min of max or  max of min"
   ]
  },
  {
   "cell_type": "code",
   "execution_count": 1,
   "id": "310d198a",
   "metadata": {},
   "outputs": [
    {
     "data": {
      "text/plain": [
       "'\\nTree patterns:\\n\\n\\nNormal height pattern\\nfinding a max pattern where u have a max variable to keep gtrack of the max sum of values for that. node\\n\\nVertical order traversal:\\n\\n\\nHere u take a map to keep track of the index of the element, u do level order teraversal to keep track,\\nfor every left or right u always inc the depth and for left u dec the index and for right u inc the depth\\n\\nKeep the track of parent using a map and bfs pattern  so that we can move up the tree: eg burn the tree\\n\\nconvert to one order from the other 2 orders eg given in order and preorder use them to find post order\\n\\n\\n\\n\\n'"
      ]
     },
     "execution_count": 1,
     "metadata": {},
     "output_type": "execute_result"
    }
   ],
   "source": [
    "'''\n",
    "Tree patterns:\n",
    "\n",
    "Normal recursion based questions\n",
    "\n",
    "\n",
    "Normal height pattern\n",
    "finding a max pattern where u have a max variable to keep gtrack of the max sum of values for that. node\n",
    "\n",
    "Vertical order traversal:\n",
    "Here u take a map to keep track of the index of the element, u do level order teraversal to keep track,\n",
    "for every left or right u always inc the depth and for left u dec the index and for right u inc the depth\n",
    "\n",
    "Keep the track of parent using a map and bfs pattern  so that we can move up the tree: eg burn the tree\n",
    "\n",
    "convert to one order from the other 2 orders eg given in order and preorder use them to find post order\n",
    "\n",
    "\n",
    "\n",
    "\n",
    "'''"
   ]
  },
  {
   "cell_type": "code",
   "execution_count": 3,
   "id": "3abbcae1",
   "metadata": {},
   "outputs": [
    {
     "data": {
      "text/plain": [
       "'\\n\\nGraph pattern:\\n\\n\\nbfs\\ndfs\\ncycle detection and bipertite\\ntoposort\\ndjikstras\\nminispanning \\nkruskal prims bellman ford\\n\\n'"
      ]
     },
     "execution_count": 3,
     "metadata": {},
     "output_type": "execute_result"
    }
   ],
   "source": [
    "'''\n",
    "\n",
    "Graph pattern:\n",
    "\n",
    "\n",
    "bfs\n",
    "dfs\n",
    "cycle detection and bipertite\n",
    "toposort\n",
    "djikstras\n",
    "minispanning \n",
    "kruskal prims bellman ford\n",
    "\n",
    "'''"
   ]
  },
  {
   "cell_type": "code",
   "execution_count": 1,
   "id": "f9a1ecba",
   "metadata": {},
   "outputs": [
    {
     "data": {
      "text/plain": [
       "'\\n\\n# Common patterns in graph:\\n\\n\\n1) Basic bfs and dfs patterns\\n2)\\n\\nCycle detection and bipertite patterns\\nBipertite : Meaning 2 adj node cannot have same color\\n\\nWhat is the common thing here?\\nFor cycle detection take the parent of each node as well\\n\\nWhen does cycle occur in bfs and dfs?? It happens when the neighbour is already visited before ie vis[neigh]!= 0 and \\nif it is alread visited it has to be the parent, if it is not the parent that means that neighbour has been visited from another node\\nresulting a cycle:\\n\\n\\nif vis[neighbour] == 0:\\nvis[neigh] = 1\\nq.append([neigh, current node as parent])\\nelse if parent != neighbour:\\ncycle is here\\n\\nSimilarly for bipertite\\n\\nif color[neighbour] == -1:\\ncolor[neigh] = not color[node]\\nq.append(neiggh)\\nelse if color[neighb] = color node:\\nIt is not bipertite graph\\n\\n3) Cycle in directed graph:\\n\\nSame condition as undirected but also add a chack for path visited:\\ninstead of parent check\\nin the else condition check if pathVis = 1\\nand at the end of function do pathVis = 0\\n\\n\\n4) Topo Sort:\\nTopo Sortr only applies to a directed acyclid graph\\n\\n\\n5) Shortest Path Djikstras: Only +ve wt graphs\\n\\nhave a dist array with inf as the dist\\n\\nhave a pq add the src to that\\nStrore the adj nodes along with their weight \\n\\nwhile pq:\\nnode = pq.pop()\\ndisFromSrc = node[0]\\nnnode = node[1]\\n\\nfor neighb in adj[nnode]:\\nadj = neighb[1]\\nedgewt = neighb[0]\\n\\nif disFSrc + edgewt < dis[adj]:\\ndis[adj] = disFSrc + edgewt\\npq.append([dis[adj], adj])\\n\\n\\n\\n\\n'"
      ]
     },
     "execution_count": 1,
     "metadata": {},
     "output_type": "execute_result"
    }
   ],
   "source": [
    "'''\n",
    "\n",
    "# Common patterns in graph:\n",
    "\n",
    "\n",
    "1) Basic bfs and dfs patterns\n",
    "2)\n",
    "\n",
    "Cycle detection and bipertite patterns\n",
    "Bipertite : Meaning 2 adj node cannot have same color\n",
    "\n",
    "What is the common thing here?\n",
    "For cycle detection take the parent of each node as well\n",
    "\n",
    "When does cycle occur in bfs and dfs?? It happens when the neighbour is already visited before ie vis[neigh]!= 0 and \n",
    "if it is alread visited it has to be the parent, if it is not the parent that means that neighbour has been visited from another node\n",
    "resulting a cycle:\n",
    "\n",
    "\n",
    "if vis[neighbour] == 0:\n",
    "vis[neigh] = 1\n",
    "q.append([neigh, current node as parent])\n",
    "else if parent != neighbour:\n",
    "cycle is here\n",
    "\n",
    "Similarly for bipertite\n",
    "\n",
    "if color[neighbour] == -1:\n",
    "color[neigh] = not color[node]\n",
    "q.append(neiggh)\n",
    "else if color[neighb] = color node:\n",
    "It is not bipertite graph\n",
    "\n",
    "3) Cycle in directed graph:\n",
    "\n",
    "Same condition as undirected but also add a chack for path visited:\n",
    "instead of parent check\n",
    "in the else condition check if pathVis = 1\n",
    "and at the end of function do pathVis = 0\n",
    "\n",
    "\n",
    "4) Topo Sort:\n",
    "Topo Sortr only applies to a directed acyclid graph\n",
    "\n",
    "\n",
    "5) Shortest Path Djikstras: Only +ve wt graphs\n",
    "\n",
    "have a dist array with inf as the dist\n",
    "\n",
    "have a pq add the src to that\n",
    "Strore the adj nodes along with their weight \n",
    "\n",
    "while pq:\n",
    "node = pq.pop()\n",
    "disFromSrc = node[0]\n",
    "nnode = node[1]\n",
    "\n",
    "for neighb in adj[nnode]:\n",
    "adj = neighb[1]\n",
    "edgewt = neighb[0]\n",
    "\n",
    "if disFSrc + edgewt < dis[adj]:\n",
    "dis[adj] = disFSrc + edgewt\n",
    "pq.append([dis[adj], adj])\n",
    "\n",
    "\n",
    "\n",
    "\n",
    "'''"
   ]
  },
  {
   "cell_type": "code",
   "execution_count": 2,
   "id": "2f8e4cf8",
   "metadata": {},
   "outputs": [
    {
     "data": {
      "text/plain": [
       "'\\nStack:\\nmonotonoc stack patterm:\\nquestions involve finding the next biggest or next smallest elements\\nIn this we keep the stack in an increasing or decreasing manner\\n\\nIntuition for next greater:\\nif i am at an index i i will have to know the next elements to see if they are greater or not so well traverse form the back\\nwell put the element into the stack and move left. For that element if it is less than the toip of the stack the top will be the ansewr\\nif th eelement is greater then we pop the stack until we find an element which is greater than it\\nif the stack becomes empty thyen there is no greater element in the right\\n\\n'"
      ]
     },
     "execution_count": 2,
     "metadata": {},
     "output_type": "execute_result"
    }
   ],
   "source": [
    "'''\n",
    "Stack:\n",
    "monotonoc stack patterm:\n",
    "questions involve finding the next biggest or next smallest elements\n",
    "In this we keep the stack in an increasing or decreasing manner\n",
    "\n",
    "Intuition for next greater:\n",
    "if i am at an index i i will have to know the next elements to see if they are greater or not so well traverse form the back\n",
    "well put the element into the stack and move left. For that element if it is less than the toip of the stack the top will be the ansewr\n",
    "if th eelement is greater then we pop the stack until we find an element which is greater than it\n",
    "if the stack becomes empty thyen there is no greater element in the right\n",
    "\n",
    "'''"
   ]
  },
  {
   "cell_type": "code",
   "execution_count": 3,
   "id": "ef78b772",
   "metadata": {},
   "outputs": [
    {
     "data": {
      "text/plain": [
       "\"\\n\\nLinked list\\n\\nfast and slow pointer:\\nIn many cases u'll have to run a pointer that is faster than a sower one:\\none such example is finding middle element or finding a cycle:\\nher eu move the pointer twice the speed \\n\\nwhile fast and fast.next:\\ns = s.next\\nf = f.next.next\\n\\nmid = s\\n\\nAlso finding the nth element from end in 1 pass.\\n\\nfirst u mive the fast pointer n times in advance and then move them both together till u have fast.next\\n\\n\\n\\nIf there is a 1 pass constraint and an argument is given as a number first try to shift the fast pointer n \\ntimes and then test the cases\\n\\nCycle detection is fast and slow pointer till both nodes are same\\n\\nFinding the beginning of a cycle??\\n\\n2 steps:\\n\\nIf there is a loop or cycle then there should be a colision point get that colliosion point and place fast there\\nthen place the start at the head and then increase both by 1 step the meeting point will be the beginning\\n\\n\\n\\n\\n\""
      ]
     },
     "execution_count": 3,
     "metadata": {},
     "output_type": "execute_result"
    }
   ],
   "source": [
    "'''\n",
    "\n",
    "Linked list\n",
    "\n",
    "fast and slow pointer:\n",
    "In many cases u'll have to run a pointer that is faster than a sower one:\n",
    "one such example is finding middle element or finding a cycle:\n",
    "her eu move the pointer twice the speed \n",
    "\n",
    "while fast and fast.next:\n",
    "s = s.next\n",
    "f = f.next.next\n",
    "\n",
    "mid = s\n",
    "\n",
    "Also finding the nth element from end in 1 pass.\n",
    "\n",
    "first u mive the fast pointer n times in advance and then move them both together till u have fast.next\n",
    "\n",
    "\n",
    "\n",
    "If there is a 1 pass constraint and an argument is given as a number first try to shift the fast pointer n \n",
    "times and then test the cases\n",
    "\n",
    "Cycle detection is fast and slow pointer till both nodes are same\n",
    "\n",
    "Finding the beginning of a cycle??\n",
    "\n",
    "2 steps:\n",
    "\n",
    "If there is a loop or cycle then there should be a colision point get that colliosion point and place fast there\n",
    "then place the start at the head and then increase both by 1 step the meeting point will be the beginning\n",
    "\n",
    "\n",
    "\n",
    "\n",
    "'''"
   ]
  },
  {
   "cell_type": "code",
   "execution_count": 4,
   "id": "5983a7ae",
   "metadata": {},
   "outputs": [
    {
     "data": {
      "text/plain": [
       "'\\n\\nPrefix sum\\n\\n\\nFor some questions where u have to calcualet prefix and postfix sum u can calculate the prefix using a cur variable that \\nadds nums[i] at every index so there is no need for extra array space\\nSimilarly u can calculate the postfiix of that index by : total sum - cur\\n\\nThis works on some questions where we dont explicitly need the stored values again and again\\n\\n\\n\\n\\n'"
      ]
     },
     "execution_count": 4,
     "metadata": {},
     "output_type": "execute_result"
    }
   ],
   "source": [
    "'''\n",
    "\n",
    "Prefix sum\n",
    "\n",
    "\n",
    "For some questions where u have to calcualet prefix and postfix sum u can calculate the prefix using a cur variable that \n",
    "adds nums[i] at every index so there is no need for extra array space\n",
    "Similarly u can calculate the postfiix of that index by : total sum - cur\n",
    "\n",
    "This works on some questions where we dont explicitly need the stored values again and again\n",
    "\n",
    "\n",
    "\n",
    "\n",
    "'''"
   ]
  },
  {
   "cell_type": "code",
   "execution_count": 1,
   "id": "4881b77e",
   "metadata": {},
   "outputs": [
    {
     "data": {
      "text/plain": [
       "'Important note:\\n\\n-ve indexing in py list to get the last few elemnts form a list\\n\\nlist[-3:]\\nlast 3 elements\\n\\nAlso \"\".join(list[-3:]) gets the last 3 elements and converts them into a string\\n\\n\\nFor cases of a round table question we can consider adding the same arrat to the end of the current array and then move forward\\nEg:\\n\\n0 1 2 3 4 is the array we can add another one at the end:\\n\\n0 1 2 3 4 0 1 2 3 4\\nThis makes all the cases of round table \\n\\nindex will be as follows:\\n\\n0 1 2 3 4 0 1 2 3 4\\n\\n0 1 2 3 4 5 6 7 8 9\\n\\n5 = 0\\n6 = 1\\nand so on \\n\\nthis can be as: index % n for the numbers beyong n\\n\\nFot eg if u r comparing 2 adj elements for edge numbers u can make this comaprison:n[i%n] to n[(i + 1 + n) %n]\\n\\n\\n\\n'"
      ]
     },
     "execution_count": 1,
     "metadata": {},
     "output_type": "execute_result"
    }
   ],
   "source": [
    "'''Important note:\n",
    "\n",
    "-ve indexing in py list to get the last few elemnts form a list\n",
    "\n",
    "list[-3:]\n",
    "last 3 elements\n",
    "\n",
    "Also \"\".join(list[-3:]) gets the last 3 elements and converts them into a string\n",
    "\n",
    "\n",
    "For cases of a round table question we can consider adding the same arrat to the end of the current array and then move forward\n",
    "Eg:\n",
    "\n",
    "0 1 2 3 4 is the array we can add another one at the end:\n",
    "\n",
    "0 1 2 3 4 0 1 2 3 4\n",
    "This makes all the cases of round table \n",
    "\n",
    "index will be as follows:\n",
    "\n",
    "0 1 2 3 4 0 1 2 3 4\n",
    "\n",
    "0 1 2 3 4 5 6 7 8 9\n",
    "\n",
    "5 = 0\n",
    "6 = 1\n",
    "and so on \n",
    "\n",
    "this can be as: index % n for the numbers beyong n\n",
    "\n",
    "Fot eg if u r comparing 2 adj elements for edge numbers u can make this comaprison:n[i%n] to n[(i + 1 + n) %n]\n",
    "\n",
    "\n",
    "\n",
    "'''"
   ]
  },
  {
   "cell_type": "code",
   "execution_count": 3,
   "id": "79c7b829",
   "metadata": {},
   "outputs": [
    {
     "data": {
      "text/plain": [
       "\"\\nBit manipulation:\\n\\nonly works for numbers whose and = 0\\n\\na = 3 =0011\\nb = 8 = 1000\\n\\na * b = 0000\\n\\na + b = 1011\\n\\nso if we wanna remove 3 from the a + b we can just xor 3\\n\\na + b = 1011\\nt = 0011\\n\\n1011 xor 0011 = 1000 so we were able to subtract 3 and remain is 8\\n\\nAnd:\\n1 * 1 = 1\\n1*0 = 0\\n0 * 0 = 0\\n\\nOr:\\n1 + 1 = 1\\n1 + 0 = 0\\n0 + 0 = 0\\n\\nxor:\\nodd num of 1 = 1\\neven number of 1 = 0\\n\\neg:\\na = 1 0 1\\nb = 1 1 1 \\n\\nans = 010\\nwhich is 2\\n\\nOnes comp = flip all numbers\\n2's comp is flip all numbers and add 1\\n\\n\\nNot:\\nif a = 5\\nnot a = calculated\\n5 = 101\\nflip:11.....010\\ncheck the sigh: here it is 1 therefore:\\nfind 2's comp:\\n00...101\\n + 1\\n \\n= 00...110\\nthe sign was -ve therefore = -6\\nTherefore not 5 = -6\\n\\nSimilarly do for not -6\\n\\n6 = 00...110\\nso the 2's comp:\\n11...001\\n + 1\\n \\nans = 11...010 = -6\\n\\nNow apply the steps:\\nflip:\\n00...101\\ncheck the sigh it is 0 therefore  + there fore this is not -6\\n00...101 = 5\\nTherefore not -6 = 5\\n\\nHence not not 5 = 5\\n\\n\\n\\nReason for xor:\\n\\na xor a  = 0\\n\\nwhen we do a = a or b\\nand then we do:\\nb = a ^ b\\nthis becomes:\\nb = (a^b)^b\\nthe b ^b = 0\\ntherefore we have b = a\\n\\nthen we do a = a^b\\nwhere a = a ^ b and b = a\\nso a = a ^ b ^ a = b\\n\\nBoth are swapped\\n\\n\\n---\\n\\n\\nBy set we mean 1\\nso if n = 5:\\n101\\nis the 0th bit set yes\\n1st bit = No\\n2nd bit = No\\n\\nHow do we check it??\\n\\nWe use the left shift and right shift operation.\\nSuppose n = 5 = 101\\ncheck if the 1st bit is set:\\n\\nleft shift 1 by i times that is 1 in this case we have : 010\\nthen we and this if it is 0 then we know that it is not set if 1 then it is set:\\n\\ntherefore simple formula:\\n\\nn and (1 << i) == 1: then it is set else not set\\n\\n\\n---\\n\\nHow to set ith bit to 1\\n\\nset the 1st bit to 1\\nfor 5:\\n\\n\\n5 = 101\\nist bit = 0\\n\\nto do that take 1 = 001\\nleft shift it 1 time:\\n010\\n\\nthen or the number:\\n101\\n010\\n\\nthis is 111\\n\\nexp : n or (1 << i)\\nanswer done\\n\\nNow how do we set it off?\\n\\ntake 1:\\n001\\nleft shift it 1 time:\\n00100\\nnot it : 11011\\nthen and the numbers if the number is 1 it will be set to 0 on being multiplied :\\n\\nn and ((not 1) << i)\\n\\n\\n\\nNow for toggle we do similar thing:\\nwe shift 1 i places to the left and then xor with the number. If the ith bit is 0 it will become 1 and vice versa\\n\\n---\\n\\n\\ncount number of set bits\\n\\n101\\n001\\nans = 001 = 1 true\\n\\n101\\n010\\nans = 000 = 0 false\\n\\n101\\n100\\nans = 100 = true\\n\\ntherefore set bits = 3\\n\\n\\n\\n\""
      ]
     },
     "execution_count": 3,
     "metadata": {},
     "output_type": "execute_result"
    }
   ],
   "source": [
    "'''\n",
    "Bit manipulation:\n",
    "\n",
    "only works for numbers whose and = 0\n",
    "\n",
    "a = 3 =0011\n",
    "b = 8 = 1000\n",
    "\n",
    "a * b = 0000\n",
    "\n",
    "a + b = 1011\n",
    "\n",
    "so if we wanna remove 3 from the a + b we can just xor 3\n",
    "\n",
    "a + b = 1011\n",
    "t = 0011\n",
    "\n",
    "1011 xor 0011 = 1000 so we were able to subtract 3 and remain is 8\n",
    "\n",
    "And:\n",
    "1 * 1 = 1\n",
    "1*0 = 0\n",
    "0 * 0 = 0\n",
    "\n",
    "Or:\n",
    "1 + 1 = 1\n",
    "1 + 0 = 0\n",
    "0 + 0 = 0\n",
    "\n",
    "xor:\n",
    "odd num of 1 = 1\n",
    "even number of 1 = 0\n",
    "\n",
    "eg:\n",
    "a = 1 0 1\n",
    "b = 1 1 1 \n",
    "\n",
    "ans = 010\n",
    "which is 2\n",
    "\n",
    "Ones comp = flip all numbers\n",
    "2's comp is flip all numbers and add 1\n",
    "\n",
    "\n",
    "Not:\n",
    "if a = 5\n",
    "not a = calculated\n",
    "5 = 101\n",
    "flip:11.....010\n",
    "check the sigh: here it is 1 therefore:\n",
    "find 2's comp:\n",
    "00...101\n",
    " + 1\n",
    " \n",
    "= 00...110\n",
    "the sign was -ve therefore = -6\n",
    "Therefore not 5 = -6\n",
    "\n",
    "Similarly do for not -6\n",
    "\n",
    "6 = 00...110\n",
    "so the 2's comp:\n",
    "11...001\n",
    " + 1\n",
    " \n",
    "ans = 11...010 = -6\n",
    "\n",
    "Now apply the steps:\n",
    "flip:\n",
    "00...101\n",
    "check the sigh it is 0 therefore  + there fore this is not -6\n",
    "00...101 = 5\n",
    "Therefore not -6 = 5\n",
    "\n",
    "Hence not not 5 = 5\n",
    "\n",
    "\n",
    "\n",
    "Reason for xor:\n",
    "\n",
    "a xor a  = 0\n",
    "\n",
    "when we do a = a or b\n",
    "and then we do:\n",
    "b = a ^ b\n",
    "this becomes:\n",
    "b = (a^b)^b\n",
    "the b ^b = 0\n",
    "therefore we have b = a\n",
    "\n",
    "then we do a = a^b\n",
    "where a = a ^ b and b = a\n",
    "so a = a ^ b ^ a = b\n",
    "\n",
    "Both are swapped\n",
    "\n",
    "\n",
    "---\n",
    "\n",
    "\n",
    "By set we mean 1\n",
    "so if n = 5:\n",
    "101\n",
    "is the 0th bit set yes\n",
    "1st bit = No\n",
    "2nd bit = No\n",
    "\n",
    "How do we check it??\n",
    "\n",
    "We use the left shift and right shift operation.\n",
    "Suppose n = 5 = 101\n",
    "check if the 1st bit is set:\n",
    "\n",
    "left shift 1 by i times that is 1 in this case we have : 010\n",
    "then we and this if it is 0 then we know that it is not set if 1 then it is set:\n",
    "\n",
    "therefore simple formula:\n",
    "\n",
    "n and (1 << i) == 1: then it is set else not set\n",
    "\n",
    "\n",
    "---\n",
    "\n",
    "How to set ith bit to 1\n",
    "\n",
    "set the 1st bit to 1\n",
    "for 5:\n",
    "\n",
    "\n",
    "5 = 101\n",
    "ist bit = 0\n",
    "\n",
    "to do that take 1 = 001\n",
    "left shift it 1 time:\n",
    "010\n",
    "\n",
    "then or the number:\n",
    "101\n",
    "010\n",
    "\n",
    "this is 111\n",
    "\n",
    "exp : n or (1 << i)\n",
    "answer done\n",
    "\n",
    "Now how do we set it off?\n",
    "\n",
    "take 1:\n",
    "001\n",
    "left shift it 1 time:\n",
    "00100\n",
    "not it : 11011\n",
    "then and the numbers if the number is 1 it will be set to 0 on being multiplied :\n",
    "\n",
    "n and ((not 1) << i)\n",
    "\n",
    "\n",
    "\n",
    "Now for toggle we do similar thing:\n",
    "we shift 1 i places to the left and then xor with the number. If the ith bit is 0 it will become 1 and vice versa\n",
    "\n",
    "---\n",
    "\n",
    "\n",
    "count number of set bits\n",
    "\n",
    "101\n",
    "001\n",
    "ans = 001 = 1 true\n",
    "\n",
    "101\n",
    "010\n",
    "ans = 000 = 0 false\n",
    "\n",
    "101\n",
    "100\n",
    "ans = 100 = true\n",
    "\n",
    "therefore set bits = 3\n",
    "\n",
    "\n",
    "\n",
    "'''"
   ]
  },
  {
   "cell_type": "code",
   "execution_count": 2,
   "id": "8c85df07",
   "metadata": {},
   "outputs": [
    {
     "data": {
      "text/plain": [
       "'\\n\\nsw:\\n\\n4 patters:\\n\\n1) constant window: first shift the window to a constant size required and then shift bnoth l and r for a valid one for ans\\n\\n2) Window witha a condition:\\nl, r at the beginning keep expanding the wondow , if the condition is met dock the answer, if not then shrink form left\\n\\n3) number of windows\\n\\n4) window with min: fond the valid window then shrink from left till wondow is valid\\n\\n\\n\\n\\n'"
      ]
     },
     "execution_count": 2,
     "metadata": {},
     "output_type": "execute_result"
    }
   ],
   "source": [
    "'''\n",
    "\n",
    "sw:\n",
    "\n",
    "4 patters:\n",
    "\n",
    "1) constant window: first shift the window to a constant size required and then shift bnoth l and r for a valid one for ans\n",
    "\n",
    "2) Window witha a condition:\n",
    "l, r at the beginning keep expanding the wondow , if the condition is met dock the answer, if not then shrink form left\n",
    "\n",
    "3) number of windows\n",
    "\n",
    "4) window with min: fond the valid window then shrink from left till wondow is valid\n",
    "\n",
    "\n",
    "\n",
    "\n",
    "'''"
   ]
  },
  {
   "cell_type": "code",
   "execution_count": null,
   "id": "cfc4c653",
   "metadata": {},
   "outputs": [],
   "source": []
  }
 ],
 "metadata": {
  "kernelspec": {
   "display_name": "Python 3 (ipykernel)",
   "language": "python",
   "name": "python3"
  },
  "language_info": {
   "codemirror_mode": {
    "name": "ipython",
    "version": 3
   },
   "file_extension": ".py",
   "mimetype": "text/x-python",
   "name": "python",
   "nbconvert_exporter": "python",
   "pygments_lexer": "ipython3",
   "version": "3.11.4"
  }
 },
 "nbformat": 4,
 "nbformat_minor": 5
}
