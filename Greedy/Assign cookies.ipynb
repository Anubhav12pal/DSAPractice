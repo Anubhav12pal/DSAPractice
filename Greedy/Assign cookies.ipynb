{
 "cells": [
  {
   "cell_type": "code",
   "execution_count": 2,
   "id": "eac7f80d",
   "metadata": {},
   "outputs": [],
   "source": [
    "class Solution:\n",
    "    def findContentChildren(self, g, s):\n",
    "\n",
    "\n",
    "        g = sorted(g)\n",
    "        s = sorted(s)\n",
    "\n",
    "        i = 0\n",
    "        j = 0\n",
    "\n",
    "        while i < len(g) and j < len(s):\n",
    "\n",
    "            if g[i] <= s[j]:\n",
    "                i += 1\n",
    "                \n",
    "            j += 1\n",
    "        return i\n",
    "            \n",
    "        "
   ]
  },
  {
   "cell_type": "code",
   "execution_count": 3,
   "id": "d2f80a8c",
   "metadata": {},
   "outputs": [
    {
     "data": {
      "text/plain": [
       "'\\n\\nAssume you are an awesome parent and want to give your children some cookies. But, you should give each child at most one cookie.\\n\\nEach child i has a greed factor g[i], which is the minimum size of a cookie that the child will be content with; and each cookie j has a size s[j]. If s[j] >= g[i], we can assign the cookie j to the child i, and the child i will be content. Your goal is to maximize the number of your content children and output the maximum number.\\n\\n \\n\\nExample 1:\\n\\nInput: g = [1,2,3], s = [1,1]\\nOutput: 1\\nExplanation: You have 3 children and 2 cookies. The greed factors of 3 children are 1, 2, 3. \\nAnd even though you have 2 cookies, since their size is both 1, you could only make the child whose greed factor is 1 content.\\nYou need to output 1.\\nExample 2:\\n\\nInput: g = [1,2], s = [1,2,3]\\nOutput: 2\\nExplanation: You have 2 children and 3 cookies. The greed factors of 2 children are 1, 2. \\nYou have 3 cookies and their sizes are big enough to gratify all of the children, \\nYou need to output 2.\\n\\n'"
      ]
     },
     "execution_count": 3,
     "metadata": {},
     "output_type": "execute_result"
    }
   ],
   "source": [
    "'''\n",
    "\n",
    "Assume you are an awesome parent and want to give your children some cookies. But, you should give each child at most one cookie.\n",
    "\n",
    "Each child i has a greed factor g[i], which is the minimum size of a cookie that the child will be content with; and each cookie j has a size s[j]. If s[j] >= g[i], we can assign the cookie j to the child i, and the child i will be content. Your goal is to maximize the number of your content children and output the maximum number.\n",
    "\n",
    " \n",
    "\n",
    "Example 1:\n",
    "\n",
    "Input: g = [1,2,3], s = [1,1]\n",
    "Output: 1\n",
    "Explanation: You have 3 children and 2 cookies. The greed factors of 3 children are 1, 2, 3. \n",
    "And even though you have 2 cookies, since their size is both 1, you could only make the child whose greed factor is 1 content.\n",
    "You need to output 1.\n",
    "Example 2:\n",
    "\n",
    "Input: g = [1,2], s = [1,2,3]\n",
    "Output: 2\n",
    "Explanation: You have 2 children and 3 cookies. The greed factors of 2 children are 1, 2. \n",
    "You have 3 cookies and their sizes are big enough to gratify all of the children, \n",
    "You need to output 2.\n",
    "\n",
    "'''"
   ]
  },
  {
   "cell_type": "code",
   "execution_count": null,
   "id": "48e15ad2",
   "metadata": {},
   "outputs": [],
   "source": []
  }
 ],
 "metadata": {
  "kernelspec": {
   "display_name": "Python 3 (ipykernel)",
   "language": "python",
   "name": "python3"
  },
  "language_info": {
   "codemirror_mode": {
    "name": "ipython",
    "version": 3
   },
   "file_extension": ".py",
   "mimetype": "text/x-python",
   "name": "python",
   "nbconvert_exporter": "python",
   "pygments_lexer": "ipython3",
   "version": "3.11.4"
  }
 },
 "nbformat": 4,
 "nbformat_minor": 5
}
