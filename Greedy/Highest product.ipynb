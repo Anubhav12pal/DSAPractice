{
 "cells": [
  {
   "cell_type": "code",
   "execution_count": 2,
   "id": "fc0013fa",
   "metadata": {},
   "outputs": [
    {
     "data": {
      "text/plain": [
       "'\\nFind the hightest product of 3 elements in an array\\nRemember there are -ve element as well so sorting and product wont work\\n\\n'"
      ]
     },
     "execution_count": 2,
     "metadata": {},
     "output_type": "execute_result"
    }
   ],
   "source": [
    "'''\n",
    "Find the hightest product of 3 elements in an array\n",
    "Remember there are -ve element as well so sorting and product wont work\n",
    "\n",
    "'''"
   ]
  },
  {
   "cell_type": "code",
   "execution_count": 3,
   "id": "6e73dda8",
   "metadata": {},
   "outputs": [],
   "source": [
    "class Solution:\n",
    "    def maxp3(self, A):\n",
    "        \n",
    "        A = sorted(A)\n",
    "        \n",
    "        rs = A[-1] * A[-2] * A[-3]\n",
    "        ls = A[-1] *A[0] * A[1]\n",
    "        \n",
    "        return max(rs, ls)\n"
   ]
  },
  {
   "cell_type": "code",
   "execution_count": null,
   "id": "55ad06b5",
   "metadata": {},
   "outputs": [],
   "source": []
  }
 ],
 "metadata": {
  "kernelspec": {
   "display_name": "Python 3 (ipykernel)",
   "language": "python",
   "name": "python3"
  },
  "language_info": {
   "codemirror_mode": {
    "name": "ipython",
    "version": 3
   },
   "file_extension": ".py",
   "mimetype": "text/x-python",
   "name": "python",
   "nbconvert_exporter": "python",
   "pygments_lexer": "ipython3",
   "version": "3.11.4"
  }
 },
 "nbformat": 4,
 "nbformat_minor": 5
}
