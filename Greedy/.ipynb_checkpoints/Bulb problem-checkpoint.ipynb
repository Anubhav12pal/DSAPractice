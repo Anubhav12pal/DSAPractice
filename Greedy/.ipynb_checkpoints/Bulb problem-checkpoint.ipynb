{
 "cells": [
  {
   "cell_type": "code",
   "execution_count": 3,
   "id": "36b0b9ee",
   "metadata": {},
   "outputs": [
    {
     "data": {
      "text/plain": [
       "'\\n\\nYou have a list of 0 and 1 where 1 is on u have to turn all buls to 1 but if u turn 1 on from 0 to 1 then u have to\\nturn all to the right flip\\n\\n\\n'"
      ]
     },
     "execution_count": 3,
     "metadata": {},
     "output_type": "execute_result"
    }
   ],
   "source": [
    "'''\n",
    "\n",
    "You have a list of 0 and 1 where 1 is on u have to turn all buls to 1 but if u turn 1 on from 0 to 1 then u have to\n",
    "turn all to the right flip\n",
    "\n",
    "\n",
    "'''"
   ]
  },
  {
   "cell_type": "code",
   "execution_count": 4,
   "id": "23524a08",
   "metadata": {},
   "outputs": [],
   "source": [
    "class Solution:\n",
    "    def bulbs(self, A):\n",
    "        \n",
    "        \n",
    "        \n",
    "        c = 0 \n",
    "        l = len(A)\n",
    "        \n",
    "        for b in A:\n",
    "            \n",
    "            if b == 0 and c%2 == 0:\n",
    "                c += 1\n",
    "            elif b == 1 and c % 2 != 0:\n",
    "                c += 1\n",
    "        return c\n",
    "                "
   ]
  },
  {
   "cell_type": "code",
   "execution_count": 5,
   "id": "fc426d07",
   "metadata": {},
   "outputs": [
    {
     "data": {
      "text/plain": [
       "'\\nU notice that if u flip the bulbs twice then all the bulbs to right are same but if u r odd then the current bulb is a bluff \\nand originally it was 1\\n\\nso when b = 0 and u know that it is not a bluff we change it hence c ++\\nand we also check of the bulb is 1 and it was a bluff u inc the ans as u have to flip it\\n\\n'"
      ]
     },
     "execution_count": 5,
     "metadata": {},
     "output_type": "execute_result"
    }
   ],
   "source": [
    "'''\n",
    "U notice that if u flip the bulbs twice then all the bulbs to right are same but if u r odd then the current bulb is a bluff \n",
    "and originally it was 1\n",
    "\n",
    "so when b = 0 and u know that it is not a bluff we change it hence c ++\n",
    "and we also check of the bulb is 1 and it was a bluff u inc the ans as u have to flip it\n",
    "\n",
    "'''"
   ]
  },
  {
   "cell_type": "code",
   "execution_count": null,
   "id": "50d8702b",
   "metadata": {},
   "outputs": [],
   "source": []
  }
 ],
 "metadata": {
  "kernelspec": {
   "display_name": "Python 3 (ipykernel)",
   "language": "python",
   "name": "python3"
  },
  "language_info": {
   "codemirror_mode": {
    "name": "ipython",
    "version": 3
   },
   "file_extension": ".py",
   "mimetype": "text/x-python",
   "name": "python",
   "nbconvert_exporter": "python",
   "pygments_lexer": "ipython3",
   "version": "3.11.4"
  }
 },
 "nbformat": 4,
 "nbformat_minor": 5
}
