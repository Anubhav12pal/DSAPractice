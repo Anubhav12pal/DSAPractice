{
 "cells": [
  {
   "cell_type": "code",
   "execution_count": 2,
   "id": "5f817d20",
   "metadata": {},
   "outputs": [
    {
     "data": {
      "text/plain": [
       "'\\n\\n\\nYou are given an integer array values where values[i] represents the value of the ith sightseeing spot. Two sightseeing spots i and j have a distance j - i between them.\\n\\nThe score of a pair (i < j) of sightseeing spots is values[i] + values[j] + i - j: the sum of the values of the sightseeing spots, minus the distance between them.\\n\\nReturn the maximum score of a pair of sightseeing spot\\n\\n'"
      ]
     },
     "execution_count": 2,
     "metadata": {},
     "output_type": "execute_result"
    }
   ],
   "source": [
    "'''\n",
    "\n",
    "\n",
    "You are given an integer array values where values[i] represents the value of the ith sightseeing spot. Two sightseeing spots i and j have a distance j - i between them.\n",
    "\n",
    "The score of a pair (i < j) of sightseeing spots is values[i] + values[j] + i - j: the sum of the values of the sightseeing spots, minus the distance between them.\n",
    "\n",
    "Return the maximum score of a pair of sightseeing spot\n",
    "\n",
    "'''"
   ]
  },
  {
   "cell_type": "code",
   "execution_count": 4,
   "id": "d875c3ee",
   "metadata": {},
   "outputs": [],
   "source": [
    "class Solution(object):\n",
    "    def maxScoreSightseeingPair(self, values):\n",
    "        \"\"\"\n",
    "        :type values: List[int]\n",
    "        :rtype: int\n",
    "        \"\"\"\n",
    "\n",
    "\n",
    "        maxl = 0 + values[0]\n",
    "        n = len(values)\n",
    "\n",
    "        ans = -float('inf')\n",
    "\n",
    "\n",
    "        for i in range(1, n):\n",
    "\n",
    "            calc = maxl + values[i] - i\n",
    "\n",
    "            ans = max(ans, calc)\n",
    "\n",
    "            maxl = max(maxl, i + values[i])\n",
    "        return ans\n",
    "    \n",
    "        "
   ]
  },
  {
   "cell_type": "code",
   "execution_count": 6,
   "id": "b645248f",
   "metadata": {},
   "outputs": [
    {
     "data": {
      "text/plain": [
       "\"\\nA greedy problem:\\n\\n\\n\\nThe intuition behind this question is the formula:\\n\\n\\n(values[i] + i) + (values[j] -j)\\n\\n\\nhere we wanna maximise the answer and that depends the value of the prev val[i] + i that is we need the max possible\\nvalue for this and then we comapre it with the elements of j and move forward\\n\\n\\nWhy It's a Greedy Problem:\\nInstead of storing and computing states explicitly (as in traditional DP), you can iterate through the array while maintaining only:\\nThe best prefix value (maxLeft) seen so far.\\nThe current maximum score.\\nAt each step, you:\\nCompute the score using the current maxLeft.\\nUpdate maxLeft for future iterations.\\nThis greedy approach works because local optimization (choosing the best prefix so far) ensures the global maximum score.\\n\\n\\n\""
      ]
     },
     "execution_count": 6,
     "metadata": {},
     "output_type": "execute_result"
    }
   ],
   "source": [
    "'''\n",
    "A greedy problem:\n",
    "\n",
    "\n",
    "\n",
    "The intuition behind this question is the formula:\n",
    "\n",
    "\n",
    "(values[i] + i) + (values[j] -j)\n",
    "\n",
    "\n",
    "here we wanna maximise the answer and that depends the value of the prev val[i] + i that is we need the max possible\n",
    "value for this and then we comapre it with the elements of j and move forward\n",
    "\n",
    "\n",
    "Why It's a Greedy Problem:\n",
    "Instead of storing and computing states explicitly (as in traditional DP), you can iterate through the array while maintaining only:\n",
    "The best prefix value (maxLeft) seen so far.\n",
    "The current maximum score.\n",
    "At each step, you:\n",
    "Compute the score using the current maxLeft.\n",
    "Update maxLeft for future iterations.\n",
    "This greedy approach works because local optimization (choosing the best prefix so far) ensures the global maximum score.\n",
    "\n",
    "\n",
    "'''"
   ]
  },
  {
   "cell_type": "code",
   "execution_count": null,
   "id": "fa266c14",
   "metadata": {},
   "outputs": [],
   "source": []
  }
 ],
 "metadata": {
  "kernelspec": {
   "display_name": "Python 3 (ipykernel)",
   "language": "python",
   "name": "python3"
  },
  "language_info": {
   "codemirror_mode": {
    "name": "ipython",
    "version": 3
   },
   "file_extension": ".py",
   "mimetype": "text/x-python",
   "name": "python",
   "nbconvert_exporter": "python",
   "pygments_lexer": "ipython3",
   "version": "3.11.4"
  }
 },
 "nbformat": 4,
 "nbformat_minor": 5
}
