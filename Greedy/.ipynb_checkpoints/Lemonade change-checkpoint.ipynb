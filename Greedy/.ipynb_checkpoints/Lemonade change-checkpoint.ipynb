{
 "cells": [
  {
   "cell_type": "code",
   "execution_count": 1,
   "id": "bb45d98c",
   "metadata": {},
   "outputs": [],
   "source": [
    "class Solution(object):\n",
    "    def lemonadeChange(self, bills):\n",
    "        \"\"\"\n",
    "        :type bills: List[int]\n",
    "        :rtype: bool\n",
    "        \"\"\"\n",
    "        five = 0\n",
    "        ten = 0\n",
    "        \n",
    "        for i in bills:\n",
    "            if i == 5:\n",
    "                five += 1\n",
    "            elif i == 10:\n",
    "                if five > 0:\n",
    "                    five -= 1\n",
    "                    ten += 1\n",
    "                else:\n",
    "                    return False\n",
    "            else:\n",
    "                if five > 0 and ten > 0:\n",
    "                    five -= 1\n",
    "                    ten -= 1\n",
    "                elif five >= 3:\n",
    "                    five -= 3\n",
    "                else:\n",
    "                    return False\n",
    "        return True\n",
    "        "
   ]
  },
  {
   "cell_type": "code",
   "execution_count": 2,
   "id": "45df294d",
   "metadata": {},
   "outputs": [
    {
     "data": {
      "text/plain": [
       "'\\n\\n\\nAt a lemonade stand, each lemonade costs $5. Customers are standing in a queue to buy from you and order one at a time (in the order specified by bills). Each customer will only buy one lemonade and pay with either a $5, $10, or $20 bill. You must provide the correct change to each customer so that the net transaction is that the customer pays $5.\\n\\nNote that you do not have any change in hand at first.\\n\\nGiven an integer array bills where bills[i] is the bill the ith customer pays, return true if you can provide every customer with the correct change, or false otherwise.\\n\\n \\n\\nExample 1:\\n\\nInput: bills = [5,5,5,10,20]\\nOutput: true\\nExplanation: \\nFrom the first 3 customers, we collect three $5 bills in order.\\nFrom the fourth customer, we collect a $10 bill and give back a $5.\\nFrom the fifth customer, we give a $10 bill and a $5 bill.\\nSince all customers got correct change, we output true.\\nExample 2:\\n\\nInput: bills = [5,5,10,10,20]\\nOutput: false\\nExplanation: \\nFrom the first two customers in order, we collect two $5 bills.\\nFor the next two customers in order, we collect a $10 bill and give back a $5 bill.\\nFor the last customer, we can not give the change of $15 back because we only have two $10 bills.\\nSince not every customer received the correct change, the answer is false.\\n'"
      ]
     },
     "execution_count": 2,
     "metadata": {},
     "output_type": "execute_result"
    }
   ],
   "source": [
    "'''\n",
    "\n",
    "\n",
    "At a lemonade stand, each lemonade costs $5. Customers are standing in a queue to buy from you and order one at a time (in the order specified by bills). Each customer will only buy one lemonade and pay with either a $5, $10, or $20 bill. You must provide the correct change to each customer so that the net transaction is that the customer pays $5.\n",
    "\n",
    "Note that you do not have any change in hand at first.\n",
    "\n",
    "Given an integer array bills where bills[i] is the bill the ith customer pays, return true if you can provide every customer with the correct change, or false otherwise.\n",
    "\n",
    " \n",
    "\n",
    "Example 1:\n",
    "\n",
    "Input: bills = [5,5,5,10,20]\n",
    "Output: true\n",
    "Explanation: \n",
    "From the first 3 customers, we collect three $5 bills in order.\n",
    "From the fourth customer, we collect a $10 bill and give back a $5.\n",
    "From the fifth customer, we give a $10 bill and a $5 bill.\n",
    "Since all customers got correct change, we output true.\n",
    "Example 2:\n",
    "\n",
    "Input: bills = [5,5,10,10,20]\n",
    "Output: false\n",
    "Explanation: \n",
    "From the first two customers in order, we collect two $5 bills.\n",
    "For the next two customers in order, we collect a $10 bill and give back a $5 bill.\n",
    "For the last customer, we can not give the change of $15 back because we only have two $10 bills.\n",
    "Since not every customer received the correct change, the answer is false.\n",
    "'''"
   ]
  },
  {
   "cell_type": "code",
   "execution_count": null,
   "id": "9935ddc9",
   "metadata": {},
   "outputs": [],
   "source": []
  }
 ],
 "metadata": {
  "kernelspec": {
   "display_name": "Python 3 (ipykernel)",
   "language": "python",
   "name": "python3"
  },
  "language_info": {
   "codemirror_mode": {
    "name": "ipython",
    "version": 3
   },
   "file_extension": ".py",
   "mimetype": "text/x-python",
   "name": "python",
   "nbconvert_exporter": "python",
   "pygments_lexer": "ipython3",
   "version": "3.11.4"
  }
 },
 "nbformat": 4,
 "nbformat_minor": 5
}
