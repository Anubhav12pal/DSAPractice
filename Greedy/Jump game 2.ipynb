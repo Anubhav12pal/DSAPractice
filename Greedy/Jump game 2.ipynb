{
 "cells": [
  {
   "cell_type": "code",
   "execution_count": 1,
   "id": "6873c7e3",
   "metadata": {},
   "outputs": [
    {
     "data": {
      "text/plain": [
       "\"\\nYou are given a 0-indexed array of integers nums of length n. You are initially positioned at nums[0].\\n\\nEach element nums[i] represents the maximum length of a forward jump from index i. In other words, if you are at nums[i], you can jump to any nums[i + j] where:\\n\\n0 <= j <= nums[i] and\\ni + j < n\\nReturn the minimum number of jumps to reach nums[n - 1]. The test cases are generated such that you can reach nums[n - 1].\\n\\n \\n\\nExample 1:\\n\\nInput: nums = [2,3,1,1,4]\\nOutput: 2\\nExplanation: The minimum number of jumps to reach the last index is 2. Jump 1 step from index 0 to 1, then 3 steps to the last index.\\nExample 2:\\n\\nInput: nums = [2,3,0,1,4]\\nOutput: 2\\n \\n\\nConstraints:\\n\\n1 <= nums.length <= 104\\n0 <= nums[i] <= 1000\\nIt's guaranteed that you can reach nums[n - 1].\\n\\n\\n\""
      ]
     },
     "execution_count": 1,
     "metadata": {},
     "output_type": "execute_result"
    }
   ],
   "source": [
    "'''\n",
    "You are given a 0-indexed array of integers nums of length n. You are initially positioned at nums[0].\n",
    "\n",
    "Each element nums[i] represents the maximum length of a forward jump from index i. In other words, if you are at nums[i], you can jump to any nums[i + j] where:\n",
    "\n",
    "0 <= j <= nums[i] and\n",
    "i + j < n\n",
    "Return the minimum number of jumps to reach nums[n - 1]. The test cases are generated such that you can reach nums[n - 1].\n",
    "\n",
    " \n",
    "\n",
    "Example 1:\n",
    "\n",
    "Input: nums = [2,3,1,1,4]\n",
    "Output: 2\n",
    "Explanation: The minimum number of jumps to reach the last index is 2. Jump 1 step from index 0 to 1, then 3 steps to the last index.\n",
    "Example 2:\n",
    "\n",
    "Input: nums = [2,3,0,1,4]\n",
    "Output: 2\n",
    " \n",
    "\n",
    "Constraints:\n",
    "\n",
    "1 <= nums.length <= 104\n",
    "0 <= nums[i] <= 1000\n",
    "It's guaranteed that you can reach nums[n - 1].\n",
    "\n",
    "\n",
    "'''"
   ]
  },
  {
   "cell_type": "code",
   "execution_count": 2,
   "id": "ab5112bb",
   "metadata": {},
   "outputs": [],
   "source": [
    "class Solution(object):\n",
    "    def jump(self, nums):\n",
    "        \"\"\"\n",
    "        :type nums: List[int]\n",
    "        :rtype: int\n",
    "        \"\"\"\n",
    "\n",
    "        l = 0\n",
    "        r = 0\n",
    "        j = 0\n",
    "\n",
    "        while r < len(nums)-1:\n",
    "\n",
    "            farthest = 0\n",
    "\n",
    "            for i in range(l,r + 1):\n",
    "                farthest = max(i + nums[i], farthest)\n",
    "            l = r + 1\n",
    "            r = farthest\n",
    "            j +=1\n",
    "        return j\n",
    "        "
   ]
  },
  {
   "cell_type": "code",
   "execution_count": null,
   "id": "5214dc99",
   "metadata": {},
   "outputs": [],
   "source": []
  }
 ],
 "metadata": {
  "kernelspec": {
   "display_name": "Python 3 (ipykernel)",
   "language": "python",
   "name": "python3"
  },
  "language_info": {
   "codemirror_mode": {
    "name": "ipython",
    "version": 3
   },
   "file_extension": ".py",
   "mimetype": "text/x-python",
   "name": "python",
   "nbconvert_exporter": "python",
   "pygments_lexer": "ipython3",
   "version": "3.11.4"
  }
 },
 "nbformat": 4,
 "nbformat_minor": 5
}
