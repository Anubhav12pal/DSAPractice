{
 "cells": [
  {
   "cell_type": "code",
   "execution_count": 1,
   "id": "8ffd119d",
   "metadata": {},
   "outputs": [],
   "source": [
    "class Solution(object):\n",
    "    def findCircleNum(self, isConnected):\n",
    "        \"\"\"\n",
    "        :type isConnected: List[List[int]]\n",
    "        :rtype: int\n",
    "        \"\"\"\n",
    "\n",
    "        l = len(isConnected)\n",
    "        vis = [0] * l\n",
    "        c = 0\n",
    "\n",
    "        adj = [[] for _ in range(l)]\n",
    "\n",
    "        for i in range(0,len(isConnected)):\n",
    "            for j in range(0,len(isConnected)):\n",
    "                if isConnected[i][j] == 1 and i != j:\n",
    "                    adj[i].append(j)\n",
    "                    adj[j].append(i)\n",
    "\n",
    "\n",
    "        def dfs(node):\n",
    "\n",
    "            vis[node] = 1\n",
    "\n",
    "            for i in adj[node]:\n",
    "                if vis[i] == 0:\n",
    "                    dfs(i)\n",
    "        for i in range(l):\n",
    "            if vis[i] == 0:  # New province found\n",
    "                c += 1  # Increment province count\n",
    "                dfs(i)  # Perform DFS to visit all connected cities\n",
    "        return c"
   ]
  },
  {
   "cell_type": "code",
   "execution_count": null,
   "id": "3bce402e",
   "metadata": {},
   "outputs": [],
   "source": []
  }
 ],
 "metadata": {
  "kernelspec": {
   "display_name": "Python 3 (ipykernel)",
   "language": "python",
   "name": "python3"
  },
  "language_info": {
   "codemirror_mode": {
    "name": "ipython",
    "version": 3
   },
   "file_extension": ".py",
   "mimetype": "text/x-python",
   "name": "python",
   "nbconvert_exporter": "python",
   "pygments_lexer": "ipython3",
   "version": "3.11.4"
  }
 },
 "nbformat": 4,
 "nbformat_minor": 5
}
