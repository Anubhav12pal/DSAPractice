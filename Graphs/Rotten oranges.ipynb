{
 "cells": [
  {
   "cell_type": "code",
   "execution_count": 1,
   "id": "dad931fb",
   "metadata": {},
   "outputs": [],
   "source": [
    "from collections import deque\n",
    "\n",
    "class Solution(object):\n",
    "    def orangesRotting(self, grid):\n",
    "        \"\"\"\n",
    "        :type grid: List[List[int]]\n",
    "        :rtype: int\n",
    "        \"\"\"\n",
    "\n",
    "        n = len(grid)\n",
    "        m = len(grid[0])\n",
    "\n",
    "        q = deque()\n",
    "        vis = [[0] * m for _ in range(n)]  # Initialize visited matrix\n",
    "\n",
    "        # Add all initially rotten oranges to the queue\n",
    "        for i in range(n):\n",
    "            for j in range(m):\n",
    "                if grid[i][j] == 2:\n",
    "                    q.append([i, j, 0])\n",
    "                    vis[i][j] = 2\n",
    "                else:\n",
    "                    vis[i][j] = 0\n",
    "\n",
    "        t = 0\n",
    "\n",
    "        # Direction arrays to move up, down, left, and right\n",
    "        delr = [-1, 0, 1, 0]\n",
    "        delc = [0, 1, 0, -1]\n",
    "\n",
    "        # BFS traversal\n",
    "        while q:\n",
    "            node = q.popleft()\n",
    "            row, col, tim = node[0], node[1], node[2]  # Access correct element\n",
    "            t = max(t, tim)\n",
    "\n",
    "            for i in range(4):\n",
    "                newr = row + delr[i]\n",
    "                newc = col + delc[i]\n",
    "\n",
    "                if newr >= 0 and newr < n and newc >= 0 and newc < m and vis[newr][newc] == 0 and grid[newr][newc] == 1:\n",
    "                    q.append([newr, newc, tim + 1])\n",
    "                    vis[newr][newc] = 2  # Mark it as visited (rotten)\n",
    "\n",
    "        # After BFS, check if there are any fresh oranges left\n",
    "        for i in range(n):\n",
    "            for j in range(m):\n",
    "                if grid[i][j] == 1 and vis[i][j] != 2:  # If a fresh orange remains\n",
    "                    return -1\n",
    "\n",
    "        return t\n"
   ]
  },
  {
   "cell_type": "code",
   "execution_count": null,
   "id": "f3a91e90",
   "metadata": {},
   "outputs": [],
   "source": []
  }
 ],
 "metadata": {
  "kernelspec": {
   "display_name": "Python 3 (ipykernel)",
   "language": "python",
   "name": "python3"
  },
  "language_info": {
   "codemirror_mode": {
    "name": "ipython",
    "version": 3
   },
   "file_extension": ".py",
   "mimetype": "text/x-python",
   "name": "python",
   "nbconvert_exporter": "python",
   "pygments_lexer": "ipython3",
   "version": "3.11.4"
  }
 },
 "nbformat": 4,
 "nbformat_minor": 5
}
