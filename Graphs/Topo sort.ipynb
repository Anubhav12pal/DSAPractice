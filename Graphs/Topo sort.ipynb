{
 "cells": [
  {
   "cell_type": "code",
   "execution_count": 1,
   "id": "48090119",
   "metadata": {},
   "outputs": [],
   "source": [
    "from collections import deque\n",
    "\n",
    "class Solution:\n",
    "    \n",
    "    #Function to return list containing vertices in Topological order.\n",
    "    def topologicalSort(self,adj):\n",
    "        # Code here\n",
    "        \n",
    "        n = len(adj)\n",
    "        vis = [0] * n\n",
    "        s = deque()\n",
    "        \n",
    "        def dfs(node, vis, s, adj):\n",
    "            vis[node] = 1\n",
    "            \n",
    "            for i in adj[node]:\n",
    "                if vis[i] == 0:\n",
    "                    dfs(i, vis, s, adj)\n",
    "            s.append(node)\n",
    "        \n",
    "        for i in range(n):\n",
    "            if vis[i] == 0:\n",
    "                dfs(i, vis, s, adj)\n",
    "        ans = []\n",
    "        while s:\n",
    "            ans.append(s.pop())\n",
    "        return ans\n"
   ]
  },
  {
   "cell_type": "markdown",
   "id": "e945cdfa",
   "metadata": {},
   "source": [
    "# Using bfs khans algi"
   ]
  },
  {
   "cell_type": "code",
   "execution_count": 3,
   "id": "e8cee577",
   "metadata": {},
   "outputs": [
    {
     "data": {
      "text/plain": [
       "'\\nfrom an adge for u to v topo sort is the arrangement of all the nodes where u comes before v for \\nall the edges present\\n\\n\\n'"
      ]
     },
     "execution_count": 3,
     "metadata": {},
     "output_type": "execute_result"
    }
   ],
   "source": [
    "'''\n",
    "from an adge for u to v topo sort is the arrangement of all the nodes where u comes before v for \n",
    "all the edges present\n",
    "\n",
    "\n",
    "'''"
   ]
  },
  {
   "cell_type": "code",
   "execution_count": 5,
   "id": "c11f3367",
   "metadata": {},
   "outputs": [
    {
     "data": {
      "text/plain": [
       "'\\nInsert all nodes with indegree 0\\n\\npop the first element in the q and to all the nodes it was connected to reduce the indegree by 1\\n\\nwhenever some nodes indegree becomes 0 insert into the q\\n\\n\\n'"
      ]
     },
     "execution_count": 5,
     "metadata": {},
     "output_type": "execute_result"
    }
   ],
   "source": [
    "'''\n",
    "Insert all nodes with indegree 0\n",
    "\n",
    "pop the first element in the q and to all the nodes it was connected to reduce the indegree by 1\n",
    "\n",
    "whenever some nodes indegree becomes 0 insert into the q\n",
    "\n",
    "\n",
    "'''"
   ]
  },
  {
   "cell_type": "code",
   "execution_count": null,
   "id": "71e6c001",
   "metadata": {},
   "outputs": [],
   "source": []
  }
 ],
 "metadata": {
  "kernelspec": {
   "display_name": "Python 3 (ipykernel)",
   "language": "python",
   "name": "python3"
  },
  "language_info": {
   "codemirror_mode": {
    "name": "ipython",
    "version": 3
   },
   "file_extension": ".py",
   "mimetype": "text/x-python",
   "name": "python",
   "nbconvert_exporter": "python",
   "pygments_lexer": "ipython3",
   "version": "3.11.4"
  }
 },
 "nbformat": 4,
 "nbformat_minor": 5
}
