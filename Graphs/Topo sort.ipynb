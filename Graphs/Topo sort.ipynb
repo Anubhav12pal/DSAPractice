{
 "cells": [
  {
   "cell_type": "code",
   "execution_count": 1,
   "id": "1e846647",
   "metadata": {},
   "outputs": [],
   "source": [
    "from collections import deque\n",
    "\n",
    "class Solution:\n",
    "    \n",
    "    #Function to return list containing vertices in Topological order.\n",
    "    def topologicalSort(self,adj):\n",
    "        # Code here\n",
    "        \n",
    "        n = len(adj)\n",
    "        vis = [0] * n\n",
    "        s = deque()\n",
    "        \n",
    "        def dfs(node, vis, s, adj):\n",
    "            vis[node] = 1\n",
    "            \n",
    "            for i in adj[node]:\n",
    "                if vis[i] == 0:\n",
    "                    dfs(i, vis, s, adj)\n",
    "            s.append(node)\n",
    "        \n",
    "        for i in range(n):\n",
    "            if vis[i] == 0:\n",
    "                dfs(i, vis, s, adj)\n",
    "        ans = []\n",
    "        while s:\n",
    "            ans.append(s.pop())\n",
    "        return ans\n"
   ]
  },
  {
   "cell_type": "code",
   "execution_count": null,
   "id": "2468929b",
   "metadata": {},
   "outputs": [],
   "source": []
  }
 ],
 "metadata": {
  "kernelspec": {
   "display_name": "Python 3 (ipykernel)",
   "language": "python",
   "name": "python3"
  },
  "language_info": {
   "codemirror_mode": {
    "name": "ipython",
    "version": 3
   },
   "file_extension": ".py",
   "mimetype": "text/x-python",
   "name": "python",
   "nbconvert_exporter": "python",
   "pygments_lexer": "ipython3",
   "version": "3.11.4"
  }
 },
 "nbformat": 4,
 "nbformat_minor": 5
}
