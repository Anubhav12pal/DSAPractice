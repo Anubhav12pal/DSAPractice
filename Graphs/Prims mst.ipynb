{
 "cells": [
  {
   "cell_type": "code",
   "execution_count": 1,
   "id": "6585ee36",
   "metadata": {},
   "outputs": [],
   "source": [
    "from typing import List\n",
    "import heapq\n",
    "\n",
    "class Solution:\n",
    "    # Function to find the sum of weights of edges of the Minimum Spanning Tree.\n",
    "    def spanningTree(self, V: int, adj: List[List[int]]) -> int:\n",
    "        # Visited array to track visited nodes\n",
    "        vis = [0] * V\n",
    "        # Priority queue to store (weight, node)\n",
    "        q = []\n",
    "        # Total weight of the MST\n",
    "        total_weight = 0\n",
    "        \n",
    "        # Start with the first node (node 0)\n",
    "        heapq.heappush(q, (0, 0))  # (weight, node)\n",
    "        \n",
    "        while q:\n",
    "            # Pop the node with the smallest weight\n",
    "            wt, node = heapq.heappop(q)\n",
    "            \n",
    "            # If the node is already visited, continue\n",
    "            if vis[node]:\n",
    "                continue\n",
    "            \n",
    "            # Mark the node as visited\n",
    "            vis[node] = 1\n",
    "            # Add the weight to the total weight\n",
    "            total_weight += wt\n",
    "            \n",
    "            # Explore adjacent nodes\n",
    "            for neighbor in adj[node]:\n",
    "                ad = neighbor[0]  # Adjacent node\n",
    "                w = neighbor[1]   # Weight of the edge\n",
    "                # Only push to the queue if the adjacent node has not been visited\n",
    "                if not vis[ad]:\n",
    "                    heapq.heappush(q, (w, ad))\n",
    "        \n",
    "        return total_weight"
   ]
  },
  {
   "cell_type": "code",
   "execution_count": null,
   "id": "fe5e48f3",
   "metadata": {},
   "outputs": [],
   "source": []
  }
 ],
 "metadata": {
  "kernelspec": {
   "display_name": "Python 3 (ipykernel)",
   "language": "python",
   "name": "python3"
  },
  "language_info": {
   "codemirror_mode": {
    "name": "ipython",
    "version": 3
   },
   "file_extension": ".py",
   "mimetype": "text/x-python",
   "name": "python",
   "nbconvert_exporter": "python",
   "pygments_lexer": "ipython3",
   "version": "3.11.4"
  }
 },
 "nbformat": 4,
 "nbformat_minor": 5
}
