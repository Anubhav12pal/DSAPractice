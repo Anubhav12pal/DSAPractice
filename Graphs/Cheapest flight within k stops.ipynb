{
 "cells": [
  {
   "cell_type": "code",
   "execution_count": 1,
   "id": "275570e4",
   "metadata": {},
   "outputs": [
    {
     "data": {
      "text/plain": [
       "'\\n\\nThere are n cities connected by some number of flights. You are given an array flights where \\nflights[i] = [fromi, toi, pricei] indicates that there is a flight from city fromi to city toi with cost pricei.\\n\\nYou are also given three integers src, dst, and k, return the cheapest price from src to \\ndst with at most k stops. If there is no such route, return -1.\\n\\n'"
      ]
     },
     "execution_count": 1,
     "metadata": {},
     "output_type": "execute_result"
    }
   ],
   "source": [
    "'''\n",
    "\n",
    "There are n cities connected by some number of flights. You are given an array flights where \n",
    "flights[i] = [fromi, toi, pricei] indicates that there is a flight from city fromi to city toi with cost pricei.\n",
    "\n",
    "You are also given three integers src, dst, and k, return the cheapest price from src to \n",
    "dst with at most k stops. If there is no such route, return -1.\n",
    "\n",
    "'''"
   ]
  },
  {
   "cell_type": "code",
   "execution_count": 2,
   "id": "c253efce",
   "metadata": {},
   "outputs": [],
   "source": [
    "class Solution(object):\n",
    "    def findCheapestPrice(self, n, flights, src, dst, k):\n",
    "        \"\"\"\n",
    "        :type n: int\n",
    "        :type flights: List[List[int]]\n",
    "        :type src: int\n",
    "        :type dst: int\n",
    "        :type k: int\n",
    "        :rtype: int\n",
    "        \"\"\"\n",
    "\n",
    "        adj = [[] for i in range(n)]\n",
    "        dis = [float('inf')]* n\n",
    "        q = []\n",
    "\n",
    "        for i in flights:\n",
    "            f = i[0]\n",
    "            t = i[1]\n",
    "            price = i[2]\n",
    "\n",
    "            adj[f].append((t, price))\n",
    "        \n",
    "        dis[src] = 0\n",
    "        q.append((0, [src, 0]))\n",
    "\n",
    "        while q:\n",
    "            ele = q.pop(0)\n",
    "            stops = ele[0]\n",
    "            node= ele[1][0]\n",
    "            price = ele[1][1]\n",
    "\n",
    "            if stops > k:\n",
    "                continue\n",
    "            for i in adj[node]:\n",
    "                adjc = i[1]\n",
    "                adjnode = i[0]\n",
    "\n",
    "                if price + adjc < dis[adjnode] and stops <=k:\n",
    "                    dis[adjnode] = price + adjc\n",
    "                    q.append((stops+1,[adjnode, price + adjc]))\n",
    "\n",
    "\n",
    "        if dis[dst] == float('inf'):\n",
    "            return -1\n",
    "        return dis[dst]"
   ]
  },
  {
   "cell_type": "code",
   "execution_count": 3,
   "id": "edf0af51",
   "metadata": {},
   "outputs": [
    {
     "data": {
      "text/plain": [
       "'\\n\\nU can try normal djiskstras using the proices but the k stops prevents that to execute properly because of that u use \\nstops as a parameter but as u see that stops only increase by 1 at a time so there is no need to use priority queue\\nand just use a normal q\\n\\n'"
      ]
     },
     "execution_count": 3,
     "metadata": {},
     "output_type": "execute_result"
    }
   ],
   "source": [
    "'''\n",
    "\n",
    "U can try normal djiskstras using the proices but the k stops prevents that to execute properly because of that u use \n",
    "stops as a parameter but as u see that stops only increase by 1 at a time so there is no need to use priority queue\n",
    "and just use a normal q\n",
    "\n",
    "'''"
   ]
  },
  {
   "cell_type": "code",
   "execution_count": null,
   "id": "f9935196",
   "metadata": {},
   "outputs": [],
   "source": []
  }
 ],
 "metadata": {
  "kernelspec": {
   "display_name": "Python 3 (ipykernel)",
   "language": "python",
   "name": "python3"
  },
  "language_info": {
   "codemirror_mode": {
    "name": "ipython",
    "version": 3
   },
   "file_extension": ".py",
   "mimetype": "text/x-python",
   "name": "python",
   "nbconvert_exporter": "python",
   "pygments_lexer": "ipython3",
   "version": "3.11.4"
  }
 },
 "nbformat": 4,
 "nbformat_minor": 5
}
