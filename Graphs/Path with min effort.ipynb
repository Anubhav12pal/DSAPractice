{
 "cells": [
  {
   "cell_type": "code",
   "execution_count": 1,
   "id": "f00e9538",
   "metadata": {},
   "outputs": [],
   "source": [
    "class Solution(object):\n",
    "    def minimumEffortPath(self, heights):\n",
    "        \"\"\"\n",
    "        :type heights: List[List[int]]\n",
    "        :rtype: int\n",
    "        \"\"\"\n",
    "\n",
    "        n = len(heights)\n",
    "        m = len(heights[0])\n",
    "        dis = [[float('inf')] * m for _ in range(n)]\n",
    "        q = [(0,[0,0])]\n",
    "        delr = [-1,0,1,0]\n",
    "        delc = [0,1,0,-1]\n",
    "\n",
    "        while q:\n",
    "            node = heapq.heappop(q)\n",
    "            effort = node[0]\n",
    "            r = node[1][0]\n",
    "            c = node[1][1]\n",
    "\n",
    "            if r == n-1 and c == m-1:\n",
    "                return effort\n",
    "\n",
    "            for i in range(4):\n",
    "                newr = r + delr[i]\n",
    "                newc = c + delc[i]\n",
    "                if newr >= 0 and newc >= 0 and newr <n and newc < m :\n",
    "                    newe = max(effort, abs(heights[r][c] - heights[newr][newc]))\n",
    "                    if newe < dis[newr][newc]:\n",
    "                        dis[newr][newc] = newe\n",
    "                        heapq.heappush(q,(dis[newr][newc],[newr,newc]))\n",
    "        return 0"
   ]
  },
  {
   "cell_type": "code",
   "execution_count": null,
   "id": "1c0f866b",
   "metadata": {},
   "outputs": [],
   "source": []
  }
 ],
 "metadata": {
  "kernelspec": {
   "display_name": "Python 3 (ipykernel)",
   "language": "python",
   "name": "python3"
  },
  "language_info": {
   "codemirror_mode": {
    "name": "ipython",
    "version": 3
   },
   "file_extension": ".py",
   "mimetype": "text/x-python",
   "name": "python",
   "nbconvert_exporter": "python",
   "pygments_lexer": "ipython3",
   "version": "3.11.4"
  }
 },
 "nbformat": 4,
 "nbformat_minor": 5
}
