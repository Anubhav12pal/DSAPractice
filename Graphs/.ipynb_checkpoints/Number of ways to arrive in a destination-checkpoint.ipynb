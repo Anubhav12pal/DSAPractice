{
 "cells": [
  {
   "cell_type": "code",
   "execution_count": 1,
   "id": "6c0a90f4",
   "metadata": {},
   "outputs": [],
   "source": [
    "import heapq\n",
    "\n",
    "MOD = 10**9 + 7\n",
    "\n",
    "class Solution(object):\n",
    "    def countPaths(self, n, roads):\n",
    "        \"\"\"\n",
    "        :type n: int\n",
    "        :type roads: List[List[int]]\n",
    "        :rtype: int\n",
    "        \"\"\"\n",
    "        # Step 1: Build the graph as an adjacency list\n",
    "        graph = [[] for _ in range(n)]\n",
    "        for u, v, time in roads:\n",
    "            graph[u].append((v, time))\n",
    "            graph[v].append((u, time))\n",
    "        \n",
    "        # Step 2: Initialize distances and ways arrays\n",
    "        dist = [float('inf')] * n\n",
    "        ways = [0] * n\n",
    "        dist[0] = 0\n",
    "        ways[0] = 1\n",
    "        \n",
    "        # Step 3: Priority queue for Dijkstra's algorithm\n",
    "        pq = [(0, 0)]  # (current_time, node)\n",
    "        \n",
    "        while pq:\n",
    "            curr_time, node = heapq.heappop(pq)\n",
    "            \n",
    "            # If the current time is greater than the recorded shortest time, skip it\n",
    "            if curr_time > dist[node]:\n",
    "                continue\n",
    "            \n",
    "            # Step 4: Relax edges\n",
    "            for neighbor, time in graph[node]:\n",
    "                new_time = curr_time + time\n",
    "                \n",
    "                # If we find a shorter path to the neighbor, update it\n",
    "                if new_time < dist[neighbor]:\n",
    "                    dist[neighbor] = new_time\n",
    "                    ways[neighbor] = ways[node]  # Reset ways count for this shortest path\n",
    "                    heapq.heappush(pq, (new_time, neighbor))\n",
    "                \n",
    "                # If the path time is the same as the shortest path, add the number of ways\n",
    "                elif new_time == dist[neighbor]:\n",
    "                    ways[neighbor] = (ways[neighbor] + ways[node]) % MOD\n",
    "        \n",
    "        # Step 5: Return the number of ways to reach n-1 in the shortest time\n",
    "        return ways[n - 1]\n"
   ]
  },
  {
   "cell_type": "code",
   "execution_count": null,
   "id": "b224e327",
   "metadata": {},
   "outputs": [],
   "source": []
  }
 ],
 "metadata": {
  "kernelspec": {
   "display_name": "Python 3 (ipykernel)",
   "language": "python",
   "name": "python3"
  },
  "language_info": {
   "codemirror_mode": {
    "name": "ipython",
    "version": 3
   },
   "file_extension": ".py",
   "mimetype": "text/x-python",
   "name": "python",
   "nbconvert_exporter": "python",
   "pygments_lexer": "ipython3",
   "version": "3.11.4"
  }
 },
 "nbformat": 4,
 "nbformat_minor": 5
}
