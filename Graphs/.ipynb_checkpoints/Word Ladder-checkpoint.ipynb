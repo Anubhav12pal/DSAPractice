{
 "cells": [
  {
   "cell_type": "code",
   "execution_count": 2,
   "id": "230ad5f4",
   "metadata": {},
   "outputs": [],
   "source": [
    "class Solution(object):\n",
    "    def ladderLength(self, beginWord, endWord, wordList):\n",
    "        \"\"\"\n",
    "        :type beginWord: str\n",
    "        :type endWord: str\n",
    "        :type wordList: List[str]\n",
    "        :rtype: int\n",
    "        \"\"\"\n",
    "        q = deque([[beginWord, 1]])\n",
    "\n",
    "        wordLis = set(wordList)\n",
    "        while q:\n",
    "            node = q.popleft()\n",
    "            word = node[0]\n",
    "            d = node[1]\n",
    "\n",
    "            if word == endWord:\n",
    "                return d\n",
    "            \n",
    "\n",
    "            # Check the word if it can be changed to any other word, remember that the word can haveonly 1 letter changed so try changing the letter one by 1\n",
    "\n",
    "            for i in range(len(word)):\n",
    "                for letter in range(ord('a'), ord('z') + 1):\n",
    "                    new = word[:i] + chr(letter) + word[i+1:]\n",
    "                    if new in wordLis:\n",
    "                        wordLis.remove(new)\n",
    "\n",
    "                        q.append([new, d+ 1])\n",
    "        return 0"
   ]
  },
  {
   "cell_type": "code",
   "execution_count": null,
   "id": "bd0794d1",
   "metadata": {},
   "outputs": [],
   "source": []
  }
 ],
 "metadata": {
  "kernelspec": {
   "display_name": "Python 3 (ipykernel)",
   "language": "python",
   "name": "python3"
  },
  "language_info": {
   "codemirror_mode": {
    "name": "ipython",
    "version": 3
   },
   "file_extension": ".py",
   "mimetype": "text/x-python",
   "name": "python",
   "nbconvert_exporter": "python",
   "pygments_lexer": "ipython3",
   "version": "3.11.4"
  }
 },
 "nbformat": 4,
 "nbformat_minor": 5
}
