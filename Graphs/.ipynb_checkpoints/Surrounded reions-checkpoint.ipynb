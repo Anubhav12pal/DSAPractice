{
 "cells": [
  {
   "cell_type": "code",
   "execution_count": 1,
   "id": "283b8a04",
   "metadata": {},
   "outputs": [],
   "source": [
    "class Solution(object):\n",
    "    def solve(self, board):\n",
    "        \"\"\"\n",
    "        :type board: List[List[str]]\n",
    "        :rtype: None Do not return anything, modify board in-place instead.\n",
    "        \"\"\"\n",
    "\n",
    "        n = len(board)\n",
    "        m = len(board[0])\n",
    "\n",
    "        vis = [[0] * m for _ in range(n)]\n",
    "        \n",
    "        \n",
    "\n",
    "        def dfs(row, col, vis, board):\n",
    "            n = len(board)\n",
    "            m = len(board[0])\n",
    "            delr = [-1, 0, 1, 0]\n",
    "            delc = [0, 1, 0, -1]\n",
    "            vis[row][col] = 1\n",
    "\n",
    "            for i in range(4):\n",
    "                newr = row + delr[i]\n",
    "                newc = col + delc[i]\n",
    "\n",
    "                if newr >=0 and newc >= 0 and newr <n and newc <m and vis[newr][newc] == 0 and board[newr][newc] == 'O':\n",
    "                    dfs(newr, newc, vis, board)\n",
    "\n",
    "            \n",
    "\n",
    "\n",
    "        for j in range(m):\n",
    "\n",
    "            if vis[0][j] == 0 and board[0][j] == 'O':\n",
    "                dfs(0, j, vis, board)\n",
    "\n",
    "            if vis[n-1][j] == 0 and board[n-1][j] == 'O':\n",
    "                dfs(n-1, j, vis, board)\n",
    "\n",
    "        for i in range(n):\n",
    "\n",
    "            if vis[i][0] == 0 and board[i][0] == 'O':\n",
    "                dfs(i, 0, vis, board)\n",
    "\n",
    "            if vis[i][m-1] == 0 and board[i][m-1] == 'O':\n",
    "                dfs(i, m-1, vis, board)\n",
    "        for i in range(n):\n",
    "            for j in range(m):\n",
    "                if vis[i][j] == 0 and board[i][j] == 'O':\n",
    "                    board[i][j] = 'X'\n",
    "        return board\n",
    "        \n",
    "\n",
    "        "
   ]
  },
  {
   "cell_type": "code",
   "execution_count": null,
   "id": "8b3af368",
   "metadata": {},
   "outputs": [],
   "source": []
  }
 ],
 "metadata": {
  "kernelspec": {
   "display_name": "Python 3 (ipykernel)",
   "language": "python",
   "name": "python3"
  },
  "language_info": {
   "codemirror_mode": {
    "name": "ipython",
    "version": 3
   },
   "file_extension": ".py",
   "mimetype": "text/x-python",
   "name": "python",
   "nbconvert_exporter": "python",
   "pygments_lexer": "ipython3",
   "version": "3.11.4"
  }
 },
 "nbformat": 4,
 "nbformat_minor": 5
}
