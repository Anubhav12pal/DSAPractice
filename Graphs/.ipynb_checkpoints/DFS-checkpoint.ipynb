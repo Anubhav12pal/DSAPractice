{
 "cells": [
  {
   "cell_type": "code",
   "execution_count": 1,
   "id": "d098e717",
   "metadata": {},
   "outputs": [],
   "source": [
    "from collections import deque\n",
    "class Solution:\n",
    "    \n",
    "    #Function to return a list containing the DFS traversal of the graph.\n",
    "    def dfsOfGraph(self, adj):\n",
    "        # code here\n",
    "        \n",
    "        l = len(adj)\n",
    "        vis = [0]*l\n",
    "        dfs= []\n",
    "        \n",
    "        \n",
    "        def helper(node):\n",
    "            vis[node] = 1\n",
    "            dfs.append(node)\n",
    "            \n",
    "            for i in adj[node]:\n",
    "                \n",
    "                if vis[i] == 0:\n",
    "                    helper(i)\n",
    "        helper(0)\n",
    "        return dfs"
   ]
  },
  {
   "cell_type": "code",
   "execution_count": 1,
   "id": "73686024",
   "metadata": {},
   "outputs": [
    {
     "data": {
      "text/plain": [
       "'OK'"
      ]
     },
     "execution_count": 1,
     "metadata": {},
     "output_type": "execute_result"
    }
   ],
   "source": [
    "'OK'"
   ]
  },
  {
   "cell_type": "code",
   "execution_count": null,
   "id": "144afc00",
   "metadata": {},
   "outputs": [],
   "source": []
  },
  {
   "cell_type": "code",
   "execution_count": null,
   "id": "80ff5f07",
   "metadata": {},
   "outputs": [],
   "source": []
  }
 ],
 "metadata": {
  "kernelspec": {
   "display_name": "Python 3 (ipykernel)",
   "language": "python",
   "name": "python3"
  },
  "language_info": {
   "codemirror_mode": {
    "name": "ipython",
    "version": 3
   },
   "file_extension": ".py",
   "mimetype": "text/x-python",
   "name": "python",
   "nbconvert_exporter": "python",
   "pygments_lexer": "ipython3",
   "version": "3.11.4"
  }
 },
 "nbformat": 4,
 "nbformat_minor": 5
}
