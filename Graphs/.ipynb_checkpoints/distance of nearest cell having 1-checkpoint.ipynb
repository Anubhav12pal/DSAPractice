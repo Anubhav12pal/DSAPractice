{
 "cells": [
  {
   "cell_type": "code",
   "execution_count": 1,
   "id": "a619a807",
   "metadata": {},
   "outputs": [],
   "source": [
    "class Solution(object):\n",
    "    def updateMatrix(self, mat):\n",
    "        \"\"\"\n",
    "        :type mat: List[List[int]]\n",
    "        :rtype: List[List[int]]\n",
    "        \"\"\"\n",
    "\n",
    "        m = len(mat)\n",
    "        n = len(mat[0])\n",
    "\n",
    "        vis = [[0] * n for _ in range(m)]\n",
    "        dis = [[0] * n for _ in range(m)]\n",
    "        q = deque()\n",
    "        delc = [0, 1, 0, -1]\n",
    "        delr = [-1, 0, 1, 0]\n",
    "\n",
    "        for i in range(m):\n",
    "            for j in range(n):\n",
    "                if mat[i][j] == 0:\n",
    "                    q.append([i,j,0])\n",
    "                    vis[i][j] = 1\n",
    "                else:\n",
    "                    vis[i][j] = 0\n",
    "        while q:\n",
    "            node = q.popleft()\n",
    "            row = node[0]\n",
    "            col = node[1]\n",
    "            dist = node[2]\n",
    "            dis[row][col] = dist\n",
    "\n",
    "            for i in range(4):\n",
    "                newr = row + delr[i]\n",
    "                newc = col + delc[i]\n",
    "\n",
    "                if newr >= 0 and newr < m and newc >=0 and newc < n and vis[newr][newc] == 0:\n",
    "                    vis[newr][newc] = 1\n",
    "                    q.append([newr, newc, dist + 1])\n",
    "\n",
    "        return dis\n",
    "\n",
    "\n",
    "        "
   ]
  },
  {
   "cell_type": "code",
   "execution_count": null,
   "id": "eef1c058",
   "metadata": {},
   "outputs": [],
   "source": []
  }
 ],
 "metadata": {
  "kernelspec": {
   "display_name": "Python 3 (ipykernel)",
   "language": "python",
   "name": "python3"
  },
  "language_info": {
   "codemirror_mode": {
    "name": "ipython",
    "version": 3
   },
   "file_extension": ".py",
   "mimetype": "text/x-python",
   "name": "python",
   "nbconvert_exporter": "python",
   "pygments_lexer": "ipython3",
   "version": "3.11.4"
  }
 },
 "nbformat": 4,
 "nbformat_minor": 5
}
