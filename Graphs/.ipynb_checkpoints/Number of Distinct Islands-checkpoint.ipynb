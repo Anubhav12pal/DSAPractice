{
 "cells": [
  {
   "cell_type": "code",
   "execution_count": 1,
   "id": "abab9d56",
   "metadata": {},
   "outputs": [
    {
     "data": {
      "text/plain": [
       "'\\nGiven a boolean 2D matrix grid of size n * m. You have to find the number of distinct islands where a group of connected 1s (horizontally or vertically) forms an island. Two islands are considered to be distinct if and only if one island is not equal to another (not rotated or reflected).\\n\\nExample 1:\\n\\nInput:\\ngrid[][] = {{1, 1, 0, 0, 0},\\n            {1, 1, 0, 0, 0},\\n            {0, 0, 0, 1, 1},\\n            {0, 0, 0, 1, 1}}\\nOutput:\\n1\\nExplanation:\\ngrid[][] = {{1, 1, 0, 0, 0}, \\n            {1, 1, 0, 0, 0}, \\n            {0, 0, 0, 1, 1}, \\n            {0, 0, 0, 1, 1}}\\nSame colored islands are equal.\\nWe have 2 equal islands, so we \\nhave only 1 distinct island.\\n\\nExample 2:\\n\\nInput:\\ngrid[][] = {{1, 1, 0, 1, 1},\\n            {1, 0, 0, 0, 0},\\n            {0, 0, 0, 0, 1},\\n            {1, 1, 0, 1, 1}}\\nOutput:\\n3\\nExplanation:\\ngrid[][] = {{1, 1, 0, 1, 1}, \\n            {1, 0, 0, 0, 0}, \\n            {0, 0, 0, 0, 1}, \\n            {1, 1, 0, 1, 1}}\\nSame colored islands are equal.\\nWe have 4 islands, but 2 of them\\nare equal, So we have 3 distinct islands.'"
      ]
     },
     "execution_count": 1,
     "metadata": {},
     "output_type": "execute_result"
    }
   ],
   "source": [
    "'''\n",
    "Given a boolean 2D matrix grid of size n * m. You have to find the number of distinct islands where a group of connected 1s (horizontally or vertically) forms an island. Two islands are considered to be distinct if and only if one island is not equal to another (not rotated or reflected).\n",
    "\n",
    "Example 1:\n",
    "\n",
    "Input:\n",
    "grid[][] = {{1, 1, 0, 0, 0},\n",
    "            {1, 1, 0, 0, 0},\n",
    "            {0, 0, 0, 1, 1},\n",
    "            {0, 0, 0, 1, 1}}\n",
    "Output:\n",
    "1\n",
    "Explanation:\n",
    "grid[][] = {{1, 1, 0, 0, 0}, \n",
    "            {1, 1, 0, 0, 0}, \n",
    "            {0, 0, 0, 1, 1}, \n",
    "            {0, 0, 0, 1, 1}}\n",
    "Same colored islands are equal.\n",
    "We have 2 equal islands, so we \n",
    "have only 1 distinct island.\n",
    "\n",
    "Example 2:\n",
    "\n",
    "Input:\n",
    "grid[][] = {{1, 1, 0, 1, 1},\n",
    "            {1, 0, 0, 0, 0},\n",
    "            {0, 0, 0, 0, 1},\n",
    "            {1, 1, 0, 1, 1}}\n",
    "Output:\n",
    "3\n",
    "Explanation:\n",
    "grid[][] = {{1, 1, 0, 1, 1}, \n",
    "            {1, 0, 0, 0, 0}, \n",
    "            {0, 0, 0, 0, 1}, \n",
    "            {1, 1, 0, 1, 1}}\n",
    "Same colored islands are equal.\n",
    "We have 4 islands, but 2 of them\n",
    "are equal, So we have 3 distinct islands.'''"
   ]
  },
  {
   "cell_type": "code",
   "execution_count": 2,
   "id": "f4170f96",
   "metadata": {},
   "outputs": [],
   "source": [
    "import sys\n",
    "from typing import List\n",
    "sys.setrecursionlimit(10**8)\n",
    "\n",
    "class Solution:\n",
    "    def countDistinctIslands(self, grid: List[List[int]]) -> int:\n",
    "        \n",
    "        n = len(grid)\n",
    "        m = len(grid[0])\n",
    "        s = set()\n",
    "        \n",
    "        vis = [[0] * m for _ in range(n)]\n",
    "        \n",
    "        def dfs(row, col, vis, grid, l, row0, col0):\n",
    "            vis[row][col] = 1\n",
    "            l.append((row - row0, col - col0))  # Use tuple for immutability\n",
    "            delr = [-1, 0, 1, 0]\n",
    "            delc = [0, 1, 0, -1]\n",
    "            for i in range(4):\n",
    "                newr = row + delr[i]\n",
    "                newc = col + delc[i]\n",
    "                \n",
    "                if 0 <= newr < n and 0 <= newc < m and vis[newr][newc] == 0 and grid[newr][newc] == 1:\n",
    "                    dfs(newr, newc, vis, grid, l, row0, col0)\n",
    "        \n",
    "        for i in range(n):\n",
    "            for j in range(m):\n",
    "                if vis[i][j] == 0 and grid[i][j] == 1:\n",
    "                    l = []\n",
    "                    dfs(i, j, vis, grid, l, i, j)\n",
    "                    s.add(tuple(l))  # Convert list to tuple to make it hashable for the set\n",
    "        \n",
    "        return len(s)\n"
   ]
  },
  {
   "cell_type": "code",
   "execution_count": null,
   "id": "7c23d264",
   "metadata": {},
   "outputs": [],
   "source": []
  }
 ],
 "metadata": {
  "kernelspec": {
   "display_name": "Python 3 (ipykernel)",
   "language": "python",
   "name": "python3"
  },
  "language_info": {
   "codemirror_mode": {
    "name": "ipython",
    "version": 3
   },
   "file_extension": ".py",
   "mimetype": "text/x-python",
   "name": "python",
   "nbconvert_exporter": "python",
   "pygments_lexer": "ipython3",
   "version": "3.11.4"
  }
 },
 "nbformat": 4,
 "nbformat_minor": 5
}
