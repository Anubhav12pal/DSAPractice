{
 "cells": [
  {
   "cell_type": "code",
   "execution_count": 2,
   "id": "a720a4e1",
   "metadata": {},
   "outputs": [],
   "source": [
    "import heapq\n",
    "\n",
    "def shortest_path_in_undirected_graph(V, adj, src):\n",
    "    # Initialize distance array\n",
    "    dist = [float('inf')] * V\n",
    "    dist[src] = 0\n",
    "\n",
    "    # Priority queue to store (distance, node)\n",
    "    pq = [(0, src)]  # (distance, node)\n",
    "    \n",
    "    while pq:\n",
    "        curr_dist, u = heapq.heappop(pq)\n",
    "        \n",
    "        # Process neighbors of the current node\n",
    "        for v, weight in adj[u]:\n",
    "            # If a shorter path to v is found\n",
    "            if curr_dist + weight < dist[v]:\n",
    "                dist[v] = curr_dist + weight\n",
    "                heapq.heappush(pq, (dist[v], v))\n",
    "    \n",
    "    return dist\n"
   ]
  },
  {
   "cell_type": "code",
   "execution_count": null,
   "id": "75b7b4c7",
   "metadata": {},
   "outputs": [],
   "source": []
  }
 ],
 "metadata": {
  "kernelspec": {
   "display_name": "Python 3 (ipykernel)",
   "language": "python",
   "name": "python3"
  },
  "language_info": {
   "codemirror_mode": {
    "name": "ipython",
    "version": 3
   },
   "file_extension": ".py",
   "mimetype": "text/x-python",
   "name": "python",
   "nbconvert_exporter": "python",
   "pygments_lexer": "ipython3",
   "version": "3.11.4"
  }
 },
 "nbformat": 4,
 "nbformat_minor": 5
}
