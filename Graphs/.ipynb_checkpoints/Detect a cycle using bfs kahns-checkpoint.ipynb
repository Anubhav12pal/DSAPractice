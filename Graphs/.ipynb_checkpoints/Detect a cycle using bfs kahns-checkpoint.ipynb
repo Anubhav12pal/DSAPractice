{
 "cells": [
  {
   "cell_type": "code",
   "execution_count": 1,
   "id": "e6f46601",
   "metadata": {},
   "outputs": [
    {
     "data": {
      "text/plain": [
       "'\\nTopo only works on a directed acyclic graph so if there is a cycle and we try to do topo there the topo array \\nwill have less than n elements so we can return false\\n\\n\\n'"
      ]
     },
     "execution_count": 1,
     "metadata": {},
     "output_type": "execute_result"
    }
   ],
   "source": [
    "'''\n",
    "Topo only works on a directed acyclic graph so if there is a cycle and we try to do topo there the topo array \n",
    "will have less than n elements so we can return false\n",
    "\n",
    "\n",
    "'''"
   ]
  },
  {
   "cell_type": "code",
   "execution_count": 2,
   "id": "8f1652ff",
   "metadata": {},
   "outputs": [],
   "source": [
    "from typing import List\n",
    "\n",
    "class Solution:\n",
    "    \n",
    "    #Function to detect cycle in a directed graph.\n",
    "    def isCyclic(self, V : int , adj : List[List[int]]) -> bool :\n",
    "        # code here\n",
    "        \n",
    "        \n",
    "        n = len(adj)\n",
    "        \n",
    "        indeg = [0]*n\n",
    "        count = 0\n",
    "        for i in range(n):\n",
    "            for j in adj[i]:\n",
    "                indeg[j] += 1\n",
    "        \n",
    "        q = []\n",
    "        \n",
    "        # Put all the indeg 0 inside the q\n",
    "        \n",
    "        for i in range(n):\n",
    "            if indeg[i] == 0:\n",
    "                q.append(i)\n",
    "        while q:\n",
    "            node = q.pop(0)\n",
    "            count += 1\n",
    "            \n",
    "            for i in adj[node]:\n",
    "                indeg[i] -= 1\n",
    "                if indeg[i] == 0:\n",
    "                    q.append(i)\n",
    "        if count == n:\n",
    "            return 0\n",
    "        return 1"
   ]
  },
  {
   "cell_type": "code",
   "execution_count": null,
   "id": "67ce8ea4",
   "metadata": {},
   "outputs": [],
   "source": []
  }
 ],
 "metadata": {
  "kernelspec": {
   "display_name": "Python 3 (ipykernel)",
   "language": "python",
   "name": "python3"
  },
  "language_info": {
   "codemirror_mode": {
    "name": "ipython",
    "version": 3
   },
   "file_extension": ".py",
   "mimetype": "text/x-python",
   "name": "python",
   "nbconvert_exporter": "python",
   "pygments_lexer": "ipython3",
   "version": "3.11.4"
  }
 },
 "nbformat": 4,
 "nbformat_minor": 5
}
