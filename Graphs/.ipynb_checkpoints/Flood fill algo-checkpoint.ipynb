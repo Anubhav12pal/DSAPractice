{
 "cells": [
  {
   "cell_type": "code",
   "execution_count": 3,
   "id": "9fd4c2f9",
   "metadata": {},
   "outputs": [],
   "source": [
    "class Solution(object):\n",
    "    def floodFill(self, image, sr, sc, color):\n",
    "        \"\"\"\n",
    "        :type image: List[List[int]]\n",
    "        :type sr: int\n",
    "        :type sc: int\n",
    "        :type color: int\n",
    "        :rtype: List[List[int]]\n",
    "        \"\"\"\n",
    "\n",
    "        initColor = image[sr][sc]\n",
    "        cop = [row[:] for row in image]\n",
    "        delRow = [-1, 0, 1,0]\n",
    "        delCol = [0,1,0,-1]\n",
    "\n",
    "        def dfs(row, col, cop, image, color,delRow, delCol, inic):\n",
    "\n",
    "            cop[row][col] = color\n",
    "            n = len(image)\n",
    "            m = len(image[0])\n",
    "\n",
    "            for i in range(4):\n",
    "                nrow = row + delRow[i]\n",
    "                ncol = col + delCol[i]\n",
    "                \n",
    "                '''First check for valid row and col then check if the \n",
    "                image color matches that of the inital color and finally check if it has been visited before or not'''\n",
    "                if nrow >=0 and nrow <n and ncol >=0 and ncol <m and image[nrow][ncol] == inic and cop[nrow][ncol] != color:\n",
    "                    dfs(nrow, ncol, cop, image, color, delRow, delCol, inic)\n",
    "\n",
    "\n",
    "        dfs(sr, sc, cop, image, color, delRow, delCol, initColor)\n",
    "        return cop\n",
    "\n",
    "\n",
    "        "
   ]
  },
  {
   "cell_type": "code",
   "execution_count": null,
   "id": "013422e2",
   "metadata": {},
   "outputs": [],
   "source": []
  }
 ],
 "metadata": {
  "kernelspec": {
   "display_name": "Python 3 (ipykernel)",
   "language": "python",
   "name": "python3"
  },
  "language_info": {
   "codemirror_mode": {
    "name": "ipython",
    "version": 3
   },
   "file_extension": ".py",
   "mimetype": "text/x-python",
   "name": "python",
   "nbconvert_exporter": "python",
   "pygments_lexer": "ipython3",
   "version": "3.11.4"
  }
 },
 "nbformat": 4,
 "nbformat_minor": 5
}
