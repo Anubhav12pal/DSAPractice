{
 "cells": [
  {
   "cell_type": "code",
   "execution_count": 1,
   "id": "aac106a5",
   "metadata": {},
   "outputs": [],
   "source": [
    "from collections import deque\n",
    "\n",
    "class Solution(object):\n",
    "    def canFinish(self, numCourses, prerequisites):\n",
    "        \"\"\"\n",
    "        :type numCourses: int\n",
    "        :type prerequisites: List[List[int]]\n",
    "        :rtype: bool\n",
    "        \"\"\"\n",
    "\n",
    "        adj = [[] for _ in range(numCourses)]\n",
    "\n",
    "        # Build the adjacency list\n",
    "        for i in prerequisites:\n",
    "            adj[i[1]].append(i[0])\n",
    "        \n",
    "        vis = [0] * numCourses\n",
    "        recStack = [0] * numCourses\n",
    "\n",
    "        # Helper function for DFS\n",
    "        def dfs(node):\n",
    "            if recStack[node]:\n",
    "                return False  # Cycle detected\n",
    "            if vis[node]:\n",
    "                return True  # Already visited, no need to explore further\n",
    "\n",
    "            # Mark the current node as visited and part of the recursion stack\n",
    "            vis[node] = 1\n",
    "            recStack[node] = 1\n",
    "\n",
    "            for neighbor in adj[node]:\n",
    "                if not dfs(neighbor):\n",
    "                    return False\n",
    "\n",
    "            # Remove the node from the recursion stack after processing\n",
    "            recStack[node] = 0\n",
    "            return True\n",
    "\n",
    "        # Perform DFS for each course\n",
    "        for i in range(numCourses):\n",
    "            if not vis[i]:\n",
    "                if not dfs(i):\n",
    "                    return False\n",
    "\n",
    "        return True\n"
   ]
  },
  {
   "cell_type": "code",
   "execution_count": 2,
   "id": "b4b9dd66",
   "metadata": {},
   "outputs": [],
   "source": [
    "class Solution:\n",
    "    \n",
    "    #Function to return list containing vertices in Topological order.\n",
    "    def topologicalSort(self,adj):\n",
    "        # Code here\n",
    "        n =  len(adj)\n",
    "        indeg = [0] * n\n",
    "        \n",
    "        for i in range(n):\n",
    "            for j in adj[i]:\n",
    "                indeg[j] += 1\n",
    "        \n",
    "        q = deque()\n",
    "        for i in range(n):\n",
    "            if indeg[i] == 0:\n",
    "                q.append(i)\n",
    "        topo = []\n",
    "        while q:\n",
    "            node = q.popleft()\n",
    "            topo.append(node)\n",
    "            \n",
    "            for i in adj[node]:\n",
    "                indeg[i] -= 1\n",
    "                if indeg[i] == 0:\n",
    "                    q.append(i)\n",
    "        return topo"
   ]
  },
  {
   "cell_type": "code",
   "execution_count": 1,
   "id": "362c4258",
   "metadata": {},
   "outputs": [
    {
     "data": {
      "text/plain": [
       "'\\nUsing bfs\\n\\n'"
      ]
     },
     "execution_count": 1,
     "metadata": {},
     "output_type": "execute_result"
    }
   ],
   "source": [
    "'''\n",
    "Using bfs\n",
    "\n",
    "'''"
   ]
  },
  {
   "cell_type": "markdown",
   "id": "f6f99013",
   "metadata": {},
   "source": [
    "# COURSE SCHEDULE 2"
   ]
  },
  {
   "cell_type": "code",
   "execution_count": 2,
   "id": "9f2e772d",
   "metadata": {},
   "outputs": [],
   "source": [
    "class Solution(object):\n",
    "    def findOrder(self, numCourses, prerequisites):\n",
    "        \"\"\"\n",
    "        :type numCourses: int\n",
    "        :type prerequisites: List[List[int]]\n",
    "        :rtype: List[int]\n",
    "        \"\"\"\n",
    "\n",
    "        adj = [[] for _ in range(numCourses)]\n",
    "\n",
    "        for i in prerequisites:\n",
    "            adj[i[1]].append(i[0])\n",
    "        \n",
    "\n",
    "        indeg = [0]* numCourses\n",
    "\n",
    "        for i in range(numCourses):\n",
    "            for j in adj[i]:\n",
    "                indeg[j] += 1\n",
    "        \n",
    "        ans = []\n",
    "\n",
    "        q = []\n",
    "\n",
    "        for i in range(numCourses):\n",
    "            if indeg[i] == 0:\n",
    "                q.append(i)\n",
    "        while q:\n",
    "            node = q.pop(0)\n",
    "            ans.append(node)\n",
    "\n",
    "            for i in adj[node]:\n",
    "                indeg[i] -= 1\n",
    "                if indeg[i] == 0:\n",
    "                    q.append(i)\n",
    "        if len(ans) == numCourses:\n",
    "            return ans\n",
    "        return []"
   ]
  },
  {
   "cell_type": "code",
   "execution_count": null,
   "id": "30305525",
   "metadata": {},
   "outputs": [],
   "source": [
    "'''\n",
    "This returns the schedule if the schedule is made and the topo sort is completed if not then there is a cycle and the \n",
    "courses cannot be made return empty\n",
    "\n",
    "\n",
    "'''"
   ]
  }
 ],
 "metadata": {
  "kernelspec": {
   "display_name": "Python 3 (ipykernel)",
   "language": "python",
   "name": "python3"
  },
  "language_info": {
   "codemirror_mode": {
    "name": "ipython",
    "version": 3
   },
   "file_extension": ".py",
   "mimetype": "text/x-python",
   "name": "python",
   "nbconvert_exporter": "python",
   "pygments_lexer": "ipython3",
   "version": "3.11.4"
  }
 },
 "nbformat": 4,
 "nbformat_minor": 5
}
