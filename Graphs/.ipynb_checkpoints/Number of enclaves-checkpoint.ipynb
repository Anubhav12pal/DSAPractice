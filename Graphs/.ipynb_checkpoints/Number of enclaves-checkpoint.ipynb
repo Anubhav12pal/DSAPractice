{
 "cells": [
  {
   "cell_type": "code",
   "execution_count": 1,
   "id": "a3741260",
   "metadata": {},
   "outputs": [],
   "source": [
    "class Solution(object):\n",
    "    def numEnclaves(self, grid):\n",
    "        \"\"\"\n",
    "        :type grid: List[List[int]]\n",
    "        :rtype: int\n",
    "        \"\"\"\n",
    "        n = len(grid)\n",
    "        m = len(grid[0])\n",
    "\n",
    "        vis = [[0] * m for _ in range(n)]\n",
    "\n",
    "        def dfs(row, col, vis, grid):\n",
    "            vis[row][col] = 1\n",
    "            delr = [-1, 0, 1, 0]\n",
    "            delc = [0, 1, 0, -1]\n",
    "            n = len(grid)\n",
    "            m = len(grid[0])\n",
    "\n",
    "            for i in range(4):\n",
    "                newr = row + delr[i]\n",
    "                newc = col + delc[i]\n",
    "\n",
    "                if newr >=0 and newc >=0 and newr <n and newc < m and vis[newr][newc]== 0 and grid[newr][newc] == 1:\n",
    "                    dfs(newr, newc, vis, grid)\n",
    "\n",
    "        for i in range(m):\n",
    "            if grid[0][i] == 1 and vis[0][i] == 0:\n",
    "                dfs(0, i, vis, grid)\n",
    "\n",
    "            if grid[n - 1][i] == 1 and vis[n - 1][i] == 0:\n",
    "                dfs(n-1, i, vis, grid)\n",
    "\n",
    "        for i in range(n):\n",
    "            if grid[i][0] == 1 and vis[i][0] == 0:\n",
    "                dfs(i, 0, vis, grid)\n",
    "\n",
    "            if grid[i][m - 1] == 1 and vis[i][m-1] == 0:\n",
    "                dfs(i, m - 1, vis, grid)\n",
    "\n",
    "        c = 0\n",
    "        for i in range(n):\n",
    "            for j in range(m):\n",
    "                if vis[i][j] == 0 and grid[i][j] == 1:\n",
    "                    c += 1\n",
    "        return c\n",
    "\n",
    "        "
   ]
  },
  {
   "cell_type": "code",
   "execution_count": null,
   "id": "8383cecc",
   "metadata": {},
   "outputs": [],
   "source": []
  }
 ],
 "metadata": {
  "kernelspec": {
   "display_name": "Python 3 (ipykernel)",
   "language": "python",
   "name": "python3"
  },
  "language_info": {
   "codemirror_mode": {
    "name": "ipython",
    "version": 3
   },
   "file_extension": ".py",
   "mimetype": "text/x-python",
   "name": "python",
   "nbconvert_exporter": "python",
   "pygments_lexer": "ipython3",
   "version": "3.11.4"
  }
 },
 "nbformat": 4,
 "nbformat_minor": 5
}
