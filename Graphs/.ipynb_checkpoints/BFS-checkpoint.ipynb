{
 "cells": [
  {
   "cell_type": "code",
   "execution_count": 1,
   "id": "e1534d8f",
   "metadata": {},
   "outputs": [],
   "source": [
    "#User function Template for python3\n",
    "from collections import deque\n",
    "from typing import List \n",
    "\n",
    "\n",
    "class Solution:\n",
    "    # Function to return Breadth First Traversal of given graph.\n",
    "    def bfsOfGraph(self, adj: List[List[int]]) -> List[int]:\n",
    "        l = len(adj)\n",
    "        \n",
    "        visited = [0] * l\n",
    "        bfs = []\n",
    "        \n",
    "        q = deque()\n",
    "        q.append(0)\n",
    "        visited[0] = 1\n",
    "        \n",
    "        while q:\n",
    "            \n",
    "            ele = q.popleft()\n",
    "            bfs.append(ele)\n",
    "            \n",
    "            neighb = adj[ele]\n",
    "            \n",
    "            for i in neighb:\n",
    "                if visited[i] == 0:\n",
    "                    visited[i] = 1\n",
    "                    q.append(i)\n",
    "        return bfs"
   ]
  },
  {
   "cell_type": "code",
   "execution_count": null,
   "id": "55318113",
   "metadata": {},
   "outputs": [],
   "source": []
  }
 ],
 "metadata": {
  "kernelspec": {
   "display_name": "Python 3 (ipykernel)",
   "language": "python",
   "name": "python3"
  },
  "language_info": {
   "codemirror_mode": {
    "name": "ipython",
    "version": 3
   },
   "file_extension": ".py",
   "mimetype": "text/x-python",
   "name": "python",
   "nbconvert_exporter": "python",
   "pygments_lexer": "ipython3",
   "version": "3.11.4"
  }
 },
 "nbformat": 4,
 "nbformat_minor": 5
}
