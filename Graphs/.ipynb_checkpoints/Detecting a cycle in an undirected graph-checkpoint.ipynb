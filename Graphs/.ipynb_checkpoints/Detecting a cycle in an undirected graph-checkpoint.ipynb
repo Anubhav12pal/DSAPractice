{
 "cells": [
  {
   "cell_type": "code",
   "execution_count": 1,
   "id": "a4c9005d",
   "metadata": {},
   "outputs": [],
   "source": [
    "from typing import List\n",
    "from collections import deque\n",
    "\n",
    "class Solution:\n",
    "    # Function to detect cycle in an undirected graph.\n",
    "    def isCycle(self, V: int, adj: List[List[int]]) -> bool:\n",
    "        \n",
    "        def detect(src, adj, vis):\n",
    "            vis[src] = 1\n",
    "            q = deque()  # Using deque for efficient popleft operation\n",
    "            q.append([src, -1])\n",
    "            \n",
    "            while q:\n",
    "                node, parent = q.popleft()  # Unpacking node and parent from the deque\n",
    "                \n",
    "                for neighbor in adj[node]:\n",
    "                    if vis[neighbor] == 0:\n",
    "                        vis[neighbor] = 1\n",
    "                        q.append([neighbor, node])  # Add neighbor with current node as its parent\n",
    "                    elif parent != neighbor:\n",
    "                        return True  # Cycle detected if neighbor is visited and is not parent\n",
    "            return False\n",
    "        \n",
    "        vis = [0] * V\n",
    "        for i in range(V):\n",
    "            if vis[i] == 0:\n",
    "                if detect(i, adj, vis):  # Pass adj and vis to the detect function\n",
    "                    return True\n",
    "        return False\n"
   ]
  },
  {
   "cell_type": "code",
   "execution_count": null,
   "id": "87f137ee",
   "metadata": {},
   "outputs": [],
   "source": []
  }
 ],
 "metadata": {
  "kernelspec": {
   "display_name": "Python 3 (ipykernel)",
   "language": "python",
   "name": "python3"
  },
  "language_info": {
   "codemirror_mode": {
    "name": "ipython",
    "version": 3
   },
   "file_extension": ".py",
   "mimetype": "text/x-python",
   "name": "python",
   "nbconvert_exporter": "python",
   "pygments_lexer": "ipython3",
   "version": "3.11.4"
  }
 },
 "nbformat": 4,
 "nbformat_minor": 5
}
