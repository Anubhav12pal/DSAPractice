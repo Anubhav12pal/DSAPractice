{
 "cells": [
  {
   "cell_type": "code",
   "execution_count": 1,
   "id": "f40c5b8a",
   "metadata": {},
   "outputs": [],
   "source": [
    "from collections import deque\n",
    "\n",
    "class Solution(object):\n",
    "    def shortestPathBinaryMatrix(self, grid):\n",
    "        \"\"\"\n",
    "        :type grid: List[List[int]]\n",
    "        :rtype: int\n",
    "        \"\"\"\n",
    "        n = len(grid)\n",
    "        m = len(grid[0])\n",
    "\n",
    "        # If the start or end is blocked, return -1\n",
    "        if grid[0][0] == 1 or grid[n-1][m-1] == 1:\n",
    "            return -1\n",
    "\n",
    "        # Edge case for a 1x1 grid\n",
    "        if n == 1 and m == 1:\n",
    "            return 1 if grid[0][0] == 0 else -1\n",
    "\n",
    "        # Distance matrix initialized with infinity\n",
    "        dis = [[float('inf')] * m for _ in range(n)]\n",
    "        dis[0][0] = 1  # Starting point distance is 1\n",
    "\n",
    "        # Queue for BFS (using deque for efficient popping from the front)\n",
    "        q = deque([(0, 0)])  # Starting point in the queue\n",
    "\n",
    "        # Directions for 8 possible moves (left, right, up, down, and 4 diagonals)\n",
    "        directions = [(-1, 0), (1, 0), (0, -1), (0, 1), (-1, -1), (-1, 1), (1, -1), (1, 1)]\n",
    "\n",
    "        while q:\n",
    "            r, c = q.popleft()\n",
    "            d = dis[r][c]\n",
    "\n",
    "            # If we reached the bottom-right corner, return the distance\n",
    "            if r == n-1 and c == m-1:\n",
    "                return d\n",
    "\n",
    "            # Explore all 8 possible directions\n",
    "            for dr, dc in directions:\n",
    "                newr = r + dr\n",
    "                newc = c + dc\n",
    "\n",
    "                # Check if the new cell is within bounds and not blocked\n",
    "                if 0 <= newr < n and 0 <= newc < m and grid[newr][newc] == 0 and d + 1 < dis[newr][newc]:\n",
    "                    dis[newr][newc] = d + 1\n",
    "                    q.append((newr, newc))\n",
    "\n",
    "        # If no path is found, return -1\n",
    "        return -1\n"
   ]
  },
  {
   "cell_type": "markdown",
   "id": "bedd2817",
   "metadata": {},
   "source": [
    "# Diagonals included"
   ]
  },
  {
   "cell_type": "code",
   "execution_count": null,
   "id": "bf310ad7",
   "metadata": {},
   "outputs": [],
   "source": []
  }
 ],
 "metadata": {
  "kernelspec": {
   "display_name": "Python 3 (ipykernel)",
   "language": "python",
   "name": "python3"
  },
  "language_info": {
   "codemirror_mode": {
    "name": "ipython",
    "version": 3
   },
   "file_extension": ".py",
   "mimetype": "text/x-python",
   "name": "python",
   "nbconvert_exporter": "python",
   "pygments_lexer": "ipython3",
   "version": "3.11.4"
  }
 },
 "nbformat": 4,
 "nbformat_minor": 5
}
