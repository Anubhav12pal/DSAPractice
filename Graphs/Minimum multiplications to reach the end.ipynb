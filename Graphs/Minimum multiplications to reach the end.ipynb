{
 "cells": [
  {
   "cell_type": "code",
   "execution_count": 3,
   "id": "71a64e2e",
   "metadata": {},
   "outputs": [],
   "source": [
    "from collections import deque\n",
    "from typing import List\n",
    "\n",
    "class Solution:\n",
    "    \n",
    "    def minimumMultiplications(self, arr: List[int], start: int, end: int) -> int:\n",
    "        # If start is already equal to end, no multiplications are needed\n",
    "        if start == end:\n",
    "            return 0\n",
    "        \n",
    "        # Visited array to track minimum steps to reach each state (0 to 99999)\n",
    "        vis = [float('inf')] * 100000  # Set size to 100000 for modulo 100000\n",
    "\n",
    "        # BFS queue with (current number, steps taken)\n",
    "        q = deque([(start, 0)])\n",
    "        vis[start] = 0\n",
    "        \n",
    "        while q:\n",
    "            node, steps = q.popleft()\n",
    "\n",
    "            # Explore each possible multiplication\n",
    "            for i in arr:\n",
    "                num = (i * node) % 100000\n",
    "\n",
    "                # If a new minimum step count is found for 'num'\n",
    "                if steps + 1 < vis[num]:\n",
    "                    vis[num] = steps + 1\n",
    "\n",
    "                    # Check if we've reached the target\n",
    "                    if num == end:\n",
    "                        return steps + 1\n",
    "\n",
    "                    # Add next state to the queue\n",
    "                    q.append((num, steps + 1))\n",
    "        \n",
    "        # If the target is unreachable\n",
    "        return -1\n"
   ]
  },
  {
   "cell_type": "code",
   "execution_count": null,
   "id": "0703c251",
   "metadata": {},
   "outputs": [],
   "source": []
  }
 ],
 "metadata": {
  "kernelspec": {
   "display_name": "Python 3 (ipykernel)",
   "language": "python",
   "name": "python3"
  },
  "language_info": {
   "codemirror_mode": {
    "name": "ipython",
    "version": 3
   },
   "file_extension": ".py",
   "mimetype": "text/x-python",
   "name": "python",
   "nbconvert_exporter": "python",
   "pygments_lexer": "ipython3",
   "version": "3.11.4"
  }
 },
 "nbformat": 4,
 "nbformat_minor": 5
}
