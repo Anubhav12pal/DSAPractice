{
 "cells": [
  {
   "cell_type": "code",
   "execution_count": 4,
   "id": "f360666a",
   "metadata": {},
   "outputs": [],
   "source": [
    "class Solution:\n",
    "    def mostProfitablePath(self, edges, bob, amount):\n",
    "        n = len(amount) + 1\n",
    "\n",
    "        graph = [[] for _ in range(n)] # make graph with connected nodes for each node\n",
    "        for u, v in edges:\n",
    "            graph[u].append(v)\n",
    "            graph[v].append(u)\n",
    "\n",
    "        bob_time = [n] * n # [node] = time, time that bob reached node in path\n",
    "        def find_bob_path(node, prev, time): \n",
    "            if node == 0: \n",
    "                bob_time[node] = time # 0 is last in path\n",
    "                return True\n",
    "            for nxt in graph[node]:\n",
    "                if nxt != prev and find_bob_path(nxt, node, time + 1): # avoid loops and check connected nodes\n",
    "                    bob_time[node] = time # path lead to 0, set time for current node\n",
    "                    return True\n",
    "            return False # path didn't lead to 0\n",
    "        find_bob_path(bob, -1, 0) # set values for bob_time\n",
    "\n",
    "        max_income = float('-inf')\n",
    "        def find_alice_path(node, prev, time, income):\n",
    "            if time < bob_time[node]:\n",
    "                income += amount[node] # alice reached gate node first\n",
    "            elif time == bob_time[node]:\n",
    "                income += amount[node] // 2 # alice and bob arrived at same time\n",
    "\n",
    "            if node != 0 and len(graph[node]) == 1: # check if at leaf, node != 0 to pass starting node\n",
    "                nonlocal max_income\n",
    "                max_income = max(max_income, income) # set new max income\n",
    "                return # arrived at leaf, path over\n",
    "\n",
    "            for nxt in graph[node]: # exlpore connected nodes\n",
    "                if nxt != prev: # avoid looping\n",
    "                    find_alice_path(nxt, node, time + 1, income)\n",
    "\n",
    "        find_alice_path(0, -1, 0, 0) # find alice's max income\n",
    "        return max_income"
   ]
  },
  {
   "cell_type": "code",
   "execution_count": null,
   "id": "0dd6d72e",
   "metadata": {},
   "outputs": [],
   "source": []
  }
 ],
 "metadata": {
  "kernelspec": {
   "display_name": "Python 3 (ipykernel)",
   "language": "python",
   "name": "python3"
  },
  "language_info": {
   "codemirror_mode": {
    "name": "ipython",
    "version": 3
   },
   "file_extension": ".py",
   "mimetype": "text/x-python",
   "name": "python",
   "nbconvert_exporter": "python",
   "pygments_lexer": "ipython3",
   "version": "3.11.4"
  }
 },
 "nbformat": 4,
 "nbformat_minor": 5
}
