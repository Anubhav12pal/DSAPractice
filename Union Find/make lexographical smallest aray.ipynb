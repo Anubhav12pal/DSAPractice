{
 "cells": [
  {
   "cell_type": "code",
   "execution_count": 1,
   "id": "7aeab6dd",
   "metadata": {},
   "outputs": [],
   "source": [
    "class Solution:\n",
    "    def lexicographicallySmallestArray(self, nums, limit):\n",
    "\n",
    "\n",
    "\n",
    "        '''\n",
    "        ok so here we want to first find all the components where ]\n",
    "        we can perform the swap on once we doo that we can pair them and when ever one of the elements in each group we put the smallest \n",
    "of the groupp in that space\n",
    "        '''\n",
    "\n",
    "        groups = []\n",
    "        m ={}\n",
    "\n",
    "\n",
    "        for i in sorted(nums):\n",
    "            if not groups or abs(i - groups[-1][-1]) > limit:\n",
    "                groups.append(deque())\n",
    "            groups[-1].append(i)\n",
    "            m[i] = len(groups) -1\n",
    "\n",
    "        ans =[]\n",
    "        for n in nums:\n",
    "            wanetdGroup = m[n]\n",
    "            ans.append(groups[wanetdGroup].popleft())\n",
    "        return ans\n",
    "\n",
    "\n",
    "        \n",
    "\n",
    "       "
   ]
  },
  {
   "cell_type": "code",
   "execution_count": null,
   "id": "5303c2b3",
   "metadata": {},
   "outputs": [],
   "source": [
    "'''\n",
    "\n",
    "\n",
    "\n",
    "'''"
   ]
  }
 ],
 "metadata": {
  "kernelspec": {
   "display_name": "Python 3 (ipykernel)",
   "language": "python",
   "name": "python3"
  },
  "language_info": {
   "codemirror_mode": {
    "name": "ipython",
    "version": 3
   },
   "file_extension": ".py",
   "mimetype": "text/x-python",
   "name": "python",
   "nbconvert_exporter": "python",
   "pygments_lexer": "ipython3",
   "version": "3.11.4"
  }
 },
 "nbformat": 4,
 "nbformat_minor": 5
}
