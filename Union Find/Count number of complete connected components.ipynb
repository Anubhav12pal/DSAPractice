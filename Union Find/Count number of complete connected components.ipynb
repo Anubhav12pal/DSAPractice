{
 "cells": [
  {
   "cell_type": "code",
   "execution_count": 2,
   "id": "11f5cf41",
   "metadata": {},
   "outputs": [],
   "source": [
    "class Solution:\n",
    "    def countCompleteComponents(self, n, edges):\n",
    "\n",
    "\n",
    "\n",
    "        parent = [i for i in range(n)]\n",
    "        size= [1 for _ in range(n)]\n",
    "        edc = [0 for _ in range(n)]\n",
    "\n",
    "        def find(node):\n",
    "\n",
    "            if parent[node] != node:\n",
    "                parent[node] = find(parent[node])\n",
    "            \n",
    "            return parent[node]\n",
    "        \n",
    "        def union(u, v):\n",
    "\n",
    "            p1, p2 = find(u), find(v)\n",
    "\n",
    "            if p1 != p2:\n",
    "                if size[p1] > size[p2]:\n",
    "                    parent[p2] = p1\n",
    "                    size[p1] += size[p2]\n",
    "                    edc[p1] += edc[p2] + 1\n",
    "                else:\n",
    "                    parent[p1] = p2\n",
    "                    size[p2] += size[p1]\n",
    "                    edc[p2] += edc[p1] +  1\n",
    "            else:\n",
    "                edc[p1] += 1\n",
    "        for u, v in edges:\n",
    "            union(u,v)\n",
    "        \n",
    "\n",
    "        ans = 0\n",
    "\n",
    "        for i in range(n):\n",
    "            if i == parent[i]:\n",
    "                \n",
    "                q = size[parent[i]]\n",
    "                \n",
    "                if edc[parent[i]] == q*(q-1) / 2:\n",
    "                    \n",
    "                    \n",
    "                    ans += 1\n",
    "       \n",
    "        return ans\n",
    "                \n",
    "        "
   ]
  },
  {
   "cell_type": "code",
   "execution_count": null,
   "id": "f4dc0edd",
   "metadata": {},
   "outputs": [],
   "source": []
  }
 ],
 "metadata": {
  "kernelspec": {
   "display_name": "Python 3 (ipykernel)",
   "language": "python",
   "name": "python3"
  },
  "language_info": {
   "codemirror_mode": {
    "name": "ipython",
    "version": 3
   },
   "file_extension": ".py",
   "mimetype": "text/x-python",
   "name": "python",
   "nbconvert_exporter": "python",
   "pygments_lexer": "ipython3",
   "version": "3.11.4"
  }
 },
 "nbformat": 4,
 "nbformat_minor": 5
}
