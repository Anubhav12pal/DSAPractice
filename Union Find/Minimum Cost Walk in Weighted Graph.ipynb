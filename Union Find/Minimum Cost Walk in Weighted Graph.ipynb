{
 "cells": [
  {
   "cell_type": "code",
   "execution_count": 2,
   "id": "16bcf06b",
   "metadata": {},
   "outputs": [],
   "source": [
    "class Solution:\n",
    "    def minimumCost(self, n: int, edges, query):\n",
    "\n",
    "\n",
    "\n",
    "        parent = [i for i in range(n)]\n",
    "        size = [1 for _ in range(n)]\n",
    "\n",
    "        def find(node):\n",
    "\n",
    "            if parent[node] != node:\n",
    "                parent[node] = find(parent[node])\n",
    "            return parent[node]\n",
    "\n",
    "\n",
    "        def union(u, v):\n",
    "\n",
    "            x = find(u)\n",
    "            y = find(v)\n",
    "\n",
    "            if x!= y:\n",
    "                if size[x] < size[y]:\n",
    "                    size[y] += size[x]\n",
    "                    parent[x] = y\n",
    "                else:\n",
    "                    size[x] += size[y]\n",
    "                    parent[y] = x\n",
    "\n",
    "        \n",
    "\n",
    "\n",
    "        for u, v, w in edges:\n",
    "            union(u,v)\n",
    "        \n",
    "\n",
    "        cost = {}\n",
    "\n",
    "        for u, v, w in edges:\n",
    "            root = find(u)\n",
    "            if root not in cost:\n",
    "                cost[root] = w\n",
    "            else:\n",
    "                cost[root] = cost[root] & w\n",
    "        res = []\n",
    "\n",
    "        for i, j in query:\n",
    "            r1, r2 = find(i), find(j)\n",
    "            if r1 != r2:\n",
    "                res.append(-1)\n",
    "            else:\n",
    "                res.append(cost[r1])\n",
    "\n",
    "\n",
    "\n",
    "        return res\n",
    "\n",
    "\n",
    "\n",
    "\n",
    "        \n",
    "        "
   ]
  },
  {
   "cell_type": "code",
   "execution_count": 3,
   "id": "72bd89ae",
   "metadata": {},
   "outputs": [
    {
     "data": {
      "text/plain": [
       "'\\n\\nMost imp thing to notice in this:\\nu can revisit the nodes\\nANDING always lowers the value of the path so the best possible ans at the end will be and of all the edges in the connected component\\n\\n\\n'"
      ]
     },
     "execution_count": 3,
     "metadata": {},
     "output_type": "execute_result"
    }
   ],
   "source": [
    "'''\n",
    "\n",
    "Most imp thing to notice in this:\n",
    "u can revisit the nodes\n",
    "ANDING always lowers the value of the path so the best possible ans at the end will be and of all the edges in the connected component\n",
    "\n",
    "\n",
    "'''"
   ]
  },
  {
   "cell_type": "code",
   "execution_count": null,
   "id": "977dfaf4",
   "metadata": {},
   "outputs": [],
   "source": []
  }
 ],
 "metadata": {
  "kernelspec": {
   "display_name": "Python 3 (ipykernel)",
   "language": "python",
   "name": "python3"
  },
  "language_info": {
   "codemirror_mode": {
    "name": "ipython",
    "version": 3
   },
   "file_extension": ".py",
   "mimetype": "text/x-python",
   "name": "python",
   "nbconvert_exporter": "python",
   "pygments_lexer": "ipython3",
   "version": "3.11.4"
  }
 },
 "nbformat": 4,
 "nbformat_minor": 5
}
