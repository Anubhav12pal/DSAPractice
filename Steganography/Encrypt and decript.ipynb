{
 "cells": [
  {
   "cell_type": "code",
   "execution_count": 12,
   "id": "8ad3bf71",
   "metadata": {},
   "outputs": [],
   "source": [
    "from stegano import lsb\n"
   ]
  },
  {
   "cell_type": "code",
   "execution_count": 13,
   "id": "7d9be989",
   "metadata": {},
   "outputs": [
    {
     "name": "stdout",
     "output_type": "stream",
     "text": [
      "Message hidden and saved in /Users/anubhav/Documents/DSA Practice with Python Take u forward/Steganography/Images/encoded.png\n"
     ]
    }
   ],
   "source": [
    "\n",
    "# Function to hide a message in an image\n",
    "def encrypt_message(input_image_path, output_image_path, secret_message):\n",
    "    # Hide the secret message in the image using LSB steganography\n",
    "    encoded_image = lsb.hide(input_image_path, secret_message)\n",
    "    \n",
    "    # Save the encoded image with a proper filename and extension\n",
    "    encoded_image.save(output_image_path)\n",
    "    print(f\"Message hidden and saved in {output_image_path}\")\n",
    "\n",
    "# Example usage:\n",
    "input_image = \"/Users/anubhav/Documents/DSA Practice with Python Take u forward/Steganography/Images/img.png\"  # Path to the input image\n",
    "output_image = \"/Users/anubhav/Documents/DSA Practice with Python Take u forward/Steganography/Images/encoded.png\"  # Path where the encoded image will be saved (include file name and extension)\n",
    "message = \"This is a secret message!\"  # The message you want to hide\n",
    "\n",
    "encrypt_message(input_image, output_image, message)"
   ]
  },
  {
   "cell_type": "code",
   "execution_count": 14,
   "id": "6330ccea",
   "metadata": {},
   "outputs": [
    {
     "name": "stdout",
     "output_type": "stream",
     "text": [
      "Hidden message: This is a secret message!\n"
     ]
    }
   ],
   "source": [
    "# Function to extract the hidden message from the image\n",
    "def decrypt_message(encoded_image_path):\n",
    "    # Reveal the secret message from the image\n",
    "    secret_message = lsb.reveal(encoded_image_path)\n",
    "    \n",
    "    # Print or return the extracted message\n",
    "    if secret_message:\n",
    "        print(f\"Hidden message: {secret_message}\")\n",
    "    else:\n",
    "        print(\"No hidden message found!\")\n",
    "\n",
    "# Example usage:\n",
    "encoded_image = \"/Users/anubhav/Documents/DSA Practice with Python Take u forward/Steganography/Images/encoded.png\"  # Path to the encoded image\n",
    "decrypt_message(encoded_image)"
   ]
  },
  {
   "cell_type": "code",
   "execution_count": null,
   "id": "d9ca0ff1",
   "metadata": {},
   "outputs": [],
   "source": []
  }
 ],
 "metadata": {
  "kernelspec": {
   "display_name": "Python 3 (ipykernel)",
   "language": "python",
   "name": "python3"
  },
  "language_info": {
   "codemirror_mode": {
    "name": "ipython",
    "version": 3
   },
   "file_extension": ".py",
   "mimetype": "text/x-python",
   "name": "python",
   "nbconvert_exporter": "python",
   "pygments_lexer": "ipython3",
   "version": "3.11.4"
  }
 },
 "nbformat": 4,
 "nbformat_minor": 5
}
