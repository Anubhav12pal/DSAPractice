{
 "cells": [
  {
   "cell_type": "code",
   "execution_count": 2,
   "id": "cfc1655b",
   "metadata": {
    "scrolled": true
   },
   "outputs": [
    {
     "data": {
      "text/plain": [
       "'\\n\\nBinary search patterns:\\n    \\n    \\n    Get the intuitio of finding the range of the outcomes that we want: eh koko eats \\n        bananas finding the min banana it eatsper hour to satisfy a condition\\n        \\n        The range generally begins from 1 to min or 1 to any thing described in a question \\n        These type of questions include min or max\\n'"
      ]
     },
     "execution_count": 2,
     "metadata": {},
     "output_type": "execute_result"
    }
   ],
   "source": [
    "'''\n",
    "\n",
    "Binary search patterns:\n",
    "    \n",
    "    \n",
    "    Get the intuitio of finding the range of the outcomes that we want: eh koko eats \n",
    "        bananas finding the min banana it eatsper hour to satisfy a condition\n",
    "        \n",
    "        The range generally begins from 1 to min or 1 to any thing described in a question \n",
    "        These type of questions include min or max\n",
    "'''"
   ]
  },
  {
   "cell_type": "code",
   "execution_count": 3,
   "id": "25effea4",
   "metadata": {},
   "outputs": [],
   "source": [
    "#Another pattern is min of max or  max of min"
   ]
  },
  {
   "cell_type": "code",
   "execution_count": 1,
   "id": "310d198a",
   "metadata": {},
   "outputs": [
    {
     "data": {
      "text/plain": [
       "'\\nTree patterns:\\n\\n\\nNormal height pattern\\nfinding a max pattern where u have a max variable to keep gtrack of the max sum of values for that. node\\n\\nVertical order traversal:\\n\\n\\nHere u take a map to keep track of the index of the element, u do level order teraversal to keep track,\\nfor every left or right u always inc the depth and for left u dec the index and for right u inc the depth\\n\\nKeep the track of parent using a map and bfs pattern  so that we can move up the tree: eg burn the tree\\n\\nconvert to one order from the other 2 orders eg given in order and preorder use them to find post order\\n\\n\\n\\n\\n'"
      ]
     },
     "execution_count": 1,
     "metadata": {},
     "output_type": "execute_result"
    }
   ],
   "source": [
    "'''\n",
    "Tree patterns:\n",
    "\n",
    "Normal recursion based questions\n",
    "\n",
    "\n",
    "Normal height pattern\n",
    "finding a max pattern where u have a max variable to keep gtrack of the max sum of values for that. node\n",
    "\n",
    "Vertical order traversal:\n",
    "Here u take a map to keep track of the index of the element, u do level order teraversal to keep track,\n",
    "for every left or right u always inc the depth and for left u dec the index and for right u inc the depth\n",
    "\n",
    "Keep the track of parent using a map and bfs pattern  so that we can move up the tree: eg burn the tree\n",
    "\n",
    "convert to one order from the other 2 orders eg given in order and preorder use them to find post order\n",
    "\n",
    "\n",
    "\n",
    "\n",
    "'''"
   ]
  },
  {
   "cell_type": "code",
   "execution_count": 3,
   "id": "3abbcae1",
   "metadata": {},
   "outputs": [
    {
     "data": {
      "text/plain": [
       "'\\n\\nGraph pattern:\\n\\n\\nbfs\\ndfs\\ncycle detection and bipertite\\ntoposort\\ndjikstras\\nminispanning \\nkruskal prims bellman ford\\n\\n'"
      ]
     },
     "execution_count": 3,
     "metadata": {},
     "output_type": "execute_result"
    }
   ],
   "source": [
    "'''\n",
    "\n",
    "Graph pattern:\n",
    "\n",
    "\n",
    "bfs\n",
    "dfs\n",
    "cycle detection and bipertite\n",
    "toposort\n",
    "djikstras\n",
    "minispanning \n",
    "kruskal prims bellman ford\n",
    "\n",
    "'''"
   ]
  },
  {
   "cell_type": "code",
   "execution_count": 5,
   "id": "f9a1ecba",
   "metadata": {},
   "outputs": [
    {
     "data": {
      "text/plain": [
       "'\\n\\n# Common patterns in graph:\\n\\n\\n1) Basic bfs and dfs patterns\\n2)\\n\\nCycle detection and bipertite patterns\\nBipertite : Meaning 2 adj node cannot have same color\\n\\nWhat is the common thing here?\\nFor cycle detection take the parent of each node as well\\n\\nWhen does cycle occur in bfs and dfs?? It happens when the neighbour is already visited before ie vis[neigh]!= 0 and \\nif it is alread visited it has to be the parent, if it is not the parent that means that neighbour has been visited from another node\\nresulting a cycle:\\n\\n\\nif vis[neighbour] == 0:\\nvis[neigh] = 1\\nq.append([neigh, current node as parent])\\nelse if parent != neighbour:\\ncycle is here\\n\\nSimilarly for bipertite\\n\\nif color[neighbour] == -1:\\ncolor[neigh] = not color[node]\\nq.append(neiggh)\\nelse if color[neighb] = color node:\\nIt is not bipertite graph\\n\\n3) Cycle in directed graph:\\n\\nSame condition as undirected but also add a chack for path visited:\\ninstead of parent check\\nin the else condition check if pathVis = 1\\nand at the end of function do pathVis = 0\\n\\n\\n\\n'"
      ]
     },
     "execution_count": 5,
     "metadata": {},
     "output_type": "execute_result"
    }
   ],
   "source": [
    "'''\n",
    "\n",
    "# Common patterns in graph:\n",
    "\n",
    "\n",
    "1) Basic bfs and dfs patterns\n",
    "2)\n",
    "\n",
    "Cycle detection and bipertite patterns\n",
    "Bipertite : Meaning 2 adj node cannot have same color\n",
    "\n",
    "What is the common thing here?\n",
    "For cycle detection take the parent of each node as well\n",
    "\n",
    "When does cycle occur in bfs and dfs?? It happens when the neighbour is already visited before ie vis[neigh]!= 0 and \n",
    "if it is alread visited it has to be the parent, if it is not the parent that means that neighbour has been visited from another node\n",
    "resulting a cycle:\n",
    "\n",
    "\n",
    "if vis[neighbour] == 0:\n",
    "vis[neigh] = 1\n",
    "q.append([neigh, current node as parent])\n",
    "else if parent != neighbour:\n",
    "cycle is here\n",
    "\n",
    "Similarly for bipertite\n",
    "\n",
    "if color[neighbour] == -1:\n",
    "color[neigh] = not color[node]\n",
    "q.append(neiggh)\n",
    "else if color[neighb] = color node:\n",
    "It is not bipertite graph\n",
    "\n",
    "3) Cycle in directed graph:\n",
    "\n",
    "Same condition as undirected but also add a chack for path visited:\n",
    "instead of parent check\n",
    "in the else condition check if pathVis = 1\n",
    "and at the end of function do pathVis = 0\n",
    "\n",
    "\n",
    "4) Topo Sort:\n",
    "Topo Sortr only applies to a directed acyclid graph\n",
    "\n",
    "\n",
    "\n",
    "\n",
    "'''"
   ]
  },
  {
   "cell_type": "code",
   "execution_count": 2,
   "id": "2f8e4cf8",
   "metadata": {},
   "outputs": [
    {
     "data": {
      "text/plain": [
       "'\\nStack:\\nmonotonoc stack patterm:\\nquestions involve finding the next biggest or next smallest elements\\nIn this we keep the stack in an increasing or decreasing manner\\n\\nIntuition for next greater:\\nif i am at an index i i will have to know the next elements to see if they are greater or not so well traverse form the back\\nwell put the element into the stack and move left. For that element if it is less than the toip of the stack the top will be the ansewr\\nif th eelement is greater then we pop the stack until we find an element which is greater than it\\nif the stack becomes empty thyen there is no greater element in the right\\n\\n'"
      ]
     },
     "execution_count": 2,
     "metadata": {},
     "output_type": "execute_result"
    }
   ],
   "source": [
    "'''\n",
    "Stack:\n",
    "monotonoc stack patterm:\n",
    "questions involve finding the next biggest or next smallest elements\n",
    "In this we keep the stack in an increasing or decreasing manner\n",
    "\n",
    "Intuition for next greater:\n",
    "if i am at an index i i will have to know the next elements to see if they are greater or not so well traverse form the back\n",
    "well put the element into the stack and move left. For that element if it is less than the toip of the stack the top will be the ansewr\n",
    "if th eelement is greater then we pop the stack until we find an element which is greater than it\n",
    "if the stack becomes empty thyen there is no greater element in the right\n",
    "\n",
    "'''"
   ]
  },
  {
   "cell_type": "code",
   "execution_count": 3,
   "id": "ef78b772",
   "metadata": {},
   "outputs": [
    {
     "data": {
      "text/plain": [
       "\"\\n\\nLinked list\\n\\nfast and slow pointer:\\nIn many cases u'll have to run a pointer that is faster than a sower one:\\none such example is finding middle element or finding a cycle:\\nher eu move the pointer twice the speed \\n\\nwhile fast and fast.next:\\ns = s.next\\nf = f.next.next\\n\\nmid = s\\n\\nAlso finding the nth element from end in 1 pass.\\n\\nfirst u mive the fast pointer n times in advance and then move them both together till u have fast.next\\n\\n\\n\\nIf there is a 1 pass constraint and an argument is given as a number first try to shift the fast pointer n \\ntimes and then test the cases\\n\\nCycle detection is fast and slow pointer till both nodes are same\\n\\nFinding the beginning of a cycle??\\n\\n2 steps:\\n\\nIf there is a loop or cycle then there should be a colision point get that colliosion point and place fast there\\nthen place the start at the head and then increase both by 1 step the meeting point will be the beginning\\n\\n\\n\\n\\n\""
      ]
     },
     "execution_count": 3,
     "metadata": {},
     "output_type": "execute_result"
    }
   ],
   "source": [
    "'''\n",
    "\n",
    "Linked list\n",
    "\n",
    "fast and slow pointer:\n",
    "In many cases u'll have to run a pointer that is faster than a sower one:\n",
    "one such example is finding middle element or finding a cycle:\n",
    "her eu move the pointer twice the speed \n",
    "\n",
    "while fast and fast.next:\n",
    "s = s.next\n",
    "f = f.next.next\n",
    "\n",
    "mid = s\n",
    "\n",
    "Also finding the nth element from end in 1 pass.\n",
    "\n",
    "first u mive the fast pointer n times in advance and then move them both together till u have fast.next\n",
    "\n",
    "\n",
    "\n",
    "If there is a 1 pass constraint and an argument is given as a number first try to shift the fast pointer n \n",
    "times and then test the cases\n",
    "\n",
    "Cycle detection is fast and slow pointer till both nodes are same\n",
    "\n",
    "Finding the beginning of a cycle??\n",
    "\n",
    "2 steps:\n",
    "\n",
    "If there is a loop or cycle then there should be a colision point get that colliosion point and place fast there\n",
    "then place the start at the head and then increase both by 1 step the meeting point will be the beginning\n",
    "\n",
    "\n",
    "\n",
    "\n",
    "'''"
   ]
  },
  {
   "cell_type": "code",
   "execution_count": 1,
   "id": "5983a7ae",
   "metadata": {},
   "outputs": [
    {
     "data": {
      "text/plain": [
       "'\\n\\nPrefix sum\\n\\n\\nFor some questions where u have to calcualet prefix and postfix sum u can calculate the prefix using a cur variable that \\nadds nums[i] at every index so there is no need for extra array space\\nSimilarly u can calculate the postfiix of that index by : total sum - cur\\n\\nThis works on some questions where we dont explicitly need the stored values again and again\\n\\n\\n\\n\\n'"
      ]
     },
     "execution_count": 1,
     "metadata": {},
     "output_type": "execute_result"
    }
   ],
   "source": [
    "'''\n",
    "\n",
    "Prefix sum\n",
    "\n",
    "\n",
    "For some questions where u have to calcualet prefix and postfix sum u can calculate the prefix using a cur variable that \n",
    "adds nums[i] at every index so there is no need for extra array space\n",
    "Similarly u can calculate the postfiix of that index by : total sum - cur\n",
    "\n",
    "This works on some questions where we dont explicitly need the stored values again and again\n",
    "\n",
    "\n",
    "\n",
    "\n",
    "'''"
   ]
  },
  {
   "cell_type": "code",
   "execution_count": 1,
   "id": "4881b77e",
   "metadata": {},
   "outputs": [
    {
     "data": {
      "text/plain": [
       "'Important note:\\n\\n-ve indexing in py list to get the last few elemnts form a list\\n\\nlist[-3:]\\nlast 3 elements\\n\\nAlso \"\".join(list[-3:]) gets the last 3 elements and converts them into a string\\n\\n\\n\\n'"
      ]
     },
     "execution_count": 1,
     "metadata": {},
     "output_type": "execute_result"
    }
   ],
   "source": [
    "'''Important note:\n",
    "\n",
    "-ve indexing in py list to get the last few elemnts form a list\n",
    "\n",
    "list[-3:]\n",
    "last 3 elements\n",
    "\n",
    "Also \"\".join(list[-3:]) gets the last 3 elements and converts them into a string\n",
    "\n",
    "\n",
    "\n",
    "'''"
   ]
  },
  {
   "cell_type": "code",
   "execution_count": null,
   "id": "79c7b829",
   "metadata": {},
   "outputs": [],
   "source": []
  }
 ],
 "metadata": {
  "kernelspec": {
   "display_name": "Python 3 (ipykernel)",
   "language": "python",
   "name": "python3"
  },
  "language_info": {
   "codemirror_mode": {
    "name": "ipython",
    "version": 3
   },
   "file_extension": ".py",
   "mimetype": "text/x-python",
   "name": "python",
   "nbconvert_exporter": "python",
   "pygments_lexer": "ipython3",
   "version": "3.11.4"
  }
 },
 "nbformat": 4,
 "nbformat_minor": 5
}
