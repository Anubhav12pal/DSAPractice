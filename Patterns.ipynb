{
 "cells": [
  {
   "cell_type": "code",
   "execution_count": 2,
   "id": "cfc1655b",
   "metadata": {},
   "outputs": [
    {
     "ename": "SyntaxError",
     "evalue": "invalid syntax (1406539361.py, line 1)",
     "output_type": "error",
     "traceback": [
      "\u001b[0;36m  Cell \u001b[0;32mIn[2], line 1\u001b[0;36m\u001b[0m\n\u001b[0;31m    Binary search patterns:\u001b[0m\n\u001b[0m           ^\u001b[0m\n\u001b[0;31mSyntaxError\u001b[0m\u001b[0;31m:\u001b[0m invalid syntax\n"
     ]
    }
   ],
   "source": [
    "Binary search patterns:\n",
    "    \n",
    "    \n",
    "    Get the intuitio of finding the range of the outcomes that we want: eh koko eats \n",
    "        bananas finding the min banana it eatsper hour to satisfy a condition\n",
    "        \n",
    "        The range generally begins from 1 to min or 1 to any thing described in a question \n",
    "        These type of questions include min or max\n",
    "        "
   ]
  },
  {
   "cell_type": "code",
   "execution_count": 3,
   "id": "25effea4",
   "metadata": {},
   "outputs": [
    {
     "ename": "SyntaxError",
     "evalue": "invalid syntax (1327555907.py, line 1)",
     "output_type": "error",
     "traceback": [
      "\u001b[0;36m  Cell \u001b[0;32mIn[3], line 1\u001b[0;36m\u001b[0m\n\u001b[0;31m    Another pattern is min of max or  max of min\u001b[0m\n\u001b[0m            ^\u001b[0m\n\u001b[0;31mSyntaxError\u001b[0m\u001b[0;31m:\u001b[0m invalid syntax\n"
     ]
    }
   ],
   "source": [
    "Another pattern is min of max or  max of min"
   ]
  },
  {
   "cell_type": "code",
   "execution_count": 1,
   "id": "310d198a",
   "metadata": {},
   "outputs": [
    {
     "data": {
      "text/plain": [
       "'\\nTree patterns:\\n\\n\\nNormal height pattern\\nfinding a max pattern where u have a max variable to keep gtrack of the max sum of values for that. node\\n\\nVertical order traversal:\\n\\n\\nHere u take a map to keep track of the index of the element, u do level order teraversal to keep track,\\nfor every left or right u always inc the depth and for left u dec the index and for right u inc the depth\\n\\nKeep the track of parent using a map and bfs pattern  so that we can move up the tree: eg burn the tree\\n\\nconvert to one order from the other 2 orders eg given in order and preorder use them to find post order\\n\\n\\n\\n\\n'"
      ]
     },
     "execution_count": 1,
     "metadata": {},
     "output_type": "execute_result"
    }
   ],
   "source": [
    "'''\n",
    "Tree patterns:\n",
    "\n",
    "\n",
    "Normal height pattern\n",
    "finding a max pattern where u have a max variable to keep gtrack of the max sum of values for that. node\n",
    "\n",
    "Vertical order traversal:\n",
    "\n",
    "\n",
    "Here u take a map to keep track of the index of the element, u do level order teraversal to keep track,\n",
    "for every left or right u always inc the depth and for left u dec the index and for right u inc the depth\n",
    "\n",
    "Keep the track of parent using a map and bfs pattern  so that we can move up the tree: eg burn the tree\n",
    "\n",
    "convert to one order from the other 2 orders eg given in order and preorder use them to find post order\n",
    "\n",
    "\n",
    "\n",
    "\n",
    "'''"
   ]
  },
  {
   "cell_type": "code",
   "execution_count": null,
   "id": "3abbcae1",
   "metadata": {},
   "outputs": [],
   "source": []
  }
 ],
 "metadata": {
  "kernelspec": {
   "display_name": "Python 3 (ipykernel)",
   "language": "python",
   "name": "python3"
  },
  "language_info": {
   "codemirror_mode": {
    "name": "ipython",
    "version": 3
   },
   "file_extension": ".py",
   "mimetype": "text/x-python",
   "name": "python",
   "nbconvert_exporter": "python",
   "pygments_lexer": "ipython3",
   "version": "3.11.4"
  }
 },
 "nbformat": 4,
 "nbformat_minor": 5
}
