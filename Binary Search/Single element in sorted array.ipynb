{
 "cells": [
  {
   "cell_type": "code",
   "execution_count": 1,
   "id": "ce3e9e85",
   "metadata": {},
   "outputs": [
    {
     "data": {
      "text/plain": [
       "'\\n\\n\\n112233455\\n012345678\\n    m\\n\\n\\n\\n'"
      ]
     },
     "execution_count": 1,
     "metadata": {},
     "output_type": "execute_result"
    }
   ],
   "source": [
    "'''\n",
    "\n",
    "112233455\n",
    "012345678\n",
    "    m\n",
    "\n",
    "'''"
   ]
  },
  {
   "cell_type": "code",
   "execution_count": 2,
   "id": "1f533478",
   "metadata": {},
   "outputs": [],
   "source": [
    "class Solution(object):\n",
    "    def singleNonDuplicate(self, nums):\n",
    "        \"\"\"\n",
    "        :type nums: List[int]\n",
    "        :rtype: int\n",
    "        \"\"\"\n",
    "        n = len(nums)\n",
    "\n",
    "        if len(nums) == 1:\n",
    "            return nums[0]\n",
    "\n",
    "        if nums[0] != nums[1]:\n",
    "            return nums[0]\n",
    "        if nums[n-1] != nums[n-2]:\n",
    "            return nums[n-1]\n",
    "        l = 1\n",
    "        h = n-2\n",
    "\n",
    "        while l <= h:\n",
    "\n",
    "            mid = (l+h) //2\n",
    "\n",
    "            if nums[mid] != nums[mid -1] and nums[mid] != nums[mid + 1]:\n",
    "                return nums[mid]\n",
    "            if mid % 2 == 1:\n",
    "                if nums[mid] == nums[mid -1]:\n",
    "                    l = mid +1\n",
    "                else:\n",
    "                    h = mid - 1\n",
    "            else:\n",
    "                if nums[mid] == nums[mid +1]:\n",
    "                    l = mid +1\n",
    "                else:\n",
    "                    \n",
    "                    h = mid - 1\n",
    "\n",
    "        return -1\n",
    "\n",
    "\n",
    "        "
   ]
  },
  {
   "cell_type": "code",
   "execution_count": null,
   "id": "e8b910bf",
   "metadata": {},
   "outputs": [],
   "source": []
  }
 ],
 "metadata": {
  "kernelspec": {
   "display_name": "Python 3 (ipykernel)",
   "language": "python",
   "name": "python3"
  },
  "language_info": {
   "codemirror_mode": {
    "name": "ipython",
    "version": 3
   },
   "file_extension": ".py",
   "mimetype": "text/x-python",
   "name": "python",
   "nbconvert_exporter": "python",
   "pygments_lexer": "ipython3",
   "version": "3.11.4"
  }
 },
 "nbformat": 4,
 "nbformat_minor": 5
}
