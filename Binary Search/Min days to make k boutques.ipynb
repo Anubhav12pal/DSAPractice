{
 "cells": [
  {
   "cell_type": "code",
   "execution_count": 3,
   "id": "4eded1fd",
   "metadata": {},
   "outputs": [
    {
     "data": {
      "text/plain": [
       "'\\n\\neach flower at respective indes takes arr[index] days to bloom\\nu have to make m bouquets out of k adjascent flowers consecutice flowers\\nu can only select bloomed flowers\\nso the max days takes for every flower to bloom is max arr but we need min days fpr adj so we count\\n\\n'"
      ]
     },
     "execution_count": 3,
     "metadata": {},
     "output_type": "execute_result"
    }
   ],
   "source": [
    "'''\n",
    "\n",
    "each flower at respective indes takes arr[index] days to bloom\n",
    "u have to make m bouquets out of k adjascent flowers consecutice flowers\n",
    "u can only select bloomed flowers\n",
    "so the max days takes for every flower to bloom is max arr but we need min days fpr adj so we count\n",
    "\n",
    "'''"
   ]
  },
  {
   "cell_type": "code",
   "execution_count": 4,
   "id": "cf3ff74d",
   "metadata": {},
   "outputs": [],
   "source": [
    "class Solution(object):\n",
    "    def minDays(self, bloomDay, m, k):\n",
    "        \"\"\"\n",
    "        :type bloomDay: List[int]\n",
    "        :type m: int\n",
    "        :type k: int\n",
    "        :rtype: int\n",
    "        \"\"\"\n",
    "\n",
    "        if m * k >len(bloomDay):\n",
    "            return -1\n",
    "\n",
    "        low = min(bloomDay)\n",
    "        high = max(bloomDay)\n",
    "        ans = -1\n",
    "\n",
    "        while low <= high:\n",
    "            mid = (low + high) //2\n",
    "\n",
    "            if self.possible(bloomDay, mid, m, k):\n",
    "                ans = mid\n",
    "                high = mid - 1\n",
    "            else:\n",
    "                low = mid +1\n",
    "        return ans\n",
    "\n",
    "\n",
    "    def possible(self, arr, days, m, k):\n",
    "        count = 0\n",
    "        books = 0\n",
    "        for i in range(0, len(arr)):\n",
    "            if arr[i] <= days:\n",
    "                count += 1\n",
    "            else:\n",
    "                books += count // k\n",
    "                count = 0\n",
    "        books += count // k\n",
    "\n",
    "        if books >= m:\n",
    "            return True\n",
    "        else:\n",
    "            return False\n",
    "\n",
    "\n",
    "        "
   ]
  },
  {
   "cell_type": "code",
   "execution_count": null,
   "id": "b3c8885a",
   "metadata": {},
   "outputs": [],
   "source": []
  }
 ],
 "metadata": {
  "kernelspec": {
   "display_name": "Python 3 (ipykernel)",
   "language": "python",
   "name": "python3"
  },
  "language_info": {
   "codemirror_mode": {
    "name": "ipython",
    "version": 3
   },
   "file_extension": ".py",
   "mimetype": "text/x-python",
   "name": "python",
   "nbconvert_exporter": "python",
   "pygments_lexer": "ipython3",
   "version": "3.11.4"
  }
 },
 "nbformat": 4,
 "nbformat_minor": 5
}
