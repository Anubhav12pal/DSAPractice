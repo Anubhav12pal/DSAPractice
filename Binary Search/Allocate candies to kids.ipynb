{
 "cells": [
  {
   "cell_type": "code",
   "execution_count": 3,
   "id": "d3ac6bfb",
   "metadata": {},
   "outputs": [],
   "source": [
    "class Solution:\n",
    "    def maximumCandies(self, candies, k):\n",
    "        ans = 0\n",
    "\n",
    "\n",
    "        h = max(candies) + 1\n",
    "        def f(candy):\n",
    "\n",
    "            kids = 0\n",
    "\n",
    "            for i in candies:\n",
    "                kids += i // candy\n",
    "                if kids >= k:\n",
    "                    return True\n",
    "            return False\n",
    "            \n",
    "\n",
    "\n",
    "\n",
    "        \n",
    "        l = 1\n",
    "\n",
    "        while l <= h:\n",
    "            mid = (l + h) // 2\n",
    "\n",
    "            check = f(mid)\n",
    "            if check:\n",
    "                ans = mid\n",
    "                l = mid + 1\n",
    "            else:\n",
    "                h = mid - 1\n",
    "\n",
    "\n",
    "        return ans"
   ]
  },
  {
   "cell_type": "code",
   "execution_count": null,
   "id": "fe519745",
   "metadata": {},
   "outputs": [],
   "source": []
  }
 ],
 "metadata": {
  "kernelspec": {
   "display_name": "Python 3 (ipykernel)",
   "language": "python",
   "name": "python3"
  },
  "language_info": {
   "codemirror_mode": {
    "name": "ipython",
    "version": 3
   },
   "file_extension": ".py",
   "mimetype": "text/x-python",
   "name": "python",
   "nbconvert_exporter": "python",
   "pygments_lexer": "ipython3",
   "version": "3.11.4"
  }
 },
 "nbformat": 4,
 "nbformat_minor": 5
}
