{
 "cells": [
  {
   "cell_type": "code",
   "execution_count": 1,
   "id": "d3fb3bd6",
   "metadata": {},
   "outputs": [],
   "source": [
    "class Solution(object):\n",
    "    def triangleNumber(self, nums):\n",
    "        \"\"\"\n",
    "        :type nums: List[int]\n",
    "        :rtype: int\n",
    "        \"\"\"\n",
    "        nums.sort()\n",
    "        ans = 0\n",
    "        L = len(nums)\n",
    "        # c < (a+b)\n",
    "        for i in range(L-1,1,-1):\n",
    "            c = nums[i]\n",
    "            start = 0\n",
    "            end = i-1\n",
    "            while start < end:\n",
    "                if nums[start] + nums[end] > c:\n",
    "                    ans += end - start\n",
    "                    end -= 1\n",
    "                elif nums[start] + nums[end] <= c:\n",
    "                    start += 1\n",
    "        return ans"
   ]
  },
  {
   "cell_type": "code",
   "execution_count": null,
   "id": "1d65bdd8",
   "metadata": {},
   "outputs": [],
   "source": []
  }
 ],
 "metadata": {
  "kernelspec": {
   "display_name": "Python 3 (ipykernel)",
   "language": "python",
   "name": "python3"
  },
  "language_info": {
   "codemirror_mode": {
    "name": "ipython",
    "version": 3
   },
   "file_extension": ".py",
   "mimetype": "text/x-python",
   "name": "python",
   "nbconvert_exporter": "python",
   "pygments_lexer": "ipython3",
   "version": "3.11.4"
  }
 },
 "nbformat": 4,
 "nbformat_minor": 5
}
