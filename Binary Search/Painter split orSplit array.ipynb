{
 "cells": [
  {
   "cell_type": "code",
   "execution_count": 1,
   "id": "b50a05d5",
   "metadata": {},
   "outputs": [],
   "source": [
    "class Solution(object):\n",
    "    def splitArray(self, nums, k):\n",
    "        \"\"\"\n",
    "        :type nums: List[int]\n",
    "        :type k: int\n",
    "        :rtype: int\n",
    "        \"\"\" \n",
    "        n = len(nums)\n",
    "        if k > n:\n",
    "            return -1\n",
    "        \n",
    "        def f(arr, lim):\n",
    "\n",
    "            count = 0\n",
    "            painter = 1\n",
    "\n",
    "            for i in range(n):\n",
    "                if arr[i] + count <= lim:\n",
    "                    count += arr[i]\n",
    "                else:\n",
    "                    painter += 1\n",
    "                    count = arr[i]\n",
    "            return painter\n",
    "\n",
    "        high  = sum(nums)\n",
    "        low = max(nums)\n",
    "\n",
    "        while low <= high:\n",
    "\n",
    "            mid = (low + high) // 2\n",
    "\n",
    "            curr = f(nums, mid)\n",
    "\n",
    "            if curr > k:\n",
    "                low = mid + 1\n",
    "            else:\n",
    "                high = mid - 1\n",
    "        return low\n",
    "\n",
    "        \n",
    "\n",
    "\n",
    "\n",
    "\n",
    "        "
   ]
  },
  {
   "cell_type": "code",
   "execution_count": 3,
   "id": "e183bd6d",
   "metadata": {},
   "outputs": [
    {
     "data": {
      "text/plain": [
       "'Given an integer array nums and an integer k, split nums into k non-empty subarrays such that the largest sum of any subarray is minimized.\\n\\nReturn the minimized largest sum of the split.\\n\\nA subarray is a contiguous part of the array.\\n\\n \\n\\nExample 1:\\n\\nInput: nums = [7,2,5,10,8], k = 2\\nOutput: 18\\nExplanation: There are four ways to split nums into two subarrays.\\nThe best way is to split it into [7,2,5] and [10,8], where the largest sum among the two subarrays is only 18.\\nExample 2:\\n\\nInput: nums = [1,2,3,4,5], k = 2\\nOutput: 9\\nExplanation: There are four ways to split nums into two subarrays.\\nThe best way is to split it into [1,2,3] and [4,5], where the largest sum among the two subarrays is only 9.\\n \\n\\nConstraints:\\n\\n1 <= nums.length <= 1000\\n0 <= nums[i] <= 106\\n1 <= k <= min(50, nums.length)'"
      ]
     },
     "execution_count": 3,
     "metadata": {},
     "output_type": "execute_result"
    }
   ],
   "source": [
    "'''Given an integer array nums and an integer k, split nums into k non-empty subarrays such that the largest sum of any subarray is minimized.\n",
    "\n",
    "Return the minimized largest sum of the split.\n",
    "\n",
    "A subarray is a contiguous part of the array.\n",
    "\n",
    " \n",
    "\n",
    "Example 1:\n",
    "\n",
    "Input: nums = [7,2,5,10,8], k = 2\n",
    "Output: 18\n",
    "Explanation: There are four ways to split nums into two subarrays.\n",
    "The best way is to split it into [7,2,5] and [10,8], where the largest sum among the two subarrays is only 18.\n",
    "Example 2:\n",
    "\n",
    "Input: nums = [1,2,3,4,5], k = 2\n",
    "Output: 9\n",
    "Explanation: There are four ways to split nums into two subarrays.\n",
    "The best way is to split it into [1,2,3] and [4,5], where the largest sum among the two subarrays is only 9.\n",
    " \n",
    "\n",
    "Constraints:\n",
    "\n",
    "1 <= nums.length <= 1000\n",
    "0 <= nums[i] <= 106\n",
    "1 <= k <= min(50, nums.length)'''"
   ]
  },
  {
   "cell_type": "code",
   "execution_count": null,
   "id": "61d7d425",
   "metadata": {},
   "outputs": [],
   "source": []
  }
 ],
 "metadata": {
  "kernelspec": {
   "display_name": "Python 3 (ipykernel)",
   "language": "python",
   "name": "python3"
  },
  "language_info": {
   "codemirror_mode": {
    "name": "ipython",
    "version": 3
   },
   "file_extension": ".py",
   "mimetype": "text/x-python",
   "name": "python",
   "nbconvert_exporter": "python",
   "pygments_lexer": "ipython3",
   "version": "3.11.4"
  }
 },
 "nbformat": 4,
 "nbformat_minor": 5
}
