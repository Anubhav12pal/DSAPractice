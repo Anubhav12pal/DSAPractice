{
 "cells": [
  {
   "cell_type": "code",
   "execution_count": 3,
   "id": "e25a09e2",
   "metadata": {},
   "outputs": [
    {
     "data": {
      "text/plain": [
       "\"\\n\\nFind the min bananas per hr the koko can eat the banana\\nwe take high as max(piles ) as the max as if koko eats max num of bananas per hr it'll take 1 \\nhour per pile which will be the least but we need the in\\n\\n\\n\""
      ]
     },
     "execution_count": 3,
     "metadata": {},
     "output_type": "execute_result"
    }
   ],
   "source": [
    "'''\n",
    "\n",
    "Find the min bananas per hr the koko can eat the banana\n",
    "we take high as max(piles ) as the max as if koko eats max num of bananas per hr it'll take 1 \n",
    "hour per pile which will be the least but we need the in\n",
    "\n",
    "\n",
    "'''"
   ]
  },
  {
   "cell_type": "code",
   "execution_count": 4,
   "id": "2d99528f",
   "metadata": {},
   "outputs": [],
   "source": [
    "class Solution(object):\n",
    "\n",
    "    def f(self, nums, h):\n",
    "        tot = 0\n",
    "\n",
    "        for i in nums:\n",
    "            # ceil\n",
    "            tot += (i +h-1)/h\n",
    "\n",
    "        return tot\n",
    "    def minEatingSpeed(self, piles, h):\n",
    "        \"\"\"\n",
    "        :type piles: List[int]\n",
    "        :type h: int\n",
    "        :rtype: int\n",
    "        \"\"\"\n",
    "        ans = -1\n",
    "        low = 1\n",
    "        high = max(piles)\n",
    "        \n",
    "\n",
    "        while low <= high:\n",
    "            mid = (low + high) //2\n",
    "\n",
    "            tot = self.f(piles, mid)\n",
    "\n",
    "            if tot <= h:\n",
    "                ans = mid\n",
    "                high = mid -1\n",
    "            else:\n",
    "                low = mid+1\n",
    "\n",
    "        return ans\n",
    "        "
   ]
  },
  {
   "cell_type": "code",
   "execution_count": 4,
   "id": "8c763934",
   "metadata": {},
   "outputs": [
    {
     "name": "stdout",
     "output_type": "stream",
     "text": [
      "10\n"
     ]
    }
   ],
   "source": [
    "import math\n",
    "piles = [3,6,7,11]\n",
    "\n",
    "def f(speed):\n",
    "\n",
    "            h = 0\n",
    "\n",
    "            for i in piles:\n",
    "\n",
    "                h += math.ceil(i / speed)\n",
    "                \n",
    "\n",
    "            return h\n",
    "\n",
    "print(f(3))"
   ]
  },
  {
   "cell_type": "code",
   "execution_count": 1,
   "id": "cb5a9584",
   "metadata": {},
   "outputs": [
    {
     "data": {
      "text/plain": [
       "'\\n\\nwe have h hours to eat all bananas\\n\\nmin bananas eaten per hour so that we are under the time\\nwhat can be the min and max banas to be eaten:\\n\\ncan be 1 banana \\ncan be max can be the max number of bananas in a pile\\n\\nso we check for all possible \\n\\nstart form 1 \\nmake a function that calculates the time taken if we eat 1 to max n bananas \\n\\n'"
      ]
     },
     "execution_count": 1,
     "metadata": {},
     "output_type": "execute_result"
    }
   ],
   "source": [
    "'''\n",
    "\n",
    "we have h hours to eat all bananas\n",
    "\n",
    "min bananas eaten per hour so that we are under the time\n",
    "what can be the min and max banas to be eaten:\n",
    "\n",
    "can be 1 banana \n",
    "can be max can be the max number of bananas in a pile\n",
    "\n",
    "so we check for all possible \n",
    "\n",
    "start form 1 \n",
    "make a function that calculates the time taken if we eat 1 to max n bananas \n",
    "\n",
    "'''"
   ]
  },
  {
   "cell_type": "code",
   "execution_count": 3,
   "id": "90f9ecc3",
   "metadata": {},
   "outputs": [
    {
     "name": "stdout",
     "output_type": "stream",
     "text": [
      "2.3333333333333335\n"
     ]
    }
   ],
   "source": [
    "n = 7\n",
    "b = 7 / 3\n",
    "print(b)"
   ]
  },
  {
   "cell_type": "code",
   "execution_count": null,
   "id": "94391420",
   "metadata": {},
   "outputs": [],
   "source": []
  }
 ],
 "metadata": {
  "kernelspec": {
   "display_name": "Python 3 (ipykernel)",
   "language": "python",
   "name": "python3"
  },
  "language_info": {
   "codemirror_mode": {
    "name": "ipython",
    "version": 3
   },
   "file_extension": ".py",
   "mimetype": "text/x-python",
   "name": "python",
   "nbconvert_exporter": "python",
   "pygments_lexer": "ipython3",
   "version": "3.11.4"
  }
 },
 "nbformat": 4,
 "nbformat_minor": 5
}
