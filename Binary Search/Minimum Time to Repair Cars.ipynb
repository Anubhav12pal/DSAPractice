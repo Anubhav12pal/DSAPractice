{
 "cells": [
  {
   "cell_type": "code",
   "execution_count": 2,
   "id": "97daa4a5",
   "metadata": {},
   "outputs": [],
   "source": [
    "class Solution:\n",
    "    def repairCars(self, ranks, cars):\n",
    "\n",
    "        h = ranks[0] * cars * cars\n",
    "        l = 1\n",
    "        \n",
    "        def f(minutes):\n",
    "\n",
    "            c = 0\n",
    "\n",
    "            for r in ranks:\n",
    "\n",
    "                car = int(sqrt(minutes // r))\n",
    "                c += car\n",
    "            if c >= cars:\n",
    "                return True\n",
    "            return False\n",
    "        ans = -1\n",
    "\n",
    "        while l <= h:\n",
    "            m = (l + h) // 2\n",
    "\n",
    "            c = f(m)\n",
    "\n",
    "            if c:\n",
    "                ans = m\n",
    "                h = m - 1\n",
    "            else:\n",
    "                l = m + 1\n",
    "                \n",
    "        return ans\n",
    "\n",
    "\n",
    "        "
   ]
  },
  {
   "cell_type": "code",
   "execution_count": 3,
   "id": "2ba73c89",
   "metadata": {},
   "outputs": [
    {
     "data": {
      "text/plain": [
       "'\\nSimple logic we use bin search on mins\\nIf we had that many minutes we can see how many cars each rank can do with certain amount of minues in hand and we sum\\nthe cars\\nIf the cars are >= total cars then we can say yes in this amount of time the men can repair the car\\nthe range is max * cars*cars\\nl = 1\\n\\n'"
      ]
     },
     "execution_count": 3,
     "metadata": {},
     "output_type": "execute_result"
    }
   ],
   "source": [
    "'''\n",
    "Simple logic we use bin search on mins\n",
    "If we had that many minutes we can see how many cars each rank can do with certain amount of minues in hand and we sum\n",
    "the cars\n",
    "If the cars are >= total cars then we can say yes in this amount of time the men can repair the car\n",
    "the range is max * cars*cars\n",
    "l = 1\n",
    "\n",
    "'''"
   ]
  },
  {
   "cell_type": "code",
   "execution_count": null,
   "id": "55ff753c",
   "metadata": {},
   "outputs": [],
   "source": []
  }
 ],
 "metadata": {
  "kernelspec": {
   "display_name": "Python 3 (ipykernel)",
   "language": "python",
   "name": "python3"
  },
  "language_info": {
   "codemirror_mode": {
    "name": "ipython",
    "version": 3
   },
   "file_extension": ".py",
   "mimetype": "text/x-python",
   "name": "python",
   "nbconvert_exporter": "python",
   "pygments_lexer": "ipython3",
   "version": "3.11.4"
  }
 },
 "nbformat": 4,
 "nbformat_minor": 5
}
