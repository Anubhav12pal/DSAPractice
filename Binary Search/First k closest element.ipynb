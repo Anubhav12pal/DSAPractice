{
 "cells": [
  {
   "cell_type": "code",
   "execution_count": 5,
   "id": "d0a9fc7c",
   "metadata": {},
   "outputs": [],
   "source": [
    "class Solution(object):\n",
    "    def findClosestElements(self, arr, k, x):\n",
    "        \"\"\"\n",
    "        :type arr: List[int]\n",
    "        :type k: int\n",
    "        :type x: int\n",
    "        :rtype: List[int]\n",
    "\n",
    "\n",
    "\n",
    "        1 1 2 3 4 5 12\n",
    "\n",
    "        k = 4\n",
    "        x = 8\n",
    "\n",
    "        8 - 5 = 3\n",
    "        12-8 = 4\n",
    "        8-2 = 6\n",
    "\n",
    "\n",
    "        ans = 3 4 5 12\n",
    "\n",
    "        first find the place where the lement is located\n",
    "\n",
    "        Another eg:\n",
    "        1 2 3 4 5\n",
    "        x = 3\n",
    "        k = 4\n",
    "\n",
    "        fOR FINDIG WE can use bin s\n",
    "\n",
    "\n",
    "        \"\"\"\n",
    "\n",
    "        low = 0\n",
    "        high = len(arr) - 1\n",
    "\n",
    "        pos = -1\n",
    "\n",
    "\n",
    "        while low <= high:\n",
    "\n",
    "            mid = (low + high) // 2\n",
    "            if arr[mid] < x:\n",
    "                low = mid + 1\n",
    "            else:\n",
    "                high = mid - 1\n",
    "\n",
    "\n",
    "        pos =low\n",
    " \n",
    "        left = pos - 1\n",
    "        right = pos\n",
    "    \n",
    "\n",
    "        result = deque()\n",
    "        for _ in range(k):\n",
    "            if left >= 0 and right < len(arr):\n",
    "   \n",
    "                if abs(arr[left] - x) <= abs(arr[right] - x):\n",
    "                    result.appendleft(arr[left])\n",
    "                    left -= 1\n",
    "                else:\n",
    "                    result.append(arr[right])\n",
    "                    right += 1\n",
    "            elif left >= 0:\n",
    "                result.appendleft(arr[left])\n",
    "                left -= 1\n",
    "            else:\n",
    "                result.append(arr[right])\n",
    "                right += 1\n",
    "    \n",
    "    \n",
    "        return list(result)"
   ]
  },
  {
   "cell_type": "code",
   "execution_count": 4,
   "id": "dbc7fbcf",
   "metadata": {},
   "outputs": [
    {
     "data": {
      "text/plain": [
       "'\\n\\nMost optimal takes O(log n)    + O(k)\\n\\nas in this approach we find the index closest to the elementand then we expand from left and right based on the needs\\n\\n'"
      ]
     },
     "execution_count": 4,
     "metadata": {},
     "output_type": "execute_result"
    }
   ],
   "source": [
    "'''\n",
    "\n",
    "Most optimal takes O(log n)    + O(k)\n",
    "\n",
    "as in this approach we find the index closest to the elementand then we expand from left and right based on the needs\n",
    "\n",
    "'''"
   ]
  },
  {
   "cell_type": "code",
   "execution_count": null,
   "id": "a4184785",
   "metadata": {},
   "outputs": [],
   "source": []
  }
 ],
 "metadata": {
  "kernelspec": {
   "display_name": "Python 3 (ipykernel)",
   "language": "python",
   "name": "python3"
  },
  "language_info": {
   "codemirror_mode": {
    "name": "ipython",
    "version": 3
   },
   "file_extension": ".py",
   "mimetype": "text/x-python",
   "name": "python",
   "nbconvert_exporter": "python",
   "pygments_lexer": "ipython3",
   "version": "3.11.4"
  }
 },
 "nbformat": 4,
 "nbformat_minor": 5
}
