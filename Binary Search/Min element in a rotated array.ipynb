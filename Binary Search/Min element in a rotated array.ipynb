{
 "cells": [
  {
   "cell_type": "code",
   "execution_count": 1,
   "id": "14167b98",
   "metadata": {},
   "outputs": [
    {
     "data": {
      "text/plain": [
       "'\\n\\n[1,2,3,4,5,6,7]\\n       m\\n\\n6,7,1,2,3,4,5\\n      m\\n      right sorted but min in left\\n\\n3,4,5,6,7,1,2\\n      m\\n      \\n      left sorted but min in right\\n\\n\\n5,6,7,1,2,3,4\\n      m\\n      both sorted but min in middle\\n      \\n      \\nwhat we can do is see which half is sorted and take the min form that ie the left most in that compare it to min\\n\\n'"
      ]
     },
     "execution_count": 1,
     "metadata": {},
     "output_type": "execute_result"
    }
   ],
   "source": [
    "'''\n",
    "\n",
    "[1,2,3,4,5,6,7]\n",
    "       m\n",
    "\n",
    "6,7,1,2,3,4,5\n",
    "      m\n",
    "      right sorted but min in left\n",
    "\n",
    "3,4,5,6,7,1,2\n",
    "      m\n",
    "      \n",
    "      left sorted but min in right\n",
    "\n",
    "\n",
    "5,6,7,1,2,3,4\n",
    "      m\n",
    "      both sorted but min in middle\n",
    "      \n",
    "      \n",
    "what we can do is see which half is sorted and take the min form that ie the left most in that compare it to min\n",
    "\n",
    "'''"
   ]
  },
  {
   "cell_type": "code",
   "execution_count": 2,
   "id": "feac0b8d",
   "metadata": {},
   "outputs": [],
   "source": [
    "class Solution(object):\n",
    "    def findMin(self, nums):\n",
    "        \"\"\"\n",
    "        :type nums: List[int]\n",
    "        :rtype: int\n",
    "        \"\"\"\n",
    "\n",
    "        low = 0\n",
    "        ans = float(\"inf\")\n",
    "        high = len(nums) - 1\n",
    "\n",
    "        while low <= high:\n",
    "            mid = (low + high) // 2\n",
    "\n",
    "            if nums[mid] >= nums[low]:\n",
    "                ans = min(ans, nums[low])\n",
    "                low = mid +1\n",
    "\n",
    "            else:\n",
    "                ans = min(ans, nums[mid])\n",
    "                high = mid - 1\n",
    "        return ans\n",
    "\n",
    "        "
   ]
  },
  {
   "cell_type": "code",
   "execution_count": null,
   "id": "e76441c6",
   "metadata": {},
   "outputs": [],
   "source": []
  }
 ],
 "metadata": {
  "kernelspec": {
   "display_name": "Python 3 (ipykernel)",
   "language": "python",
   "name": "python3"
  },
  "language_info": {
   "codemirror_mode": {
    "name": "ipython",
    "version": 3
   },
   "file_extension": ".py",
   "mimetype": "text/x-python",
   "name": "python",
   "nbconvert_exporter": "python",
   "pygments_lexer": "ipython3",
   "version": "3.11.4"
  }
 },
 "nbformat": 4,
 "nbformat_minor": 5
}
