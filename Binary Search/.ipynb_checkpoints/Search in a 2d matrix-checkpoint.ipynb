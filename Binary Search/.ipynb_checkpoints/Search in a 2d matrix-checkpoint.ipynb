{
 "cells": [
  {
   "cell_type": "code",
   "execution_count": 3,
   "id": "4773f8b3",
   "metadata": {},
   "outputs": [
    {
     "data": {
      "text/plain": [
       "'\\nFirst do normal seaqrch takes n2 time\\n\\n\\nbut as u know the array is sorted u can check if the number lies in a particular row or not by checking the f and last in the row \\nif it lies u can do a bin search takes O(N) PLUS log n time almost on time as bin s is nly applied once\\n\\n\\nThe best way is flatten the array into 1d but not literally as it would take n2 time\\n\\n \\n Now take this array as an example:\\n \\n \\n 0 1 2 3 \\n 4 5 6 7\\n 8 9 10 11\\n \\n here the middle element is 11//2 = 5 bnow how do we convert that 5 into 2 d number:\\n \\n \\n How to find the row?? See the row index is a multiple of 4: 0 4 8... so if u divide the number by the col u can get \\n its row:\\n \\n eg : 5/4 = 1 and it gives us correct row which is 1\\n Simialrly how to get the col??\\n \\n we need the remainder of div by the col so we mod 5 ,od 4 = 1 which is the col so we have the exact 2d coordinate\\n'"
      ]
     },
     "execution_count": 3,
     "metadata": {},
     "output_type": "execute_result"
    }
   ],
   "source": [
    "'''\n",
    "First do normal seaqrch takes n2 time\n",
    "\n",
    "\n",
    "but as u know the array is sorted u can check if the number lies in a particular row or not by checking the f and last in the row \n",
    "if it lies u can do a bin search takes O(N) PLUS log n time almost on time as bin s is nly applied once\n",
    "\n",
    "\n",
    "The best way is flatten the array into 1d but not literally as it would take n2 time\n",
    "\n",
    " \n",
    " Now take this array as an example:\n",
    " \n",
    " \n",
    " 0 1 2 3 \n",
    " 4 5 6 7\n",
    " 8 9 10 11\n",
    " \n",
    " here the middle element is 11//2 = 5 bnow how do we convert that 5 into 2 d number:\n",
    " \n",
    " \n",
    " How to find the row?? See the row index is a multiple of 4: 0 4 8... so if u divide the number by the col u can get \n",
    " its row:\n",
    " \n",
    " eg : 5/4 = 1 and it gives us correct row which is 1\n",
    " Simialrly how to get the col??\n",
    " \n",
    " we need the remainder of div by the col so we mod 5 ,od 4 = 1 which is the col so we have the exact 2d coordinate\n",
    "'''"
   ]
  },
  {
   "cell_type": "code",
   "execution_count": 4,
   "id": "c009ce34",
   "metadata": {},
   "outputs": [],
   "source": [
    "class Solution(object):\n",
    "    def searchMatrix(self, matrix, target):\n",
    "        \"\"\"\n",
    "        :type matrix: List[List[int]]\n",
    "        :type target: int\n",
    "        :rtype: bool\n",
    "        \"\"\"\n",
    "\n",
    "\n",
    "        n = len(matrix)\n",
    "        m = len(matrix[0])\n",
    "\n",
    "\n",
    "        r = n *m - 1\n",
    "\n",
    "\n",
    "        l = 0\n",
    "\n",
    "        while l <= r:\n",
    "            mid = (l +r) // 2\n",
    "\n",
    "            row = mid // m\n",
    "            col = mid % m\n",
    "\n",
    "            if matrix[row][col] == target:\n",
    "                return True\n",
    "            elif matrix[row][col] < target:\n",
    "                l = mid +  1\n",
    "            else:\n",
    "                r = mid - 1\n",
    "        return False\n",
    "\n",
    "\n",
    "        "
   ]
  },
  {
   "cell_type": "code",
   "execution_count": null,
   "id": "4ff1c9e1",
   "metadata": {},
   "outputs": [],
   "source": []
  }
 ],
 "metadata": {
  "kernelspec": {
   "display_name": "Python 3 (ipykernel)",
   "language": "python",
   "name": "python3"
  },
  "language_info": {
   "codemirror_mode": {
    "name": "ipython",
    "version": 3
   },
   "file_extension": ".py",
   "mimetype": "text/x-python",
   "name": "python",
   "nbconvert_exporter": "python",
   "pygments_lexer": "ipython3",
   "version": "3.11.4"
  }
 },
 "nbformat": 4,
 "nbformat_minor": 5
}
