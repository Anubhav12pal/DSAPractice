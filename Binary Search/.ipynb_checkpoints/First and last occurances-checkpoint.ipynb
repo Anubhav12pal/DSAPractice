{
 "cells": [
  {
   "cell_type": "code",
   "execution_count": 2,
   "id": "b30f50bb",
   "metadata": {},
   "outputs": [
    {
     "data": {
      "text/plain": [
       "'\\nUse the lower bound and upper bound ideas using bs\\nAnd as the array is sorted we know that the lower bound will be the first occurance of the number\\nif the number is not present we return -1 ie lb != number\\n\\nAnother case is if the number is not in the list then the lb is equal to size of arr n\\n\\nLastly the upper bound is the number next to the wanted number that is the next num to the last occurance of the number\\nso last occ = up -1\\n\\n\\n'"
      ]
     },
     "execution_count": 2,
     "metadata": {},
     "output_type": "execute_result"
    }
   ],
   "source": [
    "'''\n",
    "Use the lower bound and upper bound ideas using bs\n",
    "And as the array is sorted we know that the lower bound will be the first occurance of the number\n",
    "if the number is not present we return -1 ie lb != number\n",
    "\n",
    "Another case is if the number is not in the list then the lb is equal to size of arr n\n",
    "\n",
    "Lastly the upper bound is the number next to the wanted number that is the next num to the last occurance of\n",
    "the number\n",
    "so last occ = up -1\n",
    "\n",
    "\n",
    "'''"
   ]
  },
  {
   "cell_type": "code",
   "execution_count": null,
   "id": "f1bfa614",
   "metadata": {},
   "outputs": [],
   "source": []
  },
  {
   "cell_type": "code",
   "execution_count": 3,
   "id": "1829b48b",
   "metadata": {},
   "outputs": [],
   "source": [
    "class Solution(object):\n",
    "    def searchRange(self, nums, target):\n",
    "        \"\"\"\n",
    "        :type nums: List[int]\n",
    "        :type target: int\n",
    "        :rtype: List[int]\n",
    "        \"\"\"\n",
    "        lb = self.lb(nums, target)\n",
    "        if lb == len(nums) or nums[lb] != target:\n",
    "            return [-1, -1]\n",
    "        return [lb, self.ub(nums, target) - 1]\n",
    "\n",
    "    def lb(self, nums, target):\n",
    "        n = len(nums)\n",
    "        l, h = 0, n - 1\n",
    "        ans = n\n",
    "\n",
    "        while l <= h:\n",
    "            mid = (l + h) // 2\n",
    "\n",
    "            if nums[mid] >= target:\n",
    "                ans = mid\n",
    "                h = mid - 1  # Corrected the variable name from `high` to `h`\n",
    "            else:\n",
    "                l = mid + 1  # Corrected the variable name from `low` to `l`\n",
    "        return ans\n",
    "\n",
    "    def ub(self, nums, target):\n",
    "        n = len(nums)\n",
    "        l, h = 0, n - 1\n",
    "        ans = n\n",
    "\n",
    "        while l <= h:\n",
    "            mid = (l + h) // 2\n",
    "\n",
    "            if nums[mid] > target:\n",
    "                ans = mid\n",
    "                h = mid - 1  # Corrected the variable name from `high` to `h`\n",
    "            else:\n",
    "                l = mid + 1  # Corrected the variable name from `low` to `l`\n",
    "        return ans\n"
   ]
  },
  {
   "cell_type": "code",
   "execution_count": null,
   "id": "fa7e1a88",
   "metadata": {},
   "outputs": [],
   "source": []
  }
 ],
 "metadata": {
  "kernelspec": {
   "display_name": "Python 3 (ipykernel)",
   "language": "python",
   "name": "python3"
  },
  "language_info": {
   "codemirror_mode": {
    "name": "ipython",
    "version": 3
   },
   "file_extension": ".py",
   "mimetype": "text/x-python",
   "name": "python",
   "nbconvert_exporter": "python",
   "pygments_lexer": "ipython3",
   "version": "3.11.4"
  }
 },
 "nbformat": 4,
 "nbformat_minor": 5
}
