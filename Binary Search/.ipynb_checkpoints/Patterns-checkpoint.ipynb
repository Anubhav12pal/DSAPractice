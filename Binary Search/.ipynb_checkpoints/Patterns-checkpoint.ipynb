{
 "cells": [
  {
   "cell_type": "code",
   "execution_count": 1,
   "id": "abc9383c",
   "metadata": {},
   "outputs": [
    {
     "data": {
      "text/plain": [
       "'\\n\\n1) Lowe and upper bound\\n2) Find min or max\\n3) Find min of max or max of min\\n\\n\\n'"
      ]
     },
     "execution_count": 1,
     "metadata": {},
     "output_type": "execute_result"
    }
   ],
   "source": [
    "'''\n",
    "\n",
    "1) Lowe and upper bound\n",
    "2) Find min or max\n",
    "3) Find min of max or max of min\n",
    "\n",
    "\n",
    "'''"
   ]
  },
  {
   "cell_type": "code",
   "execution_count": 1,
   "id": "4d3a6d2a",
   "metadata": {},
   "outputs": [
    {
     "data": {
      "text/plain": [
       "'\\n\\n2d matrix bs pattern\\n\\nBinary search can be applied on sorted rows if sorted\\n\\nif the array is sorted overall the u can convert it to a 1 d array the total elements are: n * m find the mid\\nand then convert it to row and col \\n\\nrow = mid // m\\ncol = mid % m\\n\\nand it they are sorted col wise from left to right and top to down we can move from 1 dege and eleminate a row or col accordingly\\n\\n'"
      ]
     },
     "execution_count": 1,
     "metadata": {},
     "output_type": "execute_result"
    }
   ],
   "source": [
    "'''\n",
    "\n",
    "2d matrix bs pattern\n",
    "\n",
    "Binary search can be applied on sorted rows if sorted\n",
    "\n",
    "if the array is sorted overall the u can convert it to a 1 d array the total elements are: n * m find the mid\n",
    "and then convert it to row and col \n",
    "\n",
    "row = mid // m\n",
    "col = mid % m\n",
    "\n",
    "and it they are sorted col wise from left to right and top to down we can move from 1 dege and eleminate a row or col accordingly\n",
    "\n",
    "'''"
   ]
  },
  {
   "cell_type": "code",
   "execution_count": null,
   "id": "5b438364",
   "metadata": {},
   "outputs": [],
   "source": []
  }
 ],
 "metadata": {
  "kernelspec": {
   "display_name": "Python 3 (ipykernel)",
   "language": "python",
   "name": "python3"
  },
  "language_info": {
   "codemirror_mode": {
    "name": "ipython",
    "version": 3
   },
   "file_extension": ".py",
   "mimetype": "text/x-python",
   "name": "python",
   "nbconvert_exporter": "python",
   "pygments_lexer": "ipython3",
   "version": "3.11.4"
  }
 },
 "nbformat": 4,
 "nbformat_minor": 5
}
