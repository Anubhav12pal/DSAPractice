{
 "cells": [
  {
   "cell_type": "code",
   "execution_count": 1,
   "id": "474eea03",
   "metadata": {},
   "outputs": [],
   "source": [
    "class Solution(object):\n",
    "    def countAtLeast(self, nums, comp, ans = 0):\n",
    "        i, j = 0, len(nums) - 1\n",
    "        while i < j:\n",
    "            if nums[i] + nums[j] >= comp: ans += j - i; j -= 1\n",
    "            else: i += 1\n",
    "        return ans\n",
    "\n",
    "    def countFairPairs(self, nums, lower, upper):\n",
    "        nums.sort()\n",
    "        return self.countAtLeast(nums, lower) - self.countAtLeast(nums, upper + 1)"
   ]
  },
  {
   "cell_type": "code",
   "execution_count": null,
   "id": "a94d8dfc",
   "metadata": {},
   "outputs": [],
   "source": []
  }
 ],
 "metadata": {
  "kernelspec": {
   "display_name": "Python 3 (ipykernel)",
   "language": "python",
   "name": "python3"
  },
  "language_info": {
   "codemirror_mode": {
    "name": "ipython",
    "version": 3
   },
   "file_extension": ".py",
   "mimetype": "text/x-python",
   "name": "python",
   "nbconvert_exporter": "python",
   "pygments_lexer": "ipython3",
   "version": "3.11.4"
  }
 },
 "nbformat": 4,
 "nbformat_minor": 5
}
