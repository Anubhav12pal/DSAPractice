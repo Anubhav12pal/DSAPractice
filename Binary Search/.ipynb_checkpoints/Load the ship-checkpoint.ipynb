{
 "cells": [
  {
   "cell_type": "code",
   "execution_count": 1,
   "id": "bb3197d4",
   "metadata": {},
   "outputs": [
    {
     "data": {
      "text/plain": [
       "'\\n\\nA conveyor belt has packages that must be shipped from one port to another within days days.\\n\\nThe ith package on the conveyor belt has a weight of weights[i]. Each day, we load the ship with packages on the conveyor belt (in the order given by weights). We may not load more weight than the maximum weight capacity of the ship.\\n\\nReturn the least weight capacity of the ship that will result in all the packages on the conveyor belt being shipped within days days.\\n\\n \\n\\nExample 1:\\n\\nInput: weights = [1,2,3,4,5,6,7,8,9,10], days = 5\\nOutput: 15\\nExplanation: A ship capacity of 15 is the minimum to ship all the packages in 5 days like this:\\n1st day: 1, 2, 3, 4, 5\\n2nd day: 6, 7\\n3rd day: 8\\n4th day: 9\\n5th day: 10\\n\\n\\n'"
      ]
     },
     "execution_count": 1,
     "metadata": {},
     "output_type": "execute_result"
    }
   ],
   "source": [
    "'''\n",
    "\n",
    "A conveyor belt has packages that must be shipped from one port to another within days days.\n",
    "\n",
    "The ith package on the conveyor belt has a weight of weights[i]. Each day, we load the ship with packages on the conveyor belt (in the order given by weights). We may not load more weight than the maximum weight capacity of the ship.\n",
    "\n",
    "Return the least weight capacity of the ship that will result in all the packages on the conveyor belt being shipped within days days.\n",
    "\n",
    " \n",
    "\n",
    "Example 1:\n",
    "\n",
    "Input: weights = [1,2,3,4,5,6,7,8,9,10], days = 5\n",
    "Output: 15\n",
    "Explanation: A ship capacity of 15 is the minimum to ship all the packages in 5 days like this:\n",
    "1st day: 1, 2, 3, 4, 5\n",
    "2nd day: 6, 7\n",
    "3rd day: 8\n",
    "4th day: 9\n",
    "5th day: 10\n",
    "\n",
    "\n",
    "'''"
   ]
  },
  {
   "cell_type": "code",
   "execution_count": 2,
   "id": "2154b0d7",
   "metadata": {},
   "outputs": [],
   "source": [
    "class Solution(object):\n",
    "    def shipWithinDays(self, weights, days):\n",
    "        \"\"\"\n",
    "        :type weights: List[int]\n",
    "        :type days: int\n",
    "        :rtype: int\n",
    "        \"\"\"\n",
    "\n",
    "        low = max(weights)\n",
    "        high= sum(weights)\n",
    "        a = -1\n",
    "\n",
    "        while low <= high:\n",
    "            mid  = (low + high) //2\n",
    "            ans = self.f(weights, mid)\n",
    "\n",
    "            if ans <= days:\n",
    "                a = mid\n",
    "                high = mid -1\n",
    "            else:\n",
    "                low = mid +1\n",
    "\n",
    "        return a\n",
    "\n",
    "    def f(self, arr, weight):\n",
    "\n",
    "        load = 0\n",
    "        day = 1\n",
    "\n",
    "        for i in range(len(arr)):\n",
    "            if load + arr[i] > weight:\n",
    "                day += 1\n",
    "                load = arr[i]\n",
    "            else:\n",
    "                load += arr[i]\n",
    "        return day\n",
    "\n",
    "        "
   ]
  },
  {
   "cell_type": "code",
   "execution_count": 3,
   "id": "ebd038a7",
   "metadata": {},
   "outputs": [
    {
     "data": {
      "text/plain": [
       "'\\nTo solve this fiest see the higher and lower\\n\\nThe least we can do is the max weight that the array has and the max we can do is the\\nentire weight of the array combined\\n\\nSo we calculate the number of days each weight bw the low and high takes to complete \\n\\nIf it takes less than the days wanted we submit it otherwise we keep searching use bs to cut the elements faster\\n\\n\\n\\n\\n\\n'"
      ]
     },
     "execution_count": 3,
     "metadata": {},
     "output_type": "execute_result"
    }
   ],
   "source": [
    "'''\n",
    "To solve this fiest see the higher and lower\n",
    "\n",
    "The least we can do is the max weight that the array has and the max we can do is the\n",
    "entire weight of the array combined\n",
    "\n",
    "So we calculate the number of days each weight bw the low and high takes to complete \n",
    "\n",
    "If it takes less than the days wanted we submit it otherwise we keep searching use bs to cut the elements faster\n",
    "\n",
    "\n",
    "\n",
    "\n",
    "\n",
    "'''"
   ]
  },
  {
   "cell_type": "code",
   "execution_count": null,
   "id": "195912cb",
   "metadata": {},
   "outputs": [],
   "source": []
  }
 ],
 "metadata": {
  "kernelspec": {
   "display_name": "Python 3 (ipykernel)",
   "language": "python",
   "name": "python3"
  },
  "language_info": {
   "codemirror_mode": {
    "name": "ipython",
    "version": 3
   },
   "file_extension": ".py",
   "mimetype": "text/x-python",
   "name": "python",
   "nbconvert_exporter": "python",
   "pygments_lexer": "ipython3",
   "version": "3.11.4"
  }
 },
 "nbformat": 4,
 "nbformat_minor": 5
}
