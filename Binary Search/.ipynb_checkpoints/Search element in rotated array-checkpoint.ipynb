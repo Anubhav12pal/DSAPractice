{
 "cells": [
  {
   "cell_type": "code",
   "execution_count": 3,
   "id": "603a7181",
   "metadata": {},
   "outputs": [
    {
     "data": {
      "text/plain": [
       "'\\nSee the approach\\n:\\n[7,8,9,1,2,3,4,5,6]\\n         m\\n\\n\\nso to do it under n u need to eliminate a side how do u do that here in this case u either go to left or rigt\\n\\nTo seee where to go u need to find which side is sorted\\n\\nidf the left side is sorted that is low <= mid\\n\\nThen:\\n we check if target lies bw the sorted range or not iof yes then we update low else high\\n \\nSimilarly if the right is sorted we see if target is bw the rhs if yes we change the l else high\\n\\n\\n\\n'"
      ]
     },
     "execution_count": 3,
     "metadata": {},
     "output_type": "execute_result"
    }
   ],
   "source": [
    "'''\n",
    "See the approach\n",
    ":\n",
    "[7,8,9,1,2,3,4,5,6]\n",
    "         m\n",
    "\n",
    "\n",
    "so to do it under n u need to eliminate a side how do u do that here in this case u either go to left or rigt\n",
    "\n",
    "To seee where to go u need to find which side is sorted\n",
    "\n",
    "idf the left side is sorted that is low <= mid\n",
    "\n",
    "Then:\n",
    " we check if target lies bw the sorted range or not iof yes then we update low else high\n",
    " \n",
    "Similarly if the right is sorted we see if target is bw the rhs if yes we change the l else high\n",
    "\n",
    "\n",
    "\n",
    "'''"
   ]
  },
  {
   "cell_type": "code",
   "execution_count": 4,
   "id": "4e2e026b",
   "metadata": {},
   "outputs": [],
   "source": [
    "class Solution(object):\n",
    "    def search(self, nums, target):\n",
    "        \"\"\"\n",
    "        :type nums: List[int]\n",
    "        :type target: int\n",
    "        :rtype: int\n",
    "        \"\"\"\n",
    "\n",
    "        low = 0\n",
    "        high = len(nums) - 1\n",
    "\n",
    "        while low <= high:\n",
    "            mid = (low + high) // 2\n",
    "\n",
    "            if nums[mid] == target:\n",
    "                return mid\n",
    "            \n",
    "            # Left sorted\n",
    "\n",
    "            if nums[mid] >= nums[low]:\n",
    "                if nums[low] <= target and nums[mid] >= target:\n",
    "                    high = mid - 1\n",
    "                else:\n",
    "                    low = mid+1\n",
    "\n",
    "            else:\n",
    "                if nums[high] >= target and nums[mid] <= target:\n",
    "                    low = mid+ 1\n",
    "                else:\n",
    "                    high = mid -1\n",
    "            \n",
    "        return -1\n",
    "\n",
    "\n",
    "            \n",
    "\n",
    "        "
   ]
  },
  {
   "cell_type": "code",
   "execution_count": 9,
   "id": "fc9392f0",
   "metadata": {},
   "outputs": [
    {
     "data": {
      "text/plain": [
       "'\\n\\nPart 2\\nArray might have duplicates\\n\\n\\noNLY DIFFERENCE is the part where we cannot compare which side is sorted to solve this we check mid low and\\nhigh are equal  if yes then we inc the low and dec the high by 1 and do rest same\\n\\n'"
      ]
     },
     "execution_count": 9,
     "metadata": {},
     "output_type": "execute_result"
    }
   ],
   "source": [
    "'''\n",
    "\n",
    "Part 2\n",
    "Array might have duplicates\n",
    "\n",
    "\n",
    "oNLY DIFFERENCE is the part where we cannot compare which side is sorted to solve this we check mid low and\n",
    "high are equal  if yes then we inc the low and dec the high by 1 and do rest same\n",
    "\n",
    "'''"
   ]
  },
  {
   "cell_type": "code",
   "execution_count": 10,
   "id": "feb2d6df",
   "metadata": {},
   "outputs": [],
   "source": [
    "class Solution(object):\n",
    "    def search(self, nums, target):\n",
    "        \"\"\"\n",
    "        :type nums: List[int]\n",
    "        :type target: int\n",
    "        :rtype: bool\n",
    "        \"\"\"\n",
    "        low = 0\n",
    "        high = len(nums) - 1\n",
    "\n",
    "        while low <= high:\n",
    "            mid = (low + high) // 2\n",
    "\n",
    "            if nums[mid] == target:\n",
    "                return True\n",
    "\n",
    "\n",
    "            if nums[low] == nums[mid] and nums[mid] == nums[high]:\n",
    "                low += 1\n",
    "                high -= 1\n",
    "                continue\n",
    "            \n",
    "            # Left sorted\n",
    "\n",
    "            if nums[mid] >= nums[low]:\n",
    "                if nums[low] <= target and nums[mid] >= target:\n",
    "                    high = mid - 1\n",
    "                else:\n",
    "                    low = mid+1\n",
    "\n",
    "            else:\n",
    "                if nums[high] >= target and nums[mid] <= target:\n",
    "                    low = mid+ 1\n",
    "                else:\n",
    "                    high = mid -1\n",
    "            \n",
    "        return False\n"
   ]
  },
  {
   "cell_type": "code",
   "execution_count": null,
   "id": "fad381cd",
   "metadata": {},
   "outputs": [],
   "source": []
  }
 ],
 "metadata": {
  "kernelspec": {
   "display_name": "Python 3 (ipykernel)",
   "language": "python",
   "name": "python3"
  },
  "language_info": {
   "codemirror_mode": {
    "name": "ipython",
    "version": 3
   },
   "file_extension": ".py",
   "mimetype": "text/x-python",
   "name": "python",
   "nbconvert_exporter": "python",
   "pygments_lexer": "ipython3",
   "version": "3.11.4"
  }
 },
 "nbformat": 4,
 "nbformat_minor": 5
}
