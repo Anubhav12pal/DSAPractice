{
 "cells": [
  {
   "cell_type": "code",
   "execution_count": 1,
   "id": "95a70378",
   "metadata": {},
   "outputs": [],
   "source": [
    "class Solution(object):\n",
    "    def countNegatives(self, grid):\n",
    "        \"\"\"\n",
    "        :type grid: List[List[int]]\n",
    "        :rtype: int\n",
    "\n",
    "        4   3   2  -1 \n",
    "        3   2   1  -1\n",
    "        1   1  -1  -2\n",
    "        -1 -1  -2  -3\n",
    "\n",
    "\n",
    "\n",
    "        if num at a particgrid is neg then all numbers below it are negative\n",
    "        start from top right\n",
    "        if -ve then we move to left\n",
    "        if not -ve we can move down\n",
    "        \"\"\"\n",
    "\n",
    "\n",
    "        row = 0\n",
    "        col= len(grid[0])-1\n",
    "\n",
    "        count = 0\n",
    "\n",
    "        while row < len(grid) and col >-1:\n",
    "\n",
    "            if grid[row][col] < 0:\n",
    "                count += len(grid) - row\n",
    "                col -= 1\n",
    "            else:\n",
    "                row += 1\n",
    "        return count\n",
    "\n",
    "\n",
    "\n",
    "        "
   ]
  },
  {
   "cell_type": "code",
   "execution_count": null,
   "id": "31668dc7",
   "metadata": {},
   "outputs": [],
   "source": []
  }
 ],
 "metadata": {
  "kernelspec": {
   "display_name": "Python 3 (ipykernel)",
   "language": "python",
   "name": "python3"
  },
  "language_info": {
   "codemirror_mode": {
    "name": "ipython",
    "version": 3
   },
   "file_extension": ".py",
   "mimetype": "text/x-python",
   "name": "python",
   "nbconvert_exporter": "python",
   "pygments_lexer": "ipython3",
   "version": "3.11.4"
  }
 },
 "nbformat": 4,
 "nbformat_minor": 5
}
