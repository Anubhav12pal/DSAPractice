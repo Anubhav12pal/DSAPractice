{
 "cells": [
  {
   "cell_type": "code",
   "execution_count": 1,
   "id": "04139246",
   "metadata": {},
   "outputs": [],
   "source": [
    "class Solution:\n",
    "    def floorSqrt(self, n): \n",
    "        \n",
    "        l = 1\n",
    "        h = n\n",
    "        ans = -1\n",
    "        while l <= h:\n",
    "            mid = (l +h) //2\n",
    "            \n",
    "            if mid * mid > n:\n",
    "                h = mid - 1\n",
    "            else:\n",
    "                ans  = mid\n",
    "                l = mid +1\n",
    "        return ans"
   ]
  },
  {
   "cell_type": "code",
   "execution_count": 2,
   "id": "0368d6af",
   "metadata": {},
   "outputs": [
    {
     "data": {
      "text/plain": [
       "'\\n\\nwe go to the mid and check the sq of that if it is greateer than n then it cannot b ethe sqrt and we need a \\nnumebr less than that so we shrink h\\n\\nelse we can go higher till we get the ans so we shrink left\\n\\n\\n\\n'"
      ]
     },
     "execution_count": 2,
     "metadata": {},
     "output_type": "execute_result"
    }
   ],
   "source": [
    "'''\n",
    "\n",
    "we go to the mid and check the sq of that if it is greateer than n then it cannot b ethe sqrt and we need a \n",
    "numebr less than that so we shrink h\n",
    "\n",
    "else we can go higher till we get the ans so we shrink left\n",
    "\n",
    "\n",
    "\n",
    "'''"
   ]
  },
  {
   "cell_type": "code",
   "execution_count": null,
   "id": "95d1fe96",
   "metadata": {},
   "outputs": [],
   "source": []
  }
 ],
 "metadata": {
  "kernelspec": {
   "display_name": "Python 3 (ipykernel)",
   "language": "python",
   "name": "python3"
  },
  "language_info": {
   "codemirror_mode": {
    "name": "ipython",
    "version": 3
   },
   "file_extension": ".py",
   "mimetype": "text/x-python",
   "name": "python",
   "nbconvert_exporter": "python",
   "pygments_lexer": "ipython3",
   "version": "3.11.4"
  }
 },
 "nbformat": 4,
 "nbformat_minor": 5
}
