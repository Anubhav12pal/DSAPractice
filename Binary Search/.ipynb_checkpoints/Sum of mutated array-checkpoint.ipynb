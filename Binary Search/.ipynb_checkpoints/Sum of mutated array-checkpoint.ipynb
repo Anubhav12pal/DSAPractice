{
 "cells": [
  {
   "cell_type": "code",
   "execution_count": 1,
   "id": "ce13b9c0",
   "metadata": {},
   "outputs": [],
   "source": [
    "class Solution(object):\n",
    "    def findBestValue(self, arr, target):\n",
    "        \"\"\"\n",
    "        :type arr: List[int]\n",
    "        :type target: int\n",
    "        :rtype: int\n",
    "\n",
    "\n",
    "        return an integer what can be the min and max value of  that int?? \n",
    "        min is the lowest value in the array and max will be the highest val inn the array\n",
    "        \"\"\"\n",
    "\n",
    "        def f(num):\n",
    "\n",
    "            s = 0\n",
    "\n",
    "            for i in arr:\n",
    "\n",
    "                if i > num:\n",
    "                    s += num\n",
    "                else:\n",
    "                    s += i\n",
    "            return s\n",
    "\n",
    "\n",
    "        ans = None\n",
    "        sumCheck = float('inf')\n",
    "\n",
    "        low = 0\n",
    "        high = max(arr)\n",
    "\n",
    "\n",
    "        while low <= high:\n",
    "\n",
    "            mid = (low + high) // 2\n",
    "\n",
    "           \n",
    "            changedSum = f(mid)\n",
    "            difference = abs(changedSum - target)\n",
    "            if difference < sumCheck or (difference == sumCheck and mid < ans):\n",
    "                ans = mid\n",
    "                sumCheck = difference\n",
    "            if changedSum < target:\n",
    "                low = mid + 1\n",
    "            else:\n",
    "                high = mid - 1\n",
    "                \n",
    "            \n",
    "        return ans\n",
    "                    \n",
    "\n",
    "        "
   ]
  },
  {
   "cell_type": "code",
   "execution_count": null,
   "id": "c7eebcd5",
   "metadata": {},
   "outputs": [],
   "source": []
  }
 ],
 "metadata": {
  "kernelspec": {
   "display_name": "Python 3 (ipykernel)",
   "language": "python",
   "name": "python3"
  },
  "language_info": {
   "codemirror_mode": {
    "name": "ipython",
    "version": 3
   },
   "file_extension": ".py",
   "mimetype": "text/x-python",
   "name": "python",
   "nbconvert_exporter": "python",
   "pygments_lexer": "ipython3",
   "version": "3.11.4"
  }
 },
 "nbformat": 4,
 "nbformat_minor": 5
}
