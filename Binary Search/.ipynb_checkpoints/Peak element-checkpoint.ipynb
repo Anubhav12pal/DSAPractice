{
 "cells": [
  {
   "cell_type": "code",
   "execution_count": 1,
   "id": "de7a0075",
   "metadata": {},
   "outputs": [],
   "source": [
    "class Solution(object):\n",
    "    def findPeakElement(self, nums):\n",
    "        \"\"\"\n",
    "        :type nums: List[int]\n",
    "        :rtype: int\n",
    "\n",
    "\n",
    "        1,2,1,3,5,6,4\n",
    "        0 1 2 3 4 5 6\n",
    "\n",
    "\n",
    "        1 2 4 3 5 6 7 8 7\n",
    "        \"\"\"\n",
    "\n",
    "\n",
    "        l = 0\n",
    "        r = len(nums) - 1\n",
    "\n",
    "        if r == 0:\n",
    "            return 0\n",
    "        if nums[l] > nums[l + 1]:\n",
    "            return 0\n",
    "\n",
    "        if nums[r] > nums[r - 1]:\n",
    "            return r\n",
    "\n",
    "        l += 1\n",
    "        r -= 1\n",
    "\n",
    "        while l <= r:\n",
    "\n",
    "\n",
    "            m = (l + r) // 2\n",
    "\n",
    "            if nums[m] > nums[m-1] and nums[m] > nums[m + 1]:\n",
    "                return m\n",
    "            elif nums[m] < nums[m + 1]:\n",
    "                l = m + 1\n",
    "            else:\n",
    "                r = m - 1\n",
    "        \n",
    "\n",
    "        \n",
    "        \n",
    "        \n",
    "\n",
    "        "
   ]
  },
  {
   "cell_type": "code",
   "execution_count": null,
   "id": "ea166a90",
   "metadata": {},
   "outputs": [],
   "source": []
  }
 ],
 "metadata": {
  "kernelspec": {
   "display_name": "Python 3 (ipykernel)",
   "language": "python",
   "name": "python3"
  },
  "language_info": {
   "codemirror_mode": {
    "name": "ipython",
    "version": 3
   },
   "file_extension": ".py",
   "mimetype": "text/x-python",
   "name": "python",
   "nbconvert_exporter": "python",
   "pygments_lexer": "ipython3",
   "version": "3.11.4"
  }
 },
 "nbformat": 4,
 "nbformat_minor": 5
}
