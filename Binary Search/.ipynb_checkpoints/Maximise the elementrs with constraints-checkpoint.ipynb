{
 "cells": [
  {
   "cell_type": "code",
   "execution_count": 1,
   "id": "6c68e38b",
   "metadata": {},
   "outputs": [],
   "source": [
    "def maxElement(n, maxSum, k):\n",
    "    # Write your code here\n",
    "    \n",
    "    l = 0\n",
    "    \n",
    "    h = maxSum\n",
    "    \n",
    "    \n",
    "    def findS(value):\n",
    "        s = value  # Peak element\n",
    "        t = value - 1\n",
    "\n",
    "        # Sum left side\n",
    "        for i in range(k - 1, -1, -1):\n",
    "            s += max(t, 1)  # Ensure values don't go below 1\n",
    "            t -= 1\n",
    "        \n",
    "        # Reset t for right side\n",
    "        t = value - 1\n",
    "        for i in range(k + 1, n):\n",
    "            s += max(t, 1)\n",
    "            t -= 1\n",
    "        \n",
    "        return s\n",
    "        \n",
    "       \n",
    "        \n",
    "    \n",
    "    ans = -1\n",
    "    while l <= h:\n",
    "        \n",
    "        mid = (l + h) // 2\n",
    "        \n",
    "        cs = findS(mid)\n",
    "        if cs <= maxSum:\n",
    "            ans = max(ans, mid)\n",
    "            l = mid + 1\n",
    "        else:\n",
    "            h = mid - 1\n",
    "    return ans"
   ]
  },
  {
   "cell_type": "code",
   "execution_count": 2,
   "id": "7cb31c4f",
   "metadata": {},
   "outputs": [
    {
     "data": {
      "text/plain": [
       "'\\nAs num can only be pos tghen we keep them 1 instead of -ve or 0\\n\\n'"
      ]
     },
     "execution_count": 2,
     "metadata": {},
     "output_type": "execute_result"
    }
   ],
   "source": [
    "'''\n",
    "As num can only be pos tghen we keep them 1 instead of -ve or 0\n",
    "\n",
    "'''"
   ]
  },
  {
   "cell_type": "code",
   "execution_count": null,
   "id": "1788921f",
   "metadata": {},
   "outputs": [],
   "source": []
  }
 ],
 "metadata": {
  "kernelspec": {
   "display_name": "Python 3 (ipykernel)",
   "language": "python",
   "name": "python3"
  },
  "language_info": {
   "codemirror_mode": {
    "name": "ipython",
    "version": 3
   },
   "file_extension": ".py",
   "mimetype": "text/x-python",
   "name": "python",
   "nbconvert_exporter": "python",
   "pygments_lexer": "ipython3",
   "version": "3.11.4"
  }
 },
 "nbformat": 4,
 "nbformat_minor": 5
}
