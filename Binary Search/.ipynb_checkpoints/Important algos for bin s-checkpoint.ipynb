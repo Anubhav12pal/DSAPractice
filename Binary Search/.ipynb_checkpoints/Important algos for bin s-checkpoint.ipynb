{
 "cells": [
  {
   "cell_type": "code",
   "execution_count": 1,
   "id": "e4b094d7",
   "metadata": {},
   "outputs": [
    {
     "data": {
      "text/plain": [
       "'\\n\\n\\nLower bound and upper bound\\n\\n\\nLowerbound is smallestv number greater than = to a number :\\n\\n1234667:\\nHere lowerbound of 5 is 6 if 5 was there then that would hgave been the case:\\n\\nwhile l <= r:\\n\\n\\nif a[m] > target:\\nthen this is a possible answer store mid and move r = m-1\\nelse:\\nmove l = m + 1\\n\\n'"
      ]
     },
     "execution_count": 1,
     "metadata": {},
     "output_type": "execute_result"
    }
   ],
   "source": [
    "'''\n",
    "\n",
    "\n",
    "Lower bound and upper bound\n",
    "\n",
    "\n",
    "Lowerbound is smallestv number greater than = to a number :\n",
    "\n",
    "1234667:\n",
    "Here lowerbound of 5 is 6 if 5 was there then that would hgave been the case:\n",
    "\n",
    "while l <= r:\n",
    "\n",
    "\n",
    "if a[m] > target:\n",
    "then this is a possible answer store mid and move r = m-1\n",
    "else:\n",
    "move l = m + 1\n",
    "\n",
    "'''"
   ]
  },
  {
   "cell_type": "code",
   "execution_count": null,
   "id": "de4fa92f",
   "metadata": {},
   "outputs": [],
   "source": []
  }
 ],
 "metadata": {
  "kernelspec": {
   "display_name": "Python 3 (ipykernel)",
   "language": "python",
   "name": "python3"
  },
  "language_info": {
   "codemirror_mode": {
    "name": "ipython",
    "version": 3
   },
   "file_extension": ".py",
   "mimetype": "text/x-python",
   "name": "python",
   "nbconvert_exporter": "python",
   "pygments_lexer": "ipython3",
   "version": "3.11.4"
  }
 },
 "nbformat": 4,
 "nbformat_minor": 5
}
