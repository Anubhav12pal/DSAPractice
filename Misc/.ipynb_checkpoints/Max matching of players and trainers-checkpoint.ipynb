{
 "cells": [
  {
   "cell_type": "code",
   "execution_count": 2,
   "id": "9e60041a",
   "metadata": {},
   "outputs": [],
   "source": [
    "class Solution:\n",
    "    def matchPlayersAndTrainers(self, players, trainers):\n",
    "\n",
    "\n",
    "        '''\n",
    "\n",
    "        player[i] < trainer[i]\n",
    "\n",
    "        4 7 9\n",
    "        2 5 8 8\n",
    "\n",
    "        if not satiusfied then we move the trainer \n",
    "        if it does then we move botha nd inc the count\n",
    "\n",
    "\n",
    "        '''\n",
    "\n",
    "        n = len(players)\n",
    "        m = len(trainers)\n",
    "        players.sort()\n",
    "        trainers.sort()\n",
    "\n",
    "        i = 0\n",
    "        j = 0\n",
    "\n",
    "        ans = 0\n",
    "\n",
    "        while i < n and j < m:\n",
    "\n",
    "            if players[i] <= trainers[j]:\n",
    "                i += 1\n",
    "                j += 1\n",
    "                ans += 1\n",
    "            else:\n",
    "                j += 1\n",
    "        return ans\n",
    "\n",
    "\n",
    "        "
   ]
  },
  {
   "cell_type": "code",
   "execution_count": null,
   "id": "a86dc28e",
   "metadata": {},
   "outputs": [],
   "source": []
  },
  {
   "cell_type": "code",
   "execution_count": null,
   "id": "25c3ac6c",
   "metadata": {},
   "outputs": [],
   "source": []
  }
 ],
 "metadata": {
  "kernelspec": {
   "display_name": "Python 3 (ipykernel)",
   "language": "python",
   "name": "python3"
  },
  "language_info": {
   "codemirror_mode": {
    "name": "ipython",
    "version": 3
   },
   "file_extension": ".py",
   "mimetype": "text/x-python",
   "name": "python",
   "nbconvert_exporter": "python",
   "pygments_lexer": "ipython3",
   "version": "3.11.4"
  }
 },
 "nbformat": 4,
 "nbformat_minor": 5
}
