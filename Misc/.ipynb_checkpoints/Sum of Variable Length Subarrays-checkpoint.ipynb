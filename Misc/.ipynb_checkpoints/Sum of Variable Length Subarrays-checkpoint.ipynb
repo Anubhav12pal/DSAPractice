{
 "cells": [
  {
   "cell_type": "code",
   "execution_count": 11,
   "id": "780bae74",
   "metadata": {},
   "outputs": [
    {
     "data": {
      "text/plain": [
       "'\\n\\nOptimal pref sum:\\nsimilar logic as brute but here to calculate the sum from start to i we just subtract the pref[start-1] form pref[i]\\n\\n'"
      ]
     },
     "execution_count": 11,
     "metadata": {},
     "output_type": "execute_result"
    }
   ],
   "source": [
    "'''\n",
    "\n",
    "Optimal pref sum:\n",
    "similar logic as brute but here to calculate the sum from start to i we just subtract the pref[start-1] form pref[i]\n",
    "\n",
    "'''"
   ]
  },
  {
   "cell_type": "code",
   "execution_count": 12,
   "id": "7a2cd942",
   "metadata": {},
   "outputs": [],
   "source": [
    "class Solution:\n",
    "    def subarraySum(self, nums):\n",
    "\n",
    "\n",
    "        '''\n",
    "\n",
    "        for every index sum of all subarrays form start to i\n",
    "\n",
    "        start = max(0, i - nums[i])\n",
    "\n",
    "        at 0:\n",
    "        form 0\n",
    "        at 1:\n",
    "        start = max(0, 1-3)\n",
    "\n",
    "        at 2:\n",
    "        start = max(0, 2-1)\n",
    "\n",
    "\n",
    "        1 2 3 4 5\n",
    "        1 3 6 10 15\n",
    "\n",
    "\n",
    "        '''\n",
    "\n",
    "\n",
    "        s = 0\n",
    "        n = len(nums)\n",
    "        pref = []\n",
    "\n",
    "\n",
    "        for i in range(n):\n",
    "            s += nums[i]\n",
    "            pref.append(s)\n",
    "\n",
    "        ans = 0\n",
    "\n",
    "        for i in range(n):\n",
    "\n",
    "\n",
    "            start = max(0, i-nums[i])\n",
    "\n",
    "            if start == 0:\n",
    "                ans += pref[i]\n",
    "            else:\n",
    "                ans += pref[i] - pref[start-1]\n",
    "        return ans\n"
   ]
  },
  {
   "cell_type": "code",
   "execution_count": 13,
   "id": "768768ca",
   "metadata": {},
   "outputs": [
    {
     "data": {
      "text/plain": [
       "'\\nBelow is the brute force:\\n\\nIn this we find start all the time and then iterate the array from stary to the wante index every time\\n\\n\\n'"
      ]
     },
     "execution_count": 13,
     "metadata": {},
     "output_type": "execute_result"
    }
   ],
   "source": [
    "'''\n",
    "Below is the brute force:\n",
    "\n",
    "In this we find start all the time and then iterate the array from stary to the wante index every time\n",
    "\n",
    "\n",
    "'''"
   ]
  },
  {
   "cell_type": "code",
   "execution_count": 14,
   "id": "20c75e7a",
   "metadata": {},
   "outputs": [],
   "source": [
    "class Solution:\n",
    "    def subarraySum(self, nums):\n",
    "\n",
    "\n",
    "        '''\n",
    "\n",
    "        for every index sum of all subarrays form start to i\n",
    "\n",
    "        start = max(0, i - nums[i])\n",
    "\n",
    "        at 0:\n",
    "        form 0\n",
    "        at 1:\n",
    "        start = max(0, 1-3)\n",
    "\n",
    "        at 2:\n",
    "        start = max(0, 2-1)\n",
    "\n",
    "\n",
    "\n",
    "        '''\n",
    "\n",
    "\n",
    "        ans = 0\n",
    "        n = len(nums)\n",
    "\n",
    "        for i in range(n):\n",
    "\n",
    "            start = max(0, i - nums[i])\n",
    "\n",
    "            sum = 0\n",
    "            for j in range(start, i + 1):\n",
    "                sum += nums[j]\n",
    "\n",
    "            ans += sum\n",
    "        return ans"
   ]
  },
  {
   "cell_type": "code",
   "execution_count": null,
   "id": "8ffa9aca",
   "metadata": {},
   "outputs": [],
   "source": []
  }
 ],
 "metadata": {
  "kernelspec": {
   "display_name": "Python 3 (ipykernel)",
   "language": "python",
   "name": "python3"
  },
  "language_info": {
   "codemirror_mode": {
    "name": "ipython",
    "version": 3
   },
   "file_extension": ".py",
   "mimetype": "text/x-python",
   "name": "python",
   "nbconvert_exporter": "python",
   "pygments_lexer": "ipython3",
   "version": "3.11.4"
  }
 },
 "nbformat": 4,
 "nbformat_minor": 5
}
