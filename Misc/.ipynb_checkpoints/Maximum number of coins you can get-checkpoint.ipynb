{
 "cells": [
  {
   "cell_type": "code",
   "execution_count": 3,
   "id": "f4316283",
   "metadata": {},
   "outputs": [],
   "source": [
    "class Solution:\n",
    "    def maxCoins(self, piles):\n",
    "\n",
    "\n",
    "        '''\n",
    "\n",
    "This problem is simple:\n",
    "\n",
    "As bob is given the smallest possible amount u gie him the smallest amount and then from the next element \n",
    "u pick every alternate element as u wanna maximise the answer its better to do that in sorted order\n",
    " \n",
    "\n",
    "        '''\n",
    "\n",
    "        temp = sorted(piles)\n",
    "\n",
    "        n = len(piles) // 3\n",
    "\n",
    "        ans = 0\n",
    "        for i in range(n, len(piles), 2):\n",
    "\n",
    "            ans += temp[i]\n",
    "\n",
    "        return ans"
   ]
  },
  {
   "cell_type": "code",
   "execution_count": null,
   "id": "4deea4b5",
   "metadata": {},
   "outputs": [],
   "source": []
  },
  {
   "cell_type": "code",
   "execution_count": null,
   "id": "a9afa013",
   "metadata": {},
   "outputs": [],
   "source": []
  }
 ],
 "metadata": {
  "kernelspec": {
   "display_name": "Python 3 (ipykernel)",
   "language": "python",
   "name": "python3"
  },
  "language_info": {
   "codemirror_mode": {
    "name": "ipython",
    "version": 3
   },
   "file_extension": ".py",
   "mimetype": "text/x-python",
   "name": "python",
   "nbconvert_exporter": "python",
   "pygments_lexer": "ipython3",
   "version": "3.11.4"
  }
 },
 "nbformat": 4,
 "nbformat_minor": 5
}
