{
 "cells": [
  {
   "cell_type": "code",
   "execution_count": 2,
   "id": "7228e2cc",
   "metadata": {},
   "outputs": [],
   "source": [
    "from typing import List\n",
    "\n",
    "class Solution:\n",
    "    def hIndex(self, citations: List[int]) -> int:\n",
    "        n = len(citations) \n",
    "        l, h = 0, n - 1 \n",
    "        ans = 0 \n",
    "\n",
    "\n",
    "        '''\n",
    "\n",
    "        Simple case if we equal then return\n",
    "        else if citations[i] > pos then we need to search left\n",
    "        else\n",
    "        we need to search right\n",
    "\n",
    "        in the end of we dont find anything we return n-l as even if we dont encounter an optimal number the current index is the most optimal point we have found we return that\n",
    "\n",
    "\n",
    "        '''\n",
    "\n",
    "        while l <= h:\n",
    "            mid = (l + h) // 2  \n",
    "            pos = n - mid\n",
    "\n",
    "            if citations[mid] == pos:\n",
    "                return pos\n",
    "            elif citations[mid] < pos :\n",
    "               \n",
    "                l = mid + 1  \n",
    "\n",
    "            else:\n",
    "                h = mid - 1\n",
    "\n",
    "\n",
    "        return n - l\n"
   ]
  },
  {
   "cell_type": "code",
   "execution_count": null,
   "id": "13cc5f74",
   "metadata": {},
   "outputs": [],
   "source": []
  },
  {
   "cell_type": "code",
   "execution_count": null,
   "id": "3b8e6b05",
   "metadata": {},
   "outputs": [],
   "source": []
  },
  {
   "cell_type": "code",
   "execution_count": null,
   "id": "2b5cd9d3",
   "metadata": {},
   "outputs": [],
   "source": []
  }
 ],
 "metadata": {
  "kernelspec": {
   "display_name": "Python 3 (ipykernel)",
   "language": "python",
   "name": "python3"
  },
  "language_info": {
   "codemirror_mode": {
    "name": "ipython",
    "version": 3
   },
   "file_extension": ".py",
   "mimetype": "text/x-python",
   "name": "python",
   "nbconvert_exporter": "python",
   "pygments_lexer": "ipython3",
   "version": "3.11.4"
  }
 },
 "nbformat": 4,
 "nbformat_minor": 5
}
