{
 "cells": [
  {
   "cell_type": "code",
   "execution_count": 2,
   "id": "75cbf9e1",
   "metadata": {},
   "outputs": [],
   "source": [
    "class Solution:\n",
    "    def highestPeak(self, isWater):\n",
    "\n",
    "\n",
    "\n",
    "        n = len(isWater)\n",
    "        m = len(isWater[0])\n",
    "\n",
    "        ans = [[-1 for _ in range(m)] for _ in range(n)]\n",
    "\n",
    "        q = deque()\n",
    "\n",
    "\n",
    "        for i in range(n):\n",
    "            for j in range(m):\n",
    "\n",
    "                if isWater[i][j] == 1:\n",
    "                    ans[i][j] = 0\n",
    "                    q.append([i,j])\n",
    "        \n",
    "        delr = [-1, 0, 1, 0]\n",
    "        delc = [0, 1, 0, -1]\n",
    "        while q:\n",
    "\n",
    "            row, col = q.popleft()\n",
    "\n",
    "            for i in range(4):\n",
    "                newr = delr[i] + row\n",
    "                newc = delc[i] + col\n",
    "\n",
    "                if newr >=0 and newr <n and newc >= 0 and newc < m and ans[newr][newc] == -1 and isWater[newr][newc] == 0:\n",
    "                    ans[newr][newc] = 1 + ans[row][col]\n",
    "                    q.append([newr, newc])\n",
    "        return ans\n",
    "\n",
    "\n",
    "\n",
    "\n",
    "        "
   ]
  },
  {
   "cell_type": "code",
   "execution_count": null,
   "id": "3d4a817e",
   "metadata": {},
   "outputs": [],
   "source": []
  }
 ],
 "metadata": {
  "kernelspec": {
   "display_name": "Python 3 (ipykernel)",
   "language": "python",
   "name": "python3"
  },
  "language_info": {
   "codemirror_mode": {
    "name": "ipython",
    "version": 3
   },
   "file_extension": ".py",
   "mimetype": "text/x-python",
   "name": "python",
   "nbconvert_exporter": "python",
   "pygments_lexer": "ipython3",
   "version": "3.11.4"
  }
 },
 "nbformat": 4,
 "nbformat_minor": 5
}
