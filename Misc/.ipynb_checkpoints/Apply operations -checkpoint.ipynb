{
 "cells": [
  {
   "cell_type": "code",
   "execution_count": 1,
   "id": "5962edc7",
   "metadata": {},
   "outputs": [],
   "source": [
    "from typing import List\n",
    "\n",
    "class Solution:\n",
    "    def applyOperations(self, nums: List[int]) -> List[int]:\n",
    "        n = len(nums)\n",
    "        for i in range(n-1):\n",
    "            if nums[i] == nums[i + 1]:\n",
    "                nums[i] *= 2\n",
    "                nums[i +1] = 0\n",
    "        '''\n",
    "\n",
    "\n",
    "        0 0 1 2 0 \n",
    "\n",
    "        1 0 2 0 0 1\n",
    "\n",
    "        1 0 2 0 0 1\n",
    "\n",
    "        1 2 0 0 2 3 4 5 0 0 \n",
    "\n",
    "        1 2 2 3 0 0 4 5 0 0 \n",
    "\n",
    "        '''\n",
    "\n",
    "        i = 0\n",
    "        for j in range(n):\n",
    "\n",
    "            if nums[j] != 0:\n",
    "                nums[i], nums[j] = nums[j], nums[i]\n",
    "                i += 1\n",
    "        return nums\n",
    "\n",
    "\n",
    "        "
   ]
  },
  {
   "cell_type": "code",
   "execution_count": 2,
   "id": "35e2f8c4",
   "metadata": {},
   "outputs": [
    {
     "data": {
      "text/plain": [
       "\"\\n\\nSimple logic apply the operations and then add 0's to the end\\n\\nwhenever u find a non 0 in the array swap it with a[i] and this time incerment the i as well.\\nUse j to traverse\\n\\n\\n\""
      ]
     },
     "execution_count": 2,
     "metadata": {},
     "output_type": "execute_result"
    }
   ],
   "source": [
    "'''\n",
    "\n",
    "Simple logic apply the operations and then add 0's to the end\n",
    "\n",
    "whenever u find a non 0 in the array swap it with a[i] and this time incerment the i as well.\n",
    "Use j to traverse\n",
    "\n",
    "\n",
    "'''"
   ]
  },
  {
   "cell_type": "code",
   "execution_count": null,
   "id": "60c2dea4",
   "metadata": {},
   "outputs": [],
   "source": []
  }
 ],
 "metadata": {
  "kernelspec": {
   "display_name": "Python 3 (ipykernel)",
   "language": "python",
   "name": "python3"
  },
  "language_info": {
   "codemirror_mode": {
    "name": "ipython",
    "version": 3
   },
   "file_extension": ".py",
   "mimetype": "text/x-python",
   "name": "python",
   "nbconvert_exporter": "python",
   "pygments_lexer": "ipython3",
   "version": "3.11.4"
  }
 },
 "nbformat": 4,
 "nbformat_minor": 5
}
