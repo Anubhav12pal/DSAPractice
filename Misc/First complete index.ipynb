{
 "cells": [
  {
   "cell_type": "code",
   "execution_count": 2,
   "id": "4d91728f",
   "metadata": {},
   "outputs": [],
   "source": [
    "from typing import List\n",
    "\n",
    "class Solution:\n",
    "    def firstCompleteIndex(self, arr: List[int], mat: List[List[int]]) -> int:\n",
    "        ma = {}  # Tracks filled cells in each row\n",
    "        m2 = {}  # Tracks filled cells in each column\n",
    "        pos = {}  # Maps values in mat to their positions (row, col)\n",
    "\n",
    "        n = len(mat)       # Number of rows\n",
    "        m = len(mat[0])    # Number of columns\n",
    "        l = len(arr)       # Length of the array\n",
    "\n",
    "        # Initialize row and column trackers\n",
    "        for i in range(n):\n",
    "            ma[i] = 0\n",
    "        for i in range(m):\n",
    "            m2[i] = 0\n",
    "\n",
    "        # Precompute positions of elements in the matrix\n",
    "        for j in range(n):\n",
    "            for k in range(m):\n",
    "                pos[mat[j][k]] = (j, k)\n",
    "\n",
    "        # Traverse the array\n",
    "        for i in range(l):\n",
    "            if arr[i] in pos:\n",
    "                row, col = pos[arr[i]]  # Get the position of arr[i] in the matrix\n",
    "                ma[row] += 1           # Increment row tracker\n",
    "                m2[col] += 1           # Increment column tracker\n",
    "\n",
    "                # Check if row or column is completely filled\n",
    "                if ma[row] == m or m2[col] == n:\n",
    "                    return i\n",
    "\n",
    "        # If no row or column is completely filled\n",
    "        return -1\n"
   ]
  },
  {
   "cell_type": "code",
   "execution_count": null,
   "id": "895a498e",
   "metadata": {},
   "outputs": [],
   "source": []
  }
 ],
 "metadata": {
  "kernelspec": {
   "display_name": "Python 3 (ipykernel)",
   "language": "python",
   "name": "python3"
  },
  "language_info": {
   "codemirror_mode": {
    "name": "ipython",
    "version": 3
   },
   "file_extension": ".py",
   "mimetype": "text/x-python",
   "name": "python",
   "nbconvert_exporter": "python",
   "pygments_lexer": "ipython3",
   "version": "3.11.4"
  }
 },
 "nbformat": 4,
 "nbformat_minor": 5
}
