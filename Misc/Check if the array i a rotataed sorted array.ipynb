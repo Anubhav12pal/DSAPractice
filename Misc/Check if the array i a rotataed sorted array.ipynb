{
 "cells": [
  {
   "cell_type": "code",
   "execution_count": 12,
   "id": "8e8c4e4a",
   "metadata": {},
   "outputs": [],
   "source": [
    "\n",
    "    def check(nums):\n",
    "\n",
    "        \n",
    "        ind = -1\n",
    "        \n",
    "\n",
    "\n",
    "        n = len(nums)\n",
    "        if n == 1:\n",
    "            return True\n",
    "        if n == 2:\n",
    "            return True\n",
    "        for i in range(n - 1):\n",
    "\n",
    "            if nums[i] > nums[i + 1]:\n",
    "                ind = i\n",
    "                break\n",
    "        if ind == -1:\n",
    "            return True\n",
    "        print(i + 1)\n",
    "        \n",
    "        if ind + 1 == n-1:\n",
    "            if nums[0] > nums[i + 1]:\n",
    "                return True\n",
    "        for i in range(ind + 1, n-1):\n",
    "            if nums[i] > nums[i + 1]:\n",
    "\n",
    "                \n",
    "                return False\n",
    "        if nums[n - 1] > nums[0]:\n",
    "            return False\n",
    "        return True\n",
    "\n",
    "\n",
    "            \n",
    "        "
   ]
  },
  {
   "cell_type": "code",
   "execution_count": 13,
   "id": "21cc3476",
   "metadata": {},
   "outputs": [
    {
     "name": "stdout",
     "output_type": "stream",
     "text": [
      "2\n"
     ]
    },
    {
     "data": {
      "text/plain": [
       "False"
      ]
     },
     "execution_count": 13,
     "metadata": {},
     "output_type": "execute_result"
    }
   ],
   "source": [
    "check([2,7,4,1,2,6,2])"
   ]
  },
  {
   "cell_type": "code",
   "execution_count": null,
   "id": "736c6931",
   "metadata": {},
   "outputs": [],
   "source": []
  }
 ],
 "metadata": {
  "kernelspec": {
   "display_name": "Python 3 (ipykernel)",
   "language": "python",
   "name": "python3"
  },
  "language_info": {
   "codemirror_mode": {
    "name": "ipython",
    "version": 3
   },
   "file_extension": ".py",
   "mimetype": "text/x-python",
   "name": "python",
   "nbconvert_exporter": "python",
   "pygments_lexer": "ipython3",
   "version": "3.11.4"
  }
 },
 "nbformat": 4,
 "nbformat_minor": 5
}
