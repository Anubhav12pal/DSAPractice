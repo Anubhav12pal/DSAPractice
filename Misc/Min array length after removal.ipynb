{
 "cells": [
  {
   "cell_type": "code",
   "execution_count": 20,
   "id": "9bdce5a6",
   "metadata": {},
   "outputs": [],
   "source": [
    "class Solution:\n",
    "    def minLengthAfterRemovals(self, nums):\n",
    "\n",
    "        '''\n",
    "\n",
    "        2,3,4,4,4\n",
    "\n",
    "        n = 5\n",
    "        mid = 2\n",
    "        a1 = [234]\n",
    "        a2 = [44]\n",
    "\n",
    "        '''\n",
    "        n = len(nums)\n",
    "        mid = 0\n",
    "\n",
    "        if len == 1:\n",
    "            return 1\n",
    "\n",
    "\n",
    "        if n % 2 ==1:\n",
    "            mid = n//2\n",
    "        else:\n",
    "            mid = (n // 2) - 1\n",
    "\n",
    "        c = 0\n",
    "\n",
    "        s = 0\n",
    "        \n",
    "        for i in range(mid + 1, n):\n",
    "\n",
    "            if nums[s] < nums[i]:\n",
    "                c += 2\n",
    "            s += 1\n",
    "        \n",
    "        return n-c\n",
    "        "
   ]
  },
  {
   "cell_type": "code",
   "execution_count": 21,
   "id": "22b9a7d0",
   "metadata": {},
   "outputs": [
    {
     "name": "stdout",
     "output_type": "stream",
     "text": [
      "[2, 3, 4]\n",
      "[4, 4]\n",
      "4\n"
     ]
    },
    {
     "data": {
      "text/plain": [
       "2"
      ]
     },
     "execution_count": 21,
     "metadata": {},
     "output_type": "execute_result"
    }
   ],
   "source": [
    "minLengthAfterRemovals([2,3,4,4,4])"
   ]
  },
  {
   "cell_type": "code",
   "execution_count": 23,
   "id": "3867001b",
   "metadata": {},
   "outputs": [
    {
     "data": {
      "text/plain": [
       "'\\n\\nBasically we cant check adj elements as they are common or we cant do checks from start with end as some commo n elements \\nwill be left in the middle that wont be counted\\n\\nSo we split the array from the middle and then compare each index of those array \\n\\nTo reduce extra space we just track indexes\\n\\n\\n\\n'"
      ]
     },
     "execution_count": 23,
     "metadata": {},
     "output_type": "execute_result"
    }
   ],
   "source": [
    "'''\n",
    "\n",
    "Basically we cant check adj elements as they are common or we cant do checks from start with end as some commo n elements \n",
    "will be left in the middle that wont be counted\n",
    "\n",
    "So we split the array from the middle and then compare each index of those array \n",
    "\n",
    "To reduce extra space we just track indexes\n",
    "\n",
    "\n",
    "\n",
    "'''"
   ]
  },
  {
   "cell_type": "code",
   "execution_count": null,
   "id": "8451af8f",
   "metadata": {},
   "outputs": [],
   "source": []
  },
  {
   "cell_type": "code",
   "execution_count": null,
   "id": "7127256c",
   "metadata": {},
   "outputs": [],
   "source": []
  }
 ],
 "metadata": {
  "kernelspec": {
   "display_name": "Python 3 (ipykernel)",
   "language": "python",
   "name": "python3"
  },
  "language_info": {
   "codemirror_mode": {
    "name": "ipython",
    "version": 3
   },
   "file_extension": ".py",
   "mimetype": "text/x-python",
   "name": "python",
   "nbconvert_exporter": "python",
   "pygments_lexer": "ipython3",
   "version": "3.11.4"
  }
 },
 "nbformat": 4,
 "nbformat_minor": 5
}
