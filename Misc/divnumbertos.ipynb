{
 "cells": [
  {
   "cell_type": "code",
   "execution_count": 2,
   "id": "410ce3dd",
   "metadata": {},
   "outputs": [],
   "source": [
    "class Solution:\n",
    "    def fractionToDecimal(self, numerator: int, denominator: int) -> str:\n",
    "        if numerator == 0:\n",
    "            return \"0\"\n",
    "\n",
    "        fraction = []\n",
    "        if (numerator < 0) ^ (denominator < 0):\n",
    "            fraction.append(\"-\")\n",
    "\n",
    "        dividend = abs(numerator)\n",
    "        divisor = abs(denominator)\n",
    "        fraction.append(str(dividend // divisor))\n",
    "        remainder = dividend % divisor\n",
    "        if remainder == 0:\n",
    "            return \"\".join(fraction)\n",
    "\n",
    "        fraction.append(\".\")\n",
    "        map_dict = {}\n",
    "        while remainder != 0:\n",
    "            if remainder in map_dict:\n",
    "                fraction.insert(map_dict[remainder], \"(\")\n",
    "                fraction.append(\")\")\n",
    "                break\n",
    "            map_dict[remainder] = len(fraction)\n",
    "            remainder *= 10\n",
    "            fraction.append(str(remainder // divisor))\n",
    "            remainder %= divisor\n",
    "\n",
    "        return \"\".join(fraction)"
   ]
  },
  {
   "cell_type": "code",
   "execution_count": null,
   "id": "66ab7ffc",
   "metadata": {},
   "outputs": [],
   "source": []
  }
 ],
 "metadata": {
  "kernelspec": {
   "display_name": "Python 3 (ipykernel)",
   "language": "python",
   "name": "python3"
  },
  "language_info": {
   "codemirror_mode": {
    "name": "ipython",
    "version": 3
   },
   "file_extension": ".py",
   "mimetype": "text/x-python",
   "name": "python",
   "nbconvert_exporter": "python",
   "pygments_lexer": "ipython3",
   "version": "3.11.4"
  }
 },
 "nbformat": 4,
 "nbformat_minor": 5
}
