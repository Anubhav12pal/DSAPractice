{
 "cells": [
  {
   "cell_type": "code",
   "execution_count": null,
   "metadata": {
    "vscode": {
     "languageId": "plaintext"
    }
   },
   "outputs": [],
   "source": [
    "class Solution:\n",
    "    def longestMonotonicSubarray(self, nums: List[int]) -> int:\n",
    "\n",
    "\n",
    "        cm = 1\n",
    "        cmm = 1\n",
    "        m = 1\n",
    "        lm = 1\n",
    "\n",
    "\n",
    "        for i in range(1, len(nums)):\n",
    "            if nums[i] > nums[i-1]:\n",
    "                cm += 1\n",
    "                m = max(m, cm)\n",
    "                cmm = 1\n",
    "            elif nums[i] < nums[i-1]:\n",
    "                cm = 1\n",
    "                cmm += 1\n",
    "                lm = max(lm, cmm)\n",
    "            else:\n",
    "                cm = 1\n",
    "                cmm = 1\n",
    "        \n",
    "        return max(m, lm)\n",
    "        "
   ]
  },
  {
   "cell_type": "code",
   "execution_count": null,
   "metadata": {
    "vscode": {
     "languageId": "plaintext"
    }
   },
   "outputs": [],
   "source": []
  }
 ],
 "metadata": {
  "language_info": {
   "name": "python"
  }
 },
 "nbformat": 4,
 "nbformat_minor": 2
}
