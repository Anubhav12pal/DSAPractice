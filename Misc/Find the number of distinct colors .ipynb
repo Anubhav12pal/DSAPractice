{
 "cells": [
  {
   "cell_type": "code",
   "execution_count": 2,
   "id": "67fd312b",
   "metadata": {},
   "outputs": [],
   "source": [
    "class Solution:\n",
    "    def queryResults(self, limit, queries):\n",
    "\n",
    "\n",
    "        m = {}\n",
    "\n",
    "        ballcolors = {}\n",
    "        n = len(queries)\n",
    "        ans = [0 for _ in range(n)]\n",
    "\n",
    "\n",
    "        for i in range(n):\n",
    "\n",
    "            query = queries[i]\n",
    "\n",
    "            ball = query[0]\n",
    "            color = query[1]\n",
    "\n",
    "\n",
    "            if ball in ballcolors:\n",
    "\n",
    "                prevC = ballcolors[ball]\n",
    "                m[prevC] -=1\n",
    "                if m[prevC] == 0:\n",
    "                    del m[prevC]\n",
    "\n",
    "            m[color] = 1 + m.get(color, 0)\n",
    "            ballcolors[ball] = color\n",
    "            ans[i] = len(m)\n",
    "        return ans\n",
    "\n",
    "        "
   ]
  },
  {
   "cell_type": "code",
   "execution_count": null,
   "id": "2146a47c",
   "metadata": {},
   "outputs": [],
   "source": []
  }
 ],
 "metadata": {
  "kernelspec": {
   "display_name": "Python 3 (ipykernel)",
   "language": "python",
   "name": "python3"
  },
  "language_info": {
   "codemirror_mode": {
    "name": "ipython",
    "version": 3
   },
   "file_extension": ".py",
   "mimetype": "text/x-python",
   "name": "python",
   "nbconvert_exporter": "python",
   "pygments_lexer": "ipython3",
   "version": "3.11.4"
  }
 },
 "nbformat": 4,
 "nbformat_minor": 5
}
