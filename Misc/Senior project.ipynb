{
 "cells": [
  {
   "cell_type": "code",
   "execution_count": 3,
   "id": "49f8d67a",
   "metadata": {},
   "outputs": [
    {
     "name": "stderr",
     "output_type": "stream",
     "text": [
      "Webp file does not have exif data.\n"
     ]
    },
    {
     "name": "stdout",
     "output_type": "stream",
     "text": [
      "Format: WEBP\n",
      "Size: (1600, 1055)\n",
      "Mode: RGB\n",
      "(1055, 1600, 3)\n",
      "[[[126 127 163]\n",
      "  [126 127 163]\n",
      "  [127 128 164]\n",
      "  ...\n",
      "  [ 38  76 154]\n",
      "  [ 38  78 155]\n",
      "  [ 36  78 155]]\n",
      "\n",
      " [[126 127 163]\n",
      "  [126 127 163]\n",
      "  [127 128 164]\n",
      "  ...\n",
      "  [ 38  76 154]\n",
      "  [ 38  78 155]\n",
      "  [ 36  78 155]]\n",
      "\n",
      " [[126 127 163]\n",
      "  [126 127 163]\n",
      "  [127 128 164]\n",
      "  ...\n",
      "  [ 39  77 155]\n",
      "  [ 39  79 156]\n",
      "  [ 37  80 156]]\n",
      "\n",
      " ...\n",
      "\n",
      " [[ 63  77 102]\n",
      "  [ 63  77 102]\n",
      "  [ 63  77 102]\n",
      "  ...\n",
      "  [ 71  66  84]\n",
      "  [ 71  66  84]\n",
      "  [ 71  66  84]]\n",
      "\n",
      " [[ 63  77 102]\n",
      "  [ 63  77 102]\n",
      "  [ 63  77 102]\n",
      "  ...\n",
      "  [ 71  66  84]\n",
      "  [ 71  66  84]\n",
      "  [ 71  66  84]]\n",
      "\n",
      " [[ 63  77 102]\n",
      "  [ 63  77 102]\n",
      "  [ 63  77 102]\n",
      "  ...\n",
      "  [ 71  66  84]\n",
      "  [ 71  66  84]\n",
      "  [ 71  66  84]]]\n"
     ]
    }
   ],
   "source": [
    "import exifread\n",
    "from PIL import Image\n",
    "\n",
    "path = \"/Users/anubhav/Downloads/Virat-Kohli-India-celebrates-50th-century-Cricket-November-15-2023.jpg.webp\"\n",
    "\n",
    "with open(path, 'rb') as f:\n",
    "    tags = exifread.process_file(f)\n",
    "for tag in tags.keys():\n",
    "    print(f\"{tag}: {tags[tag]}\")\n",
    "with Image.open(path) as img:\n",
    "    print(f\"Format: {img.format}\")\n",
    "    print(f\"Size: {img.size}\")\n",
    "    print(f\"Mode: {img.mode}\")\n",
    "\n",
    "import numpy as np\n",
    "\n",
    "with Image.open(path) as img:\n",
    "    # Convert image to NumPy array\n",
    "    img_array = np.array(img)\n",
    "    print(img_array.shape)  # Print the shape of the array\n",
    "    print(img_array)  # Print the pixel data"
   ]
  },
  {
   "cell_type": "code",
   "execution_count": null,
   "id": "9619c10f",
   "metadata": {},
   "outputs": [],
   "source": []
  }
 ],
 "metadata": {
  "kernelspec": {
   "display_name": "Python 3 (ipykernel)",
   "language": "python",
   "name": "python3"
  },
  "language_info": {
   "codemirror_mode": {
    "name": "ipython",
    "version": 3
   },
   "file_extension": ".py",
   "mimetype": "text/x-python",
   "name": "python",
   "nbconvert_exporter": "python",
   "pygments_lexer": "ipython3",
   "version": "3.11.4"
  }
 },
 "nbformat": 4,
 "nbformat_minor": 5
}
