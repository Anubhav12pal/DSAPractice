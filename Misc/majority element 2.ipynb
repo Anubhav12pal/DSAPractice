{
 "cells": [
  {
   "cell_type": "code",
   "execution_count": 1,
   "id": "31b88aa4",
   "metadata": {},
   "outputs": [
    {
     "data": {
      "text/plain": [
       "'\\n\\nFirst u should know maj ele 1: that is element should be there more than n / 2 times\\nthe approach is moores voting algo\\n\\n\\n'"
      ]
     },
     "execution_count": 1,
     "metadata": {},
     "output_type": "execute_result"
    }
   ],
   "source": [
    "'''\n",
    "\n",
    "First u should know maj ele 1: that is element should be there more than n / 2 times\n",
    "the approach is moores voting algo\n",
    "\n",
    "\n",
    "'''"
   ]
  },
  {
   "cell_type": "code",
   "execution_count": 2,
   "id": "d2b13263",
   "metadata": {},
   "outputs": [],
   "source": [
    "class Solution(object):\n",
    "    def majorityElement(self, nums):\n",
    "        \"\"\"\n",
    "        :type nums: List[int]\n",
    "        :rtype: int\n",
    "        \"\"\"\n",
    "        count = 0\n",
    "        ele = 0\n",
    "\n",
    "        for i in nums:\n",
    "\n",
    "            if count == 0:\n",
    "                count = 1\n",
    "                ele = i\n",
    "            elif i == ele:\n",
    "                count += 1\n",
    "            else:\n",
    "                count -= 1\n",
    "        c2 = 0\n",
    "        for i in range(len(nums)):\n",
    "            if nums[i] == ele:\n",
    "                c2 +=1\n",
    "\n",
    "        if c2 > len(nums) / 2:\n",
    "            return ele\n",
    "\n",
    "        return 1\n",
    "        "
   ]
  },
  {
   "cell_type": "code",
   "execution_count": 3,
   "id": "2cf6cfc1",
   "metadata": {},
   "outputs": [
    {
     "data": {
      "text/plain": [
       "1"
      ]
     },
     "execution_count": 3,
     "metadata": {},
     "output_type": "execute_result"
    }
   ],
   "source": [
    "4 // 3"
   ]
  },
  {
   "cell_type": "code",
   "execution_count": 8,
   "id": "66ebca54",
   "metadata": {},
   "outputs": [],
   "source": [
    "class Solution(object):\n",
    "    def majorityElement(self, nums):\n",
    "        \"\"\"\n",
    "        :type nums: List[int]\n",
    "        :rtype: List[int]\n",
    "        \"\"\"\n",
    "        if not nums:\n",
    "            return []\n",
    "\n",
    "        c1, c2 = 0, 0\n",
    "        e1 = e2 = None\n",
    "\n",
    "        # First pass: Find potential candidates e1 and e2\n",
    "        for i in nums:\n",
    "            if e1 == i:\n",
    "                c1 += 1\n",
    "            elif e2 == i:\n",
    "                c2 += 1\n",
    "            elif c1 == 0:\n",
    "                e1 = i\n",
    "                c1 = 1\n",
    "            elif c2 == 0:\n",
    "                e2 = i\n",
    "                c2 = 1\n",
    "            else:\n",
    "                c1 -= 1\n",
    "                c2 -= 1\n",
    "\n",
    "        # Second pass: Confirm if e1 and e2 are truly majority elements\n",
    "        c1 = c2 = 0\n",
    "        for i in nums:\n",
    "            if i == e1:\n",
    "                c1 += 1\n",
    "            elif i == e2:\n",
    "                c2 += 1\n",
    "\n",
    "        result = []\n",
    "        if c1 > len(nums) // 3:\n",
    "            result.append(e1)\n",
    "        if c2 > len(nums) // 3:\n",
    "            result.append(e2)\n",
    "\n",
    "        return result"
   ]
  },
  {
   "cell_type": "code",
   "execution_count": null,
   "id": "3a4f140a",
   "metadata": {},
   "outputs": [],
   "source": []
  }
 ],
 "metadata": {
  "kernelspec": {
   "display_name": "Python 3 (ipykernel)",
   "language": "python",
   "name": "python3"
  },
  "language_info": {
   "codemirror_mode": {
    "name": "ipython",
    "version": 3
   },
   "file_extension": ".py",
   "mimetype": "text/x-python",
   "name": "python",
   "nbconvert_exporter": "python",
   "pygments_lexer": "ipython3",
   "version": "3.11.4"
  }
 },
 "nbformat": 4,
 "nbformat_minor": 5
}
