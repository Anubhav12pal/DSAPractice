{
 "cells": [
  {
   "cell_type": "code",
   "execution_count": 2,
   "id": "d6c8f015",
   "metadata": {},
   "outputs": [],
   "source": [
    "class Solution:\n",
    "    def sumZero(self, n):\n",
    "        e = 0\n",
    "        if n %2 == 0:\n",
    "            e = 1\n",
    "        a = []\n",
    "\n",
    "        for i in range(1,(n // 2) + 1):\n",
    "            a.append(i)\n",
    "            a.append(-i)\n",
    "        if e != 1:\n",
    "            a.append(0)\n",
    "        return a"
   ]
  },
  {
   "cell_type": "code",
   "execution_count": 3,
   "id": "4e3a94c0",
   "metadata": {},
   "outputs": [
    {
     "data": {
      "text/plain": [
       "'\\nif we wanna add we can add 1 , -1 , 2, -2 and so on and add 0 if we need odd number simple logic\\n\\n\\n'"
      ]
     },
     "execution_count": 3,
     "metadata": {},
     "output_type": "execute_result"
    }
   ],
   "source": [
    "'''\n",
    "if we wanna add we can add 1 , -1 , 2, -2 and so on and add 0 if we need odd number simple logic\n",
    "\n",
    "\n",
    "'''"
   ]
  },
  {
   "cell_type": "code",
   "execution_count": null,
   "id": "9a848d25",
   "metadata": {},
   "outputs": [],
   "source": []
  }
 ],
 "metadata": {
  "kernelspec": {
   "display_name": "Python 3 (ipykernel)",
   "language": "python",
   "name": "python3"
  },
  "language_info": {
   "codemirror_mode": {
    "name": "ipython",
    "version": 3
   },
   "file_extension": ".py",
   "mimetype": "text/x-python",
   "name": "python",
   "nbconvert_exporter": "python",
   "pygments_lexer": "ipython3",
   "version": "3.11.4"
  }
 },
 "nbformat": 4,
 "nbformat_minor": 5
}
