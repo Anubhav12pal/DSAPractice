{
 "cells": [
  {
   "cell_type": "code",
   "execution_count": 2,
   "id": "73b15319",
   "metadata": {},
   "outputs": [],
   "source": [
    "class Solution:\n",
    "    def numRabbits(self, answers):\n",
    "\n",
    "        m = {}\n",
    "     \n",
    "        for n in answers:\n",
    "            \n",
    "            m[n] = 1 + m.get(n,0)\n",
    "\n",
    "        c = 0\n",
    "\n",
    "        for n in m:\n",
    "            if m[n] > n + 1:\n",
    "                d = m[n] // (n + 1)\n",
    "                r = m[n] %(n + 1)\n",
    "                c += (d*(n + 1))\n",
    "                if r != 0:\n",
    "                    c += n + 1\n",
    "\n",
    "            else:\n",
    "                c += n + 1\n",
    "        return c"
   ]
  },
  {
   "cell_type": "code",
   "execution_count": null,
   "id": "8779494e",
   "metadata": {},
   "outputs": [],
   "source": []
  }
 ],
 "metadata": {
  "kernelspec": {
   "display_name": "Python 3 (ipykernel)",
   "language": "python",
   "name": "python3"
  },
  "language_info": {
   "codemirror_mode": {
    "name": "ipython",
    "version": 3
   },
   "file_extension": ".py",
   "mimetype": "text/x-python",
   "name": "python",
   "nbconvert_exporter": "python",
   "pygments_lexer": "ipython3",
   "version": "3.11.4"
  }
 },
 "nbformat": 4,
 "nbformat_minor": 5
}
