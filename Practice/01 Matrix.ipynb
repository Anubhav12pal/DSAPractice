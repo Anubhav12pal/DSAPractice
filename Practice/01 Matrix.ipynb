{
 "cells": [
  {
   "cell_type": "code",
   "execution_count": 2,
   "id": "1bb65059",
   "metadata": {},
   "outputs": [],
   "source": [
    "class Solution(object):\n",
    "    def updateMatrix(self, mat):\n",
    "        \"\"\"\n",
    "        :type mat: List[List[int]]\n",
    "        :rtype: List[List[int]]\n",
    "        \"\"\"\n",
    "\n",
    "        n = len(mat)\n",
    "        m = len(mat[0])\n",
    "\n",
    "\n",
    "        q = deque()\n",
    "        vis = [[-1 for _ in range(m)] for _ in range(n)]\n",
    "\n",
    "\n",
    "        for i in range(n):\n",
    "            for j in range(m):\n",
    "\n",
    "\n",
    "                if mat[i][j] == 0:\n",
    "                    q.append([i, j, 0])\n",
    "                    vis[i][j] = 0\n",
    "        delr = [-1, 0, 1, 0]\n",
    "        delc = [0, 1, 0, -1]\n",
    "\n",
    "        while q:\n",
    "\n",
    "            node = q.popleft()\n",
    "\n",
    "            i, j, d = node\n",
    "\n",
    "            for ind in range(4):\n",
    "\n",
    "                newr = i + delr[ind]\n",
    "                newc = j + delc[ind]\n",
    "\n",
    "                if newr >=0 and newc >=0 and newr <n and newc < m and vis[newr][newc] == -1:\n",
    "                    q.append([newr, newc, d + 1])\n",
    "                    vis[newr][newc] = d +1\n",
    "        return vis"
   ]
  },
  {
   "cell_type": "code",
   "execution_count": null,
   "id": "4054c534",
   "metadata": {},
   "outputs": [],
   "source": []
  }
 ],
 "metadata": {
  "kernelspec": {
   "display_name": "Python 3 (ipykernel)",
   "language": "python",
   "name": "python3"
  },
  "language_info": {
   "codemirror_mode": {
    "name": "ipython",
    "version": 3
   },
   "file_extension": ".py",
   "mimetype": "text/x-python",
   "name": "python",
   "nbconvert_exporter": "python",
   "pygments_lexer": "ipython3",
   "version": "3.11.4"
  }
 },
 "nbformat": 4,
 "nbformat_minor": 5
}
