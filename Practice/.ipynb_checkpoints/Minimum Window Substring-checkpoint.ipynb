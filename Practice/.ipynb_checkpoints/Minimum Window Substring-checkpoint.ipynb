{
 "cells": [
  {
   "cell_type": "code",
   "execution_count": 1,
   "id": "8792f1c4",
   "metadata": {},
   "outputs": [],
   "source": [
    "class Solution(object):\n",
    "\n",
    "\n",
    "    def condi(self, m, mm):\n",
    "\n",
    "        for i in m:\n",
    "            if m[i] > mm.get(i, 0):\n",
    "                return False\n",
    "        return True\n",
    "\n",
    "\n",
    "    def minWindow(self, s, t):\n",
    "        \"\"\"\n",
    "        :type s: str\n",
    "        :type t: str\n",
    "        :rtype: str\n",
    "        \"\"\"\n",
    "\n",
    "        if len(t) > len(s):\n",
    "            return \"\"\n",
    "\n",
    "        m = {}\n",
    "\n",
    "        for i in t:\n",
    "            m[i] = 1+ m.get(i, 0)\n",
    "        mm = {}\n",
    "        li = 0\n",
    "        ri = 0\n",
    "\n",
    "        ol = float('inf')\n",
    "\n",
    "        l = 0\n",
    "        r = 0\n",
    "\n",
    "        n = len(s)\n",
    "\n",
    "\n",
    "        while r < n:\n",
    "\n",
    "            mm[s[r]] = 1 + mm.get(s[r],0)\n",
    "\n",
    "\n",
    "\n",
    "            while self.condi(m, mm):\n",
    "                wl = r-l + 1\n",
    "                if ol > wl:\n",
    "                    ol = wl\n",
    "                    li = l\n",
    "                    ri = r\n",
    "                mm[s[l]] -=1\n",
    "                if mm[s[l]] == 0:\n",
    "                    del mm[s[l]]\n",
    "                l += 1\n",
    "\n",
    "                \n",
    "\n",
    "\n",
    "            r += 1\n",
    "        \n",
    "        return s[li:ri+ 1] if ol != float('inf') else \"\"\n",
    "        "
   ]
  },
  {
   "cell_type": "code",
   "execution_count": 2,
   "id": "582867a3",
   "metadata": {},
   "outputs": [
    {
     "data": {
      "text/plain": [
       "'\\n\\nOptimal soln\\n\\ncount the freq first and then expand the wondow of the string s till u find the first string where the \\ncondition os satisfied. Once that is done we shrink till we are able to hild the condition and calcualet the new len\\n\\nEdge case where ol is inf needs to be handeled\\n\\nO(N)\\n\\n\\n\\n'"
      ]
     },
     "execution_count": 2,
     "metadata": {},
     "output_type": "execute_result"
    }
   ],
   "source": [
    "'''\n",
    "\n",
    "Optimal soln\n",
    "\n",
    "count the freq first and then expand the wondow of the string s till u find the first string where the \n",
    "condition os satisfied. Once that is done we shrink till we are able to hild the condition and calcualet the new len\n",
    "\n",
    "Edge case where ol is inf needs to be handeled\n",
    "\n",
    "O(N)\n",
    "\n",
    "\n",
    "\n",
    "'''"
   ]
  },
  {
   "cell_type": "code",
   "execution_count": null,
   "id": "2e5eca73",
   "metadata": {},
   "outputs": [],
   "source": []
  }
 ],
 "metadata": {
  "kernelspec": {
   "display_name": "Python 3 (ipykernel)",
   "language": "python",
   "name": "python3"
  },
  "language_info": {
   "codemirror_mode": {
    "name": "ipython",
    "version": 3
   },
   "file_extension": ".py",
   "mimetype": "text/x-python",
   "name": "python",
   "nbconvert_exporter": "python",
   "pygments_lexer": "ipython3",
   "version": "3.11.4"
  }
 },
 "nbformat": 4,
 "nbformat_minor": 5
}
