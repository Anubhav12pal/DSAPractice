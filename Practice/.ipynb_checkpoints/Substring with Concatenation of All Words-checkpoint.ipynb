{
 "cells": [
  {
   "cell_type": "code",
   "execution_count": 1,
   "id": "9fdc9e63",
   "metadata": {},
   "outputs": [],
   "source": [
    "class Solution(object):\n",
    "    def condi(self, l, s, words, word_len, required_len):\n",
    "        # Build a frequency map for the words\n",
    "        word_count = {}\n",
    "        for word in words:\n",
    "            word_count[word] = 1 + word_count.get(word, 0)\n",
    "\n",
    "        # Validate the substring\n",
    "        for i in range(l, l + required_len, word_len):\n",
    "            word = s[i:i + word_len]\n",
    "            if word in word_count:\n",
    "                word_count[word] -= 1\n",
    "                if word_count[word] == 0:\n",
    "                    del word_count[word]\n",
    "            else:\n",
    "                return False\n",
    "\n",
    "        # If all words matched, the frequency map should be empty\n",
    "        return not word_count\n",
    "\n",
    "    def findSubstring(self, s, words):\n",
    "        \"\"\"\n",
    "        :type s: str\n",
    "        :type words: List[str]\n",
    "        :rtype: List[int]\n",
    "        \"\"\"\n",
    "        if not s or not words:\n",
    "            return []\n",
    "\n",
    "        word_len = len(words[0])  # Length of each word\n",
    "        num_words = len(words)   # Number of words\n",
    "        required_len = word_len * num_words  # Total length of concatenated substring\n",
    "        n = len(s)\n",
    "        result = []\n",
    "\n",
    "        for i in range(n - required_len + 1):\n",
    "            if self.condi(i, s, words, word_len, required_len):\n",
    "                result.append(i)\n",
    "\n",
    "        return result\n"
   ]
  },
  {
   "cell_type": "code",
   "execution_count": null,
   "id": "9176ab49",
   "metadata": {},
   "outputs": [],
   "source": []
  }
 ],
 "metadata": {
  "kernelspec": {
   "display_name": "Python 3 (ipykernel)",
   "language": "python",
   "name": "python3"
  },
  "language_info": {
   "codemirror_mode": {
    "name": "ipython",
    "version": 3
   },
   "file_extension": ".py",
   "mimetype": "text/x-python",
   "name": "python",
   "nbconvert_exporter": "python",
   "pygments_lexer": "ipython3",
   "version": "3.11.4"
  }
 },
 "nbformat": 4,
 "nbformat_minor": 5
}
