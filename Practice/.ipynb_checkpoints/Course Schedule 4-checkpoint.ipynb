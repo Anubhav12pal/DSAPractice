{
 "cells": [
  {
   "cell_type": "code",
   "execution_count": 14,
   "id": "14626176",
   "metadata": {},
   "outputs": [],
   "source": [
    "    \n",
    "    def checkIfPrerequisite(numCourses, prerequisites, queries):\n",
    "\n",
    "\n",
    "        '''\n",
    "\n",
    "        Ok first get a toposort for all the things aand then go through the queries and answer the questions\n",
    "\n",
    "\n",
    "        '''\n",
    "\n",
    "\n",
    "        indeg = [0 for _ in range(numCourses)]\n",
    "\n",
    "        adj = [[] for _ in range(numCourses)]\n",
    "\n",
    "        for i in prerequisites:\n",
    "\n",
    "            fro = i[0]\n",
    "            to = i[1]\n",
    "\n",
    "            adj[fro].append(to)\n",
    "            indeg[to] += 1\n",
    "        \n",
    "\n",
    "        q = deque()\n",
    "        ans = []\n",
    "\n",
    "        for i in range(numCourses):\n",
    "\n",
    "            if indeg[i] == 0:\n",
    "                q.append(i)\n",
    "                \n",
    "        while q:\n",
    "\n",
    "            node = q.popleft()\n",
    "\n",
    "            ans.append(node)\n",
    "\n",
    "            for n in adj[node]:\n",
    "\n",
    "                indeg[n] -= 1\n",
    "                if indeg[n] == 0:\n",
    "                    q.append(n)  \n",
    "                    \n",
    "        print(ans)\n",
    "        m = {}\n",
    "        pos = 0\n",
    "        for i in ans:\n",
    "            m[i] = pos\n",
    "            pos += 1\n",
    "        fin = []\n",
    "        for i in queries:\n",
    "\n",
    "            u = i[0]\n",
    "            v = i[1]\n",
    "\n",
    "            if m[u] == None or m[v] == None:\n",
    "                fin.append(False)\n",
    "            elif m[u] < m[v]:\n",
    "                fin.append(True)\n",
    "            else:\n",
    "                fin.append(False)\n",
    "        return fin\n",
    "    \n",
    "\n",
    "\n",
    "\n",
    "            \n",
    "\n",
    "        "
   ]
  },
  {
   "cell_type": "code",
   "execution_count": 15,
   "id": "3bb01ed1",
   "metadata": {},
   "outputs": [
    {
     "name": "stdout",
     "output_type": "stream",
     "text": [
      "[0, 1]\n"
     ]
    },
    {
     "data": {
      "text/plain": [
       "[False, True]"
      ]
     },
     "execution_count": 15,
     "metadata": {},
     "output_type": "execute_result"
    }
   ],
   "source": [
    "checkIfPrerequisite(2, [], [[1,0],[0,1]])"
   ]
  },
  {
   "cell_type": "code",
   "execution_count": 16,
   "id": "41f74e10",
   "metadata": {},
   "outputs": [],
   "source": [
    "from collections import deque\n",
    "from typing import List\n",
    "\n",
    "class Solution:\n",
    "    def checkIfPrerequisite(self, numCourses: int, prerequisites: List[List[int]], queries: List[List[int]]) -> List[bool]:\n",
    "        indeg = [0] * numCourses\n",
    "        adj = [[] for _ in range(numCourses)]\n",
    "\n",
    "        for i in prerequisites:\n",
    "            fro, to = i[0], i[1]\n",
    "            adj[fro].append(to)\n",
    "            indeg[to] += 1\n",
    "\n",
    "        q = deque()\n",
    "        prereq_map = {i: set() for i in range(numCourses)}  # Track prerequisites\n",
    "\n",
    "        for i in range(numCourses):\n",
    "            if indeg[i] == 0:\n",
    "                q.append(i)\n",
    "\n",
    "        while q:\n",
    "            node = q.popleft()\n",
    "\n",
    "            for neighbor in adj[node]:\n",
    "                prereq_map[neighbor].update(prereq_map[node])  # Inherit previous prerequisites\n",
    "                prereq_map[neighbor].add(node)  # Direct prerequisite\n",
    "                \n",
    "                indeg[neighbor] -= 1\n",
    "                if indeg[neighbor] == 0:\n",
    "                    q.append(neighbor)\n",
    "\n",
    "        fin = []\n",
    "        for u, v in queries:\n",
    "            fin.append(u in prereq_map[v])\n",
    "\n",
    "        return fin\n"
   ]
  },
  {
   "cell_type": "code",
   "execution_count": null,
   "id": "9b7933d0",
   "metadata": {},
   "outputs": [],
   "source": []
  }
 ],
 "metadata": {
  "kernelspec": {
   "display_name": "Python 3 (ipykernel)",
   "language": "python",
   "name": "python3"
  },
  "language_info": {
   "codemirror_mode": {
    "name": "ipython",
    "version": 3
   },
   "file_extension": ".py",
   "mimetype": "text/x-python",
   "name": "python",
   "nbconvert_exporter": "python",
   "pygments_lexer": "ipython3",
   "version": "3.11.4"
  }
 },
 "nbformat": 4,
 "nbformat_minor": 5
}
