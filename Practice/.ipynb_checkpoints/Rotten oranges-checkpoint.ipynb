{
 "cells": [
  {
   "cell_type": "code",
   "execution_count": 1,
   "id": "fe00f52d",
   "metadata": {},
   "outputs": [],
   "source": [
    "class Solution(object):\n",
    "    def orangesRotting(self, grid):\n",
    "        \"\"\"\n",
    "        :type grid: List[List[int]]\n",
    "        :rtype: int\n",
    "        \"\"\"\n",
    "\n",
    "        q = deque()\n",
    "        n = len(grid)\n",
    "        m = len(grid[0])\n",
    "\n",
    "        vis = [[-1 for _ in range(m)] for _ in range(n)]\n",
    "\n",
    "\n",
    "        for i in range(n):\n",
    "            for j in range(m):\n",
    "\n",
    "\n",
    "                if grid[i][j] == 2:\n",
    "                    vis[i][j] = 0\n",
    "                    q.append([i, j, 0])\n",
    "        delr = [-1, 0, 1, 0]\n",
    "        delc = [0, 1, 0, -1]\n",
    "        \n",
    "\n",
    "        while q:\n",
    "            node = q.popleft()\n",
    "\n",
    "            i = node[0]\n",
    "            j = node[1]\n",
    "            time = node[2]\n",
    "\n",
    "            \n",
    "\n",
    "            for ind in range(4):\n",
    "\n",
    "                newr = i + delr[ind]\n",
    "                newc = j + delc[ind]\n",
    "\n",
    "\n",
    "                if newr >= 0 and newc >=0 and newr < n and newc < m and grid[newr][newc] == 1 and vis[newr][newc] == -1:\n",
    "                    vis[newr][newc] = time + 1\n",
    "                    q.append([newr, newc, time + 1])\n",
    "        ans = 0\n",
    "        for i in range(n):\n",
    "            for j in range(m):\n",
    "\n",
    "\n",
    "                if grid[i][j] == 0:\n",
    "                    continue\n",
    "                else:\n",
    "                    if vis[i][j] == -1:\n",
    "                        return -1\n",
    "                    else:\n",
    "                        ans = max(ans, vis[i][j])\n",
    "        return ans\n",
    "        "
   ]
  },
  {
   "cell_type": "code",
   "execution_count": null,
   "id": "e096ce45",
   "metadata": {},
   "outputs": [],
   "source": []
  }
 ],
 "metadata": {
  "kernelspec": {
   "display_name": "Python 3 (ipykernel)",
   "language": "python",
   "name": "python3"
  },
  "language_info": {
   "codemirror_mode": {
    "name": "ipython",
    "version": 3
   },
   "file_extension": ".py",
   "mimetype": "text/x-python",
   "name": "python",
   "nbconvert_exporter": "python",
   "pygments_lexer": "ipython3",
   "version": "3.11.4"
  }
 },
 "nbformat": 4,
 "nbformat_minor": 5
}
