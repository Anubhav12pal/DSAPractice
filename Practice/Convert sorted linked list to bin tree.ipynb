{
 "cells": [
  {
   "cell_type": "markdown",
   "id": "22373836",
   "metadata": {},
   "source": [
    "# Divide and conquer plus fasta dn slow pointer"
   ]
  },
  {
   "cell_type": "code",
   "execution_count": 2,
   "id": "30e98302",
   "metadata": {},
   "outputs": [],
   "source": [
    "# Definition for singly-linked list.\n",
    "# class ListNode(object):\n",
    "#     def __init__(self, val=0, next=None):\n",
    "#         self.val = val\n",
    "#         self.next = next\n",
    "# Definition for a binary tree node.\n",
    "# class TreeNode(object):\n",
    "#     def __init__(self, val=0, left=None, right=None):\n",
    "#         self.val = val\n",
    "#         self.left = left\n",
    "#         self.right = right\n",
    "class Solution(object):\n",
    "    def sortedListToBST(self, head):\n",
    "        \"\"\"\n",
    "        :type head: Optional[ListNode]\n",
    "        :rtype: Optional[TreeNode]\n",
    "        \"\"\"\n",
    "\n",
    "        return self.f(head)\n",
    "\n",
    "\n",
    "    def f(self,root):\n",
    "\n",
    "        if root == None:\n",
    "            return root\n",
    "        if root.next == None:\n",
    "            return TreeNode(root.val)\n",
    "            \n",
    "\n",
    "        l = root\n",
    "        s = root\n",
    "        f = root\n",
    "        prev = None\n",
    "\n",
    "        while f and f.next:\n",
    "\n",
    "            prev = s\n",
    "\n",
    "            s = s.next\n",
    "            f = f.next.next\n",
    "        if prev:\n",
    "            prev.next = None\n",
    "        r = s.next\n",
    "        middle = TreeNode(s.val)\n",
    "\n",
    "        middle.left = self.f(l)\n",
    "        middle.right = self.f(r)\n",
    "\n",
    "\n",
    "        return middle\n",
    "    \n",
    "\n",
    "\n",
    "\n",
    "\n",
    "\n",
    "\n",
    "        "
   ]
  },
  {
   "cell_type": "code",
   "execution_count": null,
   "id": "fdd7dc8e",
   "metadata": {},
   "outputs": [],
   "source": []
  }
 ],
 "metadata": {
  "kernelspec": {
   "display_name": "Python 3 (ipykernel)",
   "language": "python",
   "name": "python3"
  },
  "language_info": {
   "codemirror_mode": {
    "name": "ipython",
    "version": 3
   },
   "file_extension": ".py",
   "mimetype": "text/x-python",
   "name": "python",
   "nbconvert_exporter": "python",
   "pygments_lexer": "ipython3",
   "version": "3.11.4"
  }
 },
 "nbformat": 4,
 "nbformat_minor": 5
}
