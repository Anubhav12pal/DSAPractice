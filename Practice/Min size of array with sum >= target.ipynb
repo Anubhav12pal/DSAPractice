{
 "cells": [
  {
   "cell_type": "code",
   "execution_count": 1,
   "id": "8e4704f0",
   "metadata": {},
   "outputs": [],
   "source": [
    "class Solution(object):\n",
    "    def minSubArrayLen(self, target, nums):\n",
    "        \"\"\"\n",
    "        :type target: int\n",
    "        :type nums: List[int]\n",
    "        :rtype: int\n",
    "        \"\"\"\n",
    "\n",
    "        sum = 0\n",
    "\n",
    "        l = 0\n",
    "        r = 0\n",
    "        ml = float('inf')\n",
    "\n",
    "        n = len(nums)\n",
    "\n",
    "        while r < n:\n",
    "\n",
    "\n",
    "            sum += nums[r]\n",
    "\n",
    "\n",
    "\n",
    "            while sum >= target:\n",
    "                ml = min(ml, r -l + 1)\n",
    "                sum -= nums[l]\n",
    "                l += 1\n",
    "            r += 1\n",
    "                \n",
    "                \n",
    "\n",
    "                \n",
    "        return ml if ml != float('inf') else 0\n",
    "\n",
    "\n",
    "\n",
    "\n",
    "        "
   ]
  },
  {
   "cell_type": "code",
   "execution_count": null,
   "id": "3703d968",
   "metadata": {},
   "outputs": [],
   "source": []
  }
 ],
 "metadata": {
  "kernelspec": {
   "display_name": "Python 3 (ipykernel)",
   "language": "python",
   "name": "python3"
  },
  "language_info": {
   "codemirror_mode": {
    "name": "ipython",
    "version": 3
   },
   "file_extension": ".py",
   "mimetype": "text/x-python",
   "name": "python",
   "nbconvert_exporter": "python",
   "pygments_lexer": "ipython3",
   "version": "3.11.4"
  }
 },
 "nbformat": 4,
 "nbformat_minor": 5
}
