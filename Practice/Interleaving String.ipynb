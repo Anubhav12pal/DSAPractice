{
 "cells": [
  {
   "cell_type": "code",
   "execution_count": 1,
   "id": "77c6e065",
   "metadata": {},
   "outputs": [
    {
     "data": {
      "text/plain": [
       "'Given strings s1, s2, and s3, find whether s3 is formed by an interleaving of s1 and s2.\\n\\nAn interleaving of two strings s and t is a configuration where s and t are divided into n and m \\nsubstrings\\n respectively, such that:\\n\\ns = s1 + s2 + ... + sn\\nt = t1 + t2 + ... + tm\\n|n - m| <= 1\\nThe interleaving is s1 + t1 + s2 + t2 + s3 + t3 + ... or t1 + s1 + t2 + s2 + t3 + s3 + ...\\nNote: a + b is the concatenation of strings a and b.\\n'"
      ]
     },
     "execution_count": 1,
     "metadata": {},
     "output_type": "execute_result"
    }
   ],
   "source": [
    "'''Given strings s1, s2, and s3, find whether s3 is formed by an interleaving of s1 and s2.\n",
    "\n",
    "An interleaving of two strings s and t is a configuration where s and t are divided into n and m \n",
    "substrings\n",
    " respectively, such that:\n",
    "\n",
    "s = s1 + s2 + ... + sn\n",
    "t = t1 + t2 + ... + tm\n",
    "|n - m| <= 1\n",
    "The interleaving is s1 + t1 + s2 + t2 + s3 + t3 + ... or t1 + s1 + t2 + s2 + t3 + s3 + ...\n",
    "Note: a + b is the concatenation of strings a and b.\n",
    "'''"
   ]
  },
  {
   "cell_type": "code",
   "execution_count": 2,
   "id": "961d0b8f",
   "metadata": {},
   "outputs": [],
   "source": [
    "class Solution(object):\n",
    "    def isInterleave(self, s1, s2, s3):\n",
    "        \"\"\"\n",
    "        :type s1: str\n",
    "        :type s2: str\n",
    "        :type s3: str\n",
    "        :rtype: bool\n",
    "    \n",
    "\n",
    "\n",
    "\n",
    "                 \n",
    "        \"\"\"\n",
    "\n",
    "        n = len(s1)\n",
    "        m = len(s2)\n",
    "        d = len(s3)\n",
    "        if n + m != d:\n",
    "            return False\n",
    "        dp = [[-1 for _ in range(m + 1)] for _ in range(n + 1)]\n",
    "\n",
    "        \n",
    "        def f(i, j):\n",
    "\n",
    "            if i + j == n + m:\n",
    "                return True\n",
    "\n",
    "            if dp[i][j] != -1:\n",
    "                return dp[i][j]\n",
    "\n",
    "            \n",
    "\n",
    "            left =False\n",
    "            right = False\n",
    "            \n",
    "            if i < n and s1[i] == s3[i + j]:\n",
    "                left = f(i + 1, j )\n",
    "            \n",
    "            if j < m and s2[j] == s3[i + j]:\n",
    "                right = f(i , j + 1)\n",
    "            dp[i][j] = left or right\n",
    "            \n",
    "            return left or right\n",
    "        return f(0,0)\n",
    "            \n",
    "\n",
    "\n",
    "\n"
   ]
  },
  {
   "cell_type": "code",
   "execution_count": null,
   "id": "f91549b6",
   "metadata": {},
   "outputs": [],
   "source": []
  }
 ],
 "metadata": {
  "kernelspec": {
   "display_name": "Python 3 (ipykernel)",
   "language": "python",
   "name": "python3"
  },
  "language_info": {
   "codemirror_mode": {
    "name": "ipython",
    "version": 3
   },
   "file_extension": ".py",
   "mimetype": "text/x-python",
   "name": "python",
   "nbconvert_exporter": "python",
   "pygments_lexer": "ipython3",
   "version": "3.11.4"
  }
 },
 "nbformat": 4,
 "nbformat_minor": 5
}
