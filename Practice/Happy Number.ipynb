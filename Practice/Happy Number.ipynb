{
 "cells": [
  {
   "cell_type": "code",
   "execution_count": 1,
   "id": "38a08560",
   "metadata": {},
   "outputs": [],
   "source": [
    "class Solution(object):\n",
    "    def isHappy(self, n):\n",
    "        \"\"\"\n",
    "        :type n: int\n",
    "        :rtype: bool\n",
    "        \"\"\"\n",
    "\n",
    "        m={}\n",
    "        def f(n):\n",
    "            t = n\n",
    "            ans = 0\n",
    "            \n",
    "\n",
    "\n",
    "\n",
    "            while t > 0:\n",
    "\n",
    "                r= t % 10\n",
    "                ans = ans + r * r\n",
    "                t = t / 10\n",
    "\n",
    "            if ans == 1:\n",
    "                return True\n",
    "            else:\n",
    "                if ans in m:\n",
    "                    return False\n",
    "                else:\n",
    "                    m[ans] = 1\n",
    "                    return f(ans)\n",
    "        return f(n)\n",
    "\n",
    "            \n",
    "    \n",
    "\n",
    "\n",
    "\n",
    "\n",
    "\n",
    "            \n",
    "\n",
    "\n",
    "        "
   ]
  },
  {
   "cell_type": "code",
   "execution_count": null,
   "id": "2885f21c",
   "metadata": {},
   "outputs": [],
   "source": []
  }
 ],
 "metadata": {
  "kernelspec": {
   "display_name": "Python 3 (ipykernel)",
   "language": "python",
   "name": "python3"
  },
  "language_info": {
   "codemirror_mode": {
    "name": "ipython",
    "version": 3
   },
   "file_extension": ".py",
   "mimetype": "text/x-python",
   "name": "python",
   "nbconvert_exporter": "python",
   "pygments_lexer": "ipython3",
   "version": "3.11.4"
  }
 },
 "nbformat": 4,
 "nbformat_minor": 5
}
