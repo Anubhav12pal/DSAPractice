{
 "cells": [
  {
   "cell_type": "code",
   "execution_count": 5,
   "id": "5417d181",
   "metadata": {},
   "outputs": [],
   "source": [
    "class Solution:\n",
    "    def findRedundantConnection(self, edges):\n",
    "\n",
    "\n",
    "        '''\n",
    "\n",
    "        parent relation:\n",
    "\n",
    "        if the neigh is already visted and teh parent of node is not neighb then there is a cycle\n",
    "\n",
    "        now we can do it using disj set\n",
    "        whenever i find a cycle edge return that\n",
    "\n",
    "        '''\n",
    "        n = len(edges)\n",
    "        parent = [i for i in range(n + 1)]\n",
    "        rank = [0 for _ in range(n +1)]\n",
    "\n",
    "        def findParent(node):\n",
    "\n",
    "            if parent[node] != node:\n",
    "                parent[node] = findParent(parent[node]) \n",
    "            return parent[node]\n",
    "\n",
    "        def union(u, v):\n",
    "\n",
    "\n",
    "            par1 = findParent(u)\n",
    "            par2 = findParent(v)\n",
    "\n",
    "            if par1 != par2:\n",
    "\n",
    "                if rank[par1] > rank[par2]:\n",
    "                    parent[par2] = par1\n",
    "                elif rank[par1] < rank[par2]:\n",
    "                    parent[par1] = par2\n",
    "                else:\n",
    "                    parent[par2] = par1\n",
    "                    rank[par1] += 1\n",
    "                return False\n",
    "\n",
    "            else:\n",
    "                return True\n",
    "\n",
    "        for i in edges:\n",
    "\n",
    "            if union(i[0], i[1]):\n",
    "                return [i[0], i[1]]\n"
   ]
  },
  {
   "cell_type": "code",
   "execution_count": null,
   "id": "4b96ae1d",
   "metadata": {},
   "outputs": [],
   "source": [
    "#"
   ]
  }
 ],
 "metadata": {
  "kernelspec": {
   "display_name": "Python 3 (ipykernel)",
   "language": "python",
   "name": "python3"
  },
  "language_info": {
   "codemirror_mode": {
    "name": "ipython",
    "version": 3
   },
   "file_extension": ".py",
   "mimetype": "text/x-python",
   "name": "python",
   "nbconvert_exporter": "python",
   "pygments_lexer": "ipython3",
   "version": "3.11.4"
  }
 },
 "nbformat": 4,
 "nbformat_minor": 5
}
