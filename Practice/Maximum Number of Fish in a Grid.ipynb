{
 "cells": [
  {
   "cell_type": "code",
   "execution_count": 3,
   "id": "aa9e849c",
   "metadata": {},
   "outputs": [],
   "source": [
    "class Solution:\n",
    "    def findMaxFish(self, grid):\n",
    "\n",
    "\n",
    "\n",
    "        n = len(grid)\n",
    "        m = len(grid[0])\n",
    "\n",
    "        delr = [-1, 0, 1, 0]\n",
    "        delc = [0, 1, 0, -1]\n",
    "\n",
    "\n",
    "        vis = [[0 for _ in range(m)] for _ in range(n)]\n",
    "\n",
    "        def f(r, c):\n",
    "\n",
    "            res = grid[r][c]\n",
    "            vis[r][c] = 1\n",
    "\n",
    "\n",
    "            for i in range(4):\n",
    "\n",
    "                nr = delr[i] + r\n",
    "                nc = delc[i] + c\n",
    "\n",
    "                if nr >= 0 and nc >= 0 and nr <n and nc < m and vis[nr][nc] == 0 and grid[nr][nc] > 0:\n",
    "                    res += f(nr, nc)\n",
    "            return res\n",
    "\n",
    "        ans = 0\n",
    "        for i in range(n):\n",
    "            for j in range(m):\n",
    "\n",
    "                if vis[i][j] == 0 and grid[i][j] > 0:\n",
    "\n",
    "                    ans = max(ans,f(i, j))\n",
    "        return ans\n",
    "                \n",
    "\n",
    "\n",
    "\n",
    "        "
   ]
  },
  {
   "cell_type": "code",
   "execution_count": null,
   "id": "97a00502",
   "metadata": {},
   "outputs": [],
   "source": []
  }
 ],
 "metadata": {
  "kernelspec": {
   "display_name": "Python 3 (ipykernel)",
   "language": "python",
   "name": "python3"
  },
  "language_info": {
   "codemirror_mode": {
    "name": "ipython",
    "version": 3
   },
   "file_extension": ".py",
   "mimetype": "text/x-python",
   "name": "python",
   "nbconvert_exporter": "python",
   "pygments_lexer": "ipython3",
   "version": "3.11.4"
  }
 },
 "nbformat": 4,
 "nbformat_minor": 5
}
