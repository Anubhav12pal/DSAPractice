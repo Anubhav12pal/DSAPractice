{
 "cells": [
  {
   "cell_type": "code",
   "execution_count": 3,
   "id": "be5aa251",
   "metadata": {},
   "outputs": [],
   "source": [
    "class Solution:\n",
    "    def maxTotalValue(self, nums, k):\n",
    "\n",
    "        # Find the subarray with the max difference and then multiply by k\n",
    "\n",
    "        num1 = max(nums)\n",
    "        num2 = min(nums)\n",
    "\n",
    "        diff = num1 - num2\n",
    "        return diff * k"
   ]
  },
  {
   "cell_type": "code",
   "execution_count": null,
   "id": "8cc6de42",
   "metadata": {},
   "outputs": [],
   "source": []
  }
 ],
 "metadata": {
  "kernelspec": {
   "display_name": "Python 3 (ipykernel)",
   "language": "python",
   "name": "python3"
  },
  "language_info": {
   "codemirror_mode": {
    "name": "ipython",
    "version": 3
   },
   "file_extension": ".py",
   "mimetype": "text/x-python",
   "name": "python",
   "nbconvert_exporter": "python",
   "pygments_lexer": "ipython3",
   "version": "3.11.4"
  }
 },
 "nbformat": 4,
 "nbformat_minor": 5
}
