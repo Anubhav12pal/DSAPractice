{
 "cells": [
  {
   "cell_type": "markdown",
   "id": "5468bdb0",
   "metadata": {},
   "source": [
    "# Longest Consecutive Seq"
   ]
  },
  {
   "cell_type": "markdown",
   "id": "5167200f",
   "metadata": {},
   "source": [
    "## Consecutive means: 1,2,3 or 10,11,12"
   ]
  },
  {
   "cell_type": "markdown",
   "id": "03ffa73e",
   "metadata": {},
   "source": [
    "# Brute"
   ]
  },
  {
   "cell_type": "code",
   "execution_count": 25,
   "id": "47297092",
   "metadata": {},
   "outputs": [],
   "source": [
    "# A double for loop with long = 1, outer loop from 0 to n-1\n",
    "# The inner loop:  linear search"
   ]
  },
  {
   "cell_type": "markdown",
   "id": "0d951427",
   "metadata": {},
   "source": [
    "# Better"
   ]
  },
  {
   "cell_type": "markdown",
   "id": "f7bd479f",
   "metadata": {},
   "source": [
    "## Sort the array and then traverse it"
   ]
  },
  {
   "cell_type": "code",
   "execution_count": 26,
   "id": "58f86d74",
   "metadata": {},
   "outputs": [],
   "source": [
    "a = [22,33,32,31,33,33,32,1,2,1,2,1,2,3,4,3,4,3,4]"
   ]
  },
  {
   "cell_type": "code",
   "execution_count": 27,
   "id": "9cde1858",
   "metadata": {},
   "outputs": [],
   "source": [
    "a.sort()"
   ]
  },
  {
   "cell_type": "code",
   "execution_count": 28,
   "id": "7f951867",
   "metadata": {},
   "outputs": [
    {
     "data": {
      "text/plain": [
       "[1, 1, 1, 2, 2, 2, 3, 3, 3, 4, 4, 4, 22, 31, 32, 32, 33, 33, 33]"
      ]
     },
     "execution_count": 28,
     "metadata": {},
     "output_type": "execute_result"
    }
   ],
   "source": [
    "a"
   ]
  },
  {
   "cell_type": "code",
   "execution_count": 29,
   "id": "93150e41",
   "metadata": {},
   "outputs": [],
   "source": [
    "# Then iterate it just checking for consecuticve elements distortede array and O nlog n time\n"
   ]
  },
  {
   "cell_type": "code",
   "execution_count": 30,
   "id": "d89b1032",
   "metadata": {},
   "outputs": [],
   "source": [
    "def consSeq(a):\n",
    "    ls = float(\"-inf\")\n",
    "    longest = 1\n",
    "    curr = 0\n",
    "\n",
    "    for i in range(0, len(a)):\n",
    "        if ls == a[i] - 1:\n",
    "            ls = a[i]\n",
    "            curr +=1\n",
    "        elif ls != a[i]: \n",
    "            ls = a[i]\n",
    "            curr = 1\n",
    "        longest = max(longest, curr)\n",
    "        \n",
    "    print(longest)"
   ]
  },
  {
   "cell_type": "code",
   "execution_count": 31,
   "id": "76869d38",
   "metadata": {},
   "outputs": [
    {
     "name": "stdout",
     "output_type": "stream",
     "text": [
      "4\n"
     ]
    }
   ],
   "source": [
    "consSeq(a)"
   ]
  },
  {
   "cell_type": "markdown",
   "id": "bfdb35d4",
   "metadata": {},
   "source": [
    "# Best"
   ]
  },
  {
   "cell_type": "code",
   "execution_count": 1,
   "id": "927e6c11",
   "metadata": {},
   "outputs": [],
   "source": [
    "# use a set and find the beginning element of the sequence ie it doesnt have a left neighbour"
   ]
  },
  {
   "cell_type": "code",
   "execution_count": 17,
   "id": "6a579630",
   "metadata": {},
   "outputs": [],
   "source": [
    "aa = [22,33,32,31,33,33,32,1,2,1,2,1,2,3,4,3,4,3,4]\n"
   ]
  },
  {
   "cell_type": "code",
   "execution_count": 18,
   "id": "094d0967",
   "metadata": {},
   "outputs": [],
   "source": [
    "def f(lis):\n",
    "    s = set(lis)\n",
    "    longest = 0\n",
    "    \n",
    "    \n",
    "    for n in s:\n",
    "        \n",
    "        if (n - 1) not in s:\n",
    "            \n",
    "            le = 0\n",
    "            \n",
    "            \n",
    "            while (n+le) in s:\n",
    "                le +=1\n",
    "                \n",
    "            longest = max(longest,le)\n",
    "            \n",
    "    \n",
    "    return longest\n",
    "                \n",
    "            \n",
    "            "
   ]
  },
  {
   "cell_type": "code",
   "execution_count": 19,
   "id": "b5f6cc0f",
   "metadata": {},
   "outputs": [
    {
     "data": {
      "text/plain": [
       "4"
      ]
     },
     "execution_count": 19,
     "metadata": {},
     "output_type": "execute_result"
    }
   ],
   "source": [
    "f(aa)"
   ]
  },
  {
   "cell_type": "code",
   "execution_count": null,
   "id": "d9f59716",
   "metadata": {},
   "outputs": [],
   "source": []
  }
 ],
 "metadata": {
  "kernelspec": {
   "display_name": "Python 3 (ipykernel)",
   "language": "python",
   "name": "python3"
  },
  "language_info": {
   "codemirror_mode": {
    "name": "ipython",
    "version": 3
   },
   "file_extension": ".py",
   "mimetype": "text/x-python",
   "name": "python",
   "nbconvert_exporter": "python",
   "pygments_lexer": "ipython3",
   "version": "3.11.4"
  }
 },
 "nbformat": 4,
 "nbformat_minor": 5
}
