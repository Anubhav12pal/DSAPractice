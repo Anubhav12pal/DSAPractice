{
 "cells": [
  {
   "cell_type": "markdown",
   "id": "87b1baab",
   "metadata": {},
   "source": [
    "# Majority Element"
   ]
  },
  {
   "cell_type": "markdown",
   "id": "92641e0c",
   "metadata": {},
   "source": [
    "### Element occuring more than n/2 times"
   ]
  },
  {
   "cell_type": "markdown",
   "id": "be53de9a",
   "metadata": {},
   "source": [
    "#### If N= 8 Then it should occur atleast 5 times"
   ]
  },
  {
   "cell_type": "code",
   "execution_count": 1,
   "id": "37535259",
   "metadata": {},
   "outputs": [],
   "source": [
    "l=[2,2,3,3,1,2,2]"
   ]
  },
  {
   "cell_type": "code",
   "execution_count": 3,
   "id": "ba5d220b",
   "metadata": {},
   "outputs": [],
   "source": [
    "# Iterate double for loop i, j if a[i] = a[j] count++ if count > n/2 then return 0 n2"
   ]
  },
  {
   "cell_type": "code",
   "execution_count": 6,
   "id": "8224bea1",
   "metadata": {},
   "outputs": [],
   "source": [
    "# Hashing! loop and declare a hashmap(element and count) additional space"
   ]
  },
  {
   "cell_type": "code",
   "execution_count": 8,
   "id": "98df465f",
   "metadata": {},
   "outputs": [],
   "source": [
    "#Best || The Moores voting algo:\n",
    "# Apply more algo, then verify if the element is majority, then show the result\n"
   ]
  },
  {
   "cell_type": "code",
   "execution_count": 9,
   "id": "af2b347a",
   "metadata": {},
   "outputs": [],
   "source": [
    "a = [7,7,5,7,5,1,5,7,5,5,7,7,5,5,5,5]"
   ]
  },
  {
   "cell_type": "code",
   "execution_count": 16,
   "id": "442cd7b6",
   "metadata": {},
   "outputs": [],
   "source": [
    "def isMaj(l):\n",
    "    count = 0\n",
    "    ele = 0\n",
    "    ctr = 0\n",
    "    for i in range(0, len(l)):\n",
    "        if count == 0:\n",
    "            count = 1\n",
    "            ele = l[i]\n",
    "            \n",
    "        elif l[i] == ele:\n",
    "                count +=1\n",
    "        else:\n",
    "            count -=1\n",
    "    \n",
    "    for i in range(0, len(l)):\n",
    "        if l[i] == ele:\n",
    "            ctr +=1\n",
    "    if ctr > int(len(l)/2):\n",
    "        \n",
    "        print(ele)\n",
    "    else:\n",
    "        return -1\n",
    "        \n",
    "            \n",
    "    \n",
    "    "
   ]
  },
  {
   "cell_type": "code",
   "execution_count": 17,
   "id": "dc993d62",
   "metadata": {},
   "outputs": [
    {
     "name": "stdout",
     "output_type": "stream",
     "text": [
      "2\n"
     ]
    }
   ],
   "source": [
    "print(isMaj(l))"
   ]
  },
  {
   "cell_type": "code",
   "execution_count": null,
   "id": "987ed382",
   "metadata": {},
   "outputs": [],
   "source": []
  }
 ],
 "metadata": {
  "kernelspec": {
   "display_name": "Python 3 (ipykernel)",
   "language": "python",
   "name": "python3"
  },
  "language_info": {
   "codemirror_mode": {
    "name": "ipython",
    "version": 3
   },
   "file_extension": ".py",
   "mimetype": "text/x-python",
   "name": "python",
   "nbconvert_exporter": "python",
   "pygments_lexer": "ipython3",
   "version": "3.11.4"
  }
 },
 "nbformat": 4,
 "nbformat_minor": 5
}
