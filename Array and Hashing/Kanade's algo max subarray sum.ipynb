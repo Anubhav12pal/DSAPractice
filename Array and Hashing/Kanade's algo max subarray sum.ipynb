{
 "cells": [
  {
   "cell_type": "code",
   "execution_count": 1,
   "id": "23fc0e5b",
   "metadata": {},
   "outputs": [],
   "source": [
    "l = [1,2,3,-4,-1,0,2,-3,3,1,1,2,2,2,0,3,21,0,55]"
   ]
  },
  {
   "cell_type": "code",
   "execution_count": 4,
   "id": "dc7f4114",
   "metadata": {},
   "outputs": [],
   "source": [
    "def maxKanane(l):\n",
    "    \n",
    "    \n",
    "    ms = -100\n",
    "    cs = 0\n",
    "    \n",
    "    for i in range(0, len(l)):\n",
    "        \n",
    "        cs += l[i]\n",
    "        if cs > ms:\n",
    "            ms = cs\n",
    "        \n",
    "        if cs < 0:\n",
    "            cs = 0\n",
    "        \n",
    "        \n",
    "    if ms < 0:\n",
    "        print(\"-ve empty\")\n",
    "    else:\n",
    "        print(ms)\n",
    "        \n",
    "            \n",
    "        \n",
    "    "
   ]
  },
  {
   "cell_type": "markdown",
   "id": "55154079",
   "metadata": {},
   "source": [
    "    m"
   ]
  }
 ],
 "metadata": {
  "kernelspec": {
   "display_name": "Python 3 (ipykernel)",
   "language": "python",
   "name": "python3"
  },
  "language_info": {
   "codemirror_mode": {
    "name": "ipython",
    "version": 3
   },
   "file_extension": ".py",
   "mimetype": "text/x-python",
   "name": "python",
   "nbconvert_exporter": "python",
   "pygments_lexer": "ipython3",
   "version": "3.11.4"
  }
 },
 "nbformat": 4,
 "nbformat_minor": 5
}
