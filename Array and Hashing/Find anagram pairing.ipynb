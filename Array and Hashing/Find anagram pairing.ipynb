{
 "cells": [
  {
   "cell_type": "code",
   "execution_count": 2,
   "id": "dcfff1ad",
   "metadata": {},
   "outputs": [],
   "source": [
    "class Solution:\n",
    "    def anagramMappings(self, nums1, nums2):\n",
    "        \n",
    "        \n",
    "        m = {}\n",
    "        n = len(nums2)\n",
    "        \n",
    "        for i in range(n):\n",
    "            \n",
    "            m[nums2[i]] = i\n",
    "        ans = []\n",
    "        for i in range(n):\n",
    "            ans.append(m[nums1[i]])\n",
    "        return ans\n",
    "        \n",
    "        "
   ]
  },
  {
   "cell_type": "code",
   "execution_count": null,
   "id": "762d414d",
   "metadata": {},
   "outputs": [],
   "source": []
  }
 ],
 "metadata": {
  "kernelspec": {
   "display_name": "Python 3 (ipykernel)",
   "language": "python",
   "name": "python3"
  },
  "language_info": {
   "codemirror_mode": {
    "name": "ipython",
    "version": 3
   },
   "file_extension": ".py",
   "mimetype": "text/x-python",
   "name": "python",
   "nbconvert_exporter": "python",
   "pygments_lexer": "ipython3",
   "version": "3.11.4"
  }
 },
 "nbformat": 4,
 "nbformat_minor": 5
}
