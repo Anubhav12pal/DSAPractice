{
 "cells": [
  {
   "cell_type": "markdown",
   "id": "545bfd99",
   "metadata": {},
   "source": [
    "# DP Best Time to buy and sell stocks"
   ]
  },
  {
   "cell_type": "code",
   "execution_count": 1,
   "id": "8c639121",
   "metadata": {},
   "outputs": [],
   "source": [
    "a = [7,1,5,3,6,4]"
   ]
  },
  {
   "cell_type": "code",
   "execution_count": 2,
   "id": "4317b9bc",
   "metadata": {},
   "outputs": [],
   "source": [
    "#Maximise the profit therefore buy on least price and sell on highest day\n"
   ]
  },
  {
   "cell_type": "code",
   "execution_count": 3,
   "id": "77f82d9c",
   "metadata": {},
   "outputs": [],
   "source": [
    "# For every day see minimal form 0 to i-1"
   ]
  },
  {
   "cell_type": "code",
   "execution_count": 4,
   "id": "336cc490",
   "metadata": {},
   "outputs": [],
   "source": [
    "mini = a[0]\n",
    "profit = 0\n",
    "cost = 0"
   ]
  },
  {
   "cell_type": "code",
   "execution_count": 5,
   "id": "6424bc2f",
   "metadata": {},
   "outputs": [
    {
     "name": "stdout",
     "output_type": "stream",
     "text": [
      "5\n"
     ]
    }
   ],
   "source": [
    "a = [7, 1, 5, 3, 6, 4]\n",
    "mini = a[0]  # Initialize mini with the first element\n",
    "profit = 0\n",
    "\n",
    "for i in range(1, len(a)):\n",
    "    cost = a[i] - mini\n",
    "    profit = max(profit, cost)\n",
    "    mini = min(mini, a[i])  # Make sure min is not redefined elsewhere in your code\n",
    "\n",
    "print(profit)\n"
   ]
  },
  {
   "cell_type": "code",
   "execution_count": null,
   "id": "f50a0983",
   "metadata": {},
   "outputs": [],
   "source": []
  },
  {
   "cell_type": "code",
   "execution_count": null,
   "id": "279a7c64",
   "metadata": {},
   "outputs": [],
   "source": []
  }
 ],
 "metadata": {
  "kernelspec": {
   "display_name": "Python 3 (ipykernel)",
   "language": "python",
   "name": "python3"
  },
  "language_info": {
   "codemirror_mode": {
    "name": "ipython",
    "version": 3
   },
   "file_extension": ".py",
   "mimetype": "text/x-python",
   "name": "python",
   "nbconvert_exporter": "python",
   "pygments_lexer": "ipython3",
   "version": "3.11.4"
  }
 },
 "nbformat": 4,
 "nbformat_minor": 5
}
