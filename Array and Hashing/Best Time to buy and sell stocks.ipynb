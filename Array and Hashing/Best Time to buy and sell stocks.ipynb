{
 "cells": [
  {
   "cell_type": "markdown",
   "id": "545bfd99",
   "metadata": {},
   "source": [
    "# DP Best Time to buy and sell stocks"
   ]
  },
  {
   "cell_type": "code",
   "execution_count": 13,
   "id": "8c639121",
   "metadata": {},
   "outputs": [],
   "source": [
    "a = [7,1,5,3,6,4]"
   ]
  },
  {
   "cell_type": "code",
   "execution_count": 14,
   "id": "4317b9bc",
   "metadata": {},
   "outputs": [],
   "source": [
    "#Maximise the profit therefore buy on least price and sell on highest day\n"
   ]
  },
  {
   "cell_type": "code",
   "execution_count": 15,
   "id": "77f82d9c",
   "metadata": {},
   "outputs": [],
   "source": [
    "# For every day see minimal form 0 to i-1"
   ]
  },
  {
   "cell_type": "code",
   "execution_count": 16,
   "id": "336cc490",
   "metadata": {},
   "outputs": [],
   "source": [
    "mini = a[0]\n",
    "profit = 0\n",
    "cost = 0"
   ]
  },
  {
   "cell_type": "code",
   "execution_count": 17,
   "id": "6424bc2f",
   "metadata": {},
   "outputs": [
    {
     "ename": "TypeError",
     "evalue": "'int' object is not callable",
     "output_type": "error",
     "traceback": [
      "\u001b[0;31m---------------------------------------------------------------------------\u001b[0m",
      "\u001b[0;31mTypeError\u001b[0m                                 Traceback (most recent call last)",
      "Cell \u001b[0;32mIn[17], line 8\u001b[0m\n\u001b[1;32m      6\u001b[0m     cost \u001b[38;5;241m=\u001b[39m a[i] \u001b[38;5;241m-\u001b[39m mini\n\u001b[1;32m      7\u001b[0m     profit \u001b[38;5;241m=\u001b[39m \u001b[38;5;28mmax\u001b[39m(profit, cost)\n\u001b[0;32m----> 8\u001b[0m     mini \u001b[38;5;241m=\u001b[39m \u001b[38;5;28mmin\u001b[39m(mini, a[i])  \u001b[38;5;66;03m# Make sure min is not redefined elsewhere in your code\u001b[39;00m\n\u001b[1;32m     10\u001b[0m \u001b[38;5;28mprint\u001b[39m(profit)\n",
      "\u001b[0;31mTypeError\u001b[0m: 'int' object is not callable"
     ]
    }
   ],
   "source": [
    "a = [7, 1, 5, 3, 6, 4]\n",
    "mini = a[0]  # Initialize mini with the first element\n",
    "profit = 0\n",
    "\n",
    "for i in range(1, len(a)):\n",
    "    cost = a[i] - mini\n",
    "    profit = max(profit, cost)\n",
    "    mini = min(mini, a[i])  # Make sure min is not redefined elsewhere in your code\n",
    "\n",
    "print(profit)\n"
   ]
  },
  {
   "cell_type": "code",
   "execution_count": null,
   "id": "f50a0983",
   "metadata": {},
   "outputs": [],
   "source": []
  }
 ],
 "metadata": {
  "kernelspec": {
   "display_name": "Python 3 (ipykernel)",
   "language": "python",
   "name": "python3"
  },
  "language_info": {
   "codemirror_mode": {
    "name": "ipython",
    "version": 3
   },
   "file_extension": ".py",
   "mimetype": "text/x-python",
   "name": "python",
   "nbconvert_exporter": "python",
   "pygments_lexer": "ipython3",
   "version": "3.11.4"
  }
 },
 "nbformat": 4,
 "nbformat_minor": 5
}
