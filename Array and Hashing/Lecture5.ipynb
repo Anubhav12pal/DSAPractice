{
 "cells": [
  {
   "cell_type": "markdown",
   "id": "bca63814",
   "metadata": {},
   "source": [
    "# 2 SUM"
   ]
  },
  {
   "cell_type": "code",
   "execution_count": null,
   "id": "e26a9e79",
   "metadata": {},
   "outputs": [],
   "source": [
    "# ARRAY AND TARGET FIND 2 ELEMENTS THAT HAVE THE WANTE DSUM\n",
    "\n",
    "# Brute 2 loops\n",
    "# Better sort and have 2 pointers then increment and decrement the pointers based on the needs\n",
    "# Best is hashmap\n",
    "\n",
    "\n"
   ]
  }
 ],
 "metadata": {
  "kernelspec": {
   "display_name": "Python 3 (ipykernel)",
   "language": "python",
   "name": "python3"
  },
  "language_info": {
   "codemirror_mode": {
    "name": "ipython",
    "version": 3
   },
   "file_extension": ".py",
   "mimetype": "text/x-python",
   "name": "python",
   "nbconvert_exporter": "python",
   "pygments_lexer": "ipython3",
   "version": "3.11.4"
  }
 },
 "nbformat": 4,
 "nbformat_minor": 5
}
