{
 "cells": [
  {
   "cell_type": "markdown",
   "id": "f712ec96",
   "metadata": {},
   "source": [
    "# Rearrange the array by sign"
   ]
  },
  {
   "cell_type": "code",
   "execution_count": 29,
   "id": "d4722d78",
   "metadata": {},
   "outputs": [],
   "source": [
    "# Array with equal positive and neg elements"
   ]
  },
  {
   "cell_type": "code",
   "execution_count": 30,
   "id": "e09dafcb",
   "metadata": {},
   "outputs": [],
   "source": [
    "l = [3,2,-2,-5,2,-4]\n",
    "ll=[]\n",
    "lll=[]"
   ]
  },
  {
   "cell_type": "code",
   "execution_count": 31,
   "id": "4b85f1e9",
   "metadata": {},
   "outputs": [],
   "source": [
    "# First + then - then + and so on"
   ]
  },
  {
   "cell_type": "code",
   "execution_count": 32,
   "id": "3a8204bf",
   "metadata": {},
   "outputs": [],
   "source": [
    "# Brute: Take 2 arrays then append in them and then loop and add in the final array, takes extra 0(2n)space"
   ]
  },
  {
   "cell_type": "code",
   "execution_count": 33,
   "id": "f358df2e",
   "metadata": {},
   "outputs": [],
   "source": [
    "for i in range(0, len(l)):\n",
    "    if l[i] < 0:\n",
    "        ll.append(l[i])\n",
    "    elif l[i] > 0:\n",
    "        lll.append(l[i])\n",
    "        "
   ]
  },
  {
   "cell_type": "code",
   "execution_count": 34,
   "id": "03c033df",
   "metadata": {},
   "outputs": [
    {
     "data": {
      "text/plain": [
       "[-2, -5, -4]"
      ]
     },
     "execution_count": 34,
     "metadata": {},
     "output_type": "execute_result"
    }
   ],
   "source": [
    "ll"
   ]
  },
  {
   "cell_type": "code",
   "execution_count": 35,
   "id": "c5bb02ef",
   "metadata": {},
   "outputs": [
    {
     "data": {
      "text/plain": [
       "[3, 2, 2]"
      ]
     },
     "execution_count": 35,
     "metadata": {},
     "output_type": "execute_result"
    }
   ],
   "source": [
    "lll"
   ]
  },
  {
   "cell_type": "code",
   "execution_count": 36,
   "id": "7b540905",
   "metadata": {},
   "outputs": [],
   "source": [
    "# positive is in even and -ve in odd place vice versa "
   ]
  },
  {
   "cell_type": "code",
   "execution_count": 37,
   "id": "b7ccd620",
   "metadata": {},
   "outputs": [],
   "source": [
    "for i in range(0,int(len(l)/2)):\n",
    "               l[2*i] = lll[i]\n",
    "               l[2*i+1] = ll[i]"
   ]
  },
  {
   "cell_type": "code",
   "execution_count": 38,
   "id": "4f7ee1a6",
   "metadata": {},
   "outputs": [
    {
     "data": {
      "text/plain": [
       "[3, -2, 2, -5, 2, -4]"
      ]
     },
     "execution_count": 38,
     "metadata": {},
     "output_type": "execute_result"
    }
   ],
   "source": [
    "l"
   ]
  },
  {
   "cell_type": "code",
   "execution_count": 39,
   "id": "ce039b82",
   "metadata": {},
   "outputs": [],
   "source": [
    "# Space ON, TIME O2N"
   ]
  },
  {
   "cell_type": "code",
   "execution_count": 40,
   "id": "5e0c53ef",
   "metadata": {},
   "outputs": [],
   "source": [
    "#eXTRA SPACE IS REQUORED BUT DO IT IN 1 LOOP"
   ]
  },
  {
   "cell_type": "code",
   "execution_count": 41,
   "id": "1a117a7c",
   "metadata": {},
   "outputs": [],
   "source": [
    "# Take extra array and put it in another array:\n"
   ]
  },
  {
   "cell_type": "code",
   "execution_count": 48,
   "id": "684c480d",
   "metadata": {},
   "outputs": [
    {
     "name": "stdout",
     "output_type": "stream",
     "text": [
      "6\n"
     ]
    }
   ],
   "source": [
    "a = [3,2,-2,-5,2,-4]\n",
    "aa = [1]*len(a)\n",
    "c = 0\n",
    "cc = 1\n",
    "print(len(aa))"
   ]
  },
  {
   "cell_type": "code",
   "execution_count": 49,
   "id": "85c4f7bc",
   "metadata": {},
   "outputs": [],
   "source": [
    "for i in range(0, len(a)):\n",
    "    if a[i] > 0:\n",
    "        aa[c] = a[i]\n",
    "        c +=2\n",
    "    else:\n",
    "        aa[cc] = a[i]\n",
    "        cc +=2\n",
    "        "
   ]
  },
  {
   "cell_type": "code",
   "execution_count": 50,
   "id": "b25e5f2f",
   "metadata": {},
   "outputs": [
    {
     "data": {
      "text/plain": [
       "[3, -2, 2, -5, 2, -4]"
      ]
     },
     "execution_count": 50,
     "metadata": {},
     "output_type": "execute_result"
    }
   ],
   "source": [
    "aa"
   ]
  },
  {
   "cell_type": "code",
   "execution_count": 52,
   "id": "3ae9317a",
   "metadata": {},
   "outputs": [],
   "source": [
    "# Variety that is there is no n/2 gaurentee so we place them in alternating order and at the end which ever is remaining we append tghat"
   ]
  },
  {
   "cell_type": "code",
   "execution_count": 53,
   "id": "4625902b",
   "metadata": {},
   "outputs": [],
   "source": [
    "# In this case we fall back to brutre force and continue"
   ]
  },
  {
   "cell_type": "code",
   "execution_count": null,
   "id": "af747003",
   "metadata": {},
   "outputs": [],
   "source": []
  }
 ],
 "metadata": {
  "kernelspec": {
   "display_name": "Python 3 (ipykernel)",
   "language": "python",
   "name": "python3"
  },
  "language_info": {
   "codemirror_mode": {
    "name": "ipython",
    "version": 3
   },
   "file_extension": ".py",
   "mimetype": "text/x-python",
   "name": "python",
   "nbconvert_exporter": "python",
   "pygments_lexer": "ipython3",
   "version": "3.11.4"
  }
 },
 "nbformat": 4,
 "nbformat_minor": 5
}
