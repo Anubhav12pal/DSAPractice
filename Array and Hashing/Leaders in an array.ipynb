{
 "cells": [
  {
   "cell_type": "markdown",
   "id": "4002d3ca",
   "metadata": {},
   "source": [
    "# Leaders in an array"
   ]
  },
  {
   "cell_type": "markdown",
   "id": "d6427ec0",
   "metadata": {},
   "source": [
    "## A list of elements were everything to the right of that element is less tahn the element"
   ]
  },
  {
   "cell_type": "markdown",
   "id": "4c53d91e",
   "metadata": {},
   "source": [
    "### 10,22,12,3,0,6, then the answer is 22,12,6"
   ]
  },
  {
   "cell_type": "code",
   "execution_count": 2,
   "id": "2a11e214",
   "metadata": {},
   "outputs": [],
   "source": [
    "# Brute: double loop check on the right of the element O(nsq)"
   ]
  },
  {
   "cell_type": "code",
   "execution_count": 3,
   "id": "0284fab4",
   "metadata": {},
   "outputs": [],
   "source": [
    "# OPtimal: let there be an index i then if a[i] > max of akll elements to the right then it is the wanted element"
   ]
  },
  {
   "cell_type": "code",
   "execution_count": 4,
   "id": "bfa41db2",
   "metadata": {},
   "outputs": [],
   "source": [
    "# So we iterate from the last element checking for the max element and finding the leaders"
   ]
  },
  {
   "cell_type": "code",
   "execution_count": null,
   "id": "409f3b99",
   "metadata": {},
   "outputs": [],
   "source": [
    "a = [10,22,12,3,0,6]\n",
    "max = float(\"-inf\")\n",
    "l = []\n",
    "\n",
    "for i in range(n-1,-1,-1):\n",
    "    if max < a[i]:\n",
    "        l.append(a[i])\n",
    "        max = a[i]\n",
    "        \n",
    "    "
   ]
  }
 ],
 "metadata": {
  "kernelspec": {
   "display_name": "Python 3 (ipykernel)",
   "language": "python",
   "name": "python3"
  },
  "language_info": {
   "codemirror_mode": {
    "name": "ipython",
    "version": 3
   },
   "file_extension": ".py",
   "mimetype": "text/x-python",
   "name": "python",
   "nbconvert_exporter": "python",
   "pygments_lexer": "ipython3",
   "version": "3.11.4"
  }
 },
 "nbformat": 4,
 "nbformat_minor": 5
}
