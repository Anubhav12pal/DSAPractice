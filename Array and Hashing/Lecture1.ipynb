{
 "cells": [
  {
   "cell_type": "markdown",
   "id": "439c9275",
   "metadata": {},
   "source": [
    "# Largest element of an array"
   ]
  },
  {
   "cell_type": "code",
   "execution_count": 3,
   "id": "c73e3bd1",
   "metadata": {},
   "outputs": [
    {
     "name": "stdout",
     "output_type": "stream",
     "text": [
      "555\n"
     ]
    }
   ],
   "source": [
    "# Brute sort it nad return the last element\n",
    "#tc = o nlog. n\n",
    "\n",
    "l = [2,3,555,2,6,88]\n",
    "l.sort()\n",
    "print(l[len(l) - 1])"
   ]
  },
  {
   "cell_type": "code",
   "execution_count": 7,
   "id": "03b59b12",
   "metadata": {},
   "outputs": [
    {
     "name": "stdout",
     "output_type": "stream",
     "text": [
      "555\n"
     ]
    }
   ],
   "source": [
    "#better:  let largest be first element then iterate the list and change it\n",
    "l = [2,3,555,2,6,88]\n",
    "lar = l[0]\n",
    "for i in range(1, len(l)):\n",
    "    if l[i] > lar:\n",
    "        lar = l[i]\n",
    "        \n",
    "print(lar)"
   ]
  },
  {
   "cell_type": "markdown",
   "id": "e91b10b7",
   "metadata": {},
   "source": [
    "# 2nd largest"
   ]
  },
  {
   "cell_type": "code",
   "execution_count": 8,
   "id": "b61158dd",
   "metadata": {},
   "outputs": [],
   "source": [
    "#Brute similar to prev one return a[n-1]"
   ]
  },
  {
   "cell_type": "code",
   "execution_count": 10,
   "id": "58cbda2a",
   "metadata": {},
   "outputs": [],
   "source": [
    "#Better : doible iteration, first find the largest and then second iteration find the largest not equal to the largest"
   ]
  },
  {
   "cell_type": "code",
   "execution_count": 15,
   "id": "f1f92565",
   "metadata": {},
   "outputs": [
    {
     "name": "stdout",
     "output_type": "stream",
     "text": [
      "88\n"
     ]
    }
   ],
   "source": [
    "l = [2,3,555,2,6,88, 15, 2]\n",
    "lar = l[0]\n",
    "sl = -1\n",
    "# now if someone becomes the largest the prev largest becomes the sl\n",
    "\n",
    "for i in range(1, len(l)):\n",
    "    if lar < l[i]:\n",
    "        sl = lar\n",
    "        lar = l[i]\n",
    "        \n",
    "    elif l[i]  > sl:\n",
    "        sl = l[i]\n",
    "        \n",
    "print(sl)"
   ]
  },
  {
   "cell_type": "markdown",
   "id": "44b735a6",
   "metadata": {},
   "source": [
    "# Check if the array is sorted"
   ]
  },
  {
   "cell_type": "code",
   "execution_count": 27,
   "id": "f8f3c273",
   "metadata": {},
   "outputs": [
    {
     "name": "stdout",
     "output_type": "stream",
     "text": [
      "True\n"
     ]
    }
   ],
   "source": [
    "#Start form the first index and check with the previous\n",
    "\n",
    "l = [1,2,22]\n",
    "\n",
    "def isSorted(l):\n",
    "    for i in range(1, len(l)):\n",
    "        if l[i] < l[i-1]:\n",
    "            return False\n",
    "        \n",
    "    return True\n",
    "\n",
    "print(isSorted(l))\n"
   ]
  },
  {
   "cell_type": "code",
   "execution_count": 30,
   "id": "f6ee9c5b",
   "metadata": {},
   "outputs": [],
   "source": [
    "# Remove duplicates, brute\n",
    "\n",
    "l = [1,1,2,2,2,3,3,3,3]\n",
    "l = list(set(l))"
   ]
  },
  {
   "cell_type": "code",
   "execution_count": 31,
   "id": "5a8f2320",
   "metadata": {},
   "outputs": [
    {
     "data": {
      "text/plain": [
       "[1, 2, 3]"
      ]
     },
     "execution_count": 31,
     "metadata": {},
     "output_type": "execute_result"
    }
   ],
   "source": [
    "l"
   ]
  },
  {
   "cell_type": "code",
   "execution_count": 32,
   "id": "03293aa9",
   "metadata": {},
   "outputs": [
    {
     "name": "stdout",
     "output_type": "stream",
     "text": [
      "[1, 2, 3, 2, 2, 3, 3, 3, 3]\n"
     ]
    }
   ],
   "source": [
    "# Questrion abt just putting the wanted elements in front of the current array\n",
    "l = [1,1,2,2,2,3,3,3,3]\n",
    "\n",
    "p = 0\n",
    "\n",
    "for i in range(1, len(l)):\n",
    "    if l[i] != l[p]:\n",
    "        l[p+1] = l[i]\n",
    "        p += 1\n",
    "print(l)\n",
    "        \n",
    "        \n",
    "        \n",
    "    \n",
    "\n"
   ]
  },
  {
   "cell_type": "code",
   "execution_count": null,
   "id": "303c30c4",
   "metadata": {},
   "outputs": [],
   "source": []
  }
 ],
 "metadata": {
  "kernelspec": {
   "display_name": "Python 3 (ipykernel)",
   "language": "python",
   "name": "python3"
  },
  "language_info": {
   "codemirror_mode": {
    "name": "ipython",
    "version": 3
   },
   "file_extension": ".py",
   "mimetype": "text/x-python",
   "name": "python",
   "nbconvert_exporter": "python",
   "pygments_lexer": "ipython3",
   "version": "3.11.4"
  }
 },
 "nbformat": 4,
 "nbformat_minor": 5
}
