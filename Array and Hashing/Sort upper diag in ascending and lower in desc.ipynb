{
 "cells": [
  {
   "cell_type": "code",
   "execution_count": 1,
   "id": "50e2ebb3",
   "metadata": {},
   "outputs": [],
   "source": [
    "class Solution:\n",
    "    def sortMatrix(self, grid):\n",
    "        m = {}\n",
    "\n",
    "\n",
    "        n = len(grid)\n",
    "\n",
    "\n",
    "        for i in range(n):\n",
    "            for j in range(n):\n",
    "\n",
    "                diff = i - j\n",
    "\n",
    "                if diff not in m:\n",
    "                    m[diff] = []\n",
    "                m[diff].append(grid[i][j])\n",
    "        for key in m.keys():\n",
    "            if key <0:\n",
    "                m[key].sort(reverse = True)\n",
    "            else:\n",
    "                m[key].sort()\n",
    "\n",
    "        for i in range(n):\n",
    "            for j in range(n):\n",
    "\n",
    "                grid[i][j] = m[i-j].pop()\n",
    "        return grid"
   ]
  },
  {
   "cell_type": "code",
   "execution_count": 2,
   "id": "a5f8750d",
   "metadata": {},
   "outputs": [
    {
     "data": {
      "text/plain": [
       "'\\n\\nPrettu Simple, store the elements in i - j map \\nSort the map\\nput the grid[i - j] = m[i - j].pop(0)\\nInstead of pop0 u can store the items in reversed sorted order and then pop them regualrly\\n\\n\\n\\n'"
      ]
     },
     "execution_count": 2,
     "metadata": {},
     "output_type": "execute_result"
    }
   ],
   "source": [
    "'''\n",
    "\n",
    "Prettu Simple, store the elements in i - j map \n",
    "Sort the map\n",
    "put the grid[i - j] = m[i - j].pop(0)\n",
    "Instead of pop0 u can store the items in reversed sorted order and then pop them regualrly\n",
    "\n",
    "\n",
    "\n",
    "'''"
   ]
  },
  {
   "cell_type": "code",
   "execution_count": null,
   "id": "727222db",
   "metadata": {},
   "outputs": [],
   "source": []
  }
 ],
 "metadata": {
  "kernelspec": {
   "display_name": "Python 3 (ipykernel)",
   "language": "python",
   "name": "python3"
  },
  "language_info": {
   "codemirror_mode": {
    "name": "ipython",
    "version": 3
   },
   "file_extension": ".py",
   "mimetype": "text/x-python",
   "name": "python",
   "nbconvert_exporter": "python",
   "pygments_lexer": "ipython3",
   "version": "3.11.4"
  }
 },
 "nbformat": 4,
 "nbformat_minor": 5
}
