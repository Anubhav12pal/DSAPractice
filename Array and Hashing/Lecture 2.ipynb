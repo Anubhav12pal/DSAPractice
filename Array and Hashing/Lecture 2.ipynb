{
 "cells": [
  {
   "cell_type": "markdown",
   "id": "e95b07bd",
   "metadata": {},
   "source": [
    "# Left Rotate by 1"
   ]
  },
  {
   "cell_type": "code",
   "execution_count": 1,
   "id": "248ce63f",
   "metadata": {},
   "outputs": [
    {
     "data": {
      "text/plain": [
       "[3, 4, 5, 2, 3, 2, 66, 2]"
      ]
     },
     "execution_count": 1,
     "metadata": {},
     "output_type": "execute_result"
    }
   ],
   "source": [
    "l = [2,3,4,5,2,3,2,66]\n",
    "t = l[0]\n",
    "\n",
    "for i in range(1, len(l)):\n",
    "    l[i-1] = l[i]\n",
    "    \n",
    "l[len(l) - 1] = t\n",
    "\n",
    "l"
   ]
  },
  {
   "cell_type": "code",
   "execution_count": 2,
   "id": "4b7640d8",
   "metadata": {},
   "outputs": [],
   "source": [
    "# By d places ez\n"
   ]
  },
  {
   "cell_type": "markdown",
   "id": "c3496118",
   "metadata": {},
   "source": [
    "# Move 0 to the end"
   ]
  },
  {
   "cell_type": "code",
   "execution_count": 3,
   "id": "1e89bd73",
   "metadata": {},
   "outputs": [
    {
     "data": {
      "text/plain": [
       "[1, 2, 3, 2, 4, 5, 1, 0, 0, 0]"
      ]
     },
     "execution_count": 3,
     "metadata": {},
     "output_type": "execute_result"
    }
   ],
   "source": [
    "l = [1,0,2,3,2,0,0,4,5,1]\n",
    "\n",
    "# Find the forst 0, then from the next index check if the number is non 0 swap the 2 and add j\n",
    "\n",
    "j = -1\n",
    "\n",
    "for i in range(len(l)):\n",
    "    if l[i] == 0:\n",
    "        j = i\n",
    "        break\n",
    "        \n",
    "for i in range(j+1, len(l)):\n",
    "    if l[i] != 0:\n",
    "        t = l[i]\n",
    "        l[i] = l[j]\n",
    "        l[j] = t\n",
    "        j +=1\n",
    "        \n",
    "l"
   ]
  },
  {
   "cell_type": "code",
   "execution_count": 4,
   "id": "363c4ab8",
   "metadata": {},
   "outputs": [],
   "source": [
    "# Linear search\n"
   ]
  },
  {
   "cell_type": "markdown",
   "id": "ad852ebd",
   "metadata": {},
   "source": [
    "# Union of the 2 sorted arrays"
   ]
  },
  {
   "cell_type": "code",
   "execution_count": 5,
   "id": "a1c3354a",
   "metadata": {},
   "outputs": [],
   "source": [
    "# Meaning non repeating elements of both arrays \n",
    "# Take a set and iterate both the arrays and aff that to the set pretty simpl"
   ]
  },
  {
   "cell_type": "code",
   "execution_count": 7,
   "id": "d158a3eb",
   "metadata": {},
   "outputs": [
    {
     "name": "stdout",
     "output_type": "stream",
     "text": [
      "[1, 2, 3, 4, 5, 6, 8]\n"
     ]
    }
   ],
   "source": [
    "\n",
    "l = [1, 1, 2, 2, 3, 4, 5, 8]\n",
    "ll = [2, 3, 4, 5, 5, 6]\n",
    "lll = []\n",
    "i = 0\n",
    "j = 0\n",
    "\n",
    "while i < len(l) and j < len(ll):\n",
    "    if l[i] <= ll[j]:\n",
    "        if len(lll) == 0 or l[i] != lll[-1]:\n",
    "            lll.append(l[i])\n",
    "        i += 1\n",
    "    else:\n",
    "        if len(lll) == 0 or ll[j] != lll[-1]:\n",
    "            lll.append(ll[j])\n",
    "        j += 1\n",
    "\n",
    "while j < len(ll):\n",
    "    if len(lll) == 0 or ll[j] != lll[-1]:\n",
    "        lll.append(ll[j])\n",
    "    j += 1\n",
    "\n",
    "while i < len(l):\n",
    "    if len(lll) == 0 or l[i] != lll[-1]:\n",
    "        lll.append(l[i])\n",
    "    i += 1\n",
    "\n",
    "print(lll)\n",
    "\n"
   ]
  },
  {
   "cell_type": "code",
   "execution_count": null,
   "id": "675684c7",
   "metadata": {},
   "outputs": [],
   "source": []
  }
 ],
 "metadata": {
  "kernelspec": {
   "display_name": "Python 3 (ipykernel)",
   "language": "python",
   "name": "python3"
  },
  "language_info": {
   "codemirror_mode": {
    "name": "ipython",
    "version": 3
   },
   "file_extension": ".py",
   "mimetype": "text/x-python",
   "name": "python",
   "nbconvert_exporter": "python",
   "pygments_lexer": "ipython3",
   "version": "3.11.4"
  }
 },
 "nbformat": 4,
 "nbformat_minor": 5
}
