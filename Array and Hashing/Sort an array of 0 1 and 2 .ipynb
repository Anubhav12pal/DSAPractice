{
 "cells": [
  {
   "cell_type": "code",
   "execution_count": 9,
   "id": "9f6fbe7a",
   "metadata": {},
   "outputs": [],
   "source": [
    "# Merge sort O nlogn and O n extra space"
   ]
  },
  {
   "cell_type": "code",
   "execution_count": 10,
   "id": "c9051ad8",
   "metadata": {},
   "outputs": [],
   "source": [
    "# Iterate and count the number of 0 1 and 2 in the array and then iterate again to replace the current numbers Time:O 3n"
   ]
  },
  {
   "cell_type": "code",
   "execution_count": 11,
   "id": "9603f016",
   "metadata": {},
   "outputs": [],
   "source": [
    "# Dutch flag algo: asume there are number of sorted number of 1's from : 0 to low-1, 1: low to mid-1, Then random nos from mid to high, then 2: high+1 to n-1"
   ]
  },
  {
   "cell_type": "code",
   "execution_count": 17,
   "id": "9845f63f",
   "metadata": {},
   "outputs": [],
   "source": [
    "l=[0,1,1,0,0,1,2,1,2,0,0,0]"
   ]
  },
  {
   "cell_type": "code",
   "execution_count": null,
   "id": "1151ae00",
   "metadata": {},
   "outputs": [],
   "source": [
    "# G"
   ]
  },
  {
   "cell_type": "code",
   "execution_count": 18,
   "id": "8b10220f",
   "metadata": {},
   "outputs": [],
   "source": [
    "def doSort(l):\n",
    "    \n",
    "    low = 0\n",
    "    mid = 0\n",
    "    high = len(l) - 1\n",
    "\n",
    "    while mid <= high:\n",
    "        if l[mid] == 0:\n",
    "            t = l[mid]\n",
    "            l[mid] = l[low]\n",
    "            l[low] = t\n",
    "            low += 1\n",
    "            mid +=1\n",
    "        elif l[mid] == 1:\n",
    "            mid +=1\n",
    "        else:\n",
    "            t = l[high]\n",
    "            l[high] = l[mid]\n",
    "            l[mid] = t\n",
    "            high -=1\n",
    "    return l\n",
    "        "
   ]
  },
  {
   "cell_type": "code",
   "execution_count": 19,
   "id": "a1749cb4",
   "metadata": {},
   "outputs": [
    {
     "name": "stdout",
     "output_type": "stream",
     "text": [
      "[0, 0, 0, 0, 0, 0, 1, 1, 1, 1, 2, 2]\n"
     ]
    }
   ],
   "source": [
    "print(doSort(l))"
   ]
  },
  {
   "cell_type": "code",
   "execution_count": null,
   "id": "530e09ac",
   "metadata": {},
   "outputs": [],
   "source": []
  }
 ],
 "metadata": {
  "kernelspec": {
   "display_name": "Python 3 (ipykernel)",
   "language": "python",
   "name": "python3"
  },
  "language_info": {
   "codemirror_mode": {
    "name": "ipython",
    "version": 3
   },
   "file_extension": ".py",
   "mimetype": "text/x-python",
   "name": "python",
   "nbconvert_exporter": "python",
   "pygments_lexer": "ipython3",
   "version": "3.11.4"
  }
 },
 "nbformat": 4,
 "nbformat_minor": 5
}
