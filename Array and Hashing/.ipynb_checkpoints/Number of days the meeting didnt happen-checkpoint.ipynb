{
 "cells": [
  {
   "cell_type": "code",
   "execution_count": 2,
   "id": "da8ea376",
   "metadata": {},
   "outputs": [],
   "source": [
    "class Solution:\n",
    "    def countDays(self, days, meetings):\n",
    "\n",
    "        '''\n",
    "        Simply sort based on the start date of the meetings\n",
    "        then iterate through the meetings array\n",
    "        if the current day end >= next day start make the next day start to be the current day start. \n",
    "        Also if the current day end >= next day end, make that the next day end\n",
    "\n",
    "\n",
    "        '''\n",
    "\n",
    "        t = 0\n",
    "        meetings.sort(key = lambda x: x[0])\n",
    "        n = len(meetings)\n",
    "        for i in range(n-1):\n",
    "            \n",
    "\n",
    "            if meetings[i][1] >= meetings[i + 1][0]:\n",
    "                meetings[i + 1][0] = meetings[i][0]\n",
    "                if meetings[i][1] >= meetings[i + 1][1]:\n",
    "                    meetings[i + 1][1] = meetings[i][1]\n",
    "            else:\n",
    "                t += 1 + meetings[i][1] - meetings[i][0]\n",
    "        t += 1 + meetings[n-1][1] - meetings[n-1][0]\n",
    "        return days - t"
   ]
  },
  {
   "cell_type": "code",
   "execution_count": null,
   "id": "5c857efe",
   "metadata": {},
   "outputs": [],
   "source": []
  }
 ],
 "metadata": {
  "kernelspec": {
   "display_name": "Python 3 (ipykernel)",
   "language": "python",
   "name": "python3"
  },
  "language_info": {
   "codemirror_mode": {
    "name": "ipython",
    "version": 3
   },
   "file_extension": ".py",
   "mimetype": "text/x-python",
   "name": "python",
   "nbconvert_exporter": "python",
   "pygments_lexer": "ipython3",
   "version": "3.11.4"
  }
 },
 "nbformat": 4,
 "nbformat_minor": 5
}
