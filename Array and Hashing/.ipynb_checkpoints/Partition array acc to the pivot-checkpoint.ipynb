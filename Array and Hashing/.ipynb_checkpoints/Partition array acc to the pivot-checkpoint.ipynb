{
 "cells": [
  {
   "cell_type": "code",
   "execution_count": 2,
   "id": "7875c841",
   "metadata": {},
   "outputs": [],
   "source": [
    "class Solution:\n",
    "    def pivotArray(self, nums, pivot):\n",
    "\n",
    "\n",
    "\n",
    "        a = []\n",
    "        b = []\n",
    "        c = []\n",
    "\n",
    "        for n in nums:\n",
    "            if n < pivot:\n",
    "                a.append(n)\n",
    "            elif n == pivot:\n",
    "                b.append(n)\n",
    "            else:\n",
    "                c.append(n)\n",
    "        a.extend(b)\n",
    "        a.extend(c)\n",
    "        return a"
   ]
  },
  {
   "cell_type": "code",
   "execution_count": null,
   "id": "ad0e0360",
   "metadata": {},
   "outputs": [],
   "source": []
  }
 ],
 "metadata": {
  "kernelspec": {
   "display_name": "Python 3 (ipykernel)",
   "language": "python",
   "name": "python3"
  },
  "language_info": {
   "codemirror_mode": {
    "name": "ipython",
    "version": 3
   },
   "file_extension": ".py",
   "mimetype": "text/x-python",
   "name": "python",
   "nbconvert_exporter": "python",
   "pygments_lexer": "ipython3",
   "version": "3.11.4"
  }
 },
 "nbformat": 4,
 "nbformat_minor": 5
}
