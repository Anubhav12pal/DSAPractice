{
 "cells": [
  {
   "cell_type": "markdown",
   "id": "fd1add6b",
   "metadata": {},
   "source": [
    "# Missing number when given an array of n-1 numbers"
   ]
  },
  {
   "cell_type": "code",
   "execution_count": 11,
   "id": "8380dfb0",
   "metadata": {},
   "outputs": [
    {
     "name": "stdout",
     "output_type": "stream",
     "text": [
      "3\n"
     ]
    }
   ],
   "source": [
    "l = [1,2,4,5]\n",
    "#Double for loops brute\n",
    "# HASHING MAP THE VALES TILL N WITH A 1 IF PRESENT oN, BUT SPACE IS On for extra \n",
    "# Best is sum\n",
    "\n",
    "n = len(l) + 1\n",
    "\n",
    "ss = n * (n+1)/2\n",
    "\n",
    "s = sum(l)\n",
    "\n",
    "print(int(ss-s))\n",
    "\n",
    "\n"
   ]
  },
  {
   "cell_type": "markdown",
   "id": "16591547",
   "metadata": {},
   "source": [
    "# Max consecutice 1\n"
   ]
  },
  {
   "cell_type": "code",
   "execution_count": 17,
   "id": "352faa6f",
   "metadata": {},
   "outputs": [
    {
     "name": "stdout",
     "output_type": "stream",
     "text": [
      "4\n"
     ]
    }
   ],
   "source": [
    "l = [1,1,0,0,1,1,1,1,0,1]\n",
    "\n",
    "m = 0\n",
    "c = 0\n",
    "\n",
    "for i in range(len(l)):\n",
    "    if l[i] == 1:\n",
    "        c +=1\n",
    "        if m < c:\n",
    "            m = c\n",
    "    else:\n",
    "        c = 0\n",
    "        \n",
    "print(m)"
   ]
  },
  {
   "cell_type": "markdown",
   "id": "832a5add",
   "metadata": {},
   "source": [
    "# Find the numebr that appears once and other numebrs twice"
   ]
  },
  {
   "cell_type": "code",
   "execution_count": 3,
   "id": "4b0871fd",
   "metadata": {},
   "outputs": [
    {
     "ename": "TypeError",
     "evalue": "can only concatenate list (not \"int\") to list",
     "output_type": "error",
     "traceback": [
      "\u001b[0;31m---------------------------------------------------------------------------\u001b[0m",
      "\u001b[0;31mTypeError\u001b[0m                                 Traceback (most recent call last)",
      "Cell \u001b[0;32mIn[3], line 7\u001b[0m\n\u001b[1;32m      5\u001b[0m     maxi \u001b[38;5;241m=\u001b[39m \u001b[38;5;28mmax\u001b[39m(maxi,i)\n\u001b[1;32m      6\u001b[0m \u001b[38;5;66;03m# Create a hash array and increment the index value, all the vaues should be 2 instead of 1\u001b[39;00m\n\u001b[0;32m----> 7\u001b[0m lll \u001b[38;5;241m=\u001b[39m [] \u001b[38;5;241m*\u001b[39m maxi \u001b[38;5;241m+\u001b[39m \u001b[38;5;241m1\u001b[39m\n\u001b[1;32m      9\u001b[0m \u001b[38;5;28;01mfor\u001b[39;00m i \u001b[38;5;129;01min\u001b[39;00m \u001b[38;5;28mrange\u001b[39m (\u001b[38;5;241m0\u001b[39m, \u001b[38;5;28mlen\u001b[39m(a)):\n\u001b[1;32m     10\u001b[0m     lll[a[i]] \u001b[38;5;241m+\u001b[39m\u001b[38;5;241m=\u001b[39m \u001b[38;5;241m1\u001b[39m\n",
      "\u001b[0;31mTypeError\u001b[0m: can only concatenate list (not \"int\") to list"
     ]
    }
   ],
   "source": [
    "a = [1,1,2,3,3,4,4]\n",
    "maxi = -1\n",
    "\n",
    "for i in a:\n",
    "    maxi = max(maxi,i)\n",
    "# Create a hash array and increment the index value, all the vaues should be 2 instead of 1\n",
    "lll = [] * maxi\n",
    "\n",
    "for i in range (0, len(a)):\n",
    "    lll[a[i]] += 1\n",
    "\n",
    "for i in range(0, len(a)):\n",
    "    if lll[a[i]] == 1:\n",
    "        return a[i]"
   ]
  },
  {
   "cell_type": "code",
   "execution_count": null,
   "id": "955edbe7",
   "metadata": {},
   "outputs": [],
   "source": []
  }
 ],
 "metadata": {
  "kernelspec": {
   "display_name": "Python 3 (ipykernel)",
   "language": "python",
   "name": "python3"
  },
  "language_info": {
   "codemirror_mode": {
    "name": "ipython",
    "version": 3
   },
   "file_extension": ".py",
   "mimetype": "text/x-python",
   "name": "python",
   "nbconvert_exporter": "python",
   "pygments_lexer": "ipython3",
   "version": "3.11.4"
  }
 },
 "nbformat": 4,
 "nbformat_minor": 5
}
