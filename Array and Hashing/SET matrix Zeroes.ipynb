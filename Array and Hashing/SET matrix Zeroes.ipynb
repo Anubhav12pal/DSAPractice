{
 "cells": [
  {
   "cell_type": "markdown",
   "id": "21933a5e",
   "metadata": {},
   "source": [
    "# Set Matrix zeros - O(1) SPACE APPROACH"
   ]
  },
  {
   "cell_type": "code",
   "execution_count": 1,
   "id": "f75cecc1",
   "metadata": {},
   "outputs": [],
   "source": [
    "# N* M matrix the matrix has only 0 and 1,"
   ]
  },
  {
   "cell_type": "code",
   "execution_count": 2,
   "id": "8834d40e",
   "metadata": {},
   "outputs": [],
   "source": [
    "# Once you found a 0 then u change every row member and col member 0"
   ]
  },
  {
   "cell_type": "code",
   "execution_count": 3,
   "id": "cc80b851",
   "metadata": {},
   "outputs": [],
   "source": [
    "# From the marked 0 you dont do anything"
   ]
  },
  {
   "cell_type": "markdown",
   "id": "059ac2ca",
   "metadata": {},
   "source": [
    "# Brute"
   ]
  },
  {
   "cell_type": "code",
   "execution_count": 4,
   "id": "41adad27",
   "metadata": {},
   "outputs": [],
   "source": [
    "# Iterate the array, check for 0 if found hange the row and col to -1 except the one tgat have 0"
   ]
  },
  {
   "cell_type": "code",
   "execution_count": 9,
   "id": "1df501a9",
   "metadata": {},
   "outputs": [],
   "source": [
    "def matChange(mat):\n",
    "    row = len(mat)\n",
    "    col = len(mat[0])\n",
    "    \n",
    "    for i in range(0, row):\n",
    "        for j in range(0, col):\n",
    "            if mat[i][j] == 0:\n",
    "                print(\"Done\")\n",
    "# Make row -1\n",
    "#Make col - 1\n",
    "    \n",
    "    \n",
    "#Chaneg the -1 to to 0\n",
    "#Total o(n3)"
   ]
  },
  {
   "cell_type": "markdown",
   "id": "70818f8e",
   "metadata": {},
   "source": [
    "# Better"
   ]
  },
  {
   "cell_type": "code",
   "execution_count": 10,
   "id": "abdbb320",
   "metadata": {},
   "outputs": [],
   "source": [
    "#3 Take an extra col array of M\n",
    "# Create a ro arrray of N and park all 0\n",
    "# Mark the col and row as 1 if there occurs a 0 in that place during iterating"
   ]
  },
  {
   "cell_type": "code",
   "execution_count": 11,
   "id": "5ed8e19c",
   "metadata": {},
   "outputs": [],
   "source": [
    "# Then iterate the row array and change the wante row to 0\n",
    "# tHEN ITERATE COL AND CHANGE THAT ENTIRE COL AS 0"
   ]
  },
  {
   "cell_type": "code",
   "execution_count": 14,
   "id": "e221d134",
   "metadata": {},
   "outputs": [],
   "source": [
    "# O(2mn)\n",
    "# Space: O(m)+I(n)"
   ]
  },
  {
   "cell_type": "markdown",
   "id": "7e18b063",
   "metadata": {},
   "source": [
    "# Optomal"
   ]
  },
  {
   "cell_type": "markdown",
   "id": "69de1b74",
   "metadata": {},
   "source": [
    "### Time is optimal So work on the space"
   ]
  },
  {
   "cell_type": "code",
   "execution_count": 15,
   "id": "42c6972b",
   "metadata": {},
   "outputs": [],
   "source": [
    "# Same as last approach but instead of the extra matrices we:\n",
    "# make the first row and the first col as the matrices that keep track of the 0"
   ]
  },
  {
   "cell_type": "code",
   "execution_count": 16,
   "id": "c8926bdd",
   "metadata": {},
   "outputs": [],
   "source": [
    "# but the row matrix wil go o to n-1"
   ]
  },
  {
   "cell_type": "code",
   "execution_count": null,
   "id": "b12e49cc",
   "metadata": {},
   "outputs": [],
   "source": [
    "# Col one o=is from 1 to m-1 as the f"
   ]
  }
 ],
 "metadata": {
  "kernelspec": {
   "display_name": "Python 3 (ipykernel)",
   "language": "python",
   "name": "python3"
  },
  "language_info": {
   "codemirror_mode": {
    "name": "ipython",
    "version": 3
   },
   "file_extension": ".py",
   "mimetype": "text/x-python",
   "name": "python",
   "nbconvert_exporter": "python",
   "pygments_lexer": "ipython3",
   "version": "3.11.4"
  }
 },
 "nbformat": 4,
 "nbformat_minor": 5
}
