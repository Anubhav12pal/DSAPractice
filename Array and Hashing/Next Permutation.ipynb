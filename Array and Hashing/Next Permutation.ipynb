{
 "cells": [
  {
   "cell_type": "markdown",
   "id": "c65dacb3",
   "metadata": {},
   "source": [
    "# Next Permutation"
   ]
  },
  {
   "cell_type": "markdown",
   "id": "a42d4372",
   "metadata": {},
   "source": [
    "## An array of integerd find the next permutation of the array"
   ]
  },
  {
   "cell_type": "markdown",
   "id": "0c0ef81f",
   "metadata": {},
   "source": [
    "### if there are 3 numbers how many number of ways can we rearrange the numbers those rearrangements are permutations"
   ]
  },
  {
   "cell_type": "code",
   "execution_count": 35,
   "id": "03cdd2ab",
   "metadata": {},
   "outputs": [],
   "source": [
    "a = [3,1,2]"
   ]
  },
  {
   "cell_type": "code",
   "execution_count": 36,
   "id": "9f57637a",
   "metadata": {},
   "outputs": [],
   "source": [
    "# Permutations: 1 2 3, 1 3 2 , 2 1 3, 2 3 1, 2 3 1 , 3 1 2, 3 2 1"
   ]
  },
  {
   "cell_type": "code",
   "execution_count": 37,
   "id": "162733ff",
   "metadata": {},
   "outputs": [],
   "source": [
    "# After 3 1 2 , 3 2 1 comes so thats the answer"
   ]
  },
  {
   "cell_type": "code",
   "execution_count": 38,
   "id": "ab028e03",
   "metadata": {},
   "outputs": [],
   "source": [
    "# brute Force: Generate all permutations through recursion, Linear search and if there "
   ]
  },
  {
   "cell_type": "code",
   "execution_count": 39,
   "id": "f1b73cdd",
   "metadata": {},
   "outputs": [],
   "source": [
    "#Time: N! permutations * N time very bad"
   ]
  },
  {
   "cell_type": "code",
   "execution_count": 40,
   "id": "5ab348f3",
   "metadata": {},
   "outputs": [],
   "source": [
    "# Optimal"
   ]
  },
  {
   "cell_type": "code",
   "execution_count": 41,
   "id": "975f3ae4",
   "metadata": {},
   "outputs": [],
   "source": [
    "\n"
   ]
  },
  {
   "cell_type": "code",
   "execution_count": 78,
   "id": "51d3f65b",
   "metadata": {},
   "outputs": [],
   "source": [
    "a = [2,1,5,4,3,0,0]\n",
    "def nextP(a):\n",
    "    mini= float(\"inf\")\n",
    "    point = -1\n",
    "    n = len(a)\n",
    "    \n",
    "   # print(a)\n",
    "    for i in range(n-2, -1, -1):\n",
    "        if a[i] < a[i+1]:\n",
    "            point= i\n",
    "            break;\n",
    "            \n",
    "#     print(point)\n",
    "#     print(a[point])\n",
    "    \n",
    "    if point == -1:\n",
    "        return list(reversed(a))\n",
    "    \n",
    "    for i in range(n-1, point, -1):\n",
    "        if a[i] > a[point]:\n",
    "            t = a[point]\n",
    "            a[point] = a[i]\n",
    "            a[i] = t\n",
    "            break;\n",
    "    #print(a)\n",
    "            \n",
    "    a[point+1:] = reversed(a[point+1:])\n",
    "    \n",
    "    return a\n",
    "            \n",
    "    \n",
    "            \n",
    "    "
   ]
  },
  {
   "cell_type": "code",
   "execution_count": 79,
   "id": "1efc9649",
   "metadata": {},
   "outputs": [
    {
     "data": {
      "text/plain": [
       "[2, 3, 0, 0, 1, 4, 5]"
      ]
     },
     "execution_count": 79,
     "metadata": {},
     "output_type": "execute_result"
    }
   ],
   "source": [
    "nextP(a)"
   ]
  },
  {
   "cell_type": "code",
   "execution_count": 80,
   "id": "93078e70",
   "metadata": {},
   "outputs": [
    {
     "name": "stdout",
     "output_type": "stream",
     "text": [
      "[1, 2, 3, 4]\n"
     ]
    }
   ],
   "source": [
    "print(nextP([4,3,2,1]))"
   ]
  },
  {
   "cell_type": "code",
   "execution_count": 81,
   "id": "18973a43",
   "metadata": {},
   "outputs": [
    {
     "data": {
      "text/plain": [
       "[1, 2, 3, 5, 4]"
      ]
     },
     "execution_count": 81,
     "metadata": {},
     "output_type": "execute_result"
    }
   ],
   "source": [
    "nextP([1,2,3,4,5])"
   ]
  },
  {
   "cell_type": "code",
   "execution_count": null,
   "id": "57e5f5c6",
   "metadata": {},
   "outputs": [],
   "source": []
  }
 ],
 "metadata": {
  "kernelspec": {
   "display_name": "Python 3 (ipykernel)",
   "language": "python",
   "name": "python3"
  },
  "language_info": {
   "codemirror_mode": {
    "name": "ipython",
    "version": 3
   },
   "file_extension": ".py",
   "mimetype": "text/x-python",
   "name": "python",
   "nbconvert_exporter": "python",
   "pygments_lexer": "ipython3",
   "version": "3.11.4"
  }
 },
 "nbformat": 4,
 "nbformat_minor": 5
}
