{
 "cells": [
  {
   "cell_type": "code",
   "execution_count": 1,
   "id": "9db0ab06",
   "metadata": {},
   "outputs": [],
   "source": [
    "# Definition for a binary tree node.\n",
    "# class TreeNode(object):\n",
    "#     def __init__(self, val=0, left=None, right=None):\n",
    "#         self.val = val\n",
    "#         self.left = left\n",
    "#         self.right = right\n",
    "class Solution(object):\n",
    "    def findTarget(self, root, k):\n",
    "        \"\"\"\n",
    "        :type root: TreeNode\n",
    "        :type k: int\n",
    "        :rtype: bool\n",
    "        \"\"\"\n",
    "        l = []\n",
    "        def inorder(node):\n",
    "            if node:\n",
    "                inorder(node.left)\n",
    "                l.append(node.val)\n",
    "                inorder(node.right)\n",
    "\n",
    "        inorder(root)\n",
    "        left, right = 0, len(l) - 1\n",
    "    \n",
    "        while left < right:\n",
    "            current_sum = l[left] + l[right]\n",
    "            if current_sum == k:\n",
    "\n",
    "                return True\n",
    "            elif current_sum < k:\n",
    "                left += 1\n",
    "            else:\n",
    "                right -= 1\n",
    "    \n",
    "        return False\n",
    "\n",
    "        "
   ]
  },
  {
   "cell_type": "code",
   "execution_count": null,
   "id": "de05ad40",
   "metadata": {},
   "outputs": [],
   "source": []
  }
 ],
 "metadata": {
  "kernelspec": {
   "display_name": "Python 3 (ipykernel)",
   "language": "python",
   "name": "python3"
  },
  "language_info": {
   "codemirror_mode": {
    "name": "ipython",
    "version": 3
   },
   "file_extension": ".py",
   "mimetype": "text/x-python",
   "name": "python",
   "nbconvert_exporter": "python",
   "pygments_lexer": "ipython3",
   "version": "3.11.4"
  }
 },
 "nbformat": 4,
 "nbformat_minor": 5
}
