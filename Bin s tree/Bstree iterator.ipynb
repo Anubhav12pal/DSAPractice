{
 "cells": [
  {
   "cell_type": "code",
   "execution_count": 13,
   "id": "0ecc86de",
   "metadata": {},
   "outputs": [],
   "source": [
    "class TreeNode:\n",
    "    def __init__(self, val=0, left=None, right=None):\n",
    "        self.val = val\n",
    "        self.left = left\n",
    "        self.right = right\n",
    "\n",
    "class BinarySearchTree:\n",
    "    def __init__(self):\n",
    "        self.root = None\n",
    "\n",
    "    # Function to insert a value into the BST\n",
    "    def insert(self, val):\n",
    "        if not self.root:\n",
    "            self.root = TreeNode(val)\n",
    "        else:\n",
    "            self._insert_recursive(self.root, val)\n",
    "\n",
    "    # Helper function for recursive insertion\n",
    "    def _insert_recursive(self, node, val):\n",
    "        if val < node.val:\n",
    "            if node.left is None:\n",
    "                node.left = TreeNode(val)\n",
    "            else:\n",
    "                self._insert_recursive(node.left, val)\n",
    "        else:\n",
    "            if node.right is None:\n",
    "                node.right = TreeNode(val)\n",
    "            else:\n",
    "                self._insert_recursive(node.right, val)\n",
    "\n",
    "    # Function to do an inorder traversal (to print elements in sorted order)\n",
    "    def inorder_traversal(self, node):\n",
    "        if node:\n",
    "            self.inorder_traversal(node.left)\n",
    "            print(node.val, end=' ')\n",
    "            self.inorder_traversal(node.right)\n",
    "\n"
   ]
  },
  {
   "cell_type": "code",
   "execution_count": 21,
   "id": "dce6c4da",
   "metadata": {},
   "outputs": [],
   "source": [
    "class Iterator:\n",
    "    def __init__(self, root):\n",
    "        self.l = []  # List to store nodes\n",
    "        self.pushAll(root)  # Initialize by pushing all left nodes\n",
    "\n",
    "    # Push all left nodes into the stack\n",
    "    def pushAll(self, node):\n",
    "        while node:\n",
    "            self.l.append(node)\n",
    "            node = node.left\n",
    "\n",
    "    # Check if there are any more nodes\n",
    "    def hasnext(self):\n",
    "        return bool(self.l)  # Returns True if the list has elements, False otherwise\n",
    "\n",
    "    # Return the next smallest element in the tree (inorder traversal)\n",
    "    def nxt(self):\n",
    "        if not self.hasnext():\n",
    "            raise Exception(\"No more elements\")\n",
    "\n",
    "        node = self.l.pop()  # Pop the top element\n",
    "        self.pushAll(node.right)  # If the node has a right child, push its left subtree\n",
    "        return node.val\n"
   ]
  },
  {
   "cell_type": "code",
   "execution_count": null,
   "id": "acd3c199",
   "metadata": {},
   "outputs": [],
   "source": []
  }
 ],
 "metadata": {
  "kernelspec": {
   "display_name": "Python 3 (ipykernel)",
   "language": "python",
   "name": "python3"
  },
  "language_info": {
   "codemirror_mode": {
    "name": "ipython",
    "version": 3
   },
   "file_extension": ".py",
   "mimetype": "text/x-python",
   "name": "python",
   "nbconvert_exporter": "python",
   "pygments_lexer": "ipython3",
   "version": "3.11.4"
  }
 },
 "nbformat": 4,
 "nbformat_minor": 5
}
