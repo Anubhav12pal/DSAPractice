{
 "cells": [
  {
   "cell_type": "code",
   "execution_count": 1,
   "id": "4a7f57e9",
   "metadata": {},
   "outputs": [],
   "source": [
    "def authEvents(events):\n",
    "    # Write your code here\n",
    "    \n",
    "    ans = []\n",
    "    \n",
    "    p = 131\n",
    "    M = ((10)**9) + 7\n",
    "    \n",
    "    def calcHash(password):\n",
    "        val = 0\n",
    "        for char in password:\n",
    "            val = (val * p + ord(char)) % M\n",
    "        return val\n",
    "        \n",
    "    db = set()\n",
    "    for funct, data in events:\n",
    "        \n",
    "        if funct == \"setPassword\":\n",
    "            db.clear()  # Reset stored hashes for new password\n",
    "\n",
    "            og = calcHash(data)\n",
    "            \n",
    "            \n",
    "            db.add(og)\n",
    "            \n",
    "            og = (og * 131) %M\n",
    "            \n",
    "            for j in range(48, 58):\n",
    "                db.add((og + j)%M)\n",
    "            for j in range(65, 91):\n",
    "                db.add((og + j)%M)\n",
    "            for j in range(97, 123):\n",
    "                db.add((og + j)%M)\n",
    "        elif funct == 'authorize':\n",
    "            if int(data) in db:\n",
    "                ans.append(1)\n",
    "            else:\n",
    "                ans.append(0)\n",
    "    return ans"
   ]
  },
  {
   "cell_type": "code",
   "execution_count": null,
   "id": "bf296a8a",
   "metadata": {},
   "outputs": [],
   "source": []
  }
 ],
 "metadata": {
  "kernelspec": {
   "display_name": "Python 3 (ipykernel)",
   "language": "python",
   "name": "python3"
  },
  "language_info": {
   "codemirror_mode": {
    "name": "ipython",
    "version": 3
   },
   "file_extension": ".py",
   "mimetype": "text/x-python",
   "name": "python",
   "nbconvert_exporter": "python",
   "pygments_lexer": "ipython3",
   "version": "3.11.4"
  }
 },
 "nbformat": 4,
 "nbformat_minor": 5
}
