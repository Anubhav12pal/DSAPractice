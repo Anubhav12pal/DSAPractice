{
 "cells": [
  {
   "cell_type": "code",
   "execution_count": 6,
   "id": "bc65f4cc",
   "metadata": {},
   "outputs": [
    {
     "data": {
      "text/plain": [
       "'\\n\\ns = bbacba\\nString contains only abc chars\\n\\nFind num of substring having all 3 characters\\n\\n'"
      ]
     },
     "execution_count": 6,
     "metadata": {},
     "output_type": "execute_result"
    }
   ],
   "source": [
    "'''\n",
    "\n",
    "s = bbacba\n",
    "String contains only abc chars\n",
    "\n",
    "Find num of substring having all 3 characters\n",
    "\n",
    "'''"
   ]
  },
  {
   "cell_type": "markdown",
   "id": "696093ab",
   "metadata": {},
   "source": [
    "## This is the 3rd type of problem here we dont have to find the longest substring or array but the number of subarrays "
   ]
  },
  {
   "cell_type": "code",
   "execution_count": 1,
   "id": "c21a2e64",
   "metadata": {},
   "outputs": [
    {
     "data": {
      "text/plain": [
       "' So we have to figure out how to do that here in this question when we find our first sub array we know \\nthat any array strings before that will also make a subarray so the previous numbers also needs to be considered\\n'"
      ]
     },
     "execution_count": 1,
     "metadata": {},
     "output_type": "execute_result"
    }
   ],
   "source": [
    "''' So we have to figure out how to do that here in this question when we find our first sub array we know \n",
    "that any array strings before that will also make a subarray so the previous numbers also needs to be considered\n",
    "'''"
   ]
  },
  {
   "cell_type": "code",
   "execution_count": 2,
   "id": "4d0c2701",
   "metadata": {},
   "outputs": [],
   "source": [
    "s = \"bbacba\"\n"
   ]
  },
  {
   "cell_type": "markdown",
   "id": "d8010dc4",
   "metadata": {},
   "source": [
    "# Brute"
   ]
  },
  {
   "cell_type": "code",
   "execution_count": 3,
   "id": "ddea6dd6",
   "metadata": {},
   "outputs": [
    {
     "data": {
      "text/plain": [
       "'\\ngenerate all substrings: 0 to n and i to n for j loop\\nincremnt the counterwhen needed\\n'"
      ]
     },
     "execution_count": 3,
     "metadata": {},
     "output_type": "execute_result"
    }
   ],
   "source": [
    "'''\n",
    "generate all substrings: 0 to n and i to n for j loop\n",
    "incremnt the counterwhen needed\n",
    "'''"
   ]
  },
  {
   "cell_type": "markdown",
   "id": "f03a0a16",
   "metadata": {},
   "source": []
  },
  {
   "cell_type": "code",
   "execution_count": 4,
   "id": "d2887f8a",
   "metadata": {},
   "outputs": [],
   "source": [
    "def f1(s):\n",
    "    \n",
    "    c = 0\n",
    "    \n",
    "    for i in range(0, len(s)):\n",
    "        m=[0]*3\n",
    "        \n",
    "        for j in range(i, len(s)):\n",
    "            \n",
    "            m[ord(s[j]) - ord('a')] = 1\n",
    "            if m[0] + m[1] + m[2] == 3:\n",
    "                c = c + 1\n",
    "                \n",
    "    print(c)"
   ]
  },
  {
   "cell_type": "code",
   "execution_count": 5,
   "id": "2029f930",
   "metadata": {},
   "outputs": [
    {
     "name": "stdout",
     "output_type": "stream",
     "text": [
      "9\n"
     ]
    }
   ],
   "source": [
    "f1(s)"
   ]
  },
  {
   "cell_type": "code",
   "execution_count": 6,
   "id": "fbb7efcd",
   "metadata": {},
   "outputs": [
    {
     "data": {
      "text/plain": [
       "'\\n\\nBetter: When we first find the first vakid ss we can just do c= c+ n-j to skip all substrings that\\ncome after that as the ss after will always be valid\\n\\n\\n'"
      ]
     },
     "execution_count": 6,
     "metadata": {},
     "output_type": "execute_result"
    }
   ],
   "source": [
    "'''\n",
    "\n",
    "Better: When we first find the first vakid ss we can just do c= c+ n-j to skip all substrings that\n",
    "come after that as the ss after will always be valid\n",
    "\n",
    "\n",
    "'''"
   ]
  },
  {
   "cell_type": "code",
   "execution_count": 7,
   "id": "74a2e14d",
   "metadata": {},
   "outputs": [],
   "source": [
    "def f2(s):\n",
    "    \n",
    "    c = 0\n",
    "    \n",
    "    for i in range(0, len(s)):\n",
    "        m=[0]*3\n",
    "        \n",
    "        for j in range(i, len(s)):\n",
    "            \n",
    "            m[ord(s[j]) - ord('a')] = 1\n",
    "            if m[0] + m[1] + m[2] == 3:\n",
    "                c = c + (len(s)-j)\n",
    "                break\n",
    "                \n",
    "    print(c)"
   ]
  },
  {
   "cell_type": "code",
   "execution_count": 8,
   "id": "b4af957b",
   "metadata": {},
   "outputs": [
    {
     "name": "stdout",
     "output_type": "stream",
     "text": [
      "9\n"
     ]
    }
   ],
   "source": [
    "f2(s)"
   ]
  },
  {
   "cell_type": "markdown",
   "id": "d761ac1e",
   "metadata": {},
   "source": [
    "# Optimal"
   ]
  },
  {
   "cell_type": "code",
   "execution_count": 9,
   "id": "6671a84e",
   "metadata": {},
   "outputs": [
    {
     "data": {
      "text/plain": [
       "'\\nFind the minimal window and where the first element of the wiondow is then from that previous window \\nit makes cobos with all previous elements\\n\\ns = \"bbacba\"\\nso the first valid sa is bbac this has all elements\\n\\nbut wwhat is the minimal window? it is bca and b is at index 1 so from that index all previous combos are also valid\\n\\n'"
      ]
     },
     "execution_count": 9,
     "metadata": {},
     "output_type": "execute_result"
    }
   ],
   "source": [
    "\n",
    "'''\n",
    "Find the minimal window and where the first element of the wiondow is then from that previous window \n",
    "it makes cobos with all previous elements\n",
    "\n",
    "s = \"bbacba\"\n",
    "so the first valid sa is bbac this has all elements\n",
    "\n",
    "but wwhat is the minimal window? it is bca and b is at index 1 so from that index all previous combos are also valid\n",
    "\n",
    "'''"
   ]
  },
  {
   "cell_type": "code",
   "execution_count": 10,
   "id": "0d6caba1",
   "metadata": {},
   "outputs": [],
   "source": [
    "def f3(s):\n",
    "    m = [-1]*3\n",
    "    c = 0\n",
    "    \n",
    "    for i in range(0,len(s)):\n",
    "        m[ord(s[i]) - ord('a')] = i\n",
    "        \n",
    "        if m[0] != -1 and  m[1] != -1 and  m[2] != -1 :\n",
    "            c += (1+min(m))\n",
    "            \n",
    "    return c\n",
    "            "
   ]
  },
  {
   "cell_type": "code",
   "execution_count": 1,
   "id": "a05dcfb3",
   "metadata": {},
   "outputs": [],
   "source": [
    "class Solution:\n",
    "    def numberOfSubstrings(self, s: str) -> int:\n",
    "\n",
    "\n",
    "        n = len(s)\n",
    "\n",
    "        s1 = {'a', 'b', 'c'}\n",
    "        m = [0,0,0]\n",
    "        ans = 0\n",
    "        l = 0\n",
    "\n",
    "        for r in range(n):\n",
    "\n",
    "            c = s[r]\n",
    "            m[ord(c) - ord('a')] += 1\n",
    "\n",
    "            while m[0] > 0 and m[1] > 0 and m[2] > 0:\n",
    "                ans += n - r\n",
    "                lc = s[l]\n",
    "                num = ord(lc) - ord('a')\n",
    "                m[num] -= 1\n",
    "                l += 1\n",
    "        return ans"
   ]
  },
  {
   "cell_type": "code",
   "execution_count": 2,
   "id": "3093f510",
   "metadata": {},
   "outputs": [
    {
     "data": {
      "text/plain": [
       "'\\nHere if u find the frst valid string u know that all substrings after that are also valid so we can include them in the ans\\nvia n - r\\n\\nthen we can strink the window till the widnow is valid form the left side and keep adding answers to the ans\\n\\n\\n'"
      ]
     },
     "execution_count": 2,
     "metadata": {},
     "output_type": "execute_result"
    }
   ],
   "source": [
    "'''\n",
    "Here if u find the frst valid string u know that all substrings after that are also valid so we can include them in the ans\n",
    "via n - r\n",
    "\n",
    "then we can strink the window till the widnow is valid form the left side and keep adding answers to the ans\n",
    "\n",
    "\n",
    "'''"
   ]
  },
  {
   "cell_type": "code",
   "execution_count": null,
   "id": "dd76d52e",
   "metadata": {},
   "outputs": [],
   "source": []
  }
 ],
 "metadata": {
  "kernelspec": {
   "display_name": "Python 3 (ipykernel)",
   "language": "python",
   "name": "python3"
  },
  "language_info": {
   "codemirror_mode": {
    "name": "ipython",
    "version": 3
   },
   "file_extension": ".py",
   "mimetype": "text/x-python",
   "name": "python",
   "nbconvert_exporter": "python",
   "pygments_lexer": "ipython3",
   "version": "3.11.4"
  }
 },
 "nbformat": 4,
 "nbformat_minor": 5
}
