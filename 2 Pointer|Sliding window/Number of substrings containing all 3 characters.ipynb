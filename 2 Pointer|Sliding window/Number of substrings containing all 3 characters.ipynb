{
 "cells": [
  {
   "cell_type": "code",
   "execution_count": 6,
   "id": "bc65f4cc",
   "metadata": {},
   "outputs": [
    {
     "data": {
      "text/plain": [
       "'\\n\\ns = bbacba\\nString contains only abc chars\\n\\nFind num of substring having all 3 characters\\n\\n'"
      ]
     },
     "execution_count": 6,
     "metadata": {},
     "output_type": "execute_result"
    }
   ],
   "source": [
    "'''\n",
    "\n",
    "s = bbacba\n",
    "String contains only abc chars\n",
    "\n",
    "Find num of substring having all 3 characters\n",
    "\n",
    "'''"
   ]
  },
  {
   "cell_type": "code",
   "execution_count": 7,
   "id": "4d0c2701",
   "metadata": {},
   "outputs": [],
   "source": [
    "s = \"bbacba\"\n"
   ]
  },
  {
   "cell_type": "markdown",
   "id": "d8010dc4",
   "metadata": {},
   "source": [
    "# Brute"
   ]
  },
  {
   "cell_type": "code",
   "execution_count": 8,
   "id": "ddea6dd6",
   "metadata": {},
   "outputs": [
    {
     "data": {
      "text/plain": [
       "'\\ngenerate all substrings: 0 to n and i to n for j loop\\nincremnt the counterwhen needed\\n'"
      ]
     },
     "execution_count": 8,
     "metadata": {},
     "output_type": "execute_result"
    }
   ],
   "source": [
    "'''\n",
    "generate all substrings: 0 to n and i to n for j loop\n",
    "incremnt the counterwhen needed\n",
    "'''"
   ]
  },
  {
   "cell_type": "markdown",
   "id": "f03a0a16",
   "metadata": {},
   "source": []
  },
  {
   "cell_type": "code",
   "execution_count": 18,
   "id": "d2887f8a",
   "metadata": {},
   "outputs": [],
   "source": [
    "def f1(s):\n",
    "    \n",
    "    c = 0\n",
    "    \n",
    "    for i in range(0, len(s)):\n",
    "        m=[0]*3\n",
    "        \n",
    "        for j in range(i, len(s)):\n",
    "            \n",
    "            m[ord(s[j]) - ord('a')] = 1\n",
    "            if m[0] + m[1] + m[2] == 3:\n",
    "                c = c + 1\n",
    "                \n",
    "    print(c)"
   ]
  },
  {
   "cell_type": "code",
   "execution_count": 19,
   "id": "2029f930",
   "metadata": {},
   "outputs": [
    {
     "name": "stdout",
     "output_type": "stream",
     "text": [
      "9\n"
     ]
    }
   ],
   "source": [
    "f1(s)"
   ]
  },
  {
   "cell_type": "code",
   "execution_count": 20,
   "id": "fbb7efcd",
   "metadata": {},
   "outputs": [
    {
     "data": {
      "text/plain": [
       "'\\n\\nBetter: When we first find the first vakid ss we can just do c= c+ n-j to skip all substrings that\\ncome after that as the ss after will always be valid\\n\\n\\n'"
      ]
     },
     "execution_count": 20,
     "metadata": {},
     "output_type": "execute_result"
    }
   ],
   "source": [
    "'''\n",
    "\n",
    "Better: When we first find the first vakid ss we can just do c= c+ n-j to skip all substrings that\n",
    "come after that as the ss after will always be valid\n",
    "\n",
    "\n",
    "'''"
   ]
  },
  {
   "cell_type": "code",
   "execution_count": 22,
   "id": "74a2e14d",
   "metadata": {},
   "outputs": [],
   "source": [
    "def f2(s):\n",
    "    \n",
    "    c = 0\n",
    "    \n",
    "    for i in range(0, len(s)):\n",
    "        m=[0]*3\n",
    "        \n",
    "        for j in range(i, len(s)):\n",
    "            \n",
    "            m[ord(s[j]) - ord('a')] = 1\n",
    "            if m[0] + m[1] + m[2] == 3:\n",
    "                c = c + (len(s)-j)\n",
    "                break\n",
    "                \n",
    "    print(c)"
   ]
  },
  {
   "cell_type": "code",
   "execution_count": 23,
   "id": "b4af957b",
   "metadata": {},
   "outputs": [
    {
     "name": "stdout",
     "output_type": "stream",
     "text": [
      "9\n"
     ]
    }
   ],
   "source": [
    "f2(s)"
   ]
  },
  {
   "cell_type": "markdown",
   "id": "d761ac1e",
   "metadata": {},
   "source": [
    "# Optimal"
   ]
  },
  {
   "cell_type": "code",
   "execution_count": null,
   "id": "6671a84e",
   "metadata": {},
   "outputs": [],
   "source": []
  }
 ],
 "metadata": {
  "kernelspec": {
   "display_name": "Python 3 (ipykernel)",
   "language": "python",
   "name": "python3"
  },
  "language_info": {
   "codemirror_mode": {
    "name": "ipython",
    "version": 3
   },
   "file_extension": ".py",
   "mimetype": "text/x-python",
   "name": "python",
   "nbconvert_exporter": "python",
   "pygments_lexer": "ipython3",
   "version": "3.11.4"
  }
 },
 "nbformat": 4,
 "nbformat_minor": 5
}
