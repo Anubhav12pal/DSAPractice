{
 "cells": [
  {
   "cell_type": "code",
   "execution_count": 2,
   "id": "74c8d9be",
   "metadata": {},
   "outputs": [],
   "source": [
    "class Solution:\n",
    "    def minArrivalsToDiscard(self, arrivals, w, m):\n",
    "        wc = 0\n",
    "        l = 0\n",
    "        n = len(arrivals)\n",
    "\n",
    "        ans = 0\n",
    "        ma = {}\n",
    "\n",
    "        for i in range(n):\n",
    "            ca = arrivals[i]\n",
    "            ma[ca] = 1 + ma.get(ca, 0)\n",
    "            wc += 1\n",
    "\n",
    "            if wc > w:\n",
    "                left_val = arrivals[l]\n",
    "                if left_val in ma:\n",
    "                    ma[left_val] -= 1\n",
    "                    if ma[left_val] == 0:\n",
    "                        del ma[left_val]\n",
    "                l += 1\n",
    "                wc -= 1\n",
    "\n",
    "            if ma.get(ca, 0) > m:\n",
    "                ans += 1\n",
    "                arrivals[i] = 0\n",
    "                ma[ca] -= 1\n",
    "                if ma[ca] == 0:\n",
    "                    del ma[ca]\n",
    "        return ans"
   ]
  },
  {
   "cell_type": "code",
   "execution_count": 3,
   "id": "9bd60f06",
   "metadata": {},
   "outputs": [],
   "source": [
    "from typing import List\n",
    "from collections import defaultdict\n",
    "\n",
    "class Solution:\n",
    "    def minArrivalsToDiscard(self, arr: List[int], w: int, m: int) -> int:\n",
    "        i = 0\n",
    "        n = len(arr)\n",
    "        ans = 0\n",
    "        mp = defaultdict(int)\n",
    "\n",
    "        for j in range(n):\n",
    "            # shrink window if its size > w\n",
    "            while j - i + 1 > w:\n",
    "                mp[arr[i]] -= 1\n",
    "                i += 1\n",
    "\n",
    "            # check if adding this arrival exceeds m\n",
    "            if j - i + 1 <= w and mp[arr[j]] + 1 > m:\n",
    "                arr[j] = 0  # discarded\n",
    "                ans += 1\n",
    "                continue\n",
    "\n",
    "            mp[arr[j]] += 1\n",
    "\n",
    "        return ans"
   ]
  },
  {
   "cell_type": "code",
   "execution_count": null,
   "id": "ca7c0e8f",
   "metadata": {},
   "outputs": [],
   "source": []
  }
 ],
 "metadata": {
  "kernelspec": {
   "display_name": "Python 3 (ipykernel)",
   "language": "python",
   "name": "python3"
  },
  "language_info": {
   "codemirror_mode": {
    "name": "ipython",
    "version": 3
   },
   "file_extension": ".py",
   "mimetype": "text/x-python",
   "name": "python",
   "nbconvert_exporter": "python",
   "pygments_lexer": "ipython3",
   "version": "3.11.4"
  }
 },
 "nbformat": 4,
 "nbformat_minor": 5
}
