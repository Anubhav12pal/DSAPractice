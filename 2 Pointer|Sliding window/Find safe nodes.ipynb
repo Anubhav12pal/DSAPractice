{
 "cells": [
  {
   "cell_type": "code",
   "execution_count": 1,
   "id": "95733b63",
   "metadata": {},
   "outputs": [],
   "source": [
    "class Solution(object):\n",
    "    def eventualSafeNodes(self, graph):\n",
    "        \"\"\"\n",
    "        :type graph: List[List[int]]\n",
    "        :rtype: List[int]\n",
    "        \"\"\"\n",
    "        n = len(graph)\n",
    "        vis = [0] * n\n",
    "        pvis = [0] *n\n",
    "        check = [0] *n\n",
    "        safe = []\n",
    "\n",
    "        def dfs(node, vis, pvis, check, graph):\n",
    "            vis[node] = 1\n",
    "            pvis[node] = 1\n",
    "            check[node] = 0\n",
    "\n",
    "            for i in graph[node]:\n",
    "                if vis[i] == 0:\n",
    "                    if dfs(i, vis, pvis, check, graph):\n",
    "                        check[node] = 0\n",
    "                        return True\n",
    "                elif pvis[i] == 1:\n",
    "                    check[node] = 0\n",
    "                    return True\n",
    "            check[node] = 1\n",
    "            pvis[node] = 0\n",
    "            return False\n",
    "            \n",
    "\n",
    "\n",
    "        for i in range(n):\n",
    "            if vis[i] == 0:\n",
    "                dfs(i, vis, pvis, check, graph)\n",
    "        for i in range(n):\n",
    "            if check[i] == 1:\n",
    "                safe.append(i)\n",
    "        return safe\n",
    "\n",
    "                \n",
    "\n",
    "        "
   ]
  },
  {
   "cell_type": "code",
   "execution_count": null,
   "id": "4b061c67",
   "metadata": {},
   "outputs": [],
   "source": []
  }
 ],
 "metadata": {
  "kernelspec": {
   "display_name": "Python 3 (ipykernel)",
   "language": "python",
   "name": "python3"
  },
  "language_info": {
   "codemirror_mode": {
    "name": "ipython",
    "version": 3
   },
   "file_extension": ".py",
   "mimetype": "text/x-python",
   "name": "python",
   "nbconvert_exporter": "python",
   "pygments_lexer": "ipython3",
   "version": "3.11.4"
  }
 },
 "nbformat": 4,
 "nbformat_minor": 5
}
