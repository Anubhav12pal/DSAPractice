{
 "cells": [
  {
   "cell_type": "code",
   "execution_count": 1,
   "id": "1800dd10",
   "metadata": {},
   "outputs": [
    {
     "data": {
      "text/plain": [
       "'\\nA binary array given and an integer goal find the number of subarrayswhere sum = goal\\n\\narr = [1,0,1,0,1]\\n\\n\\n\\n'"
      ]
     },
     "execution_count": 1,
     "metadata": {},
     "output_type": "execute_result"
    }
   ],
   "source": [
    "'''\n",
    "A binary array given and an integer goal find the number of subarrayswhere sum = goal\n",
    "\n",
    "arr = [1,0,1,0,1]\n",
    "\n",
    "\n",
    "\n",
    "'''"
   ]
  },
  {
   "cell_type": "code",
   "execution_count": 2,
   "id": "ee9938b9",
   "metadata": {},
   "outputs": [],
   "source": [
    "l = [1,0,1,0,1]\n",
    "k=2"
   ]
  },
  {
   "cell_type": "code",
   "execution_count": 3,
   "id": "11efabe3",
   "metadata": {},
   "outputs": [
    {
     "data": {
      "text/plain": [
       "'\\n\\nwhat is a valid case here when sum = k\\n\\n'"
      ]
     },
     "execution_count": 3,
     "metadata": {},
     "output_type": "execute_result"
    }
   ],
   "source": [
    "'''\n",
    "\n",
    "what is a valid case here when sum = k\n",
    "\n",
    "'''"
   ]
  },
  {
   "cell_type": "code",
   "execution_count": 10,
   "id": "30391801",
   "metadata": {},
   "outputs": [],
   "source": [
    "def numSubarraysWithSum( nums, goal):\n",
    "        \"\"\"\n",
    "        :type nums: List[int]\n",
    "        :type goal: int\n",
    "        :rtype: int\n",
    "        \"\"\"\n",
    "\n",
    "        l, r, s, c = 0,0,0,0\n",
    "\n",
    "        print(nums)\n",
    "        while r < len(nums):\n",
    "\n",
    "            s += nums[r]\n",
    "            print(s)\n",
    "            print(c)\n",
    "\n",
    "            while s > goal:\n",
    "\n",
    "                s -= nums[l]\n",
    "                l += 1\n",
    "                \n",
    "                \n",
    "            c = c + r-l+1\n",
    "\n",
    "\n",
    "\n",
    "           \n",
    "                    \n",
    "            \n",
    "            r +=1\n",
    "\n",
    "        return c"
   ]
  },
  {
   "cell_type": "code",
   "execution_count": 11,
   "id": "5e0e1da8",
   "metadata": {},
   "outputs": [
    {
     "name": "stdout",
     "output_type": "stream",
     "text": [
      "[1, 0, 1, 0, 1]\n",
      "1\n",
      "0\n",
      "1\n",
      "1\n",
      "2\n",
      "3\n",
      "2\n",
      "6\n",
      "3\n",
      "10\n"
     ]
    },
    {
     "data": {
      "text/plain": [
       "14"
      ]
     },
     "execution_count": 11,
     "metadata": {},
     "output_type": "execute_result"
    }
   ],
   "source": [
    "numSubarraysWithSum(l,k)"
   ]
  },
  {
   "cell_type": "code",
   "execution_count": null,
   "id": "ce0de47f",
   "metadata": {},
   "outputs": [],
   "source": []
  },
  {
   "cell_type": "code",
   "execution_count": null,
   "id": "2b8c93b1",
   "metadata": {},
   "outputs": [],
   "source": []
  }
 ],
 "metadata": {
  "kernelspec": {
   "display_name": "Python 3 (ipykernel)",
   "language": "python",
   "name": "python3"
  },
  "language_info": {
   "codemirror_mode": {
    "name": "ipython",
    "version": 3
   },
   "file_extension": ".py",
   "mimetype": "text/x-python",
   "name": "python",
   "nbconvert_exporter": "python",
   "pygments_lexer": "ipython3",
   "version": "3.11.4"
  }
 },
 "nbformat": 4,
 "nbformat_minor": 5
}
