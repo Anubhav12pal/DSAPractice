{
 "cells": [
  {
   "cell_type": "code",
   "execution_count": 1,
   "id": "62e15878",
   "metadata": {},
   "outputs": [
    {
     "data": {
      "text/plain": [
       "'\\ns = AABABBA\\nu can pick atmost k charcters and convert them to any possible character\\nFind the longest substring which has all the character as equal\\n\\n'"
      ]
     },
     "execution_count": 1,
     "metadata": {},
     "output_type": "execute_result"
    }
   ],
   "source": [
    "'''\n",
    "s = AABABBA\n",
    "u can pick atmost k charcters and convert them to any possible character\n",
    "Find the longest substring which has all the character as equal\n",
    "\n",
    "'''"
   ]
  },
  {
   "cell_type": "code",
   "execution_count": 2,
   "id": "b5e355e5",
   "metadata": {},
   "outputs": [
    {
     "data": {
      "text/plain": [
       "'\\n\\nFirst find what is a valid string in this case: \\n\\nIn this case we are allowed to replace 2 other elements apart form the element with the highets frequency\\nThere fore here valid : \\n\\nhigh freq + k = length of string\\n\\n\\ninvalid of length - freq > k\\n\\nSo we track the count using a hashmap\\n\\n\\npseudocode:\\n\\nl = r = 0 = maxl\\n\\nadd elemet into tHE map \\nAND FIND THE MAX freq max = max(max, current element freq)\\n\\n\\nthen so an invalid check:\\n\\n\\nwhile  length - mfreq > k:\\n\\n map(array[l]) -- \\n maxf = 0\\n for i to 25 maxf = max(maxf, h)\\n \\n \\nif len - maxf <=k :\\nmaxl =. max(maxl, r-l +1)\\n\\nr++\\n\\n\\n\\n'"
      ]
     },
     "execution_count": 2,
     "metadata": {},
     "output_type": "execute_result"
    }
   ],
   "source": [
    "'''\n",
    "\n",
    "First find what is a valid string in this case: \n",
    "\n",
    "In this case we are allowed to replace 2 other elements apart form the element with the highets frequency\n",
    "There fore here valid : \n",
    "\n",
    "high freq + k = length of string\n",
    "\n",
    "\n",
    "invalid of length - freq > k\n",
    "\n",
    "So we track the count using a hashmap\n",
    "\n",
    "\n",
    "pseudocode:\n",
    "\n",
    "l = r = 0 = maxl\n",
    "\n",
    "add elemet into tHE map \n",
    "AND FIND THE MAX freq max = max(max, current element freq)\n",
    "\n",
    "\n",
    "then so an invalid check:\n",
    "\n",
    "\n",
    "while  length - mfreq > k:\n",
    "\n",
    " map(array[l]) -- \n",
    " maxf = 0\n",
    " for i to 25 maxf = max(maxf, h)\n",
    " \n",
    " \n",
    "if len - maxf <=k :\n",
    "maxl =. max(maxl, r-l +1)\n",
    "\n",
    "r++\n",
    "\n",
    "\n",
    "\n",
    "'''"
   ]
  },
  {
   "cell_type": "code",
   "execution_count": null,
   "id": "d313ba1d",
   "metadata": {},
   "outputs": [],
   "source": []
  }
 ],
 "metadata": {
  "kernelspec": {
   "display_name": "Python 3 (ipykernel)",
   "language": "python",
   "name": "python3"
  },
  "language_info": {
   "codemirror_mode": {
    "name": "ipython",
    "version": 3
   },
   "file_extension": ".py",
   "mimetype": "text/x-python",
   "name": "python",
   "nbconvert_exporter": "python",
   "pygments_lexer": "ipython3",
   "version": "3.11.4"
  }
 },
 "nbformat": 4,
 "nbformat_minor": 5
}
