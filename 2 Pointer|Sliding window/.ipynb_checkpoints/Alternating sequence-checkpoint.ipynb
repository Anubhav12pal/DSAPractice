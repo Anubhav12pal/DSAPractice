{
 "cells": [
  {
   "cell_type": "code",
   "execution_count": 2,
   "id": "3cfa39fe",
   "metadata": {},
   "outputs": [],
   "source": [
    "class Solution:\n",
    "    def numberOfAlternatingGroups(self, colors, k):\n",
    "\n",
    "\n",
    "\n",
    "        '''\n",
    "\n",
    "        See if we have a valid window and we have another valide element in the wondow then we can say that this is another window which was valid so the thing that \n",
    "        makes a larger window valid is the last 2 elements\n",
    "\n",
    "        We can keep this in mind and count the valid windows\n",
    "\n",
    "\n",
    "\n",
    "        '''\n",
    "\n",
    "\n",
    "        ans = 0\n",
    "        maxl = 1\n",
    "        n = len(colors)\n",
    "\n",
    "        # This is because there cannot be another window beyond k extra elements after n.Note that element at 0 = element at n, 1 = n+1 and so on coz we just add elements twice in case of round tables\n",
    "        for i in range(1, n + k -1):\n",
    "\n",
    "\n",
    "            if colors[i%n] != colors[(i-1 + n)%n]:\n",
    "                maxl += 1\n",
    "            else:\n",
    "                maxl = 1\n",
    "            if maxl >= k:\n",
    "                ans += 1\n",
    "        return ans\n",
    "\n",
    "\n",
    "\n",
    "\n",
    "        "
   ]
  },
  {
   "cell_type": "code",
   "execution_count": null,
   "id": "f4bdaf3e",
   "metadata": {},
   "outputs": [],
   "source": []
  }
 ],
 "metadata": {
  "kernelspec": {
   "display_name": "Python 3 (ipykernel)",
   "language": "python",
   "name": "python3"
  },
  "language_info": {
   "codemirror_mode": {
    "name": "ipython",
    "version": 3
   },
   "file_extension": ".py",
   "mimetype": "text/x-python",
   "name": "python",
   "nbconvert_exporter": "python",
   "pygments_lexer": "ipython3",
   "version": "3.11.4"
  }
 },
 "nbformat": 4,
 "nbformat_minor": 5
}
