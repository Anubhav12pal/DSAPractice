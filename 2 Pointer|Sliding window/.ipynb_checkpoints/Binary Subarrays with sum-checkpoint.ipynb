{
 "cells": [
  {
   "cell_type": "code",
   "execution_count": 1,
   "id": "1800dd10",
   "metadata": {},
   "outputs": [
    {
     "data": {
      "text/plain": [
       "'\\nA binary array given and an integer goal find the number of subarrayswhere sum = goal\\n\\narr = [1,0,1,0,1]\\n\\n\\n\\n'"
      ]
     },
     "execution_count": 1,
     "metadata": {},
     "output_type": "execute_result"
    }
   ],
   "source": [
    "'''\n",
    "A binary array given and an integer goal find the number of subarrayswhere sum = goal\n",
    "\n",
    "arr = [1,0,1,0,1]\n",
    "\n",
    "\n",
    "\n",
    "'''"
   ]
  },
  {
   "cell_type": "code",
   "execution_count": 2,
   "id": "ee9938b9",
   "metadata": {},
   "outputs": [],
   "source": [
    "l = [1,0,1,0,1]\n",
    "k=2"
   ]
  },
  {
   "cell_type": "code",
   "execution_count": 13,
   "id": "11efabe3",
   "metadata": {},
   "outputs": [
    {
     "data": {
      "text/plain": [
       "'\\n\\nwhat is a valid case here when sum = k\\nThis is incorrect\\n\\n'"
      ]
     },
     "execution_count": 13,
     "metadata": {},
     "output_type": "execute_result"
    }
   ],
   "source": [
    "'''\n",
    "\n",
    "what is a valid case here when sum = k\n",
    "This is incorrect\n",
    "\n",
    "'''"
   ]
  },
  {
   "cell_type": "code",
   "execution_count": 14,
   "id": "30391801",
   "metadata": {},
   "outputs": [],
   "source": [
    "def numSubarraysWithSum( nums, goal):\n",
    "        \"\"\"\n",
    "        :type nums: List[int]\n",
    "        :type goal: int\n",
    "        :rtype: int\n",
    "        \"\"\"\n",
    "\n",
    "        l, r, s, c = 0,0,0,0\n",
    "\n",
    "        print(nums)\n",
    "        while r < len(nums):\n",
    "\n",
    "            s += nums[r]\n",
    "            print(s)\n",
    "            print(c)\n",
    "\n",
    "            while s > goal:\n",
    "\n",
    "                s -= nums[l]\n",
    "                l += 1\n",
    "                \n",
    "                \n",
    "            c = c + r-l+1\n",
    "\n",
    "\n",
    "\n",
    "           \n",
    "                    \n",
    "            \n",
    "            r +=1\n",
    "\n",
    "        return c"
   ]
  },
  {
   "cell_type": "code",
   "execution_count": 15,
   "id": "5e0e1da8",
   "metadata": {},
   "outputs": [
    {
     "name": "stdout",
     "output_type": "stream",
     "text": [
      "[1, 0, 1, 0, 1]\n",
      "1\n",
      "0\n",
      "1\n",
      "1\n",
      "2\n",
      "3\n",
      "2\n",
      "6\n",
      "3\n",
      "10\n"
     ]
    },
    {
     "data": {
      "text/plain": [
       "14"
      ]
     },
     "execution_count": 15,
     "metadata": {},
     "output_type": "execute_result"
    }
   ],
   "source": [
    "numSubarraysWithSum(l,k)"
   ]
  },
  {
   "cell_type": "code",
   "execution_count": 16,
   "id": "ce0de47f",
   "metadata": {},
   "outputs": [],
   "source": [
    "class Solution(object):\n",
    "    def numSubarraysWithSum(self, nums, goal):\n",
    "        \"\"\"\n",
    "        :type nums: List[int]\n",
    "        :type goal: int\n",
    "        :rtype: int\n",
    "        \"\"\"\n",
    "        \n",
    "        def helper(x):\n",
    "            if x < 0:\n",
    "                 return 0\n",
    "\n",
    "            res = 0\n",
    "            l,cur = 0,0\n",
    "\n",
    "            for r in range(len(nums)):\n",
    "                cur +=nums[r]\n",
    "                while cur > x:\n",
    "                    cur -= nums[l]\n",
    "                    l +=1\n",
    "                \n",
    "                res += r-l+1\n",
    "\n",
    "            return res\n",
    "\n",
    "        return helper(goal) - helper(goal-1)"
   ]
  },
  {
   "cell_type": "code",
   "execution_count": 1,
   "id": "2b8c93b1",
   "metadata": {},
   "outputs": [
    {
     "data": {
      "text/plain": [
       "\"\\n\\nHere normallt when we use the tech we use in the second pattern we knwop that we dont know when to push the left forwars \\nas 2 consecutive 0's dont effect the sum and they can make 2 different subarrays so we use this approach \\nwhere instead of considering the sum  == k we usue sum <= k \\nand for sim = k we just subtract sim <= k-1 for the soln\\n\""
      ]
     },
     "execution_count": 1,
     "metadata": {},
     "output_type": "execute_result"
    }
   ],
   "source": [
    "'''\n",
    "\n",
    "Here normallt when we use the tech we use in the second pattern we knwop that we dont know when to push the left forwars \n",
    "as 2 consecutive 0's dont effect the sum and they can make 2 different subarrays so we use this approach \n",
    "where instead of considering the sum  == k we usue sum <= k \n",
    "and for sim = k we just subtract sim <= k-1 for the soln\n",
    "'''"
   ]
  },
  {
   "cell_type": "code",
   "execution_count": null,
   "id": "eebf1d8a",
   "metadata": {},
   "outputs": [],
   "source": []
  }
 ],
 "metadata": {
  "kernelspec": {
   "display_name": "Python 3 (ipykernel)",
   "language": "python",
   "name": "python3"
  },
  "language_info": {
   "codemirror_mode": {
    "name": "ipython",
    "version": 3
   },
   "file_extension": ".py",
   "mimetype": "text/x-python",
   "name": "python",
   "nbconvert_exporter": "python",
   "pygments_lexer": "ipython3",
   "version": "3.11.4"
  }
 },
 "nbformat": 4,
 "nbformat_minor": 5
}
