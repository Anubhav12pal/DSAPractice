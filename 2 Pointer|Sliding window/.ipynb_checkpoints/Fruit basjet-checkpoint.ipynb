{
 "cells": [
  {
   "cell_type": "code",
   "execution_count": 19,
   "id": "b03ccba5",
   "metadata": {},
   "outputs": [],
   "source": [
    "l = [3,3,3,1,2,1,1,2,3,3,4]"
   ]
  },
  {
   "cell_type": "code",
   "execution_count": 20,
   "id": "05a14d7c",
   "metadata": {},
   "outputs": [
    {
     "data": {
      "text/plain": [
       "'\\nat index 0 there is tree 1 and it produces fruit of type 3 and so on\\nSo we have 2 baskets basket 1 can hold only 1 type of fruit and 2 any type but of 1 type only \\n\\nso b1 can have 3 3 3 and 2 only 2 2 2 or 1 1 1 or 4 4 4\\n\\nPick the max fruits\\n\\nFinding max len subarray with atmost 2 type of numbers\\n\\nonce u start picking u cannot put another one\\n\\n\\n\\n'"
      ]
     },
     "execution_count": 20,
     "metadata": {},
     "output_type": "execute_result"
    }
   ],
   "source": [
    "'''\n",
    "at index 0 there is tree 1 and it produces fruit of type 3 and so on\n",
    "So we have 2 baskets basket 1 can hold only 1 type of fruit and 2 any type but of 1 type only \n",
    "\n",
    "so b1 can have 3 3 3 and 2 only 2 2 2 or 1 1 1 or 4 4 4\n",
    "\n",
    "Pick the max fruits\n",
    "\n",
    "Finding max len subarray with atmost 2 type of numbers\n",
    "\n",
    "once u start picking u cannot put another one\n",
    "\n",
    "\n",
    "\n",
    "'''"
   ]
  },
  {
   "cell_type": "code",
   "execution_count": 21,
   "id": "978bd23d",
   "metadata": {},
   "outputs": [
    {
     "data": {
      "text/plain": [
       "'\\n\\nNote the conditions :\\n \\nwe cankeep track of how many elements are there in the map and as we need just 2 we \\nwill add and remove the element based on that.\\n\\nAnd will move the left poiunter according to that:\\n\\n\\nconditions while r < n-1\\n\\nAdd the element into the map first map[l[r]]++\\n\\ncheck for the left shrinking condition to check if u need to shrink or not\\n\\nHere in this cas ethe shrinking condition is if we have more thean 2 elements in the map\\nif map.size > 2\\n\\n then we shrink the map size from the left\\n \\n while map.size > 2:\\n map[l[left]]--\\n if map[l[left]] == 0: delete from the map\\n left ++\\n \\n \\nif map.size <=2:\\nmaxl = max(maxl, r-l+1)\\n\\nright ++\\n \\n \\n\\n\\n'"
      ]
     },
     "execution_count": 21,
     "metadata": {},
     "output_type": "execute_result"
    }
   ],
   "source": [
    "'''\n",
    "\n",
    "Note the conditions :\n",
    " \n",
    "we cankeep track of how many elements are there in the map and as we need just 2 we \n",
    "will add and remove the element based on that.\n",
    "\n",
    "And will move the left poiunter according to that:\n",
    "\n",
    "\n",
    "conditions while r < n-1\n",
    "\n",
    "Add the element into the map first map[l[r]]++\n",
    "\n",
    "check for the left shrinking condition to check if u need to shrink or not\n",
    "\n",
    "Here in this cas ethe shrinking condition is if we have more thean 2 elements in the map\n",
    "if map.size > 2\n",
    "\n",
    " then we shrink the map size from the left\n",
    " \n",
    " while map.size > 2:\n",
    " map[l[left]]--\n",
    " if map[l[left]] == 0: delete from the map\n",
    " left ++\n",
    " \n",
    " \n",
    "if map.size <=2:\n",
    "maxl = max(maxl, r-l+1)\n",
    "\n",
    "right ++\n",
    " \n",
    " \n",
    "\n",
    "\n",
    "'''"
   ]
  },
  {
   "cell_type": "code",
   "execution_count": 22,
   "id": "ad492ff0",
   "metadata": {},
   "outputs": [],
   "source": [
    "def f(l):\n",
    "    \n",
    "    m = {}\n",
    "    \n",
    "    le,r,ml = 0,0,0\n",
    "    \n",
    "    n = len(l)\n",
    "    \n",
    "    while r < n:\n",
    "        \n",
    "        m[l[r]] = 1 + m.get(l[r], 0)\n",
    "        \n",
    "        if len(m) > 2:\n",
    "            while len(m) > 2:\n",
    "                m[l[le]] = m[l[le]] - 1\n",
    "                if m[l[le]] == 0:\n",
    "                    m.pop(l[le])\n",
    "                    \n",
    "                le +=1\n",
    "                \n",
    "        if len(m) <= 2:\n",
    "            ml = max(ml, r-le+1)\n",
    "            \n",
    "        r += 1\n",
    "    \n",
    "    print(ml)\n",
    "        \n",
    "        \n",
    " "
   ]
  },
  {
   "cell_type": "code",
   "execution_count": 23,
   "id": "539fc50e",
   "metadata": {},
   "outputs": [
    {
     "name": "stdout",
     "output_type": "stream",
     "text": [
      "5\n"
     ]
    }
   ],
   "source": [
    "f(l)"
   ]
  },
  {
   "cell_type": "code",
   "execution_count": 24,
   "id": "a276c2ab",
   "metadata": {},
   "outputs": [
    {
     "data": {
      "text/plain": [
       "'\\ntIME - O(2N) \\n\\nDont cinsider the map as it is very small\\n'"
      ]
     },
     "execution_count": 24,
     "metadata": {},
     "output_type": "execute_result"
    }
   ],
   "source": [
    "'''\n",
    "tIME - O(2N) \n",
    "\n",
    "Dont cinsider the map as it is very small\n",
    "'''"
   ]
  },
  {
   "cell_type": "code",
   "execution_count": 25,
   "id": "6c70db76",
   "metadata": {},
   "outputs": [],
   "source": [
    "# Best O(N) soln"
   ]
  },
  {
   "cell_type": "code",
   "execution_count": 28,
   "id": "3fba2e50",
   "metadata": {},
   "outputs": [
    {
     "data": {
      "text/plain": [
       "'\\nExtra time is being taken as we shrink the left side when we find the map is greater in size. So fix the while loop\\nBasically here dont let the size of the map go down so keep increasing the r pointer when you shrink from the left\\nSo let the left move with the r instead of moving the l with the while loop\\n'"
      ]
     },
     "execution_count": 28,
     "metadata": {},
     "output_type": "execute_result"
    }
   ],
   "source": [
    "'''\n",
    "Extra time is being taken as we shrink the left side when we find the map is greater in size. So fix the while loop\n",
    "Basically here dont let the size of the map go down so keep increasing the r pointer when you shrink from the left\n",
    "So let the left move with the r instead of moving the l with the while loop\n",
    "'''"
   ]
  },
  {
   "cell_type": "code",
   "execution_count": 37,
   "id": "3e081a08",
   "metadata": {},
   "outputs": [],
   "source": [
    "def f2(li):\n",
    "    l,r,mx = 0,0,0\n",
    "    \n",
    "    m = {}\n",
    "    \n",
    "    while r < len(li):\n",
    "        \n",
    "        m[li[r]] = m.get(li[r], 0) +1\n",
    "        \n",
    "        if len(m) > 2:\n",
    "            \n",
    "            m[li[l]] = m[li[l]] - 1\n",
    "            if m[li[l]] == 0:\n",
    "                    m.pop(li[l])\n",
    "            l +=1\n",
    "            \n",
    "        if len(m) <= 2:\n",
    "            mx = max(mx, r-l+1)\n",
    "        r +=1\n",
    "        \n",
    "    print(mx)\n",
    "            "
   ]
  },
  {
   "cell_type": "code",
   "execution_count": 38,
   "id": "b4a0a97b",
   "metadata": {},
   "outputs": [
    {
     "name": "stdout",
     "output_type": "stream",
     "text": [
      "5\n"
     ]
    }
   ],
   "source": [
    "f2(l)"
   ]
  },
  {
   "cell_type": "code",
   "execution_count": null,
   "id": "a5f5c977",
   "metadata": {},
   "outputs": [],
   "source": []
  }
 ],
 "metadata": {
  "kernelspec": {
   "display_name": "Python 3 (ipykernel)",
   "language": "python",
   "name": "python3"
  },
  "language_info": {
   "codemirror_mode": {
    "name": "ipython",
    "version": 3
   },
   "file_extension": ".py",
   "mimetype": "text/x-python",
   "name": "python",
   "nbconvert_exporter": "python",
   "pygments_lexer": "ipython3",
   "version": "3.11.4"
  }
 },
 "nbformat": 4,
 "nbformat_minor": 5
}
