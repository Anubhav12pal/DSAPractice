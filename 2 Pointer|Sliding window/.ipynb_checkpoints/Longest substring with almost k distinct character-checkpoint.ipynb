{
 "cells": [
  {
   "cell_type": "code",
   "execution_count": 1,
   "id": "8160bee0",
   "metadata": {},
   "outputs": [
    {
     "data": {
      "text/plain": [
       "'\\ns = aaabbccd\\nk = 2\\n\\naaabb is good\\naaabbc is not good as characters are 3\\n\\n\\n'"
      ]
     },
     "execution_count": 1,
     "metadata": {},
     "output_type": "execute_result"
    }
   ],
   "source": [
    "'''\n",
    "s = aaabbccd\n",
    "k = 2\n",
    "\n",
    "aaabb is good\n",
    "aaabbc is not good as characters are 3\n",
    "\n",
    "\n",
    "'''"
   ]
  },
  {
   "cell_type": "code",
   "execution_count": 2,
   "id": "bc4a9f5b",
   "metadata": {},
   "outputs": [
    {
     "data": {
      "text/plain": [
       "'\\n\\nSimilar to fruit basket use l and r and a map\\nincrement the r till n \\nincrement the l to shrink on a needed  condition and use the map to keep track of it\\n\\n# Most optoimal :\\n  increment the l pointer till z>k\\n\\n\\n\\n'"
      ]
     },
     "execution_count": 2,
     "metadata": {},
     "output_type": "execute_result"
    }
   ],
   "source": [
    "'''\n",
    "\n",
    "Similar to fruit basket use l and r and a map\n",
    "increment the r till n \n",
    "increment the l to shrink on a needed  condition and use the map to keep track of it\n",
    "\n",
    "# Most optoimal :\n",
    "  increment the l pointer till z>k\n",
    "\n",
    "\n",
    "\n",
    "'''"
   ]
  },
  {
   "cell_type": "code",
   "execution_count": null,
   "id": "86317c6d",
   "metadata": {},
   "outputs": [],
   "source": [
    "def f(s, k):\n",
    "    \n",
    "    \n",
    "    n = len(s)\n",
    "    l,r,mx = 0,0,0\n",
    "    \n",
    "    m = 0\n",
    "    \n",
    "    while r <n:\n",
    "        m[s[r]] = 1+m.get(l[r],0)\n",
    "        \n",
    "        while len(m) > k:\n",
    "            m[]"
   ]
  }
 ],
 "metadata": {
  "kernelspec": {
   "display_name": "Python 3 (ipykernel)",
   "language": "python",
   "name": "python3"
  },
  "language_info": {
   "codemirror_mode": {
    "name": "ipython",
    "version": 3
   },
   "file_extension": ".py",
   "mimetype": "text/x-python",
   "name": "python",
   "nbconvert_exporter": "python",
   "pygments_lexer": "ipython3",
   "version": "3.11.4"
  }
 },
 "nbformat": 4,
 "nbformat_minor": 5
}
