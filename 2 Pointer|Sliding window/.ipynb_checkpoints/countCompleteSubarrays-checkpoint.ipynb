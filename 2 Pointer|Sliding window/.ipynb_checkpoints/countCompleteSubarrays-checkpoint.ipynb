{
 "cells": [
  {
   "cell_type": "code",
   "execution_count": 2,
   "id": "658e5aff",
   "metadata": {},
   "outputs": [],
   "source": [
    "class Solution:\n",
    "    def countCompleteSubarrays(self, nums):\n",
    "\n",
    "\n",
    "        t = set(nums)\n",
    "        k = len(t)\n",
    "        l = 0\n",
    "        ans = 0\n",
    "\n",
    "        '''\n",
    "\n",
    "        if u find 1 valid case here all the cases after the particukar window till the end of the array are valid and hence we add n - r to the ans\n",
    "\n",
    "\n",
    "        '''\n",
    "\n",
    "        n = len(nums)\n",
    "        m= {}\n",
    "\n",
    "        for r in range(n):\n",
    "\n",
    "            ele = nums[r]\n",
    "            m[ele] = 1 + m.get(ele, 0)\n",
    "            while len(m) >= k:\n",
    "                ans += n - r\n",
    "                m[nums[l]] -= 1\n",
    "                \n",
    "                if m[nums[l]] == 0:\n",
    "                    del m[nums[l]]\n",
    "                l  += 1\n",
    "        return ans"
   ]
  },
  {
   "cell_type": "code",
   "execution_count": null,
   "id": "d79d8572",
   "metadata": {},
   "outputs": [],
   "source": []
  }
 ],
 "metadata": {
  "kernelspec": {
   "display_name": "Python 3 (ipykernel)",
   "language": "python",
   "name": "python3"
  },
  "language_info": {
   "codemirror_mode": {
    "name": "ipython",
    "version": 3
   },
   "file_extension": ".py",
   "mimetype": "text/x-python",
   "name": "python",
   "nbconvert_exporter": "python",
   "pygments_lexer": "ipython3",
   "version": "3.11.4"
  }
 },
 "nbformat": 4,
 "nbformat_minor": 5
}
