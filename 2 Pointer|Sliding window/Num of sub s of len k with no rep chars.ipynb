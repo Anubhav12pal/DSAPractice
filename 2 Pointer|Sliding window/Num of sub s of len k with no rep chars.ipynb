{
 "cells": [
  {
   "cell_type": "code",
   "execution_count": 1,
   "id": "4cae6867",
   "metadata": {},
   "outputs": [],
   "source": [
    "class Solution:\n",
    "    def numKLenSubstrNoRepeats(self, s, k):\n",
    "\n",
    "\n",
    "\n",
    "        n = len(s)\n",
    "        l = 0\n",
    "        m = {}\n",
    "        ans = 0\n",
    "        for r in range(n):\n",
    "\n",
    "            c= s[r]\n",
    "            m[c] = 1 + m.get(c, 0)\n",
    "\n",
    "            while m[c] > 1 or (r - l + 1) > k:\n",
    "\n",
    "                cc = s[l]\n",
    "                m[cc] -= 1\n",
    "                if m[c] == 0:\n",
    "                    del m[cc]\n",
    "                l += 1\n",
    "            if r - l + 1 == k:\n",
    "                ans += 1\n",
    "        return ans\n"
   ]
  },
  {
   "cell_type": "code",
   "execution_count": 2,
   "id": "0f16b6bc",
   "metadata": {},
   "outputs": [
    {
     "data": {
      "text/plain": [
       "'\\nKeep expanding\\nShrink window if the size. > k or shrink if reop till rep is removed\\n\\n\\n\\n'"
      ]
     },
     "execution_count": 2,
     "metadata": {},
     "output_type": "execute_result"
    }
   ],
   "source": [
    "'''\n",
    "Keep expanding\n",
    "Shrink window if the size. > k or shrink if reop till rep is removed\n",
    "\n",
    "\n",
    "\n",
    "'''"
   ]
  },
  {
   "cell_type": "code",
   "execution_count": null,
   "id": "b78e7a6e",
   "metadata": {},
   "outputs": [],
   "source": []
  }
 ],
 "metadata": {
  "kernelspec": {
   "display_name": "Python 3 (ipykernel)",
   "language": "python",
   "name": "python3"
  },
  "language_info": {
   "codemirror_mode": {
    "name": "ipython",
    "version": 3
   },
   "file_extension": ".py",
   "mimetype": "text/x-python",
   "name": "python",
   "nbconvert_exporter": "python",
   "pygments_lexer": "ipython3",
   "version": "3.11.4"
  }
 },
 "nbformat": 4,
 "nbformat_minor": 5
}
