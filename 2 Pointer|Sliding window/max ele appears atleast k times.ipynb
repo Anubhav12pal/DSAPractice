{
 "cells": [
  {
   "cell_type": "code",
   "execution_count": 2,
   "id": "67078239",
   "metadata": {},
   "outputs": [],
   "source": [
    "class Solution:\n",
    "    def countSubarrays(self, nums, k):\n",
    "\n",
    "        mx = max(nums)\n",
    "\n",
    "        n = len(nums)\n",
    "        l = 0\n",
    "        c = 0\n",
    "        ans = 0\n",
    "\n",
    "\n",
    "        for r in range(n):\n",
    "\n",
    "            ele = nums[r]\n",
    "            if ele == mx:\n",
    "                c += 1\n",
    "\n",
    "            while c >= k:\n",
    "                ans += n - r\n",
    "                if nums[l] == mx:\n",
    "                    c -= 1\n",
    "                l += 1\n",
    "        return ans"
   ]
  },
  {
   "cell_type": "code",
   "execution_count": 3,
   "id": "a7e66fb1",
   "metadata": {},
   "outputs": [],
   "source": [
    "# Below is the worst spaceversion of above"
   ]
  },
  {
   "cell_type": "code",
   "execution_count": 8,
   "id": "8eaaad0a",
   "metadata": {},
   "outputs": [],
   "source": [
    "class Solution:\n",
    "    def countSubarrays(self, nums, k):\n",
    "\n",
    "        mx = max(nums)\n",
    "\n",
    "        n = len(nums)\n",
    "        l = 0\n",
    "        c = 0\n",
    "        m = {}\n",
    "        m[mx] = 0\n",
    "        ans = 0\n",
    "\n",
    "\n",
    "        for r in range(n):\n",
    "\n",
    "            ele = nums[r]\n",
    "            m[ele] = 1 + m.get(ele, 0)\n",
    "\n",
    "            while m[mx] >= k:\n",
    "                ans += n - r\n",
    "                m[nums[l]] -= 1\n",
    "                l += 1\n",
    "        return ans\n",
    "            \n",
    "        "
   ]
  },
  {
   "cell_type": "code",
   "execution_count": 9,
   "id": "5f47601e",
   "metadata": {},
   "outputs": [
    {
     "data": {
      "text/plain": [
       "'\\n\\nLogic : if the max element appears exactly k times we know all the later subarrays from r will be valid so we add n - r \\nto the answer\\n\\nbut we also have to take the left subarrays into consideration as well:\\nso we can do a while loop and remove the left element until we satisfy the k mx elements stratergy as soon as we reach a\\nstage where there are no k mx ele we can continue with the r loop and we would also have covered the lhs cases\\n\\n'"
      ]
     },
     "execution_count": 9,
     "metadata": {},
     "output_type": "execute_result"
    }
   ],
   "source": [
    "'''\n",
    "\n",
    "Logic : if the max element appears exactly k times we know all the later subarrays from r will be valid so we add n - r \n",
    "to the answer\n",
    "\n",
    "but we also have to take the left subarrays into consideration as well:\n",
    "so we can do a while loop and remove the left element until we satisfy the k mx elements stratergy as soon as we reach a\n",
    "stage where there are no k mx ele we can continue with the r loop and we would also have covered the lhs cases\n",
    "\n",
    "'''"
   ]
  },
  {
   "cell_type": "code",
   "execution_count": null,
   "id": "abdd80ff",
   "metadata": {},
   "outputs": [],
   "source": []
  }
 ],
 "metadata": {
  "kernelspec": {
   "display_name": "Python 3 (ipykernel)",
   "language": "python",
   "name": "python3"
  },
  "language_info": {
   "codemirror_mode": {
    "name": "ipython",
    "version": 3
   },
   "file_extension": ".py",
   "mimetype": "text/x-python",
   "name": "python",
   "nbconvert_exporter": "python",
   "pygments_lexer": "ipython3",
   "version": "3.11.4"
  }
 },
 "nbformat": 4,
 "nbformat_minor": 5
}
