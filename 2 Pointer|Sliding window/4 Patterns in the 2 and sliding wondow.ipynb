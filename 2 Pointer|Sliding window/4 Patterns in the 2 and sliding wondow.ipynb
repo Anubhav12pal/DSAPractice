{
 "cells": [
  {
   "cell_type": "markdown",
   "id": "921a467a",
   "metadata": {},
   "source": [
    "# 1 Constant Window"
   ]
  },
  {
   "cell_type": "code",
   "execution_count": 5,
   "id": "3b349455",
   "metadata": {},
   "outputs": [
    {
     "data": {
      "text/plain": [
       "'\\nConstant window: See how to run the loop || Not too common and wont be asked\\n\\n\\nHere we have a constant window \\neg: Find the max consecutive sum of 4 consecuticve ele\\n\\nlis = -1,2,3,3,4,5,-1\\n\\nl = 0, r = 3\\n\\nrun a loop to find the sum and store it in max = sum\\n\\nthe run a  while loop :\\nwhile r < n-1:\\nsum = sum - arr[l]\\nl++\\nr++\\nsum = sum + arr[r]\\n\\ncheck for max:\\nmax = max(max , sum)\\n'"
      ]
     },
     "execution_count": 5,
     "metadata": {},
     "output_type": "execute_result"
    }
   ],
   "source": [
    "'''\n",
    "Constant window: See how to run the loop || Not too common and wont be asked\n",
    "\n",
    "\n",
    "Here we have a constant window \n",
    "eg: Find the max consecutive sum of 4 consecuticve ele\n",
    "\n",
    "lis = -1,2,3,3,4,5,-1\n",
    "\n",
    "l = 0, r = 3\n",
    "\n",
    "run a loop to find the sum and store it in max = sum\n",
    "\n",
    "the run a  while loop :\n",
    "while r < n-1:\n",
    "sum = sum - arr[l]\n",
    "l++\n",
    "r++\n",
    "sum = sum + arr[r]\n",
    "\n",
    "check for max:\n",
    "max = max(max , sum)\n",
    "'''"
   ]
  },
  {
   "cell_type": "markdown",
   "id": "d975dfb4",
   "metadata": {},
   "source": [
    "# 2 Longest Subarray / Substring where Condition"
   ]
  },
  {
   "cell_type": "code",
   "execution_count": 6,
   "id": "a9a397f9",
   "metadata": {},
   "outputs": [
    {
     "data": {
      "text/plain": [
       "'\\nSubarray: any consecutive sequence in an array\\n\\nFind the longest suba with sum less than k\\n\\nBrute: Generate all subarrays:\\n2 loops 0 to n-1 and another i to n-1\\nhave a sum be 0 on each inner iteration\\nsum = sum+a[j]\\nif sum <=k\\nmaxl = max(maxl,j-i+1)\\n\\nELSE IF sum >k break\\n\\n\\n\\n\\n'"
      ]
     },
     "execution_count": 6,
     "metadata": {},
     "output_type": "execute_result"
    }
   ],
   "source": [
    "'''\n",
    "Subarray: any consecutive sequence in an array\n",
    "\n",
    "Find the longest suba with sum less than k\n",
    "\n",
    "Brute: Generate all subarrays:\n",
    "2 loops 0 to n-1 and another i to n-1\n",
    "have a sum be 0 on each inner iteration\n",
    "sum = sum+a[j]\n",
    "if sum <=k\n",
    "maxl = max(maxl,j-i+1)\n",
    "\n",
    "ELSE IF sum >k break\n",
    "\n",
    "\n",
    "Better: 2 pointer and sliding window:\n",
    "1 Window of 1 \n",
    "\n",
    "depending on the cond shrinka dn expand\n",
    "\n",
    "\n",
    "\n",
    "\n",
    "'''"
   ]
  },
  {
   "cell_type": "markdown",
   "id": "9992fdaa",
   "metadata": {},
   "source": [
    "# 3 Number of subarrays where condition "
   ]
  },
  {
   "cell_type": "code",
   "execution_count": null,
   "id": "bc6997f8",
   "metadata": {},
   "outputs": [],
   "source": [
    "'''\n",
    "\n",
    "Uses pattern 2 v diff \n",
    "\n",
    "\n",
    "'''"
   ]
  }
 ],
 "metadata": {
  "kernelspec": {
   "display_name": "Python 3 (ipykernel)",
   "language": "python",
   "name": "python3"
  },
  "language_info": {
   "codemirror_mode": {
    "name": "ipython",
    "version": 3
   },
   "file_extension": ".py",
   "mimetype": "text/x-python",
   "name": "python",
   "nbconvert_exporter": "python",
   "pygments_lexer": "ipython3",
   "version": "3.11.4"
  }
 },
 "nbformat": 4,
 "nbformat_minor": 5
}
