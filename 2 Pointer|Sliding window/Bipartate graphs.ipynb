{
 "cells": [
  {
   "cell_type": "code",
   "execution_count": 2,
   "id": "7efc9faa",
   "metadata": {},
   "outputs": [],
   "source": [
    "class Solution(object):\n",
    "    def isBipartite(self, graph):\n",
    "        \"\"\"\n",
    "        :type graph: List[List[int]]\n",
    "        :rtype: bool\n",
    "        \"\"\"\n",
    "\n",
    "        n = len(graph)\n",
    "        colo = [-1] * n  # Color array to track node colors\n",
    "\n",
    "        def dfs(node, colo, graph, col):\n",
    "            colo[node] = col  # Color the current node\n",
    "\n",
    "            for i in graph[node]:\n",
    "                if colo[i] == -1:  # If the neighbor is not colored\n",
    "                    if not dfs(i, colo, graph, 1 - col):  # Alternate colors (0 -> 1 or 1 -> 0)\n",
    "                        return False\n",
    "                elif colo[i] == col:  # If the neighbor has the same color, it's not bipartite\n",
    "                    return False\n",
    "\n",
    "            return True  # Return True if successful\n",
    "\n",
    "        # Try to color each component\n",
    "        for i in range(n):\n",
    "            if colo[i] == -1:  # If the node hasn't been colored\n",
    "                if not dfs(i, colo, graph, 0):  # Start with color 0\n",
    "                    return False\n",
    "        \n",
    "        return True\n"
   ]
  },
  {
   "cell_type": "code",
   "execution_count": 3,
   "id": "de2ee1fa",
   "metadata": {},
   "outputs": [
    {
     "data": {
      "text/plain": [
       "'\\n\\nThere is an undirected graph with n nodes, where each node is numbered between 0 and n - 1. You are given a 2D array graph, where graph[u] is an array of nodes that node u is adjacent to. More formally, for each v in graph[u], there is an undirected edge between node u and node v. The graph has the following properties:\\n\\nThere are no self-edges (graph[u] does not contain u).\\nThere are no parallel edges (graph[u] does not contain duplicate values).\\nIf v is in graph[u], then u is in graph[v] (the graph is undirected).\\nThe graph may not be connected, meaning there may be two nodes u and v such that there is no path between them.\\nA graph is bipartite if the nodes can be partitioned into two independent sets A and B such that every edge in the graph connects a node in set A and a node in set B.\\n\\nReturn true if and only if it is bipartite.\\n\\n'"
      ]
     },
     "execution_count": 3,
     "metadata": {},
     "output_type": "execute_result"
    }
   ],
   "source": [
    "'''\n",
    "\n",
    "There is an undirected graph with n nodes, where each node is numbered between 0 and n - 1. You are given a 2D array graph, where graph[u] is an array of nodes that node u is adjacent to. More formally, for each v in graph[u], there is an undirected edge between node u and node v. The graph has the following properties:\n",
    "\n",
    "There are no self-edges (graph[u] does not contain u).\n",
    "There are no parallel edges (graph[u] does not contain duplicate values).\n",
    "If v is in graph[u], then u is in graph[v] (the graph is undirected).\n",
    "The graph may not be connected, meaning there may be two nodes u and v such that there is no path between them.\n",
    "A graph is bipartite if the nodes can be partitioned into two independent sets A and B such that every edge in the graph connects a node in set A and a node in set B.\n",
    "\n",
    "Return true if and only if it is bipartite.\n",
    "\n",
    "'''"
   ]
  },
  {
   "cell_type": "markdown",
   "id": "f98e6a4b",
   "metadata": {},
   "source": [
    "# OR"
   ]
  },
  {
   "cell_type": "code",
   "execution_count": 4,
   "id": "5afcce4d",
   "metadata": {},
   "outputs": [
    {
     "data": {
      "text/plain": [
       "'\\nTWO ADJASCENT ELEMENTS ARE NOT OF SAME COLOR , THEY CAN BE SAME COLOR IF THERE IS A CYCLE\\n\\n\\n'"
      ]
     },
     "execution_count": 4,
     "metadata": {},
     "output_type": "execute_result"
    }
   ],
   "source": [
    "'''\n",
    "TWO ADJASCENT ELEMENTS ARE NOT OF SAME COLOR , THEY CAN BE SAME COLOR IF THERE IS A CYCLE\n",
    "\n",
    "\n",
    "'''"
   ]
  },
  {
   "cell_type": "code",
   "execution_count": null,
   "id": "f2148b62",
   "metadata": {},
   "outputs": [],
   "source": []
  }
 ],
 "metadata": {
  "kernelspec": {
   "display_name": "Python 3 (ipykernel)",
   "language": "python",
   "name": "python3"
  },
  "language_info": {
   "codemirror_mode": {
    "name": "ipython",
    "version": 3
   },
   "file_extension": ".py",
   "mimetype": "text/x-python",
   "name": "python",
   "nbconvert_exporter": "python",
   "pygments_lexer": "ipython3",
   "version": "3.11.4"
  }
 },
 "nbformat": 4,
 "nbformat_minor": 5
}
