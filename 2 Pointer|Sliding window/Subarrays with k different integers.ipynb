{
 "cells": [
  {
   "cell_type": "code",
   "execution_count": 1,
   "id": "a07e0e70",
   "metadata": {},
   "outputs": [
    {
     "data": {
      "text/plain": [
       "'\\nFind the number of subarrays which has exactly k diff integers\\n\\n\\n\\n'"
      ]
     },
     "execution_count": 1,
     "metadata": {},
     "output_type": "execute_result"
    }
   ],
   "source": [
    "'''\n",
    "Find the number of subarrays which has exactly k diff integers\n",
    "\n",
    "\n",
    "\n",
    "'''"
   ]
  },
  {
   "cell_type": "code",
   "execution_count": 1,
   "id": "215cba39",
   "metadata": {},
   "outputs": [],
   "source": [
    "l = [1,2,1,3,4]"
   ]
  },
  {
   "cell_type": "code",
   "execution_count": 2,
   "id": "536237bf",
   "metadata": {},
   "outputs": [],
   "source": [
    "k = 3"
   ]
  },
  {
   "cell_type": "code",
   "execution_count": 10,
   "id": "52573eab",
   "metadata": {},
   "outputs": [],
   "source": [
    "def f(lis, k):\n",
    "    \n",
    "    \n",
    "    l,r,c = 0,0,0\n",
    "    \n",
    "    m = {}\n",
    "    n = len(lis)\n",
    "    \n",
    "    while r < n:\n",
    "        \n",
    "        m[lis[r]] = 1 + m.get(lis[r], 0)\n",
    "        \n",
    "        while len(m) > k:\n",
    "            m[lis[l]] -= 1\n",
    "            if m[lis[l]] == 0:\n",
    "                m.pop(lis[l])\n",
    "            l +=1\n",
    "        c = c + r - l + 1\n",
    "        r += 1\n",
    "        \n",
    "    return c\n",
    "        \n",
    "        "
   ]
  },
  {
   "cell_type": "code",
   "execution_count": 11,
   "id": "0fd5c69d",
   "metadata": {},
   "outputs": [
    {
     "name": "stdout",
     "output_type": "stream",
     "text": [
      "3\n"
     ]
    }
   ],
   "source": [
    "print(f(l,3) - f(l,2))"
   ]
  },
  {
   "cell_type": "code",
   "execution_count": null,
   "id": "ddb3ff91",
   "metadata": {},
   "outputs": [],
   "source": []
  }
 ],
 "metadata": {
  "kernelspec": {
   "display_name": "Python 3 (ipykernel)",
   "language": "python",
   "name": "python3"
  },
  "language_info": {
   "codemirror_mode": {
    "name": "ipython",
    "version": 3
   },
   "file_extension": ".py",
   "mimetype": "text/x-python",
   "name": "python",
   "nbconvert_exporter": "python",
   "pygments_lexer": "ipython3",
   "version": "3.11.4"
  }
 },
 "nbformat": 4,
 "nbformat_minor": 5
}
