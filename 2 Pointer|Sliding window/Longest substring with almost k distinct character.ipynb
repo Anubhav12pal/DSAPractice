{
 "cells": [
  {
   "cell_type": "code",
   "execution_count": 8,
   "id": "e5146f93",
   "metadata": {},
   "outputs": [],
   "source": [
    "'''\n",
    "s = aaabbccd\n",
    "k = 2\n",
    "\n",
    "aaabb is good\n",
    "aaabbc is not good as characters are 3\n",
    "\n",
    "\n",
    "'''\n",
    "s = \"aaabbccd\""
   ]
  },
  {
   "cell_type": "code",
   "execution_count": 9,
   "id": "395ce0ce",
   "metadata": {},
   "outputs": [
    {
     "data": {
      "text/plain": [
       "'\\n\\nSimilar to fruit basket use l and r and a map\\nincrement the r till n \\nincrement the l to shrink on a needed  condition and use the map to keep track of it\\n\\n# Most optoimal :\\n  increment the l pointer till z>k\\n\\n\\n\\n'"
      ]
     },
     "execution_count": 9,
     "metadata": {},
     "output_type": "execute_result"
    }
   ],
   "source": [
    "'''\n",
    "\n",
    "Similar to fruit basket use l and r and a map\n",
    "increment the r till n \n",
    "increment the l to shrink on a needed  condition and use the map to keep track of it\n",
    "\n",
    "# Most optoimal :\n",
    "  increment the l pointer till z>k\n",
    "\n",
    "\n",
    "\n",
    "'''"
   ]
  },
  {
   "cell_type": "code",
   "execution_count": 14,
   "id": "c42c5759",
   "metadata": {},
   "outputs": [],
   "source": [
    "def f(s, k):\n",
    "    \n",
    "    \n",
    "    n = len(s)\n",
    "    l,r,mx = 0,0,0\n",
    "    \n",
    "    m = {}\n",
    "    \n",
    "    while r <n:\n",
    "        m[s[r]] = 1+m.get(s[r],0)\n",
    "        \n",
    "        while len(m) > k:\n",
    "            m[s[l]] = m[s[l]] - 1\n",
    "            \n",
    "            if m[s[l]] == 0:\n",
    "                m.pop(s[l])\n",
    "                \n",
    "            l +=1\n",
    "            \n",
    "        if len(m) <= k:\n",
    "            mx = max(mx, r-l+1)\n",
    "            \n",
    "        r +=1\n",
    "        \n",
    "    print(mx)"
   ]
  },
  {
   "cell_type": "code",
   "execution_count": 16,
   "id": "449562f2",
   "metadata": {},
   "outputs": [
    {
     "name": "stdout",
     "output_type": "stream",
     "text": [
      "5\n"
     ]
    }
   ],
   "source": [
    "f(s,2)"
   ]
  },
  {
   "cell_type": "markdown",
   "id": "210767c3",
   "metadata": {},
   "source": [
    "# Most optimal"
   ]
  },
  {
   "cell_type": "markdown",
   "id": "82dfde01",
   "metadata": {},
   "source": [
    "## Same as fruitr basket"
   ]
  },
  {
   "cell_type": "code",
   "execution_count": null,
   "id": "47352350",
   "metadata": {},
   "outputs": [],
   "source": []
  }
 ],
 "metadata": {
  "kernelspec": {
   "display_name": "Python 3 (ipykernel)",
   "language": "python",
   "name": "python3"
  },
  "language_info": {
   "codemirror_mode": {
    "name": "ipython",
    "version": 3
   },
   "file_extension": ".py",
   "mimetype": "text/x-python",
   "name": "python",
   "nbconvert_exporter": "python",
   "pygments_lexer": "ipython3",
   "version": "3.11.4"
  }
 },
 "nbformat": 4,
 "nbformat_minor": 5
}
