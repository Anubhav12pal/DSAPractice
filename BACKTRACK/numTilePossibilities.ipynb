{
 "cells": [
  {
   "cell_type": "code",
   "execution_count": 1,
   "id": "4d658934",
   "metadata": {},
   "outputs": [],
   "source": [
    "\n",
    "    def numTilePossibilities(tiles):\n",
    "\n",
    "\n",
    "        l = list(tiles)\n",
    "      \n",
    "        l.sort()\n",
    "        ans = set()\n",
    "        n = len(tiles)\n",
    "\n",
    "\n",
    "        def f(i):\n",
    "\n",
    "            if i == n:\n",
    "                \n",
    "                ans.add(tuple(l))\n",
    "                return \n",
    "            for ind in range(i, n):\n",
    "                l[i], l[ind] = l[ind], l[i]\n",
    "                f(i + 1)\n",
    "                l[i], l[ind] = l[ind], l[i]\n",
    "\n",
    "        f(0)\n",
    "        print(ans)"
   ]
  },
  {
   "cell_type": "code",
   "execution_count": 2,
   "id": "fcb07088",
   "metadata": {},
   "outputs": [
    {
     "name": "stdout",
     "output_type": "stream",
     "text": [
      "{('B', 'A', 'A'), ('A', 'A', 'B'), ('A', 'B', 'A')}\n"
     ]
    }
   ],
   "source": [
    "numTilePossibilities(\"AAB\")"
   ]
  },
  {
   "cell_type": "code",
   "execution_count": null,
   "id": "0a4ad674",
   "metadata": {},
   "outputs": [],
   "source": []
  }
 ],
 "metadata": {
  "kernelspec": {
   "display_name": "Python 3 (ipykernel)",
   "language": "python",
   "name": "python3"
  },
  "language_info": {
   "codemirror_mode": {
    "name": "ipython",
    "version": 3
   },
   "file_extension": ".py",
   "mimetype": "text/x-python",
   "name": "python",
   "nbconvert_exporter": "python",
   "pygments_lexer": "ipython3",
   "version": "3.11.4"
  }
 },
 "nbformat": 4,
 "nbformat_minor": 5
}
