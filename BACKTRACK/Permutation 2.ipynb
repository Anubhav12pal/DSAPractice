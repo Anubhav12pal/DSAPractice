{
 "cells": [
  {
   "cell_type": "markdown",
   "id": "6e7cf871",
   "metadata": {},
   "source": [
    "# Permutation 2\n"
   ]
  },
  {
   "cell_type": "code",
   "execution_count": 2,
   "id": "0310a629",
   "metadata": {},
   "outputs": [],
   "source": [
    "class Solution:\n",
    "    def permuteUnique(self, nums):\n",
    "\n",
    "        nums.sort()\n",
    "        n = len(nums)\n",
    "        ans = set()\n",
    "\n",
    "        def f(ind):\n",
    "\n",
    "            \n",
    "\n",
    "\n",
    "            if ind == n:\n",
    "                ans.add(tuple(nums[:]))\n",
    "                return\n",
    "            for i in range(ind, n):\n",
    "\n",
    "                if i > ind and nums[i] == nums[ind]:\n",
    "                    continue\n",
    "                nums[i], nums[ind] = nums[ind], nums[i]\n",
    "                f(ind + 1)\n",
    "\n",
    "                nums[i], nums[ind] = nums[ind], nums[i]\n",
    "        f(0)\n",
    "        return [list(i) for i in ans]\n",
    "\n",
    "\n",
    "        "
   ]
  },
  {
   "cell_type": "code",
   "execution_count": null,
   "id": "0e3afde6",
   "metadata": {},
   "outputs": [],
   "source": []
  },
  {
   "cell_type": "code",
   "execution_count": null,
   "id": "5d1af1b7",
   "metadata": {},
   "outputs": [],
   "source": []
  }
 ],
 "metadata": {
  "kernelspec": {
   "display_name": "Python 3 (ipykernel)",
   "language": "python",
   "name": "python3"
  },
  "language_info": {
   "codemirror_mode": {
    "name": "ipython",
    "version": 3
   },
   "file_extension": ".py",
   "mimetype": "text/x-python",
   "name": "python",
   "nbconvert_exporter": "python",
   "pygments_lexer": "ipython3",
   "version": "3.11.4"
  }
 },
 "nbformat": 4,
 "nbformat_minor": 5
}
