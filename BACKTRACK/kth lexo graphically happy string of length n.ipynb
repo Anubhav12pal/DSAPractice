{
 "cells": [
  {
   "cell_type": "code",
   "execution_count": 1,
   "id": "0f276a2b",
   "metadata": {},
   "outputs": [],
   "source": [
    "class Solution:\n",
    "    def getHappyString(self, n: int, k: int) -> str:\n",
    "        \n",
    "\n",
    "        res = []\n",
    "        \n",
    "        \n",
    "\n",
    "        def f(index, s):\n",
    "            if index == n:\n",
    "                res.append(s)\n",
    "                return\n",
    "            for c in \"abc\":\n",
    "                if not s or s[-1] != c:\n",
    "                    f(index + 1, s + c)\n",
    "            \n",
    "        f(0, \"\")\n",
    "        if len(res) >= k:\n",
    "            return res[k-1]\n",
    "        return \"\"\n",
    "        \n"
   ]
  },
  {
   "cell_type": "code",
   "execution_count": null,
   "id": "75b15181",
   "metadata": {},
   "outputs": [],
   "source": []
  }
 ],
 "metadata": {
  "kernelspec": {
   "display_name": "Python 3 (ipykernel)",
   "language": "python",
   "name": "python3"
  },
  "language_info": {
   "codemirror_mode": {
    "name": "ipython",
    "version": 3
   },
   "file_extension": ".py",
   "mimetype": "text/x-python",
   "name": "python",
   "nbconvert_exporter": "python",
   "pygments_lexer": "ipython3",
   "version": "3.11.4"
  }
 },
 "nbformat": 4,
 "nbformat_minor": 5
}
