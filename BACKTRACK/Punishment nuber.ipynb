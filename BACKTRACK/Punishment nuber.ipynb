{
 "cells": [
  {
   "cell_type": "code",
   "execution_count": 1,
   "id": "1d9157a6",
   "metadata": {},
   "outputs": [],
   "source": [
    "class Solution:\n",
    "    def punishmentNumber(self, n: int) -> int:\n",
    "        '''\n",
    "\n",
    "\n",
    "\n",
    "        '''\n",
    "\n",
    "\n",
    "        c = 0\n",
    "\n",
    "        def f(i, cur, target, st):\n",
    "\n",
    "            if i == len(st) and cur == target:\n",
    "                return True\n",
    "            \n",
    "\n",
    "\n",
    "            for j in range(i, len(st)):\n",
    "                st[i:j + 1]\n",
    "                if f(j + 1, cur + int(st[i:j + 1]), target, st):\n",
    "                    return True\n",
    "            return False\n",
    "\n",
    "\n",
    "\n",
    "        for num in range(1, n + 1):\n",
    "\n",
    "            sq = num * num\n",
    "\n",
    "            if f(0, 0, num, str(sq)):\n",
    "                c += num * num\n",
    "        return c\n",
    "\n",
    "\n"
   ]
  },
  {
   "cell_type": "code",
   "execution_count": null,
   "id": "72aa749e",
   "metadata": {},
   "outputs": [],
   "source": []
  }
 ],
 "metadata": {
  "kernelspec": {
   "display_name": "Python 3 (ipykernel)",
   "language": "python",
   "name": "python3"
  },
  "language_info": {
   "codemirror_mode": {
    "name": "ipython",
    "version": 3
   },
   "file_extension": ".py",
   "mimetype": "text/x-python",
   "name": "python",
   "nbconvert_exporter": "python",
   "pygments_lexer": "ipython3",
   "version": "3.11.4"
  }
 },
 "nbformat": 4,
 "nbformat_minor": 5
}
