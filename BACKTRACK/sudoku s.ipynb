{
 "cells": [
  {
   "cell_type": "code",
   "execution_count": 2,
   "id": "0c35b9d5",
   "metadata": {},
   "outputs": [],
   "source": [
    "class Solution:\n",
    "    def solveSudoku(self, board):\n",
    "        def solve():\n",
    "            for row in range(9):\n",
    "                for col in range(9):\n",
    "                    if board[row][col] == '.':\n",
    "                        for num in '123456789':\n",
    "                            if is_valid(row, col, num):\n",
    "                                board[row][col] = num\n",
    "                                if solve():\n",
    "                                    return True\n",
    "                                board[row][col] = '.'\n",
    "                        return False\n",
    "            return True\n",
    "\n",
    "        def is_valid(row, col, num):\n",
    "            for i in range(9):\n",
    "                if board[row][i] == num or board[i][col] == num:\n",
    "                    return False\n",
    "            start_row, start_col = 3 * (row // 3), 3 * (col // 3)\n",
    "            for i in range(start_row, start_row + 3):\n",
    "                for j in range(start_col, start_col + 3):\n",
    "                    if board[i][j] == num:\n",
    "                        return False\n",
    "            return True\n",
    "\n",
    "        solve()"
   ]
  },
  {
   "cell_type": "code",
   "execution_count": null,
   "id": "07f8c133",
   "metadata": {},
   "outputs": [],
   "source": []
  },
  {
   "cell_type": "code",
   "execution_count": null,
   "id": "b6e0cc2d",
   "metadata": {},
   "outputs": [],
   "source": []
  }
 ],
 "metadata": {
  "kernelspec": {
   "display_name": "Python 3 (ipykernel)",
   "language": "python",
   "name": "python3"
  },
  "language_info": {
   "codemirror_mode": {
    "name": "ipython",
    "version": 3
   },
   "file_extension": ".py",
   "mimetype": "text/x-python",
   "name": "python",
   "nbconvert_exporter": "python",
   "pygments_lexer": "ipython3",
   "version": "3.11.4"
  }
 },
 "nbformat": 4,
 "nbformat_minor": 5
}
