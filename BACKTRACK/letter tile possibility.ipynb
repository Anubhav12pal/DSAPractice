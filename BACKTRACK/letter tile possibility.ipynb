{
 "cells": [
  {
   "cell_type": "code",
   "execution_count": 1,
   "id": "d607431e",
   "metadata": {},
   "outputs": [],
   "source": [
    "class Solution:\n",
    "    def numTilePossibilities(self, tiles: str) -> int:\n",
    "\n",
    "\n",
    "        l = list(tiles)\n",
    "        ans = set()\n",
    "        n = len(tiles)\n",
    "        isUsed = [0 for i in range(n)]\n",
    "\n",
    "        t =[]\n",
    "        def f(index):\n",
    "            ans.add(tuple(t[:]))\n",
    "\n",
    "            for i in range(n):\n",
    "\n",
    "                if isUsed[i] == 0:\n",
    "                    isUsed[i] = 1\n",
    "                    t.append(l[i])\n",
    "                    f(index + 1)\n",
    "                    t.pop()\n",
    "                    isUsed[i] = 0\n",
    "        f(0)\n",
    "        return len(ans) - 1"
   ]
  },
  {
   "cell_type": "code",
   "execution_count": 2,
   "id": "0670937c",
   "metadata": {},
   "outputs": [
    {
     "data": {
      "text/plain": [
       "'\\n\\nBasic backtracking recursion and the set handles repetition\\n\\nat every index we add the number into the t variable and then use recursion to move tio the next index\\nand continue the recursion from there\\nthen before moving to the next index we remove the current number and mark it unvisited\\n\\n\\n\\n'"
      ]
     },
     "execution_count": 2,
     "metadata": {},
     "output_type": "execute_result"
    }
   ],
   "source": [
    "'''\n",
    "\n",
    "Basic backtracking recursion and the set handles repetition\n",
    "\n",
    "at every index we add the number into the t variable and then use recursion to move tio the next index\n",
    "and continue the recursion from there\n",
    "then before moving to the next index we remove the current number and mark it unvisited\n",
    "\n",
    "\n",
    "\n",
    "'''"
   ]
  },
  {
   "cell_type": "code",
   "execution_count": null,
   "id": "1576b197",
   "metadata": {},
   "outputs": [],
   "source": []
  }
 ],
 "metadata": {
  "kernelspec": {
   "display_name": "Python 3 (ipykernel)",
   "language": "python",
   "name": "python3"
  },
  "language_info": {
   "codemirror_mode": {
    "name": "ipython",
    "version": 3
   },
   "file_extension": ".py",
   "mimetype": "text/x-python",
   "name": "python",
   "nbconvert_exporter": "python",
   "pygments_lexer": "ipython3",
   "version": "3.11.4"
  }
 },
 "nbformat": 4,
 "nbformat_minor": 5
}
