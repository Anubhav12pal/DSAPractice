{
 "cells": [
  {
   "cell_type": "code",
   "execution_count": 4,
   "id": "a7bc823f",
   "metadata": {},
   "outputs": [],
   "source": [
    "class Solution:\n",
    "    def subsetsWithDup(self, nums) :\n",
    "\n",
    "        ans = set()\n",
    "        cur = []\n",
    "        n = len(nums)\n",
    "\n",
    "        # Sort to handle duplicates\n",
    "        nums.sort()\n",
    "\n",
    "        def f(i):\n",
    "            if i >= n:\n",
    "                ans.add(tuple(cur))  # Add the current subset as a tuple\n",
    "                return \n",
    "            cur.append(nums[i])\n",
    "            f(i + 1)\n",
    "            cur.pop()\n",
    "            \n",
    "            # Skip duplicates at the same recursion level\n",
    "            while i + 1 < n and nums[i] == nums[i + 1]:\n",
    "                i += 1\n",
    "            f(i + 1)\n",
    "        \n",
    "        f(0)\n",
    "\n",
    "        # Convert the set of tuples to a list of lists\n",
    "        return [list(i) for i in ans]"
   ]
  },
  {
   "cell_type": "code",
   "execution_count": 6,
   "id": "e234f186",
   "metadata": {},
   "outputs": [],
   "source": [
    "class Solution:\n",
    "    def subsetsWithDup(self, nums) :\n",
    "        ans = set()\n",
    "        n = len(nums)\n",
    "        nums.sort()\n",
    "        cur = []\n",
    "\n",
    "        def f(index):\n",
    "\n",
    "            if index == n:\n",
    "                cur.sort()\n",
    "                ans.add(tuple(cur))\n",
    "                return \n",
    "            cur.append(nums[index])\n",
    "            f(index + 1)\n",
    "            cur.pop()\n",
    "            f(index  + 1)\n",
    "        f(0)\n",
    "        return [list(i) for i in ans]"
   ]
  },
  {
   "cell_type": "code",
   "execution_count": null,
   "id": "64b89a24",
   "metadata": {},
   "outputs": [],
   "source": []
  }
 ],
 "metadata": {
  "kernelspec": {
   "display_name": "Python 3 (ipykernel)",
   "language": "python",
   "name": "python3"
  },
  "language_info": {
   "codemirror_mode": {
    "name": "ipython",
    "version": 3
   },
   "file_extension": ".py",
   "mimetype": "text/x-python",
   "name": "python",
   "nbconvert_exporter": "python",
   "pygments_lexer": "ipython3",
   "version": "3.11.4"
  }
 },
 "nbformat": 4,
 "nbformat_minor": 5
}
