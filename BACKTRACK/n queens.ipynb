{
 "cells": [
  {
   "cell_type": "code",
   "execution_count": 1,
   "id": "d89f5941",
   "metadata": {},
   "outputs": [],
   "source": [
    "class Solution:\n",
    "    def solveNQueens(self, n: int):\n",
    "        ans = []\n",
    "\n",
    "        # Initializing the board with dots\n",
    "        temp = [[\".\"] * n for _ in range(n)]\n",
    "\n",
    "        def place(row, col, table):\n",
    "            # Check the column\n",
    "            for i in range(col):\n",
    "                if table[row][i] == \"Q\":\n",
    "                    return False\n",
    "            \n",
    "            # Check upper diagonal (left side)\n",
    "            r, c = row, col\n",
    "            while r >= 0 and c >= 0:\n",
    "                if table[r][c] == \"Q\":\n",
    "                    return False\n",
    "                r -= 1\n",
    "                c -= 1\n",
    "            \n",
    "            # Check lower diagonal (left side)\n",
    "            r, c = row, col\n",
    "            while r < n and c >= 0:\n",
    "                if table[r][c] == \"Q\":\n",
    "                    return False\n",
    "                r += 1\n",
    "                c -= 1\n",
    "            \n",
    "            return True\n",
    "        \n",
    "        def helper(col, table):\n",
    "            if col == n:\n",
    "                # Convert board to required output format\n",
    "                ans.append([\"\".join(row) for row in table])\n",
    "                return\n",
    "            \n",
    "            for i in range(n):\n",
    "                if place(i, col, table):\n",
    "                    table[i][col] = 'Q'\n",
    "                    helper(col + 1, table)\n",
    "                    table[i][col] = '.'\n",
    "        \n",
    "        helper(0, temp)\n",
    "        return ans\n"
   ]
  },
  {
   "cell_type": "code",
   "execution_count": null,
   "id": "b98c5ac9",
   "metadata": {},
   "outputs": [],
   "source": []
  }
 ],
 "metadata": {
  "kernelspec": {
   "display_name": "Python 3 (ipykernel)",
   "language": "python",
   "name": "python3"
  },
  "language_info": {
   "codemirror_mode": {
    "name": "ipython",
    "version": 3
   },
   "file_extension": ".py",
   "mimetype": "text/x-python",
   "name": "python",
   "nbconvert_exporter": "python",
   "pygments_lexer": "ipython3",
   "version": "3.11.4"
  }
 },
 "nbformat": 4,
 "nbformat_minor": 5
}
