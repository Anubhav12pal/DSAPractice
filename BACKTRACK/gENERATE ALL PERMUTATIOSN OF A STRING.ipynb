{
 "cells": [
  {
   "cell_type": "code",
   "execution_count": 5,
   "id": "17fc22e1",
   "metadata": {},
   "outputs": [],
   "source": [
    "def permutation(nums):\n",
    "    \n",
    "    \n",
    "    n = len(nums)\n",
    "    ans = []\n",
    "    \n",
    "    def helper(ind, arr, answer):\n",
    "        \n",
    "        if ind == n:\n",
    "            new = arr.copy()\n",
    "            answer.append(new)\n",
    "        for i in range(ind, n):\n",
    "            \n",
    "            arr[ind], arr[i] = arr[i], arr[ind]\n",
    "            helper(ind + 1, arr, answer)\n",
    "            arr[ind], arr[i] = arr[i], arr[ind]\n",
    "    helper(0, nums, ans)\n",
    "    print(ans)\n",
    "    \n",
    "            \n",
    "            \n",
    "            "
   ]
  },
  {
   "cell_type": "code",
   "execution_count": 6,
   "id": "f29d9e47",
   "metadata": {},
   "outputs": [
    {
     "name": "stdout",
     "output_type": "stream",
     "text": [
      "[[1, 2, 3], [1, 3, 2], [2, 1, 3], [2, 3, 1], [3, 2, 1], [3, 1, 2]]\n"
     ]
    }
   ],
   "source": [
    "permutation([1,2,3])"
   ]
  },
  {
   "cell_type": "code",
   "execution_count": null,
   "id": "6d2ce434",
   "metadata": {},
   "outputs": [],
   "source": []
  }
 ],
 "metadata": {
  "kernelspec": {
   "display_name": "Python 3 (ipykernel)",
   "language": "python",
   "name": "python3"
  },
  "language_info": {
   "codemirror_mode": {
    "name": "ipython",
    "version": 3
   },
   "file_extension": ".py",
   "mimetype": "text/x-python",
   "name": "python",
   "nbconvert_exporter": "python",
   "pygments_lexer": "ipython3",
   "version": "3.11.4"
  }
 },
 "nbformat": 4,
 "nbformat_minor": 5
}
