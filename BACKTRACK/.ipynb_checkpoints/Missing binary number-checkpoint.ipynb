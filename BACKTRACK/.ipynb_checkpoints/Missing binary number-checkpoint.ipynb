{
 "cells": [
  {
   "cell_type": "code",
   "execution_count": 1,
   "id": "dbe83f86",
   "metadata": {},
   "outputs": [],
   "source": [
    "class Solution(object):\n",
    "    def findDifferentBinaryString(self, nums):\n",
    "        \"\"\"\n",
    "        :type nums: List[str]\n",
    "        :rtype: str\n",
    "        \"\"\"\n",
    "        \n",
    "        n = len(nums[0])\n",
    "        \n",
    "        def f(index, s):\n",
    "\n",
    "            if index == n:\n",
    "                if s not in nums:\n",
    "                    return s\n",
    "                else:\n",
    "                    return None\n",
    "            \n",
    "                \n",
    "            res = f(index + 1, s + \"0\")\n",
    "            if res:\n",
    "                return res\n",
    "            res = f(index + 1, s + \"1\")\n",
    "            if res:\n",
    "                return res\n",
    "\n",
    "        return f(0, \"\")"
   ]
  },
  {
   "cell_type": "code",
   "execution_count": 2,
   "id": "6f9cbda8",
   "metadata": {},
   "outputs": [
    {
     "data": {
      "text/plain": [
       "'\\nOrigianl approach below it was shoudong memory exceeded becoz u didnt stop the reciursion\\nIt is more like a recursion question than a backtrack\\n\\n\\n\\n'"
      ]
     },
     "execution_count": 2,
     "metadata": {},
     "output_type": "execute_result"
    }
   ],
   "source": [
    "'''\n",
    "Origianl approach below it was shoudong memory exceeded becoz u didnt stop the reciursion\n",
    "It is more like a recursion question than a backtrack\n",
    "\n",
    "\n",
    "\n",
    "'''"
   ]
  },
  {
   "cell_type": "code",
   "execution_count": 4,
   "id": "7452d591",
   "metadata": {},
   "outputs": [],
   "source": [
    "class Solution(object):\n",
    "    def findDifferentBinaryString(self, nums):\n",
    "        \"\"\"\n",
    "        :type nums: List[str]\n",
    "        :rtype: str\n",
    "        \"\"\"\n",
    "        \n",
    "        n = len(nums[0])\n",
    "        \n",
    "        def f(index, s):\n",
    "\n",
    "            if index == n:\n",
    "                if s not in nums:\n",
    "                    return s\n",
    "            \n",
    "            f(index + 1, s + \"0\")\n",
    "            \n",
    "            f(index + 1, s + \"1\")\n",
    "            \n",
    "\n",
    "        return f(0, \"\")"
   ]
  },
  {
   "cell_type": "code",
   "execution_count": 5,
   "id": "4a7860b3",
   "metadata": {},
   "outputs": [
    {
     "data": {
      "text/plain": [
       "'\\n\\n\\nMistakes??\\nNo return form the function to stop the overall recursion\\n\\n\\n'"
      ]
     },
     "execution_count": 5,
     "metadata": {},
     "output_type": "execute_result"
    }
   ],
   "source": [
    "'''\n",
    "\n",
    "\n",
    "Mistakes??\n",
    "No return form the function to stop the overall recursion\n",
    "\n",
    "\n",
    "'''"
   ]
  },
  {
   "cell_type": "code",
   "execution_count": null,
   "id": "b06da035",
   "metadata": {},
   "outputs": [],
   "source": []
  }
 ],
 "metadata": {
  "kernelspec": {
   "display_name": "Python 3 (ipykernel)",
   "language": "python",
   "name": "python3"
  },
  "language_info": {
   "codemirror_mode": {
    "name": "ipython",
    "version": 3
   },
   "file_extension": ".py",
   "mimetype": "text/x-python",
   "name": "python",
   "nbconvert_exporter": "python",
   "pygments_lexer": "ipython3",
   "version": "3.11.4"
  }
 },
 "nbformat": 4,
 "nbformat_minor": 5
}
