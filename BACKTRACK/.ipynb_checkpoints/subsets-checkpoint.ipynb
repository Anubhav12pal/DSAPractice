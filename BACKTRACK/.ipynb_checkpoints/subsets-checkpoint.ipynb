{
 "cells": [
  {
   "cell_type": "markdown",
   "id": "30321f8f",
   "metadata": {},
   "source": [
    "# Genarate all subsets"
   ]
  },
  {
   "cell_type": "code",
   "execution_count": 2,
   "id": "fbf87e1f",
   "metadata": {},
   "outputs": [],
   "source": [
    "class Solution:\n",
    "    def subsets(self, nums):\n",
    "\n",
    "        ans = []\n",
    "        cur = []\n",
    "\n",
    "        n = len(nums)\n",
    "\n",
    "\n",
    "        def f(i):\n",
    "            if i >= n:\n",
    "                ans.append(cur[:])\n",
    "\n",
    "                return\n",
    "            cur.append(nums[i])\n",
    "            f(i + 1)\n",
    "            cur.pop()\n",
    "            f(i + 1)\n",
    "        f(0)\n",
    "        return ans\n",
    "\n",
    "        "
   ]
  },
  {
   "cell_type": "code",
   "execution_count": null,
   "id": "6192ad40",
   "metadata": {},
   "outputs": [],
   "source": []
  },
  {
   "cell_type": "code",
   "execution_count": null,
   "id": "218c6a70",
   "metadata": {},
   "outputs": [],
   "source": []
  }
 ],
 "metadata": {
  "kernelspec": {
   "display_name": "Python 3 (ipykernel)",
   "language": "python",
   "name": "python3"
  },
  "language_info": {
   "codemirror_mode": {
    "name": "ipython",
    "version": 3
   },
   "file_extension": ".py",
   "mimetype": "text/x-python",
   "name": "python",
   "nbconvert_exporter": "python",
   "pygments_lexer": "ipython3",
   "version": "3.11.4"
  }
 },
 "nbformat": 4,
 "nbformat_minor": 5
}
