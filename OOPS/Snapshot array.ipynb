{
 "cells": [
  {
   "cell_type": "code",
   "execution_count": 1,
   "id": "f3e1dbe4",
   "metadata": {},
   "outputs": [],
   "source": [
    "import bisect\n",
    "\n",
    "class SnapshotArray:\n",
    "\n",
    "    def __init__(self, length: int):\n",
    "        self.snap_id = 0\n",
    "        self.data = [{} for _ in range(length)]  # Store changes per index\n",
    "        self.changes = [ [(0, 0)] for _ in range(length) ]  # Each index starts with (snap_id=0, value=0)\n",
    "\n",
    "    def set(self, index: int, val: int) -> None:\n",
    "        # Only record the change if different from previous value in the current snap\n",
    "        if self.changes[index] and self.changes[index][-1][0] == self.snap_id:\n",
    "            self.changes[index][-1] = (self.snap_id, val)\n",
    "        else:\n",
    "            self.changes[index].append((self.snap_id, val))\n",
    "        \n",
    "    def snap(self) -> int:\n",
    "        self.snap_id += 1\n",
    "        return self.snap_id - 1\n",
    "\n",
    "    def get(self, index: int, snap_id: int) -> int:\n",
    "        changes = self.changes[index]\n",
    "        # Binary search: find the largest snap_id <= given snap_id\n",
    "        i = bisect.bisect_right(changes, (snap_id, float('inf'))) - 1\n",
    "        return changes[i][1]"
   ]
  },
  {
   "cell_type": "code",
   "execution_count": null,
   "id": "a090f61d",
   "metadata": {},
   "outputs": [],
   "source": []
  }
 ],
 "metadata": {
  "kernelspec": {
   "display_name": "Python 3 (ipykernel)",
   "language": "python",
   "name": "python3"
  },
  "language_info": {
   "codemirror_mode": {
    "name": "ipython",
    "version": 3
   },
   "file_extension": ".py",
   "mimetype": "text/x-python",
   "name": "python",
   "nbconvert_exporter": "python",
   "pygments_lexer": "ipython3",
   "version": "3.11.4"
  }
 },
 "nbformat": 4,
 "nbformat_minor": 5
}
