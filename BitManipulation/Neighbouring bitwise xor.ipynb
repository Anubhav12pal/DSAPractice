{
 "cells": [
  {
   "cell_type": "code",
   "execution_count": 3,
   "id": "5b80d9fd",
   "metadata": {},
   "outputs": [],
   "source": [
    "class Solution:\n",
    "    def doesValidArrayExist(self, derived):\n",
    "\n",
    "\n",
    "\n",
    "        '''\n",
    "        110\n",
    "\n",
    "        WHEN CAN 0 BE 1 IT CAN BE ONE IOF THE NUMBER OS 1'S IS ODD THEREFORE ONE OF THEM IS 1 AND OTHER IS 0\n",
    "        1 IS 1 THAT IS ONE OF THEM IS 1 OTHER IS 0\n",
    "\n",
    "        LAST IS 0 THAT MEANS BOTH ARE 0\n",
    "\n",
    "        1 = 0 XOR 1\n",
    "        1 = 1 XOR 0\n",
    "        0 = 0 XOR 0\n",
    "\n",
    "\n",
    "        SUBBPPOSE WE HAVE A B C AS ORIGINal\n",
    "        the derived:\n",
    "        can be a^b\n",
    "        b^c\n",
    "        c^a\n",
    "\n",
    "\n",
    "        as there are duplicates then if we xor all of them the result should be 0 otherwise false\n",
    "    \n",
    "\n",
    "\n",
    "        '''\n",
    "\n",
    "        ans = 0\n",
    "\n",
    "\n",
    "        for i in derived:\n",
    "\n",
    "            ans = ans ^ i\n",
    "\n",
    "        if ans == 0:\n",
    "            return True\n",
    "        return False\n",
    "\n",
    "\n",
    "\n",
    "        "
   ]
  },
  {
   "cell_type": "code",
   "execution_count": null,
   "id": "4568f6f4",
   "metadata": {},
   "outputs": [],
   "source": []
  }
 ],
 "metadata": {
  "kernelspec": {
   "display_name": "Python 3 (ipykernel)",
   "language": "python",
   "name": "python3"
  },
  "language_info": {
   "codemirror_mode": {
    "name": "ipython",
    "version": 3
   },
   "file_extension": ".py",
   "mimetype": "text/x-python",
   "name": "python",
   "nbconvert_exporter": "python",
   "pygments_lexer": "ipython3",
   "version": "3.11.4"
  }
 },
 "nbformat": 4,
 "nbformat_minor": 5
}
