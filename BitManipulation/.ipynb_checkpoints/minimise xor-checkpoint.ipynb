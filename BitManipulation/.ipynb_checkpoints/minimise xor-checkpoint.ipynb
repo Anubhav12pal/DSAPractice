{
 "cells": [
  {
   "cell_type": "code",
   "execution_count": 13,
   "id": "e3ac206f",
   "metadata": {},
   "outputs": [
    {
     "name": "stdout",
     "output_type": "stream",
     "text": [
      "0b11001\n",
      "0b1001011\n",
      "3\n",
      "4\n",
      "27\n"
     ]
    }
   ],
   "source": [
    "\n",
    "def minimizeXor(num1, num2):\n",
    "    \n",
    "    \n",
    "    print(bin(num1))\n",
    "    print(bin(num2))\n",
    "    c1 = 0\n",
    "    c2 = 0\n",
    "\n",
    "        # # Count set bits in num1\n",
    "        # for i in range(31):\n",
    "        #     if num1 & (1 << i):\n",
    "        #         c1 += 1\n",
    "\n",
    "        # # Count set bits in num2\n",
    "        # for i in range(num2.bit_length()):\n",
    "        #     if num2 & (1 << i):\n",
    "        #         c2 += 1\n",
    "\n",
    "    c1 = bin(num1).count('1')\n",
    "    c2 = bin(num2).count('1')\n",
    "    \n",
    "    print(c1)\n",
    "    print(c2)\n",
    "\n",
    "        # If num1 already has the same number of set bits as num2, return num1\n",
    "    if c1 == c2:\n",
    "        return num1\n",
    "\n",
    "        # If num1 has more set bits than num2, clear extra bits from the most significant side\n",
    "    if c1 > c2:\n",
    "        for i in range(31, -1, -1):  # Iterate from MSB to LSB\n",
    "            if num1 & (1 << i):  # If the bit is set\n",
    "                num1 = num1 & ~(1 << i)  # Clear the bit\n",
    "                c1 -= 1\n",
    "            if c1 == c2:  # Stop when set bits match\n",
    "                break\n",
    "\n",
    "        # If num1 has fewer set bits than num2, set additional bits starting from the least significant side\n",
    "    else:\n",
    "        for i in range(31):  # Iterate from LSB to MSB\n",
    "            if not (num1 & (1 << i)):  # If the bit is not set\n",
    "                num1 = num1 | (1 << i)  # Set the bit\n",
    "                c1 += 1\n",
    "            if c1 == c2:  # Stop when set bits match\n",
    "                break\n",
    "\n",
    "    return num1\n",
    "\n",
    "print(minimizeXor(25, 75))\n",
    "\n",
    "\n",
    "        \n",
    "        "
   ]
  },
  {
   "cell_type": "code",
   "execution_count": 14,
   "id": "2fc67839",
   "metadata": {},
   "outputs": [],
   "source": [
    "class Solution(object):\n",
    "    def minimizeXor(self, num1, num2):\n",
    "        a, b = bin(num1).count('1'), bin(num2).count('1')\n",
    "        res = num1\n",
    "        for i in range(32):\n",
    "            if a > b and (1 << i) & num1 > 0:\n",
    "                res ^= 1 << i\n",
    "                a -= 1\n",
    "            if a < b and (1 << i) & num1 == 0:\n",
    "                res ^= 1 << i\n",
    "                a += 1\n",
    "        return res"
   ]
  },
  {
   "cell_type": "code",
   "execution_count": null,
   "id": "4ad16ca8",
   "metadata": {},
   "outputs": [],
   "source": []
  }
 ],
 "metadata": {
  "kernelspec": {
   "display_name": "Python 3 (ipykernel)",
   "language": "python",
   "name": "python3"
  },
  "language_info": {
   "codemirror_mode": {
    "name": "ipython",
    "version": 3
   },
   "file_extension": ".py",
   "mimetype": "text/x-python",
   "name": "python",
   "nbconvert_exporter": "python",
   "pygments_lexer": "ipython3",
   "version": "3.11.4"
  }
 },
 "nbformat": 4,
 "nbformat_minor": 5
}
