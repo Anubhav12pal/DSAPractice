{
 "cells": [
  {
   "cell_type": "code",
   "execution_count": 2,
   "id": "b419c79a",
   "metadata": {},
   "outputs": [],
   "source": [
    "class Solution:\n",
    "    def longestNiceSubarray(self, nums):\n",
    "\n",
    "\n",
    "\n",
    "        ans = 0\n",
    "        bu = 0\n",
    "\n",
    "\n",
    "        n = len(nums)\n",
    "        l = 0\n",
    "        \n",
    "\n",
    "        for i in range(n):\n",
    "\n",
    "\n",
    "            curele = nums[i]\n",
    "\n",
    "\n",
    "\n",
    "            while bu & curele != 0:\n",
    "                bu ^= nums[l]\n",
    "                l += 1\n",
    "\n",
    "\n",
    "            if bu & curele == 0:\n",
    "                bu = bu | curele\n",
    "                ans = max(ans, i - l + 1)\n",
    "        return ans\n",
    "        "
   ]
  },
  {
   "cell_type": "code",
   "execution_count": null,
   "id": "1f851106",
   "metadata": {},
   "outputs": [],
   "source": []
  },
  {
   "cell_type": "code",
   "execution_count": null,
   "id": "ac23acb5",
   "metadata": {},
   "outputs": [],
   "source": []
  }
 ],
 "metadata": {
  "kernelspec": {
   "display_name": "Python 3 (ipykernel)",
   "language": "python",
   "name": "python3"
  },
  "language_info": {
   "codemirror_mode": {
    "name": "ipython",
    "version": 3
   },
   "file_extension": ".py",
   "mimetype": "text/x-python",
   "name": "python",
   "nbconvert_exporter": "python",
   "pygments_lexer": "ipython3",
   "version": "3.11.4"
  }
 },
 "nbformat": 4,
 "nbformat_minor": 5
}
