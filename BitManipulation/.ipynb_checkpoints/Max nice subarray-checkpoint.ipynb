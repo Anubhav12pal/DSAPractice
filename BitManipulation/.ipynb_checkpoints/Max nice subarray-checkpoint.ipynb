{
 "cells": [
  {
   "cell_type": "code",
   "execution_count": 1,
   "id": "90d7229c",
   "metadata": {},
   "outputs": [],
   "source": [
    "class Solution:\n",
    "    def longestNiceSubarray(self, nums):\n",
    "\n",
    "\n",
    "        '''\n",
    "\n",
    "        Logic:\n",
    "        here our t carries the sum of all consecutive numbers whose and = 0\n",
    "\n",
    "        eg: 3 and 8\n",
    "\n",
    "        3 = 11\n",
    "        8 = 1000\n",
    "        ans = 0\n",
    "        so t = 1011 = 1000 + 0011\n",
    "        so later when we we check we check multiplication with all the previous elements in the sub array\n",
    "\n",
    "        once we get an and where the element is not =0 we shrink the window\n",
    "        by removing form left we can do this by xoring the left element with t as all the bits with same 1's as the nums[l] will make them even resulting in 0 so we can remove the previously added number entirely\n",
    "\n",
    "\n",
    "        '''\n",
    "\n",
    "\n",
    "        ans = 0\n",
    "        t = 0\n",
    "        n = len(nums)\n",
    "        l = 0\n",
    "\n",
    "        for r in range(n):\n",
    "\n",
    "            c = nums[r]\n",
    "\n",
    "\n",
    "            while t & c != 0:\n",
    "                t = t ^ nums[l]\n",
    "                l += 1\n",
    "            if t & c == 0:\n",
    "                ans = max(ans, r-l +1)\n",
    "                t = t | c\n",
    "        return ans\n",
    "\n",
    "\n",
    "\n",
    "        "
   ]
  },
  {
   "cell_type": "code",
   "execution_count": 2,
   "id": "d411f0a7",
   "metadata": {},
   "outputs": [],
   "source": [
    "# Subarray where all the and of elemnts = 0 "
   ]
  },
  {
   "cell_type": "code",
   "execution_count": null,
   "id": "5b054000",
   "metadata": {},
   "outputs": [],
   "source": []
  }
 ],
 "metadata": {
  "kernelspec": {
   "display_name": "Python 3 (ipykernel)",
   "language": "python",
   "name": "python3"
  },
  "language_info": {
   "codemirror_mode": {
    "name": "ipython",
    "version": 3
   },
   "file_extension": ".py",
   "mimetype": "text/x-python",
   "name": "python",
   "nbconvert_exporter": "python",
   "pygments_lexer": "ipython3",
   "version": "3.11.4"
  }
 },
 "nbformat": 4,
 "nbformat_minor": 5
}
