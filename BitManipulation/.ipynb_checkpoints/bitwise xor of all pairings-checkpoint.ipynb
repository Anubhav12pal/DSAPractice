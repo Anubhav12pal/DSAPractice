{
 "cells": [
  {
   "cell_type": "code",
   "execution_count": 1,
   "id": "d28e9a26",
   "metadata": {},
   "outputs": [],
   "source": [
    "l = [8,6,29,2,26,16,15,29]"
   ]
  },
  {
   "cell_type": "code",
   "execution_count": 2,
   "id": "4165b6d1",
   "metadata": {},
   "outputs": [
    {
     "name": "stdout",
     "output_type": "stream",
     "text": [
      "9\n"
     ]
    }
   ],
   "source": [
    "ans = 0\n",
    "for i in l:\n",
    "    ans ^= i\n",
    "print(ans)"
   ]
  },
  {
   "cell_type": "code",
   "execution_count": 4,
   "id": "0e2680e4",
   "metadata": {},
   "outputs": [],
   "source": [
    "class Solution:\n",
    "    def xorAllNums(self, nums1, nums2):\n",
    "\n",
    "\n",
    "        l1 = len(nums1)\n",
    "        l2 = len(nums2)\n",
    "\n",
    "        xor1 = 0\n",
    "        xor2 = 0\n",
    "\n",
    "\n",
    "        for i in nums1:\n",
    "\n",
    "\n",
    "            xor1 = xor1 ^ i\n",
    "        \n",
    "\n",
    "        for i in nums2:\n",
    "\n",
    "            xor2 = xor2 ^ i\n",
    "\n",
    "        if l1 % 2 == 0 and l2 % 2 == 0:\n",
    "            return 0\n",
    "        if l1 %2 == 0:\n",
    "            return xor1\n",
    "        if l2 % 2 == 0:\n",
    "            return xor2\n",
    "        return xor1 ^ xor2\n",
    "\n",
    "\n",
    "\n",
    "        "
   ]
  },
  {
   "cell_type": "code",
   "execution_count": null,
   "id": "ce89f0b7",
   "metadata": {},
   "outputs": [],
   "source": []
  }
 ],
 "metadata": {
  "kernelspec": {
   "display_name": "Python 3 (ipykernel)",
   "language": "python",
   "name": "python3"
  },
  "language_info": {
   "codemirror_mode": {
    "name": "ipython",
    "version": 3
   },
   "file_extension": ".py",
   "mimetype": "text/x-python",
   "name": "python",
   "nbconvert_exporter": "python",
   "pygments_lexer": "ipython3",
   "version": "3.11.4"
  }
 },
 "nbformat": 4,
 "nbformat_minor": 5
}
