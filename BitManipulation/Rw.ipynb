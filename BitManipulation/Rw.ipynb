{
 "cells": [
  {
   "cell_type": "code",
   "execution_count": 18,
   "id": "7cc1912d",
   "metadata": {},
   "outputs": [
    {
     "data": {
      "text/plain": [
       "\"\\nImportant notes:\\n\\n\\nAnd:\\n1 * 1 = 1\\n1*0 = 0\\n0 * 0 = 0\\n\\nOr:\\n1 + 1 = 1\\n1 + 0 = 0\\n0 + 0 = 0\\n\\nxor:\\nodd num of 1 = 1\\neven number of 1 = 0\\n\\neg:\\na = 1 0 1\\nb = 1 1 1 \\n\\nans = 010\\nwhich is 2\\n\\nOnes comp = flip all numbers\\n2's comp is flip all numbers and add 1\\n\\n\\nNot:\\nif a = 5\\nnot a = calculated\\n5 = 101\\nflip:11.....010\\ncheck the sigh: here it is 1 therefore:\\nfind 2's comp:\\n00...101\\n + 1\\n \\n= 00...110\\nthe sign was -ve therefore = -6\\nTherefore not 5 = -6\\n\\nSimilarly do for not -6\\n\\n6 = 00...110\\nso the 2's comp:\\n11...001\\n + 1\\n \\nans = 11...010 = -6\\n\\nNow apply the steps:\\nflip:\\n00...101\\ncheck the sigh it is 0 therefore  + there fore this is not -6\\n00...101 = 5\\nTherefore not -6 = 5\\n\\nHence not not 5 = 5\\n\\n\""
      ]
     },
     "execution_count": 18,
     "metadata": {},
     "output_type": "execute_result"
    }
   ],
   "source": [
    "'''\n",
    "Important notes:\n",
    "\n",
    "\n",
    "And:\n",
    "1 * 1 = 1\n",
    "1*0 = 0\n",
    "0 * 0 = 0\n",
    "\n",
    "Or:\n",
    "1 + 1 = 1\n",
    "1 + 0 = 0\n",
    "0 + 0 = 0\n",
    "\n",
    "xor:\n",
    "odd num of 1 = 1\n",
    "even number of 1 = 0\n",
    "\n",
    "eg:\n",
    "a = 1 0 1\n",
    "b = 1 1 1 \n",
    "\n",
    "ans = 010\n",
    "which is 2\n",
    "\n",
    "Ones comp = flip all numbers\n",
    "2's comp is flip all numbers and add 1\n",
    "\n",
    "\n",
    "Not:\n",
    "if a = 5\n",
    "not a = calculated\n",
    "5 = 101\n",
    "flip:11.....010\n",
    "check the sigh: here it is 1 therefore:\n",
    "find 2's comp:\n",
    "00...101\n",
    " + 1\n",
    " \n",
    "= 00...110\n",
    "the sign was -ve therefore = -6\n",
    "Therefore not 5 = -6\n",
    "\n",
    "Similarly do for not -6\n",
    "\n",
    "6 = 00...110\n",
    "so the 2's comp:\n",
    "11...001\n",
    " + 1\n",
    " \n",
    "ans = 11...010 = -6\n",
    "\n",
    "Now apply the steps:\n",
    "flip:\n",
    "00...101\n",
    "check the sigh it is 0 therefore  + there fore this is not -6\n",
    "00...101 = 5\n",
    "Therefore not -6 = 5\n",
    "\n",
    "Hence not not 5 = 5\n",
    "\n",
    "'''"
   ]
  },
  {
   "cell_type": "code",
   "execution_count": 19,
   "id": "9fd887ae",
   "metadata": {},
   "outputs": [],
   "source": [
    "#Swap"
   ]
  },
  {
   "cell_type": "code",
   "execution_count": 20,
   "id": "bcc17ace",
   "metadata": {},
   "outputs": [
    {
     "name": "stdout",
     "output_type": "stream",
     "text": [
      "53\n",
      "35\n"
     ]
    }
   ],
   "source": [
    "a = 5\n",
    "b = 3\n",
    "print(f\"{a}{b}\")  # Outputs: 53\n",
    "\n",
    "a = a ^ b \n",
    "b = a ^ b\n",
    "a = a ^ b\n",
    "print(f\"{a}{b}\")  # Outputs: 53\n",
    "\n"
   ]
  },
  {
   "cell_type": "code",
   "execution_count": 21,
   "id": "ee831bbf",
   "metadata": {},
   "outputs": [
    {
     "data": {
      "text/plain": [
       "'\\nReason for xor:\\n\\na xor a  = 0\\n\\nwhen we do a = a or b\\nand then we do:\\nb = a ^ b\\nthis becomes:\\nb = (a^b)^b\\nthe b ^b = 0\\ntherefore we have b = a\\n\\nthen we do a = a^b\\nwhere a = a ^ b and b = a\\nso a = a ^ b ^ a = b\\n\\nBoth are swapped\\n\\n\\n'"
      ]
     },
     "execution_count": 21,
     "metadata": {},
     "output_type": "execute_result"
    }
   ],
   "source": [
    "'''\n",
    "Reason for xor:\n",
    "\n",
    "a xor a  = 0\n",
    "\n",
    "when we do a = a or b\n",
    "and then we do:\n",
    "b = a ^ b\n",
    "this becomes:\n",
    "b = (a^b)^b\n",
    "the b ^b = 0\n",
    "therefore we have b = a\n",
    "\n",
    "then we do a = a^b\n",
    "where a = a ^ b and b = a\n",
    "so a = a ^ b ^ a = b\n",
    "\n",
    "Both are swapped\n",
    "\n",
    "\n",
    "'''"
   ]
  },
  {
   "cell_type": "code",
   "execution_count": 22,
   "id": "3d660501",
   "metadata": {},
   "outputs": [],
   "source": [
    "# Check if the ith bit is set or not"
   ]
  },
  {
   "cell_type": "code",
   "execution_count": 23,
   "id": "da96cf14",
   "metadata": {},
   "outputs": [
    {
     "data": {
      "text/plain": [
       "'\\nBy set we mean 1\\nso if n = 5:\\n101\\nis the 0th bit set yes\\n1st bit = No\\n2nd bit = No\\n\\nHow do we check it??\\n\\nWe use the left shift and right shift operation.\\nSuppose n = 5 = 101\\ncheck if the 1st bit is set:\\n\\nleft shift 1 by i times that is 1 in this case we have : 010\\nthen we and this if it is 0 then we know that it is not set if 1 then it is set:\\n\\ntherefore simple formula:\\n\\nn and (1 << i) == 1: then it is set else not set\\n\\n\\n'"
      ]
     },
     "execution_count": 23,
     "metadata": {},
     "output_type": "execute_result"
    }
   ],
   "source": [
    "'''\n",
    "By set we mean 1\n",
    "so if n = 5:\n",
    "101\n",
    "is the 0th bit set yes\n",
    "1st bit = No\n",
    "2nd bit = No\n",
    "\n",
    "How do we check it??\n",
    "\n",
    "We use the left shift and right shift operation.\n",
    "Suppose n = 5 = 101\n",
    "check if the 1st bit is set:\n",
    "\n",
    "left shift 1 by i times that is 1 in this case we have : 010\n",
    "then we and this if it is 0 then we know that it is not set if 1 then it is set:\n",
    "\n",
    "therefore simple formula:\n",
    "\n",
    "n and (1 << i) == 1: then it is set else not set\n",
    "\n",
    "\n",
    "'''"
   ]
  },
  {
   "cell_type": "code",
   "execution_count": 25,
   "id": "d9a10617",
   "metadata": {},
   "outputs": [
    {
     "data": {
      "text/plain": [
       "'\\n\\nHow to set ith bit to 1\\n\\nset the 1st bit to 1\\nfor 5:\\n\\n\\n5 = 101\\nist bit = 0\\n\\nto do that take 1 = 001\\nleft shift it 1 time:\\n010\\n\\nthen or the number:\\n101\\n010\\n\\nthis is 111\\n\\nexp : n or (1 << i)\\nanswer done\\n\\nNow how do we set it off?\\n\\ntake 1:\\n001\\nleft shift it 1 time:\\n00100\\nnot it : 11011\\nthen and the numbers if the number is 1 it will be set to 0 on being multiplied :\\n\\nn and ((not 1) << i)\\n\\n\\nNow for toggle we do similar thing:\\nwe shift 1 i places to the left and then xor with the number. If the ith bit is 0 it will become 1 and vice versa\\n\\n'"
      ]
     },
     "execution_count": 25,
     "metadata": {},
     "output_type": "execute_result"
    }
   ],
   "source": [
    "'''\n",
    "\n",
    "How to set ith bit to 1\n",
    "\n",
    "set the 1st bit to 1\n",
    "for 5:\n",
    "\n",
    "\n",
    "5 = 101\n",
    "ist bit = 0\n",
    "\n",
    "to do that take 1 = 001\n",
    "left shift it 1 time:\n",
    "010\n",
    "\n",
    "then or the number:\n",
    "101\n",
    "010\n",
    "\n",
    "this is 111\n",
    "\n",
    "exp : n or (1 << i)\n",
    "answer done\n",
    "\n",
    "Now how do we set it off?\n",
    "\n",
    "take 1:\n",
    "001\n",
    "left shift it 1 time:\n",
    "00100\n",
    "not it : 11011\n",
    "then and the numbers if the number is 1 it will be set to 0 on being multiplied :\n",
    "\n",
    "n and ((not 1) << i)\n",
    "\n",
    "\n",
    "\n",
    "Now for toggle we do similar thing:\n",
    "we shift 1 i places to the left and then xor with the number. If the ith bit is 0 it will become 1 and vice versa\n",
    "\n",
    "'''"
   ]
  },
  {
   "cell_type": "code",
   "execution_count": 28,
   "id": "531cc11f",
   "metadata": {},
   "outputs": [
    {
     "name": "stdout",
     "output_type": "stream",
     "text": [
      "2\n"
     ]
    }
   ],
   "source": [
    "'''\n",
    "count number of set bits\n",
    "\n",
    "101\n",
    "001\n",
    "ans = 001 = 1 true\n",
    "\n",
    "101\n",
    "010\n",
    "ans = 000 = 0 false\n",
    "\n",
    "101\n",
    "100\n",
    "ans = 100 = true\n",
    "\n",
    "therefore set bits = 3\n",
    "\n",
    "'''\n",
    "\n",
    "n = 5\n",
    "c = 0\n",
    "for i in range(n.bit_length()):\n",
    "    \n",
    "    if n & (1 << i):\n",
    "        c +=1\n",
    "print(c)\n",
    "    "
   ]
  },
  {
   "cell_type": "code",
   "execution_count": null,
   "id": "2f82c7e2",
   "metadata": {},
   "outputs": [],
   "source": []
  },
  {
   "cell_type": "code",
   "execution_count": null,
   "id": "f164b9bc",
   "metadata": {},
   "outputs": [],
   "source": []
  }
 ],
 "metadata": {
  "kernelspec": {
   "display_name": "Python 3 (ipykernel)",
   "language": "python",
   "name": "python3"
  },
  "language_info": {
   "codemirror_mode": {
    "name": "ipython",
    "version": 3
   },
   "file_extension": ".py",
   "mimetype": "text/x-python",
   "name": "python",
   "nbconvert_exporter": "python",
   "pygments_lexer": "ipython3",
   "version": "3.11.4"
  }
 },
 "nbformat": 4,
 "nbformat_minor": 5
}
