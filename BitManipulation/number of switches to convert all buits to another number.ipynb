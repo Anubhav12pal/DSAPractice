{
 "cells": [
  {
   "cell_type": "code",
   "execution_count": 1,
   "id": "65306a87",
   "metadata": {},
   "outputs": [],
   "source": [
    "class Solution:\n",
    "    def minBitFlips(self, start: int, goal: int) -> int:\n",
    "\n",
    "\n",
    "        '''\n",
    "\n",
    "        10 = 1010\n",
    "        7 = 0111\n",
    "\n",
    "        we need to chenge 3 bitys \n",
    "\n",
    "        if we xor both:\n",
    "            1010\n",
    "            0111\n",
    "\n",
    "    ans=.   1101\n",
    "    three set bits therefore 3 number \n",
    "    So here find the set bits of \n",
    "\n",
    "    for i 0 to 31:\n",
    "        if ans and(1 << i):\n",
    "            c ++\n",
    "    return c\n",
    "\n",
    "    if there is a 1 at the index and we and it 1 should be ans otherwise 0\n",
    "\n",
    "\n",
    "        '''\n",
    "\n",
    "        ans = start ^ goal\n",
    "        c = 0\n",
    "\n",
    "        for i in range(ans.bit_length()):\n",
    "            if (ans & (1 << i)):\n",
    "                c += 1\n",
    "        return c\n",
    "        "
   ]
  },
  {
   "cell_type": "code",
   "execution_count": 2,
   "id": "c3b2dfd1",
   "metadata": {},
   "outputs": [
    {
     "data": {
      "text/plain": [
       "\"\\n\\nWe use xor to find the number of bits as the number of 1's in it is the answer needed\\nthen loop to check the number of set bits that is the numbe rof 1\\n\\nfor 0 to 31\\nif ans & (1 << i) == 1 then c ++\\n\\n\""
      ]
     },
     "execution_count": 2,
     "metadata": {},
     "output_type": "execute_result"
    }
   ],
   "source": [
    "'''\n",
    "\n",
    "We use xor to find the number of bits as the number of 1's in it is the answer needed\n",
    "then loop to check the number of set bits that is the numbe rof 1\n",
    "\n",
    "for 0 to 31\n",
    "if ans & (1 << i) == 1 then c ++\n",
    "\n",
    "'''"
   ]
  },
  {
   "cell_type": "code",
   "execution_count": null,
   "id": "81b8fcdf",
   "metadata": {},
   "outputs": [],
   "source": []
  }
 ],
 "metadata": {
  "kernelspec": {
   "display_name": "Python 3 (ipykernel)",
   "language": "python",
   "name": "python3"
  },
  "language_info": {
   "codemirror_mode": {
    "name": "ipython",
    "version": 3
   },
   "file_extension": ".py",
   "mimetype": "text/x-python",
   "name": "python",
   "nbconvert_exporter": "python",
   "pygments_lexer": "ipython3",
   "version": "3.11.4"
  }
 },
 "nbformat": 4,
 "nbformat_minor": 5
}
