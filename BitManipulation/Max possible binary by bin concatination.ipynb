{
 "cells": [
  {
   "cell_type": "code",
   "execution_count": 1,
   "id": "e77e74f0",
   "metadata": {},
   "outputs": [],
   "source": [
    "def f(n):\n",
    "    \n",
    "    \n",
    "    print(n.bit_length())"
   ]
  },
  {
   "cell_type": "code",
   "execution_count": 24,
   "id": "f9b74d7e",
   "metadata": {},
   "outputs": [
    {
     "name": "stdout",
     "output_type": "stream",
     "text": [
      "3\n"
     ]
    }
   ],
   "source": [
    "f(5)\n",
    "nums= [2,8, 16]"
   ]
  },
  {
   "cell_type": "code",
   "execution_count": 20,
   "id": "767ed0db",
   "metadata": {},
   "outputs": [],
   "source": [
    "ans = sorted(nums, key = lambda x :(x.bit_length(), -x))"
   ]
  },
  {
   "cell_type": "code",
   "execution_count": 21,
   "id": "b58273a7",
   "metadata": {},
   "outputs": [
    {
     "name": "stdout",
     "output_type": "stream",
     "text": [
      "[2, 8, 16]\n"
     ]
    }
   ],
   "source": [
    "print(ans)"
   ]
  },
  {
   "cell_type": "code",
   "execution_count": null,
   "id": "7ed859a5",
   "metadata": {},
   "outputs": [],
   "source": []
  }
 ],
 "metadata": {
  "kernelspec": {
   "display_name": "Python 3 (ipykernel)",
   "language": "python",
   "name": "python3"
  },
  "language_info": {
   "codemirror_mode": {
    "name": "ipython",
    "version": 3
   },
   "file_extension": ".py",
   "mimetype": "text/x-python",
   "name": "python",
   "nbconvert_exporter": "python",
   "pygments_lexer": "ipython3",
   "version": "3.11.4"
  }
 },
 "nbformat": 4,
 "nbformat_minor": 5
}
