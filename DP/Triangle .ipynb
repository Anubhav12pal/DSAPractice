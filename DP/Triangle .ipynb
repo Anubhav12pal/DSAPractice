{
 "cells": [
  {
   "cell_type": "markdown",
   "id": "2c3d7417",
   "metadata": {},
   "source": [
    "# Memiosation"
   ]
  },
  {
   "cell_type": "code",
   "execution_count": 2,
   "id": "05ca6e12",
   "metadata": {},
   "outputs": [],
   "source": [
    "class Solution(object):\n",
    "    def minimumTotal(self, triangle):\n",
    "        \"\"\"\n",
    "        :type triangle: List[List[int]]\n",
    "        :rtype: int\n",
    "        \"\"\"\n",
    "        \n",
    "        \n",
    "        n = len(triangle)\n",
    "        m = len(triangle[n-1])\n",
    "        dp = [[-1 for _ in range(m)] for _ in range(n)]\n",
    "        def f(i,j):\n",
    "            if i == n-1:\n",
    "                return triangle[i][j]\n",
    "            if dp[i][j] != -1:\n",
    "                return dp[i][j]\n",
    "            down = f(i +1,j) + triangle[i][j]\n",
    "            right = f(i + 1, j+1) + triangle[i][j]\n",
    "            dp[i][j] = min(down, right)\n",
    "            return min(down, right)\n",
    "        return f(0,0)"
   ]
  },
  {
   "cell_type": "markdown",
   "id": "e9a6cbf1",
   "metadata": {},
   "source": [
    "# Bottom up"
   ]
  },
  {
   "cell_type": "code",
   "execution_count": 3,
   "id": "233b30a9",
   "metadata": {},
   "outputs": [],
   "source": [
    "class Solution(object):\n",
    "    def minimumTotal(self, triangle):\n",
    "        \"\"\"\n",
    "        :type triangle: List[List[int]]\n",
    "        :rtype: int\n",
    "        \"\"\"\n",
    "        \n",
    "        \n",
    "        n = len(triangle)\n",
    "        m = len(triangle[n-1])\n",
    "        dp = [[-1 for _ in range(m)] for _ in range(n)]\n",
    "        for i in range(m):\n",
    "            dp[n-1][i] = triangle[n-1][i]\n",
    "\n",
    "        for i in range(n-2,-1,-1):\n",
    "            for j in range(i, -1, -1):\n",
    "                d = triangle[i][j] + dp[i+1][j]\n",
    "                r = triangle[i][j] + dp[i+1][j+1]\n",
    "                dp[i][j] = min(d,r)\n",
    "        return dp[0][0]"
   ]
  },
  {
   "cell_type": "markdown",
   "id": "0aa3b3c6",
   "metadata": {},
   "source": [
    "# Space"
   ]
  },
  {
   "cell_type": "code",
   "execution_count": null,
   "id": "6c635184",
   "metadata": {},
   "outputs": [],
   "source": []
  }
 ],
 "metadata": {
  "kernelspec": {
   "display_name": "Python 3 (ipykernel)",
   "language": "python",
   "name": "python3"
  },
  "language_info": {
   "codemirror_mode": {
    "name": "ipython",
    "version": 3
   },
   "file_extension": ".py",
   "mimetype": "text/x-python",
   "name": "python",
   "nbconvert_exporter": "python",
   "pygments_lexer": "ipython3",
   "version": "3.11.4"
  }
 },
 "nbformat": 4,
 "nbformat_minor": 5
}
