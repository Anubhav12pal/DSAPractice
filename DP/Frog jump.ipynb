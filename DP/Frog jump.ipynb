{
 "cells": [
  {
   "cell_type": "code",
   "execution_count": 1,
   "id": "925dbe7b",
   "metadata": {},
   "outputs": [
    {
     "data": {
      "text/plain": [
       "'\\n\\n\\nlearning data structures, and he recently learned about the top-down and bottom-up\\ndynamic programming approaches. Geek is having trouble telling them apart from one another.\\n\\nWhen given an integer n, where n is based on a 0-based index, find the nth Fibonacci number.\\n\\nEvery ith number in the series equals the sum of the (i-1)th and (i-2)th numbers, where the \\nfirst and second numbers are specified as 0 and 1, respectively.\\n\\nFor the given issue, code both top-down and bottom-up approaches.\\n\\nNote : As the answer might be large, return the final answer modulo 109 + 7\\n\\n'"
      ]
     },
     "execution_count": 1,
     "metadata": {},
     "output_type": "execute_result"
    }
   ],
   "source": [
    "'''\n",
    "\n",
    "\n",
    "learning data structures, and he recently learned about the top-down and bottom-up\n",
    "dynamic programming approaches. Geek is having trouble telling them apart from one another.\n",
    "\n",
    "When given an integer n, where n is based on a 0-based index, find the nth Fibonacci number.\n",
    "\n",
    "Every ith number in the series equals the sum of the (i-1)th and (i-2)th numbers, where the \n",
    "first and second numbers are specified as 0 and 1, respectively.\n",
    "\n",
    "For the given issue, code both top-down and bottom-up approaches.\n",
    "\n",
    "Note : As the answer might be large, return the final answer modulo 109 + 7\n",
    "\n",
    "'''"
   ]
  },
  {
   "cell_type": "code",
   "execution_count": 2,
   "id": "2ecd0c8f",
   "metadata": {},
   "outputs": [],
   "source": [
    "class Solution:\n",
    "    def minimumEnergy(self, height, n):\n",
    "        # Code here\n",
    "        \n",
    "        n = len(height)\n",
    "        prev = 0\n",
    "        prev2 = 0\n",
    "        for i in range(1, n):\n",
    "            jumpTwo = sys.maxsize\n",
    "            jumpOne = prev + abs(height[i] - height[i - 1])\n",
    "            if i > 1:\n",
    "                jumpTwo = prev2 + abs(height[i] - height[i - 2])\n",
    "\n",
    "            cur_i = min(jumpOne, jumpTwo)\n",
    "            prev2 = prev\n",
    "            prev = cur_i\n",
    "\n",
    "        return prev"
   ]
  },
  {
   "cell_type": "code",
   "execution_count": 3,
   "id": "47f5e06b",
   "metadata": {},
   "outputs": [
    {
     "data": {
      "text/plain": [
       "'\\nThe above is the space opti,isation approach\\n\\n'"
      ]
     },
     "execution_count": 3,
     "metadata": {},
     "output_type": "execute_result"
    }
   ],
   "source": [
    "'''\n",
    "The above is the space opti,isation approach\n",
    "\n",
    "'''"
   ]
  },
  {
   "cell_type": "code",
   "execution_count": 4,
   "id": "1a759cba",
   "metadata": {},
   "outputs": [],
   "source": [
    "class Solution:\n",
    "    def minimumEnergy(self, height, n):\n",
    "        # Initialize a DP array with -1, indicating uncomputed states\n",
    "        dp = [-1] * n\n",
    "        \n",
    "        # Recursive function with memoization\n",
    "        def minEnergy(i):\n",
    "            # Base case: no energy needed to stay at the first stone\n",
    "            if i == 0:\n",
    "                return 0\n",
    "            # If already computed, return the stored result\n",
    "            if dp[i] != -1:\n",
    "                return dp[i]\n",
    "            \n",
    "            # Calculate the cost for jumping one step\n",
    "            jumpOne = minEnergy(i - 1) + abs(height[i] - height[i - 1])\n",
    "            # Initialize jumpTwo with a large number and calculate only if valid\n",
    "            jumpTwo = float('inf')\n",
    "            if i > 1:\n",
    "                jumpTwo = minEnergy(i - 2) + abs(height[i] - height[i - 2])\n",
    "            \n",
    "            # Store the minimum energy required at stone i\n",
    "            dp[i] = min(jumpOne, jumpTwo)\n",
    "            return dp[i]\n",
    "        \n",
    "        # Start recursion from the last stone\n",
    "        return minEnergy(n - 1)\n",
    "\n",
    "            "
   ]
  },
  {
   "cell_type": "code",
   "execution_count": 5,
   "id": "a062f30b",
   "metadata": {},
   "outputs": [
    {
     "data": {
      "text/plain": [
       "'The above is the dp approach'"
      ]
     },
     "execution_count": 5,
     "metadata": {},
     "output_type": "execute_result"
    }
   ],
   "source": [
    "'''The above is the dp approach'''"
   ]
  },
  {
   "cell_type": "code",
   "execution_count": null,
   "id": "5515bbee",
   "metadata": {},
   "outputs": [],
   "source": []
  }
 ],
 "metadata": {
  "kernelspec": {
   "display_name": "Python 3 (ipykernel)",
   "language": "python",
   "name": "python3"
  },
  "language_info": {
   "codemirror_mode": {
    "name": "ipython",
    "version": 3
   },
   "file_extension": ".py",
   "mimetype": "text/x-python",
   "name": "python",
   "nbconvert_exporter": "python",
   "pygments_lexer": "ipython3",
   "version": "3.11.4"
  }
 },
 "nbformat": 4,
 "nbformat_minor": 5
}
