{
 "cells": [
  {
   "cell_type": "code",
   "execution_count": 1,
   "id": "925dbe7b",
   "metadata": {},
   "outputs": [
    {
     "data": {
      "text/plain": [
       "'\\n\\n\\nlearning data structures, and he recently learned about the top-down and bottom-up\\ndynamic programming approaches. Geek is having trouble telling them apart from one another.\\n\\nWhen given an integer n, where n is based on a 0-based index, find the nth Fibonacci number.\\n\\nEvery ith number in the series equals the sum of the (i-1)th and (i-2)th numbers, where the \\nfirst and second numbers are specified as 0 and 1, respectively.\\n\\nFor the given issue, code both top-down and bottom-up approaches.\\n\\nNote : As the answer might be large, return the final answer modulo 109 + 7\\n\\n'"
      ]
     },
     "execution_count": 1,
     "metadata": {},
     "output_type": "execute_result"
    }
   ],
   "source": [
    "'''\n",
    "\n",
    "\n",
    "learning data structures, and he recently learned about the top-down and bottom-up\n",
    "dynamic programming approaches. Geek is having trouble telling them apart from one another.\n",
    "\n",
    "When given an integer n, where n is based on a 0-based index, find the nth Fibonacci number.\n",
    "\n",
    "Every ith number in the series equals the sum of the (i-1)th and (i-2)th numbers, where the \n",
    "first and second numbers are specified as 0 and 1, respectively.\n",
    "\n",
    "For the given issue, code both top-down and bottom-up approaches.\n",
    "\n",
    "Note : As the answer might be large, return the final answer modulo 109 + 7\n",
    "\n",
    "'''"
   ]
  },
  {
   "cell_type": "code",
   "execution_count": 2,
   "id": "7532caf0",
   "metadata": {},
   "outputs": [],
   "source": [
    "class Solution:\n",
    "    def minimumEnergy(self, height, n):\n",
    "        # Code here\n",
    "        \n",
    "        n = len(height)\n",
    "        prev = 0\n",
    "        prev2 = 0\n",
    "        for i in range(1, n):\n",
    "            jumpTwo = sys.maxsize\n",
    "            jumpOne = prev + abs(height[i] - height[i - 1])\n",
    "            if i > 1:\n",
    "                jumpTwo = prev2 + abs(height[i] - height[i - 2])\n",
    "\n",
    "            cur_i = min(jumpOne, jumpTwo)\n",
    "            prev2 = prev\n",
    "            prev = cur_i\n",
    "\n",
    "        return prev"
   ]
  },
  {
   "cell_type": "code",
   "execution_count": 3,
   "id": "caa593c1",
   "metadata": {},
   "outputs": [
    {
     "data": {
      "text/plain": [
       "'\\nThe above is the space opti,isation approach\\n\\n'"
      ]
     },
     "execution_count": 3,
     "metadata": {},
     "output_type": "execute_result"
    }
   ],
   "source": [
    "'''\n",
    "The above is the space opti,isation approach\n",
    "\n",
    "'''"
   ]
  },
  {
   "cell_type": "code",
   "execution_count": null,
   "id": "eb044948",
   "metadata": {},
   "outputs": [],
   "source": [
    "class Solution:\n",
    "    def minimumEnergy(self, height, n):\n",
    "        # Code here\n",
    "        \n",
    "        dp = [-1] * n\n",
    "        \n",
    "        def helper(height,n, dp):\n",
    "            "
   ]
  }
 ],
 "metadata": {
  "kernelspec": {
   "display_name": "Python 3 (ipykernel)",
   "language": "python",
   "name": "python3"
  },
  "language_info": {
   "codemirror_mode": {
    "name": "ipython",
    "version": 3
   },
   "file_extension": ".py",
   "mimetype": "text/x-python",
   "name": "python",
   "nbconvert_exporter": "python",
   "pygments_lexer": "ipython3",
   "version": "3.11.4"
  }
 },
 "nbformat": 4,
 "nbformat_minor": 5
}
