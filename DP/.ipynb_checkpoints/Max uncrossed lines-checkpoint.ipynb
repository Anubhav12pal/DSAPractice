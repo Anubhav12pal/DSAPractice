{
 "cells": [
  {
   "cell_type": "code",
   "execution_count": 1,
   "id": "504d89af",
   "metadata": {},
   "outputs": [
    {
     "data": {
      "text/plain": [
       "'\\nSame meaning as longest common subsequence\\n\\n\\n'"
      ]
     },
     "execution_count": 1,
     "metadata": {},
     "output_type": "execute_result"
    }
   ],
   "source": [
    "'''\n",
    "Same meaning as longest common subsequence\n",
    "\n",
    "\n",
    "'''"
   ]
  },
  {
   "cell_type": "code",
   "execution_count": 3,
   "id": "6877fb77",
   "metadata": {},
   "outputs": [],
   "source": [
    "class Solution:\n",
    "    def maxUncrossedLines(self, nums1, nums2):\n",
    "\n",
    "\n",
    "        '''\n",
    "\n",
    "        basically of they match then we increase both i and j\n",
    "        else we call two recursions gotr i + 1 and j+1\n",
    "\n",
    "        same as longest common ssubseaquence\n",
    "\n",
    "        '''\n",
    "\n",
    "        \n",
    "\n",
    "        n = len(nums1)\n",
    "        m = len(nums2)\n",
    "\n",
    "        dp = [[-1 for _ in range(m)] for _ in range(n)]\n",
    "\n",
    "        def f(i, j):\n",
    "\n",
    "            if i == n or j == m:\n",
    "                return 0\n",
    "            if nums1[i] == nums2[j]:\n",
    "                return 1 + f(i +1, j + 1)\n",
    "\n",
    "            if dp[i][j] != -1:\n",
    "                return dp[i][j]            \n",
    "            p = f(i + 1, j)\n",
    "            q = f(i, j +1)\n",
    "\n",
    "            dp[i][j] = max(p,q)\n",
    "\n",
    "            return max(p,q)\n",
    "        return f(0,0)\n",
    "\n",
    "        "
   ]
  },
  {
   "cell_type": "markdown",
   "id": "e1893785",
   "metadata": {},
   "source": [
    "# Space plus tabulation"
   ]
  },
  {
   "cell_type": "code",
   "execution_count": 5,
   "id": "7cbaa20d",
   "metadata": {},
   "outputs": [],
   "source": [
    "class Solution:\n",
    "    def maxUncrossedLines(self, nums1, nums2):\n",
    "        m, n = len(nums1), len(nums2)\n",
    "        if m < n:\n",
    "            nums1, nums2, m, n = nums2, nums1, n, m\n",
    "        dp = [0] * (n + 1)\n",
    "        for i in range(1, m + 1):\n",
    "            prev = 0\n",
    "            for j in range(1, n + 1):\n",
    "                curr = dp[j]\n",
    "                if nums1[i-1] == nums2[j-1]:\n",
    "                    dp[j] = prev + 1\n",
    "                else:\n",
    "                    dp[j] = max(dp[j-1], curr)\n",
    "                prev = curr\n",
    "        return dp[n]"
   ]
  },
  {
   "cell_type": "code",
   "execution_count": null,
   "id": "99454b5c",
   "metadata": {},
   "outputs": [],
   "source": []
  }
 ],
 "metadata": {
  "kernelspec": {
   "display_name": "Python 3 (ipykernel)",
   "language": "python",
   "name": "python3"
  },
  "language_info": {
   "codemirror_mode": {
    "name": "ipython",
    "version": 3
   },
   "file_extension": ".py",
   "mimetype": "text/x-python",
   "name": "python",
   "nbconvert_exporter": "python",
   "pygments_lexer": "ipython3",
   "version": "3.11.4"
  }
 },
 "nbformat": 4,
 "nbformat_minor": 5
}
