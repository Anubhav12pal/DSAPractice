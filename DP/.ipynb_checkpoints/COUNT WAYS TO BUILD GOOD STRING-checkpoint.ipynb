{
 "cells": [
  {
   "cell_type": "code",
   "execution_count": 1,
   "id": "6502f107",
   "metadata": {},
   "outputs": [
    {
     "data": {
      "text/plain": [
       "'\\nGiven the integers zero, one, low, and high, we can construct a string by starting with an empty string, and then at each step perform either of the following:\\n\\nAppend the character \\'0\\' zero times.\\nAppend the character \\'1\\' one times.\\nThis can be performed any number of times.\\n\\nA good string is a string constructed by the above process having a length between low and high (inclusive).\\n\\nReturn the number of different good strings that can be constructed satisfying these properties. Since the answer can be large, return it modulo 109 + 7.\\n\\n \\n\\nExample 1:\\n\\nInput: low = 3, high = 3, zero = 1, one = 1\\nOutput: 8\\nExplanation: \\nOne possible valid good string is \"011\". \\nIt can be constructed as follows: \"\" -> \"0\" -> \"01\" -> \"011\". \\nAll binary strings from \"000\" to \"111\" are good strings in this example.\\n'"
      ]
     },
     "execution_count": 1,
     "metadata": {},
     "output_type": "execute_result"
    }
   ],
   "source": [
    "'''\n",
    "Given the integers zero, one, low, and high, we can construct a string by starting with an empty string, and then at each step perform either of the following:\n",
    "\n",
    "Append the character '0' zero times.\n",
    "Append the character '1' one times.\n",
    "This can be performed any number of times.\n",
    "\n",
    "A good string is a string constructed by the above process having a length between low and high (inclusive).\n",
    "\n",
    "Return the number of different good strings that can be constructed satisfying these properties. Since the answer can be large, return it modulo 109 + 7.\n",
    "\n",
    " \n",
    "\n",
    "Example 1:\n",
    "\n",
    "Input: low = 3, high = 3, zero = 1, one = 1\n",
    "Output: 8\n",
    "Explanation: \n",
    "One possible valid good string is \"011\". \n",
    "It can be constructed as follows: \"\" -> \"0\" -> \"01\" -> \"011\". \n",
    "All binary strings from \"000\" to \"111\" are good strings in this example.\n",
    "'''"
   ]
  },
  {
   "cell_type": "code",
   "execution_count": null,
   "id": "014b3bee",
   "metadata": {},
   "outputs": [],
   "source": []
  }
 ],
 "metadata": {
  "kernelspec": {
   "display_name": "Python 3 (ipykernel)",
   "language": "python",
   "name": "python3"
  },
  "language_info": {
   "codemirror_mode": {
    "name": "ipython",
    "version": 3
   },
   "file_extension": ".py",
   "mimetype": "text/x-python",
   "name": "python",
   "nbconvert_exporter": "python",
   "pygments_lexer": "ipython3",
   "version": "3.11.4"
  }
 },
 "nbformat": 4,
 "nbformat_minor": 5
}
