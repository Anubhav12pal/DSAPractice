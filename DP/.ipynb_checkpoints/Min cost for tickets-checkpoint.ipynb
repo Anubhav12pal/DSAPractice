{
 "cells": [
  {
   "cell_type": "code",
   "execution_count": 1,
   "id": "3e6c2240",
   "metadata": {},
   "outputs": [],
   "source": [
    "class Solution(object):\n",
    "    def mincostTickets(self, days, costs):\n",
    "        n = len(days)\n",
    "        dp = [-1 for _ in range(n)]\n",
    "\n",
    "        def f(index):\n",
    "            if index >= n:\n",
    "                return 0\n",
    "            if dp[index]!= -1:\n",
    "                return dp[index]\n",
    "\n",
    "            one = costs[0] + f(index + 1)\n",
    "\n",
    "            temp = index\n",
    "\n",
    "            while temp < n and days[temp] < days[index] + 7:\n",
    "                temp += 1\n",
    "            \n",
    "            seven = costs[1] + f(temp)\n",
    "            while temp < n and days[temp] < days[index] + 30:\n",
    "                temp += 1\n",
    "            thirty = costs[2] + f(temp)\n",
    "            dp[index] = min(one, seven, thirty)\n",
    "            return dp[index] \n",
    "        \n",
    "        return f(0)\n"
   ]
  },
  {
   "cell_type": "markdown",
   "id": "e2e7b793",
   "metadata": {},
   "source": [
    "# Memoised soln above"
   ]
  },
  {
   "cell_type": "code",
   "execution_count": 5,
   "id": "1324194a",
   "metadata": {},
   "outputs": [],
   "source": [
    "class Solution(object):\n",
    "    def mincostTickets(self, days, costs):\n",
    "\n",
    "\n",
    "        # Here the 3 decisions are  take 1 day 7 day and 30 so if at a particular day u pick 7 day pass that'll cover the next 7 days and according to that we'll have to update our index. well do a while loop to see of the next index comes under that 7 day cycle or not and only then we'll move to the next index and call other function needed\n",
    "        n = len(days)\n",
    "        dp = [0 for _ in range(n + 1)]\n",
    "\n",
    "        dp[n] = 0\n",
    "\n",
    "\n",
    "        for index in range(n-1, -1, -1):\n",
    "\n",
    "            one = costs[0] + dp[index + 1]\n",
    "\n",
    "            temp = index\n",
    "\n",
    "            while temp < n and days[temp] < days[index] + 7:\n",
    "                temp += 1\n",
    "            \n",
    "            seven = costs[1] + dp[temp]\n",
    "            while temp < n and days[temp] < days[index] + 30:\n",
    "                temp += 1\n",
    "            thirty = costs[2] + dp[temp]\n",
    "            dp[index] = min(one, seven, thirty)\n",
    "        return dp[0] \n",
    "\n",
    "\n",
    "\n",
    "        "
   ]
  },
  {
   "cell_type": "markdown",
   "id": "f1d2c780",
   "metadata": {},
   "source": [
    "# Tabulation above"
   ]
  },
  {
   "cell_type": "code",
   "execution_count": 6,
   "id": "99ab2cf6",
   "metadata": {},
   "outputs": [
    {
     "data": {
      "text/plain": [
       "'\\nYou have planned some train traveling one year in advance. The days of the year in which you will travel are given as an integer array days. Each day is an integer from 1 to 365.\\n\\nTrain tickets are sold in three different ways:\\n\\na 1-day pass is sold for costs[0] dollars,\\na 7-day pass is sold for costs[1] dollars, and\\na 30-day pass is sold for costs[2] dollars.\\nThe passes allow that many days of consecutive travel.\\n\\nFor example, if we get a 7-day pass on day 2, then we can travel for 7 days: 2, 3, 4, 5, 6, 7, and 8.\\nReturn the minimum number of dollars you need to travel every day in the given list of days.\\n\\n \\n\\nExample 1:\\n\\nInput: days = [1,4,6,7,8,20], costs = [2,7,15]\\nOutput: 11\\nExplanation: For example, here is one way to buy passes that lets you travel your travel plan:\\nOn day 1, you bought a 1-day pass for costs[0] = $2, which covered day 1.\\nOn day 3, you bought a 7-day pass for costs[1] = $7, which covered days 3, 4, ..., 9.\\nOn day 20, you bought a 1-day pass for costs[0] = $2, which covered day 20.\\nIn total, you spent $11 and covered all the days of your travel.\\n'"
      ]
     },
     "execution_count": 6,
     "metadata": {},
     "output_type": "execute_result"
    }
   ],
   "source": [
    "'''\n",
    "You have planned some train traveling one year in advance. The days of the year in which you will travel are given as an integer array days. Each day is an integer from 1 to 365.\n",
    "\n",
    "Train tickets are sold in three different ways:\n",
    "\n",
    "a 1-day pass is sold for costs[0] dollars,\n",
    "a 7-day pass is sold for costs[1] dollars, and\n",
    "a 30-day pass is sold for costs[2] dollars.\n",
    "The passes allow that many days of consecutive travel.\n",
    "\n",
    "For example, if we get a 7-day pass on day 2, then we can travel for 7 days: 2, 3, 4, 5, 6, 7, and 8.\n",
    "Return the minimum number of dollars you need to travel every day in the given list of days.\n",
    "\n",
    " \n",
    "\n",
    "Example 1:\n",
    "\n",
    "Input: days = [1,4,6,7,8,20], costs = [2,7,15]\n",
    "Output: 11\n",
    "Explanation: For example, here is one way to buy passes that lets you travel your travel plan:\n",
    "On day 1, you bought a 1-day pass for costs[0] = $2, which covered day 1.\n",
    "On day 3, you bought a 7-day pass for costs[1] = $7, which covered days 3, 4, ..., 9.\n",
    "On day 20, you bought a 1-day pass for costs[0] = $2, which covered day 20.\n",
    "In total, you spent $11 and covered all the days of your travel.\n",
    "'''"
   ]
  },
  {
   "cell_type": "code",
   "execution_count": null,
   "id": "39dbf002",
   "metadata": {},
   "outputs": [],
   "source": []
  }
 ],
 "metadata": {
  "kernelspec": {
   "display_name": "Python 3 (ipykernel)",
   "language": "python",
   "name": "python3"
  },
  "language_info": {
   "codemirror_mode": {
    "name": "ipython",
    "version": 3
   },
   "file_extension": ".py",
   "mimetype": "text/x-python",
   "name": "python",
   "nbconvert_exporter": "python",
   "pygments_lexer": "ipython3",
   "version": "3.11.4"
  }
 },
 "nbformat": 4,
 "nbformat_minor": 5
}
