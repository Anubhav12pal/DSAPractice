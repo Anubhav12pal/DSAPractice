{
 "cells": [
  {
   "cell_type": "code",
   "execution_count": 1,
   "id": "b785132e",
   "metadata": {},
   "outputs": [],
   "source": [
    "class Solution(object):\n",
    "    def rob(self, nums):\n",
    "        \"\"\"\n",
    "        :type nums: List[int]\n",
    "        :rtype: int\n",
    "        \"\"\"\n",
    "        n = len(nums)\n",
    "        \n",
    "        # Edge cases\n",
    "        if n == 0:\n",
    "            return 0\n",
    "        if n == 1:\n",
    "            return nums[0]\n",
    "        \n",
    "        def rob_helper(nums):\n",
    "            \"\"\"\n",
    "            Helper function to solve the rob problem for a linear array.\n",
    "            \"\"\"\n",
    "            memo = [-1] * len(nums)\n",
    "\n",
    "            def f(index):\n",
    "                if index < 0:\n",
    "                    return 0\n",
    "                if memo[index] != -1:\n",
    "                    return memo[index]\n",
    "                # Option 1: Do not rob the current house\n",
    "                np = f(index - 1)\n",
    "                # Option 2: Rob the current house\n",
    "                p = nums[index] + f(index - 2)\n",
    "                # Store the result in memo\n",
    "                memo[index] = max(p, np)\n",
    "                return memo[index]\n",
    "\n",
    "            return f(len(nums) - 1)\n",
    "        \n",
    "        # Case 1: Exclude the first house\n",
    "        case1 = rob_helper(nums[1:])\n",
    "        # Case 2: Exclude the last house\n",
    "        case2 = rob_helper(nums[:n-1])\n",
    "        \n",
    "        # Return the maximum of both cases\n",
    "        return max(case1, case2)\n"
   ]
  },
  {
   "cell_type": "code",
   "execution_count": null,
   "id": "c6865940",
   "metadata": {},
   "outputs": [],
   "source": []
  }
 ],
 "metadata": {
  "kernelspec": {
   "display_name": "Python 3 (ipykernel)",
   "language": "python",
   "name": "python3"
  },
  "language_info": {
   "codemirror_mode": {
    "name": "ipython",
    "version": 3
   },
   "file_extension": ".py",
   "mimetype": "text/x-python",
   "name": "python",
   "nbconvert_exporter": "python",
   "pygments_lexer": "ipython3",
   "version": "3.11.4"
  }
 },
 "nbformat": 4,
 "nbformat_minor": 5
}
