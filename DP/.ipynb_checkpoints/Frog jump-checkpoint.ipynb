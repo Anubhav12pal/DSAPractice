{
 "cells": [
  {
   "cell_type": "code",
   "execution_count": null,
   "id": "925dbe7b",
   "metadata": {},
   "outputs": [],
   "source": [
    "'''\n",
    "\n",
    "\n",
    "learning data structures, and he recently learned about the top-down and bottom-up\n",
    "dynamic programming approaches. Geek is having trouble telling them apart from one another.\n",
    "\n",
    "When given an integer n, where n is based on a 0-based index, find the nth Fibonacci number.\n",
    "\n",
    "Every ith number in the series equals the sum of the (i-1)th and (i-2)th numbers, where the \n",
    "first and second numbers are specified as 0 and 1, respectively.\n",
    "\n",
    "For the given issue, code both top-down and bottom-up approaches.\n",
    "\n",
    "Note : As the answer might be large, return the final answer modulo 109 + 7\n",
    "\n",
    "'''"
   ]
  }
 ],
 "metadata": {
  "kernelspec": {
   "display_name": "Python 3 (ipykernel)",
   "language": "python",
   "name": "python3"
  },
  "language_info": {
   "codemirror_mode": {
    "name": "ipython",
    "version": 3
   },
   "file_extension": ".py",
   "mimetype": "text/x-python",
   "name": "python",
   "nbconvert_exporter": "python",
   "pygments_lexer": "ipython3",
   "version": "3.11.4"
  }
 },
 "nbformat": 4,
 "nbformat_minor": 5
}
