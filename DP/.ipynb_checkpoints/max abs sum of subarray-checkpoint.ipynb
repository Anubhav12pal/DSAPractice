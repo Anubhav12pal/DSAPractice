{
 "cells": [
  {
   "cell_type": "code",
   "execution_count": 2,
   "id": "6574a1cf",
   "metadata": {},
   "outputs": [],
   "source": [
    "class Solution:\n",
    "    def maxAbsoluteSum(self, nums):\n",
    "\n",
    "        ans = -float('inf')\n",
    "        n = len(nums)\n",
    "\n",
    "        for i in range(n):\n",
    "\n",
    "            cs = 0\n",
    "\n",
    "            for j in range(i, n):\n",
    "\n",
    "                cs += nums[j]\n",
    "\n",
    "                ans = max(ans, abs(cs))\n",
    "        return ans\n",
    "        "
   ]
  },
  {
   "cell_type": "code",
   "execution_count": null,
   "id": "5283c0a0",
   "metadata": {},
   "outputs": [],
   "source": []
  }
 ],
 "metadata": {
  "kernelspec": {
   "display_name": "Python 3 (ipykernel)",
   "language": "python",
   "name": "python3"
  },
  "language_info": {
   "codemirror_mode": {
    "name": "ipython",
    "version": 3
   },
   "file_extension": ".py",
   "mimetype": "text/x-python",
   "name": "python",
   "nbconvert_exporter": "python",
   "pygments_lexer": "ipython3",
   "version": "3.11.4"
  }
 },
 "nbformat": 4,
 "nbformat_minor": 5
}
