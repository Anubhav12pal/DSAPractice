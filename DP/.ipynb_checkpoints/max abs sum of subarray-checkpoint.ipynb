{
 "cells": [
  {
   "cell_type": "code",
   "execution_count": 4,
   "id": "8f2e552f",
   "metadata": {},
   "outputs": [],
   "source": [
    "# Normal brute fore n^2 time comp\n",
    "        "
   ]
  },
  {
   "cell_type": "code",
   "execution_count": 5,
   "id": "31b319f3",
   "metadata": {},
   "outputs": [],
   "source": [
    "class Solution:\n",
    "    def maxAbsoluteSum(self, nums):\n",
    "\n",
    "        ans = -float('inf')\n",
    "        n = len(nums)\n",
    "\n",
    "        for i in range(n):\n",
    "\n",
    "            cs = 0\n",
    "\n",
    "            for j in range(i, n):\n",
    "\n",
    "                cs += nums[j]\n",
    "\n",
    "                ans = max(ans, abs(cs))\n",
    "        return ans"
   ]
  },
  {
   "cell_type": "code",
   "execution_count": 3,
   "id": "90a3192c",
   "metadata": {},
   "outputs": [
    {
     "data": {
      "text/plain": [
       "\"\\nWhat i thought:\\nif its a dp how do u convert it toa 1 d dp\\n\\nBut not dp:\\n\\napply simple kadane's algo: \\nas -ve cut the +ve out whenever there is a total sum < 0: you restart the cur sum counting as the previous highest sum is already saved in the ans1\\nsimilarly find the longest -ve sum just the opposite of +ve sum, here if the sum > 0: put css = 0 and every iteration find min(minn, css)\\nat the end u'll have the greatest +ve sum streak and the greatest -ve sum streak: whichever is greater abs retun that\\n\\n\\n\""
      ]
     },
     "execution_count": 3,
     "metadata": {},
     "output_type": "execute_result"
    }
   ],
   "source": [
    "'''\n",
    "What i thought:\n",
    "if its a dp how do u convert it toa 1 d dp\n",
    "\n",
    "But not dp:\n",
    "\n",
    "apply simple kadane's algo: \n",
    "as -ve cut the +ve out whenever there is a total sum < 0: you restart the cur sum counting as the previous highest sum is already saved in the ans1\n",
    "similarly find the longest -ve sum just the opposite of +ve sum, here if the sum > 0: put css = 0 and every iteration find min(minn, css)\n",
    "at the end u'll have the greatest +ve sum streak and the greatest -ve sum streak: whichever is greater abs retun that\n",
    "\n",
    "\n",
    "'''"
   ]
  },
  {
   "cell_type": "code",
   "execution_count": 4,
   "id": "883bad45",
   "metadata": {},
   "outputs": [],
   "source": [
    "class Solution:\n",
    "    def maxAbsoluteSum(self, nums):\n",
    "\n",
    "        \n",
    "\n",
    "\n",
    "\n",
    "        maxp = -float('inf')\n",
    "        minn = float('inf')\n",
    "\n",
    "        cs = 0\n",
    "        css = 0\n",
    "\n",
    "\n",
    "        for n in nums:\n",
    "\n",
    "            cs += n\n",
    "            css += n\n",
    "\n",
    "            maxp = max(maxp, cs)\n",
    "            minn = min(minn, css)\n",
    "\n",
    "            if cs < 0:\n",
    "                cs = 0\n",
    "            if css > 0:\n",
    "                css = 0\n",
    "\n",
    "        return max(abs(maxp), abs(minn)) "
   ]
  },
  {
   "cell_type": "code",
   "execution_count": null,
   "id": "1debecc0",
   "metadata": {},
   "outputs": [],
   "source": []
  }
 ],
 "metadata": {
  "kernelspec": {
   "display_name": "Python 3 (ipykernel)",
   "language": "python",
   "name": "python3"
  },
  "language_info": {
   "codemirror_mode": {
    "name": "ipython",
    "version": 3
   },
   "file_extension": ".py",
   "mimetype": "text/x-python",
   "name": "python",
   "nbconvert_exporter": "python",
   "pygments_lexer": "ipython3",
   "version": "3.11.4"
  }
 },
 "nbformat": 4,
 "nbformat_minor": 5
}
