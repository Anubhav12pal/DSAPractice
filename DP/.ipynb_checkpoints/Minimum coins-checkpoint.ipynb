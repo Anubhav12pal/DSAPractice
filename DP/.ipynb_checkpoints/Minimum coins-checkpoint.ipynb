{
 "cells": [
  {
   "cell_type": "markdown",
   "id": "2a0f701d",
   "metadata": {},
   "source": [
    "# Base r/ memo\n"
   ]
  },
  {
   "cell_type": "code",
   "execution_count": 1,
   "id": "060ac0a0",
   "metadata": {},
   "outputs": [],
   "source": [
    "class Solution(object):\n",
    "    def coinChange(self, coins, amount):\n",
    "        \"\"\"\n",
    "        :type coins: List[int]\n",
    "        :type amount: int\n",
    "        :rtype: int\n",
    "        \"\"\"\n",
    "\n",
    "        dp = [[0 for _ in range(amount + 1)]for _ in range(len(coins))]\n",
    "\n",
    "        def f(index, target):\n",
    "\n",
    "           \n",
    "            if index == 0:\n",
    "                if target % coins[index] == 0:\n",
    "                    return target / coins[index]\n",
    "                return float('inf')\n",
    "            if dp[index][target] != 0:\n",
    "                return dp[index][target]\n",
    "\n",
    "            np = 0 + f(index - 1, target)\n",
    "            p = float('inf')\n",
    "            if target >= coins[index]:\n",
    "                p = 1 + f(index,target - coins[index])\n",
    "            dp[index][target] = min(p, np)\n",
    "            return min(p, np)\n",
    "\n",
    "        ans = f(len(coins) - 1, amount)\n",
    "\n",
    "        if ans == float('inf'):\n",
    "            return -1\n",
    "        return ans\n",
    "\n",
    "        "
   ]
  },
  {
   "cell_type": "markdown",
   "id": "13baed23",
   "metadata": {},
   "source": [
    "# tAB"
   ]
  },
  {
   "cell_type": "code",
   "execution_count": 2,
   "id": "57ae54b2",
   "metadata": {},
   "outputs": [],
   "source": [
    "class Solution(object):\n",
    "    def coinChange(self, coins, amount):\n",
    "        \"\"\"\n",
    "        :type coins: List[int]\n",
    "        :type amount: int\n",
    "        :rtype: int\n",
    "        \"\"\"\n",
    "\n",
    "        # Initialize DP table with infinity for impossible cases\n",
    "        dp = [[float('inf')] * (amount + 1) for _ in range(len(coins))]\n",
    "        n = len(coins)\n",
    "\n",
    "        # Base case: filling the first row for the first coin type\n",
    "        for target in range(amount + 1):\n",
    "            if target % coins[0] == 0:\n",
    "                dp[0][target] = target // coins[0]\n",
    "\n",
    "        # Fill DP table iteratively for all coins and amounts\n",
    "        for i in range(1, n):\n",
    "            for j in range(amount + 1):\n",
    "                # Not picking the current coin\n",
    "                np = dp[i - 1][j]\n",
    "\n",
    "                # Picking the current coin, if possible\n",
    "                p = float('inf')\n",
    "                if coins[i] <= j:\n",
    "                    p = 1 + dp[i][j - coins[i]]\n",
    "\n",
    "                dp[i][j] = min(p, np)\n",
    "\n",
    "        # If dp[n-1][amount] is still infinity, it's not possible to form the amount\n",
    "        return dp[n-1][amount] if dp[n-1][amount] != float('inf') else -1\n"
   ]
  },
  {
   "cell_type": "code",
   "execution_count": null,
   "id": "4f853660",
   "metadata": {},
   "outputs": [],
   "source": []
  }
 ],
 "metadata": {
  "kernelspec": {
   "display_name": "Python 3 (ipykernel)",
   "language": "python",
   "name": "python3"
  },
  "language_info": {
   "codemirror_mode": {
    "name": "ipython",
    "version": 3
   },
   "file_extension": ".py",
   "mimetype": "text/x-python",
   "name": "python",
   "nbconvert_exporter": "python",
   "pygments_lexer": "ipython3",
   "version": "3.11.4"
  }
 },
 "nbformat": 4,
 "nbformat_minor": 5
}
