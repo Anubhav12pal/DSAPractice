{
 "cells": [
  {
   "cell_type": "markdown",
   "id": "59c830a4",
   "metadata": {},
   "source": [
    "# Rec"
   ]
  },
  {
   "cell_type": "code",
   "execution_count": 1,
   "id": "97f4fffc",
   "metadata": {},
   "outputs": [],
   "source": [
    "class Solution(object):\n",
    "    def minFallingPathSum(self, matrix):\n",
    "        \"\"\"\n",
    "        :type matrix: List[List[int]]\n",
    "        :rtype: int\n",
    "        \"\"\"\n",
    "        n = len(matrix)\n",
    "        m = len(matrix[0])\n",
    "        def f(i, j):\n",
    "\n",
    "            if j <0 or j > m-1:\n",
    "                return float('inf')\n",
    "\n",
    "            if i == 0:\n",
    "                return matrix[i][j]\n",
    "            \n",
    "\n",
    "            \n",
    "            top = matrix[i][j] + f(i-1, j)\n",
    "            left = matrix[i][j] + f(i-1, j-1)\n",
    "            right = matrix[i][j] + f(i-1, j + 1)\n",
    "\n",
    "            return min(top, left, right)\n",
    "        ma = float('inf')\n",
    "\n",
    "        for j in range(m):\n",
    "            ma = min(f(n-1, j), ma)\n",
    "        return ma\n",
    "\n",
    "            \n",
    "\n",
    "        "
   ]
  },
  {
   "cell_type": "markdown",
   "id": "159d8ac1",
   "metadata": {},
   "source": [
    "# Memo"
   ]
  },
  {
   "cell_type": "code",
   "execution_count": 2,
   "id": "f473e908",
   "metadata": {},
   "outputs": [],
   "source": [
    "class Solution(object):\n",
    "    def minFallingPathSum(self, matrix):\n",
    "        \"\"\"\n",
    "        :type matrix: List[List[int]]\n",
    "        :rtype: int\n",
    "        \"\"\"\n",
    "        n = len(matrix)\n",
    "        m = len(matrix[0])\n",
    "        dp = [[float('inf') for _ in range(m)] for _ in range(n)]\n",
    "        \n",
    "        def f(i, j):\n",
    "            # Out of bounds check\n",
    "            if j < 0 or j >= m:\n",
    "                return float('inf')\n",
    "\n",
    "            # Base case: top row element\n",
    "            if i == 0:\n",
    "                return matrix[i][j]\n",
    "            \n",
    "            # Memoization check\n",
    "            if dp[i][j] != float('inf'):\n",
    "                return dp[i][j]\n",
    "            \n",
    "            # Recursive case with minimum of top, left diagonal, and right diagonal\n",
    "            top = matrix[i][j] + f(i - 1, j)\n",
    "            left = matrix[i][j] + f(i - 1, j - 1)\n",
    "            right = matrix[i][j] + f(i - 1, j + 1)\n",
    "            dp[i][j] = min(top, left, right)\n",
    "\n",
    "            return dp[i][j]\n",
    "\n",
    "        # Calculate the minimum falling path sum by considering all paths ending in the last row\n",
    "        min_path_sum = float('inf')\n",
    "        for j in range(m):\n",
    "            min_path_sum = min(f(n - 1, j), min_path_sum)\n",
    "\n",
    "        return min_path_sum"
   ]
  },
  {
   "cell_type": "markdown",
   "id": "a5f529f8",
   "metadata": {},
   "source": [
    "# Tab"
   ]
  },
  {
   "cell_type": "code",
   "execution_count": 3,
   "id": "a799f270",
   "metadata": {},
   "outputs": [],
   "source": [
    "class Solution(object):\n",
    "    def minFallingPathSum(self, matrix):\n",
    "        \"\"\"\n",
    "        :type matrix: List[List[int]]\n",
    "        :rtype: int\n",
    "        \"\"\"\n",
    "        n = len(matrix)\n",
    "        m = len(matrix[0])\n",
    "        \n",
    "        # Create a dp table initialized to the first row of the matrix\n",
    "        dp = [row[:] for row in matrix]\n",
    "\n",
    "        # Start filling the dp table from the second row down to the last row\n",
    "        for i in range(1, n):\n",
    "            for j in range(m):\n",
    "                # Calculate the minimum sum to reach dp[i][j] from the previous row\n",
    "                top = dp[i - 1][j]\n",
    "                left = dp[i - 1][j - 1] if j > 0 else float('inf')\n",
    "                right = dp[i - 1][j + 1] if j < m - 1 else float('inf')\n",
    "                dp[i][j] += min(top, left, right)\n",
    "\n",
    "        # The minimum falling path sum will be the minimum value in the last row of dp\n",
    "        return min(dp[-1])\n"
   ]
  },
  {
   "cell_type": "markdown",
   "id": "5576a77e",
   "metadata": {},
   "source": [
    "# sPACE"
   ]
  },
  {
   "cell_type": "code",
   "execution_count": 4,
   "id": "efa1a72c",
   "metadata": {},
   "outputs": [],
   "source": [
    "class Solution(object):\n",
    "    def minFallingPathSum(self, matrix):\n",
    "        \"\"\"\n",
    "        :type matrix: List[List[int]]\n",
    "        :rtype: int\n",
    "        \"\"\"\n",
    "        n = len(matrix)\n",
    "        m = len(matrix[0])\n",
    "\n",
    "        # Initialize a 1D array to store the minimum path sum of the previous row\n",
    "        prev_row = matrix[0][:]\n",
    "\n",
    "        # Iterate over each row starting from the second row\n",
    "        for i in range(1, n):\n",
    "            # Initialize a new array for the current row\n",
    "            curr_row = [0] * m\n",
    "            for j in range(m):\n",
    "                # Compute the minimum falling path sum for each element in the current row\n",
    "                top = prev_row[j]\n",
    "                left = prev_row[j - 1] if j > 0 else float('inf')\n",
    "                right = prev_row[j + 1] if j < m - 1 else float('inf')\n",
    "                curr_row[j] = matrix[i][j] + min(top, left, right)\n",
    "\n",
    "            # Move to the next row by setting prev_row to curr_row\n",
    "            prev_row = curr_row\n",
    "\n",
    "        # The minimum falling path sum will be the minimum value in prev_row after the last row\n",
    "        return min(prev_row)\n"
   ]
  },
  {
   "cell_type": "code",
   "execution_count": null,
   "id": "473d2213",
   "metadata": {},
   "outputs": [],
   "source": []
  }
 ],
 "metadata": {
  "kernelspec": {
   "display_name": "Python 3 (ipykernel)",
   "language": "python",
   "name": "python3"
  },
  "language_info": {
   "codemirror_mode": {
    "name": "ipython",
    "version": 3
   },
   "file_extension": ".py",
   "mimetype": "text/x-python",
   "name": "python",
   "nbconvert_exporter": "python",
   "pygments_lexer": "ipython3",
   "version": "3.11.4"
  }
 },
 "nbformat": 4,
 "nbformat_minor": 5
}
