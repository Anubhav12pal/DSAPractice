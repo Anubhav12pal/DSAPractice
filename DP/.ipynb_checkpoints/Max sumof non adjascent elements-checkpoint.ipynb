{
 "cells": [
  {
   "cell_type": "code",
   "execution_count": 1,
   "id": "e0093cfd",
   "metadata": {},
   "outputs": [
    {
     "data": {
      "text/plain": [
       "'\\nYou are a professional robber planning to rob houses along a street. Each house has a certain amount of money stashed, \\nthe only constraint stopping you from robbing each of them is that adjacent houses have security systems connected and it will automatically contact the police if two adjacent houses were broken into on the same night.\\n\\nGiven an integer array nums representing the amount of money of each house, return \\nthe maximum amount of money you can rob tonight without alerting the police.\\n\\n'"
      ]
     },
     "execution_count": 1,
     "metadata": {},
     "output_type": "execute_result"
    }
   ],
   "source": [
    "'''\n",
    "You are a professional robber planning to rob houses along a street. Each house has a certain amount of money stashed, \n",
    "the only constraint stopping you from robbing each of them is that adjacent houses have security systems connected and it will automatically contact the police if two adjacent houses were broken into on the same night.\n",
    "\n",
    "Given an integer array nums representing the amount of money of each house, return \n",
    "the maximum amount of money you can rob tonight without alerting the police.\n",
    "\n",
    "'''"
   ]
  },
  {
   "cell_type": "code",
   "execution_count": 2,
   "id": "be9fd319",
   "metadata": {},
   "outputs": [
    {
     "data": {
      "text/plain": [
       "'\\n\\nLets try all subsequences with the constraints and get the max sum\\n\\n'"
      ]
     },
     "execution_count": 2,
     "metadata": {},
     "output_type": "execute_result"
    }
   ],
   "source": [
    "'''\n",
    "\n",
    "Lets try all subsequences with the constraints and get the max sum\n",
    "\n",
    "'''"
   ]
  },
  {
   "cell_type": "code",
   "execution_count": null,
   "id": "0f7e8bfd",
   "metadata": {},
   "outputs": [],
   "source": []
  },
  {
   "cell_type": "markdown",
   "id": "711a374f",
   "metadata": {},
   "source": [
    "# Recursion basic"
   ]
  },
  {
   "cell_type": "code",
   "execution_count": 7,
   "id": "6fdaf129",
   "metadata": {},
   "outputs": [
    {
     "name": "stdout",
     "output_type": "stream",
     "text": [
      "12\n"
     ]
    }
   ],
   "source": [
    "def rob_recursive(houses):\n",
    "    def helper(i):\n",
    "        # Base case: if no houses are left\n",
    "        if i >= len(houses):\n",
    "            return 0\n",
    "\n",
    "        # Recurrence relation:\n",
    "        # 1. Rob the current house and skip the next\n",
    "        # 2. Skip the current house\n",
    "        pick = houses[i] + helper(i + 2)\n",
    "        notP = 0 + helper(i + 1)\n",
    "\n",
    "        return max(pick, notP)\n",
    "\n",
    "    # Start from the first house\n",
    "    return helper(0)\n",
    "\n",
    "# Example usage:\n",
    "houses = [2, 7, 9, 3, 1]\n",
    "print(rob_recursive(houses))  # Output: 12 (rob houses 2, 9, 1)\n"
   ]
  },
  {
   "cell_type": "markdown",
   "id": "f8b647ae",
   "metadata": {},
   "source": [
    "# Top down"
   ]
  },
  {
   "cell_type": "code",
   "execution_count": 8,
   "id": "8384cd33",
   "metadata": {},
   "outputs": [
    {
     "name": "stdout",
     "output_type": "stream",
     "text": [
      "12\n"
     ]
    }
   ],
   "source": [
    "def rob_top_down(houses):\n",
    "    # Dictionary to store computed results\n",
    "    memo = {}\n",
    "\n",
    "    def helper(i):\n",
    "        # Base case\n",
    "        if i >= len(houses):\n",
    "            return 0\n",
    "\n",
    "        # Check if result is already computed\n",
    "        if i in memo:\n",
    "            return memo[i]\n",
    "\n",
    "        # Calculate maximum money by robbing or skipping\n",
    "        rob = houses[i] + helper(i + 2)\n",
    "        skip = helper(i + 1)\n",
    "\n",
    "        # Store the result in memo\n",
    "        memo[i] = max(rob, skip)\n",
    "        return memo[i]\n",
    "\n",
    "    return helper(0)\n",
    "\n",
    "# Example usage:\n",
    "houses = [2, 7, 9, 3, 1]\n",
    "print(rob_top_down(houses))  # Output: 12\n"
   ]
  },
  {
   "cell_type": "markdown",
   "id": "40607d10",
   "metadata": {},
   "source": [
    "# Bottom up"
   ]
  },
  {
   "cell_type": "code",
   "execution_count": 1,
   "id": "57947961",
   "metadata": {},
   "outputs": [
    {
     "name": "stdout",
     "output_type": "stream",
     "text": [
      "12\n"
     ]
    }
   ],
   "source": [
    "def rob_bottom_up(houses):\n",
    "    n = len(houses)\n",
    "    if n == 0:\n",
    "        return 0\n",
    "    elif n == 1:\n",
    "        return houses[0]\n",
    "\n",
    "    # DP array to store maximum amount robbed up to each house\n",
    "    dp = [0] * n\n",
    "    dp[0] = houses[0]\n",
    "    dp[1] = max(houses[0], houses[1])\n",
    "\n",
    "    for i in range(2, n):\n",
    "        # Either rob this house and add its money to dp[i-2], or skip it\n",
    "        dp[i] = max(houses[i] + dp[i - 2], dp[i - 1])\n",
    "\n",
    "    return dp[-1]  # The maximum money robbed up to the last house\n",
    "\n",
    "# Example usage:\n",
    "houses = [2, 7, 9, 3, 1]\n",
    "print(rob_bottom_up(houses))  # Output: 12\n"
   ]
  },
  {
   "cell_type": "markdown",
   "id": "ebb4da14",
   "metadata": {},
   "source": [
    "# Space o"
   ]
  },
  {
   "cell_type": "code",
   "execution_count": 2,
   "id": "788ba8b0",
   "metadata": {},
   "outputs": [
    {
     "name": "stdout",
     "output_type": "stream",
     "text": [
      "12\n"
     ]
    }
   ],
   "source": [
    "def rob_optimized(houses):\n",
    "    n = len(houses)\n",
    "    if n == 0:\n",
    "        return 0\n",
    "    elif n == 1:\n",
    "        return houses[0]\n",
    "\n",
    "    # Initialize two variables for previous two results\n",
    "    prev2 = houses[0]\n",
    "    prev1 = max(houses[0], houses[1])\n",
    "\n",
    "    for i in range(2, n):\n",
    "        # Calculate the maximum money up to house i\n",
    "        current = max(houses[i] + prev2, prev1)\n",
    "        prev2 = prev1\n",
    "        prev1 = current\n",
    "\n",
    "    return prev1  # The maximum money robbed up to the last house\n",
    "\n",
    "# Example usage:\n",
    "houses = [2, 7, 9, 3, 1]\n",
    "print(rob_optimized(houses))  # Output: 12\n"
   ]
  },
  {
   "cell_type": "code",
   "execution_count": null,
   "id": "8d2be360",
   "metadata": {},
   "outputs": [],
   "source": []
  },
  {
   "cell_type": "code",
   "execution_count": null,
   "id": "67043f13",
   "metadata": {},
   "outputs": [],
   "source": []
  },
  {
   "cell_type": "code",
   "execution_count": null,
   "id": "5fdca685",
   "metadata": {},
   "outputs": [],
   "source": []
  }
 ],
 "metadata": {
  "kernelspec": {
   "display_name": "Python 3 (ipykernel)",
   "language": "python",
   "name": "python3"
  },
  "language_info": {
   "codemirror_mode": {
    "name": "ipython",
    "version": 3
   },
   "file_extension": ".py",
   "mimetype": "text/x-python",
   "name": "python",
   "nbconvert_exporter": "python",
   "pygments_lexer": "ipython3",
   "version": "3.11.4"
  }
 },
 "nbformat": 4,
 "nbformat_minor": 5
}
