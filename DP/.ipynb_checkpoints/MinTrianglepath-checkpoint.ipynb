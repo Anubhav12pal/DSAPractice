{
 "cells": [
  {
   "cell_type": "code",
   "execution_count": 2,
   "id": "ce7b9f2c",
   "metadata": {},
   "outputs": [],
   "source": [
    "class Solution:\n",
    "    def minimumTotal(self, triangle):\n",
    "        \n",
    "        n = len(triangle)\n",
    "        m = len(triangle[-1])\n",
    "\n",
    "        dp = [[-1 for _ in range(m)] for _ in range(n)]\n",
    "\n",
    "        for i in range(m):\n",
    "            dp[n-1][i]= triangle[n-1][i]\n",
    "\n",
    "        for i in range(n-2,-1,-1):\n",
    "            for j in range(i, -1, -1):\n",
    "                d = triangle[i][j] + dp[i+1][j]\n",
    "                r = triangle[i][j] + dp[i+1][j+1]\n",
    "                dp[i][j] = min(d,r)\n",
    "        return dp[0][0]"
   ]
  },
  {
   "cell_type": "code",
   "execution_count": null,
   "id": "ec7c0708",
   "metadata": {},
   "outputs": [],
   "source": []
  }
 ],
 "metadata": {
  "kernelspec": {
   "display_name": "Python 3 (ipykernel)",
   "language": "python",
   "name": "python3"
  },
  "language_info": {
   "codemirror_mode": {
    "name": "ipython",
    "version": 3
   },
   "file_extension": ".py",
   "mimetype": "text/x-python",
   "name": "python",
   "nbconvert_exporter": "python",
   "pygments_lexer": "ipython3",
   "version": "3.11.4"
  }
 },
 "nbformat": 4,
 "nbformat_minor": 5
}
