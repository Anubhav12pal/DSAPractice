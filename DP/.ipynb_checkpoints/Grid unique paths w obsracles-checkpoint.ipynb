{
 "cells": [
  {
   "cell_type": "markdown",
   "id": "ad0d14cb",
   "metadata": {},
   "source": [
    "# Recursion:"
   ]
  },
  {
   "cell_type": "code",
   "execution_count": 1,
   "id": "83a118c3",
   "metadata": {},
   "outputs": [],
   "source": [
    "class Solution(object):\n",
    "    def uniquePathsWithObstacles(self, obstacleGrid):\n",
    "        \"\"\"\n",
    "        :type obstacleGrid: List[List[int]]\n",
    "        :rtype: int\n",
    "        \"\"\"\n",
    "        n = len(obstacleGrid)\n",
    "        m = len(obstacleGrid[0])\n",
    "\n",
    "\n",
    "        def f(i,j):\n",
    "\n",
    "            if i == 0 and j == 0:\n",
    "                return 1\n",
    "            if i <0 or j < 0 or obstacleGrid[i][j] == 1:\n",
    "                return 0\n",
    "            top = f(i-1, j)\n",
    "            left = f(i, j-1)\n",
    "            return top + left\n",
    "        return f(n-1, m-1)\n",
    "\n",
    "        "
   ]
  },
  {
   "cell_type": "code",
   "execution_count": 2,
   "id": "abcf4da0",
   "metadata": {},
   "outputs": [
    {
     "data": {
      "text/plain": [
       "'\\n\\nJust avoid obstacles as well\\n'"
      ]
     },
     "execution_count": 2,
     "metadata": {},
     "output_type": "execute_result"
    }
   ],
   "source": [
    "'''\n",
    "\n",
    "Just avoid obstacles as well\n",
    "'''"
   ]
  },
  {
   "cell_type": "code",
   "execution_count": 3,
   "id": "fd8ce7d7",
   "metadata": {},
   "outputs": [
    {
     "data": {
      "text/plain": [
       "'\\n\\nDo all dp optimisations as earlier\\n\\n'"
      ]
     },
     "execution_count": 3,
     "metadata": {},
     "output_type": "execute_result"
    }
   ],
   "source": [
    "'''\n",
    "\n",
    "Do all dp optimisations as earlier\n",
    "\n",
    "'''"
   ]
  },
  {
   "cell_type": "code",
   "execution_count": 4,
   "id": "1a867eb2",
   "metadata": {},
   "outputs": [],
   "source": [
    "class Solution(object):\n",
    "    def uniquePathsWithObstacles(self, obstacleGrid):\n",
    "        \"\"\"\n",
    "        :type obstacleGrid: List[List[int]]\n",
    "        :rtype: int\n",
    "        \"\"\"\n",
    "        n = len(obstacleGrid)\n",
    "        m = len(obstacleGrid[0])\n",
    "\n",
    "        # If the starting cell or the ending cell is an obstacle, return 0\n",
    "        if obstacleGrid[0][0] == 1 or obstacleGrid[n - 1][m - 1] == 1:\n",
    "            return 0\n",
    "\n",
    "        # Initialize the dp array with -1\n",
    "        dp = [[-1 for _ in range(m)] for _ in range(n)]\n",
    "\n",
    "        def f(i, j):\n",
    "            # Base case: If we reach the starting cell\n",
    "            if i == 0 and j == 0:\n",
    "                return 1\n",
    "            \n",
    "            # If out of bounds or on an obstacle, return 0\n",
    "            if i < 0 or j < 0 or obstacleGrid[i][j] == 1:\n",
    "                return 0\n",
    "\n",
    "            # If the result is already computed, return it\n",
    "            if dp[i][j] != -1:\n",
    "                return dp[i][j]\n",
    "            \n",
    "            # Calculate paths from the top and left\n",
    "            top = f(i - 1, j)\n",
    "            left = f(i, j - 1)\n",
    "\n",
    "            # Store the result in dp\n",
    "            dp[i][j] = top + left\n",
    "            return dp[i][j]\n",
    "\n",
    "        return f(n - 1, m - 1)"
   ]
  },
  {
   "cell_type": "code",
   "execution_count": null,
   "id": "542994d8",
   "metadata": {},
   "outputs": [],
   "source": []
  }
 ],
 "metadata": {
  "kernelspec": {
   "display_name": "Python 3 (ipykernel)",
   "language": "python",
   "name": "python3"
  },
  "language_info": {
   "codemirror_mode": {
    "name": "ipython",
    "version": 3
   },
   "file_extension": ".py",
   "mimetype": "text/x-python",
   "name": "python",
   "nbconvert_exporter": "python",
   "pygments_lexer": "ipython3",
   "version": "3.11.4"
  }
 },
 "nbformat": 4,
 "nbformat_minor": 5
}
