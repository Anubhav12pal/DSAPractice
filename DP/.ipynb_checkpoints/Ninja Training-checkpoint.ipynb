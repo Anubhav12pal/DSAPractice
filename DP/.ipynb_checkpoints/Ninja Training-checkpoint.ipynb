{
 "cells": [
  {
   "cell_type": "code",
   "execution_count": 1,
   "id": "54c041a4",
   "metadata": {},
   "outputs": [
    {
     "data": {
      "text/plain": [
       "\"\\n\\nGeek is going for a training program. He can perform any of these activities: Running, Fighting, and Learning Practice. Each activity has some point on each day. As Geek wants to improve all his skills, he can't do the same activity on two consecutive days. Help Geek to maximize his merit points as you are given a 2D array of points arr, corresponding to each day and activity.\\n\\nExample:\\nInput: n=3 and arr[]= [[1,2,5],[3,1,1],[3,3,3]]\\nOutput:11\\nExplanation:Geek will learn a new move and earn 5 point then on second day he will do running and earn 3 point and on third day he will do fighting and earn 3 points so, maximum point is 11.\\nExpected Time Complexity: O(3*n)\\nExpected Space Complexity: O(3*n)\""
      ]
     },
     "execution_count": 1,
     "metadata": {},
     "output_type": "execute_result"
    }
   ],
   "source": [
    "'''\n",
    "\n",
    "Geek is going for a training program. He can perform any of these activities: Running, Fighting, and Learning Practice. Each activity has some point on each day. As Geek wants to improve all his skills, he can't do the same activity on two consecutive days. Help Geek to maximize his merit points as you are given a 2D array of points arr, corresponding to each day and activity.\n",
    "\n",
    "Example:\n",
    "Input: n=3 and arr[]= [[1,2,5],[3,1,1],[3,3,3]]\n",
    "Output:11\n",
    "Explanation:Geek will learn a new move and earn 5 point then on second day he will do running and earn 3 point and on third day he will do fighting and earn 3 points so, maximum point is 11.\n",
    "Expected Time Complexity: O(3*n)\n",
    "Expected Space Complexity: O(3*n)'''"
   ]
  },
  {
   "cell_type": "markdown",
   "id": "ff14eb7a",
   "metadata": {},
   "source": [
    "# Base Recursion"
   ]
  },
  {
   "cell_type": "code",
   "execution_count": 2,
   "id": "785d05c7",
   "metadata": {},
   "outputs": [],
   "source": [
    "class Solution:\n",
    "    def maximumPoints(self, arr, n):\n",
    "        # Code \n",
    "        \n",
    "        def f(day, last):\n",
    "            \n",
    "            if day == 0:\n",
    "                m = 0\n",
    "                for i in range(3):\n",
    "                    if i != last:\n",
    "                        m = max(m, arr[day][i])\n",
    "                return m\n",
    "            \n",
    "            maxi = 0\n",
    "            for i in range(3):\n",
    "                if i != last:\n",
    "                    points = arr[day][i] + f(day-1, i)\n",
    "                    maxi = max(maxi, points)\n",
    "            return maxi\n",
    "        \n",
    "        return f(n-1,3)"
   ]
  },
  {
   "cell_type": "markdown",
   "id": "0ca200aa",
   "metadata": {},
   "source": [
    "# Memoisation top down"
   ]
  },
  {
   "cell_type": "code",
   "execution_count": null,
   "id": "cf47f3d2",
   "metadata": {},
   "outputs": [],
   "source": []
  }
 ],
 "metadata": {
  "kernelspec": {
   "display_name": "Python 3 (ipykernel)",
   "language": "python",
   "name": "python3"
  },
  "language_info": {
   "codemirror_mode": {
    "name": "ipython",
    "version": 3
   },
   "file_extension": ".py",
   "mimetype": "text/x-python",
   "name": "python",
   "nbconvert_exporter": "python",
   "pygments_lexer": "ipython3",
   "version": "3.11.4"
  }
 },
 "nbformat": 4,
 "nbformat_minor": 5
}
