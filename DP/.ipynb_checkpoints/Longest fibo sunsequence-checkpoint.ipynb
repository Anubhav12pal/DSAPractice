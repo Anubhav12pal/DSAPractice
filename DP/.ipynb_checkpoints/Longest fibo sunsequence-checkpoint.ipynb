{
 "cells": [
  {
   "cell_type": "code",
   "execution_count": 1,
   "id": "9a11711c",
   "metadata": {},
   "outputs": [
    {
     "data": {
      "text/plain": [
       "'\\n\\nApproach 1 using a 3d dp\\n\\nkeep track of the previous 2 numbers in that we picked in the subsequence\\n\\n'"
      ]
     },
     "execution_count": 1,
     "metadata": {},
     "output_type": "execute_result"
    }
   ],
   "source": [
    "'''\n",
    "\n",
    "Approach 1 using a 3d dp\n",
    "\n",
    "keep track of the previous 2 numbers in that we picked in the subsequence\n",
    "\n",
    "'''"
   ]
  },
  {
   "cell_type": "code",
   "execution_count": 1,
   "id": "ddcf97bf",
   "metadata": {},
   "outputs": [],
   "source": [
    "class Solution:\n",
    "    def lenLongestFibSubseq(self, arr):\n",
    "        n = len(arr)\n",
    "        memo = {}\n",
    "\n",
    "        def f(i, a, b):\n",
    "            if i == n:\n",
    "                return 0\n",
    "\n",
    "            if (i, a, b) in memo:\n",
    "                return memo[(i, a, b)]\n",
    "\n",
    "            np = f(i + 1, a, b)\n",
    "\n",
    "            pick = 0\n",
    "            if a != -1 and b != -1 and arr[i] == arr[a] + arr[b]:\n",
    "                pick = 1 + f(i + 1, b, i)\n",
    "\n",
    "            elif a == -1:\n",
    "                pick = 1 + f(i + 1, i, b)\n",
    "\n",
    "            elif b == -1:\n",
    "                pick = 1 + f(i + 1, a, i)\n",
    "\n",
    "            memo[(i, a, b)] = max(np, pick)\n",
    "            return memo[(i, a, b)]\n",
    "\n",
    "        ans = f(0, -1, -1)\n",
    "        return ans if ans >= 3 else 0"
   ]
  },
  {
   "cell_type": "code",
   "execution_count": 2,
   "id": "d8bb7461",
   "metadata": {},
   "outputs": [
    {
     "data": {
      "text/plain": [
       "'\\n\\nBetter n^2\\n\\nsuppose u are at index i and you have a previous number index so i have 2 numbers and therfore the previous number we need to find is arr[i] - arr[prev]\\nonce u have that u look for that number in a hashmap and if its index is present before then yes we can increase the ss\\n\\n\\n\\n'"
      ]
     },
     "execution_count": 2,
     "metadata": {},
     "output_type": "execute_result"
    }
   ],
   "source": [
    "'''\n",
    "\n",
    "Better n^2\n",
    "\n",
    "suppose u are at index i and you have a previous number index so i have 2 numbers and therfore the previous number we need to find is arr[i] - arr[prev]\n",
    "once u have that u look for that number in a hashmap and if its index is present before then yes we can increase the ss\n",
    "\n",
    "\n",
    "\n",
    "'''"
   ]
  },
  {
   "cell_type": "code",
   "execution_count": 5,
   "id": "e39d0fdf",
   "metadata": {},
   "outputs": [],
   "source": [
    "\n",
    "    def lenLongestFibSubseq(self, arr):\n",
    "\n",
    "        n = len(arr)\n",
    "\n",
    "        m = {}\n",
    "\n",
    "        for i in range(n):\n",
    "\n",
    "            m[arr[i]] = i\n",
    "\n",
    "        def f(a, b):\n",
    "\n",
    "            if a < 0 or b < 0 or arr[b] - arr[a] not in m:\n",
    "                return 0\n",
    "\n",
    "\n",
    "            np = 0 + f(a - 1, b)\n",
    "\n",
    "            p = 0\n",
    "\n",
    "            if b == -1:\n",
    "                p = 2 + f(a - 1, a)\n",
    "            else:\n",
    "\n",
    "                if arr[b] - arr[a] in m:\n",
    "                    p = 1 + f(m[arr[b] - arr[a]],a)\n",
    "            return max(p, np)\n",
    "        ans = f(n-1, -1)\n",
    "        print(ans)\n",
    "        if ans < 3:\n",
    "            return 0\n",
    "        return ans"
   ]
  },
  {
   "cell_type": "code",
   "execution_count": 8,
   "id": "797d2da9",
   "metadata": {},
   "outputs": [],
   "source": [
    "class Solution:\n",
    "    def lenLongestFibSubseq(self, arr):\n",
    "\n",
    "\n",
    "        res = 0\n",
    "        m = set(arr)\n",
    "        \n",
    "\n",
    "\n",
    "        for i in range(len(arr) - 1):\n",
    "\n",
    "            for j in range(i + 1, len(arr)):\n",
    "\n",
    "                prev, cur = arr[i], arr[j]\n",
    "                nex = arr[i] + arr[j]\n",
    "\n",
    "                l = 2\n",
    "\n",
    "                while nex in m:\n",
    "                    l += 1\n",
    "                    prev, cur = cur, nex\n",
    "                    nex = prev + cur\n",
    "                    res = max(res, l)\n",
    "        return res"
   ]
  },
  {
   "cell_type": "code",
   "execution_count": null,
   "id": "ffc30f84",
   "metadata": {},
   "outputs": [],
   "source": []
  }
 ],
 "metadata": {
  "kernelspec": {
   "display_name": "Python 3 (ipykernel)",
   "language": "python",
   "name": "python3"
  },
  "language_info": {
   "codemirror_mode": {
    "name": "ipython",
    "version": 3
   },
   "file_extension": ".py",
   "mimetype": "text/x-python",
   "name": "python",
   "nbconvert_exporter": "python",
   "pygments_lexer": "ipython3",
   "version": "3.11.4"
  }
 },
 "nbformat": 4,
 "nbformat_minor": 5
}
