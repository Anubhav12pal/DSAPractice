{
 "cells": [
  {
   "cell_type": "markdown",
   "id": "b43f3837",
   "metadata": {},
   "source": [
    "# Base r/ memo\n"
   ]
  },
  {
   "cell_type": "code",
   "execution_count": 1,
   "id": "ac2aba82",
   "metadata": {},
   "outputs": [],
   "source": [
    "class Solution(object):\n",
    "    def coinChange(self, coins, amount):\n",
    "        \"\"\"\n",
    "        :type coins: List[int]\n",
    "        :type amount: int\n",
    "        :rtype: int\n",
    "        \"\"\"\n",
    "\n",
    "        dp = [[0 for _ in range(amount + 1)]for _ in range(len(coins))]\n",
    "\n",
    "        def f(index, target):\n",
    "\n",
    "           \n",
    "            if index == 0:\n",
    "                if target % coins[index] == 0:\n",
    "                    return target / coins[index]\n",
    "                return float('inf')\n",
    "            if dp[index][target] != 0:\n",
    "                return dp[index][target]\n",
    "\n",
    "            np = 0 + f(index - 1, target)\n",
    "            p = float('inf')\n",
    "            if target >= coins[index]:\n",
    "                p = 1 + f(index,target - coins[index])\n",
    "            dp[index][target] = min(p, np)\n",
    "            return min(p, np)\n",
    "\n",
    "        ans = f(len(coins) - 1, amount)\n",
    "\n",
    "        if ans == float('inf'):\n",
    "            return -1\n",
    "        return ans\n",
    "\n",
    "        "
   ]
  },
  {
   "cell_type": "markdown",
   "id": "1ff6854e",
   "metadata": {},
   "source": [
    "# tAB"
   ]
  },
  {
   "cell_type": "code",
   "execution_count": 2,
   "id": "900e0912",
   "metadata": {},
   "outputs": [],
   "source": [
    "class Solution(object):\n",
    "    def coinChange(self, coins, amount):\n",
    "        \"\"\"\n",
    "        :type coins: List[int]\n",
    "        :type amount: int\n",
    "        :rtype: int\n",
    "        \"\"\"\n",
    "\n",
    "        # Initialize DP table with infinity for impossible cases\n",
    "        dp = [[float('inf')] * (amount + 1) for _ in range(len(coins))]\n",
    "        n = len(coins)\n",
    "\n",
    "        # Base case: filling the first row for the first coin type\n",
    "        for target in range(amount + 1):\n",
    "            if target % coins[0] == 0:\n",
    "                dp[0][target] = target // coins[0]\n",
    "\n",
    "        # Fill DP table iteratively for all coins and amounts\n",
    "        for i in range(1, n):\n",
    "            for j in range(amount + 1):\n",
    "                # Not picking the current coin\n",
    "                np = dp[i - 1][j]\n",
    "\n",
    "                # Picking the current coin, if possible\n",
    "                p = float('inf')\n",
    "                if coins[i] <= j:\n",
    "                    p = 1 + dp[i][j - coins[i]]\n",
    "\n",
    "                dp[i][j] = min(p, np)\n",
    "\n",
    "        # If dp[n-1][amount] is still infinity, it's not possible to form the amount\n",
    "        return dp[n-1][amount] if dp[n-1][amount] != float('inf') else -1\n"
   ]
  },
  {
   "cell_type": "markdown",
   "id": "02b8ae9c",
   "metadata": {},
   "source": [
    "# sPACE"
   ]
  },
  {
   "cell_type": "code",
   "execution_count": 3,
   "id": "9611376d",
   "metadata": {},
   "outputs": [],
   "source": [
    "class Solution(object):\n",
    "    def coinChange(self, coins, amount):\n",
    "        \"\"\"\n",
    "        :type coins: List[int]\n",
    "        :type amount: int\n",
    "        :rtype: int\n",
    "        \"\"\"\n",
    "        \n",
    "        # Initialize 1D DP array with infinity\n",
    "        dp = [float('inf')] * (amount + 1)\n",
    "        dp[0] = 0  # Base case: 0 coins are needed to make amount 0\n",
    "\n",
    "        # Process each coin\n",
    "        for coin in coins:\n",
    "            # Update DP array from coin value up to amount\n",
    "            for j in range(coin, amount + 1):\n",
    "                dp[j] = min(dp[j], 1 + dp[j - coin])\n",
    "\n",
    "        # Return result for amount or -1 if it's not achievable\n",
    "        return dp[amount] if dp[amount] != float('inf') else -1\n"
   ]
  },
  {
   "cell_type": "markdown",
   "id": "e16df0c2",
   "metadata": {},
   "source": [
    "# Change 2"
   ]
  },
  {
   "cell_type": "code",
   "execution_count": 4,
   "id": "6a836e2f",
   "metadata": {},
   "outputs": [],
   "source": [
    "class Solution(object):\n",
    "    def change(self, amount, coins):\n",
    "        \"\"\"\n",
    "        :type amount: int\n",
    "        :type coins: List[int]\n",
    "        :rtype: int\n",
    "        \"\"\"\n",
    "        n = len(coins)\n",
    "        def f(index, amount):\n",
    "\n",
    "            if index == 0:\n",
    "                if amount % coins[index]  == 0:\n",
    "                    return 1\n",
    "                return 0\n",
    "\n",
    "            np =  0 + f(index - 1, amount)\n",
    "            pick = 0\n",
    "\n",
    "            if coins[index]  <= amount :\n",
    "                pick = f(index, amount - coins[index])\n",
    "\n",
    "            return np + pick\n",
    "        return f(n - 1, amount)        "
   ]
  },
  {
   "cell_type": "markdown",
   "id": "7f2ee310",
   "metadata": {},
   "source": [
    "# Memo"
   ]
  },
  {
   "cell_type": "code",
   "execution_count": 5,
   "id": "6505dbbf",
   "metadata": {},
   "outputs": [],
   "source": [
    "class Solution(object):\n",
    "    def change(self, amount, coins):\n",
    "        \"\"\"\n",
    "        :type amount: int\n",
    "        :type coins: List[int]\n",
    "        :rtype: int\n",
    "        \"\"\"\n",
    "        n = len(coins)\n",
    "\n",
    "        dp = [[-1 for _ in range(amount + 1)] for _ in range(n)]\n",
    "        def f(index, amount):\n",
    "\n",
    "            if index == 0:\n",
    "                if amount % coins[index]  == 0:\n",
    "                    return 1\n",
    "                return 0\n",
    "\n",
    "            if dp[index][amount]!= -1:\n",
    "                return dp[index][amount]\n",
    "\n",
    "\n",
    "            np =  0 + f(index - 1, amount)\n",
    "            pick = 0\n",
    "\n",
    "            if coins[index]  <= amount :\n",
    "                pick = f(index, amount - coins[index])\n",
    "\n",
    "            dp[index][amount] = np + pick\n",
    "\n",
    "            return np + pick\n",
    "        return f(n - 1, amount)        "
   ]
  },
  {
   "cell_type": "markdown",
   "id": "4be60ad9",
   "metadata": {},
   "source": [
    "# Tab"
   ]
  },
  {
   "cell_type": "code",
   "execution_count": 6,
   "id": "6d5ccc83",
   "metadata": {},
   "outputs": [],
   "source": [
    "class Solution(object):\n",
    "    def change(self, amount, coins):\n",
    "        \"\"\"\n",
    "        :type amount: int\n",
    "        :type coins: List[int]\n",
    "        :rtype: int\n",
    "        \"\"\"\n",
    "        n = len(coins)\n",
    "\n",
    "        dp = [[0 for _ in range(amount + 1)] for _ in range(n)]\n",
    "\n",
    "        for i in range(amount + 1):\n",
    "            if i % coins[0]  == 0:\n",
    "                dp[0][i] = 1\n",
    "        \n",
    "        for i in range(1, n):\n",
    "            for j in range(amount + 1):\n",
    "                np = dp[i-1][j]\n",
    "                p = 0\n",
    "\n",
    "                if coins[i]  <= j:\n",
    "                    p = dp[i][j - coins[i]]\n",
    "                dp[i][j] = p + np\n",
    "        return dp[n-1][amount]"
   ]
  },
  {
   "cell_type": "code",
   "execution_count": null,
   "id": "6cddace6",
   "metadata": {},
   "outputs": [],
   "source": []
  }
 ],
 "metadata": {
  "kernelspec": {
   "display_name": "Python 3 (ipykernel)",
   "language": "python",
   "name": "python3"
  },
  "language_info": {
   "codemirror_mode": {
    "name": "ipython",
    "version": 3
   },
   "file_extension": ".py",
   "mimetype": "text/x-python",
   "name": "python",
   "nbconvert_exporter": "python",
   "pygments_lexer": "ipython3",
   "version": "3.11.4"
  }
 },
 "nbformat": 4,
 "nbformat_minor": 5
}
