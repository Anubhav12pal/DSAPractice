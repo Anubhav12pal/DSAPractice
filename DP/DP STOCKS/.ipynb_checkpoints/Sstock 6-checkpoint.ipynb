{
 "cells": [
  {
   "cell_type": "code",
   "execution_count": 1,
   "id": "16752920",
   "metadata": {},
   "outputs": [],
   "source": [
    "class Solution(object):\n",
    "    def maxProfit(self, prices, fee):\n",
    "        \"\"\"\n",
    "        :type prices: List[int]\n",
    "        :type fee: int\n",
    "        :rtype: int\n",
    "        \"\"\"\n",
    "        n = len(prices)\n",
    "\n",
    "        dp = [[-1 for _ in range(2)] for _ in range(n)]\n",
    "        def f(index, buy):\n",
    "\n",
    "            if index == n:\n",
    "                return 0\n",
    "            if dp[index][buy] != -1:\n",
    "                return dp[index][buy]\n",
    "            if buy == 1:\n",
    "                dp[index][buy]= max(-prices[index] + f(index + 1, 0), f(index + 1, 1))\n",
    "                return max(-prices[index] + f(index + 1, 0), f(index + 1, 1))\n",
    "            else:\n",
    "                dp[index][buy] = max(prices[index] - fee + f(index + 1, 1), f(index + 1, 0))\n",
    "                return max(prices[index] - fee + f(index + 1, 1), f(index + 1, 0))\n",
    "        return f(0,1)\n",
    "\n",
    "\n",
    "        \n",
    "        "
   ]
  },
  {
   "cell_type": "code",
   "execution_count": null,
   "id": "39969356",
   "metadata": {},
   "outputs": [],
   "source": []
  }
 ],
 "metadata": {
  "kernelspec": {
   "display_name": "Python 3 (ipykernel)",
   "language": "python",
   "name": "python3"
  },
  "language_info": {
   "codemirror_mode": {
    "name": "ipython",
    "version": 3
   },
   "file_extension": ".py",
   "mimetype": "text/x-python",
   "name": "python",
   "nbconvert_exporter": "python",
   "pygments_lexer": "ipython3",
   "version": "3.11.4"
  }
 },
 "nbformat": 4,
 "nbformat_minor": 5
}
