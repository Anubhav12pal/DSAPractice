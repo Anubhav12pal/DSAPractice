{
 "cells": [
  {
   "cell_type": "code",
   "execution_count": 1,
   "id": "acdf2d5b",
   "metadata": {},
   "outputs": [],
   "source": [
    "class Solution(object):\n",
    "    def maxProfit(self, prices):\n",
    "\n",
    "        n = len(prices)\n",
    "\n",
    "        maxp = 0\n",
    "        m = float('inf')\n",
    "\n",
    "        for i in range(n):\n",
    "            m = min(m, prices[i])\n",
    "            cp = prices[i] - m\n",
    "            maxp = max(maxp, cp)\n",
    "\n",
    "        return maxp"
   ]
  },
  {
   "cell_type": "code",
   "execution_count": null,
   "id": "4313e973",
   "metadata": {},
   "outputs": [],
   "source": []
  }
 ],
 "metadata": {
  "kernelspec": {
   "display_name": "Python 3 (ipykernel)",
   "language": "python",
   "name": "python3"
  },
  "language_info": {
   "codemirror_mode": {
    "name": "ipython",
    "version": 3
   },
   "file_extension": ".py",
   "mimetype": "text/x-python",
   "name": "python",
   "nbconvert_exporter": "python",
   "pygments_lexer": "ipython3",
   "version": "3.11.4"
  }
 },
 "nbformat": 4,
 "nbformat_minor": 5
}
