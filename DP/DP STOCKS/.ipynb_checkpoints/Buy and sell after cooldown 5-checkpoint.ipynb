{
 "cells": [
  {
   "cell_type": "markdown",
   "id": "8afad52e",
   "metadata": {},
   "source": [
    "# You cannot buy directly after u sell"
   ]
  },
  {
   "cell_type": "code",
   "execution_count": 1,
   "id": "768251d7",
   "metadata": {},
   "outputs": [],
   "source": [
    "class Solution(object):\n",
    "    def maxProfit(self, prices):\n",
    "        \"\"\"\n",
    "        :type prices: List[int]\n",
    "        :rtype: int\n",
    "        \"\"\"\n",
    "        n = len(prices)\n",
    "\n",
    "        def f(index, buy):\n",
    "\n",
    "\n",
    "            if index >= n:\n",
    "                return 0\n",
    "            \n",
    "            if buy == 1:\n",
    "                p = -prices[index] + f(index + 1, 0)\n",
    "                np = f(index + 1, 1)\n",
    "                return max(p, np)\n",
    "            else:\n",
    "                sell = prices[index] + f(index + 2, 1)\n",
    "                ns = f(index + 1, 0)\n",
    "                return max(sell, ns)\n",
    "        return f(0, 1)"
   ]
  },
  {
   "cell_type": "markdown",
   "id": "d984a97b",
   "metadata": {},
   "source": [
    "# Memo"
   ]
  },
  {
   "cell_type": "code",
   "execution_count": 2,
   "id": "82ceadd2",
   "metadata": {},
   "outputs": [],
   "source": [
    "class Solution(object):\n",
    "    def maxProfit(self, prices):\n",
    "        \"\"\"\n",
    "        :type prices: List[int]\n",
    "        :rtype: int\n",
    "        \"\"\"\n",
    "        n = len(prices)\n",
    "        dp = [[-1 for _ in range(2)] for _ in range(n)]\n",
    "\n",
    "        def f(index, buy):\n",
    "\n",
    "\n",
    "            if index >= n:\n",
    "                return 0\n",
    "            if dp[index][buy] != -1:\n",
    "                return dp[index][buy]\n",
    "            \n",
    "            if buy == 1:\n",
    "                p = -prices[index] + f(index + 1, 0)\n",
    "                np = f(index + 1, 1)\n",
    "                dp[index][buy]= max(p, np)\n",
    "                return max(p, np)\n",
    "            else:\n",
    "                sell = prices[index] + f(index + 2, 1)\n",
    "                ns = f(index + 1, 0)\n",
    "                dp[index][buy] = max(sell, ns)\n",
    "                return max(sell, ns)\n",
    "        return f(0, 1)\n",
    "            \n",
    "        "
   ]
  },
  {
   "cell_type": "markdown",
   "id": "123593d5",
   "metadata": {},
   "source": [
    "# Tabu"
   ]
  },
  {
   "cell_type": "code",
   "execution_count": 3,
   "id": "a44a238b",
   "metadata": {},
   "outputs": [],
   "source": [
    "class Solution(object):\n",
    "    def maxProfit(self, prices):\n",
    "        \"\"\"\n",
    "        :type prices: List[int]\n",
    "        :rtype: int\n",
    "        \"\"\"\n",
    "        n = len(prices)\n",
    "        dp = [[0 for _ in range(2)] for _ in range(n+2)]\n",
    "\n",
    "        for index in range(n-1, -1, -1):\n",
    "            for buy in range(2):\n",
    "\n",
    "                if buy == 1:\n",
    "                    p = -prices[index] + dp[index + 1][0] \n",
    "                    np = dp[index + 1][1]\n",
    "                    dp[index][buy]= max(p, np)\n",
    "                \n",
    "                else:\n",
    "                    sell = prices[index] + dp[index + 2][1]\n",
    "                    ns = dp[index + 1][0]\n",
    "                    dp[index][buy] = max(sell, ns)\n",
    "        return dp[0][1]\n",
    "\n",
    "\n",
    "        def f(index, buy):\n",
    "\n",
    "\n",
    "            if index >= n:\n",
    "                return 0\n",
    "            if dp[index][buy] != -1:\n",
    "                return dp[index][buy]\n",
    "            \n",
    "            if buy == 1:\n",
    "                p = -prices[index] + f(index + 1, 0)\n",
    "                np = f(index + 1, 1)\n",
    "                dp[index][buy]= max(p, np)\n",
    "                return max(p, np)\n",
    "            else:\n",
    "                sell = prices[index] + f(index + 2, 1)\n",
    "                ns = f(index + 1, 0)\n",
    "                dp[index][buy] = max(sell, ns)\n",
    "                return max(sell, ns)\n",
    "        return f(0, 1)"
   ]
  },
  {
   "cell_type": "code",
   "execution_count": null,
   "id": "56f26e01",
   "metadata": {},
   "outputs": [],
   "source": []
  }
 ],
 "metadata": {
  "kernelspec": {
   "display_name": "Python 3 (ipykernel)",
   "language": "python",
   "name": "python3"
  },
  "language_info": {
   "codemirror_mode": {
    "name": "ipython",
    "version": 3
   },
   "file_extension": ".py",
   "mimetype": "text/x-python",
   "name": "python",
   "nbconvert_exporter": "python",
   "pygments_lexer": "ipython3",
   "version": "3.11.4"
  }
 },
 "nbformat": 4,
 "nbformat_minor": 5
}
