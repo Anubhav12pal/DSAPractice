{
 "cells": [
  {
   "cell_type": "code",
   "execution_count": 4,
   "id": "955aa55c",
   "metadata": {},
   "outputs": [
    {
     "data": {
      "text/plain": [
       "'You are given an integer array prices where prices[i] is the price of a given stock on the ith day.\\n\\nOn each day, you may decide to buy and/or sell the stock. You can only hold at most one share of the stock at any time. However, you can buy it then immediately sell it on the same day.\\n\\nFind and return the maximum profit you can achieve.\\n\\n \\n\\nExample 1:\\n\\nInput: prices = [7,1,5,3,6,4]\\nOutput: 7\\nExplanation: Buy on day 2 (price = 1) and sell on day 3 (price = 5), profit = 5-1 = 4.\\nThen buy on day 4 (price = 3) and sell on day 5 (price = 6), profit = 6-3 = 3.\\nTotal profit is 4 + 3 = 7.\\nExample 2:\\n\\nInput: prices = [1,2,3,4,5]\\nOutput: 4\\nExplanation: Buy on day 1 (price = 1) and sell on day 5 (price = 5), profit = 5-1 = 4.\\nTotal profit is 4.'"
      ]
     },
     "execution_count": 4,
     "metadata": {},
     "output_type": "execute_result"
    }
   ],
   "source": [
    "'''You are given an integer array prices where prices[i] is the price of a given stock on the ith day.\n",
    "\n",
    "On each day, you may decide to buy and/or sell the stock. You can only hold at most one share of the stock at any time. However, you can buy it then immediately sell it on the same day.\n",
    "\n",
    "Find and return the maximum profit you can achieve.\n",
    "\n",
    " \n",
    "\n",
    "Example 1:\n",
    "\n",
    "Input: prices = [7,1,5,3,6,4]\n",
    "Output: 7\n",
    "Explanation: Buy on day 2 (price = 1) and sell on day 3 (price = 5), profit = 5-1 = 4.\n",
    "Then buy on day 4 (price = 3) and sell on day 5 (price = 6), profit = 6-3 = 3.\n",
    "Total profit is 4 + 3 = 7.\n",
    "Example 2:\n",
    "\n",
    "Input: prices = [1,2,3,4,5]\n",
    "Output: 4\n",
    "Explanation: Buy on day 1 (price = 1) and sell on day 5 (price = 5), profit = 5-1 = 4.\n",
    "Total profit is 4.'''"
   ]
  },
  {
   "cell_type": "code",
   "execution_count": 6,
   "id": "ac386c79",
   "metadata": {},
   "outputs": [
    {
     "data": {
      "text/plain": [
       "'\\nthree principles of dp:\\n1) express it as an index\\n2) do all the operations on 1 particular index\\n3) Fidnd what is needed like count or max or print\\n\\nTHis prob can be expressed as :\\n\\n1) price based array\\n2) Tasks to do on an idndex:\\n\\nif it has not been bought:\\nthen there are options: buy or not buy\\nIf it as been bought:\\nthen we can either sell or hold it\\n\\n3 Find max profit\\n\\n\\n'"
      ]
     },
     "execution_count": 6,
     "metadata": {},
     "output_type": "execute_result"
    }
   ],
   "source": [
    "'''\n",
    "three principles of dp:\n",
    "1) express it as an index\n",
    "2) do all the operations on 1 particular index\n",
    "3) Fidnd what is needed like count or max or print\n",
    "\n",
    "THis prob can be expressed as :\n",
    "\n",
    "1) price based array\n",
    "2) Tasks to do on an idndex:\n",
    "\n",
    "if it has not been bought:\n",
    "then there are options: buy or not buy\n",
    "If it as been bought:\n",
    "then we can either sell or hold it\n",
    "\n",
    "3 Find max profit\n",
    "\n",
    "\n",
    "'''"
   ]
  },
  {
   "cell_type": "markdown",
   "id": "8063de85",
   "metadata": {},
   "source": [
    "# Base recursion"
   ]
  },
  {
   "cell_type": "code",
   "execution_count": 8,
   "id": "e6f43935",
   "metadata": {},
   "outputs": [],
   "source": [
    "class Solution(object):\n",
    "    def maxProfit(self, prices):\n",
    "        \"\"\"\n",
    "        :type prices: List[int]\n",
    "        :rtype: int\n",
    "        \"\"\"\n",
    "        n = len(prices)\n",
    "\n",
    "\n",
    "        def f(index, buy):\n",
    "\n",
    "\n",
    "            # Base\n",
    "            if index == n:\n",
    "                return 0\n",
    "\n",
    "            \n",
    "            # if we can buy here\n",
    "            if buy ==1:\n",
    "\n",
    "                # If we dont pick then we have the option to buy \n",
    "                np = f(index + 1, 1)\n",
    "                # If we buy then when we sell then we reduce the current price from the profit thats why we reduce the price\n",
    "                p = -prices[index] + f(index + 1, 0)\n",
    "\n",
    "                return max(p, np)\n",
    "\n",
    "\n",
    "            \n",
    "            else:\n",
    "                # If we sell then we add taht money too the profit and we again get the ability to buy\n",
    "                sell = prices[index] + f(index + 1, 1)\n",
    "                # If we dont sell then we dont have the ability to buy\n",
    "                notsell =  0 + f(index + 1, 0)\n",
    "\n",
    "                return max(sell, notsell)\n",
    "        return f(0, 1)"
   ]
  },
  {
   "cell_type": "markdown",
   "id": "ee656d6f",
   "metadata": {},
   "source": [
    "# Memo"
   ]
  },
  {
   "cell_type": "code",
   "execution_count": 9,
   "id": "4063f7eb",
   "metadata": {},
   "outputs": [],
   "source": [
    "class Solution(object):\n",
    "    def maxProfit(self, prices):\n",
    "        \"\"\"\n",
    "        :type prices: List[int]\n",
    "        :rtype: int\n",
    "        \"\"\"\n",
    "        n = len(prices)\n",
    "\n",
    "        dp=  [[-1 for _ in range(2)] for _ in range(n)]\n",
    "\n",
    "\n",
    "        def f(index, buy):\n",
    "\n",
    "\n",
    "            # Base\n",
    "            if index == n:\n",
    "                return 0\n",
    "\n",
    "            if dp[index][buy] != -1:\n",
    "                return dp[index][buy]\n",
    "\n",
    "            \n",
    "            # if we can buy here\n",
    "            if buy ==1:\n",
    "\n",
    "                # If we dont pick then we have the option to buy \n",
    "                np = f(index + 1, 1)\n",
    "                # If we buy then when we sell then we reduce the current price from the profit thats why we reduce the price\n",
    "                p = -prices[index] + f(index + 1, 0)\n",
    "                dp[index][buy] = max(p, np)\n",
    "                return max(p, np)\n",
    "\n",
    "\n",
    "            \n",
    "            else:\n",
    "                # If we sell then we add taht money too the profit and we again get the ability to buy\n",
    "                sell = prices[index] + f(index + 1, 1)\n",
    "                # If we dont sell then we dont have the ability to buy\n",
    "                notsell =  0 + f(index + 1, 0)\n",
    "\n",
    "                dp[index][buy] = max(sell, notsell)\n",
    "\n",
    "                return max(sell, notsell)\n",
    "        return f(0, 1)"
   ]
  },
  {
   "cell_type": "markdown",
   "id": "6099031b",
   "metadata": {},
   "source": [
    "# Tabulation"
   ]
  },
  {
   "cell_type": "code",
   "execution_count": 10,
   "id": "bc465969",
   "metadata": {},
   "outputs": [],
   "source": [
    "class Solution(object):\n",
    "    def maxProfit(self, prices):\n",
    "        \"\"\"\n",
    "        :type prices: List[int]\n",
    "        :rtype: int\n",
    "        \"\"\"\n",
    "        n = len(prices)\n",
    "\n",
    "        dp=  [[0 for _ in range(2)] for _ in range(n+1)]\n",
    "        dp[n][0] = 0 \n",
    "        dp[n][1] = 0\n",
    "\n",
    "        for index in range(n-1, -1, -1):\n",
    "            for buy in range(2):\n",
    "\n",
    "                if buy ==1:\n",
    "                    np = dp[index + 1][1]\n",
    "                    p = -prices[index] + dp[index + 1][0]\n",
    "                    dp[index][buy] = max(p, np)\n",
    "                \n",
    "\n",
    "\n",
    "            \n",
    "                else:\n",
    "                \n",
    "                    sell = prices[index] + dp[index + 1][1]\n",
    "                \n",
    "                    notsell =  0 + dp[index + 1][0]\n",
    "\n",
    "                    dp[index][buy] = max(sell, notsell)\n",
    "        return dp[0][1]"
   ]
  },
  {
   "cell_type": "markdown",
   "id": "5488a3a4",
   "metadata": {},
   "source": [
    "# Space"
   ]
  },
  {
   "cell_type": "code",
   "execution_count": 11,
   "id": "a49bde57",
   "metadata": {},
   "outputs": [],
   "source": [
    "class Solution(object):\n",
    "    def maxProfit(self, prices):\n",
    "        \"\"\"\n",
    "        :type prices: List[int]\n",
    "        :rtype: int\n",
    "        \"\"\"\n",
    "        n = len(prices)\n",
    "\n",
    "        # Initialize two 1D arrays to keep track of the states\n",
    "        next_dp = [0, 0]  # This represents dp[index + 1][buy]\n",
    "        curr_dp = [0, 0]  # This represents dp[index][buy]\n",
    "\n",
    "        for index in range(n - 1, -1, -1):\n",
    "            for buy in range(2):\n",
    "                if buy == 1:\n",
    "                    # Choice to not pick or pick (buy) the current stock\n",
    "                    np = next_dp[1]\n",
    "                    p = -prices[index] + next_dp[0]\n",
    "                    curr_dp[buy] = max(p, np)\n",
    "                else:\n",
    "                    # Choice to not sell or sell the current stock\n",
    "                    sell = prices[index] + next_dp[1]\n",
    "                    notsell = next_dp[0]\n",
    "                    curr_dp[buy] = max(sell, notsell)\n",
    "            \n",
    "            # Update next_dp to be the current row for the next iteration\n",
    "            next_dp = curr_dp[:]\n",
    "\n",
    "        return next_dp[1]\n"
   ]
  },
  {
   "cell_type": "markdown",
   "id": "6c20cf0e",
   "metadata": {},
   "source": [
    "# Greedy"
   ]
  },
  {
   "cell_type": "code",
   "execution_count": null,
   "id": "22242ff5",
   "metadata": {},
   "outputs": [],
   "source": []
  }
 ],
 "metadata": {
  "kernelspec": {
   "display_name": "Python 3 (ipykernel)",
   "language": "python",
   "name": "python3"
  },
  "language_info": {
   "codemirror_mode": {
    "name": "ipython",
    "version": 3
   },
   "file_extension": ".py",
   "mimetype": "text/x-python",
   "name": "python",
   "nbconvert_exporter": "python",
   "pygments_lexer": "ipython3",
   "version": "3.11.4"
  }
 },
 "nbformat": 4,
 "nbformat_minor": 5
}
