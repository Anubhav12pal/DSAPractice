{
 "cells": [
  {
   "cell_type": "code",
   "execution_count": 1,
   "id": "dfbb2067",
   "metadata": {},
   "outputs": [],
   "source": [
    "# Same as stocks 2 but w k elements instead of 2"
   ]
  },
  {
   "cell_type": "code",
   "execution_count": 2,
   "id": "67c29a12",
   "metadata": {},
   "outputs": [],
   "source": [
    "class Solution(object):\n",
    "    def maxProfit(self, k, prices):\n",
    "        \"\"\"\n",
    "        :type k: int\n",
    "        :type prices: List[int]\n",
    "        :rtype: int\n",
    "        \"\"\"\n",
    "        n = len(prices)\n",
    "\n",
    "        def f(index, buy, k):\n",
    "\n",
    "            if index == n:\n",
    "                return 0\n",
    "\n",
    "            if k == 0:\n",
    "                return 0\n",
    "            \n",
    "            if buy == 1:\n",
    "                p = -prices[index] + f(index + 1, 0, k)\n",
    "                np = f(index + 1, 1, k)\n",
    "                return max(p, np)\n",
    "            else:\n",
    "                sell = prices[index] + f(index + 1, 1, k-1)\n",
    "                ns = f(index + 1, 0, k)\n",
    "                return max(sell, ns)\n",
    "        return f(0,1,k)\n",
    "        "
   ]
  },
  {
   "cell_type": "markdown",
   "id": "f9a21efd",
   "metadata": {},
   "source": [
    "# memo"
   ]
  },
  {
   "cell_type": "code",
   "execution_count": 3,
   "id": "c6c8fd87",
   "metadata": {},
   "outputs": [],
   "source": [
    "class Solution(object):\n",
    "    def maxProfit(self, k, prices):\n",
    "        \"\"\"\n",
    "        :type k: int\n",
    "        :type prices: List[int]\n",
    "        :rtype: int\n",
    "        \"\"\"\n",
    "        n = len(prices)\n",
    "        dp = [[[-1 for _ in range(k + 1)] for _ in range(2)] for _ in range(n)]\n",
    "\n",
    "        def f(index, buy, k):\n",
    "\n",
    "            if index == n:\n",
    "                return 0\n",
    "\n",
    "            if k == 0:\n",
    "                return 0\n",
    "\n",
    "            if dp[index][buy][k] != -1:\n",
    "                return dp[index][buy][k]\n",
    "            \n",
    "            if buy == 1:\n",
    "                p = -prices[index] + f(index + 1, 0, k)\n",
    "                np = f(index + 1, 1, k)\n",
    "                dp[index][buy][k] = max(p, np)\n",
    "                return max(p, np)\n",
    "            else:\n",
    "                sell = prices[index] + f(index + 1, 1, k-1)\n",
    "                ns = f(index + 1, 0, k)\n",
    "                dp[index][buy][k] = max(sell, ns)\n",
    "                return max(sell, ns)\n",
    "        return f(0,1,k)\n",
    "        "
   ]
  },
  {
   "cell_type": "code",
   "execution_count": null,
   "id": "0103bf94",
   "metadata": {},
   "outputs": [],
   "source": []
  }
 ],
 "metadata": {
  "kernelspec": {
   "display_name": "Python 3 (ipykernel)",
   "language": "python",
   "name": "python3"
  },
  "language_info": {
   "codemirror_mode": {
    "name": "ipython",
    "version": 3
   },
   "file_extension": ".py",
   "mimetype": "text/x-python",
   "name": "python",
   "nbconvert_exporter": "python",
   "pygments_lexer": "ipython3",
   "version": "3.11.4"
  }
 },
 "nbformat": 4,
 "nbformat_minor": 5
}
