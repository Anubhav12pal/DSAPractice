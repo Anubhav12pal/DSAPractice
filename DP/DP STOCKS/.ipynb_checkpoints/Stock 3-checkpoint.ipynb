{
 "cells": [
  {
   "cell_type": "code",
   "execution_count": 1,
   "id": "779a04f0",
   "metadata": {},
   "outputs": [
    {
     "data": {
      "text/plain": [
       "'\\n\\n\\n123. Best Time to Buy and Sell Stock III\\nHard\\nTopics\\nCompanies\\nYou are given an array prices where prices[i] is the price of a given stock on the ith day.\\n\\nFind the maximum profit you can achieve. You may complete at most two transactions.\\n\\nNote: You may not engage in multiple transactions simultaneously (i.e., you must sell the stock before you buy again).\\n\\n \\n\\nExample 1:\\n\\nInput: prices = [3,3,5,0,0,3,1,4]\\nOutput: 6\\nExplanation: Buy on day 4 (price = 0) and sell on day 6 (price = 3), profit = 3-0 = 3.\\nThen buy on day 7 (price = 1) and sell on day 8 (price = 4), profit = 4-1 = 3.'"
      ]
     },
     "execution_count": 1,
     "metadata": {},
     "output_type": "execute_result"
    }
   ],
   "source": [
    "'''\n",
    "\n",
    "\n",
    "123. Best Time to Buy and Sell Stock III\n",
    "Hard\n",
    "Topics\n",
    "Companies\n",
    "You are given an array prices where prices[i] is the price of a given stock on the ith day.\n",
    "\n",
    "Find the maximum profit you can achieve. You may complete at most two transactions.\n",
    "\n",
    "Note: You may not engage in multiple transactions simultaneously (i.e., you must sell the stock before you buy again).\n",
    "\n",
    " \n",
    "\n",
    "Example 1:\n",
    "\n",
    "Input: prices = [3,3,5,0,0,3,1,4]\n",
    "Output: 6\n",
    "Explanation: Buy on day 4 (price = 0) and sell on day 6 (price = 3), profit = 3-0 = 3.\n",
    "Then buy on day 7 (price = 1) and sell on day 8 (price = 4), profit = 4-1 = 3.'''"
   ]
  },
  {
   "cell_type": "code",
   "execution_count": 2,
   "id": "b52e8c5f",
   "metadata": {},
   "outputs": [],
   "source": [
    "class Solution(object):\n",
    "    def maxProfit(self, prices):\n",
    "        \"\"\"\n",
    "        :type prices: List[int]\n",
    "        :rtype: int\n",
    "        \"\"\"\n",
    "        n = len(prices)\n",
    "\n",
    "        def f(index, buy, selllimit):\n",
    "\n",
    "            if selllimit == 0:\n",
    "                return 0\n",
    "\n",
    "            if index == n:\n",
    "                return 0\n",
    "          \n",
    "\n",
    "\n",
    "            if buy == 1:\n",
    "                p = -prices[index] + f(index + 1, 0, selllimit)\n",
    "                np = 0 + f(index + 1, 1, selllimit)\n",
    "\n",
    "                return max(p, np)\n",
    "            else:\n",
    "                sell = prices[index] + f(index + 1, 1, selllimit -1)\n",
    "                ns = 0 + f(index + 1, 0, selllimit)\n",
    "                return max(sell, ns)\n",
    "        \n",
    "        return f(0, 1, 2)"
   ]
  },
  {
   "cell_type": "markdown",
   "id": "d705f175",
   "metadata": {},
   "source": [
    "# Memo"
   ]
  },
  {
   "cell_type": "code",
   "execution_count": 3,
   "id": "4b9885ff",
   "metadata": {},
   "outputs": [],
   "source": [
    "class Solution(object):\n",
    "    def maxProfit(self, prices):\n",
    "        \"\"\"\n",
    "        :type prices: List[int]\n",
    "        :rtype: int\n",
    "        \"\"\"\n",
    "        n = len(prices)\n",
    "        dp = [[[-1 for _ in range(3)] for _ in range(2)] for _ in range(n)]\n",
    "\n",
    "        def f(index, buy, selllimit):\n",
    "\n",
    "            if selllimit == 0:\n",
    "                return 0\n",
    "\n",
    "            if index == n:\n",
    "                return 0\n",
    "\n",
    "            if dp[index][buy][selllimit] != -1:\n",
    "                return dp[index][buy][selllimit]\n",
    "\n",
    "\n",
    "            if buy == 1:\n",
    "                p = -prices[index] + f(index + 1, 0, selllimit)\n",
    "                np = 0 + f(index + 1, 1, selllimit)\n",
    "                dp[index][buy][selllimit] = max(p, np)\n",
    "\n",
    "                return max(p, np)\n",
    "            else:\n",
    "                sell = prices[index] + f(index + 1, 1, selllimit -1)\n",
    "                ns = 0 + f(index + 1, 0, selllimit)\n",
    "\n",
    "                dp[index][buy][selllimit] = max(sell, ns)\n",
    "                return max(sell, ns)\n",
    "        \n",
    "        return f(0, 1, 2)"
   ]
  },
  {
   "cell_type": "markdown",
   "id": "ffa315d7",
   "metadata": {},
   "source": [
    "# Tabu"
   ]
  },
  {
   "cell_type": "code",
   "execution_count": 6,
   "id": "ab4b736a",
   "metadata": {},
   "outputs": [],
   "source": [
    "class Solution(object):\n",
    "    def maxProfit(self, prices):\n",
    "        \"\"\"\n",
    "        :type prices: List[int]\n",
    "        :rtype: int\n",
    "        \"\"\"\n",
    "        n = len(prices)\n",
    "        dp = [[[0 for _ in range(3)] for _ in range(2)] for _ in range(n + 1)]\n",
    "\n",
    "        \n",
    "        for index in range(n-1, -1, -1):\n",
    "            for buy in range(2):\n",
    "                for selllimit in range(1,3):\n",
    "                    if buy == 1:\n",
    "                        # If we are allowed to buy\n",
    "                        p = -prices[index] + dp[index + 1][0][selllimit]\n",
    "                        np = dp[index + 1][1][selllimit]\n",
    "                        dp[index][buy][selllimit] = max(p, np)\n",
    "                    else:\n",
    "                        # If we are allowed to sell, check selllimit > 0\n",
    "                       \n",
    "                        sell = prices[index] + dp[index + 1][1][selllimit - 1]\n",
    "                      \n",
    "                      \n",
    "                        ns = dp[index + 1][0][selllimit]\n",
    "                        dp[index][buy][selllimit] = max(sell, ns)\n",
    "\n",
    "        return dp[0][1][2]"
   ]
  },
  {
   "cell_type": "code",
   "execution_count": null,
   "id": "52f40de2",
   "metadata": {},
   "outputs": [],
   "source": []
  }
 ],
 "metadata": {
  "kernelspec": {
   "display_name": "Python 3 (ipykernel)",
   "language": "python",
   "name": "python3"
  },
  "language_info": {
   "codemirror_mode": {
    "name": "ipython",
    "version": 3
   },
   "file_extension": ".py",
   "mimetype": "text/x-python",
   "name": "python",
   "nbconvert_exporter": "python",
   "pygments_lexer": "ipython3",
   "version": "3.11.4"
  }
 },
 "nbformat": 4,
 "nbformat_minor": 5
}
