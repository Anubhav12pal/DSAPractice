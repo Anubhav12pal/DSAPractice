{
 "cells": [
  {
   "cell_type": "code",
   "execution_count": 1,
   "id": "43f65341",
   "metadata": {},
   "outputs": [
    {
     "data": {
      "text/plain": [
       "'\\n\\n\\n123. Best Time to Buy and Sell Stock III\\nHard\\nTopics\\nCompanies\\nYou are given an array prices where prices[i] is the price of a given stock on the ith day.\\n\\nFind the maximum profit you can achieve. You may complete at most two transactions.\\n\\nNote: You may not engage in multiple transactions simultaneously (i.e., you must sell the stock before you buy again).\\n\\n \\n\\nExample 1:\\n\\nInput: prices = [3,3,5,0,0,3,1,4]\\nOutput: 6\\nExplanation: Buy on day 4 (price = 0) and sell on day 6 (price = 3), profit = 3-0 = 3.\\nThen buy on day 7 (price = 1) and sell on day 8 (price = 4), profit = 4-1 = 3.'"
      ]
     },
     "execution_count": 1,
     "metadata": {},
     "output_type": "execute_result"
    }
   ],
   "source": [
    "'''\n",
    "\n",
    "\n",
    "123. Best Time to Buy and Sell Stock III\n",
    "Hard\n",
    "Topics\n",
    "Companies\n",
    "You are given an array prices where prices[i] is the price of a given stock on the ith day.\n",
    "\n",
    "Find the maximum profit you can achieve. You may complete at most two transactions.\n",
    "\n",
    "Note: You may not engage in multiple transactions simultaneously (i.e., you must sell the stock before you buy again).\n",
    "\n",
    " \n",
    "\n",
    "Example 1:\n",
    "\n",
    "Input: prices = [3,3,5,0,0,3,1,4]\n",
    "Output: 6\n",
    "Explanation: Buy on day 4 (price = 0) and sell on day 6 (price = 3), profit = 3-0 = 3.\n",
    "Then buy on day 7 (price = 1) and sell on day 8 (price = 4), profit = 4-1 = 3.'''"
   ]
  },
  {
   "cell_type": "code",
   "execution_count": 2,
   "id": "8c3ea469",
   "metadata": {},
   "outputs": [],
   "source": [
    "class Solution(object):\n",
    "    def maxProfit(self, prices):\n",
    "        \"\"\"\n",
    "        :type prices: List[int]\n",
    "        :rtype: int\n",
    "        \"\"\"\n",
    "        n = len(prices)\n",
    "\n",
    "        def f(index, buy, selllimit):\n",
    "\n",
    "            if selllimit == 0:\n",
    "                return 0\n",
    "\n",
    "            if index == n:\n",
    "                return 0\n",
    "          \n",
    "\n",
    "\n",
    "            if buy == 1:\n",
    "                p = -prices[index] + f(index + 1, 0, selllimit)\n",
    "                np = 0 + f(index + 1, 1, selllimit)\n",
    "\n",
    "                return max(p, np)\n",
    "            else:\n",
    "                sell = prices[index] + f(index + 1, 1, selllimit -1)\n",
    "                ns = 0 + f(index + 1, 0, selllimit)\n",
    "                return max(sell, ns)\n",
    "        \n",
    "        return f(0, 1, 2)"
   ]
  },
  {
   "cell_type": "code",
   "execution_count": null,
   "id": "5f766993",
   "metadata": {},
   "outputs": [],
   "source": []
  }
 ],
 "metadata": {
  "kernelspec": {
   "display_name": "Python 3 (ipykernel)",
   "language": "python",
   "name": "python3"
  },
  "language_info": {
   "codemirror_mode": {
    "name": "ipython",
    "version": 3
   },
   "file_extension": ".py",
   "mimetype": "text/x-python",
   "name": "python",
   "nbconvert_exporter": "python",
   "pygments_lexer": "ipython3",
   "version": "3.11.4"
  }
 },
 "nbformat": 4,
 "nbformat_minor": 5
}
