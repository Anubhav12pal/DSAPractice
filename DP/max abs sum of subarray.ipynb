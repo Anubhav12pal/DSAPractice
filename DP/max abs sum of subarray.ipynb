{
 "cells": [
  {
   "cell_type": "code",
   "execution_count": 4,
   "id": "8f2e552f",
   "metadata": {},
   "outputs": [],
   "source": [
    "# Normal brute fore n^2 time comp\n",
    "        "
   ]
  },
  {
   "cell_type": "code",
   "execution_count": 5,
   "id": "31b319f3",
   "metadata": {},
   "outputs": [],
   "source": [
    "class Solution:\n",
    "    def maxAbsoluteSum(self, nums):\n",
    "\n",
    "        ans = -float('inf')\n",
    "        n = len(nums)\n",
    "\n",
    "        for i in range(n):\n",
    "\n",
    "            cs = 0\n",
    "\n",
    "            for j in range(i, n):\n",
    "\n",
    "                cs += nums[j]\n",
    "\n",
    "                ans = max(ans, abs(cs))\n",
    "        return ans"
   ]
  },
  {
   "cell_type": "code",
   "execution_count": 6,
   "id": "90a3192c",
   "metadata": {},
   "outputs": [
    {
     "data": {
      "text/plain": [
       "'\\nWhat i thought:\\nif its a dp how do u convert it toa 1 d dp\\n\\n\\n'"
      ]
     },
     "execution_count": 6,
     "metadata": {},
     "output_type": "execute_result"
    }
   ],
   "source": [
    "'''\n",
    "What i thought:\n",
    "if its a dp how do u convert it toa 1 d dp\n",
    "\n",
    "\n",
    "'''"
   ]
  },
  {
   "cell_type": "code",
   "execution_count": null,
   "id": "883bad45",
   "metadata": {},
   "outputs": [],
   "source": []
  }
 ],
 "metadata": {
  "kernelspec": {
   "display_name": "Python 3 (ipykernel)",
   "language": "python",
   "name": "python3"
  },
  "language_info": {
   "codemirror_mode": {
    "name": "ipython",
    "version": 3
   },
   "file_extension": ".py",
   "mimetype": "text/x-python",
   "name": "python",
   "nbconvert_exporter": "python",
   "pygments_lexer": "ipython3",
   "version": "3.11.4"
  }
 },
 "nbformat": 4,
 "nbformat_minor": 5
}
