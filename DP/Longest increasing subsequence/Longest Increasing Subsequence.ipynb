{
 "cells": [
  {
   "cell_type": "code",
   "execution_count": 1,
   "id": "1c75604f",
   "metadata": {},
   "outputs": [
    {
     "data": {
      "text/plain": [
       "'\\nGiven an integer array nums, return the length of the longest strictly increasing \\nsubsequence\\n.\\n\\n \\n\\nExample 1:\\n\\nInput: nums = [10,9,2,5,3,7,101,18]\\nOutput: 4\\nExplanation: The longest increasing subsequence is [2,3,7,101], therefore the length is 4.\\nExample 2:\\n\\nInput: nums = [0,1,0,3,2,3]\\nOutput: 4\\nExample 3:\\n\\nInput: nums = [7,7,7,7,7,7,7]'"
      ]
     },
     "execution_count": 1,
     "metadata": {},
     "output_type": "execute_result"
    }
   ],
   "source": [
    "'''\n",
    "Given an integer array nums, return the length of the longest strictly increasing \n",
    "subsequence\n",
    ".\n",
    "\n",
    " \n",
    "\n",
    "Example 1:\n",
    "\n",
    "Input: nums = [10,9,2,5,3,7,101,18]\n",
    "Output: 4\n",
    "Explanation: The longest increasing subsequence is [2,3,7,101], therefore the length is 4.\n",
    "Example 2:\n",
    "\n",
    "Input: nums = [0,1,0,3,2,3]\n",
    "Output: 4\n",
    "Example 3:\n",
    "\n",
    "Input: nums = [7,7,7,7,7,7,7]'''"
   ]
  },
  {
   "cell_type": "markdown",
   "id": "8467c63e",
   "metadata": {},
   "source": [
    "# Memo"
   ]
  },
  {
   "cell_type": "code",
   "execution_count": 2,
   "id": "f24862da",
   "metadata": {},
   "outputs": [],
   "source": [
    "class Solution(object):\n",
    "    def lengthOfLIS(self, nums):\n",
    "        \"\"\"\n",
    "        :type nums: List[int]\n",
    "        :rtype: int\n",
    "        \"\"\"\n",
    "        n = len(nums)\n",
    "\n",
    "        dp = [[-1 for _ in range(n + 1)] for _ in range(n)]\n",
    "\n",
    "        def f(index, prev):\n",
    "\n",
    "            if index >= n:\n",
    "                return 0\n",
    "            if dp[index + 1][prev] != -1:\n",
    "                return dp[index][prev + 1]\n",
    "            np = 0 + f(index + 1, prev)\n",
    "            p = 0\n",
    "\n",
    "            if prev == -1 or nums[index] > nums[prev]:\n",
    "                p = 1 + f(index + 1, index)\n",
    "            dp[index][prev + 1] = max(p, np)\n",
    "            return max(p,np)\n",
    "        return f(0, -1)"
   ]
  },
  {
   "cell_type": "markdown",
   "id": "d42318c1",
   "metadata": {},
   "source": [
    "# TABU"
   ]
  },
  {
   "cell_type": "code",
   "execution_count": 3,
   "id": "6975325f",
   "metadata": {},
   "outputs": [],
   "source": [
    "class Solution(object):\n",
    "    def lengthOfLIS(self, nums):\n",
    "        \"\"\"\n",
    "        :type nums: List[int]\n",
    "        :rtype: int\n",
    "        \"\"\"\n",
    "        n = len(nums)\n",
    "        \n",
    "        # dp[i][j] means the LIS starting from index i with the previous element's index being j\n",
    "        dp = [[0 for _ in range(n + 1)] for _ in range(n + 1)]\n",
    "        \n",
    "        # Fill dp table bottom-up\n",
    "        for index in range(n - 1, -1, -1):\n",
    "            for prev in range(index - 1, -2, -1):  # prev can be -1 to n - 1 (mapped to 0 to n in dp array)\n",
    "                # Option 1: Do not include nums[index] in the subsequence\n",
    "                np = dp[index + 1][prev + 1]\n",
    "                \n",
    "                # Option 2: Include nums[index] in the subsequence if it forms an increasing subsequence\n",
    "                p = 0\n",
    "                if prev == -1 or nums[index] > nums[prev]:\n",
    "                    p = 1 + dp[index + 1][index + 1]\n",
    "                \n",
    "                # Store the best result in dp table\n",
    "                dp[index][prev + 1] = max(p, np)\n",
    "        \n",
    "        # The result is in dp[0][0] since we start from index 0 with no previous element\n",
    "        return dp[0][0]"
   ]
  },
  {
   "cell_type": "code",
   "execution_count": null,
   "id": "4ba69d8c",
   "metadata": {},
   "outputs": [],
   "source": []
  }
 ],
 "metadata": {
  "kernelspec": {
   "display_name": "Python 3 (ipykernel)",
   "language": "python",
   "name": "python3"
  },
  "language_info": {
   "codemirror_mode": {
    "name": "ipython",
    "version": 3
   },
   "file_extension": ".py",
   "mimetype": "text/x-python",
   "name": "python",
   "nbconvert_exporter": "python",
   "pygments_lexer": "ipython3",
   "version": "3.11.4"
  }
 },
 "nbformat": 4,
 "nbformat_minor": 5
}
