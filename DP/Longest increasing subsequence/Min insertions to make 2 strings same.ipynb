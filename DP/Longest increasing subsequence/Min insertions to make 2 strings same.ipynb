{
 "cells": [
  {
   "cell_type": "markdown",
   "id": "9bb0c1ce",
   "metadata": {},
   "source": [
    "# Dp Tabu"
   ]
  },
  {
   "cell_type": "code",
   "execution_count": 1,
   "id": "9181ea33",
   "metadata": {},
   "outputs": [],
   "source": [
    "class Solution(object):\n",
    "    def minDistance(self, word1, word2):\n",
    "        \"\"\"\n",
    "        :type word1: str\n",
    "        :type word2: str\n",
    "        :rtype: int\n",
    "        \"\"\"\n",
    "\n",
    "        n = len(word1)\n",
    "        m = len(word2)\n",
    "\n",
    "        dp = [[0 for _ in range(m + 1)] for _ in range(n + 1)]\n",
    "\n",
    "        for i in range(1, n + 1):\n",
    "            for j in range(1, m + 1):\n",
    "                if word1[i-1]== word2[j-1]:\n",
    "                    dp[i][j] = dp[i-1][j-1] +1\n",
    "                else:\n",
    "                    dp[i][j]= max(dp[i][j-1], dp[i-1][j])\n",
    "        return n-dp[n][m] + m - dp[n][m]"
   ]
  },
  {
   "cell_type": "markdown",
   "id": "28dee810",
   "metadata": {},
   "source": [
    "'''\n",
    "\n",
    "Same as warlier use the longest common subsequence to find that and the latter result is just returning the sum of diff of\n",
    "original len - the subsequence len\n",
    "\n",
    "\n",
    "\n",
    "'''"
   ]
  },
  {
   "cell_type": "code",
   "execution_count": null,
   "id": "b0807303",
   "metadata": {},
   "outputs": [],
   "source": []
  }
 ],
 "metadata": {
  "kernelspec": {
   "display_name": "Python 3 (ipykernel)",
   "language": "python",
   "name": "python3"
  },
  "language_info": {
   "codemirror_mode": {
    "name": "ipython",
    "version": 3
   },
   "file_extension": ".py",
   "mimetype": "text/x-python",
   "name": "python",
   "nbconvert_exporter": "python",
   "pygments_lexer": "ipython3",
   "version": "3.11.4"
  }
 },
 "nbformat": 4,
 "nbformat_minor": 5
}
