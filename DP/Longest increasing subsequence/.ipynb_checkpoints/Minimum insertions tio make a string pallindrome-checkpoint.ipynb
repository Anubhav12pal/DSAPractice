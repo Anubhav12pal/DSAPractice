{
 "cells": [
  {
   "cell_type": "markdown",
   "id": "cb34fea9",
   "metadata": {},
   "source": [
    "# A dp problem similar to finding the longest pallindromic subsequence in the string. The min insertions are just the length of string - the length of longest pallindromic string "
   ]
  },
  {
   "cell_type": "code",
   "execution_count": 3,
   "id": "1d1dc2fd",
   "metadata": {},
   "outputs": [],
   "source": [
    "class Solution(object):\n",
    "    def minInsertions(self, s):\n",
    "        \"\"\"\n",
    "        :type s: str\n",
    "        :rtype: int\n",
    "        \"\"\"\n",
    "        n = len(s)\n",
    "        ss = s[::-1]\n",
    "\n",
    "        dp = [[0 for _ in range(n + 1)] for _ in range(n + 1)]\n",
    "\n",
    "        for i in range(1, n + 1):\n",
    "            for j in range(1, n + 1):\n",
    "                if s[i - 1] == ss[j - 1]:  # Comparing characters in `s` and reversed `s`\n",
    "                    dp[i][j] = 1 + dp[i - 1][j - 1]\n",
    "                else:\n",
    "                    dp[i][j] = max(dp[i][j - 1], dp[i - 1][j])\n",
    "\n",
    "        # Minimum insertions = length of `s` - length of longest palindromic subsequence\n",
    "        return n - dp[n][n]\n"
   ]
  },
  {
   "cell_type": "code",
   "execution_count": null,
   "id": "eb10a749",
   "metadata": {},
   "outputs": [],
   "source": []
  }
 ],
 "metadata": {
  "kernelspec": {
   "display_name": "Python 3 (ipykernel)",
   "language": "python",
   "name": "python3"
  },
  "language_info": {
   "codemirror_mode": {
    "name": "ipython",
    "version": 3
   },
   "file_extension": ".py",
   "mimetype": "text/x-python",
   "name": "python",
   "nbconvert_exporter": "python",
   "pygments_lexer": "ipython3",
   "version": "3.11.4"
  }
 },
 "nbformat": 4,
 "nbformat_minor": 5
}
