{
 "cells": [
  {
   "cell_type": "markdown",
   "id": "0cb05c1d",
   "metadata": {},
   "source": [
    "# MEMO"
   ]
  },
  {
   "cell_type": "code",
   "execution_count": 1,
   "id": "48392aef",
   "metadata": {},
   "outputs": [],
   "source": [
    "class Solution(object):\n",
    "    def longestPalindromeSubseq(self, s):\n",
    "        \"\"\"\n",
    "        :type s: str\n",
    "        :rtype: int\n",
    "        \"\"\"\n",
    "        \n",
    "        ss = s[::-1]\n",
    "        n = len(s)\n",
    "\n",
    "        dp = [[-1 for _ in range(n)] for  _ in range(n)]\n",
    "\n",
    "        def f(i, j):\n",
    "\n",
    "            if i < 0 or j < 0:\n",
    "                return 0\n",
    "            if dp[i][j] != -1:\n",
    "                return dp[i][j]\n",
    "            \n",
    "            if s[i] == ss[j]:\n",
    "                dp[i][j] = 1 + f(i - 1, j - 1)\n",
    "                return 1 + f(i - 1, j - 1)\n",
    "            dp[i][j] = max(f(i-1, j), f(i, j-1))\n",
    "            return max(f(i-1, j), f(i, j-1))\n",
    "        return f(n-1, n-1)"
   ]
  },
  {
   "cell_type": "code",
   "execution_count": 2,
   "id": "923862f4",
   "metadata": {},
   "outputs": [],
   "source": [
    "class Solution(object):\n",
    "    def longestPalindromeSubseq(self, s):\n",
    "        \"\"\"\n",
    "        :type s: str\n",
    "        :rtype: int\n",
    "        \"\"\"\n",
    "        \n",
    "        ss = s[::-1]\n",
    "        n = len(s)\n",
    "\n",
    "        dp = [[0 for _ in range(n + 1)] for  _ in range(n + 1)]\n",
    "        for i in range(n):\n",
    "            dp[0][i] = 0\n",
    "            dp[i][0] = 0\n",
    "        \n",
    "        for i in range(1,n + 1):\n",
    "            for j in range(1, n + 1):\n",
    "\n",
    "                if s[i-1] == ss[j-1]:\n",
    "                    dp[i][j] = 1 + dp[i - 1][j - 1]\n",
    "                else:\n",
    "\n",
    "                    dp[i][j] = max(dp[i-1][j], dp[i][j-1])\n",
    "            \n",
    "        return dp[n][n]"
   ]
  },
  {
   "cell_type": "markdown",
   "id": "3aa4997a",
   "metadata": {},
   "source": [
    "# Space"
   ]
  },
  {
   "cell_type": "code",
   "execution_count": 4,
   "id": "61d863f9",
   "metadata": {},
   "outputs": [],
   "source": [
    "class Solution(object):\n",
    "    def longestPalindromeSubseq(self, s):\n",
    "        \"\"\"\n",
    "        :type s: str\n",
    "        :rtype: int\n",
    "        \"\"\"\n",
    "        ss = s[::-1]\n",
    "        n = len(s)\n",
    "\n",
    "        # Only two 1D arrays to store previous and current rows\n",
    "        prev = [0] * (n + 1)\n",
    "        curr = [0] * (n + 1)\n",
    "        \n",
    "        for i in range(1, n + 1):\n",
    "            for j in range(1, n + 1):\n",
    "                if s[i - 1] == ss[j - 1]:  # Adjusted indices\n",
    "                    curr[j] = 1 + prev[j - 1]\n",
    "                else:\n",
    "                    curr[j] = max(prev[j], curr[j - 1])\n",
    "            # Move current row to previous for next iteration\n",
    "            prev, curr = curr, prev  # Swap references\n",
    "            \n",
    "        return prev[n]\n"
   ]
  },
  {
   "cell_type": "code",
   "execution_count": null,
   "id": "bdca98a3",
   "metadata": {},
   "outputs": [],
   "source": []
  }
 ],
 "metadata": {
  "kernelspec": {
   "display_name": "Python 3 (ipykernel)",
   "language": "python",
   "name": "python3"
  },
  "language_info": {
   "codemirror_mode": {
    "name": "ipython",
    "version": 3
   },
   "file_extension": ".py",
   "mimetype": "text/x-python",
   "name": "python",
   "nbconvert_exporter": "python",
   "pygments_lexer": "ipython3",
   "version": "3.11.4"
  }
 },
 "nbformat": 4,
 "nbformat_minor": 5
}
