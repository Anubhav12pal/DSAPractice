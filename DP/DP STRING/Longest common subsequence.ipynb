{
 "cells": [
  {
   "cell_type": "code",
   "execution_count": 1,
   "id": "3ffeedab",
   "metadata": {},
   "outputs": [
    {
     "data": {
      "text/plain": [
       "'\\n\\nBasic brute: generate all in both and the do linear comparison of the longest\\n'"
      ]
     },
     "execution_count": 1,
     "metadata": {},
     "output_type": "execute_result"
    }
   ],
   "source": [
    "'''\n",
    "\n",
    "Basic brute: generate all in both and the do linear comparison of the longest\n",
    "'''"
   ]
  },
  {
   "cell_type": "markdown",
   "id": "f2f50944",
   "metadata": {},
   "source": [
    "# Base rec"
   ]
  },
  {
   "cell_type": "code",
   "execution_count": 2,
   "id": "d26deba8",
   "metadata": {},
   "outputs": [],
   "source": [
    "class Solution(object):\n",
    "    def longestCommonSubsequence(self, text1, text2):\n",
    "        \"\"\"\n",
    "        :type text1: str\n",
    "        :type text2: str\n",
    "        :rtype: int\n",
    "        \"\"\"\n",
    "        \n",
    "        def f(index1, index2):\n",
    "\n",
    "            if index1 <0 or index2 < 0:\n",
    "                return 0\n",
    "            if text1[index1] == text2[index2]:\n",
    "                return 1 + f(index1 -1 , index2 - 1)\n",
    "            return 0 + max(f(index1 - 1, index2) , f(index1, index2 - 1))\n",
    "        return f(len(text1) - 1, len(text2) - 1)"
   ]
  },
  {
   "cell_type": "code",
   "execution_count": 3,
   "id": "c468a71e",
   "metadata": {},
   "outputs": [
    {
     "data": {
      "text/plain": [
       "'\\n\\nHere u start for the end and check if the characters are equal, if they are equal then u can shift the indexes by 1 and add 1 to the answer\\n\\nBut if they are not equal u can either reduce the index 1 or reduce the indx2 so. try both of the things andtake the max of both\\n\\nthe base case is when index either index reaches -ve if yes then return 0 as ther eis no string left\\n\\n\\n'"
      ]
     },
     "execution_count": 3,
     "metadata": {},
     "output_type": "execute_result"
    }
   ],
   "source": [
    "'''\n",
    "\n",
    "Here u start for the end and check if the characters are equal, if they are equal then u can shift the indexes by 1 and add 1 to the answer\n",
    "\n",
    "But if they are not equal u can either reduce the index 1 or reduce the indx2 so. try both of the things andtake the max of both\n",
    "\n",
    "the base case is when index either index reaches -ve if yes then return 0 as ther eis no string left\n",
    "\n",
    "\n",
    "'''"
   ]
  },
  {
   "cell_type": "markdown",
   "id": "96b2e323",
   "metadata": {},
   "source": [
    "# Memo"
   ]
  },
  {
   "cell_type": "code",
   "execution_count": 5,
   "id": "bb5f2ff4",
   "metadata": {},
   "outputs": [],
   "source": [
    "class Solution(object):\n",
    "    def longestCommonSubsequence(self, text1, text2):\n",
    "        \"\"\"\n",
    "        :type text1: str\n",
    "        :type text2: str\n",
    "        :rtype: int\n",
    "        \"\"\"\n",
    "        n = len(text1)\n",
    "        m = len(text2)\n",
    "\n",
    "        dp = [[-1 for _ in range(m)] for _ in range(n)]\n",
    "        \n",
    "        def f(index1, index2):\n",
    "\n",
    "            if index1 <0 or index2 < 0:\n",
    "                return 0\n",
    "\n",
    "            if dp[index1][index2] != -1:\n",
    "                return dp[index1][index2]\n",
    "            if text1[index1] == text2[index2]:\n",
    "                return 1 + f(index1 -1 , index2 - 1)\n",
    "            \n",
    "\n",
    "            dp[index1][index2] = max(f(index1 - 1, index2) , f(index1, index2 - 1))\n",
    "            return 0 + max(f(index1 - 1, index2) , f(index1, index2 - 1))\n",
    "        return f(n - 1, m - 1)"
   ]
  },
  {
   "cell_type": "markdown",
   "id": "6655b60a",
   "metadata": {},
   "source": [
    "# Tab"
   ]
  },
  {
   "cell_type": "code",
   "execution_count": 6,
   "id": "83637034",
   "metadata": {},
   "outputs": [
    {
     "data": {
      "text/plain": [
       "'Shift index'"
      ]
     },
     "execution_count": 6,
     "metadata": {},
     "output_type": "execute_result"
    }
   ],
   "source": [
    "'''Shift index'''"
   ]
  },
  {
   "cell_type": "code",
   "execution_count": 7,
   "id": "aa6e517a",
   "metadata": {},
   "outputs": [],
   "source": [
    "class Solution(object):\n",
    "    def longestCommonSubsequence(self, text1, text2):\n",
    "        \"\"\"\n",
    "        :type text1: str\n",
    "        :type text2: str\n",
    "        :rtype: int\n",
    "        \"\"\"\n",
    "        n = len(text1)\n",
    "        m = len(text2)\n",
    "\n",
    "        dp = [[-1 for _ in range(m+1)] for _ in range(n+1)]\n",
    "\n",
    "       \n",
    "\n",
    "\n",
    "        \n",
    "        def f(index1, index2):\n",
    "\n",
    "            if index1 == 0 or index2 == 0:\n",
    "                return 0\n",
    "\n",
    "            if dp[index1][index2] != -1:\n",
    "                return dp[index1][index2]\n",
    "            if text1[index1-1] == text2[index2-1]:\n",
    "                return 1 + f(index1 -1 , index2 - 1)\n",
    "            \n",
    "\n",
    "            dp[index1][index2] = max(f(index1 - 1, index2) , f(index1, index2 - 1))\n",
    "            return 0 + max(f(index1 - 1, index2) , f(index1, index2 - 1))\n",
    "        return f(n, m)"
   ]
  },
  {
   "cell_type": "code",
   "execution_count": 8,
   "id": "f0a33842",
   "metadata": {},
   "outputs": [],
   "source": [
    "# Tab"
   ]
  },
  {
   "cell_type": "code",
   "execution_count": 9,
   "id": "3eac75d0",
   "metadata": {},
   "outputs": [],
   "source": [
    "class Solution(object):\n",
    "    def longestCommonSubsequence(self, text1, text2):\n",
    "        \"\"\"\n",
    "        :type text1: str\n",
    "        :type text2: str\n",
    "        :rtype: int\n",
    "        \"\"\"\n",
    "        n = len(text1)\n",
    "        m = len(text2)\n",
    "\n",
    "        dp = [[0 for _ in range(m+1)] for _ in range(n+1)]\n",
    "\n",
    "       \n",
    "\n",
    "        for i in range(1, n+1):\n",
    "            for j in range(1, m + 1):\n",
    "\n",
    "                if text1[i-1] == text2[j-1]:\n",
    "                    dp[i][j] =  1 + dp[i-1][j-1]\n",
    "                else:\n",
    "                    dp[i][j] = max(dp[i-1][j], dp[i][j-1])\n",
    "        return dp[n][m]\n"
   ]
  },
  {
   "cell_type": "markdown",
   "id": "9f6d9573",
   "metadata": {},
   "source": [
    "# Space"
   ]
  },
  {
   "cell_type": "code",
   "execution_count": 10,
   "id": "e0c89132",
   "metadata": {},
   "outputs": [],
   "source": [
    "class Solution(object):\n",
    "    def longestCommonSubsequence(self, text1, text2):\n",
    "        \"\"\"\n",
    "        :type text1: str\n",
    "        :type text2: str\n",
    "        :rtype: int\n",
    "        \"\"\"\n",
    "        n = len(text1)\n",
    "        m = len(text2)\n",
    "\n",
    "        # Use only two rows to save space\n",
    "        prev = [0] * (m + 1)\n",
    "        curr = [0] * (m + 1)\n",
    "\n",
    "        for i in range(1, n + 1):\n",
    "            for j in range(1, m + 1):\n",
    "                if text1[i - 1] == text2[j - 1]:\n",
    "                    curr[j] = 1 + prev[j - 1]\n",
    "                else:\n",
    "                    curr[j] = max(prev[j], curr[j - 1])\n",
    "            # Move current row to previous for the next iteration\n",
    "            prev = curr[:]\n",
    "\n",
    "        return prev[m]\n"
   ]
  },
  {
   "cell_type": "code",
   "execution_count": null,
   "id": "5a867f62",
   "metadata": {},
   "outputs": [],
   "source": []
  }
 ],
 "metadata": {
  "kernelspec": {
   "display_name": "Python 3 (ipykernel)",
   "language": "python",
   "name": "python3"
  },
  "language_info": {
   "codemirror_mode": {
    "name": "ipython",
    "version": 3
   },
   "file_extension": ".py",
   "mimetype": "text/x-python",
   "name": "python",
   "nbconvert_exporter": "python",
   "pygments_lexer": "ipython3",
   "version": "3.11.4"
  }
 },
 "nbformat": 4,
 "nbformat_minor": 5
}
