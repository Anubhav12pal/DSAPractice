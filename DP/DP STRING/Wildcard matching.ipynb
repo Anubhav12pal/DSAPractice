{
 "cells": [
  {
   "cell_type": "markdown",
   "id": "d8da4824",
   "metadata": {},
   "source": [
    "# Rec"
   ]
  },
  {
   "cell_type": "code",
   "execution_count": 1,
   "id": "a89b35c5",
   "metadata": {},
   "outputs": [],
   "source": [
    "class Solution(object):\n",
    "    def isMatch(self, s, p):\n",
    "        \"\"\"\n",
    "        :type s: str\n",
    "        :type p: str\n",
    "        :rtype: bool\n",
    "        \"\"\"\n",
    "        n = len(s)\n",
    "        m = len(p)\n",
    "\n",
    "        def f(i, j):\n",
    "            # If both strings are exhausted, it's a match\n",
    "            if i == n and j == m:\n",
    "                return True\n",
    "            # If pattern is exhausted but s is not, it's not a match\n",
    "            if j == m:\n",
    "                return False\n",
    "            # If s is exhausted, pattern should only have '*'\n",
    "            if i == n:\n",
    "                return all(x == '*' for x in p[j:])\n",
    "\n",
    "            # If characters match or pattern has '?', move both pointers\n",
    "            if s[i] == p[j] or p[j] == '?':\n",
    "                return f(i + 1, j + 1)\n",
    "            # If pattern has '*', it can match zero or more characters in s\n",
    "            elif p[j] == '*':\n",
    "                return f(i + 1, j) or f(i, j + 1)\n",
    "            return False\n",
    "        \n",
    "        return f(0, 0)\n"
   ]
  },
  {
   "cell_type": "code",
   "execution_count": null,
   "id": "c9201816",
   "metadata": {},
   "outputs": [],
   "source": []
  }
 ],
 "metadata": {
  "kernelspec": {
   "display_name": "Python 3 (ipykernel)",
   "language": "python",
   "name": "python3"
  },
  "language_info": {
   "codemirror_mode": {
    "name": "ipython",
    "version": 3
   },
   "file_extension": ".py",
   "mimetype": "text/x-python",
   "name": "python",
   "nbconvert_exporter": "python",
   "pygments_lexer": "ipython3",
   "version": "3.11.4"
  }
 },
 "nbformat": 4,
 "nbformat_minor": 5
}
