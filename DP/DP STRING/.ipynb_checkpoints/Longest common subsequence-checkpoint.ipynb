{
 "cells": [
  {
   "cell_type": "code",
   "execution_count": 1,
   "id": "2b4fd8d0",
   "metadata": {},
   "outputs": [
    {
     "data": {
      "text/plain": [
       "'\\n\\nBasic brute: generate all in both and the do linear comparison of the longest\\n'"
      ]
     },
     "execution_count": 1,
     "metadata": {},
     "output_type": "execute_result"
    }
   ],
   "source": [
    "'''\n",
    "\n",
    "Basic brute: generate all in both and the do linear comparison of the longest\n",
    "'''"
   ]
  },
  {
   "cell_type": "markdown",
   "id": "5d20712b",
   "metadata": {},
   "source": [
    "# Base rec"
   ]
  },
  {
   "cell_type": "code",
   "execution_count": 2,
   "id": "1d908f8f",
   "metadata": {},
   "outputs": [],
   "source": [
    "class Solution(object):\n",
    "    def longestCommonSubsequence(self, text1, text2):\n",
    "        \"\"\"\n",
    "        :type text1: str\n",
    "        :type text2: str\n",
    "        :rtype: int\n",
    "        \"\"\"\n",
    "        \n",
    "        def f(index1, index2):\n",
    "\n",
    "            if index1 <0 or index2 < 0:\n",
    "                return 0\n",
    "            if text1[index1] == text2[index2]:\n",
    "                return 1 + f(index1 -1 , index2 - 1)\n",
    "            return 0 + max(f(index1 - 1, index2) , f(index1, index2 - 1))\n",
    "        return f(len(text1) - 1, len(text2) - 1)"
   ]
  },
  {
   "cell_type": "code",
   "execution_count": 3,
   "id": "9ca13e8a",
   "metadata": {},
   "outputs": [
    {
     "data": {
      "text/plain": [
       "'\\n\\nHere u start for the end and check if the characters are equal, if they are equal then u can shift the indexes by 1 and add 1 to the answer\\n\\nBut if they are not equal u can either reduce the index 1 or reduce the indx2 so. try both of the things andtake the max of both\\n\\nthe base case is when index either index reaches -ve if yes then return 0 as ther eis no string left\\n\\n\\n'"
      ]
     },
     "execution_count": 3,
     "metadata": {},
     "output_type": "execute_result"
    }
   ],
   "source": [
    "'''\n",
    "\n",
    "Here u start for the end and check if the characters are equal, if they are equal then u can shift the indexes by 1 and add 1 to the answer\n",
    "\n",
    "But if they are not equal u can either reduce the index 1 or reduce the indx2 so. try both of the things andtake the max of both\n",
    "\n",
    "the base case is when index either index reaches -ve if yes then return 0 as ther eis no string left\n",
    "\n",
    "\n",
    "'''"
   ]
  },
  {
   "cell_type": "code",
   "execution_count": null,
   "id": "6691b2f1",
   "metadata": {},
   "outputs": [],
   "source": []
  }
 ],
 "metadata": {
  "kernelspec": {
   "display_name": "Python 3 (ipykernel)",
   "language": "python",
   "name": "python3"
  },
  "language_info": {
   "codemirror_mode": {
    "name": "ipython",
    "version": 3
   },
   "file_extension": ".py",
   "mimetype": "text/x-python",
   "name": "python",
   "nbconvert_exporter": "python",
   "pygments_lexer": "ipython3",
   "version": "3.11.4"
  }
 },
 "nbformat": 4,
 "nbformat_minor": 5
}
