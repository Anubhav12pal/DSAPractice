{
 "cells": [
  {
   "cell_type": "code",
   "execution_count": 1,
   "id": "3abc34b6",
   "metadata": {},
   "outputs": [
    {
     "data": {
      "text/plain": [
       "'\\n\\n\\nFind min number of insertion, deletion and rfeplacement to ake 2 strungs equal\\n'"
      ]
     },
     "execution_count": 1,
     "metadata": {},
     "output_type": "execute_result"
    }
   ],
   "source": [
    "'''\n",
    "\n",
    "\n",
    "Find min number of insertion, deletion and rfeplacement to ake 2 strungs equal\n",
    "'''"
   ]
  },
  {
   "cell_type": "markdown",
   "id": "e3aaf82d",
   "metadata": {},
   "source": [
    "# Base rec"
   ]
  },
  {
   "cell_type": "code",
   "execution_count": 4,
   "id": "6f1df638",
   "metadata": {},
   "outputs": [],
   "source": [
    "class Solution(object):\n",
    "    def minDistance(self, word1, word2):\n",
    "        \"\"\"\n",
    "        :type word1: str\n",
    "        :type word2: str\n",
    "        :rtype: int\n",
    "        \"\"\"\n",
    "\n",
    "        n = len(word1)\n",
    "        m = len(word2)\n",
    "\n",
    "        def f(i, j):\n",
    "            if j == -1:\n",
    "                return i + 1\n",
    "            if i == -1:\n",
    "                return j + 1\n",
    "\n",
    "            if word1[i] == word2[j]:\n",
    "                return 0 + f(i-1, j-1)\n",
    "            else:\n",
    "                replace = 1 + f(i-1, j-1)\n",
    "                insert = 1 + f(i, j-1)\n",
    "                delete = 1 + f(i-1, j)\n",
    "                return min(insert, delete, replace)\n",
    "        return f(n-1, m-1)\n",
    "        "
   ]
  },
  {
   "cell_type": "code",
   "execution_count": null,
   "id": "9702513a",
   "metadata": {},
   "outputs": [],
   "source": []
  }
 ],
 "metadata": {
  "kernelspec": {
   "display_name": "Python 3 (ipykernel)",
   "language": "python",
   "name": "python3"
  },
  "language_info": {
   "codemirror_mode": {
    "name": "ipython",
    "version": 3
   },
   "file_extension": ".py",
   "mimetype": "text/x-python",
   "name": "python",
   "nbconvert_exporter": "python",
   "pygments_lexer": "ipython3",
   "version": "3.11.4"
  }
 },
 "nbformat": 4,
 "nbformat_minor": 5
}
