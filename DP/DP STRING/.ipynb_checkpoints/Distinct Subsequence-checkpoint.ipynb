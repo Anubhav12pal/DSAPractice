{
 "cells": [
  {
   "cell_type": "code",
   "execution_count": 1,
   "id": "cfbb6feb",
   "metadata": {},
   "outputs": [
    {
     "data": {
      "text/plain": [
       "'\\n\\nGiven 2 strings tell how many times the second string appears in the first one as a subsequence\\n\\n\\n'"
      ]
     },
     "execution_count": 1,
     "metadata": {},
     "output_type": "execute_result"
    }
   ],
   "source": [
    "'''\n",
    "\n",
    "Given 2 strings tell how many times the second string appears in the first one as a subsequence\n",
    "\n",
    "\n",
    "'''"
   ]
  },
  {
   "cell_type": "markdown",
   "id": "9f1c95f0",
   "metadata": {},
   "source": [
    "# Bad approach and has no way to memoise??"
   ]
  },
  {
   "cell_type": "code",
   "execution_count": 2,
   "id": "6b4a1c13",
   "metadata": {},
   "outputs": [],
   "source": [
    "class Solution(object):\n",
    "    def numDistinct(self, s, t):\n",
    "        \"\"\"\n",
    "        :type s: str\n",
    "        :type t: str\n",
    "        :rtype: int\n",
    "        \"\"\"\n",
    "        n = len(s)\n",
    "        m  = len(t)\n",
    "        dp = [[-1] * (m + 1) for _ in range(n + 1)]\n",
    "        def f(index, st):\n",
    "\n",
    "            if index >= n:\n",
    "                if st == t:\n",
    "                    return 1\n",
    "                return 0\n",
    "            \n",
    "            \n",
    "            include = f(index + 1, st + s[index])\n",
    "            n1 = f(index+ 1, st)\n",
    "            return include + n1\n",
    "        return f(0, \"\")"
   ]
  },
  {
   "cell_type": "markdown",
   "id": "95de3b9b",
   "metadata": {},
   "source": [
    "# To memoise that we'll use 2 parameter as int"
   ]
  },
  {
   "cell_type": "code",
   "execution_count": 3,
   "id": "e04bfdc3",
   "metadata": {},
   "outputs": [],
   "source": [
    "class Solution(object):\n",
    "    def numDistinct(self, s, t):\n",
    "        \"\"\"\n",
    "        :type s: str\n",
    "        :type t: str\n",
    "        :rtype: int\n",
    "        \"\"\"\n",
    "        n = len(s)\n",
    "        m  = len(t)\n",
    "        \n",
    "        # Create a 2D dp array for memoization\n",
    "        dp = [[-1 for _ in range(m + 1)] for _ in range(n + 1)]\n",
    "\n",
    "        def f(index, j):\n",
    "            # Base case: if j reaches m, all characters of t are matched\n",
    "            if j == m:\n",
    "                return 1\n",
    "            \n",
    "            # If index exceeds n, no more characters in s to process\n",
    "            if index == n:\n",
    "                return 0\n",
    "            \n",
    "            # If result is already computed, return the stored value\n",
    "            if dp[index][j] != -1:\n",
    "                return dp[index][j]\n",
    "            \n",
    "            # Option 1: include s[index] in the subsequence if it matches t[j]\n",
    "            include = 0\n",
    "            if s[index] == t[j]:\n",
    "                include = f(index + 1, j + 1)\n",
    "            \n",
    "            # Option 2: skip s[index] and check the next character\n",
    "            exclude = f(index + 1, j)\n",
    "            \n",
    "            # Store the result in dp and return it\n",
    "            dp[index][j] = include + exclude\n",
    "            return dp[index][j]\n",
    "\n",
    "        return f(0, 0)\n"
   ]
  },
  {
   "cell_type": "markdown",
   "id": "c1424962",
   "metadata": {},
   "source": [
    "# base recursion "
   ]
  },
  {
   "cell_type": "code",
   "execution_count": 4,
   "id": "b4d56cea",
   "metadata": {},
   "outputs": [],
   "source": [
    "class Solution(object):\n",
    "    def numDistinct(self, s, t):\n",
    "        \"\"\"\n",
    "        :type s: str\n",
    "        :type t: str\n",
    "        :rtype: int\n",
    "        \"\"\"\n",
    "        n = len(s)\n",
    "        m  = len(t)\n",
    "        \n",
    "      \n",
    "\n",
    "        def f(index, j):\n",
    "            # Base case: if j reaches m, all characters of t are matched\n",
    "            if j == m:\n",
    "                return 1\n",
    "            \n",
    "           \n",
    "            if index == n:\n",
    "                return 0\n",
    "            \n",
    "            \n",
    "           \n",
    "            include = 0\n",
    "            if s[index] == t[j]:\n",
    "                include = f(index + 1, j + 1)\n",
    "            \n",
    "            \n",
    "            exclude = f(index + 1, j)\n",
    "            \n",
    "           \n",
    "            return include + exclude\n",
    "\n",
    "        return f(0, 0)"
   ]
  },
  {
   "cell_type": "code",
   "execution_count": null,
   "id": "e3b7a771",
   "metadata": {},
   "outputs": [],
   "source": []
  }
 ],
 "metadata": {
  "kernelspec": {
   "display_name": "Python 3 (ipykernel)",
   "language": "python",
   "name": "python3"
  },
  "language_info": {
   "codemirror_mode": {
    "name": "ipython",
    "version": 3
   },
   "file_extension": ".py",
   "mimetype": "text/x-python",
   "name": "python",
   "nbconvert_exporter": "python",
   "pygments_lexer": "ipython3",
   "version": "3.11.4"
  }
 },
 "nbformat": 4,
 "nbformat_minor": 5
}
