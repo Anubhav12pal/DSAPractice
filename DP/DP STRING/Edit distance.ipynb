{
 "cells": [
  {
   "cell_type": "code",
   "execution_count": 1,
   "id": "7819e694",
   "metadata": {},
   "outputs": [
    {
     "data": {
      "text/plain": [
       "'\\n\\n\\nFind min number of insertion, deletion and rfeplacement to ake 2 strungs equal\\n'"
      ]
     },
     "execution_count": 1,
     "metadata": {},
     "output_type": "execute_result"
    }
   ],
   "source": [
    "'''\n",
    "\n",
    "\n",
    "Find min number of insertion, deletion and rfeplacement to ake 2 strungs equal\n",
    "'''"
   ]
  },
  {
   "cell_type": "markdown",
   "id": "77e52545",
   "metadata": {},
   "source": [
    "# Base rec"
   ]
  },
  {
   "cell_type": "code",
   "execution_count": 4,
   "id": "c75c74ca",
   "metadata": {},
   "outputs": [],
   "source": [
    "class Solution(object):\n",
    "    def minDistance(self, word1, word2):\n",
    "        \"\"\"\n",
    "        :type word1: str\n",
    "        :type word2: str\n",
    "        :rtype: int\n",
    "        \"\"\"\n",
    "\n",
    "        n = len(word1)\n",
    "        m = len(word2)\n",
    "\n",
    "        def f(i, j):\n",
    "            if j == -1:\n",
    "                return i + 1\n",
    "            if i == -1:\n",
    "                return j + 1\n",
    "\n",
    "            if word1[i] == word2[j]:\n",
    "                return 0 + f(i-1, j-1)\n",
    "            else:\n",
    "                replace = 1 + f(i-1, j-1)\n",
    "                insert = 1 + f(i, j-1)\n",
    "                delete = 1 + f(i-1, j)\n",
    "                return min(insert, delete, replace)\n",
    "        return f(n-1, m-1)\n",
    "        "
   ]
  },
  {
   "cell_type": "markdown",
   "id": "51a07ff9",
   "metadata": {},
   "source": [
    "# Memo"
   ]
  },
  {
   "cell_type": "code",
   "execution_count": 5,
   "id": "e676a438",
   "metadata": {},
   "outputs": [],
   "source": [
    "class Solution(object):\n",
    "    def minDistance(self, word1, word2):\n",
    "        \"\"\"\n",
    "        :type word1: str\n",
    "        :type word2: str\n",
    "        :rtype: int\n",
    "        \"\"\"\n",
    "\n",
    "        n = len(word1)\n",
    "        m = len(word2)\n",
    "\n",
    "        dp = [[-1 for _ in range(m + 1)] for _ in range(n+ 1)]\n",
    "\n",
    "        def f(i, j):\n",
    "            if j == -1:\n",
    "                return i + 1\n",
    "            if i == -1:\n",
    "                return j + 1\n",
    "            if dp[i][j] != -1:\n",
    "                return dp[i][j]\n",
    "\n",
    "            if word1[i] == word2[j]:\n",
    "                dp[i][j] = f(i-1, j-1)\n",
    "                return 0 + f(i-1, j-1)\n",
    "            else:\n",
    "                replace = 1 + f(i-1, j-1)\n",
    "                insert = 1 + f(i, j-1)\n",
    "                delete = 1 + f(i-1, j)\n",
    "                dp[i][j] = min(insert, delete, replace)\n",
    "                return min(insert, delete, replace)\n",
    "        return f(n-1, m-1)"
   ]
  },
  {
   "cell_type": "markdown",
   "id": "6a8b58d2",
   "metadata": {},
   "source": [
    "# Tabu"
   ]
  },
  {
   "cell_type": "code",
   "execution_count": 6,
   "id": "bedeec2b",
   "metadata": {},
   "outputs": [],
   "source": [
    "class Solution(object):\n",
    "    def minDistance(self, word1, word2):\n",
    "        \"\"\"\n",
    "        :type word1: str\n",
    "        :type word2: str\n",
    "        :rtype: int\n",
    "        \"\"\"\n",
    "\n",
    "        n = len(word1)\n",
    "        m = len(word2)\n",
    "\n",
    "        dp = [[0 for _ in range(m + 1)] for _ in range(n + 1)]\n",
    "        for i in range(n + 1):\n",
    "            dp[i][0] = i \n",
    "        for i in range(m + 1):\n",
    "            dp[0][i] = i \n",
    "\n",
    "        for i in range(1, n + 1):\n",
    "            for j in range(1, m + 1):\n",
    "\n",
    "                if word1[i-1] == word2[j-1]:\n",
    "                    dp[i][j] = dp[i-1][j-1]\n",
    "            \n",
    "                else:\n",
    "                    replace = 1 + dp[i-1][j-1]\n",
    "                    insert = 1 + dp[i][j-1]\n",
    "                    delete = 1 + dp[i-1][j]\n",
    "                    dp[i][j] = min(insert, delete, replace)\n",
    "                \n",
    "\n",
    "        \n",
    "        return dp[n][m]\n",
    "\n",
    "        \n",
    "        \n",
    "        "
   ]
  },
  {
   "cell_type": "code",
   "execution_count": null,
   "id": "0a0b7371",
   "metadata": {},
   "outputs": [],
   "source": []
  }
 ],
 "metadata": {
  "kernelspec": {
   "display_name": "Python 3 (ipykernel)",
   "language": "python",
   "name": "python3"
  },
  "language_info": {
   "codemirror_mode": {
    "name": "ipython",
    "version": 3
   },
   "file_extension": ".py",
   "mimetype": "text/x-python",
   "name": "python",
   "nbconvert_exporter": "python",
   "pygments_lexer": "ipython3",
   "version": "3.11.4"
  }
 },
 "nbformat": 4,
 "nbformat_minor": 5
}
