{
 "cells": [
  {
   "cell_type": "code",
   "execution_count": 1,
   "id": "9b984fe2",
   "metadata": {},
   "outputs": [
    {
     "data": {
      "text/plain": [
       "'\\nGiven an array arr of size n of non-negative integers and an integer sum, the task is to count all subsets of the given array with a sum equal to a given sum.\\n\\nNote: Answer can be very large, so, output answer modulo 109+7.\\n\\nExamples:\\n\\n'"
      ]
     },
     "execution_count": 1,
     "metadata": {},
     "output_type": "execute_result"
    }
   ],
   "source": [
    "'''\n",
    "Given an array arr of size n of non-negative integers and an integer sum, the task is to count all subsets of the given array with a sum equal to a given sum.\n",
    "\n",
    "Note: Answer can be very large, so, output answer modulo 109+7.\n",
    "\n",
    "Examples:\n",
    "\n",
    "'''"
   ]
  },
  {
   "cell_type": "markdown",
   "id": "d0d1e23a",
   "metadata": {},
   "source": [
    "# Base recursion"
   ]
  },
  {
   "cell_type": "code",
   "execution_count": 5,
   "id": "41e3b76a",
   "metadata": {},
   "outputs": [],
   "source": [
    "class Solution:\n",
    "    def perfectSum(self, arr, n, sum):\n",
    "        \n",
    "        sorted_arr = sorted(arr, reverse=True)\n",
    "        dp = [[-1 for _ in range(sum + 1)] for _ in range(n)]\n",
    "        \n",
    "        def f(index, s):\n",
    "            if s == 0:\n",
    "                return 1\n",
    "            if index == 0:\n",
    "                if sorted_arr[index] == s:\n",
    "                    return 1\n",
    "                return 0\n",
    "            \n",
    "            if dp[index][s] != -1:\n",
    "                return dp[index][s]\n",
    "            \n",
    "            np = f(index - 1, s)\n",
    "            p = 0\n",
    "            if sorted_arr[index] <= s:\n",
    "                p = f(index - 1, s - sorted_arr[index])\n",
    "            dp[index][s] = p + np\n",
    "            return p + np\n",
    "        \n",
    "        return f(n-1, sum)"
   ]
  },
  {
   "cell_type": "markdown",
   "id": "d93074ee",
   "metadata": {},
   "source": [
    "# Tabu"
   ]
  },
  {
   "cell_type": "code",
   "execution_count": 6,
   "id": "b1bcadc9",
   "metadata": {},
   "outputs": [],
   "source": [
    "class Solution:\n",
    "    def perfectSum(self, arr, n, sum):\n",
    "        \n",
    "        sorted_arr = sorted(arr, reverse=True)\n",
    "        dp = [[0 for _ in range(sum + 1)] for _ in range(n)]\n",
    "        \n",
    "        \n",
    "        for i in range(n):\n",
    "            dp[i][0] = 1\n",
    "        if sorted_arr[0] <= sum:\n",
    "            dp[0][sorted_arr[0]] = 1\n",
    "        \n",
    "        for i in range(1, n):\n",
    "            for j in range(1, sum+1):\n",
    "                \n",
    "                np = dp[i - 1][j]\n",
    "                p = 0\n",
    "                if sorted_arr[i] <= j:\n",
    "                    p = dp[i-1][j - sorted_arr[i]]\n",
    "                dp[i][j] = (p + np)\n",
    "        return dp[n-1][sum] "
   ]
  },
  {
   "cell_type": "markdown",
   "id": "d867c624",
   "metadata": {},
   "source": [
    "# Space`"
   ]
  },
  {
   "cell_type": "code",
   "execution_count": null,
   "id": "47521158",
   "metadata": {},
   "outputs": [],
   "source": []
  }
 ],
 "metadata": {
  "kernelspec": {
   "display_name": "Python 3 (ipykernel)",
   "language": "python",
   "name": "python3"
  },
  "language_info": {
   "codemirror_mode": {
    "name": "ipython",
    "version": 3
   },
   "file_extension": ".py",
   "mimetype": "text/x-python",
   "name": "python",
   "nbconvert_exporter": "python",
   "pygments_lexer": "ipython3",
   "version": "3.11.4"
  }
 },
 "nbformat": 4,
 "nbformat_minor": 5
}
