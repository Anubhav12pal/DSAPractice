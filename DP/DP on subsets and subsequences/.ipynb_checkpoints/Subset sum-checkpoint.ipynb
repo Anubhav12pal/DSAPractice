{
 "cells": [
  {
   "cell_type": "code",
   "execution_count": 1,
   "id": "785d1929",
   "metadata": {},
   "outputs": [
    {
     "data": {
      "text/plain": [
       "'\\n\\nGiven an array of positive integers, arr[] and a value sum, determine if there is a subset of the given set with sum equal to given sum. \\n\\nExamples:\\n\\nInput: arr[] = [3, 34, 4, 12, 5, 2], sum = 9\\nOutput: true \\nExplanation: Here there exists a subset with sum = 9, 4+3+2 = 9.\\nInput: arr[] = [3, 34, 4, 12, 5, 2, sum = 30\\nOutput: false\\nExplanation: There is no subset with sum 30.\\nInput: arr[] = [1, 2, 3], sum = 6\\nOutput: true\\nExplanation: The entire array can be taken as a subset, giving 1 + 2 + 3 = 6.\\n'"
      ]
     },
     "execution_count": 1,
     "metadata": {},
     "output_type": "execute_result"
    }
   ],
   "source": [
    "'''\n",
    "\n",
    "Given an array of positive integers, arr[] and a value sum, determine if there is a subset of the given set with sum equal to given sum. \n",
    "\n",
    "Examples:\n",
    "\n",
    "Input: arr[] = [3, 34, 4, 12, 5, 2], sum = 9\n",
    "Output: true \n",
    "Explanation: Here there exists a subset with sum = 9, 4+3+2 = 9.\n",
    "Input: arr[] = [3, 34, 4, 12, 5, 2, sum = 30\n",
    "Output: false\n",
    "Explanation: There is no subset with sum 30.\n",
    "Input: arr[] = [1, 2, 3], sum = 6\n",
    "Output: true\n",
    "Explanation: The entire array can be taken as a subset, giving 1 + 2 + 3 = 6.\n",
    "'''"
   ]
  },
  {
   "cell_type": "markdown",
   "id": "fa542089",
   "metadata": {},
   "source": [
    "# Base rec"
   ]
  },
  {
   "cell_type": "code",
   "execution_count": 2,
   "id": "26c55d74",
   "metadata": {},
   "outputs": [],
   "source": [
    "class Solution:\n",
    "    def isSubsetSum(self, arr, target_sum):\n",
    "        def f(index, current_sum):\n",
    "            if current_sum == 0:\n",
    "                return True\n",
    "            if index == 0:\n",
    "                return arr[0] == current_sum\n",
    "            \n",
    "            # Not taking the current element\n",
    "            notpick = f(index - 1, current_sum)\n",
    "            \n",
    "            # Taking the current element if it's not greater than the remaining sum\n",
    "            take = False\n",
    "            if current_sum >= arr[index]:\n",
    "                take = f(index - 1, current_sum - arr[index])\n",
    "            \n",
    "            return take or notpick\n",
    "\n",
    "        return f(len(arr) - 1, target_sum)"
   ]
  },
  {
   "cell_type": "markdown",
   "id": "a7718595",
   "metadata": {},
   "source": [
    "# Memoisation"
   ]
  },
  {
   "cell_type": "code",
   "execution_count": 3,
   "id": "59b3377c",
   "metadata": {},
   "outputs": [],
   "source": [
    "class Solution:\n",
    "    def isSubsetSum(self, arr, target_sum):\n",
    "        # Create a memoization dictionary\n",
    "        memo = {}\n",
    "\n",
    "        def f(index, current_sum):\n",
    "            # Check if result is already computed\n",
    "            if (index, current_sum) in memo:\n",
    "                return memo[(index, current_sum)]\n",
    "            \n",
    "            # Base cases\n",
    "            if current_sum == 0:\n",
    "                return True\n",
    "            if index == 0:\n",
    "                return arr[0] == current_sum\n",
    "            \n",
    "            # Not taking the current element\n",
    "            notpick = f(index - 1, current_sum)\n",
    "            \n",
    "            # Taking the current element if it's not greater than the remaining sum\n",
    "            take = False\n",
    "            if current_sum >= arr[index]:\n",
    "                take = f(index - 1, current_sum - arr[index])\n",
    "            \n",
    "            # Store result in memo and return\n",
    "            memo[(index, current_sum)] = take or notpick\n",
    "            return memo[(index, current_sum)]\n",
    "\n",
    "        return f(len(arr) - 1, target_sum)\n"
   ]
  },
  {
   "cell_type": "code",
   "execution_count": null,
   "id": "8fb1dee1",
   "metadata": {},
   "outputs": [],
   "source": []
  }
 ],
 "metadata": {
  "kernelspec": {
   "display_name": "Python 3 (ipykernel)",
   "language": "python",
   "name": "python3"
  },
  "language_info": {
   "codemirror_mode": {
    "name": "ipython",
    "version": 3
   },
   "file_extension": ".py",
   "mimetype": "text/x-python",
   "name": "python",
   "nbconvert_exporter": "python",
   "pygments_lexer": "ipython3",
   "version": "3.11.4"
  }
 },
 "nbformat": 4,
 "nbformat_minor": 5
}
