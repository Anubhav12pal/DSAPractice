{
 "cells": [
  {
   "cell_type": "code",
   "execution_count": 1,
   "id": "15c07d1d",
   "metadata": {},
   "outputs": [
    {
     "data": {
      "text/plain": [
       "'\\n\\n\\nBasically a subset sum problem if we can divide the array into 2 diffferent subsets so one ss is sum/2 anqd\\nother is alse s/2 \\n\\nSo just find if there is a subset with sum s/2 exists in the array or nor\\n'"
      ]
     },
     "execution_count": 1,
     "metadata": {},
     "output_type": "execute_result"
    }
   ],
   "source": [
    "'''\n",
    "\n",
    "\n",
    "Basically a subset sum problem if we can divide the array into 2 diffferent subsets so one ss is sum/2 anqd\n",
    "other is alse s/2 \n",
    "\n",
    "So just find if there is a subset with sum s/2 exists in the array or nor\n",
    "'''"
   ]
  },
  {
   "cell_type": "code",
   "execution_count": 2,
   "id": "acf7d6f1",
   "metadata": {},
   "outputs": [],
   "source": [
    "class Solution(object):\n",
    "    def canPartition(self, nums):\n",
    "        \"\"\"\n",
    "        :type nums: List[int]\n",
    "        :rtype: bool\n",
    "        \"\"\"\n",
    "\n",
    "        n = len(nums)\n",
    "        s = sum(nums)\n",
    "        if s % 2 != 0:\n",
    "            return False\n",
    "        dp = [[False for _ in range(s)] for _ in range(n)]\n",
    "        s = s/2\n",
    "        def f(index, s):\n",
    "            if s == 0:\n",
    "                return True\n",
    "            if index == 0:\n",
    "                return nums[index] == s\n",
    "\n",
    "            if dp[index][s]:\n",
    "                return True\n",
    "            notp = f(index - 1, s)\n",
    "            p = False\n",
    "\n",
    "            if s >= nums[index]:\n",
    "                p = f(index - 1, s - nums[index])\n",
    "            dp[index][s] = p or notp\n",
    "            return p or notp\n",
    "        return f(len(nums) - 1, s)  "
   ]
  },
  {
   "cell_type": "code",
   "execution_count": null,
   "id": "12aeaaa2",
   "metadata": {},
   "outputs": [],
   "source": []
  }
 ],
 "metadata": {
  "kernelspec": {
   "display_name": "Python 3 (ipykernel)",
   "language": "python",
   "name": "python3"
  },
  "language_info": {
   "codemirror_mode": {
    "name": "ipython",
    "version": 3
   },
   "file_extension": ".py",
   "mimetype": "text/x-python",
   "name": "python",
   "nbconvert_exporter": "python",
   "pygments_lexer": "ipython3",
   "version": "3.11.4"
  }
 },
 "nbformat": 4,
 "nbformat_minor": 5
}
