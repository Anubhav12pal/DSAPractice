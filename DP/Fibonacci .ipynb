{
 "cells": [
  {
   "cell_type": "markdown",
   "id": "dd7dd555",
   "metadata": {},
   "source": [
    "# Intro"
   ]
  },
  {
   "cell_type": "markdown",
   "id": "e44e2de2",
   "metadata": {},
   "source": [
    "# Normal rec method"
   ]
  },
  {
   "cell_type": "code",
   "execution_count": 1,
   "id": "20a63b56",
   "metadata": {},
   "outputs": [],
   "source": [
    "def f(n):\n",
    "    if n <= 1:\n",
    "        return n\n",
    "    return f(n-1) + f(n-2)"
   ]
  },
  {
   "cell_type": "markdown",
   "id": "8f30bb80",
   "metadata": {},
   "source": [
    "# Methiod 2 memoization or top down or storing the previous results and using it again"
   ]
  },
  {
   "cell_type": "code",
   "execution_count": 7,
   "id": "d703d4c7",
   "metadata": {},
   "outputs": [],
   "source": [
    "def f(n, arr):\n",
    "    if n <=1:\n",
    "        return n\n",
    "    if arr[n] != 1:\n",
    "        return arr[n]\n",
    "    arr[n] = f(n-1, arr) + f(n-2, arr)\n",
    "    return arr[n]"
   ]
  },
  {
   "cell_type": "code",
   "execution_count": 8,
   "id": "67c39df1",
   "metadata": {},
   "outputs": [],
   "source": [
    "    def __init__(self):\n",
    "        # Initialize the array for memoization in the top-down approach\n",
    "        self.arr = [-1] * 1000  # Adjust size if needed\n",
    "    \n",
    "    # Top-down approach with memoization\n",
    "    def topDown(self, n):\n",
    "        if n <= 1:\n",
    "            return n\n",
    "        # Check if the value has already been computed\n",
    "        if self.arr[n] != -1:\n",
    "            return self.arr[n]\n",
    "        # Recursively compute and store the result with modulo\n",
    "        self.arr[n] = (self.topDown(n - 1) + self.topDown(n - 2)) % self.MOD\n",
    "        return self.arr[n]\n",
    "    \n",
    "    # Bottom-up approach with tabulation\n",
    "    "
   ]
  },
  {
   "cell_type": "markdown",
   "id": "9e59f3a1",
   "metadata": {},
   "source": [
    "# Bottom up we start from the base case and go to the recursive case"
   ]
  },
  {
   "cell_type": "code",
   "execution_count": 12,
   "id": "1fc289dc",
   "metadata": {},
   "outputs": [],
   "source": [
    "def bottomUp(self, n):\n",
    "        arr[0] = 0\n",
    "        arr[1] = 1\n",
    "        \n",
    "        for i in range(2, n):\n",
    "            arr[i] = arr[i-1] + arr[i-2]\n",
    "        return arr[n-1]"
   ]
  },
  {
   "cell_type": "markdown",
   "id": "c7f2748d",
   "metadata": {},
   "source": [
    "# Space optimisation"
   ]
  }
 ],
 "metadata": {
  "kernelspec": {
   "display_name": "Python 3 (ipykernel)",
   "language": "python",
   "name": "python3"
  },
  "language_info": {
   "codemirror_mode": {
    "name": "ipython",
    "version": 3
   },
   "file_extension": ".py",
   "mimetype": "text/x-python",
   "name": "python",
   "nbconvert_exporter": "python",
   "pygments_lexer": "ipython3",
   "version": "3.11.4"
  }
 },
 "nbformat": 4,
 "nbformat_minor": 5
}
