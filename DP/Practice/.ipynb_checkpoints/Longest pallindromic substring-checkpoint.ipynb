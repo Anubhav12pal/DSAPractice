{
 "cells": [
  {
   "cell_type": "code",
   "execution_count": null,
   "id": "a515c355",
   "metadata": {},
   "outputs": [],
   "source": []
  },
  {
   "cell_type": "code",
   "execution_count": 1,
   "id": "1f2cfd52",
   "metadata": {},
   "outputs": [],
   "source": [
    "class Solution(object):\n",
    "    def longestPalindrome(self, s):\n",
    "        \"\"\"\n",
    "        :type s: str\n",
    "        :rtype: str\n",
    "\n",
    "\n",
    "        express it based on an index\n",
    "        do all stuff at an index\n",
    "\n",
    "        return what is needed\n",
    "\n",
    "        \"\"\"\n",
    "        rev = s[::-1]\n",
    "        n = len(s)\n",
    "\n",
    "        dp  = [[0 for _ in range(n + 1)] for _ in range(n + 1)]\n",
    "\n",
    "        for i in range(1,n + 1):\n",
    "            for j in range(1,n + 1):\n",
    "\n",
    "                if s[i-1] == rev[j - 1]:\n",
    "                    dp[i][j] = 1 + dp[i-1][j-1]\n",
    "                else:\n",
    "                    dp[i][j]\n",
    "        m = 0\n",
    "        end_index = 0\n",
    "        for i in range(1, n + 1):\n",
    "            for j in range(1, n + 1):\n",
    "                if dp[i][j] > m:\n",
    "                    m = dp[i][j]\n",
    "                    end_index = i\n",
    "\n",
    "        # Extract the palindrome using the DP table\n",
    "        ans = []\n",
    "        i, j = end_index, n\n",
    "        while i > 0 and j > 0:\n",
    "            if s[i - 1] == rev[j - 1]:\n",
    "                ans.append(s[i - 1])\n",
    "                i -= 1\n",
    "                j -= 1\n",
    "            elif dp[i - 1][j] > dp[i][j - 1]:\n",
    "                i -= 1\n",
    "            else:\n",
    "                j -= 1\n",
    "\n",
    "        return ''.join(ans)"
   ]
  },
  {
   "cell_type": "code",
   "execution_count": null,
   "id": "dcdd1ca6",
   "metadata": {},
   "outputs": [],
   "source": []
  }
 ],
 "metadata": {
  "kernelspec": {
   "display_name": "Python 3 (ipykernel)",
   "language": "python",
   "name": "python3"
  },
  "language_info": {
   "codemirror_mode": {
    "name": "ipython",
    "version": 3
   },
   "file_extension": ".py",
   "mimetype": "text/x-python",
   "name": "python",
   "nbconvert_exporter": "python",
   "pygments_lexer": "ipython3",
   "version": "3.11.4"
  }
 },
 "nbformat": 4,
 "nbformat_minor": 5
}
