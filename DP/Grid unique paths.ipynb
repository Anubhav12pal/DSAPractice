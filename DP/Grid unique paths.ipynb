{
 "cells": [
  {
   "cell_type": "code",
   "execution_count": 1,
   "id": "68f52e32",
   "metadata": {},
   "outputs": [
    {
     "data": {
      "text/plain": [
       "'\\n\\n6 patterns on grids:\\n\\n\\nCount paths\\nCount paths with obstacles\\nMin path sum\\nMax path sum\\ntriangle\\n2 start points\\n\\n\\n'"
      ]
     },
     "execution_count": 1,
     "metadata": {},
     "output_type": "execute_result"
    }
   ],
   "source": [
    "'''\n",
    "\n",
    "6 patterns on grids:\n",
    "\n",
    "\n",
    "Count paths\n",
    "Count paths with obstacles\n",
    "Min path sum\n",
    "Max path sum\n",
    "triangle\n",
    "2 start points\n",
    "\n",
    "\n",
    "'''"
   ]
  },
  {
   "cell_type": "markdown",
   "id": "f34d2119",
   "metadata": {},
   "source": [
    "# Brute recursion"
   ]
  },
  {
   "cell_type": "code",
   "execution_count": 2,
   "id": "7c2d6d4d",
   "metadata": {},
   "outputs": [],
   "source": [
    "class Solution(object):\n",
    "    def uniquePaths(self, m, n):\n",
    "        \"\"\"\n",
    "        :type m: int\n",
    "        :type n: int\n",
    "        :rtype: int\n",
    "        \"\"\"\n",
    "        def f(i,j):\n",
    "            if i == 0 and j == 0:\n",
    "                return 1\n",
    "            if i <0 or j < 0:\n",
    "                return 0\n",
    "\n",
    "            # Now do all the stuff needed\n",
    "\n",
    "            left = f(i, j-1)\n",
    "            up = f(i-1, j)\n",
    "\n",
    "            # Sum up all the possible ways\n",
    "            return up + left\n",
    "        return f(m-1,n-1)"
   ]
  },
  {
   "cell_type": "markdown",
   "id": "4f8ae319",
   "metadata": {},
   "source": [
    "# Memosation"
   ]
  },
  {
   "cell_type": "code",
   "execution_count": 3,
   "id": "cc8e3f1e",
   "metadata": {},
   "outputs": [],
   "source": [
    "class Solution(object):\n",
    "    def uniquePaths(self, m, n):\n",
    "        \"\"\"\n",
    "        :type m: int\n",
    "        :type n: int\n",
    "        :rtype: int\n",
    "        \"\"\"\n",
    "\n",
    "        dp = [[-1 for _ in range(n)] for _ in range(m)]\n",
    "        def f(i,j):\n",
    "            if i == 0 and j == 0:\n",
    "                return 1\n",
    "            if i <0 or j < 0:\n",
    "                return 0\n",
    "\n",
    "            if dp[i][j] != -1:\n",
    "                return dp[i][j]\n",
    "\n",
    "            # Now do all the stuff needed\n",
    "           \n",
    "            left = f(i, j-1)\n",
    "            up = f(i-1, j)\n",
    "\n",
    "            # Store the answer\n",
    "            dp[i][j] = left + up\n",
    "\n",
    "            # Sum up all the possible ways\n",
    "            return up + left\n",
    "        return f(m-1,n-1)"
   ]
  },
  {
   "cell_type": "markdown",
   "id": "00b4d59f",
   "metadata": {},
   "source": [
    "# Tabulation"
   ]
  },
  {
   "cell_type": "code",
   "execution_count": 4,
   "id": "803339a3",
   "metadata": {},
   "outputs": [],
   "source": [
    "class Solution(object):\n",
    "    def uniquePaths(self, m, n):\n",
    "        \"\"\"\n",
    "        :type m: int\n",
    "        :type n: int\n",
    "        :rtype: int\n",
    "        \"\"\"\n",
    "\n",
    "        dp = [[-1 for _ in range(n)] for _ in range(m)]\n",
    "        \n",
    "        for i in range(m):\n",
    "            for j in range(n):\n",
    "                if i == 0 and j == 0:\n",
    "                    dp[0][0] = 1\n",
    "                else:\n",
    "                    up = dp[i-1][j] if i > 0 else 0\n",
    "                    left = dp[i][j-1] if j > 0 else 0\n",
    "                    dp[i][j] = up + left\n",
    "                    \n",
    "        return dp[m-1][n-1]"
   ]
  },
  {
   "cell_type": "markdown",
   "id": "c7de74d8",
   "metadata": {},
   "source": [
    "# Space"
   ]
  },
  {
   "cell_type": "code",
   "execution_count": 5,
   "id": "1c1413a8",
   "metadata": {},
   "outputs": [],
   "source": [
    "class Solution(object):\n",
    "    def uniquePaths(self, m, n):\n",
    "        \"\"\"\n",
    "        :type m: int\n",
    "        :type n: int\n",
    "        :rtype: int\n",
    "        \"\"\"\n",
    "        # Initialize a 1D dp array with size n, representing the first row\n",
    "        dp = [1] * n\n",
    "        \n",
    "        # Iterate over each row starting from the second row\n",
    "        for i in range(1, m):\n",
    "            # Update dp array for the current row\n",
    "            for j in range(1, n):\n",
    "                dp[j] = dp[j] + dp[j - 1]\n",
    "        \n",
    "        return dp[n - 1]\n"
   ]
  },
  {
   "cell_type": "code",
   "execution_count": null,
   "id": "a16678ec",
   "metadata": {},
   "outputs": [],
   "source": []
  }
 ],
 "metadata": {
  "kernelspec": {
   "display_name": "Python 3 (ipykernel)",
   "language": "python",
   "name": "python3"
  },
  "language_info": {
   "codemirror_mode": {
    "name": "ipython",
    "version": 3
   },
   "file_extension": ".py",
   "mimetype": "text/x-python",
   "name": "python",
   "nbconvert_exporter": "python",
   "pygments_lexer": "ipython3",
   "version": "3.11.4"
  }
 },
 "nbformat": 4,
 "nbformat_minor": 5
}
