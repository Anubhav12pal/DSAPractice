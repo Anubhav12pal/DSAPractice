{
 "cells": [
  {
   "cell_type": "code",
   "execution_count": 1,
   "id": "268819fc",
   "metadata": {},
   "outputs": [
    {
     "data": {
      "text/plain": [
       "'\\nTry to represent it as an index\\n\\nDo all the possible stuffs at the index\\n\\nSum of all stages\\n\\n\\n\\n'"
      ]
     },
     "execution_count": 1,
     "metadata": {},
     "output_type": "execute_result"
    }
   ],
   "source": [
    "'''\n",
    "Try to represent it as an index\n",
    "\n",
    "Do all the possible stuffs at the index\n",
    "\n",
    "Sum of all stages\n",
    "\n",
    "\n",
    "\n",
    "'''"
   ]
  },
  {
   "cell_type": "code",
   "execution_count": 2,
   "id": "30212001",
   "metadata": {},
   "outputs": [
    {
     "data": {
      "text/plain": [
       "'\\n\\nTo reach a given steps ther eare 2 ways:\\n\\nfrom n-1 and from n-2\\n\\nso we can make it like:\\n\\n\\n'"
      ]
     },
     "execution_count": 2,
     "metadata": {},
     "output_type": "execute_result"
    }
   ],
   "source": [
    "'''\n",
    "\n",
    "To reach a given steps ther eare 2 ways:\n",
    "\n",
    "from n-1 and from n-2\n",
    "\n",
    "so we can make it like:\n",
    "\n",
    "\n",
    "'''"
   ]
  },
  {
   "cell_type": "code",
   "execution_count": 3,
   "id": "ce3799f8",
   "metadata": {},
   "outputs": [],
   "source": [
    "class Solution(object):\n",
    "    def climbStairs(self, n):\n",
    "        \"\"\"\n",
    "        :type n: int\n",
    "        :rtype: int\n",
    "        \"\"\"\n",
    "\n",
    "        if n == 1:\n",
    "            return 1\n",
    "        if n == 2:\n",
    "            return 2\n",
    "        return self.climbStairs(n-1) + self.climbStairs(n-2)"
   ]
  },
  {
   "cell_type": "markdown",
   "id": "5738993c",
   "metadata": {},
   "source": [
    "# Better"
   ]
  },
  {
   "cell_type": "code",
   "execution_count": 4,
   "id": "c0910739",
   "metadata": {},
   "outputs": [],
   "source": [
    "class Solution(object):\n",
    "    def climbStairs(self, n):\n",
    "        \"\"\"\n",
    "        :type n: int\n",
    "        :rtype: int\n",
    "        \"\"\"\n",
    "        dp = [-1] * (n + 1)\n",
    "        return self.f(n, dp)\n",
    "\n",
    "    def f(self, n, dp):\n",
    "        # Base cases\n",
    "        if n == 1:\n",
    "            return 1\n",
    "        if n == 2:\n",
    "            return 2\n",
    "        # Check if the result for dp[n] is already computed\n",
    "        if dp[n] != -1:\n",
    "            return dp[n]\n",
    "        # Compute and store in dp array\n",
    "        dp[n] = self.f(n - 1, dp) + self.f(n - 2, dp)\n",
    "        return dp[n]"
   ]
  },
  {
   "cell_type": "markdown",
   "id": "0a3ba177",
   "metadata": {},
   "source": [
    "# Best`m"
   ]
  },
  {
   "cell_type": "code",
   "execution_count": 6,
   "id": "a4a7217d",
   "metadata": {},
   "outputs": [],
   "source": [
    "class Solution(object):\n",
    "    def climbStairs(self, n):\n",
    "        \"\"\"\n",
    "        :type n: int\n",
    "        :rtype: int\n",
    "        \"\"\"\n",
    "        if n == 1:\n",
    "            return 1\n",
    "        if n == 2:\n",
    "            return 2\n",
    "        \n",
    "        # Initialize variables for the previous two steps\n",
    "        prev1, prev2 = 2, 1\n",
    "        \n",
    "        # Iteratively compute the result up to n\n",
    "        for i in range(3, n + 1):\n",
    "            current = prev1 + prev2\n",
    "            prev2 = prev1  # Shift prev2 to prev1\n",
    "            prev1 = current  # Update prev1 to current result\n",
    "            \n",
    "        return prev1\n"
   ]
  },
  {
   "cell_type": "code",
   "execution_count": null,
   "id": "0e56c3bc",
   "metadata": {},
   "outputs": [],
   "source": []
  }
 ],
 "metadata": {
  "kernelspec": {
   "display_name": "Python 3 (ipykernel)",
   "language": "python",
   "name": "python3"
  },
  "language_info": {
   "codemirror_mode": {
    "name": "ipython",
    "version": 3
   },
   "file_extension": ".py",
   "mimetype": "text/x-python",
   "name": "python",
   "nbconvert_exporter": "python",
   "pygments_lexer": "ipython3",
   "version": "3.11.4"
  }
 },
 "nbformat": 4,
 "nbformat_minor": 5
}
