{
 "cells": [
  {
   "cell_type": "markdown",
   "id": "5a6c22f3",
   "metadata": {},
   "source": [
    "# Memoisation recurion"
   ]
  },
  {
   "cell_type": "code",
   "execution_count": 2,
   "id": "6af94967",
   "metadata": {},
   "outputs": [],
   "source": [
    "class Solution(object):\n",
    "    def minPathSum(self, grid):\n",
    "        \"\"\"\n",
    "        :type grid: List[List[int]]\n",
    "        :rtype: int\n",
    "        \"\"\"\n",
    "        n = len(grid)\n",
    "        m = len(grid[0]) \n",
    "\n",
    "        dp = [[-1 for _ in range(m)] for _ in range(n)]\n",
    "        \n",
    "        def f(i, j):\n",
    "            # Base case\n",
    "            if i == 0 and j == 0:\n",
    "                return grid[0][0]\n",
    "           \n",
    "            if i < 0 or j < 0:\n",
    "                return float('inf')  \n",
    "            # Check if already computed\n",
    "            if dp[i][j] != -1:\n",
    "                return dp[i][j]\n",
    "\n",
    "            # Calculate paths from the top and left\n",
    "            up = f(i - 1, j)  # Moving up\n",
    "            left = f(i, j - 1)  # Moving left\n",
    "            \n",
    "            # Store the minimum path sum for dp[i][j]\n",
    "            dp[i][j] = grid[i][j] + min(up, left)\n",
    "            return dp[i][j]\n",
    "\n",
    "        return f(n - 1, m - 1)"
   ]
  },
  {
   "cell_type": "code",
   "execution_count": null,
   "id": "18c4fec5",
   "metadata": {},
   "outputs": [],
   "source": []
  }
 ],
 "metadata": {
  "kernelspec": {
   "display_name": "Python 3 (ipykernel)",
   "language": "python",
   "name": "python3"
  },
  "language_info": {
   "codemirror_mode": {
    "name": "ipython",
    "version": 3
   },
   "file_extension": ".py",
   "mimetype": "text/x-python",
   "name": "python",
   "nbconvert_exporter": "python",
   "pygments_lexer": "ipython3",
   "version": "3.11.4"
  }
 },
 "nbformat": 4,
 "nbformat_minor": 5
}
