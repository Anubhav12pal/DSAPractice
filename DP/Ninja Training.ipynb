{
 "cells": [
  {
   "cell_type": "code",
   "execution_count": 1,
   "id": "54c041a4",
   "metadata": {},
   "outputs": [
    {
     "data": {
      "text/plain": [
       "\"\\n\\nGeek is going for a training program. He can perform any of these activities: Running, Fighting, and Learning Practice. Each activity has some point on each day. As Geek wants to improve all his skills, he can't do the same activity on two consecutive days. Help Geek to maximize his merit points as you are given a 2D array of points arr, corresponding to each day and activity.\\n\\nExample:\\nInput: n=3 and arr[]= [[1,2,5],[3,1,1],[3,3,3]]\\nOutput:11\\nExplanation:Geek will learn a new move and earn 5 point then on second day he will do running and earn 3 point and on third day he will do fighting and earn 3 points so, maximum point is 11.\\nExpected Time Complexity: O(3*n)\\nExpected Space Complexity: O(3*n)\""
      ]
     },
     "execution_count": 1,
     "metadata": {},
     "output_type": "execute_result"
    }
   ],
   "source": [
    "'''\n",
    "\n",
    "Geek is going for a training program. He can perform any of these activities: Running, Fighting, and Learning Practice. Each activity has some point on each day. As Geek wants to improve all his skills, he can't do the same activity on two consecutive days. Help Geek to maximize his merit points as you are given a 2D array of points arr, corresponding to each day and activity.\n",
    "\n",
    "Example:\n",
    "Input: n=3 and arr[]= [[1,2,5],[3,1,1],[3,3,3]]\n",
    "Output:11\n",
    "Explanation:Geek will learn a new move and earn 5 point then on second day he will do running and earn 3 point and on third day he will do fighting and earn 3 points so, maximum point is 11.\n",
    "Expected Time Complexity: O(3*n)\n",
    "Expected Space Complexity: O(3*n)'''"
   ]
  },
  {
   "cell_type": "markdown",
   "id": "e55eb1e2",
   "metadata": {},
   "source": [
    "# Base Recursion"
   ]
  },
  {
   "cell_type": "code",
   "execution_count": 2,
   "id": "58685291",
   "metadata": {},
   "outputs": [],
   "source": [
    "class Solution:\n",
    "    def maximumPoints(self, arr, n):\n",
    "        # Code \n",
    "        \n",
    "        def f(day, last):\n",
    "            \n",
    "            if day == 0:\n",
    "                m = 0\n",
    "                for i in range(3):\n",
    "                    if i != last:\n",
    "                        m = max(m, arr[day][i])\n",
    "                return m\n",
    "            \n",
    "            maxi = 0\n",
    "            for i in range(3):\n",
    "                if i != last:\n",
    "                    points = arr[day][i] + f(day-1, i)\n",
    "                    maxi = max(maxi, points)\n",
    "            return maxi\n",
    "        \n",
    "        return f(n-1,3)"
   ]
  },
  {
   "cell_type": "markdown",
   "id": "b6ea0680",
   "metadata": {},
   "source": [
    "# Memoisation top down"
   ]
  },
  {
   "cell_type": "code",
   "execution_count": 3,
   "id": "e2fb9788",
   "metadata": {},
   "outputs": [],
   "source": [
    "class Solution:\n",
    "    def maximumPoints(self, arr, n):\n",
    "        # Code \n",
    "        \n",
    "        dp = [[-1] * 4 for _ in range(n)]\n",
    "        \n",
    "        def f(day, last):\n",
    "            \n",
    "            if day == 0:\n",
    "                m = 0\n",
    "                for i in range(3):\n",
    "                    if i != last:\n",
    "                        m = max(m, arr[day][i])\n",
    "                return m\n",
    "            if dp[day][last] != -1:\n",
    "                return dp[day][last]\n",
    "            \n",
    "            maxi = 0\n",
    "            for i in range(3):\n",
    "                if i != last:\n",
    "                    points = arr[day][i] + f(day-1, i)\n",
    "                    maxi = max(maxi, points)\n",
    "            dp[day][last] = maxi\n",
    "            return maxi\n",
    "        \n",
    "        return f(n-1,3)"
   ]
  },
  {
   "cell_type": "code",
   "execution_count": 4,
   "id": "24e70c7e",
   "metadata": {},
   "outputs": [
    {
     "data": {
      "text/plain": [
       "' Just added a dp array to store the porevious tasks'"
      ]
     },
     "execution_count": 4,
     "metadata": {},
     "output_type": "execute_result"
    }
   ],
   "source": [
    "''' Just added a dp array to store the porevious tasks'''"
   ]
  },
  {
   "cell_type": "markdown",
   "id": "bacc746a",
   "metadata": {},
   "source": [
    "# Bottom up"
   ]
  },
  {
   "cell_type": "code",
   "execution_count": 5,
   "id": "fa8743a2",
   "metadata": {},
   "outputs": [],
   "source": [
    "class Solution:\n",
    "    def maximumPoints(self, arr, n):\n",
    "        # Initialize the dp table with 0s\n",
    "        dp = [[0] * 4 for _ in range(n)]\n",
    "        \n",
    "        # Base case for day 0\n",
    "        dp[0][0] = max(arr[0][1], arr[0][2])  # Last activity was 0, so we choose max of activity 1 and 2\n",
    "        dp[0][1] = max(arr[0][0], arr[0][2])  # Last activity was 1, so we choose max of activity 0 and 2\n",
    "        dp[0][2] = max(arr[0][0], arr[0][1])  # Last activity was 2, so we choose max of activity 0 and 1\n",
    "        dp[0][3] = max(arr[0][0], arr[0][1], arr[0][2])  # Last activity was none, so we choose max of all activities\n",
    "\n",
    "        # Fill the dp table for subsequent days\n",
    "        for day in range(1, n):\n",
    "            for last in range(4):\n",
    "                dp[day][last] = 0\n",
    "                for i in range(3):\n",
    "                    if i != last:  # We can't perform the same activity as the previous day\n",
    "                        points = arr[day][i] + dp[day - 1][i]\n",
    "                        dp[day][last] = max(dp[day][last], points)\n",
    "        \n",
    "        # Result is the max points on the last day with any of the activities possible the previous day\n",
    "        return dp[n-1][3]\n"
   ]
  },
  {
   "cell_type": "markdown",
   "id": "308ed5f9",
   "metadata": {},
   "source": [
    "# Space op"
   ]
  },
  {
   "cell_type": "code",
   "execution_count": 7,
   "id": "448f674b",
   "metadata": {},
   "outputs": [],
   "source": [
    "class Solution:\n",
    "    def maximumPoints(self, arr, n):\n",
    "        # Initialize the prev array for the previous day's points\n",
    "        prev = [0] * 4\n",
    "\n",
    "        # Base case for day 0\n",
    "        prev[0] = max(arr[0][1], arr[0][2])  # Last activity was 0\n",
    "        prev[1] = max(arr[0][0], arr[0][2])  # Last activity was 1\n",
    "        prev[2] = max(arr[0][0], arr[0][1])  # Last activity was 2\n",
    "        prev[3] = max(arr[0][0], arr[0][1], arr[0][2])  # No restrictions on last activity\n",
    "\n",
    "        # Process each day from 1 to n-1\n",
    "        for day in range(1, n):\n",
    "            # Prepare a current array for the current day's points\n",
    "            curr = [0] * 4\n",
    "            # Calculate the maximum points for each last activity\n",
    "            curr[0] = max(arr[day][1] + prev[1], arr[day][2] + prev[2])  # Last activity was 0\n",
    "            curr[1] = max(arr[day][0] + prev[0], arr[day][2] + prev[2])  # Last activity was 1\n",
    "            curr[2] = max(arr[day][0] + prev[0], arr[day][1] + prev[1])  # Last activity was 2\n",
    "            curr[3] = max(arr[day][0] + prev[0], arr[day][1] + prev[1], arr[day][2] + prev[2])  # No restrictions\n",
    "\n",
    "            # Move current results to prev for the next day\n",
    "            prev = curr\n",
    "\n",
    "        # The answer is the maximum points on the last day with any activity possible the previous day\n",
    "        return prev[3]\n"
   ]
  },
  {
   "cell_type": "code",
   "execution_count": null,
   "id": "d9bb5b3d",
   "metadata": {},
   "outputs": [],
   "source": []
  }
 ],
 "metadata": {
  "kernelspec": {
   "display_name": "Python 3 (ipykernel)",
   "language": "python",
   "name": "python3"
  },
  "language_info": {
   "codemirror_mode": {
    "name": "ipython",
    "version": 3
   },
   "file_extension": ".py",
   "mimetype": "text/x-python",
   "name": "python",
   "nbconvert_exporter": "python",
   "pygments_lexer": "ipython3",
   "version": "3.11.4"
  }
 },
 "nbformat": 4,
 "nbformat_minor": 5
}
