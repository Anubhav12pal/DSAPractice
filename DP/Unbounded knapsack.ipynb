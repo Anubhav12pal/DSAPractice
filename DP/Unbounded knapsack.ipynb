{
 "cells": [
  {
   "cell_type": "markdown",
   "id": "227858ed",
   "metadata": {},
   "source": [
    "# Memo"
   ]
  },
  {
   "cell_type": "code",
   "execution_count": 1,
   "id": "81d8973b",
   "metadata": {},
   "outputs": [],
   "source": [
    "class Solution:\n",
    "    def knapSack(self, N, W, val, wt):\n",
    "        # code here\n",
    "        n = len(val)\n",
    "        \n",
    "        dp = [[-1 for _ in range(W +1)] for _ in range(n)]\n",
    "        \n",
    "        \n",
    "        def f(index, W):\n",
    "            \n",
    "            if index == 0:\n",
    "                if W >= wt[0]:\n",
    "                    return  val[index]* (W // wt[index])\n",
    "                return 0\n",
    "            if dp[index][W] != -1:\n",
    "                return dp[index][W]\n",
    "                \n",
    "            np = 0 + f(index - 1, W)\n",
    "            p = -float('inf')\n",
    "            if W >= wt[index]:\n",
    "                p = val[index] + f(index, W- wt[index])\n",
    "            dp[index][W] = max(p, np)\n",
    "            return max(np, p)\n",
    "        return f(n-1, W)"
   ]
  },
  {
   "cell_type": "markdown",
   "id": "438b6951",
   "metadata": {},
   "source": [
    "# Tab"
   ]
  },
  {
   "cell_type": "code",
   "execution_count": 2,
   "id": "2aff098b",
   "metadata": {},
   "outputs": [],
   "source": [
    "class Solution:\n",
    "    def knapSack(self, N, W, val, wt):\n",
    "        # code here\n",
    "        n = len(val)\n",
    "        \n",
    "        dp = [[0 for _ in range(W +1)] for _ in range(n)]\n",
    "        \n",
    "        for i in range(W+ 1):\n",
    "            if i >= wt[0]:\n",
    "                dp[0][i] = val[0]* (i // wt[0])\n",
    "        \n",
    "        for i in range(1, n):\n",
    "            for j in range(W + 1):\n",
    "                \n",
    "                np = dp[i-1][j]\n",
    "                p = -float('inf')\n",
    "                if j >= wt[i]:\n",
    "                    p = val[i] + dp[i][j - wt[i]]\n",
    "                dp[i][j] = max(p, np)\n",
    "        return dp[n-1][W]"
   ]
  },
  {
   "cell_type": "markdown",
   "id": "86b9e9dc",
   "metadata": {},
   "source": [
    "# Space"
   ]
  },
  {
   "cell_type": "code",
   "execution_count": 4,
   "id": "c2302064",
   "metadata": {},
   "outputs": [],
   "source": [
    "class Solution:\n",
    "    def knapSack(self, N, W, val, wt):\n",
    "        # Initialize a 1D dp array with 0s, where dp[j] will store the maximum value at weight j\n",
    "        dp = [0] * (W + 1)\n",
    "        \n",
    "        # Fill dp array for each item\n",
    "        for i in range(N):\n",
    "            for j in range(wt[i], W + 1):\n",
    "                dp[j] = max(dp[j], val[i] + dp[j - wt[i]])\n",
    "        \n",
    "        return dp[W]\n"
   ]
  },
  {
   "cell_type": "code",
   "execution_count": null,
   "id": "e523b850",
   "metadata": {},
   "outputs": [],
   "source": []
  }
 ],
 "metadata": {
  "kernelspec": {
   "display_name": "Python 3 (ipykernel)",
   "language": "python",
   "name": "python3"
  },
  "language_info": {
   "codemirror_mode": {
    "name": "ipython",
    "version": 3
   },
   "file_extension": ".py",
   "mimetype": "text/x-python",
   "name": "python",
   "nbconvert_exporter": "python",
   "pygments_lexer": "ipython3",
   "version": "3.11.4"
  }
 },
 "nbformat": 4,
 "nbformat_minor": 5
}
