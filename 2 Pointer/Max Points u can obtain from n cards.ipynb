{
 "cells": [
  {
   "cell_type": "code",
   "execution_count": 1,
   "id": "d52b8d1a",
   "metadata": {},
   "outputs": [],
   "source": [
    "## The consecutive subarray with max sum of consecutive k elements, note u cannot take from middle just form the leg or end"
   ]
  },
  {
   "cell_type": "code",
   "execution_count": 4,
   "id": "e951696c",
   "metadata": {},
   "outputs": [],
   "source": [
    "lis = [6,2,3,4,7,2,1,7,1]"
   ]
  },
  {
   "cell_type": "code",
   "execution_count": 7,
   "id": "6bcd8b91",
   "metadata": {},
   "outputs": [],
   "source": [
    "def f(l,k):\n",
    "    \n",
    "    rightsum = 0\n",
    "    leftsum = 0\n",
    "    maxsum = 0\n",
    "    n = len(l)\n",
    "    \n",
    "    for i in range(0, k):\n",
    "        leftsum += l[i]\n",
    "        \n",
    "    maxsum = leftsum\n",
    "    \n",
    "    # now we slowely dec the left index from k-1 to 0 and dec the right index from n-1 till necessary\n",
    "    \n",
    "    \n",
    "    ri=n-1\n",
    "    \n",
    "    for i in range(k-1, -1, -1):\n",
    "        \n",
    "        leftsum -= l[i]\n",
    "        rightsum += l[ri]\n",
    "        ri -= 1\n",
    "        maxsum = max(maxsum,leftsum+rightsum)\n",
    "        \n",
    "        \n",
    "    return maxsum"
   ]
  },
  {
   "cell_type": "code",
   "execution_count": 8,
   "id": "326251d6",
   "metadata": {},
   "outputs": [
    {
     "data": {
      "text/plain": [
       "16"
      ]
     },
     "execution_count": 8,
     "metadata": {},
     "output_type": "execute_result"
    }
   ],
   "source": [
    "f(lis,4)"
   ]
  },
  {
   "cell_type": "code",
   "execution_count": null,
   "id": "4aaddca9",
   "metadata": {},
   "outputs": [],
   "source": []
  }
 ],
 "metadata": {
  "kernelspec": {
   "display_name": "Python 3 (ipykernel)",
   "language": "python",
   "name": "python3"
  },
  "language_info": {
   "codemirror_mode": {
    "name": "ipython",
    "version": 3
   },
   "file_extension": ".py",
   "mimetype": "text/x-python",
   "name": "python",
   "nbconvert_exporter": "python",
   "pygments_lexer": "ipython3",
   "version": "3.11.4"
  }
 },
 "nbformat": 4,
 "nbformat_minor": 5
}
