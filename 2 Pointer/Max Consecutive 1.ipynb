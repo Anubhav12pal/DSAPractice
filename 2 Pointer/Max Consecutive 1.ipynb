{
 "cells": [
  {
   "cell_type": "markdown",
   "id": "18962cb2",
   "metadata": {},
   "source": [
    "# Part 3"
   ]
  },
  {
   "cell_type": "code",
   "execution_count": 3,
   "id": "0ab9f35b",
   "metadata": {},
   "outputs": [
    {
     "data": {
      "text/plain": [
       "'\\nAn array of 1 and 0\\nand an int k\\nfind max consecutive 1 when u are allowed to flip atmost k 0\\n'"
      ]
     },
     "execution_count": 3,
     "metadata": {},
     "output_type": "execute_result"
    }
   ],
   "source": [
    "'''\n",
    "An array of 1 and 0\n",
    "and an int k\n",
    "find max consecutive 1 when u are allowed to flip atmost k 0\n",
    "'''"
   ]
  },
  {
   "cell_type": "code",
   "execution_count": 4,
   "id": "0602ce8b",
   "metadata": {},
   "outputs": [
    {
     "data": {
      "text/plain": [
       "'\\nMake longest subarray with atmost k 0\\n\\n'"
      ]
     },
     "execution_count": 4,
     "metadata": {},
     "output_type": "execute_result"
    }
   ],
   "source": [
    "'''\n",
    "Make longest subarray with atmost k 0\n",
    "\n",
    "'''"
   ]
  },
  {
   "cell_type": "code",
   "execution_count": 5,
   "id": "d01c81f6",
   "metadata": {},
   "outputs": [],
   "source": [
    "lis = [1,1,1,0,0,0,1,1,1,1,0]"
   ]
  },
  {
   "cell_type": "code",
   "execution_count": 6,
   "id": "4e527538",
   "metadata": {},
   "outputs": [],
   "source": [
    "# Expand till 0's is less than = k\n",
    "# Shrink left till 0's becomes less than =k"
   ]
  },
  {
   "cell_type": "code",
   "execution_count": 7,
   "id": "f1c36e6d",
   "metadata": {},
   "outputs": [],
   "source": [
    "def f(l, k):\n",
    "    le,r,m, z = 0,0,0,0\n",
    "    \n",
    "    while r < len(l):\n",
    "        \n",
    "        if l[r] == 0:\n",
    "            z += 1\n",
    "            \n",
    "        while z > k:\n",
    "            if l[le] == 0:\n",
    "                z -= 1\n",
    "            le += 1\n",
    "        \n",
    "        if z <= k:\n",
    "            leng = r- le + 1\n",
    "            m = max(m, leng)\n",
    "            \n",
    "        r +=1\n",
    "        \n",
    "    return m\n",
    "                 \n",
    "            \n",
    "            \n",
    "         \n",
    "        "
   ]
  },
  {
   "cell_type": "code",
   "execution_count": 8,
   "id": "49836bf8",
   "metadata": {},
   "outputs": [
    {
     "data": {
      "text/plain": [
       "6"
      ]
     },
     "execution_count": 8,
     "metadata": {},
     "output_type": "execute_result"
    }
   ],
   "source": [
    "f(lis,2)"
   ]
  },
  {
   "cell_type": "code",
   "execution_count": null,
   "id": "21c8f494",
   "metadata": {},
   "outputs": [],
   "source": []
  }
 ],
 "metadata": {
  "kernelspec": {
   "display_name": "Python 3 (ipykernel)",
   "language": "python",
   "name": "python3"
  },
  "language_info": {
   "codemirror_mode": {
    "name": "ipython",
    "version": 3
   },
   "file_extension": ".py",
   "mimetype": "text/x-python",
   "name": "python",
   "nbconvert_exporter": "python",
   "pygments_lexer": "ipython3",
   "version": "3.11.4"
  }
 },
 "nbformat": 4,
 "nbformat_minor": 5
}
