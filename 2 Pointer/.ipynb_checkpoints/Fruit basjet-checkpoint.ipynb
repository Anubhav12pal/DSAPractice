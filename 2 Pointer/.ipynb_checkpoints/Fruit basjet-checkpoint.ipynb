{
 "cells": [
  {
   "cell_type": "code",
   "execution_count": 19,
   "id": "459f92b9",
   "metadata": {},
   "outputs": [],
   "source": [
    "l = [3,3,3,1,2,1,1,2,3,3,4]"
   ]
  },
  {
   "cell_type": "code",
   "execution_count": 20,
   "id": "523eb329",
   "metadata": {},
   "outputs": [
    {
     "data": {
      "text/plain": [
       "'\\nat index 0 there is tree 1 and it produces fruit of type 3 and so on\\nSo we have 2 baskets basket 1 can hold only 1 type of fruit and 2 any type but of 1 type only \\n\\nso b1 can have 3 3 3 and 2 only 2 2 2 or 1 1 1 or 4 4 4\\n\\nPick the max fruits\\n\\nFinding max len subarray with atmost 2 type of numbers\\n\\nonce u start picking u cannot put another one\\n\\n\\n\\n'"
      ]
     },
     "execution_count": 20,
     "metadata": {},
     "output_type": "execute_result"
    }
   ],
   "source": [
    "'''\n",
    "at index 0 there is tree 1 and it produces fruit of type 3 and so on\n",
    "So we have 2 baskets basket 1 can hold only 1 type of fruit and 2 any type but of 1 type only \n",
    "\n",
    "so b1 can have 3 3 3 and 2 only 2 2 2 or 1 1 1 or 4 4 4\n",
    "\n",
    "Pick the max fruits\n",
    "\n",
    "Finding max len subarray with atmost 2 type of numbers\n",
    "\n",
    "once u start picking u cannot put another one\n",
    "\n",
    "\n",
    "\n",
    "'''"
   ]
  },
  {
   "cell_type": "code",
   "execution_count": 21,
   "id": "2fe36859",
   "metadata": {},
   "outputs": [
    {
     "data": {
      "text/plain": [
       "'\\n\\nNote the conditions :\\n \\nwe cankeep track of how many elements are there in the map and as we need just 2 we \\nwill add and remove the element based on that.\\n\\nAnd will move the left poiunter according to that:\\n\\n\\nconditions while r < n-1\\n\\nAdd the element into the map first map[l[r]]++\\n\\ncheck for the left shrinking condition to check if u need to shrink or not\\n\\nHere in this cas ethe shrinking condition is if we have more thean 2 elements in the map\\nif map.size > 2\\n\\n then we shrink the map size from the left\\n \\n while map.size > 2:\\n map[l[left]]--\\n if map[l[left]] == 0: delete from the map\\n left ++\\n \\n \\nif map.size <=2:\\nmaxl = max(maxl, r-l+1)\\n\\nright ++\\n \\n \\n\\n\\n'"
      ]
     },
     "execution_count": 21,
     "metadata": {},
     "output_type": "execute_result"
    }
   ],
   "source": [
    "'''\n",
    "\n",
    "Note the conditions :\n",
    " \n",
    "we cankeep track of how many elements are there in the map and as we need just 2 we \n",
    "will add and remove the element based on that.\n",
    "\n",
    "And will move the left poiunter according to that:\n",
    "\n",
    "\n",
    "conditions while r < n-1\n",
    "\n",
    "Add the element into the map first map[l[r]]++\n",
    "\n",
    "check for the left shrinking condition to check if u need to shrink or not\n",
    "\n",
    "Here in this cas ethe shrinking condition is if we have more thean 2 elements in the map\n",
    "if map.size > 2\n",
    "\n",
    " then we shrink the map size from the left\n",
    " \n",
    " while map.size > 2:\n",
    " map[l[left]]--\n",
    " if map[l[left]] == 0: delete from the map\n",
    " left ++\n",
    " \n",
    " \n",
    "if map.size <=2:\n",
    "maxl = max(maxl, r-l+1)\n",
    "\n",
    "right ++\n",
    " \n",
    " \n",
    "\n",
    "\n",
    "'''"
   ]
  },
  {
   "cell_type": "code",
   "execution_count": 22,
   "id": "5c5c3b2f",
   "metadata": {},
   "outputs": [],
   "source": [
    "def f(l):\n",
    "    \n",
    "    m = {}\n",
    "    \n",
    "    le,r,ml = 0,0,0\n",
    "    \n",
    "    n = len(l)\n",
    "    \n",
    "    while r < n:\n",
    "        \n",
    "        m[l[r]] = 1 + m.get(l[r], 0)\n",
    "        \n",
    "        if len(m) > 2:\n",
    "            while len(m) > 2:\n",
    "                m[l[le]] = m[l[le]] - 1\n",
    "                if m[l[le]] == 0:\n",
    "                    m.pop(l[le])\n",
    "                    \n",
    "                le +=1\n",
    "                \n",
    "        if len(m) <= 2:\n",
    "            ml = max(ml, r-le+1)\n",
    "            \n",
    "        r += 1\n",
    "    \n",
    "    print(ml)\n",
    "        \n",
    "        \n",
    " "
   ]
  },
  {
   "cell_type": "code",
   "execution_count": 23,
   "id": "a9401080",
   "metadata": {},
   "outputs": [
    {
     "name": "stdout",
     "output_type": "stream",
     "text": [
      "5\n"
     ]
    }
   ],
   "source": [
    "f(l)"
   ]
  },
  {
   "cell_type": "code",
   "execution_count": null,
   "id": "545d5c98",
   "metadata": {},
   "outputs": [],
   "source": []
  }
 ],
 "metadata": {
  "kernelspec": {
   "display_name": "Python 3 (ipykernel)",
   "language": "python",
   "name": "python3"
  },
  "language_info": {
   "codemirror_mode": {
    "name": "ipython",
    "version": 3
   },
   "file_extension": ".py",
   "mimetype": "text/x-python",
   "name": "python",
   "nbconvert_exporter": "python",
   "pygments_lexer": "ipython3",
   "version": "3.11.4"
  }
 },
 "nbformat": 4,
 "nbformat_minor": 5
}
