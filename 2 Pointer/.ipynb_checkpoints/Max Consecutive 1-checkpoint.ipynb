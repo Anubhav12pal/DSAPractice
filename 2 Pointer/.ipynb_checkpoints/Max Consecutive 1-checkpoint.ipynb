{
 "cells": [
  {
   "cell_type": "markdown",
   "id": "18962cb2",
   "metadata": {},
   "source": [
    "# Part 3"
   ]
  },
  {
   "cell_type": "code",
   "execution_count": 5,
   "id": "0ab9f35b",
   "metadata": {},
   "outputs": [
    {
     "data": {
      "text/plain": [
       "'\\nAn array of 1 and 0\\nand an int k\\nfind max consecutive 1 when u are allowed to flip atmost k 0\\n'"
      ]
     },
     "execution_count": 5,
     "metadata": {},
     "output_type": "execute_result"
    }
   ],
   "source": [
    "'''\n",
    "An array of 1 and 0\n",
    "and an int k\n",
    "find max consecutive 1 when u are allowed to flip atmost k 0\n",
    "'''"
   ]
  },
  {
   "cell_type": "code",
   "execution_count": 6,
   "id": "0602ce8b",
   "metadata": {},
   "outputs": [
    {
     "data": {
      "text/plain": [
       "'\\nMake longest subarray with atmost k 0\\n\\n'"
      ]
     },
     "execution_count": 6,
     "metadata": {},
     "output_type": "execute_result"
    }
   ],
   "source": [
    "'''\n",
    "Make longest subarray with atmost k 0\n",
    "\n",
    "'''"
   ]
  },
  {
   "cell_type": "code",
   "execution_count": 7,
   "id": "d01c81f6",
   "metadata": {},
   "outputs": [],
   "source": [
    "lis = [1,1,1,0,0,0,1,1,1,1,0]"
   ]
  },
  {
   "cell_type": "code",
   "execution_count": 8,
   "id": "4e527538",
   "metadata": {},
   "outputs": [],
   "source": [
    "# Expand till 0's is less than = k\n",
    "# Shrink left till 0's becomes less than =k"
   ]
  },
  {
   "cell_type": "code",
   "execution_count": 9,
   "id": "f1c36e6d",
   "metadata": {},
   "outputs": [],
   "source": [
    "def f(l, k):\n",
    "    le,r,m, z = 0,0,0,0\n",
    "    \n",
    "    while r < len(l):\n",
    "        \n",
    "        if l[r] == 0:\n",
    "            z += 1\n",
    "            \n",
    "        while z > k:\n",
    "            if l[le] == 0:\n",
    "                z -= 1\n",
    "            le += 1\n",
    "        \n",
    "        if z <= k:\n",
    "            leng = r- le + 1\n",
    "            m = max(m, leng)\n",
    "            \n",
    "        r +=1\n",
    "        \n",
    "    return m\n",
    "                 \n",
    "            \n",
    "            \n",
    "         \n",
    "        "
   ]
  },
  {
   "cell_type": "code",
   "execution_count": 10,
   "id": "49836bf8",
   "metadata": {},
   "outputs": [
    {
     "data": {
      "text/plain": [
       "6"
      ]
     },
     "execution_count": 10,
     "metadata": {},
     "output_type": "execute_result"
    }
   ],
   "source": [
    "f(lis,2)"
   ]
  },
  {
   "cell_type": "markdown",
   "id": "a67da8fc",
   "metadata": {},
   "source": [
    "# Most optmal"
   ]
  },
  {
   "cell_type": "code",
   "execution_count": 11,
   "id": "79d9a077",
   "metadata": {},
   "outputs": [
    {
     "data": {
      "text/plain": [
       "\"\\n\\nSlightly smarter\\n\\nwhen we meet the number of 0's that has exceed the k instead of trimming it all the way\\n\\nInstead of shrinking the l till we find a 0 and dec the num of z <=k we can just increment the l by 1 and :\\nSo in this move l with r unless the condition of z <= k is met\\n\\nHere is the dry run of both:\\n\\n1st:  1,1,1,0,0,0,1,1,1,1,0   and k = 2\\n      l.      r.            here it os ok\\n      l.        r.          the num of 0 is greater than k as z = 3 now\\n      shrink\\n            l.  r.           we found a 0 to shrink z we do z = z-1\\n              l r            now as z = 2 we can continue the r pointer as usual\\n              l.          r.  and calc the len\\n              \\n2nd:  1,1,1,0,0,0,1,1,1,1,0\\n\\n\\n\""
      ]
     },
     "execution_count": 11,
     "metadata": {},
     "output_type": "execute_result"
    }
   ],
   "source": [
    "'''\n",
    "\n",
    "Slightly smarter\n",
    "\n",
    "when we meet the number of 0's that has exceed the k instead of trimming it all the way\n",
    "\n",
    "Instead of shrinking the l till we find a 0 and dec the num of z <=k we can just increment the l by 1 and :\n",
    "So in this move l with r unless the condition of z <= k is met\n",
    "\n",
    "Here is the dry run of both:\n",
    "\n",
    "1st:  1,1,1,0,0,0,1,1,1,1,0   and k = 2\n",
    "      l.      r.            here it os ok\n",
    "      l.        r.          the num of 0 is greater than k as z = 3 now\n",
    "      shrink\n",
    "            l.  r.           we found a 0 to shrink z we do z = z-1\n",
    "              l r            now as z = 2 we can continue the r pointer as usual\n",
    "              l.          r.  and calc the len\n",
    "              \n",
    "2nd:  1,1,1,0,0,0,1,1,1,1,0\n",
    "\n",
    "\n",
    "'''"
   ]
  },
  {
   "cell_type": "code",
   "execution_count": 16,
   "id": "0f03a8d6",
   "metadata": {},
   "outputs": [],
   "source": [
    "def f2(li,k):\n",
    "    \n",
    "    l,r,z,m = 0,0,0,0\n",
    "    \n",
    "    n = len(li)\n",
    "    \n",
    "    while r < n:\n",
    "        \n",
    "        if li[r] == 0:\n",
    "            z += 1\n",
    "            \n",
    "        if z > k:\n",
    "            if li[l] == 0:\n",
    "                z -=1\n",
    "            l += 1\n",
    "            \n",
    "        if z <= k:\n",
    "            leng = r-l +1\n",
    "            m = max(m, leng)\n",
    "            \n",
    "        r +=1\n",
    "        \n",
    "    return m\n",
    "        \n",
    "    \n",
    "    \n",
    "    "
   ]
  },
  {
   "cell_type": "code",
   "execution_count": 17,
   "id": "beab82f0",
   "metadata": {},
   "outputs": [
    {
     "data": {
      "text/plain": [
       "6"
      ]
     },
     "execution_count": 17,
     "metadata": {},
     "output_type": "execute_result"
    }
   ],
   "source": [
    "f2(lis,2)"
   ]
  },
  {
   "cell_type": "code",
   "execution_count": null,
   "id": "511e64e4",
   "metadata": {},
   "outputs": [],
   "source": []
  }
 ],
 "metadata": {
  "kernelspec": {
   "display_name": "Python 3 (ipykernel)",
   "language": "python",
   "name": "python3"
  },
  "language_info": {
   "codemirror_mode": {
    "name": "ipython",
    "version": 3
   },
   "file_extension": ".py",
   "mimetype": "text/x-python",
   "name": "python",
   "nbconvert_exporter": "python",
   "pygments_lexer": "ipython3",
   "version": "3.11.4"
  }
 },
 "nbformat": 4,
 "nbformat_minor": 5
}
