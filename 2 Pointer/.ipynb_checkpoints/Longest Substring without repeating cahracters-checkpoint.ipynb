{
 "cells": [
  {
   "cell_type": "code",
   "execution_count": 1,
   "id": "c4e103ad",
   "metadata": {},
   "outputs": [],
   "source": [
    "s = \"cadbzabcd\"\n"
   ]
  },
  {
   "cell_type": "code",
   "execution_count": 2,
   "id": "5b767a9a",
   "metadata": {},
   "outputs": [],
   "source": [
    "# Brute running 2 for loopsand keep track of character in a map"
   ]
  },
  {
   "cell_type": "markdown",
   "id": "25ab0573",
   "metadata": {},
   "source": [
    "# Optimal"
   ]
  },
  {
   "cell_type": "code",
   "execution_count": 14,
   "id": "6348cff0",
   "metadata": {},
   "outputs": [],
   "source": [
    "def f(s):\n",
    "    l, r = 0,0\n",
    "    mx = 0\n",
    "    mp = {}\n",
    "    \n",
    "    while r < len(s):\n",
    "        \n",
    "        if s[r] in mp:\n",
    "            if mp[s[r]] >= l:\n",
    "                l = mp[s[r]] + 1\n",
    "                \n",
    "        le = r - l +1\n",
    "        mx = max(mx, le)\n",
    "        mp[s[r]] = r\n",
    "        r +=1\n",
    "        \n",
    "    return mx"
   ]
  },
  {
   "cell_type": "code",
   "execution_count": 15,
   "id": "16a64bb5",
   "metadata": {},
   "outputs": [
    {
     "data": {
      "text/plain": [
       "5"
      ]
     },
     "execution_count": 15,
     "metadata": {},
     "output_type": "execute_result"
    }
   ],
   "source": [
    "f(s)"
   ]
  },
  {
   "cell_type": "code",
   "execution_count": 16,
   "id": "a18a29be",
   "metadata": {},
   "outputs": [
    {
     "data": {
      "text/plain": [
       "'\\nHello\\n'"
      ]
     },
     "execution_count": 16,
     "metadata": {},
     "output_type": "execute_result"
    }
   ],
   "source": [
    "'''\n",
    "Hello\n",
    "'''"
   ]
  },
  {
   "cell_type": "code",
   "execution_count": null,
   "id": "f7879e24",
   "metadata": {},
   "outputs": [],
   "source": []
  }
 ],
 "metadata": {
  "kernelspec": {
   "display_name": "Python 3 (ipykernel)",
   "language": "python",
   "name": "python3"
  },
  "language_info": {
   "codemirror_mode": {
    "name": "ipython",
    "version": 3
   },
   "file_extension": ".py",
   "mimetype": "text/x-python",
   "name": "python",
   "nbconvert_exporter": "python",
   "pygments_lexer": "ipython3",
   "version": "3.11.4"
  }
 },
 "nbformat": 4,
 "nbformat_minor": 5
}
