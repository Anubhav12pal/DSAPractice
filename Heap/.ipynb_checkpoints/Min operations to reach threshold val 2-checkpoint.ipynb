{
 "cells": [
  {
   "cell_type": "code",
   "execution_count": 15,
   "id": "6455948c",
   "metadata": {},
   "outputs": [],
   "source": [
    "class Solution:\n",
    "    def minOperations(self, nums, k):\n",
    "\n",
    "\n",
    "        heap = []\n",
    "\n",
    "        for i in nums:\n",
    "\n",
    "            heapq.heappush(heap, i)\n",
    "        \n",
    "        c = 0\n",
    "\n",
    "\n",
    "        while heap[0] < k:\n",
    "\n",
    "            n1 = heapq.heappop(heap)\n",
    "            n2 = heapq.heappop(heap)\n",
    "\n",
    "            t = min(n1, n2) *2 + max(n1, n2)\n",
    "            heapq.heappush(heap,t)\n",
    "            c += 1\n",
    "        return c\n",
    "\n",
    "        "
   ]
  },
  {
   "cell_type": "code",
   "execution_count": 17,
   "id": "8632fd22",
   "metadata": {},
   "outputs": [],
   "source": [
    "class Solution:\n",
    "    def minOperations(self, nums, k) :\n",
    "        heapq.heapify(nums) # turn nums into min heap\n",
    "        operations = 0\n",
    "        x = heapq.heappop(nums) # lowest num\n",
    "        while x < k: # continue until lowest num >= k\n",
    "            new_num = x * 2 + heapq.heappop(nums) # min(x,y) = x, max(x,y) = y\n",
    "            x = heapq.heappushpop(nums, new_num) # add new num and pop lowest\n",
    "            operations += 1\n",
    "\n",
    "        return operations"
   ]
  },
  {
   "cell_type": "code",
   "execution_count": 18,
   "id": "15c28c92",
   "metadata": {},
   "outputs": [
    {
     "data": {
      "text/plain": [
       "'\\n\\nWithout extra space\\n\\n'"
      ]
     },
     "execution_count": 18,
     "metadata": {},
     "output_type": "execute_result"
    }
   ],
   "source": [
    "'''\n",
    "\n",
    "Without extra space\n",
    "\n",
    "'''"
   ]
  },
  {
   "cell_type": "code",
   "execution_count": null,
   "id": "0d6733d6",
   "metadata": {},
   "outputs": [],
   "source": []
  }
 ],
 "metadata": {
  "kernelspec": {
   "display_name": "Python 3 (ipykernel)",
   "language": "python",
   "name": "python3"
  },
  "language_info": {
   "codemirror_mode": {
    "name": "ipython",
    "version": 3
   },
   "file_extension": ".py",
   "mimetype": "text/x-python",
   "name": "python",
   "nbconvert_exporter": "python",
   "pygments_lexer": "ipython3",
   "version": "3.11.4"
  }
 },
 "nbformat": 4,
 "nbformat_minor": 5
}
