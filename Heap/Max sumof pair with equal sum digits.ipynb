{
 "cells": [
  {
   "cell_type": "code",
   "execution_count": 20,
   "id": "4c31342f",
   "metadata": {},
   "outputs": [],
   "source": [
    "    import heapq\n",
    "    def maximumSum(nums):\n",
    "\n",
    "\n",
    "        m = {}\n",
    "\n",
    "\n",
    "        for i in nums:\n",
    "\n",
    "            su = 0\n",
    "            t = i\n",
    "\n",
    "            while i:\n",
    "\n",
    "                su += i % 10\n",
    "                i = i // 10\n",
    "            if su not in m:\n",
    "                m[su] = []\n",
    "            heapq.heappush(m[su], -t)\n",
    "        ans = -float('inf')\n",
    "        \n",
    "        for lis in m.values():\n",
    "        \n",
    "            if len(lis) <2:\n",
    "                continue\n",
    "\n",
    "            f = -heapq.heappop(lis)\n",
    "            s = -heapq.heappop(lis)\n",
    "\n",
    "            ans = max(ans, f + s)\n",
    "            \n",
    "        if ans == -float('inf'):\n",
    "            return -1\n",
    "        return ans"
   ]
  },
  {
   "cell_type": "code",
   "execution_count": 21,
   "id": "09693efe",
   "metadata": {},
   "outputs": [
    {
     "data": {
      "text/plain": [
       "54"
      ]
     },
     "execution_count": 21,
     "metadata": {},
     "output_type": "execute_result"
    }
   ],
   "source": [
    "\n",
    "maximumSum([18,43,36,13,7])"
   ]
  },
  {
   "cell_type": "code",
   "execution_count": 22,
   "id": "7ec4fd79",
   "metadata": {},
   "outputs": [
    {
     "data": {
      "text/plain": [
       "'\\nO(nlog n)\\n\\n\\n'"
      ]
     },
     "execution_count": 22,
     "metadata": {},
     "output_type": "execute_result"
    }
   ],
   "source": [
    "'''\n",
    "O(nlog n)\n",
    "\n",
    "\n",
    "'''"
   ]
  },
  {
   "cell_type": "code",
   "execution_count": 23,
   "id": "522637ed",
   "metadata": {},
   "outputs": [
    {
     "data": {
      "text/plain": [
       "'\\nBetter below\\n\\n'"
      ]
     },
     "execution_count": 23,
     "metadata": {},
     "output_type": "execute_result"
    }
   ],
   "source": [
    "'''\n",
    "Better below\n",
    "\n",
    "'''"
   ]
  },
  {
   "cell_type": "code",
   "execution_count": 26,
   "id": "ee69ada8",
   "metadata": {},
   "outputs": [],
   "source": [
    "'''\n",
    "Here i better my algo by calcualting each ans at the step and jjsut storing the max value for that digit sum number\n",
    "here heap push and pop are remived making O(n)\n",
    "\n",
    "'''\n",
    "\n",
    "class Solution:\n",
    "    def maximumSum(self, nums):\n",
    "\n",
    "\n",
    "        m = {}\n",
    "        ans = -float('inf')\n",
    "\n",
    "\n",
    "        for i in nums:\n",
    "\n",
    "            su = 0\n",
    "            t = i\n",
    "\n",
    "            while i:\n",
    "\n",
    "                su += i % 10\n",
    "                i = i // 10\n",
    "            if su not in m:\n",
    "                m[su] = t\n",
    "            else:\n",
    "                ans = max(ans, m[su] + t)\n",
    "                m[su] = max(m[su], t)\n",
    "            \n",
    "        \n",
    "        \n",
    "        if ans == -float('inf'):\n",
    "            return -1\n",
    "        return ans\n",
    "            \n",
    "        "
   ]
  },
  {
   "cell_type": "code",
   "execution_count": null,
   "id": "9e00ab13",
   "metadata": {},
   "outputs": [],
   "source": []
  }
 ],
 "metadata": {
  "kernelspec": {
   "display_name": "Python 3 (ipykernel)",
   "language": "python",
   "name": "python3"
  },
  "language_info": {
   "codemirror_mode": {
    "name": "ipython",
    "version": 3
   },
   "file_extension": ".py",
   "mimetype": "text/x-python",
   "name": "python",
   "nbconvert_exporter": "python",
   "pygments_lexer": "ipython3",
   "version": "3.11.4"
  }
 },
 "nbformat": 4,
 "nbformat_minor": 5
}
